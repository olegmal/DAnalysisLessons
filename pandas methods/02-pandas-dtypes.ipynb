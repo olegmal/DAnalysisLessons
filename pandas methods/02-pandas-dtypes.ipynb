{
 "cells": [
  {
   "cell_type": "markdown",
   "id": "bba91f02",
   "metadata": {},
   "source": [
    "<a target=\"_blank\" href=\"https://colab.research.google.com/github/victorlymarev/pandas/blob/main/notebooks/02-pandas-dtypes.ipynb\">\n",
    "  <img src=\"https://colab.research.google.com/assets/colab-badge.svg\" alt=\"Open In Colab\"/>\n",
    "</a>"
   ]
  },
  {
   "cell_type": "markdown",
   "id": "b19db1d1",
   "metadata": {},
   "source": [
    "# Изменение типов данных\n",
    "#### [Ссылка на видео](https://youtu.be/5aZZS8rTnj0)"
   ]
  },
  {
   "cell_type": "markdown",
   "id": "9a30f74c",
   "metadata": {},
   "source": [
    "Импортируем библиотеки. Библитека os нужна, чтобы вы не скачивали таблицу второй раз если она у вас уже скачана, и скачалаи ее, если она у вас не скачана"
   ]
  },
  {
   "cell_type": "code",
   "execution_count": 1,
   "id": "1503d8be",
   "metadata": {},
   "outputs": [],
   "source": [
    "import os\n",
    "import pandas as pd"
   ]
  },
  {
   "cell_type": "markdown",
   "id": "a8767ee0",
   "metadata": {},
   "source": [
    "#### Проверить к какому классу относится объект, можно при помощи функции type"
   ]
  },
  {
   "cell_type": "code",
   "execution_count": 2,
   "id": "c7fc9422",
   "metadata": {},
   "outputs": [
    {
     "data": {
      "text/plain": [
       "int"
      ]
     },
     "execution_count": 2,
     "metadata": {},
     "output_type": "execute_result"
    }
   ],
   "source": [
    "type(123)"
   ]
  },
  {
   "cell_type": "code",
   "execution_count": 3,
   "id": "8923b24d",
   "metadata": {},
   "outputs": [
    {
     "data": {
      "text/plain": [
       "str"
      ]
     },
     "execution_count": 3,
     "metadata": {},
     "output_type": "execute_result"
    }
   ],
   "source": [
    "type('123')"
   ]
  },
  {
   "cell_type": "markdown",
   "id": "eb9ae42b",
   "metadata": {},
   "source": [
    "От того, к какому классу принадлежит отбъект, зависят его свойства"
   ]
  },
  {
   "cell_type": "code",
   "execution_count": 4,
   "id": "bb671f8f",
   "metadata": {},
   "outputs": [
    {
     "data": {
      "text/plain": [
       "3"
      ]
     },
     "execution_count": 4,
     "metadata": {},
     "output_type": "execute_result"
    }
   ],
   "source": [
    "1 + 2"
   ]
  },
  {
   "cell_type": "code",
   "execution_count": 5,
   "id": "f272b9b1",
   "metadata": {},
   "outputs": [
    {
     "data": {
      "text/plain": [
       "'12'"
      ]
     },
     "execution_count": 5,
     "metadata": {},
     "output_type": "execute_result"
    }
   ],
   "source": [
    "'1' + '2'"
   ]
  },
  {
   "cell_type": "code",
   "execution_count": 6,
   "id": "36427272",
   "metadata": {},
   "outputs": [
    {
     "data": {
      "text/plain": [
       "[1, 2, 3, 4, 5]"
      ]
     },
     "execution_count": 6,
     "metadata": {},
     "output_type": "execute_result"
    }
   ],
   "source": [
    "[1, 2, 3, 4, 5]"
   ]
  },
  {
   "cell_type": "markdown",
   "id": "1a6ac68d",
   "metadata": {},
   "source": [
    "Читаем таблицу"
   ]
  },
  {
   "cell_type": "code",
   "execution_count": 7,
   "id": "12b572c2",
   "metadata": {},
   "outputs": [
    {
     "data": {
      "text/html": [
       "<div>\n",
       "<style scoped>\n",
       "    .dataframe tbody tr th:only-of-type {\n",
       "        vertical-align: middle;\n",
       "    }\n",
       "\n",
       "    .dataframe tbody tr th {\n",
       "        vertical-align: top;\n",
       "    }\n",
       "\n",
       "    .dataframe thead th {\n",
       "        text-align: right;\n",
       "    }\n",
       "</style>\n",
       "<table border=\"1\" class=\"dataframe\">\n",
       "  <thead>\n",
       "    <tr style=\"text-align: right;\">\n",
       "      <th></th>\n",
       "      <th>Имя</th>\n",
       "      <th>Фамилия</th>\n",
       "      <th>Число детей</th>\n",
       "      <th>Площадь дома</th>\n",
       "      <th>Дата рождения</th>\n",
       "      <th>Женат/Замужем</th>\n",
       "    </tr>\n",
       "  </thead>\n",
       "  <tbody>\n",
       "    <tr>\n",
       "      <th>0</th>\n",
       "      <td>Илья</td>\n",
       "      <td>Васильев</td>\n",
       "      <td>0</td>\n",
       "      <td>56.3</td>\n",
       "      <td>1996-11-30</td>\n",
       "      <td>False</td>\n",
       "    </tr>\n",
       "    <tr>\n",
       "      <th>1</th>\n",
       "      <td>Антон</td>\n",
       "      <td>Алексеев</td>\n",
       "      <td>2</td>\n",
       "      <td>77.0</td>\n",
       "      <td>1976-02-29</td>\n",
       "      <td>True</td>\n",
       "    </tr>\n",
       "    <tr>\n",
       "      <th>2</th>\n",
       "      <td>Надежда</td>\n",
       "      <td>Гусева</td>\n",
       "      <td>3</td>\n",
       "      <td>103.1</td>\n",
       "      <td>1964-09-26</td>\n",
       "      <td>True</td>\n",
       "    </tr>\n",
       "    <tr>\n",
       "      <th>3</th>\n",
       "      <td>Артем</td>\n",
       "      <td>Павлов</td>\n",
       "      <td>5</td>\n",
       "      <td>134.9</td>\n",
       "      <td>1980-05-18</td>\n",
       "      <td>True</td>\n",
       "    </tr>\n",
       "    <tr>\n",
       "      <th>4</th>\n",
       "      <td>Александр</td>\n",
       "      <td>Николаев</td>\n",
       "      <td>1</td>\n",
       "      <td>47.0</td>\n",
       "      <td>1959-02-24</td>\n",
       "      <td>True</td>\n",
       "    </tr>\n",
       "    <tr>\n",
       "      <th>5</th>\n",
       "      <td>Дмитрий</td>\n",
       "      <td>Печенкин</td>\n",
       "      <td>2</td>\n",
       "      <td>61.0</td>\n",
       "      <td>1939-04-05</td>\n",
       "      <td>False</td>\n",
       "    </tr>\n",
       "    <tr>\n",
       "      <th>6</th>\n",
       "      <td>Дарья</td>\n",
       "      <td>Воробева</td>\n",
       "      <td>3</td>\n",
       "      <td>NaN</td>\n",
       "      <td>1997-07-23</td>\n",
       "      <td>True</td>\n",
       "    </tr>\n",
       "  </tbody>\n",
       "</table>\n",
       "</div>"
      ],
      "text/plain": [
       "         Имя   Фамилия  Число детей  Площадь дома Дата рождения  Женат/Замужем\n",
       "0       Илья  Васильев            0          56.3    1996-11-30          False\n",
       "1      Антон  Алексеев            2          77.0    1976-02-29           True\n",
       "2    Надежда    Гусева            3         103.1    1964-09-26           True\n",
       "3      Артем    Павлов            5         134.9    1980-05-18           True\n",
       "4  Александр  Николаев            1          47.0    1959-02-24           True\n",
       "5    Дмитрий  Печенкин            2          61.0    1939-04-05          False\n",
       "6      Дарья  Воробева            3           NaN    1997-07-23           True"
      ]
     },
     "execution_count": 7,
     "metadata": {},
     "output_type": "execute_result"
    }
   ],
   "source": [
    "path_people = '../tables/people.parquet' if os.path.exists('../tables/people.parquet') else 'https://drive.google.com/uc?id=1iI1Lde5ya3ruztGYmjpprSCUoCU9rBeS'\n",
    "\n",
    "people = pd.read_parquet(path_people)\n",
    "people"
   ]
  },
  {
   "cell_type": "code",
   "execution_count": 8,
   "id": "d3a5bd76",
   "metadata": {},
   "outputs": [
    {
     "data": {
      "text/plain": [
       "0    Васильев\n",
       "1    Алексеев\n",
       "2      Гусева\n",
       "3      Павлов\n",
       "4    Николаев\n",
       "5    Печенкин\n",
       "6    Воробева\n",
       "Name: Фамилия, dtype: string"
      ]
     },
     "execution_count": 8,
     "metadata": {},
     "output_type": "execute_result"
    }
   ],
   "source": [
    "people['Фамилия']"
   ]
  },
  {
   "cell_type": "code",
   "execution_count": 9,
   "id": "5ce6bb21",
   "metadata": {},
   "outputs": [
    {
     "data": {
      "text/plain": [
       "0    0\n",
       "1    2\n",
       "2    3\n",
       "3    5\n",
       "4    1\n",
       "5    2\n",
       "6    3\n",
       "Name: Число детей, dtype: int64"
      ]
     },
     "execution_count": 9,
     "metadata": {},
     "output_type": "execute_result"
    }
   ],
   "source": [
    "people['Число детей']"
   ]
  },
  {
   "cell_type": "markdown",
   "id": "ab2acf31",
   "metadata": {},
   "source": [
    "### info\n",
    "\n",
    "Метод выводит на экран таблицу, в которой указаны название столбца, число заполненых ячейк и тип данных в стобце"
   ]
  },
  {
   "cell_type": "code",
   "execution_count": 10,
   "id": "52471f3c",
   "metadata": {},
   "outputs": [
    {
     "name": "stdout",
     "output_type": "stream",
     "text": [
      "<class 'pandas.core.frame.DataFrame'>\n",
      "RangeIndex: 7 entries, 0 to 6\n",
      "Data columns (total 6 columns):\n",
      " #   Column         Non-Null Count  Dtype         \n",
      "---  ------         --------------  -----         \n",
      " 0   Имя            7 non-null      object        \n",
      " 1   Фамилия        7 non-null      string        \n",
      " 2   Число детей    7 non-null      int64         \n",
      " 3   Площадь дома   6 non-null      float64       \n",
      " 4   Дата рождения  7 non-null      datetime64[ns]\n",
      " 5   Женат/Замужем  7 non-null      bool          \n",
      "dtypes: bool(1), datetime64[ns](1), float64(1), int64(1), object(1), string(1)\n",
      "memory usage: 419.0+ bytes\n"
     ]
    }
   ],
   "source": [
    "people.info()"
   ]
  },
  {
   "cell_type": "code",
   "execution_count": 11,
   "id": "3c0e0848",
   "metadata": {},
   "outputs": [
    {
     "data": {
      "text/html": [
       "<div>\n",
       "<style scoped>\n",
       "    .dataframe tbody tr th:only-of-type {\n",
       "        vertical-align: middle;\n",
       "    }\n",
       "\n",
       "    .dataframe tbody tr th {\n",
       "        vertical-align: top;\n",
       "    }\n",
       "\n",
       "    .dataframe thead th {\n",
       "        text-align: right;\n",
       "    }\n",
       "</style>\n",
       "<table border=\"1\" class=\"dataframe\">\n",
       "  <thead>\n",
       "    <tr style=\"text-align: right;\">\n",
       "      <th></th>\n",
       "      <th>Имя</th>\n",
       "      <th>Фамилия</th>\n",
       "      <th>Число детей</th>\n",
       "      <th>Площадь дома</th>\n",
       "      <th>Дата рождения</th>\n",
       "      <th>Женат/Замужем</th>\n",
       "    </tr>\n",
       "  </thead>\n",
       "  <tbody>\n",
       "    <tr>\n",
       "      <th>0</th>\n",
       "      <td>Илья</td>\n",
       "      <td>Васильев</td>\n",
       "      <td>0</td>\n",
       "      <td>56.3</td>\n",
       "      <td>1996-11-30</td>\n",
       "      <td>False</td>\n",
       "    </tr>\n",
       "    <tr>\n",
       "      <th>1</th>\n",
       "      <td>Антон</td>\n",
       "      <td>Алексеев</td>\n",
       "      <td>2</td>\n",
       "      <td>77.0</td>\n",
       "      <td>1976-02-29</td>\n",
       "      <td>True</td>\n",
       "    </tr>\n",
       "    <tr>\n",
       "      <th>2</th>\n",
       "      <td>Надежда</td>\n",
       "      <td>Гусева</td>\n",
       "      <td>3</td>\n",
       "      <td>103.1</td>\n",
       "      <td>1964-09-26</td>\n",
       "      <td>True</td>\n",
       "    </tr>\n",
       "    <tr>\n",
       "      <th>3</th>\n",
       "      <td>Артем</td>\n",
       "      <td>Павлов</td>\n",
       "      <td>5</td>\n",
       "      <td>134.9</td>\n",
       "      <td>1980-05-18</td>\n",
       "      <td>True</td>\n",
       "    </tr>\n",
       "    <tr>\n",
       "      <th>4</th>\n",
       "      <td>Александр</td>\n",
       "      <td>Николаев</td>\n",
       "      <td>1</td>\n",
       "      <td>47.0</td>\n",
       "      <td>1959-02-24</td>\n",
       "      <td>True</td>\n",
       "    </tr>\n",
       "    <tr>\n",
       "      <th>5</th>\n",
       "      <td>Дмитрий</td>\n",
       "      <td>Печенкин</td>\n",
       "      <td>2</td>\n",
       "      <td>61.0</td>\n",
       "      <td>1939-04-05</td>\n",
       "      <td>False</td>\n",
       "    </tr>\n",
       "    <tr>\n",
       "      <th>6</th>\n",
       "      <td>Дарья</td>\n",
       "      <td>Воробева</td>\n",
       "      <td>3</td>\n",
       "      <td>NaN</td>\n",
       "      <td>1997-07-23</td>\n",
       "      <td>True</td>\n",
       "    </tr>\n",
       "  </tbody>\n",
       "</table>\n",
       "</div>"
      ],
      "text/plain": [
       "         Имя   Фамилия  Число детей  Площадь дома Дата рождения  Женат/Замужем\n",
       "0       Илья  Васильев            0          56.3    1996-11-30          False\n",
       "1      Антон  Алексеев            2          77.0    1976-02-29           True\n",
       "2    Надежда    Гусева            3         103.1    1964-09-26           True\n",
       "3      Артем    Павлов            5         134.9    1980-05-18           True\n",
       "4  Александр  Николаев            1          47.0    1959-02-24           True\n",
       "5    Дмитрий  Печенкин            2          61.0    1939-04-05          False\n",
       "6      Дарья  Воробева            3           NaN    1997-07-23           True"
      ]
     },
     "execution_count": 11,
     "metadata": {},
     "output_type": "execute_result"
    }
   ],
   "source": [
    "people"
   ]
  },
  {
   "cell_type": "markdown",
   "id": "c2e07409",
   "metadata": {},
   "source": [
    "#### Типы:\n",
    "1. __object__ - тип данных, который в основном используется для строк (строки - это текст, они записываются в кавычках), но может содержать и другие типы данных\n",
    "2. __string__ - тип данных, предназначеный для хранения строк\n",
    "3. __int + число__ - целые числа\n",
    "4. __float + число__ - числа с плавующей точкой\n",
    "5. __datetime64[ns]__ - даты и время\n",
    "6. __bool__ - логический тип. Если True, то правда, если False, то ложь"
   ]
  },
  {
   "cell_type": "code",
   "execution_count": 12,
   "id": "9211a12b",
   "metadata": {},
   "outputs": [],
   "source": [
    "df_path = '../tables/modified_dtypes.pkl' if os.path.exists('../tables/школьные оценки.xlsx') else 'https://drive.google.com/uc?id=1Q_MDakkji87seNz6nWH54cLF9_54Ix81'\n",
    "df = pd.read_pickle(df_path)"
   ]
  },
  {
   "cell_type": "code",
   "execution_count": 13,
   "id": "f4d725fe",
   "metadata": {},
   "outputs": [
    {
     "data": {
      "text/html": [
       "<div>\n",
       "<style scoped>\n",
       "    .dataframe tbody tr th:only-of-type {\n",
       "        vertical-align: middle;\n",
       "    }\n",
       "\n",
       "    .dataframe tbody tr th {\n",
       "        vertical-align: top;\n",
       "    }\n",
       "\n",
       "    .dataframe thead th {\n",
       "        text-align: right;\n",
       "    }\n",
       "</style>\n",
       "<table border=\"1\" class=\"dataframe\">\n",
       "  <thead>\n",
       "    <tr style=\"text-align: right;\">\n",
       "      <th></th>\n",
       "      <th>Имя</th>\n",
       "      <th>Фамилия</th>\n",
       "      <th>Число детей</th>\n",
       "      <th>Площадь дома</th>\n",
       "      <th>Дата рождения</th>\n",
       "      <th>Дата устройства на работу</th>\n",
       "      <th>Заработная плата</th>\n",
       "      <th>Автомобиль</th>\n",
       "    </tr>\n",
       "  </thead>\n",
       "  <tbody>\n",
       "    <tr>\n",
       "      <th>0</th>\n",
       "      <td>Илья</td>\n",
       "      <td>Васильев</td>\n",
       "      <td>0</td>\n",
       "      <td>56.3</td>\n",
       "      <td>1996-11-30</td>\n",
       "      <td>12#02/2020</td>\n",
       "      <td>45000</td>\n",
       "      <td>киа</td>\n",
       "    </tr>\n",
       "    <tr>\n",
       "      <th>1</th>\n",
       "      <td>Антон</td>\n",
       "      <td>Алексеев</td>\n",
       "      <td>2</td>\n",
       "      <td>77.0</td>\n",
       "      <td>1976-02-29</td>\n",
       "      <td>20#12/2001</td>\n",
       "      <td>33000</td>\n",
       "      <td>рено</td>\n",
       "    </tr>\n",
       "    <tr>\n",
       "      <th>2</th>\n",
       "      <td>Надежда</td>\n",
       "      <td>Гусева</td>\n",
       "      <td>3</td>\n",
       "      <td>103.1</td>\n",
       "      <td>1964-09-26</td>\n",
       "      <td>09#06/1981</td>\n",
       "      <td>80000</td>\n",
       "      <td>жигули</td>\n",
       "    </tr>\n",
       "    <tr>\n",
       "      <th>3</th>\n",
       "      <td>Артем</td>\n",
       "      <td>Павлов</td>\n",
       "      <td>5</td>\n",
       "      <td>134.9</td>\n",
       "      <td>1980-05-18</td>\n",
       "      <td>09#09/2008</td>\n",
       "      <td>50000</td>\n",
       "      <td>бмв</td>\n",
       "    </tr>\n",
       "    <tr>\n",
       "      <th>4</th>\n",
       "      <td>Александр</td>\n",
       "      <td>Николаев</td>\n",
       "      <td>1</td>\n",
       "      <td>47.0</td>\n",
       "      <td>1959-02-24</td>\n",
       "      <td>03#07/2019</td>\n",
       "      <td>29000</td>\n",
       "      <td>киа</td>\n",
       "    </tr>\n",
       "    <tr>\n",
       "      <th>5</th>\n",
       "      <td>Дмитрий</td>\n",
       "      <td>Печенкин</td>\n",
       "      <td>2</td>\n",
       "      <td>61.0</td>\n",
       "      <td>1939-04-05</td>\n",
       "      <td>19#08/1958</td>\n",
       "      <td>100000</td>\n",
       "      <td>жигули</td>\n",
       "    </tr>\n",
       "    <tr>\n",
       "      <th>6</th>\n",
       "      <td>Дарья</td>\n",
       "      <td>Воробева</td>\n",
       "      <td>3</td>\n",
       "      <td>65.0</td>\n",
       "      <td>1997-07-23</td>\n",
       "      <td>20#12/2022</td>\n",
       "      <td>NaN</td>\n",
       "      <td>&lt;NA&gt;</td>\n",
       "    </tr>\n",
       "  </tbody>\n",
       "</table>\n",
       "</div>"
      ],
      "text/plain": [
       "         Имя   Фамилия Число детей Площадь дома Дата рождения  \\\n",
       "0       Илья  Васильев           0         56.3    1996-11-30   \n",
       "1      Антон  Алексеев           2         77.0    1976-02-29   \n",
       "2    Надежда    Гусева           3        103.1    1964-09-26   \n",
       "3      Артем    Павлов           5        134.9    1980-05-18   \n",
       "4  Александр  Николаев           1         47.0    1959-02-24   \n",
       "5    Дмитрий  Печенкин           2         61.0    1939-04-05   \n",
       "6      Дарья  Воробева           3         65.0    1997-07-23   \n",
       "\n",
       "  Дата устройства на работу Заработная плата Автомобиль  \n",
       "0                12#02/2020            45000        киа  \n",
       "1                20#12/2001            33000       рено  \n",
       "2                09#06/1981            80000     жигули  \n",
       "3                09#09/2008            50000        бмв  \n",
       "4                03#07/2019            29000        киа  \n",
       "5                19#08/1958           100000     жигули  \n",
       "6                20#12/2022              NaN       <NA>  "
      ]
     },
     "execution_count": 13,
     "metadata": {},
     "output_type": "execute_result"
    }
   ],
   "source": [
    "df"
   ]
  },
  {
   "cell_type": "markdown",
   "id": "15af0965",
   "metadata": {},
   "source": [
    "Все колонки в таблице представленны типом object"
   ]
  },
  {
   "cell_type": "code",
   "execution_count": 14,
   "id": "9fd80e44",
   "metadata": {},
   "outputs": [
    {
     "name": "stdout",
     "output_type": "stream",
     "text": [
      "<class 'pandas.core.frame.DataFrame'>\n",
      "RangeIndex: 7 entries, 0 to 6\n",
      "Data columns (total 8 columns):\n",
      " #   Column                     Non-Null Count  Dtype \n",
      "---  ------                     --------------  ----- \n",
      " 0   Имя                        7 non-null      object\n",
      " 1   Фамилия                    7 non-null      object\n",
      " 2   Число детей                7 non-null      object\n",
      " 3   Площадь дома               7 non-null      object\n",
      " 4   Дата рождения              7 non-null      object\n",
      " 5   Дата устройства на работу  7 non-null      object\n",
      " 6   Заработная плата           6 non-null      object\n",
      " 7   Автомобиль                 6 non-null      object\n",
      "dtypes: object(8)\n",
      "memory usage: 580.0+ bytes\n"
     ]
    }
   ],
   "source": [
    "df.info()"
   ]
  },
  {
   "cell_type": "markdown",
   "id": "3988d41b",
   "metadata": {},
   "source": [
    "### to_datetime\n",
    "\n",
    "Функция приводит колонки таблицы к типу datetime64"
   ]
  },
  {
   "cell_type": "code",
   "execution_count": 15,
   "id": "466078c5",
   "metadata": {},
   "outputs": [
    {
     "data": {
      "text/plain": [
       "0    1996-11-30\n",
       "1    1976-02-29\n",
       "2    1964-09-26\n",
       "3    1980-05-18\n",
       "4    1959-02-24\n",
       "5    1939-04-05\n",
       "6    1997-07-23\n",
       "Name: Дата рождения, dtype: object"
      ]
     },
     "execution_count": 15,
     "metadata": {},
     "output_type": "execute_result"
    }
   ],
   "source": [
    "df['Дата рождения']"
   ]
  },
  {
   "cell_type": "code",
   "execution_count": 16,
   "id": "f13571ef",
   "metadata": {},
   "outputs": [
    {
     "data": {
      "text/plain": [
       "0   1996-11-30\n",
       "1   1976-02-29\n",
       "2   1964-09-26\n",
       "3   1980-05-18\n",
       "4   1959-02-24\n",
       "5   1939-04-05\n",
       "6   1997-07-23\n",
       "Name: Дата рождения, dtype: datetime64[ns]"
      ]
     },
     "execution_count": 16,
     "metadata": {},
     "output_type": "execute_result"
    }
   ],
   "source": [
    "pd.to_datetime(df['Дата рождения'])"
   ]
  },
  {
   "cell_type": "code",
   "execution_count": 17,
   "id": "4904ac75",
   "metadata": {},
   "outputs": [
    {
     "data": {
      "text/plain": [
       "0    1996-11-30\n",
       "1    1976-02-29\n",
       "2    1964-09-26\n",
       "3    1980-05-18\n",
       "4    1959-02-24\n",
       "5    1939-04-05\n",
       "6    1997-07-23\n",
       "Name: Дата рождения, dtype: object"
      ]
     },
     "execution_count": 17,
     "metadata": {},
     "output_type": "execute_result"
    }
   ],
   "source": [
    "df['Дата рождения']"
   ]
  },
  {
   "cell_type": "markdown",
   "id": "e09ccdee",
   "metadata": {},
   "source": [
    "#### Присваивание новых значений"
   ]
  },
  {
   "cell_type": "code",
   "execution_count": 18,
   "id": "baf9a032",
   "metadata": {},
   "outputs": [],
   "source": [
    "df['Дата рождения'] = pd.to_datetime(df['Дата рождения'])"
   ]
  },
  {
   "cell_type": "code",
   "execution_count": 19,
   "id": "f4b4fdb5",
   "metadata": {},
   "outputs": [
    {
     "data": {
      "text/plain": [
       "0   1996-11-30\n",
       "1   1976-02-29\n",
       "2   1964-09-26\n",
       "3   1980-05-18\n",
       "4   1959-02-24\n",
       "5   1939-04-05\n",
       "6   1997-07-23\n",
       "Name: Дата рождения, dtype: datetime64[ns]"
      ]
     },
     "execution_count": 19,
     "metadata": {},
     "output_type": "execute_result"
    }
   ],
   "source": [
    "df['Дата рождения']"
   ]
  },
  {
   "cell_type": "markdown",
   "id": "2bc299ab",
   "metadata": {},
   "source": [
    "#### параметр format"
   ]
  },
  {
   "cell_type": "code",
   "execution_count": 20,
   "id": "c1821fd1",
   "metadata": {},
   "outputs": [
    {
     "data": {
      "text/plain": [
       "0    12#02/2020\n",
       "1    20#12/2001\n",
       "2    09#06/1981\n",
       "3    09#09/2008\n",
       "4    03#07/2019\n",
       "5    19#08/1958\n",
       "6    20#12/2022\n",
       "Name: Дата устройства на работу, dtype: object"
      ]
     },
     "execution_count": 20,
     "metadata": {},
     "output_type": "execute_result"
    }
   ],
   "source": [
    "df['Дата устройства на работу']"
   ]
  },
  {
   "cell_type": "code",
   "execution_count": 21,
   "id": "26f8fdf5",
   "metadata": {},
   "outputs": [
    {
     "name": "stderr",
     "output_type": "stream",
     "text": [
      "C:\\Users\\Александр\\AppData\\Local\\Temp\\ipykernel_6740\\1390509222.py:1: UserWarning: Could not infer format, so each element will be parsed individually, falling back to `dateutil`. To ensure parsing is consistent and as-expected, please specify a format.\n",
      "  pd.to_datetime(df['Дата устройства на работу'])\n"
     ]
    },
    {
     "ename": "DateParseError",
     "evalue": "Unknown datetime string format, unable to parse: 12#02/2020, at position 0",
     "output_type": "error",
     "traceback": [
      "\u001b[1;31m---------------------------------------------------------------------------\u001b[0m",
      "\u001b[1;31mDateParseError\u001b[0m                            Traceback (most recent call last)",
      "Cell \u001b[1;32mIn[21], line 1\u001b[0m\n\u001b[1;32m----> 1\u001b[0m pd\u001b[38;5;241m.\u001b[39mto_datetime(df[\u001b[38;5;124m'\u001b[39m\u001b[38;5;124mДата устройства на работу\u001b[39m\u001b[38;5;124m'\u001b[39m])\n",
      "File \u001b[1;32mC:\\anaconda3\\Lib\\site-packages\\pandas\\core\\tools\\datetimes.py:1050\u001b[0m, in \u001b[0;36mto_datetime\u001b[1;34m(arg, errors, dayfirst, yearfirst, utc, format, exact, unit, infer_datetime_format, origin, cache)\u001b[0m\n\u001b[0;32m   1048\u001b[0m         result \u001b[38;5;241m=\u001b[39m arg\u001b[38;5;241m.\u001b[39mmap(cache_array)\n\u001b[0;32m   1049\u001b[0m     \u001b[38;5;28;01melse\u001b[39;00m:\n\u001b[1;32m-> 1050\u001b[0m         values \u001b[38;5;241m=\u001b[39m convert_listlike(arg\u001b[38;5;241m.\u001b[39m_values, \u001b[38;5;28mformat\u001b[39m)\n\u001b[0;32m   1051\u001b[0m         result \u001b[38;5;241m=\u001b[39m arg\u001b[38;5;241m.\u001b[39m_constructor(values, index\u001b[38;5;241m=\u001b[39marg\u001b[38;5;241m.\u001b[39mindex, name\u001b[38;5;241m=\u001b[39marg\u001b[38;5;241m.\u001b[39mname)\n\u001b[0;32m   1052\u001b[0m \u001b[38;5;28;01melif\u001b[39;00m \u001b[38;5;28misinstance\u001b[39m(arg, (ABCDataFrame, abc\u001b[38;5;241m.\u001b[39mMutableMapping)):\n",
      "File \u001b[1;32mC:\\anaconda3\\Lib\\site-packages\\pandas\\core\\tools\\datetimes.py:455\u001b[0m, in \u001b[0;36m_convert_listlike_datetimes\u001b[1;34m(arg, format, name, utc, unit, errors, dayfirst, yearfirst, exact)\u001b[0m\n\u001b[0;32m    452\u001b[0m \u001b[38;5;28;01mif\u001b[39;00m \u001b[38;5;28mformat\u001b[39m \u001b[38;5;129;01mis\u001b[39;00m \u001b[38;5;129;01mnot\u001b[39;00m \u001b[38;5;28;01mNone\u001b[39;00m \u001b[38;5;129;01mand\u001b[39;00m \u001b[38;5;28mformat\u001b[39m \u001b[38;5;241m!=\u001b[39m \u001b[38;5;124m\"\u001b[39m\u001b[38;5;124mmixed\u001b[39m\u001b[38;5;124m\"\u001b[39m:\n\u001b[0;32m    453\u001b[0m     \u001b[38;5;28;01mreturn\u001b[39;00m _array_strptime_with_fallback(arg, name, utc, \u001b[38;5;28mformat\u001b[39m, exact, errors)\n\u001b[1;32m--> 455\u001b[0m result, tz_parsed \u001b[38;5;241m=\u001b[39m objects_to_datetime64ns(\n\u001b[0;32m    456\u001b[0m     arg,\n\u001b[0;32m    457\u001b[0m     dayfirst\u001b[38;5;241m=\u001b[39mdayfirst,\n\u001b[0;32m    458\u001b[0m     yearfirst\u001b[38;5;241m=\u001b[39myearfirst,\n\u001b[0;32m    459\u001b[0m     utc\u001b[38;5;241m=\u001b[39mutc,\n\u001b[0;32m    460\u001b[0m     errors\u001b[38;5;241m=\u001b[39merrors,\n\u001b[0;32m    461\u001b[0m     allow_object\u001b[38;5;241m=\u001b[39m\u001b[38;5;28;01mTrue\u001b[39;00m,\n\u001b[0;32m    462\u001b[0m )\n\u001b[0;32m    464\u001b[0m \u001b[38;5;28;01mif\u001b[39;00m tz_parsed \u001b[38;5;129;01mis\u001b[39;00m \u001b[38;5;129;01mnot\u001b[39;00m \u001b[38;5;28;01mNone\u001b[39;00m:\n\u001b[0;32m    465\u001b[0m     \u001b[38;5;66;03m# We can take a shortcut since the datetime64 numpy array\u001b[39;00m\n\u001b[0;32m    466\u001b[0m     \u001b[38;5;66;03m# is in UTC\u001b[39;00m\n\u001b[0;32m    467\u001b[0m     dta \u001b[38;5;241m=\u001b[39m DatetimeArray(result, dtype\u001b[38;5;241m=\u001b[39mtz_to_dtype(tz_parsed))\n",
      "File \u001b[1;32mC:\\anaconda3\\Lib\\site-packages\\pandas\\core\\arrays\\datetimes.py:2177\u001b[0m, in \u001b[0;36mobjects_to_datetime64ns\u001b[1;34m(data, dayfirst, yearfirst, utc, errors, allow_object)\u001b[0m\n\u001b[0;32m   2174\u001b[0m \u001b[38;5;66;03m# if str-dtype, convert\u001b[39;00m\n\u001b[0;32m   2175\u001b[0m data \u001b[38;5;241m=\u001b[39m np\u001b[38;5;241m.\u001b[39marray(data, copy\u001b[38;5;241m=\u001b[39m\u001b[38;5;28;01mFalse\u001b[39;00m, dtype\u001b[38;5;241m=\u001b[39mnp\u001b[38;5;241m.\u001b[39mobject_)\n\u001b[1;32m-> 2177\u001b[0m result, tz_parsed \u001b[38;5;241m=\u001b[39m tslib\u001b[38;5;241m.\u001b[39marray_to_datetime(\n\u001b[0;32m   2178\u001b[0m     data,\n\u001b[0;32m   2179\u001b[0m     errors\u001b[38;5;241m=\u001b[39merrors,\n\u001b[0;32m   2180\u001b[0m     utc\u001b[38;5;241m=\u001b[39mutc,\n\u001b[0;32m   2181\u001b[0m     dayfirst\u001b[38;5;241m=\u001b[39mdayfirst,\n\u001b[0;32m   2182\u001b[0m     yearfirst\u001b[38;5;241m=\u001b[39myearfirst,\n\u001b[0;32m   2183\u001b[0m )\n\u001b[0;32m   2185\u001b[0m \u001b[38;5;28;01mif\u001b[39;00m tz_parsed \u001b[38;5;129;01mis\u001b[39;00m \u001b[38;5;129;01mnot\u001b[39;00m \u001b[38;5;28;01mNone\u001b[39;00m:\n\u001b[0;32m   2186\u001b[0m     \u001b[38;5;66;03m# We can take a shortcut since the datetime64 numpy array\u001b[39;00m\n\u001b[0;32m   2187\u001b[0m     \u001b[38;5;66;03m#  is in UTC\u001b[39;00m\n\u001b[0;32m   2188\u001b[0m     \u001b[38;5;66;03m# Return i8 values to denote unix timestamps\u001b[39;00m\n\u001b[0;32m   2189\u001b[0m     \u001b[38;5;28;01mreturn\u001b[39;00m result\u001b[38;5;241m.\u001b[39mview(\u001b[38;5;124m\"\u001b[39m\u001b[38;5;124mi8\u001b[39m\u001b[38;5;124m\"\u001b[39m), tz_parsed\n",
      "File \u001b[1;32mC:\\anaconda3\\Lib\\site-packages\\pandas\\_libs\\tslib.pyx:402\u001b[0m, in \u001b[0;36mpandas._libs.tslib.array_to_datetime\u001b[1;34m()\u001b[0m\n",
      "File \u001b[1;32mC:\\anaconda3\\Lib\\site-packages\\pandas\\_libs\\tslib.pyx:551\u001b[0m, in \u001b[0;36mpandas._libs.tslib.array_to_datetime\u001b[1;34m()\u001b[0m\n",
      "File \u001b[1;32mC:\\anaconda3\\Lib\\site-packages\\pandas\\_libs\\tslib.pyx:516\u001b[0m, in \u001b[0;36mpandas._libs.tslib.array_to_datetime\u001b[1;34m()\u001b[0m\n",
      "File \u001b[1;32mC:\\anaconda3\\Lib\\site-packages\\pandas\\_libs\\tslibs\\conversion.pyx:557\u001b[0m, in \u001b[0;36mpandas._libs.tslibs.conversion.convert_str_to_tsobject\u001b[1;34m()\u001b[0m\n",
      "File \u001b[1;32mC:\\anaconda3\\Lib\\site-packages\\pandas\\_libs\\tslibs\\parsing.pyx:329\u001b[0m, in \u001b[0;36mpandas._libs.tslibs.parsing.parse_datetime_string\u001b[1;34m()\u001b[0m\n",
      "File \u001b[1;32mC:\\anaconda3\\Lib\\site-packages\\pandas\\_libs\\tslibs\\parsing.pyx:658\u001b[0m, in \u001b[0;36mpandas._libs.tslibs.parsing.dateutil_parse\u001b[1;34m()\u001b[0m\n",
      "\u001b[1;31mDateParseError\u001b[0m: Unknown datetime string format, unable to parse: 12#02/2020, at position 0"
     ]
    }
   ],
   "source": [
    "pd.to_datetime(df['Дата устройства на работу'])"
   ]
  },
  {
   "cell_type": "code",
   "execution_count": 22,
   "id": "aaa86391",
   "metadata": {},
   "outputs": [],
   "source": [
    "df['Дата устройства на работу'] = pd.to_datetime(df['Дата устройства на работу'],\n",
    "                                                 \n",
    "                                                 format='%d#%m/%Y')"
   ]
  },
  {
   "cell_type": "code",
   "execution_count": 23,
   "id": "772cd157",
   "metadata": {
    "scrolled": true
   },
   "outputs": [
    {
     "name": "stdout",
     "output_type": "stream",
     "text": [
      "<class 'pandas.core.frame.DataFrame'>\n",
      "RangeIndex: 7 entries, 0 to 6\n",
      "Data columns (total 8 columns):\n",
      " #   Column                     Non-Null Count  Dtype         \n",
      "---  ------                     --------------  -----         \n",
      " 0   Имя                        7 non-null      object        \n",
      " 1   Фамилия                    7 non-null      object        \n",
      " 2   Число детей                7 non-null      object        \n",
      " 3   Площадь дома               7 non-null      object        \n",
      " 4   Дата рождения              7 non-null      datetime64[ns]\n",
      " 5   Дата устройства на работу  7 non-null      datetime64[ns]\n",
      " 6   Заработная плата           6 non-null      object        \n",
      " 7   Автомобиль                 6 non-null      object        \n",
      "dtypes: datetime64[ns](2), object(6)\n",
      "memory usage: 580.0+ bytes\n"
     ]
    }
   ],
   "source": [
    "df.info()"
   ]
  },
  {
   "cell_type": "code",
   "execution_count": 24,
   "id": "a5b0131f",
   "metadata": {},
   "outputs": [
    {
     "data": {
      "text/plain": [
       "Timestamp('2016-03-24 12:27:11')"
      ]
     },
     "execution_count": 24,
     "metadata": {},
     "output_type": "execute_result"
    }
   ],
   "source": [
    "pd.to_datetime('03/24/2016 12:27:11', format ='%m/%d/%Y %H:%M:%S')"
   ]
  },
  {
   "cell_type": "markdown",
   "id": "7a47a3cc",
   "metadata": {},
   "source": [
    "### astype\n",
    "\n",
    "Метод для конвертации колонок из одного типа в другой\n",
    "\n",
    "#### Синтаксис:\n",
    "__Для датафреймов:__\n",
    "1. df.astype({Назавание колонки: тип}) - для приведения определенных колонок\n",
    "2. df.astype(тип) - для приведения всего датафрема к одному типу\n",
    "\n",
    "__Для объектов Series:__\n",
    "1. s.astype(тип)"
   ]
  },
  {
   "cell_type": "code",
   "execution_count": 25,
   "id": "36a79125",
   "metadata": {},
   "outputs": [
    {
     "data": {
      "text/html": [
       "<div>\n",
       "<style scoped>\n",
       "    .dataframe tbody tr th:only-of-type {\n",
       "        vertical-align: middle;\n",
       "    }\n",
       "\n",
       "    .dataframe tbody tr th {\n",
       "        vertical-align: top;\n",
       "    }\n",
       "\n",
       "    .dataframe thead th {\n",
       "        text-align: right;\n",
       "    }\n",
       "</style>\n",
       "<table border=\"1\" class=\"dataframe\">\n",
       "  <thead>\n",
       "    <tr style=\"text-align: right;\">\n",
       "      <th></th>\n",
       "      <th>Имя</th>\n",
       "      <th>Фамилия</th>\n",
       "      <th>Число детей</th>\n",
       "      <th>Площадь дома</th>\n",
       "      <th>Дата рождения</th>\n",
       "      <th>Дата устройства на работу</th>\n",
       "      <th>Заработная плата</th>\n",
       "      <th>Автомобиль</th>\n",
       "    </tr>\n",
       "  </thead>\n",
       "  <tbody>\n",
       "    <tr>\n",
       "      <th>0</th>\n",
       "      <td>Илья</td>\n",
       "      <td>Васильев</td>\n",
       "      <td>0</td>\n",
       "      <td>56.3</td>\n",
       "      <td>1996-11-30</td>\n",
       "      <td>2020-02-12</td>\n",
       "      <td>45000</td>\n",
       "      <td>киа</td>\n",
       "    </tr>\n",
       "    <tr>\n",
       "      <th>1</th>\n",
       "      <td>Антон</td>\n",
       "      <td>Алексеев</td>\n",
       "      <td>2</td>\n",
       "      <td>77.0</td>\n",
       "      <td>1976-02-29</td>\n",
       "      <td>2001-12-20</td>\n",
       "      <td>33000</td>\n",
       "      <td>рено</td>\n",
       "    </tr>\n",
       "    <tr>\n",
       "      <th>2</th>\n",
       "      <td>Надежда</td>\n",
       "      <td>Гусева</td>\n",
       "      <td>3</td>\n",
       "      <td>103.1</td>\n",
       "      <td>1964-09-26</td>\n",
       "      <td>1981-06-09</td>\n",
       "      <td>80000</td>\n",
       "      <td>жигули</td>\n",
       "    </tr>\n",
       "    <tr>\n",
       "      <th>3</th>\n",
       "      <td>Артем</td>\n",
       "      <td>Павлов</td>\n",
       "      <td>5</td>\n",
       "      <td>134.9</td>\n",
       "      <td>1980-05-18</td>\n",
       "      <td>2008-09-09</td>\n",
       "      <td>50000</td>\n",
       "      <td>бмв</td>\n",
       "    </tr>\n",
       "    <tr>\n",
       "      <th>4</th>\n",
       "      <td>Александр</td>\n",
       "      <td>Николаев</td>\n",
       "      <td>1</td>\n",
       "      <td>47.0</td>\n",
       "      <td>1959-02-24</td>\n",
       "      <td>2019-07-03</td>\n",
       "      <td>29000</td>\n",
       "      <td>киа</td>\n",
       "    </tr>\n",
       "    <tr>\n",
       "      <th>5</th>\n",
       "      <td>Дмитрий</td>\n",
       "      <td>Печенкин</td>\n",
       "      <td>2</td>\n",
       "      <td>61.0</td>\n",
       "      <td>1939-04-05</td>\n",
       "      <td>1958-08-19</td>\n",
       "      <td>100000</td>\n",
       "      <td>жигули</td>\n",
       "    </tr>\n",
       "    <tr>\n",
       "      <th>6</th>\n",
       "      <td>Дарья</td>\n",
       "      <td>Воробева</td>\n",
       "      <td>3</td>\n",
       "      <td>65.0</td>\n",
       "      <td>1997-07-23</td>\n",
       "      <td>2022-12-20</td>\n",
       "      <td>NaN</td>\n",
       "      <td>&lt;NA&gt;</td>\n",
       "    </tr>\n",
       "  </tbody>\n",
       "</table>\n",
       "</div>"
      ],
      "text/plain": [
       "         Имя   Фамилия  Число детей  Площадь дома Дата рождения  \\\n",
       "0       Илья  Васильев            0          56.3    1996-11-30   \n",
       "1      Антон  Алексеев            2          77.0    1976-02-29   \n",
       "2    Надежда    Гусева            3         103.1    1964-09-26   \n",
       "3      Артем    Павлов            5         134.9    1980-05-18   \n",
       "4  Александр  Николаев            1          47.0    1959-02-24   \n",
       "5    Дмитрий  Печенкин            2          61.0    1939-04-05   \n",
       "6      Дарья  Воробева            3          65.0    1997-07-23   \n",
       "\n",
       "  Дата устройства на работу Заработная плата Автомобиль  \n",
       "0                2020-02-12            45000        киа  \n",
       "1                2001-12-20            33000       рено  \n",
       "2                1981-06-09            80000     жигули  \n",
       "3                2008-09-09            50000        бмв  \n",
       "4                2019-07-03            29000        киа  \n",
       "5                1958-08-19           100000     жигули  \n",
       "6                2022-12-20              NaN       <NA>  "
      ]
     },
     "execution_count": 25,
     "metadata": {},
     "output_type": "execute_result"
    }
   ],
   "source": [
    "df.astype({'Число детей': int, 'Площадь дома': float})"
   ]
  },
  {
   "cell_type": "code",
   "execution_count": 26,
   "id": "b5f0238b",
   "metadata": {},
   "outputs": [
    {
     "name": "stdout",
     "output_type": "stream",
     "text": [
      "<class 'pandas.core.frame.DataFrame'>\n",
      "RangeIndex: 7 entries, 0 to 6\n",
      "Data columns (total 8 columns):\n",
      " #   Column                     Non-Null Count  Dtype         \n",
      "---  ------                     --------------  -----         \n",
      " 0   Имя                        7 non-null      object        \n",
      " 1   Фамилия                    7 non-null      object        \n",
      " 2   Число детей                7 non-null      int32         \n",
      " 3   Площадь дома               7 non-null      float64       \n",
      " 4   Дата рождения              7 non-null      datetime64[ns]\n",
      " 5   Дата устройства на работу  7 non-null      datetime64[ns]\n",
      " 6   Заработная плата           6 non-null      object        \n",
      " 7   Автомобиль                 6 non-null      object        \n",
      "dtypes: datetime64[ns](2), float64(1), int32(1), object(4)\n",
      "memory usage: 552.0+ bytes\n"
     ]
    }
   ],
   "source": [
    "df.astype({'Число детей': int, 'Площадь дома': float}).info()"
   ]
  },
  {
   "cell_type": "code",
   "execution_count": 27,
   "id": "74711875",
   "metadata": {},
   "outputs": [
    {
     "name": "stdout",
     "output_type": "stream",
     "text": [
      "<class 'pandas.core.frame.DataFrame'>\n",
      "RangeIndex: 7 entries, 0 to 6\n",
      "Data columns (total 8 columns):\n",
      " #   Column                     Non-Null Count  Dtype         \n",
      "---  ------                     --------------  -----         \n",
      " 0   Имя                        7 non-null      object        \n",
      " 1   Фамилия                    7 non-null      object        \n",
      " 2   Число детей                7 non-null      object        \n",
      " 3   Площадь дома               7 non-null      object        \n",
      " 4   Дата рождения              7 non-null      datetime64[ns]\n",
      " 5   Дата устройства на работу  7 non-null      datetime64[ns]\n",
      " 6   Заработная плата           6 non-null      object        \n",
      " 7   Автомобиль                 6 non-null      object        \n",
      "dtypes: datetime64[ns](2), object(6)\n",
      "memory usage: 580.0+ bytes\n"
     ]
    }
   ],
   "source": [
    "df.info()"
   ]
  },
  {
   "cell_type": "markdown",
   "id": "e5f11933",
   "metadata": {},
   "source": [
    "#### С помощью метода astype можно обрезать дробную часть у чисел с плавующей точкой"
   ]
  },
  {
   "cell_type": "code",
   "execution_count": 30,
   "id": "62196f26",
   "metadata": {},
   "outputs": [
    {
     "data": {
      "text/html": [
       "<div>\n",
       "<style scoped>\n",
       "    .dataframe tbody tr th:only-of-type {\n",
       "        vertical-align: middle;\n",
       "    }\n",
       "\n",
       "    .dataframe tbody tr th {\n",
       "        vertical-align: top;\n",
       "    }\n",
       "\n",
       "    .dataframe thead th {\n",
       "        text-align: right;\n",
       "    }\n",
       "</style>\n",
       "<table border=\"1\" class=\"dataframe\">\n",
       "  <thead>\n",
       "    <tr style=\"text-align: right;\">\n",
       "      <th></th>\n",
       "      <th>Имя</th>\n",
       "      <th>Фамилия</th>\n",
       "      <th>Число детей</th>\n",
       "      <th>Площадь дома</th>\n",
       "      <th>Дата рождения</th>\n",
       "      <th>Дата устройства на работу</th>\n",
       "      <th>Заработная плата</th>\n",
       "      <th>Автомобиль</th>\n",
       "    </tr>\n",
       "  </thead>\n",
       "  <tbody>\n",
       "    <tr>\n",
       "      <th>0</th>\n",
       "      <td>Илья</td>\n",
       "      <td>Васильев</td>\n",
       "      <td>0</td>\n",
       "      <td>56</td>\n",
       "      <td>1996-11-30</td>\n",
       "      <td>2020-02-12</td>\n",
       "      <td>45000</td>\n",
       "      <td>киа</td>\n",
       "    </tr>\n",
       "    <tr>\n",
       "      <th>1</th>\n",
       "      <td>Антон</td>\n",
       "      <td>Алексеев</td>\n",
       "      <td>2</td>\n",
       "      <td>77</td>\n",
       "      <td>1976-02-29</td>\n",
       "      <td>2001-12-20</td>\n",
       "      <td>33000</td>\n",
       "      <td>рено</td>\n",
       "    </tr>\n",
       "    <tr>\n",
       "      <th>2</th>\n",
       "      <td>Надежда</td>\n",
       "      <td>Гусева</td>\n",
       "      <td>3</td>\n",
       "      <td>103</td>\n",
       "      <td>1964-09-26</td>\n",
       "      <td>1981-06-09</td>\n",
       "      <td>80000</td>\n",
       "      <td>жигули</td>\n",
       "    </tr>\n",
       "    <tr>\n",
       "      <th>3</th>\n",
       "      <td>Артем</td>\n",
       "      <td>Павлов</td>\n",
       "      <td>5</td>\n",
       "      <td>134</td>\n",
       "      <td>1980-05-18</td>\n",
       "      <td>2008-09-09</td>\n",
       "      <td>50000</td>\n",
       "      <td>бмв</td>\n",
       "    </tr>\n",
       "    <tr>\n",
       "      <th>4</th>\n",
       "      <td>Александр</td>\n",
       "      <td>Николаев</td>\n",
       "      <td>1</td>\n",
       "      <td>47</td>\n",
       "      <td>1959-02-24</td>\n",
       "      <td>2019-07-03</td>\n",
       "      <td>29000</td>\n",
       "      <td>киа</td>\n",
       "    </tr>\n",
       "    <tr>\n",
       "      <th>5</th>\n",
       "      <td>Дмитрий</td>\n",
       "      <td>Печенкин</td>\n",
       "      <td>2</td>\n",
       "      <td>61</td>\n",
       "      <td>1939-04-05</td>\n",
       "      <td>1958-08-19</td>\n",
       "      <td>100000</td>\n",
       "      <td>жигули</td>\n",
       "    </tr>\n",
       "    <tr>\n",
       "      <th>6</th>\n",
       "      <td>Дарья</td>\n",
       "      <td>Воробева</td>\n",
       "      <td>3</td>\n",
       "      <td>65</td>\n",
       "      <td>1997-07-23</td>\n",
       "      <td>2022-12-20</td>\n",
       "      <td>NaN</td>\n",
       "      <td>&lt;NA&gt;</td>\n",
       "    </tr>\n",
       "  </tbody>\n",
       "</table>\n",
       "</div>"
      ],
      "text/plain": [
       "         Имя   Фамилия  Число детей  Площадь дома Дата рождения  \\\n",
       "0       Илья  Васильев            0            56    1996-11-30   \n",
       "1      Антон  Алексеев            2            77    1976-02-29   \n",
       "2    Надежда    Гусева            3           103    1964-09-26   \n",
       "3      Артем    Павлов            5           134    1980-05-18   \n",
       "4  Александр  Николаев            1            47    1959-02-24   \n",
       "5    Дмитрий  Печенкин            2            61    1939-04-05   \n",
       "6      Дарья  Воробева            3            65    1997-07-23   \n",
       "\n",
       "  Дата устройства на работу Заработная плата Автомобиль  \n",
       "0                2020-02-12            45000        киа  \n",
       "1                2001-12-20            33000       рено  \n",
       "2                1981-06-09            80000     жигули  \n",
       "3                2008-09-09            50000        бмв  \n",
       "4                2019-07-03            29000        киа  \n",
       "5                1958-08-19           100000     жигули  \n",
       "6                2022-12-20              NaN       <NA>  "
      ]
     },
     "execution_count": 30,
     "metadata": {},
     "output_type": "execute_result"
    }
   ],
   "source": [
    "df.astype({'Число детей': int, 'Площадь дома': float}).astype({'Площадь дома': int})"
   ]
  },
  {
   "cell_type": "markdown",
   "id": "323362c9",
   "metadata": {},
   "source": [
    "Более красивый вид написания методов"
   ]
  },
  {
   "cell_type": "code",
   "execution_count": 32,
   "id": "659f0334",
   "metadata": {},
   "outputs": [
    {
     "data": {
      "text/html": [
       "<div>\n",
       "<style scoped>\n",
       "    .dataframe tbody tr th:only-of-type {\n",
       "        vertical-align: middle;\n",
       "    }\n",
       "\n",
       "    .dataframe tbody tr th {\n",
       "        vertical-align: top;\n",
       "    }\n",
       "\n",
       "    .dataframe thead th {\n",
       "        text-align: right;\n",
       "    }\n",
       "</style>\n",
       "<table border=\"1\" class=\"dataframe\">\n",
       "  <thead>\n",
       "    <tr style=\"text-align: right;\">\n",
       "      <th></th>\n",
       "      <th>Имя</th>\n",
       "      <th>Фамилия</th>\n",
       "      <th>Число детей</th>\n",
       "      <th>Площадь дома</th>\n",
       "      <th>Дата рождения</th>\n",
       "      <th>Дата устройства на работу</th>\n",
       "      <th>Заработная плата</th>\n",
       "      <th>Автомобиль</th>\n",
       "    </tr>\n",
       "  </thead>\n",
       "  <tbody>\n",
       "    <tr>\n",
       "      <th>0</th>\n",
       "      <td>Илья</td>\n",
       "      <td>Васильев</td>\n",
       "      <td>0</td>\n",
       "      <td>56.3</td>\n",
       "      <td>1996-11-30</td>\n",
       "      <td>2020-02-12</td>\n",
       "      <td>45000</td>\n",
       "      <td>киа</td>\n",
       "    </tr>\n",
       "    <tr>\n",
       "      <th>1</th>\n",
       "      <td>Антон</td>\n",
       "      <td>Алексеев</td>\n",
       "      <td>2</td>\n",
       "      <td>77.0</td>\n",
       "      <td>1976-02-29</td>\n",
       "      <td>2001-12-20</td>\n",
       "      <td>33000</td>\n",
       "      <td>рено</td>\n",
       "    </tr>\n",
       "    <tr>\n",
       "      <th>2</th>\n",
       "      <td>Надежда</td>\n",
       "      <td>Гусева</td>\n",
       "      <td>3</td>\n",
       "      <td>103.1</td>\n",
       "      <td>1964-09-26</td>\n",
       "      <td>1981-06-09</td>\n",
       "      <td>80000</td>\n",
       "      <td>жигули</td>\n",
       "    </tr>\n",
       "    <tr>\n",
       "      <th>3</th>\n",
       "      <td>Артем</td>\n",
       "      <td>Павлов</td>\n",
       "      <td>5</td>\n",
       "      <td>134.9</td>\n",
       "      <td>1980-05-18</td>\n",
       "      <td>2008-09-09</td>\n",
       "      <td>50000</td>\n",
       "      <td>бмв</td>\n",
       "    </tr>\n",
       "    <tr>\n",
       "      <th>4</th>\n",
       "      <td>Александр</td>\n",
       "      <td>Николаев</td>\n",
       "      <td>1</td>\n",
       "      <td>47.0</td>\n",
       "      <td>1959-02-24</td>\n",
       "      <td>2019-07-03</td>\n",
       "      <td>29000</td>\n",
       "      <td>киа</td>\n",
       "    </tr>\n",
       "    <tr>\n",
       "      <th>5</th>\n",
       "      <td>Дмитрий</td>\n",
       "      <td>Печенкин</td>\n",
       "      <td>2</td>\n",
       "      <td>61.0</td>\n",
       "      <td>1939-04-05</td>\n",
       "      <td>1958-08-19</td>\n",
       "      <td>100000</td>\n",
       "      <td>жигули</td>\n",
       "    </tr>\n",
       "    <tr>\n",
       "      <th>6</th>\n",
       "      <td>Дарья</td>\n",
       "      <td>Воробева</td>\n",
       "      <td>3</td>\n",
       "      <td>65.0</td>\n",
       "      <td>1997-07-23</td>\n",
       "      <td>2022-12-20</td>\n",
       "      <td>NaN</td>\n",
       "      <td>&lt;NA&gt;</td>\n",
       "    </tr>\n",
       "  </tbody>\n",
       "</table>\n",
       "</div>"
      ],
      "text/plain": [
       "         Имя   Фамилия  Число детей  Площадь дома Дата рождения  \\\n",
       "0       Илья  Васильев            0          56.3    1996-11-30   \n",
       "1      Антон  Алексеев            2          77.0    1976-02-29   \n",
       "2    Надежда    Гусева            3         103.1    1964-09-26   \n",
       "3      Артем    Павлов            5         134.9    1980-05-18   \n",
       "4  Александр  Николаев            1          47.0    1959-02-24   \n",
       "5    Дмитрий  Печенкин            2          61.0    1939-04-05   \n",
       "6      Дарья  Воробева            3          65.0    1997-07-23   \n",
       "\n",
       "  Дата устройства на работу Заработная плата Автомобиль  \n",
       "0                2020-02-12            45000        киа  \n",
       "1                2001-12-20            33000       рено  \n",
       "2                1981-06-09            80000     жигули  \n",
       "3                2008-09-09            50000        бмв  \n",
       "4                2019-07-03            29000        киа  \n",
       "5                1958-08-19           100000     жигули  \n",
       "6                2022-12-20              NaN       <NA>  "
      ]
     },
     "execution_count": 32,
     "metadata": {},
     "output_type": "execute_result"
    }
   ],
   "source": [
    "(df\n",
    "    .astype({'Число детей': int, 'Площадь дома': float})\n",
    "#     .astype({'Площадь дома': int})\n",
    ")"
   ]
  },
  {
   "cell_type": "code",
   "execution_count": 39,
   "id": "7d7a923c",
   "metadata": {},
   "outputs": [
    {
     "data": {
      "text/plain": [
       "65750.0"
      ]
     },
     "execution_count": 39,
     "metadata": {},
     "output_type": "execute_result"
    }
   ],
   "source": [
    "(df\n",
    "    .astype({'Число детей': int})\n",
    "    .query('`Число детей` > 1') # Выбираем людей, у которых хотя бы 2 ребенка\n",
    "    ['Заработная плата'] # выбираем только колонку с заработной платой\n",
    "    .astype(float) # меняем тип данных на float\n",
    "    .mean() # считаем среднее значение\n",
    ")"
   ]
  },
  {
   "cell_type": "code",
   "execution_count": null,
   "id": "d3c6a518",
   "metadata": {},
   "outputs": [],
   "source": []
  },
  {
   "cell_type": "code",
   "execution_count": null,
   "id": "c7b6e181",
   "metadata": {},
   "outputs": [],
   "source": []
  },
  {
   "cell_type": "markdown",
   "id": "eaf9c1ef",
   "metadata": {},
   "source": [
    "Int64 может содержать пропущенные значения"
   ]
  },
  {
   "cell_type": "code",
   "execution_count": 40,
   "id": "5fdb7873",
   "metadata": {},
   "outputs": [
    {
     "data": {
      "text/plain": [
       "0     45000\n",
       "1     33000\n",
       "2     80000\n",
       "3     50000\n",
       "4     29000\n",
       "5    100000\n",
       "6       NaN\n",
       "Name: Заработная плата, dtype: object"
      ]
     },
     "execution_count": 40,
     "metadata": {},
     "output_type": "execute_result"
    }
   ],
   "source": [
    "df['Заработная плата']"
   ]
  },
  {
   "cell_type": "code",
   "execution_count": 41,
   "id": "45eeccff",
   "metadata": {
    "scrolled": false
   },
   "outputs": [
    {
     "ename": "ValueError",
     "evalue": "cannot convert float NaN to integer",
     "output_type": "error",
     "traceback": [
      "\u001b[1;31m---------------------------------------------------------------------------\u001b[0m",
      "\u001b[1;31mValueError\u001b[0m                                Traceback (most recent call last)",
      "Cell \u001b[1;32mIn[41], line 1\u001b[0m\n\u001b[1;32m----> 1\u001b[0m df[\u001b[38;5;124m'\u001b[39m\u001b[38;5;124mЗаработная плата\u001b[39m\u001b[38;5;124m'\u001b[39m]\u001b[38;5;241m.\u001b[39mastype(\u001b[38;5;28mint\u001b[39m)\n",
      "File \u001b[1;32mC:\\anaconda3\\Lib\\site-packages\\pandas\\core\\generic.py:6324\u001b[0m, in \u001b[0;36mNDFrame.astype\u001b[1;34m(self, dtype, copy, errors)\u001b[0m\n\u001b[0;32m   6317\u001b[0m     results \u001b[38;5;241m=\u001b[39m [\n\u001b[0;32m   6318\u001b[0m         \u001b[38;5;28mself\u001b[39m\u001b[38;5;241m.\u001b[39miloc[:, i]\u001b[38;5;241m.\u001b[39mastype(dtype, copy\u001b[38;5;241m=\u001b[39mcopy)\n\u001b[0;32m   6319\u001b[0m         \u001b[38;5;28;01mfor\u001b[39;00m i \u001b[38;5;129;01min\u001b[39;00m \u001b[38;5;28mrange\u001b[39m(\u001b[38;5;28mlen\u001b[39m(\u001b[38;5;28mself\u001b[39m\u001b[38;5;241m.\u001b[39mcolumns))\n\u001b[0;32m   6320\u001b[0m     ]\n\u001b[0;32m   6322\u001b[0m \u001b[38;5;28;01melse\u001b[39;00m:\n\u001b[0;32m   6323\u001b[0m     \u001b[38;5;66;03m# else, only a single dtype is given\u001b[39;00m\n\u001b[1;32m-> 6324\u001b[0m     new_data \u001b[38;5;241m=\u001b[39m \u001b[38;5;28mself\u001b[39m\u001b[38;5;241m.\u001b[39m_mgr\u001b[38;5;241m.\u001b[39mastype(dtype\u001b[38;5;241m=\u001b[39mdtype, copy\u001b[38;5;241m=\u001b[39mcopy, errors\u001b[38;5;241m=\u001b[39merrors)\n\u001b[0;32m   6325\u001b[0m     \u001b[38;5;28;01mreturn\u001b[39;00m \u001b[38;5;28mself\u001b[39m\u001b[38;5;241m.\u001b[39m_constructor(new_data)\u001b[38;5;241m.\u001b[39m__finalize__(\u001b[38;5;28mself\u001b[39m, method\u001b[38;5;241m=\u001b[39m\u001b[38;5;124m\"\u001b[39m\u001b[38;5;124mastype\u001b[39m\u001b[38;5;124m\"\u001b[39m)\n\u001b[0;32m   6327\u001b[0m \u001b[38;5;66;03m# GH 33113: handle empty frame or series\u001b[39;00m\n",
      "File \u001b[1;32mC:\\anaconda3\\Lib\\site-packages\\pandas\\core\\internals\\managers.py:451\u001b[0m, in \u001b[0;36mBaseBlockManager.astype\u001b[1;34m(self, dtype, copy, errors)\u001b[0m\n\u001b[0;32m    448\u001b[0m \u001b[38;5;28;01melif\u001b[39;00m using_copy_on_write():\n\u001b[0;32m    449\u001b[0m     copy \u001b[38;5;241m=\u001b[39m \u001b[38;5;28;01mFalse\u001b[39;00m\n\u001b[1;32m--> 451\u001b[0m \u001b[38;5;28;01mreturn\u001b[39;00m \u001b[38;5;28mself\u001b[39m\u001b[38;5;241m.\u001b[39mapply(\n\u001b[0;32m    452\u001b[0m     \u001b[38;5;124m\"\u001b[39m\u001b[38;5;124mastype\u001b[39m\u001b[38;5;124m\"\u001b[39m,\n\u001b[0;32m    453\u001b[0m     dtype\u001b[38;5;241m=\u001b[39mdtype,\n\u001b[0;32m    454\u001b[0m     copy\u001b[38;5;241m=\u001b[39mcopy,\n\u001b[0;32m    455\u001b[0m     errors\u001b[38;5;241m=\u001b[39merrors,\n\u001b[0;32m    456\u001b[0m     using_cow\u001b[38;5;241m=\u001b[39musing_copy_on_write(),\n\u001b[0;32m    457\u001b[0m )\n",
      "File \u001b[1;32mC:\\anaconda3\\Lib\\site-packages\\pandas\\core\\internals\\managers.py:352\u001b[0m, in \u001b[0;36mBaseBlockManager.apply\u001b[1;34m(self, f, align_keys, **kwargs)\u001b[0m\n\u001b[0;32m    350\u001b[0m         applied \u001b[38;5;241m=\u001b[39m b\u001b[38;5;241m.\u001b[39mapply(f, \u001b[38;5;241m*\u001b[39m\u001b[38;5;241m*\u001b[39mkwargs)\n\u001b[0;32m    351\u001b[0m     \u001b[38;5;28;01melse\u001b[39;00m:\n\u001b[1;32m--> 352\u001b[0m         applied \u001b[38;5;241m=\u001b[39m \u001b[38;5;28mgetattr\u001b[39m(b, f)(\u001b[38;5;241m*\u001b[39m\u001b[38;5;241m*\u001b[39mkwargs)\n\u001b[0;32m    353\u001b[0m     result_blocks \u001b[38;5;241m=\u001b[39m extend_blocks(applied, result_blocks)\n\u001b[0;32m    355\u001b[0m out \u001b[38;5;241m=\u001b[39m \u001b[38;5;28mtype\u001b[39m(\u001b[38;5;28mself\u001b[39m)\u001b[38;5;241m.\u001b[39mfrom_blocks(result_blocks, \u001b[38;5;28mself\u001b[39m\u001b[38;5;241m.\u001b[39maxes)\n",
      "File \u001b[1;32mC:\\anaconda3\\Lib\\site-packages\\pandas\\core\\internals\\blocks.py:511\u001b[0m, in \u001b[0;36mBlock.astype\u001b[1;34m(self, dtype, copy, errors, using_cow)\u001b[0m\n\u001b[0;32m    491\u001b[0m \u001b[38;5;250m\u001b[39m\u001b[38;5;124;03m\"\"\"\u001b[39;00m\n\u001b[0;32m    492\u001b[0m \u001b[38;5;124;03mCoerce to the new dtype.\u001b[39;00m\n\u001b[0;32m    493\u001b[0m \n\u001b[1;32m   (...)\u001b[0m\n\u001b[0;32m    507\u001b[0m \u001b[38;5;124;03mBlock\u001b[39;00m\n\u001b[0;32m    508\u001b[0m \u001b[38;5;124;03m\"\"\"\u001b[39;00m\n\u001b[0;32m    509\u001b[0m values \u001b[38;5;241m=\u001b[39m \u001b[38;5;28mself\u001b[39m\u001b[38;5;241m.\u001b[39mvalues\n\u001b[1;32m--> 511\u001b[0m new_values \u001b[38;5;241m=\u001b[39m astype_array_safe(values, dtype, copy\u001b[38;5;241m=\u001b[39mcopy, errors\u001b[38;5;241m=\u001b[39merrors)\n\u001b[0;32m    513\u001b[0m new_values \u001b[38;5;241m=\u001b[39m maybe_coerce_values(new_values)\n\u001b[0;32m    515\u001b[0m refs \u001b[38;5;241m=\u001b[39m \u001b[38;5;28;01mNone\u001b[39;00m\n",
      "File \u001b[1;32mC:\\anaconda3\\Lib\\site-packages\\pandas\\core\\dtypes\\astype.py:242\u001b[0m, in \u001b[0;36mastype_array_safe\u001b[1;34m(values, dtype, copy, errors)\u001b[0m\n\u001b[0;32m    239\u001b[0m     dtype \u001b[38;5;241m=\u001b[39m dtype\u001b[38;5;241m.\u001b[39mnumpy_dtype\n\u001b[0;32m    241\u001b[0m \u001b[38;5;28;01mtry\u001b[39;00m:\n\u001b[1;32m--> 242\u001b[0m     new_values \u001b[38;5;241m=\u001b[39m astype_array(values, dtype, copy\u001b[38;5;241m=\u001b[39mcopy)\n\u001b[0;32m    243\u001b[0m \u001b[38;5;28;01mexcept\u001b[39;00m (\u001b[38;5;167;01mValueError\u001b[39;00m, \u001b[38;5;167;01mTypeError\u001b[39;00m):\n\u001b[0;32m    244\u001b[0m     \u001b[38;5;66;03m# e.g. _astype_nansafe can fail on object-dtype of strings\u001b[39;00m\n\u001b[0;32m    245\u001b[0m     \u001b[38;5;66;03m#  trying to convert to float\u001b[39;00m\n\u001b[0;32m    246\u001b[0m     \u001b[38;5;28;01mif\u001b[39;00m errors \u001b[38;5;241m==\u001b[39m \u001b[38;5;124m\"\u001b[39m\u001b[38;5;124mignore\u001b[39m\u001b[38;5;124m\"\u001b[39m:\n",
      "File \u001b[1;32mC:\\anaconda3\\Lib\\site-packages\\pandas\\core\\dtypes\\astype.py:187\u001b[0m, in \u001b[0;36mastype_array\u001b[1;34m(values, dtype, copy)\u001b[0m\n\u001b[0;32m    184\u001b[0m     values \u001b[38;5;241m=\u001b[39m values\u001b[38;5;241m.\u001b[39mastype(dtype, copy\u001b[38;5;241m=\u001b[39mcopy)\n\u001b[0;32m    186\u001b[0m \u001b[38;5;28;01melse\u001b[39;00m:\n\u001b[1;32m--> 187\u001b[0m     values \u001b[38;5;241m=\u001b[39m _astype_nansafe(values, dtype, copy\u001b[38;5;241m=\u001b[39mcopy)\n\u001b[0;32m    189\u001b[0m \u001b[38;5;66;03m# in pandas we don't store numpy str dtypes, so convert to object\u001b[39;00m\n\u001b[0;32m    190\u001b[0m \u001b[38;5;28;01mif\u001b[39;00m \u001b[38;5;28misinstance\u001b[39m(dtype, np\u001b[38;5;241m.\u001b[39mdtype) \u001b[38;5;129;01mand\u001b[39;00m \u001b[38;5;28missubclass\u001b[39m(values\u001b[38;5;241m.\u001b[39mdtype\u001b[38;5;241m.\u001b[39mtype, \u001b[38;5;28mstr\u001b[39m):\n",
      "File \u001b[1;32mC:\\anaconda3\\Lib\\site-packages\\pandas\\core\\dtypes\\astype.py:138\u001b[0m, in \u001b[0;36m_astype_nansafe\u001b[1;34m(arr, dtype, copy, skipna)\u001b[0m\n\u001b[0;32m    134\u001b[0m     \u001b[38;5;28;01mraise\u001b[39;00m \u001b[38;5;167;01mValueError\u001b[39;00m(msg)\n\u001b[0;32m    136\u001b[0m \u001b[38;5;28;01mif\u001b[39;00m copy \u001b[38;5;129;01mor\u001b[39;00m is_object_dtype(arr\u001b[38;5;241m.\u001b[39mdtype) \u001b[38;5;129;01mor\u001b[39;00m is_object_dtype(dtype):\n\u001b[0;32m    137\u001b[0m     \u001b[38;5;66;03m# Explicit copy, or required since NumPy can't view from / to object.\u001b[39;00m\n\u001b[1;32m--> 138\u001b[0m     \u001b[38;5;28;01mreturn\u001b[39;00m arr\u001b[38;5;241m.\u001b[39mastype(dtype, copy\u001b[38;5;241m=\u001b[39m\u001b[38;5;28;01mTrue\u001b[39;00m)\n\u001b[0;32m    140\u001b[0m \u001b[38;5;28;01mreturn\u001b[39;00m arr\u001b[38;5;241m.\u001b[39mastype(dtype, copy\u001b[38;5;241m=\u001b[39mcopy)\n",
      "\u001b[1;31mValueError\u001b[0m: cannot convert float NaN to integer"
     ]
    }
   ],
   "source": [
    "df['Заработная плата'].astype(int)\n"
   ]
  },
  {
   "cell_type": "code",
   "execution_count": 42,
   "id": "6655d498",
   "metadata": {},
   "outputs": [
    {
     "data": {
      "text/plain": [
       "0     45000.0\n",
       "1     33000.0\n",
       "2     80000.0\n",
       "3     50000.0\n",
       "4     29000.0\n",
       "5    100000.0\n",
       "6         NaN\n",
       "Name: Заработная плата, dtype: float64"
      ]
     },
     "execution_count": 42,
     "metadata": {},
     "output_type": "execute_result"
    }
   ],
   "source": [
    "df['Заработная плата'].astype(float)"
   ]
  },
  {
   "cell_type": "code",
   "execution_count": 43,
   "id": "503a3f4c",
   "metadata": {},
   "outputs": [
    {
     "data": {
      "text/plain": [
       "0     45000\n",
       "1     33000\n",
       "2     80000\n",
       "3     50000\n",
       "4     29000\n",
       "5    100000\n",
       "6      <NA>\n",
       "Name: Заработная плата, dtype: Int64"
      ]
     },
     "execution_count": 43,
     "metadata": {},
     "output_type": "execute_result"
    }
   ],
   "source": [
    "df['Заработная плата'].astype('Int64')"
   ]
  },
  {
   "cell_type": "code",
   "execution_count": 44,
   "id": "303a6b31",
   "metadata": {},
   "outputs": [
    {
     "data": {
      "text/plain": [
       "0       киа\n",
       "1      рено\n",
       "2    жигули\n",
       "3       бмв\n",
       "4       киа\n",
       "5    жигули\n",
       "6      <NA>\n",
       "Name: Автомобиль, dtype: object"
      ]
     },
     "execution_count": 44,
     "metadata": {},
     "output_type": "execute_result"
    }
   ],
   "source": [
    "df['Автомобиль']"
   ]
  },
  {
   "cell_type": "code",
   "execution_count": 45,
   "id": "cfec4d62",
   "metadata": {},
   "outputs": [
    {
     "name": "stdout",
     "output_type": "stream",
     "text": [
      "<class 'pandas.core.series.Series'>\n",
      "RangeIndex: 7 entries, 0 to 6\n",
      "Series name: Автомобиль\n",
      "Non-Null Count  Dtype \n",
      "--------------  ----- \n",
      "6 non-null      string\n",
      "dtypes: string(1)\n",
      "memory usage: 188.0 bytes\n"
     ]
    }
   ],
   "source": [
    "df['Автомобиль'].astype('string').info()"
   ]
  },
  {
   "cell_type": "code",
   "execution_count": 46,
   "id": "7e6a0c3c",
   "metadata": {},
   "outputs": [
    {
     "name": "stdout",
     "output_type": "stream",
     "text": [
      "<class 'pandas.core.series.Series'>\n",
      "RangeIndex: 7 entries, 0 to 6\n",
      "Series name: Автомобиль\n",
      "Non-Null Count  Dtype \n",
      "--------------  ----- \n",
      "7 non-null      object\n",
      "dtypes: object(1)\n",
      "memory usage: 188.0+ bytes\n"
     ]
    }
   ],
   "source": [
    "df['Автомобиль'].astype(str).info()"
   ]
  },
  {
   "cell_type": "code",
   "execution_count": null,
   "id": "a3af7140",
   "metadata": {},
   "outputs": [],
   "source": []
  },
  {
   "cell_type": "code",
   "execution_count": null,
   "id": "ceee173b",
   "metadata": {},
   "outputs": [],
   "source": []
  },
  {
   "cell_type": "code",
   "execution_count": null,
   "id": "a282252d",
   "metadata": {},
   "outputs": [],
   "source": []
  },
  {
   "cell_type": "code",
   "execution_count": null,
   "id": "82a86e1f",
   "metadata": {},
   "outputs": [],
   "source": []
  },
  {
   "cell_type": "code",
   "execution_count": null,
   "id": "a9150f85",
   "metadata": {},
   "outputs": [],
   "source": []
  },
  {
   "cell_type": "code",
   "execution_count": null,
   "id": "52a0f0c1",
   "metadata": {},
   "outputs": [],
   "source": []
  },
  {
   "cell_type": "code",
   "execution_count": null,
   "id": "16221875",
   "metadata": {},
   "outputs": [],
   "source": []
  },
  {
   "cell_type": "code",
   "execution_count": null,
   "id": "53eca7a3",
   "metadata": {},
   "outputs": [],
   "source": []
  },
  {
   "cell_type": "code",
   "execution_count": null,
   "id": "bfb1cff8",
   "metadata": {},
   "outputs": [],
   "source": []
  },
  {
   "cell_type": "markdown",
   "id": "b8856610",
   "metadata": {},
   "source": [
    "# Задания"
   ]
  },
  {
   "cell_type": "markdown",
   "id": "430fd142",
   "metadata": {},
   "source": [
    "#### Описание таблиц лежит [здесь](https://github.com/victorlymarev/pandas/tree/main/tables#%D0%BE%D0%BF%D0%B8%D1%81%D0%B0%D0%BD%D0%B8%D0%B5-%D1%82%D0%B0%D0%B1%D0%BB%D0%B8%D1%86)"
   ]
  },
  {
   "cell_type": "markdown",
   "id": "696f10ee",
   "metadata": {},
   "source": [
    "Некоторые таблицы занимают много памяти, поэтому каждые 5-10 заданий лучше перезапускайте ноутбук.\n",
    "\n",
    "В формулировке некоторых заданий может содержаться вариативность. Если у вас есть сомнения, что требуется в задании, попробуйте решить несколько вариантов. Если вы не понимаете задание, можете написать об этом в комментариях под видео.\n",
    "\n",
    "В большинстве случаев внешний вид итоговой таблицы не определен. Выведите на экран наиболее адекватный вариант. То есть таблицу, из которой можно будет сделать выводы.\n",
    "\n",
    "Курс пока находится в разработке. Вы можете помочь другим людям добавив свое решение [сюда](https://docs.google.com/forms/d/1HYTBz_KfssY3Jps2dC3n0YnEqa6WBb5OIhLo1d32Xzw/edit).\n",
    "\n",
    "Посмотреть решения других людей можно [здесь](https://docs.google.com/spreadsheets/d/1pMDYO-9UneLbPPnEuQ2shig0TOJdQTU-zipifyAnZMk/edit?resourcekey#gid=1998648012)"
   ]
  },
  {
   "cell_type": "markdown",
   "id": "e1751d75",
   "metadata": {},
   "source": [
    "### Задание 1\n",
    "В таблице w_ends для каждой даты отмечено, был ли этот день выходным. Посмотрите на типы данных в таблице. Приведите колонку с датами к типу datetime64[ns]"
   ]
  },
  {
   "cell_type": "code",
   "execution_count": null,
   "id": "79908a2a",
   "metadata": {},
   "outputs": [],
   "source": [
    "import os\n",
    "import pandas as pd\n",
    "\n",
    "path_w_ends = '../tables/выходные.csv' if os.path.exists('../tables/выходные.csv') else 'https://drive.google.com/uc?id=1hAsoXSPTFihFmBuF-E0uSj9pX4gpojwC'\n",
    "w_ends = pd.read_csv(path_w_ends)\n",
    "w_ends\n",
    "\n",
    "# напишите свой код здесь"
   ]
  },
  {
   "cell_type": "markdown",
   "id": "93c0ab3a",
   "metadata": {},
   "source": [
    "### Задание 2\n",
    "\n",
    "Приведите колонку Математика к типу string, а колонку Литература к строкам. Таблица лежит в переменной marks"
   ]
  },
  {
   "cell_type": "code",
   "execution_count": null,
   "id": "0ee376c8",
   "metadata": {},
   "outputs": [],
   "source": [
    "import os\n",
    "import pandas as pd\n",
    "\n",
    "path_marks = '../tables/оценки.xlsx' if os.path.exists('../tables/оценки.xlsx') else 'https://drive.google.com/uc?id=17f4DXx53J0WooNkhO13xidseZJ-O2obs'\n",
    "marks = pd.read_excel(path_marks)\n",
    "marks\n",
    "\n",
    "# напишите свой код здесь"
   ]
  },
  {
   "cell_type": "markdown",
   "id": "f55246aa",
   "metadata": {},
   "source": [
    "### Задание 3\n",
    "\n",
    "В дальнейшем вы будете работать с таблицами, которые будут содержать информацию о магазинах одежды. В таблице shops лежать адреса этих магазинов, и дата открытия.\n",
    "\n",
    "Изучите таблицу, посмотрите на типы данных в ней. Приведите колонки таблицы к форматам, которые вам кажутся наиболее подходящими"
   ]
  },
  {
   "cell_type": "code",
   "execution_count": null,
   "id": "7922a08b",
   "metadata": {},
   "outputs": [],
   "source": [
    "import os\n",
    "import pandas as pd\n",
    "\n",
    "path_shops = '../tables/shops.xlsx' if os.path.exists('../tables/shops.xlsx') else 'https://drive.google.com/uc?id=1gfnmceJa3Mc1X06NftTx9G9QfKfprjEB'\n",
    "shops = pd.read_excel(path_shops).astype({'shop_id': str})\n",
    "shops\n",
    "\n",
    "# напишите свой код здесь"
   ]
  },
  {
   "cell_type": "markdown",
   "id": "4a4e4d7d",
   "metadata": {},
   "source": [
    "### Задание 4\n",
    "\n",
    "В таблице empl приведите колонку salary (зарплата) к целым числам"
   ]
  },
  {
   "cell_type": "code",
   "execution_count": null,
   "id": "a5b4efe9",
   "metadata": {},
   "outputs": [],
   "source": [
    "import os\n",
    "import pandas as pd\n",
    "\n",
    "path_empl = '../tables/employees.parquet' if os.path.exists('../tables/employees.parquet') else 'https://drive.google.com/uc?id=1AARD5-eVlCxoApt5CYZebrC3Cqw42lvj'\n",
    "\n",
    "empl = pd.read_parquet(path_empl)\n",
    "empl"
   ]
  },
  {
   "cell_type": "markdown",
   "id": "95ee4550",
   "metadata": {},
   "source": [
    "### Задание 5\n",
    "\n",
    "В таблите ltc лежат данные по курсу криптовалюты litecoin. Посмотрите на типы данных в таблице. Приведите колнку date к типу datetime64. Используйте параметр format. (На самом деле функция to_datetime сработает и без него, но лучше попрактикуйтесь с ним). Подсказка  о том, как это сделать содержится внутри метода strftime. На остальные методы пока внимание не обращайте"
   ]
  },
  {
   "cell_type": "code",
   "execution_count": null,
   "id": "d117a0b3",
   "metadata": {},
   "outputs": [],
   "source": [
    "import os\n",
    "import pandas as pd\n",
    "\n",
    "path_ltc_sample = '../tables/ltc_sample.parquet' if os.path.exists('../tables/ltc_sample.parquet') else 'https://drive.google.com/uc?id=1XaThogOOqKjJj50LvfJ9WqutjMAC5AxA'\n",
    "\n",
    "ltc = (pd.read_parquet(path_ltc_sample)\n",
    "       .head(10)\n",
    "       .assign(date = lambda x: x['date'].dt.strftime('%H:%M:%S %d/%m/%Y'))\n",
    ")\n",
    "ltc\n",
    "\n",
    "# напишите свой код здесь"
   ]
  },
  {
   "cell_type": "markdown",
   "id": "1e1d4f70",
   "metadata": {},
   "source": [
    "### Задание 6\n",
    "\n",
    "Посмотрите на таблицу xdg_usdt. В ней содержаться данные по торговли криптовалютами xdg и usdt.\n",
    "В ней нас интересует колонка дата. Посмотрите какого она типа?\n",
    "\n",
    "Иногда даты хранятся не в виде строк, а в виде целых чисел. Каждое число - это количество секунд, милисекунд или наносекунд, которое прошло с 1 января 1970 года. Привести такую колонку к привычному формату дат можно при помощи функции to_datetime, используя в ней парметр unit. Этому параметру необходимо передать значение 's' для секунд, 'ms' - для милисекунд, 'ns' - для наносекунд. \n",
    "\n",
    "Приведите колонку с датами к типу datetime64, подобрав нужное значение в параметре unit"
   ]
  },
  {
   "cell_type": "code",
   "execution_count": null,
   "id": "3203cea4",
   "metadata": {},
   "outputs": [],
   "source": [
    "import os\n",
    "import pandas as pd\n",
    "path_xdg_usdt = '../tables/XDGUSDT.csv' if os.path.exists('../tables/XDGUSDT.csv') else 'https://drive.google.com/uc?id=1oLjCNOsdKbd87sIgW0_OWDpD2DVHAAAV'\n",
    "xdg_usdt = pd.read_csv(path_xdg_usdt, header=None).set_axis(['Дата', 'Цена', 'Объем'], axis=1)\n",
    "xdg_usdt"
   ]
  },
  {
   "cell_type": "code",
   "execution_count": null,
   "id": "0309deee",
   "metadata": {},
   "outputs": [],
   "source": [
    "# Пример того, как это работает\n",
    "pd.to_datetime([1234567890, 973401234, 2536234589], unit='s')"
   ]
  },
  {
   "cell_type": "code",
   "execution_count": null,
   "id": "035f2d55",
   "metadata": {},
   "outputs": [],
   "source": [
    "# напишите свой код здесь"
   ]
  },
  {
   "cell_type": "markdown",
   "id": "a03b31b4",
   "metadata": {},
   "source": [
    "### Задание 7\n",
    "\n",
    "В видео была допущена ошибка, когда было сказано, что можно поменять формат отображения дат. Это не так. Даты можно представить в виде строк в определенном формате. Для того, чтобы это сделать необходимо обратиться к колонке с датами, а затем обратиться к конструкции dt.strftime(). Внутри метода надо указать формат даты. \n",
    "\n",
    "Приведите колонку open_date к строкам, чтобы дата лежала в формате число, месяц, год.  В качестве разделителей возьмите слэш /"
   ]
  },
  {
   "cell_type": "code",
   "execution_count": null,
   "id": "353b93e4",
   "metadata": {},
   "outputs": [],
   "source": [
    "import os\n",
    "import pandas as pd\n",
    "\n",
    "path_shops = '../tables/shops.xlsx' if os.path.exists('../tables/shops.xlsx') else 'https://drive.google.com/uc?id=1gfnmceJa3Mc1X06NftTx9G9QfKfprjEB'\n",
    "\n",
    "shops = pd.read_excel(path_shops)\n",
    "shops.head()"
   ]
  },
  {
   "cell_type": "code",
   "execution_count": null,
   "id": "831bdc36",
   "metadata": {},
   "outputs": [],
   "source": [
    "shops['open_date'].dt.strftime('%d/%m/%Y')"
   ]
  },
  {
   "cell_type": "code",
   "execution_count": null,
   "id": "823489ec",
   "metadata": {},
   "outputs": [],
   "source": []
  },
  {
   "cell_type": "code",
   "execution_count": null,
   "id": "3c4dbb64",
   "metadata": {},
   "outputs": [],
   "source": []
  },
  {
   "cell_type": "code",
   "execution_count": null,
   "id": "56955191",
   "metadata": {},
   "outputs": [],
   "source": []
  },
  {
   "cell_type": "code",
   "execution_count": null,
   "id": "0d26f8eb",
   "metadata": {},
   "outputs": [],
   "source": []
  },
  {
   "cell_type": "code",
   "execution_count": null,
   "id": "836904f9",
   "metadata": {},
   "outputs": [],
   "source": []
  },
  {
   "cell_type": "code",
   "execution_count": null,
   "id": "5b51bbde",
   "metadata": {},
   "outputs": [],
   "source": []
  },
  {
   "cell_type": "code",
   "execution_count": null,
   "id": "3a4552d4",
   "metadata": {},
   "outputs": [],
   "source": []
  },
  {
   "cell_type": "code",
   "execution_count": null,
   "id": "5200c015",
   "metadata": {},
   "outputs": [],
   "source": []
  }
 ],
 "metadata": {
  "kernelspec": {
   "display_name": "Python 3 (ipykernel)",
   "language": "python",
   "name": "python3"
  },
  "language_info": {
   "codemirror_mode": {
    "name": "ipython",
    "version": 3
   },
   "file_extension": ".py",
   "mimetype": "text/x-python",
   "name": "python",
   "nbconvert_exporter": "python",
   "pygments_lexer": "ipython3",
   "version": "3.11.6"
  }
 },
 "nbformat": 4,
 "nbformat_minor": 5
}
