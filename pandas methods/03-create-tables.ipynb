{
 "cells": [
  {
   "cell_type": "markdown",
   "id": "2e049cf6",
   "metadata": {},
   "source": [
    "<a target=\"_blank\" href=\"https://colab.research.google.com/github/victorlymarev/pandas/blob/main/notebooks/03-create-tables.ipynb\">\n",
    "  <img src=\"https://colab.research.google.com/assets/colab-badge.svg\" alt=\"Open In Colab\"/>\n",
    "</a>"
   ]
  },
  {
   "cell_type": "markdown",
   "id": "2022d1cc",
   "metadata": {},
   "source": [
    "# Создание таблиц\n",
    "#### [Ссылка на видео](https://youtu.be/B02VfvdXJfA)"
   ]
  },
  {
   "cell_type": "code",
   "execution_count": 3,
   "id": "d38eb4d8",
   "metadata": {},
   "outputs": [],
   "source": [
    "import pandas as pd\n",
    "import numpy as np"
   ]
  },
  {
   "cell_type": "markdown",
   "id": "54e2d350",
   "metadata": {},
   "source": [
    "## Создание объекта Series"
   ]
  },
  {
   "cell_type": "markdown",
   "id": "2c0d347c",
   "metadata": {},
   "source": [
    "### На основе одного значения"
   ]
  },
  {
   "cell_type": "code",
   "execution_count": 4,
   "id": "02b7cd2a",
   "metadata": {},
   "outputs": [
    {
     "data": {
      "text/plain": [
       "0    1\n",
       "dtype: int64"
      ]
     },
     "execution_count": 4,
     "metadata": {},
     "output_type": "execute_result"
    }
   ],
   "source": [
    "pd.Series(1)"
   ]
  },
  {
   "cell_type": "code",
   "execution_count": 5,
   "id": "17431ac3",
   "metadata": {},
   "outputs": [
    {
     "data": {
      "text/plain": [
       "0    pandas\n",
       "dtype: object"
      ]
     },
     "execution_count": 5,
     "metadata": {},
     "output_type": "execute_result"
    }
   ],
   "source": [
    "pd.Series('pandas')"
   ]
  },
  {
   "cell_type": "markdown",
   "id": "f42bcff0",
   "metadata": {},
   "source": [
    "### На основе списка"
   ]
  },
  {
   "cell_type": "code",
   "execution_count": 6,
   "id": "d153d478",
   "metadata": {},
   "outputs": [
    {
     "data": {
      "text/plain": [
       "['Аня', 'Маша', 'Вася', 'Катя', 'Аня']"
      ]
     },
     "execution_count": 6,
     "metadata": {},
     "output_type": "execute_result"
    }
   ],
   "source": [
    "['Аня', 'Маша', 'Вася', 'Катя', 'Аня']"
   ]
  },
  {
   "cell_type": "code",
   "execution_count": 7,
   "id": "626cf6cf",
   "metadata": {},
   "outputs": [
    {
     "data": {
      "text/plain": [
       "0     Аня\n",
       "1    Маша\n",
       "2    Вася\n",
       "3    Катя\n",
       "4     Аня\n",
       "dtype: object"
      ]
     },
     "execution_count": 7,
     "metadata": {},
     "output_type": "execute_result"
    }
   ],
   "source": [
    "pd.Series(['Аня', 'Маша', 'Вася', 'Катя', 'Аня'])"
   ]
  },
  {
   "cell_type": "code",
   "execution_count": 8,
   "id": "9f465a76",
   "metadata": {},
   "outputs": [
    {
     "data": {
      "text/plain": [
       "Аня     2\n",
       "Маша    1\n",
       "Вася    1\n",
       "Катя    1\n",
       "Name: count, dtype: int64"
      ]
     },
     "execution_count": 8,
     "metadata": {},
     "output_type": "execute_result"
    }
   ],
   "source": [
    "pd.Series(['Аня', 'Маша', 'Вася', 'Катя', 'Аня']).value_counts()"
   ]
  },
  {
   "cell_type": "markdown",
   "id": "8fd530df",
   "metadata": {},
   "source": [
    "### На основе словаря"
   ]
  },
  {
   "cell_type": "code",
   "execution_count": 9,
   "id": "70541e76",
   "metadata": {},
   "outputs": [
    {
     "data": {
      "text/plain": [
       "3      Катя\n",
       "9     Света\n",
       "34     Паша\n",
       "dtype: object"
      ]
     },
     "execution_count": 9,
     "metadata": {},
     "output_type": "execute_result"
    }
   ],
   "source": [
    "pd.Series({3:\"Катя\", 9:\"Света\", 34: \"Паша\"})"
   ]
  },
  {
   "cell_type": "markdown",
   "id": "9371a2a6",
   "metadata": {},
   "source": [
    "## Создание датафреймов"
   ]
  },
  {
   "cell_type": "markdown",
   "id": "8130f250",
   "metadata": {},
   "source": [
    "### На основе словаря"
   ]
  },
  {
   "cell_type": "code",
   "execution_count": 11,
   "id": "99796006",
   "metadata": {},
   "outputs": [],
   "source": [
    "people_dict = {\n",
    "    'Имя': ['Екатерина', 'Евгений', 'Андрей', 'Виктория', 'Анастасия', 'Данил'],\n",
    "    \n",
    "    'Фамилия': [pd.NA, 'Бубликов', 'Васильев', 'Леонова', 'Долгова',\n",
    "                'Новиков'],\n",
    "    \n",
    "    'Дата рождения': pd.to_datetime(['1992-06-25', '1995-09-09', '2000-02-29',\n",
    "                                     '1999-06-15', '2003-04-06', '1995-06-03']),\n",
    "    \n",
    "    'Количество детей': 0,\n",
    "    \n",
    "    'Дата увольнения': pd.Timestamp('12-06-2023')\n",
    "}"
   ]
  },
  {
   "cell_type": "code",
   "execution_count": 12,
   "id": "f166ea75",
   "metadata": {},
   "outputs": [
    {
     "data": {
      "text/html": [
       "<div>\n",
       "<style scoped>\n",
       "    .dataframe tbody tr th:only-of-type {\n",
       "        vertical-align: middle;\n",
       "    }\n",
       "\n",
       "    .dataframe tbody tr th {\n",
       "        vertical-align: top;\n",
       "    }\n",
       "\n",
       "    .dataframe thead th {\n",
       "        text-align: right;\n",
       "    }\n",
       "</style>\n",
       "<table border=\"1\" class=\"dataframe\">\n",
       "  <thead>\n",
       "    <tr style=\"text-align: right;\">\n",
       "      <th></th>\n",
       "      <th>Имя</th>\n",
       "      <th>Фамилия</th>\n",
       "      <th>Дата рождения</th>\n",
       "      <th>Количество детей</th>\n",
       "      <th>Дата увольнения</th>\n",
       "    </tr>\n",
       "  </thead>\n",
       "  <tbody>\n",
       "    <tr>\n",
       "      <th>0</th>\n",
       "      <td>Екатерина</td>\n",
       "      <td>&lt;NA&gt;</td>\n",
       "      <td>1992-06-25</td>\n",
       "      <td>0</td>\n",
       "      <td>2023-12-06</td>\n",
       "    </tr>\n",
       "    <tr>\n",
       "      <th>1</th>\n",
       "      <td>Евгений</td>\n",
       "      <td>Бубликов</td>\n",
       "      <td>1995-09-09</td>\n",
       "      <td>0</td>\n",
       "      <td>2023-12-06</td>\n",
       "    </tr>\n",
       "    <tr>\n",
       "      <th>2</th>\n",
       "      <td>Андрей</td>\n",
       "      <td>Васильев</td>\n",
       "      <td>2000-02-29</td>\n",
       "      <td>0</td>\n",
       "      <td>2023-12-06</td>\n",
       "    </tr>\n",
       "    <tr>\n",
       "      <th>3</th>\n",
       "      <td>Виктория</td>\n",
       "      <td>Леонова</td>\n",
       "      <td>1999-06-15</td>\n",
       "      <td>0</td>\n",
       "      <td>2023-12-06</td>\n",
       "    </tr>\n",
       "    <tr>\n",
       "      <th>4</th>\n",
       "      <td>Анастасия</td>\n",
       "      <td>Долгова</td>\n",
       "      <td>2003-04-06</td>\n",
       "      <td>0</td>\n",
       "      <td>2023-12-06</td>\n",
       "    </tr>\n",
       "    <tr>\n",
       "      <th>5</th>\n",
       "      <td>Данил</td>\n",
       "      <td>Новиков</td>\n",
       "      <td>1995-06-03</td>\n",
       "      <td>0</td>\n",
       "      <td>2023-12-06</td>\n",
       "    </tr>\n",
       "  </tbody>\n",
       "</table>\n",
       "</div>"
      ],
      "text/plain": [
       "         Имя   Фамилия Дата рождения  Количество детей Дата увольнения\n",
       "0  Екатерина      <NA>    1992-06-25                 0      2023-12-06\n",
       "1    Евгений  Бубликов    1995-09-09                 0      2023-12-06\n",
       "2     Андрей  Васильев    2000-02-29                 0      2023-12-06\n",
       "3   Виктория   Леонова    1999-06-15                 0      2023-12-06\n",
       "4  Анастасия   Долгова    2003-04-06                 0      2023-12-06\n",
       "5      Данил   Новиков    1995-06-03                 0      2023-12-06"
      ]
     },
     "execution_count": 12,
     "metadata": {},
     "output_type": "execute_result"
    }
   ],
   "source": [
    "pd.DataFrame(people_dict)"
   ]
  },
  {
   "cell_type": "markdown",
   "id": "36af597a",
   "metadata": {},
   "source": [
    "## Функции для создания периодических чисел или дат"
   ]
  },
  {
   "cell_type": "markdown",
   "id": "1ff0f7d7",
   "metadata": {},
   "source": [
    "### np.arange\n",
    "\n",
    "Генерирует целые числа\n",
    "\n",
    "#### Синтаксис\n",
    "\n",
    "1. np.arange(первое число в массиве, последнее число в массиве невключительно, шаг (по умолчанию равен 1))\n",
    "2. np.arange(последнее число в массиве невключительно)"
   ]
  },
  {
   "cell_type": "code",
   "execution_count": 13,
   "id": "c03f530c",
   "metadata": {},
   "outputs": [
    {
     "data": {
      "text/plain": [
       "array([0, 1, 2, 3, 4])"
      ]
     },
     "execution_count": 13,
     "metadata": {},
     "output_type": "execute_result"
    }
   ],
   "source": [
    "np.arange(5)"
   ]
  },
  {
   "cell_type": "code",
   "execution_count": 14,
   "id": "03177851",
   "metadata": {},
   "outputs": [
    {
     "data": {
      "text/plain": [
       "array([2, 3, 4])"
      ]
     },
     "execution_count": 14,
     "metadata": {},
     "output_type": "execute_result"
    }
   ],
   "source": [
    "np.arange(2, 5)"
   ]
  },
  {
   "cell_type": "code",
   "execution_count": 15,
   "id": "529f32ef",
   "metadata": {},
   "outputs": [
    {
     "data": {
      "text/plain": [
       "array([2, 4, 6, 8])"
      ]
     },
     "execution_count": 15,
     "metadata": {},
     "output_type": "execute_result"
    }
   ],
   "source": [
    "np.arange(2, 10, 2)"
   ]
  },
  {
   "cell_type": "code",
   "execution_count": 16,
   "id": "2be456f9",
   "metadata": {},
   "outputs": [
    {
     "data": {
      "text/plain": [
       "array([-50. , -48.5, -47. , -45.5, -44. , -42.5, -41. , -39.5, -38. ,\n",
       "       -36.5, -35. , -33.5, -32. , -30.5, -29. , -27.5, -26. , -24.5,\n",
       "       -23. , -21.5, -20. , -18.5, -17. , -15.5, -14. , -12.5, -11. ,\n",
       "        -9.5,  -8. ,  -6.5,  -5. ,  -3.5,  -2. ,  -0.5,   1. ,   2.5,\n",
       "         4. ,   5.5,   7. ,   8.5])"
      ]
     },
     "execution_count": 16,
     "metadata": {},
     "output_type": "execute_result"
    }
   ],
   "source": [
    "np.arange(-50, 10, 1.5)"
   ]
  },
  {
   "cell_type": "code",
   "execution_count": 17,
   "id": "e6390721",
   "metadata": {},
   "outputs": [
    {
     "data": {
      "text/plain": [
       "array([100,  99,  98,  97,  96,  95,  94,  93,  92,  91,  90,  89,  88,\n",
       "        87,  86,  85,  84,  83,  82,  81,  80,  79,  78,  77,  76,  75,\n",
       "        74,  73,  72,  71,  70,  69,  68,  67,  66,  65,  64,  63,  62,\n",
       "        61,  60,  59,  58,  57,  56,  55,  54,  53,  52,  51,  50,  49,\n",
       "        48,  47,  46,  45,  44,  43,  42,  41,  40,  39,  38,  37,  36,\n",
       "        35,  34,  33,  32,  31,  30,  29,  28,  27,  26,  25,  24,  23,\n",
       "        22,  21,  20,  19,  18,  17,  16,  15,  14,  13,  12,  11,  10,\n",
       "         9,   8,   7,   6,   5,   4,   3,   2,   1])"
      ]
     },
     "execution_count": 17,
     "metadata": {},
     "output_type": "execute_result"
    }
   ],
   "source": [
    "np.arange(100, 0, -1)"
   ]
  },
  {
   "cell_type": "markdown",
   "id": "8d05ec19",
   "metadata": {},
   "source": [
    "### np.linspace\n",
    "\n",
    "Делит отрезок на равные части\n",
    "\n",
    "#### Синтаксис:\n",
    "\n",
    "np.linspace(нначало отрезка, конц отрезка, число точек на отрезке)"
   ]
  },
  {
   "cell_type": "code",
   "execution_count": 18,
   "id": "a0535590",
   "metadata": {},
   "outputs": [
    {
     "data": {
      "text/plain": [
       "array([ 0.,  1.,  2.,  3.,  4.,  5.,  6.,  7.,  8.,  9., 10.])"
      ]
     },
     "execution_count": 18,
     "metadata": {},
     "output_type": "execute_result"
    }
   ],
   "source": [
    "np.linspace(0, 10, 11)"
   ]
  },
  {
   "cell_type": "code",
   "execution_count": 19,
   "id": "3991d127",
   "metadata": {},
   "outputs": [
    {
     "data": {
      "text/plain": [
       "array([5.        , 5.14285714, 5.28571429, 5.42857143, 5.57142857,\n",
       "       5.71428571, 5.85714286, 6.        ])"
      ]
     },
     "execution_count": 19,
     "metadata": {},
     "output_type": "execute_result"
    }
   ],
   "source": [
    "np.linspace(5, 6, 8)"
   ]
  },
  {
   "cell_type": "code",
   "execution_count": null,
   "id": "761e0110",
   "metadata": {},
   "outputs": [],
   "source": []
  },
  {
   "cell_type": "markdown",
   "id": "cb6c12db",
   "metadata": {},
   "source": [
    "### pd.date_range(start, end, periods, freq)\n",
    "\n",
    "__start__ - начало периода генерации дат\n",
    "\n",
    "__end__ - конец периода генерации дат\n",
    "\n",
    "__periods__ - количество дат для генерации\n",
    "\n",
    "__freq__ - период, с которым даты будут генерироваться"
   ]
  },
  {
   "cell_type": "code",
   "execution_count": 20,
   "id": "62f6b0c1",
   "metadata": {},
   "outputs": [
    {
     "data": {
      "text/plain": [
       "DatetimeIndex([          '2020-09-06 00:00:00',\n",
       "               '2020-11-15 06:51:25.714285714',\n",
       "               '2021-01-24 13:42:51.428571428',\n",
       "               '2021-04-04 20:34:17.142857144',\n",
       "               '2021-06-14 03:25:42.857142856',\n",
       "               '2021-08-23 10:17:08.571428568',\n",
       "               '2021-11-01 17:08:34.285714288',\n",
       "                         '2022-01-11 00:00:00',\n",
       "               '2022-03-22 06:51:25.714285712',\n",
       "               '2022-05-31 13:42:51.428571424',\n",
       "               '2022-08-09 20:34:17.142857136',\n",
       "               '2022-10-19 03:25:42.857142856',\n",
       "               '2022-12-28 10:17:08.571428576',\n",
       "               '2023-03-08 17:08:34.285714288',\n",
       "                         '2023-05-18 00:00:00'],\n",
       "              dtype='datetime64[ns]', freq=None)"
      ]
     },
     "execution_count": 20,
     "metadata": {},
     "output_type": "execute_result"
    }
   ],
   "source": [
    "pd.date_range('2020-09-06', '2023-05-18', periods=15)"
   ]
  },
  {
   "cell_type": "code",
   "execution_count": 21,
   "id": "db9b3ea3",
   "metadata": {},
   "outputs": [
    {
     "data": {
      "text/plain": [
       "DatetimeIndex(['2020-09-06', '2020-11-15', '2021-01-24', '2021-04-04',\n",
       "               '2021-06-14', '2021-08-23', '2021-11-01', '2022-01-11',\n",
       "               '2022-03-22', '2022-05-31', '2022-08-09', '2022-10-19',\n",
       "               '2022-12-28', '2023-03-08', '2023-05-18'],\n",
       "              dtype='datetime64[ns]', freq=None)"
      ]
     },
     "execution_count": 21,
     "metadata": {},
     "output_type": "execute_result"
    }
   ],
   "source": [
    "pd.date_range('2020-09-06', '2023-05-18', periods=15).normalize()"
   ]
  },
  {
   "cell_type": "code",
   "execution_count": 22,
   "id": "d22d47e1",
   "metadata": {},
   "outputs": [
    {
     "data": {
      "text/plain": [
       "DatetimeIndex(['2020-09-06 15:00:00', '2020-09-08 21:00:00',\n",
       "               '2020-09-11 03:00:00', '2020-09-13 09:00:00',\n",
       "               '2020-09-15 15:00:00', '2020-09-17 21:00:00',\n",
       "               '2020-09-20 03:00:00', '2020-09-22 09:00:00',\n",
       "               '2020-09-24 15:00:00', '2020-09-26 21:00:00',\n",
       "               ...\n",
       "               '2023-04-27 15:00:00', '2023-04-29 21:00:00',\n",
       "               '2023-05-02 03:00:00', '2023-05-04 09:00:00',\n",
       "               '2023-05-06 15:00:00', '2023-05-08 21:00:00',\n",
       "               '2023-05-11 03:00:00', '2023-05-13 09:00:00',\n",
       "               '2023-05-15 15:00:00', '2023-05-17 21:00:00'],\n",
       "              dtype='datetime64[ns]', length=438, freq='54H')"
      ]
     },
     "execution_count": 22,
     "metadata": {},
     "output_type": "execute_result"
    }
   ],
   "source": [
    "pd.date_range('2020-09-06 15:00', '2023-05-18', freq='2d 6h')"
   ]
  },
  {
   "cell_type": "code",
   "execution_count": 23,
   "id": "9bb428b1",
   "metadata": {},
   "outputs": [
    {
     "data": {
      "text/plain": [
       "DatetimeIndex(['2020-09-06 15:00:00', '2020-09-08 21:00:00',\n",
       "               '2020-09-11 03:00:00', '2020-09-13 09:00:00',\n",
       "               '2020-09-15 15:00:00', '2020-09-17 21:00:00',\n",
       "               '2020-09-20 03:00:00', '2020-09-22 09:00:00',\n",
       "               '2020-09-24 15:00:00', '2020-09-26 21:00:00',\n",
       "               '2020-09-29 03:00:00', '2020-10-01 09:00:00',\n",
       "               '2020-10-03 15:00:00', '2020-10-05 21:00:00',\n",
       "               '2020-10-08 03:00:00'],\n",
       "              dtype='datetime64[ns]', freq='54H')"
      ]
     },
     "execution_count": 23,
     "metadata": {},
     "output_type": "execute_result"
    }
   ],
   "source": [
    "pd.date_range('2020-09-06 15:00', freq='2d 6h', periods=15)"
   ]
  },
  {
   "cell_type": "code",
   "execution_count": null,
   "id": "907789f9",
   "metadata": {},
   "outputs": [],
   "source": []
  },
  {
   "cell_type": "markdown",
   "id": "cb3a0182",
   "metadata": {},
   "source": [
    "### Список всех сокращений (регистр их записи не важен)"
   ]
  },
  {
   "cell_type": "markdown",
   "id": "36d1c5d9",
   "metadata": {},
   "source": [
    "| Сокращение   | Расшифровка                              | Сокращение   | Расшифровка                    |\n",
    "|:-------------|:-----------------------------------------|:-------------|:-------------------------------|\n",
    "| B            | Последний рабочий день в неделе          | QS           | Начало квартала                |\n",
    "| C            | Пользовательский последний день в неделе | BQS          | Первый рабочий день квартала   |\n",
    "| D            | День                                     | A, Y         | Конец года                     |\n",
    "| W            | Неделя                                   | BA, BY       | Последний рабочий день в году  |\n",
    "| M            | Конец месяца                             | AS, YS       | Начало года                    |\n",
    "| SM           | 15 число месяца                          | BAS, BYS     | Первый рабочий день в году     |\n",
    "| BM           | Последний рабочий день в месяце          | BH           | Рабочий час (от 9:00 до 17:00) |\n",
    "| CBM          | Пользовательский конец месяца            | H            | Час                            |\n",
    "| MS           | Первое число месяца                      | T, min       | Минута                         |\n",
    "| SMS          | 1 и 15 число месяца                      | S            | Секунда                        |\n",
    "| BMS          | Первый рабочий день месяца               | L, ms        | Миллисекунда                   |\n",
    "| CBMS         | Пользовательский первый день месяца      | U, us        | Микросекунда                   |\n",
    "| Q            | Конец квартала                           | N            | Наносекунда                    |\n",
    "| BQ           | Последний рабочий день квартала          "
   ]
  },
  {
   "cell_type": "code",
   "execution_count": 24,
   "id": "c0340d7b",
   "metadata": {},
   "outputs": [
    {
     "data": {
      "text/plain": [
       "DatetimeIndex(['2020-08-31 15:00:00', '2020-09-30 15:00:00',\n",
       "               '2020-10-31 15:00:00', '2020-11-30 15:00:00',\n",
       "               '2020-12-31 15:00:00', '2021-01-31 15:00:00',\n",
       "               '2021-02-28 15:00:00', '2021-03-31 15:00:00',\n",
       "               '2021-04-30 15:00:00', '2021-05-31 15:00:00',\n",
       "               '2021-06-30 15:00:00', '2021-07-31 15:00:00',\n",
       "               '2021-08-31 15:00:00', '2021-09-30 15:00:00',\n",
       "               '2021-10-31 15:00:00', '2021-11-30 15:00:00',\n",
       "               '2021-12-31 15:00:00', '2022-01-31 15:00:00',\n",
       "               '2022-02-28 15:00:00', '2022-03-31 15:00:00',\n",
       "               '2022-04-30 15:00:00', '2022-05-31 15:00:00',\n",
       "               '2022-06-30 15:00:00', '2022-07-31 15:00:00',\n",
       "               '2022-08-31 15:00:00', '2022-09-30 15:00:00',\n",
       "               '2022-10-31 15:00:00', '2022-11-30 15:00:00',\n",
       "               '2022-12-31 15:00:00', '2023-01-31 15:00:00',\n",
       "               '2023-02-28 15:00:00', '2023-03-31 15:00:00',\n",
       "               '2023-04-30 15:00:00'],\n",
       "              dtype='datetime64[ns]', freq='M')"
      ]
     },
     "execution_count": 24,
     "metadata": {},
     "output_type": "execute_result"
    }
   ],
   "source": [
    "pd.date_range('2020-08-06 15:00', '2023-05-18', freq='M')"
   ]
  },
  {
   "cell_type": "code",
   "execution_count": 25,
   "id": "cbd918c3",
   "metadata": {},
   "outputs": [
    {
     "data": {
      "text/plain": [
       "DatetimeIndex(['2020-09-01 15:00:00', '2020-10-01 15:00:00',\n",
       "               '2020-11-01 15:00:00', '2020-12-01 15:00:00',\n",
       "               '2021-01-01 15:00:00', '2021-02-01 15:00:00',\n",
       "               '2021-03-01 15:00:00', '2021-04-01 15:00:00',\n",
       "               '2021-05-01 15:00:00', '2021-06-01 15:00:00',\n",
       "               '2021-07-01 15:00:00', '2021-08-01 15:00:00',\n",
       "               '2021-09-01 15:00:00', '2021-10-01 15:00:00',\n",
       "               '2021-11-01 15:00:00', '2021-12-01 15:00:00',\n",
       "               '2022-01-01 15:00:00', '2022-02-01 15:00:00',\n",
       "               '2022-03-01 15:00:00', '2022-04-01 15:00:00',\n",
       "               '2022-05-01 15:00:00', '2022-06-01 15:00:00',\n",
       "               '2022-07-01 15:00:00', '2022-08-01 15:00:00',\n",
       "               '2022-09-01 15:00:00', '2022-10-01 15:00:00',\n",
       "               '2022-11-01 15:00:00', '2022-12-01 15:00:00',\n",
       "               '2023-01-01 15:00:00', '2023-02-01 15:00:00',\n",
       "               '2023-03-01 15:00:00', '2023-04-01 15:00:00',\n",
       "               '2023-05-01 15:00:00'],\n",
       "              dtype='datetime64[ns]', freq='MS')"
      ]
     },
     "execution_count": 25,
     "metadata": {},
     "output_type": "execute_result"
    }
   ],
   "source": [
    "pd.date_range('2020-08-06 15:00', '2023-05-18', freq='MS')"
   ]
  },
  {
   "cell_type": "code",
   "execution_count": null,
   "id": "95e3f899",
   "metadata": {},
   "outputs": [],
   "source": []
  },
  {
   "cell_type": "markdown",
   "id": "8b76627f",
   "metadata": {},
   "source": [
    "### Метод shift"
   ]
  },
  {
   "cell_type": "code",
   "execution_count": 26,
   "id": "c80d56ca",
   "metadata": {},
   "outputs": [
    {
     "data": {
      "text/plain": [
       "DatetimeIndex(['2020-09-06 15:00:00', '2020-10-06 15:00:00',\n",
       "               '2020-11-06 15:00:00', '2020-12-06 15:00:00',\n",
       "               '2021-01-06 15:00:00', '2021-02-06 15:00:00',\n",
       "               '2021-03-06 15:00:00', '2021-04-06 15:00:00',\n",
       "               '2021-05-06 15:00:00', '2021-06-06 15:00:00',\n",
       "               '2021-07-06 15:00:00', '2021-08-06 15:00:00',\n",
       "               '2021-09-06 15:00:00', '2021-10-06 15:00:00',\n",
       "               '2021-11-06 15:00:00', '2021-12-06 15:00:00',\n",
       "               '2022-01-06 15:00:00', '2022-02-06 15:00:00',\n",
       "               '2022-03-06 15:00:00', '2022-04-06 15:00:00',\n",
       "               '2022-05-06 15:00:00', '2022-06-06 15:00:00',\n",
       "               '2022-07-06 15:00:00', '2022-08-06 15:00:00',\n",
       "               '2022-09-06 15:00:00', '2022-10-06 15:00:00',\n",
       "               '2022-11-06 15:00:00', '2022-12-06 15:00:00',\n",
       "               '2023-01-06 15:00:00', '2023-02-06 15:00:00',\n",
       "               '2023-03-06 15:00:00', '2023-04-06 15:00:00',\n",
       "               '2023-05-06 15:00:00'],\n",
       "              dtype='datetime64[ns]', freq=None)"
      ]
     },
     "execution_count": 26,
     "metadata": {},
     "output_type": "execute_result"
    }
   ],
   "source": [
    "pd.date_range('2020-08-06 15:00', '2023-05-18', freq='MS').shift(5, 'd')"
   ]
  },
  {
   "cell_type": "code",
   "execution_count": 27,
   "id": "fce05fef",
   "metadata": {},
   "outputs": [
    {
     "data": {
      "text/plain": [
       "DatetimeIndex(['2021-05-31 13:00:00', '2022-05-31 13:00:00',\n",
       "               '2023-05-31 13:00:00'],\n",
       "              dtype='datetime64[ns]', freq=None)"
      ]
     },
     "execution_count": 27,
     "metadata": {},
     "output_type": "execute_result"
    }
   ],
   "source": [
    "(pd.date_range('2020-08-06 15:00', '2023-05-18', freq='Y')\n",
    "    .shift(5, 'M')\n",
    "    .shift(-2, 'h')\n",
    ")"
   ]
  },
  {
   "cell_type": "code",
   "execution_count": null,
   "id": "adac46ba",
   "metadata": {},
   "outputs": [],
   "source": []
  },
  {
   "cell_type": "code",
   "execution_count": null,
   "id": "1aa22405",
   "metadata": {},
   "outputs": [],
   "source": []
  },
  {
   "cell_type": "markdown",
   "id": "2fec535e",
   "metadata": {},
   "source": [
    "###  Атрибут shape"
   ]
  },
  {
   "cell_type": "code",
   "execution_count": 28,
   "id": "0ad11ac0",
   "metadata": {},
   "outputs": [
    {
     "data": {
      "text/html": [
       "<div>\n",
       "<style scoped>\n",
       "    .dataframe tbody tr th:only-of-type {\n",
       "        vertical-align: middle;\n",
       "    }\n",
       "\n",
       "    .dataframe tbody tr th {\n",
       "        vertical-align: top;\n",
       "    }\n",
       "\n",
       "    .dataframe thead th {\n",
       "        text-align: right;\n",
       "    }\n",
       "</style>\n",
       "<table border=\"1\" class=\"dataframe\">\n",
       "  <thead>\n",
       "    <tr style=\"text-align: right;\">\n",
       "      <th></th>\n",
       "      <th>Имя</th>\n",
       "      <th>Фамилия</th>\n",
       "      <th>Дата рождения</th>\n",
       "      <th>Количество детей</th>\n",
       "      <th>Дата увольнения</th>\n",
       "    </tr>\n",
       "  </thead>\n",
       "  <tbody>\n",
       "    <tr>\n",
       "      <th>0</th>\n",
       "      <td>Екатерина</td>\n",
       "      <td>&lt;NA&gt;</td>\n",
       "      <td>1992-06-25</td>\n",
       "      <td>0</td>\n",
       "      <td>2023-12-06</td>\n",
       "    </tr>\n",
       "    <tr>\n",
       "      <th>1</th>\n",
       "      <td>Евгений</td>\n",
       "      <td>Бубликов</td>\n",
       "      <td>1995-09-09</td>\n",
       "      <td>0</td>\n",
       "      <td>2023-12-06</td>\n",
       "    </tr>\n",
       "    <tr>\n",
       "      <th>2</th>\n",
       "      <td>Андрей</td>\n",
       "      <td>Васильев</td>\n",
       "      <td>2000-02-29</td>\n",
       "      <td>0</td>\n",
       "      <td>2023-12-06</td>\n",
       "    </tr>\n",
       "    <tr>\n",
       "      <th>3</th>\n",
       "      <td>Виктория</td>\n",
       "      <td>Леонова</td>\n",
       "      <td>1999-06-15</td>\n",
       "      <td>0</td>\n",
       "      <td>2023-12-06</td>\n",
       "    </tr>\n",
       "    <tr>\n",
       "      <th>4</th>\n",
       "      <td>Анастасия</td>\n",
       "      <td>Долгова</td>\n",
       "      <td>2003-04-06</td>\n",
       "      <td>0</td>\n",
       "      <td>2023-12-06</td>\n",
       "    </tr>\n",
       "    <tr>\n",
       "      <th>5</th>\n",
       "      <td>Данил</td>\n",
       "      <td>Новиков</td>\n",
       "      <td>1995-06-03</td>\n",
       "      <td>0</td>\n",
       "      <td>2023-12-06</td>\n",
       "    </tr>\n",
       "  </tbody>\n",
       "</table>\n",
       "</div>"
      ],
      "text/plain": [
       "         Имя   Фамилия Дата рождения  Количество детей Дата увольнения\n",
       "0  Екатерина      <NA>    1992-06-25                 0      2023-12-06\n",
       "1    Евгений  Бубликов    1995-09-09                 0      2023-12-06\n",
       "2     Андрей  Васильев    2000-02-29                 0      2023-12-06\n",
       "3   Виктория   Леонова    1999-06-15                 0      2023-12-06\n",
       "4  Анастасия   Долгова    2003-04-06                 0      2023-12-06\n",
       "5      Данил   Новиков    1995-06-03                 0      2023-12-06"
      ]
     },
     "execution_count": 28,
     "metadata": {},
     "output_type": "execute_result"
    }
   ],
   "source": [
    "pd.DataFrame(people_dict)"
   ]
  },
  {
   "cell_type": "code",
   "execution_count": 29,
   "id": "ad7022dc",
   "metadata": {},
   "outputs": [
    {
     "data": {
      "text/plain": [
       "(6, 5)"
      ]
     },
     "execution_count": 29,
     "metadata": {},
     "output_type": "execute_result"
    }
   ],
   "source": [
    "pd.DataFrame(people_dict).shape"
   ]
  },
  {
   "cell_type": "code",
   "execution_count": 30,
   "id": "c98da6cb",
   "metadata": {},
   "outputs": [
    {
     "data": {
      "text/plain": [
       "6"
      ]
     },
     "execution_count": 30,
     "metadata": {},
     "output_type": "execute_result"
    }
   ],
   "source": [
    "pd.DataFrame(people_dict).shape[0]"
   ]
  },
  {
   "cell_type": "code",
   "execution_count": 31,
   "id": "71305821",
   "metadata": {},
   "outputs": [
    {
     "data": {
      "text/plain": [
       "6"
      ]
     },
     "execution_count": 31,
     "metadata": {},
     "output_type": "execute_result"
    }
   ],
   "source": [
    "len(pd.DataFrame(people_dict))"
   ]
  },
  {
   "cell_type": "code",
   "execution_count": null,
   "id": "a56a3352",
   "metadata": {},
   "outputs": [],
   "source": []
  },
  {
   "cell_type": "code",
   "execution_count": null,
   "id": "1d27aaf0",
   "metadata": {},
   "outputs": [],
   "source": []
  },
  {
   "cell_type": "code",
   "execution_count": null,
   "id": "4d9e4314",
   "metadata": {},
   "outputs": [],
   "source": []
  },
  {
   "cell_type": "code",
   "execution_count": null,
   "id": "dd498990",
   "metadata": {},
   "outputs": [],
   "source": []
  },
  {
   "cell_type": "code",
   "execution_count": null,
   "id": "2942e067",
   "metadata": {},
   "outputs": [],
   "source": []
  },
  {
   "cell_type": "code",
   "execution_count": null,
   "id": "546c30a3",
   "metadata": {},
   "outputs": [],
   "source": []
  },
  {
   "cell_type": "code",
   "execution_count": null,
   "id": "3f78c3bb",
   "metadata": {},
   "outputs": [],
   "source": []
  },
  {
   "cell_type": "code",
   "execution_count": null,
   "id": "96d68388",
   "metadata": {},
   "outputs": [],
   "source": []
  },
  {
   "cell_type": "code",
   "execution_count": null,
   "id": "5dcba503",
   "metadata": {},
   "outputs": [],
   "source": []
  },
  {
   "cell_type": "code",
   "execution_count": null,
   "id": "02b6681d",
   "metadata": {},
   "outputs": [],
   "source": []
  },
  {
   "cell_type": "code",
   "execution_count": null,
   "id": "5e92a622",
   "metadata": {},
   "outputs": [],
   "source": []
  },
  {
   "cell_type": "code",
   "execution_count": null,
   "id": "adc3a9a4",
   "metadata": {},
   "outputs": [],
   "source": []
  },
  {
   "cell_type": "code",
   "execution_count": null,
   "id": "4315f415",
   "metadata": {},
   "outputs": [],
   "source": []
  },
  {
   "cell_type": "code",
   "execution_count": null,
   "id": "54b08b08",
   "metadata": {},
   "outputs": [],
   "source": []
  },
  {
   "cell_type": "code",
   "execution_count": null,
   "id": "e9463b69",
   "metadata": {},
   "outputs": [],
   "source": []
  },
  {
   "cell_type": "code",
   "execution_count": null,
   "id": "d48c5217",
   "metadata": {},
   "outputs": [],
   "source": []
  },
  {
   "cell_type": "code",
   "execution_count": null,
   "id": "169911c6",
   "metadata": {},
   "outputs": [],
   "source": []
  },
  {
   "cell_type": "code",
   "execution_count": null,
   "id": "ba52aa89",
   "metadata": {},
   "outputs": [],
   "source": []
  },
  {
   "cell_type": "markdown",
   "id": "7df91db9",
   "metadata": {},
   "source": [
    "# Задания"
   ]
  },
  {
   "cell_type": "markdown",
   "id": "6c624a26",
   "metadata": {},
   "source": [
    "#### Описание таблиц лежит [здесь](https://github.com/victorlymarev/pandas/tree/main/tables#%D0%BE%D0%BF%D0%B8%D1%81%D0%B0%D0%BD%D0%B8%D0%B5-%D1%82%D0%B0%D0%B1%D0%BB%D0%B8%D1%86)"
   ]
  },
  {
   "cell_type": "markdown",
   "id": "93b65b91",
   "metadata": {},
   "source": [
    "Некоторые таблицы занимают много памяти, поэтому каждые 5-10 заданий лучше перезапускайте ноутбук.\n",
    "\n",
    "В формулировке некоторых заданий может содержаться вариативность. Если у вас есть сомнения, что требуется в задании, попробуйте решить несколько вариантов. Если вы не понимаете задание, можете написать об этом в комментариях под видео.\n",
    "\n",
    "В большинстве случаев внешний вид итоговой таблицы не определен. Выведите на экран наиболее адекватный вариант. То есть таблицу, из которой можно будет сделать выводы.\n",
    "\n",
    "Курс пока находится в разработке. Вы можете помочь другим людям добавив свое решение [сюда](https://docs.google.com/forms/d/1HYTBz_KfssY3Jps2dC3n0YnEqa6WBb5OIhLo1d32Xzw/edit).\n",
    "\n",
    "Посмотреть решения других людей можно [здесь](https://docs.google.com/spreadsheets/d/1pMDYO-9UneLbPPnEuQ2shig0TOJdQTU-zipifyAnZMk/edit?resourcekey#gid=1998648012)"
   ]
  },
  {
   "cell_type": "markdown",
   "id": "a05f43ae",
   "metadata": {},
   "source": [
    "### Задание 1\n",
    "Создайте объект Series, в котором будут лежать последовательно имена Аня, Наташа, Таня, Оля, Настя"
   ]
  },
  {
   "cell_type": "code",
   "execution_count": null,
   "id": "d7bee1cb",
   "metadata": {},
   "outputs": [],
   "source": [
    "import pandas as pd\n",
    "\n",
    "# напишите свой код здесь"
   ]
  },
  {
   "cell_type": "markdown",
   "id": "86a8066c",
   "metadata": {},
   "source": [
    "### Задание 2\n",
    "Создавать объекты Series можно на основе словарей. В этом случае ключ пойдет в индекс, а значение в тело колонки."
   ]
  },
  {
   "cell_type": "code",
   "execution_count": null,
   "id": "9b6629ef",
   "metadata": {},
   "outputs": [],
   "source": [
    "import pandas as pd\n",
    "\n",
    "height = {'Кирилл': 178, 'Андрей': 189, 'Тимур': 159, 'Ярослав': 190}\n",
    "pd.Series(height)"
   ]
  },
  {
   "cell_type": "markdown",
   "id": "e3de43d2",
   "metadata": {},
   "source": [
    "Создайте на основе словаря объект Series. В индексе словаря пусть лежат имена Никита, Артур, Паша, а в значениях колонки номера телефонов 123456, 654321, 123321. "
   ]
  },
  {
   "cell_type": "code",
   "execution_count": null,
   "id": "9283ad64",
   "metadata": {},
   "outputs": [],
   "source": [
    "# напишите свой код здесь"
   ]
  },
  {
   "cell_type": "markdown",
   "id": "c03029bf",
   "metadata": {},
   "source": [
    "### Задание 3\n",
    "Создайте таблицу, состоящую из двух колонок. В перовой колонке должны быть имена Саша, Маша, Лера, Руслан. Во второй колонке пусть лежат фамилии Сидоров, Петрова, Иванова, Уткин"
   ]
  },
  {
   "cell_type": "code",
   "execution_count": null,
   "id": "5bfff9ed",
   "metadata": {},
   "outputs": [],
   "source": [
    "import pandas as pd\n",
    "\n",
    "# напишите свой код здесь"
   ]
  },
  {
   "cell_type": "markdown",
   "id": "15bbffcc",
   "metadata": {},
   "source": [
    "### Задание 4\n",
    "\n",
    "В таблице marks_6d лежат оценки школьников в классе 6Д. Какое количество школьников в классе?"
   ]
  },
  {
   "cell_type": "code",
   "execution_count": null,
   "id": "45485ec3",
   "metadata": {},
   "outputs": [],
   "source": [
    "import os\n",
    "import pandas as pd\n",
    "path_marks_6d = '../tables/оценки 6Д.csv' if os.path.exists('../tables/оценки 6Д.csv') else 'https://drive.google.com/uc?id=1aMvwur2zrISbVPRo86qWgbHPEpw5km0n'\n",
    "marks_6d = pd.read_csv(path_marks_6d)\n",
    "marks_6d"
   ]
  },
  {
   "cell_type": "code",
   "execution_count": null,
   "id": "59edbbbe",
   "metadata": {},
   "outputs": [],
   "source": [
    "# напишите свой код здесь"
   ]
  },
  {
   "cell_type": "markdown",
   "id": "1a5a51ca",
   "metadata": {},
   "source": [
    "### Задание 5\n",
    "\n",
    "Создайте набор точек от 1 до 150 с интервалом 2"
   ]
  },
  {
   "cell_type": "code",
   "execution_count": null,
   "id": "d2147900",
   "metadata": {},
   "outputs": [],
   "source": [
    "import numpy as np\n",
    "\n",
    "# напишите свой код здесь"
   ]
  },
  {
   "cell_type": "markdown",
   "id": "5f671064",
   "metadata": {},
   "source": [
    "### Задание 6\n",
    "\n",
    "Создайте набор точек от 0 до 15 включительно с интервалом 1.5"
   ]
  },
  {
   "cell_type": "code",
   "execution_count": null,
   "id": "35f9c528",
   "metadata": {},
   "outputs": [],
   "source": [
    "import numpy as np\n",
    "\n",
    "# напишите свой код здесь"
   ]
  },
  {
   "cell_type": "markdown",
   "id": "839a87f0",
   "metadata": {},
   "source": [
    "### Задание 7\n",
    "\n",
    "На отрезке от 100 до 150 создайте 80 равноудаленных друг от друга точек"
   ]
  },
  {
   "cell_type": "code",
   "execution_count": null,
   "id": "8b3f96ef",
   "metadata": {},
   "outputs": [],
   "source": [
    "import numpy as np\n",
    "\n",
    "# напишите свой код здесь"
   ]
  },
  {
   "cell_type": "markdown",
   "id": "b776f346",
   "metadata": {},
   "source": [
    "### Задание 8\n",
    "\n",
    "Создайте набор дат с 18 марта 1999 года до 28 февраля 2021 года с частотой в 1 день"
   ]
  },
  {
   "cell_type": "code",
   "execution_count": null,
   "id": "4a0bcba0",
   "metadata": {},
   "outputs": [],
   "source": [
    "import pandas as pd\n",
    "\n",
    "# напишите свой код здесь"
   ]
  },
  {
   "cell_type": "markdown",
   "id": "52031e14",
   "metadata": {},
   "source": [
    "### Задание 9\n",
    "\n",
    "Создайте набор дат с даты вашего рождения и до сегодняшнего дня с частотой в 1 день. При помощи функции len посчитайте длинну массива"
   ]
  },
  {
   "cell_type": "code",
   "execution_count": null,
   "id": "b528ddfb",
   "metadata": {},
   "outputs": [],
   "source": [
    "import pandas as pd\n",
    "\n",
    "# напишите свой код здесь"
   ]
  },
  {
   "cell_type": "markdown",
   "id": "b721a6bb",
   "metadata": {},
   "source": [
    "### Задание 10\n",
    "\n",
    "Создайте набор дат с 18 марта 2009 года до 28 февраля 2021 года с частотой в 4 дня 19 часов"
   ]
  },
  {
   "cell_type": "code",
   "execution_count": null,
   "id": "4d5d84e1",
   "metadata": {},
   "outputs": [],
   "source": [
    "import pandas as pd\n",
    "\n",
    "# напишите свой код здесь"
   ]
  },
  {
   "cell_type": "markdown",
   "id": "a2b48c29",
   "metadata": {},
   "source": [
    "### Задание 11\n",
    "\n",
    "Создайте набор дат с 18 марта 2009 года до 18 февраля 2021 года с частотой в 1 месяц"
   ]
  },
  {
   "cell_type": "code",
   "execution_count": null,
   "id": "fe97f1c1",
   "metadata": {},
   "outputs": [],
   "source": [
    "import pandas as pd\n",
    "\n",
    "# напишите свой код здесь"
   ]
  },
  {
   "cell_type": "markdown",
   "id": "bce7f17a",
   "metadata": {},
   "source": [
    "### Задание 12\n",
    "\n",
    "Создайте 8 дат с частотой в 3 часа начиная от 9 часов утра 21 декабря 1999 года"
   ]
  },
  {
   "cell_type": "code",
   "execution_count": null,
   "id": "ff496c23",
   "metadata": {},
   "outputs": [],
   "source": [
    "import pandas as pd\n",
    "\n",
    "# напишите свой код здесь"
   ]
  },
  {
   "cell_type": "code",
   "execution_count": null,
   "id": "00f61a09",
   "metadata": {},
   "outputs": [],
   "source": []
  }
 ],
 "metadata": {
  "kernelspec": {
   "display_name": "Python 3 (ipykernel)",
   "language": "python",
   "name": "python3"
  },
  "language_info": {
   "codemirror_mode": {
    "name": "ipython",
    "version": 3
   },
   "file_extension": ".py",
   "mimetype": "text/x-python",
   "name": "python",
   "nbconvert_exporter": "python",
   "pygments_lexer": "ipython3",
   "version": "3.11.6"
  }
 },
 "nbformat": 4,
 "nbformat_minor": 5
}
