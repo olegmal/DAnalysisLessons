{
 "cells": [
  {
   "cell_type": "markdown",
   "id": "bd657040",
   "metadata": {},
   "source": [
    "<a target=\"_blank\" href=\"https://colab.research.google.com/github/victorlymarev/pandas/blob/main/notebooks/04-save-tables.ipynb\">\n",
    "  <img src=\"https://colab.research.google.com/assets/colab-badge.svg\" alt=\"Open In Colab\"/>\n",
    "</a>"
   ]
  },
  {
   "cell_type": "markdown",
   "id": "9b710805",
   "metadata": {},
   "source": [
    "# Сохранение таблиц на компьтере\n",
    "#### [Ссылка на видео](https://youtu.be/fz31AM5h8Ts)"
   ]
  },
  {
   "cell_type": "code",
   "execution_count": 1,
   "id": "94a108a1",
   "metadata": {},
   "outputs": [],
   "source": [
    "import pandas as pd\n",
    "import os"
   ]
  },
  {
   "cell_type": "markdown",
   "id": "33c6778a",
   "metadata": {},
   "source": [
    "Читаем таблицы"
   ]
  },
  {
   "cell_type": "code",
   "execution_count": 2,
   "id": "767b5953",
   "metadata": {},
   "outputs": [],
   "source": [
    "path_marks = '../tables/оценки.xlsx' if os.path.exists('../tables/оценки.xlsx') else 'https://drive.google.com/uc?id=17f4DXx53J0WooNkhO13xidseZJ-O2obs'\n",
    "path_marks_6d = '../tables/оценки 6Д.csv' if os.path.exists('../tables/оценки 6Д.csv') else 'https://drive.google.com/uc?id=1aMvwur2zrISbVPRo86qWgbHPEpw5km0n'\n",
    "\n",
    "marks_6a = pd.read_excel(path_marks, sheet_name='6А').head()\n",
    "marks_6b = pd.read_excel(path_marks, sheet_name='6Б').head()\n",
    "marks_6d = pd.read_csv(path_marks_6d).head()"
   ]
  },
  {
   "cell_type": "code",
   "execution_count": 3,
   "id": "51ea7340",
   "metadata": {},
   "outputs": [
    {
     "data": {
      "text/html": [
       "<div>\n",
       "<style scoped>\n",
       "    .dataframe tbody tr th:only-of-type {\n",
       "        vertical-align: middle;\n",
       "    }\n",
       "\n",
       "    .dataframe tbody tr th {\n",
       "        vertical-align: top;\n",
       "    }\n",
       "\n",
       "    .dataframe thead th {\n",
       "        text-align: right;\n",
       "    }\n",
       "</style>\n",
       "<table border=\"1\" class=\"dataframe\">\n",
       "  <thead>\n",
       "    <tr style=\"text-align: right;\">\n",
       "      <th></th>\n",
       "      <th>ФИО</th>\n",
       "      <th>Пол</th>\n",
       "      <th>Математика</th>\n",
       "      <th>Русский язык</th>\n",
       "      <th>Литература</th>\n",
       "      <th>Физика</th>\n",
       "      <th>История</th>\n",
       "      <th>Физическая культура</th>\n",
       "    </tr>\n",
       "  </thead>\n",
       "  <tbody>\n",
       "    <tr>\n",
       "      <th>0</th>\n",
       "      <td>Суханова Маргарита Богдановна</td>\n",
       "      <td>женский</td>\n",
       "      <td>3</td>\n",
       "      <td>3</td>\n",
       "      <td>3</td>\n",
       "      <td>3</td>\n",
       "      <td>3</td>\n",
       "      <td>5</td>\n",
       "    </tr>\n",
       "    <tr>\n",
       "      <th>1</th>\n",
       "      <td>Лаврентьев Давид Анатольевич</td>\n",
       "      <td>мужской</td>\n",
       "      <td>3</td>\n",
       "      <td>3</td>\n",
       "      <td>3</td>\n",
       "      <td>5</td>\n",
       "      <td>3</td>\n",
       "      <td>3</td>\n",
       "    </tr>\n",
       "    <tr>\n",
       "      <th>2</th>\n",
       "      <td>Винниченко Дарья Максимовна</td>\n",
       "      <td>женский</td>\n",
       "      <td>4</td>\n",
       "      <td>5</td>\n",
       "      <td>5</td>\n",
       "      <td>3</td>\n",
       "      <td>4</td>\n",
       "      <td>5</td>\n",
       "    </tr>\n",
       "    <tr>\n",
       "      <th>3</th>\n",
       "      <td>Козлова Маргарита Максимовна</td>\n",
       "      <td>женский</td>\n",
       "      <td>5</td>\n",
       "      <td>5</td>\n",
       "      <td>5</td>\n",
       "      <td>5</td>\n",
       "      <td>4</td>\n",
       "      <td>5</td>\n",
       "    </tr>\n",
       "    <tr>\n",
       "      <th>4</th>\n",
       "      <td>Кулешов Евгений Маратович</td>\n",
       "      <td>мужской</td>\n",
       "      <td>3</td>\n",
       "      <td>3</td>\n",
       "      <td>4</td>\n",
       "      <td>3</td>\n",
       "      <td>4</td>\n",
       "      <td>3</td>\n",
       "    </tr>\n",
       "  </tbody>\n",
       "</table>\n",
       "</div>"
      ],
      "text/plain": [
       "                             ФИО      Пол  Математика  Русский язык  \\\n",
       "0  Суханова Маргарита Богдановна  женский           3             3   \n",
       "1   Лаврентьев Давид Анатольевич  мужской           3             3   \n",
       "2    Винниченко Дарья Максимовна  женский           4             5   \n",
       "3   Козлова Маргарита Максимовна  женский           5             5   \n",
       "4      Кулешов Евгений Маратович  мужской           3             3   \n",
       "\n",
       "   Литература  Физика  История  Физическая культура  \n",
       "0           3       3        3                    5  \n",
       "1           3       5        3                    3  \n",
       "2           5       3        4                    5  \n",
       "3           5       5        4                    5  \n",
       "4           4       3        4                    3  "
      ]
     },
     "execution_count": 3,
     "metadata": {},
     "output_type": "execute_result"
    }
   ],
   "source": [
    "marks_6a"
   ]
  },
  {
   "cell_type": "markdown",
   "id": "61e6fc7c",
   "metadata": {},
   "source": [
    "### Попробуем сохранить таблицу в эксель"
   ]
  },
  {
   "cell_type": "code",
   "execution_count": 4,
   "id": "7b5fc2d0",
   "metadata": {},
   "outputs": [],
   "source": [
    "marks_6a.to_excel('../temp tables/оценки.xlsx')"
   ]
  },
  {
   "cell_type": "code",
   "execution_count": 5,
   "id": "95609d1e",
   "metadata": {},
   "outputs": [
    {
     "data": {
      "text/html": [
       "<div>\n",
       "<style scoped>\n",
       "    .dataframe tbody tr th:only-of-type {\n",
       "        vertical-align: middle;\n",
       "    }\n",
       "\n",
       "    .dataframe tbody tr th {\n",
       "        vertical-align: top;\n",
       "    }\n",
       "\n",
       "    .dataframe thead th {\n",
       "        text-align: right;\n",
       "    }\n",
       "</style>\n",
       "<table border=\"1\" class=\"dataframe\">\n",
       "  <thead>\n",
       "    <tr style=\"text-align: right;\">\n",
       "      <th></th>\n",
       "      <th>Unnamed: 0</th>\n",
       "      <th>ФИО</th>\n",
       "      <th>Пол</th>\n",
       "      <th>Математика</th>\n",
       "      <th>Русский язык</th>\n",
       "      <th>Литература</th>\n",
       "      <th>Физика</th>\n",
       "      <th>История</th>\n",
       "      <th>Физическая культура</th>\n",
       "    </tr>\n",
       "  </thead>\n",
       "  <tbody>\n",
       "    <tr>\n",
       "      <th>0</th>\n",
       "      <td>0</td>\n",
       "      <td>Суханова Маргарита Богдановна</td>\n",
       "      <td>женский</td>\n",
       "      <td>3</td>\n",
       "      <td>3</td>\n",
       "      <td>3</td>\n",
       "      <td>3</td>\n",
       "      <td>3</td>\n",
       "      <td>5</td>\n",
       "    </tr>\n",
       "    <tr>\n",
       "      <th>1</th>\n",
       "      <td>1</td>\n",
       "      <td>Лаврентьев Давид Анатольевич</td>\n",
       "      <td>мужской</td>\n",
       "      <td>3</td>\n",
       "      <td>3</td>\n",
       "      <td>3</td>\n",
       "      <td>5</td>\n",
       "      <td>3</td>\n",
       "      <td>3</td>\n",
       "    </tr>\n",
       "    <tr>\n",
       "      <th>2</th>\n",
       "      <td>2</td>\n",
       "      <td>Винниченко Дарья Максимовна</td>\n",
       "      <td>женский</td>\n",
       "      <td>4</td>\n",
       "      <td>5</td>\n",
       "      <td>5</td>\n",
       "      <td>3</td>\n",
       "      <td>4</td>\n",
       "      <td>5</td>\n",
       "    </tr>\n",
       "    <tr>\n",
       "      <th>3</th>\n",
       "      <td>3</td>\n",
       "      <td>Козлова Маргарита Максимовна</td>\n",
       "      <td>женский</td>\n",
       "      <td>5</td>\n",
       "      <td>5</td>\n",
       "      <td>5</td>\n",
       "      <td>5</td>\n",
       "      <td>4</td>\n",
       "      <td>5</td>\n",
       "    </tr>\n",
       "    <tr>\n",
       "      <th>4</th>\n",
       "      <td>4</td>\n",
       "      <td>Кулешов Евгений Маратович</td>\n",
       "      <td>мужской</td>\n",
       "      <td>3</td>\n",
       "      <td>3</td>\n",
       "      <td>4</td>\n",
       "      <td>3</td>\n",
       "      <td>4</td>\n",
       "      <td>3</td>\n",
       "    </tr>\n",
       "  </tbody>\n",
       "</table>\n",
       "</div>"
      ],
      "text/plain": [
       "   Unnamed: 0                            ФИО      Пол  Математика  \\\n",
       "0           0  Суханова Маргарита Богдановна  женский           3   \n",
       "1           1   Лаврентьев Давид Анатольевич  мужской           3   \n",
       "2           2    Винниченко Дарья Максимовна  женский           4   \n",
       "3           3   Козлова Маргарита Максимовна  женский           5   \n",
       "4           4      Кулешов Евгений Маратович  мужской           3   \n",
       "\n",
       "   Русский язык  Литература  Физика  История  Физическая культура  \n",
       "0             3           3       3        3                    5  \n",
       "1             3           3       5        3                    3  \n",
       "2             5           5       3        4                    5  \n",
       "3             5           5       5        4                    5  \n",
       "4             3           4       3        4                    3  "
      ]
     },
     "execution_count": 5,
     "metadata": {},
     "output_type": "execute_result"
    }
   ],
   "source": [
    "pd.read_excel('../temp tables/оценки.xlsx')"
   ]
  },
  {
   "cell_type": "code",
   "execution_count": null,
   "id": "57e90883",
   "metadata": {},
   "outputs": [],
   "source": [
    "marks_6a"
   ]
  },
  {
   "cell_type": "markdown",
   "id": "32b8a051",
   "metadata": {},
   "source": [
    "#### Пераметр index"
   ]
  },
  {
   "cell_type": "code",
   "execution_count": 6,
   "id": "f1272e16",
   "metadata": {},
   "outputs": [],
   "source": [
    "marks_6a.to_excel('../temp tables/оценки.xlsx', index=False)"
   ]
  },
  {
   "cell_type": "code",
   "execution_count": 7,
   "id": "fb474962",
   "metadata": {},
   "outputs": [
    {
     "data": {
      "text/html": [
       "<div>\n",
       "<style scoped>\n",
       "    .dataframe tbody tr th:only-of-type {\n",
       "        vertical-align: middle;\n",
       "    }\n",
       "\n",
       "    .dataframe tbody tr th {\n",
       "        vertical-align: top;\n",
       "    }\n",
       "\n",
       "    .dataframe thead th {\n",
       "        text-align: right;\n",
       "    }\n",
       "</style>\n",
       "<table border=\"1\" class=\"dataframe\">\n",
       "  <thead>\n",
       "    <tr style=\"text-align: right;\">\n",
       "      <th></th>\n",
       "      <th>ФИО</th>\n",
       "      <th>Пол</th>\n",
       "      <th>Математика</th>\n",
       "      <th>Русский язык</th>\n",
       "      <th>Литература</th>\n",
       "      <th>Физика</th>\n",
       "      <th>История</th>\n",
       "      <th>Физическая культура</th>\n",
       "    </tr>\n",
       "  </thead>\n",
       "  <tbody>\n",
       "    <tr>\n",
       "      <th>0</th>\n",
       "      <td>Суханова Маргарита Богдановна</td>\n",
       "      <td>женский</td>\n",
       "      <td>3</td>\n",
       "      <td>3</td>\n",
       "      <td>3</td>\n",
       "      <td>3</td>\n",
       "      <td>3</td>\n",
       "      <td>5</td>\n",
       "    </tr>\n",
       "    <tr>\n",
       "      <th>1</th>\n",
       "      <td>Лаврентьев Давид Анатольевич</td>\n",
       "      <td>мужской</td>\n",
       "      <td>3</td>\n",
       "      <td>3</td>\n",
       "      <td>3</td>\n",
       "      <td>5</td>\n",
       "      <td>3</td>\n",
       "      <td>3</td>\n",
       "    </tr>\n",
       "    <tr>\n",
       "      <th>2</th>\n",
       "      <td>Винниченко Дарья Максимовна</td>\n",
       "      <td>женский</td>\n",
       "      <td>4</td>\n",
       "      <td>5</td>\n",
       "      <td>5</td>\n",
       "      <td>3</td>\n",
       "      <td>4</td>\n",
       "      <td>5</td>\n",
       "    </tr>\n",
       "    <tr>\n",
       "      <th>3</th>\n",
       "      <td>Козлова Маргарита Максимовна</td>\n",
       "      <td>женский</td>\n",
       "      <td>5</td>\n",
       "      <td>5</td>\n",
       "      <td>5</td>\n",
       "      <td>5</td>\n",
       "      <td>4</td>\n",
       "      <td>5</td>\n",
       "    </tr>\n",
       "    <tr>\n",
       "      <th>4</th>\n",
       "      <td>Кулешов Евгений Маратович</td>\n",
       "      <td>мужской</td>\n",
       "      <td>3</td>\n",
       "      <td>3</td>\n",
       "      <td>4</td>\n",
       "      <td>3</td>\n",
       "      <td>4</td>\n",
       "      <td>3</td>\n",
       "    </tr>\n",
       "  </tbody>\n",
       "</table>\n",
       "</div>"
      ],
      "text/plain": [
       "                             ФИО      Пол  Математика  Русский язык  \\\n",
       "0  Суханова Маргарита Богдановна  женский           3             3   \n",
       "1   Лаврентьев Давид Анатольевич  мужской           3             3   \n",
       "2    Винниченко Дарья Максимовна  женский           4             5   \n",
       "3   Козлова Маргарита Максимовна  женский           5             5   \n",
       "4      Кулешов Евгений Маратович  мужской           3             3   \n",
       "\n",
       "   Литература  Физика  История  Физическая культура  \n",
       "0           3       3        3                    5  \n",
       "1           3       5        3                    3  \n",
       "2           5       3        4                    5  \n",
       "3           5       5        4                    5  \n",
       "4           4       3        4                    3  "
      ]
     },
     "execution_count": 7,
     "metadata": {},
     "output_type": "execute_result"
    }
   ],
   "source": [
    "pd.read_excel('../temp tables/оценки.xlsx')"
   ]
  },
  {
   "cell_type": "markdown",
   "id": "b5b26c1c",
   "metadata": {},
   "source": [
    "#### Параметр sheet_name"
   ]
  },
  {
   "cell_type": "code",
   "execution_count": 8,
   "id": "d1b9134d",
   "metadata": {},
   "outputs": [],
   "source": [
    "marks_6a.to_excel('../temp tables/оценки.xlsx', index=False, sheet_name='6 А')\n",
    "marks_6d.to_excel('../temp tables/оценки.xlsx', index=False, sheet_name='6 Д')"
   ]
  },
  {
   "cell_type": "code",
   "execution_count": 9,
   "id": "6e79d6c8",
   "metadata": {},
   "outputs": [
    {
     "data": {
      "text/plain": [
       "dict_keys(['6 Д'])"
      ]
     },
     "execution_count": 9,
     "metadata": {},
     "output_type": "execute_result"
    }
   ],
   "source": [
    "pd.read_excel('../temp tables/оценки.xlsx', sheet_name=None).keys()"
   ]
  },
  {
   "cell_type": "markdown",
   "id": "5aa45cf0",
   "metadata": {},
   "source": [
    "### Чтобы сохранить в эксель несколько листов, необходимо использовать следующую конструкцию"
   ]
  },
  {
   "cell_type": "code",
   "execution_count": 10,
   "id": "fd1c5299",
   "metadata": {},
   "outputs": [],
   "source": [
    "with pd.ExcelWriter('../temp tables/оценки.xlsx', mode='w') as writer:\n",
    "    marks_6a.to_excel(writer, index=False, sheet_name='6 А')\n",
    "    marks_6d.to_excel(writer, index=False, sheet_name='6 Д')"
   ]
  },
  {
   "cell_type": "code",
   "execution_count": 11,
   "id": "50852c4e",
   "metadata": {},
   "outputs": [
    {
     "data": {
      "text/plain": [
       "dict_keys(['6 А', '6 Д'])"
      ]
     },
     "execution_count": 11,
     "metadata": {},
     "output_type": "execute_result"
    }
   ],
   "source": [
    "pd.read_excel('../temp tables/оценки.xlsx', sheet_name=None).keys()"
   ]
  },
  {
   "cell_type": "code",
   "execution_count": 12,
   "id": "f003f947",
   "metadata": {},
   "outputs": [],
   "source": [
    "with pd.ExcelWriter('../temp tables/оценки.xlsx', mode='w') as writer:\n",
    "    marks_6b.to_excel(writer, index=False, sheet_name='6 Б')"
   ]
  },
  {
   "cell_type": "code",
   "execution_count": 13,
   "id": "34cf04a6",
   "metadata": {},
   "outputs": [
    {
     "data": {
      "text/plain": [
       "dict_keys(['6 Б'])"
      ]
     },
     "execution_count": 13,
     "metadata": {},
     "output_type": "execute_result"
    }
   ],
   "source": [
    "pd.read_excel('../temp tables/оценки.xlsx', sheet_name=None).keys()"
   ]
  },
  {
   "cell_type": "code",
   "execution_count": 14,
   "id": "b7a1febd",
   "metadata": {},
   "outputs": [],
   "source": [
    "with pd.ExcelWriter('../temp tables/оценки.xlsx', mode='a') as writer:\n",
    "    marks_6a.to_excel(writer, index=False, sheet_name='6 А')\n",
    "    marks_6d.to_excel(writer, index=False, sheet_name='6 Д')"
   ]
  },
  {
   "cell_type": "code",
   "execution_count": 15,
   "id": "1c975196",
   "metadata": {},
   "outputs": [
    {
     "data": {
      "text/plain": [
       "dict_keys(['6 Б', '6 А', '6 Д'])"
      ]
     },
     "execution_count": 15,
     "metadata": {},
     "output_type": "execute_result"
    }
   ],
   "source": [
    "pd.read_excel('../temp tables/оценки.xlsx', sheet_name=None).keys()"
   ]
  },
  {
   "cell_type": "markdown",
   "id": "b9064163",
   "metadata": {},
   "source": [
    "#### В csv "
   ]
  },
  {
   "cell_type": "code",
   "execution_count": 16,
   "id": "4b11f4a2",
   "metadata": {},
   "outputs": [],
   "source": [
    "marks_6d.to_csv('../temp tables/оценки.csv', index=False)"
   ]
  },
  {
   "cell_type": "markdown",
   "id": "84af6df3",
   "metadata": {},
   "source": [
    "#### pickle"
   ]
  },
  {
   "cell_type": "code",
   "execution_count": 17,
   "id": "d0f2c236",
   "metadata": {},
   "outputs": [],
   "source": [
    "marks_6d.to_pickle('../temp tables/оценки.pkl')"
   ]
  },
  {
   "cell_type": "markdown",
   "id": "274924e8",
   "metadata": {},
   "source": [
    "#### parquet"
   ]
  },
  {
   "cell_type": "code",
   "execution_count": 18,
   "id": "e7359f8b",
   "metadata": {},
   "outputs": [],
   "source": [
    "marks_6d.to_parquet('../temp tables/оценки.parquet')"
   ]
  },
  {
   "cell_type": "code",
   "execution_count": null,
   "id": "e57c4067",
   "metadata": {},
   "outputs": [],
   "source": []
  },
  {
   "cell_type": "code",
   "execution_count": null,
   "id": "6406add0",
   "metadata": {},
   "outputs": [],
   "source": []
  },
  {
   "cell_type": "code",
   "execution_count": null,
   "id": "9048e325",
   "metadata": {},
   "outputs": [],
   "source": []
  },
  {
   "cell_type": "code",
   "execution_count": null,
   "id": "c4faddd9",
   "metadata": {},
   "outputs": [],
   "source": []
  },
  {
   "cell_type": "code",
   "execution_count": null,
   "id": "221e7ead",
   "metadata": {},
   "outputs": [],
   "source": []
  },
  {
   "cell_type": "code",
   "execution_count": null,
   "id": "8429d84e",
   "metadata": {},
   "outputs": [],
   "source": []
  },
  {
   "cell_type": "code",
   "execution_count": null,
   "id": "2eb4f078",
   "metadata": {},
   "outputs": [],
   "source": []
  },
  {
   "cell_type": "code",
   "execution_count": null,
   "id": "07996924",
   "metadata": {},
   "outputs": [],
   "source": []
  },
  {
   "cell_type": "code",
   "execution_count": null,
   "id": "80b2f446",
   "metadata": {},
   "outputs": [],
   "source": []
  },
  {
   "cell_type": "code",
   "execution_count": null,
   "id": "f29596b2",
   "metadata": {},
   "outputs": [],
   "source": []
  },
  {
   "cell_type": "code",
   "execution_count": null,
   "id": "54574178",
   "metadata": {},
   "outputs": [],
   "source": []
  },
  {
   "cell_type": "code",
   "execution_count": null,
   "id": "6f5e9adb",
   "metadata": {},
   "outputs": [],
   "source": []
  },
  {
   "cell_type": "code",
   "execution_count": null,
   "id": "cb172db3",
   "metadata": {},
   "outputs": [],
   "source": []
  },
  {
   "cell_type": "code",
   "execution_count": null,
   "id": "de51115a",
   "metadata": {},
   "outputs": [],
   "source": []
  },
  {
   "cell_type": "code",
   "execution_count": null,
   "id": "bc0d0667",
   "metadata": {},
   "outputs": [],
   "source": []
  },
  {
   "cell_type": "markdown",
   "id": "a739ea58",
   "metadata": {},
   "source": [
    "# Задания"
   ]
  },
  {
   "cell_type": "markdown",
   "id": "37daa5f3",
   "metadata": {},
   "source": [
    "#### Описание таблиц лежит [здесь](https://github.com/victorlymarev/pandas/tree/main/tables#%D0%BE%D0%BF%D0%B8%D1%81%D0%B0%D0%BD%D0%B8%D0%B5-%D1%82%D0%B0%D0%B1%D0%BB%D0%B8%D1%86)"
   ]
  },
  {
   "cell_type": "markdown",
   "id": "e8a50e42",
   "metadata": {},
   "source": [
    "Некоторые таблицы занимают много памяти, поэтому каждые 5-10 заданий лучше перезапускайте ноутбук.\n",
    "\n",
    "В формулировке некоторых заданий может содержаться вариативность. Если у вас есть сомнения, что требуется в задании, попробуйте решить несколько вариантов. Если вы не понимаете задание, можете написать об этом в комментариях под видео.\n",
    "\n",
    "В большинстве случаев внешний вид итоговой таблицы не определен. Выведите на экран наиболее адекватный вариант. То есть таблицу, из которой можно будет сделать выводы.\n",
    "\n",
    "Курс пока находится в разработке. Вы можете помочь другим людям добавив свое решение [сюда](https://docs.google.com/forms/d/1HYTBz_KfssY3Jps2dC3n0YnEqa6WBb5OIhLo1d32Xzw/edit).\n",
    "\n",
    "Посмотреть решения других людей можно [здесь](https://docs.google.com/spreadsheets/d/1pMDYO-9UneLbPPnEuQ2shig0TOJdQTU-zipifyAnZMk/edit?resourcekey#gid=1998648012)"
   ]
  },
  {
   "cell_type": "markdown",
   "id": "26b784b9",
   "metadata": {},
   "source": [
    "### Задание 1\n",
    "\n",
    "Давайте долистаем до конца экселя. Создайте 1 колонку, в которой будут лежать значения от 0 до 1048576 (невключительно). Сохраните эту колонку в эксель файл. Откройте его и долистайте до конца"
   ]
  },
  {
   "cell_type": "code",
   "execution_count": null,
   "id": "0052c9b2",
   "metadata": {},
   "outputs": [],
   "source": [
    "import pandas as pd\n",
    "import numpy as np\n",
    "\n",
    "# Напишите свой код здесь"
   ]
  },
  {
   "cell_type": "markdown",
   "id": "2d5001b2",
   "metadata": {},
   "source": [
    "Это задание вы можете выполнить в гугл colab. Чтобы посмотреть, что файл создался выполните команду:\n",
    "\n",
    "!ls -la"
   ]
  },
  {
   "cell_type": "markdown",
   "id": "08fe9283",
   "metadata": {},
   "source": [
    "### Задание 2\n",
    "\n",
    "Для того, скопировать таблицу необязательно выделять ее мышкой. Для того, чтобы это сделать можно использовать метод to_clipboard(). После вызова метода вы можете вствить ее, например, в эксель файл."
   ]
  },
  {
   "cell_type": "code",
   "execution_count": null,
   "id": "873a71a6",
   "metadata": {},
   "outputs": [],
   "source": [
    "import pandas as pd\n",
    "import os\n",
    "\n",
    "path_marks_6a = '../tables/оценки.xlsx' if os.path.exists('../tables/оценки.xlsx') else 'https://drive.google.com/uc?id=17f4DXx53J0WooNkhO13xidseZJ-O2obs'\n",
    "path_marks_6a"
   ]
  },
  {
   "cell_type": "code",
   "execution_count": null,
   "id": "59d6e833",
   "metadata": {},
   "outputs": [],
   "source": []
  },
  {
   "cell_type": "code",
   "execution_count": null,
   "id": "c02d32a0",
   "metadata": {},
   "outputs": [],
   "source": []
  }
 ],
 "metadata": {
  "kernelspec": {
   "display_name": "Python 3 (ipykernel)",
   "language": "python",
   "name": "python3"
  },
  "language_info": {
   "codemirror_mode": {
    "name": "ipython",
    "version": 3
   },
   "file_extension": ".py",
   "mimetype": "text/x-python",
   "name": "python",
   "nbconvert_exporter": "python",
   "pygments_lexer": "ipython3",
   "version": "3.11.6"
  }
 },
 "nbformat": 4,
 "nbformat_minor": 5
}
