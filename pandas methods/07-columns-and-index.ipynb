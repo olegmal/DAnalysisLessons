{
 "cells": [
  {
   "cell_type": "markdown",
   "id": "c98b3225",
   "metadata": {},
   "source": [
    "<a target=\"_blank\" href=\"https://colab.research.google.com/github/victorlymarev/pandas/blob/main/notebooks/07-columns-and-index.ipynb\">\n",
    "  <img src=\"https://colab.research.google.com/assets/colab-badge.svg\" alt=\"Open In Colab\"/>\n",
    "</a>"
   ]
  },
  {
   "cell_type": "markdown",
   "id": "b5145c52",
   "metadata": {},
   "source": [
    "# Изменение названий колонок и индексов\n",
    "#### [Ссылка на видео](https://youtu.be/2uCV3Qb9P60)"
   ]
  },
  {
   "cell_type": "code",
   "execution_count": null,
   "id": "836df9fb",
   "metadata": {},
   "outputs": [],
   "source": [
    "import pandas as pd\n",
    "import os"
   ]
  },
  {
   "cell_type": "markdown",
   "id": "f2b8e713",
   "metadata": {},
   "source": [
    "#### Колонки:\n",
    "1. check_id - Номер чека\n",
    "2. customer_id - Номер клиента\n",
    "3. purchase_date - Дата покупки\n",
    "4. shop_id - Номер магазина\n",
    "5. product_code_3 - Код продукта 3 (артикул)\n",
    "6. price - Цена\n",
    "7. goods_number - Количество"
   ]
  },
  {
   "cell_type": "code",
   "execution_count": null,
   "id": "4b206258",
   "metadata": {},
   "outputs": [],
   "source": [
    "path_sales_2021 = '../tables/sales_2021.parquet' if os.path.exists('../tables/sales.parquet') else \"https://drive.google.com/uc?id=1Xy4a_aAnTAG5fzsQDdwYiQxpNYRMyLkr\"\n",
    "\n",
    "sales = pd.read_parquet(path_sales_2021)[\n",
    "    ['check_id', 'customer_id', 'purchase_date', 'shop_id',\n",
    "     'product_code_3', 'price', 'goods_number']]\n",
    "sales.head()"
   ]
  },
  {
   "cell_type": "markdown",
   "id": "dc929dd7",
   "metadata": {},
   "source": [
    "#### Обращение к названиям колонок"
   ]
  },
  {
   "cell_type": "code",
   "execution_count": null,
   "id": "9380b638",
   "metadata": {},
   "outputs": [],
   "source": [
    "sales.columns"
   ]
  },
  {
   "cell_type": "markdown",
   "id": "d9c40b33",
   "metadata": {},
   "source": [
    "#### Обращение к индексу"
   ]
  },
  {
   "cell_type": "code",
   "execution_count": null,
   "id": "4dc37587",
   "metadata": {},
   "outputs": [],
   "source": [
    "sales.index"
   ]
  },
  {
   "cell_type": "code",
   "execution_count": null,
   "id": "f1ae99ef",
   "metadata": {},
   "outputs": [],
   "source": []
  },
  {
   "cell_type": "markdown",
   "id": "a5083066",
   "metadata": {},
   "source": [
    "#### Если обратиться к атрибутам columns или index, то можно увидеть список всех методов и атрибутов"
   ]
  },
  {
   "cell_type": "code",
   "execution_count": null,
   "id": "b5c5d71f",
   "metadata": {},
   "outputs": [],
   "source": [
    "sales.columns."
   ]
  },
  {
   "cell_type": "code",
   "execution_count": null,
   "id": "c7018151",
   "metadata": {},
   "outputs": [],
   "source": [
    "dir(sales.columns)"
   ]
  },
  {
   "cell_type": "markdown",
   "id": "0fdf8a9f",
   "metadata": {},
   "source": [
    "### Метод tolist()"
   ]
  },
  {
   "cell_type": "code",
   "execution_count": null,
   "id": "a5961dbb",
   "metadata": {},
   "outputs": [],
   "source": [
    "empty_df = pd.DataFrame(columns=[f'Колонка {i + 1}' for i in range(150)])\n",
    "empty_df"
   ]
  },
  {
   "cell_type": "code",
   "execution_count": null,
   "id": "12528f8e",
   "metadata": {},
   "outputs": [],
   "source": [
    "empty_df.columns"
   ]
  },
  {
   "cell_type": "code",
   "execution_count": null,
   "id": "35fbb719",
   "metadata": {},
   "outputs": [],
   "source": [
    "empty_df.columns.tolist()"
   ]
  },
  {
   "cell_type": "markdown",
   "id": "1c2b7fc4",
   "metadata": {},
   "source": [
    "#### Метод tolist есть у объектов Series"
   ]
  },
  {
   "cell_type": "code",
   "execution_count": null,
   "id": "7c2d96dc",
   "metadata": {},
   "outputs": [],
   "source": [
    "sales['customer_id'].tolist()"
   ]
  },
  {
   "cell_type": "code",
   "execution_count": null,
   "id": "b2661f93",
   "metadata": {},
   "outputs": [],
   "source": []
  },
  {
   "cell_type": "markdown",
   "id": "fee1eb7d",
   "metadata": {},
   "source": [
    "### repeat \n",
    "дублирует индекс несколько раз"
   ]
  },
  {
   "cell_type": "code",
   "execution_count": null,
   "id": "7b65b2eb",
   "metadata": {},
   "outputs": [],
   "source": [
    "# Продублировали индекс 2 раза\n",
    "sales.index.repeat(2)"
   ]
  },
  {
   "cell_type": "code",
   "execution_count": null,
   "id": "a520570a",
   "metadata": {},
   "outputs": [],
   "source": [
    "sales['goods_number'].head()"
   ]
  },
  {
   "cell_type": "markdown",
   "id": "96ef401e",
   "metadata": {},
   "source": [
    "#### Продублировали индекс согласно колонке goods_number"
   ]
  },
  {
   "cell_type": "code",
   "execution_count": null,
   "id": "31bf7627",
   "metadata": {},
   "outputs": [],
   "source": [
    "sales.index.repeat(sales['goods_number'])"
   ]
  },
  {
   "cell_type": "markdown",
   "id": "80dfd48a",
   "metadata": {},
   "source": [
    "#### Продублировали каждую строку столько раз, сколько единиц товара было куплено"
   ]
  },
  {
   "cell_type": "code",
   "execution_count": null,
   "id": "1907ff4e",
   "metadata": {},
   "outputs": [],
   "source": [
    "sales.loc[sales.index.repeat(sales['goods_number'])].head()"
   ]
  },
  {
   "cell_type": "code",
   "execution_count": null,
   "id": "634c25d6",
   "metadata": {},
   "outputs": [],
   "source": [
    "sales.columns"
   ]
  },
  {
   "cell_type": "markdown",
   "id": "9df0706b",
   "metadata": {},
   "source": [
    "#### Перепишем названия колонок заглавными буквами"
   ]
  },
  {
   "cell_type": "code",
   "execution_count": null,
   "id": "9e58201f",
   "metadata": {},
   "outputs": [],
   "source": [
    "sales.columns = [\n",
    "    'CHECK_ID',\n",
    "    'CUSTOMER_ID',\n",
    "    'PURCHASE_DATE',\n",
    "    'SHOP_ID',\n",
    "    'PRODUCT_CODE_3',\n",
    "    'PRICE',\n",
    "    'GOODS_NUMBER'\n",
    "]"
   ]
  },
  {
   "cell_type": "code",
   "execution_count": null,
   "id": "d20e4bd1",
   "metadata": {},
   "outputs": [],
   "source": [
    "sales.head(3)"
   ]
  },
  {
   "cell_type": "code",
   "execution_count": null,
   "id": "798c231b",
   "metadata": {},
   "outputs": [],
   "source": [
    "sales.columns"
   ]
  },
  {
   "cell_type": "markdown",
   "id": "7b421915",
   "metadata": {},
   "source": [
    "#### Дадим колонкам русские названия"
   ]
  },
  {
   "cell_type": "markdown",
   "id": "2c9e3f9e",
   "metadata": {},
   "source": [
    "1. __Список должен быть той же длинны, что и число колонок в таблице__ \n",
    "2. __Названия колонок не должны повторяться__"
   ]
  },
  {
   "cell_type": "code",
   "execution_count": null,
   "id": "a7fd1674",
   "metadata": {},
   "outputs": [],
   "source": [
    "sales.columns = [\n",
    "    'Номер чека',\n",
    "    'Номер клиента',\n",
    "    'Дата покупки',\n",
    "    'Номер магазина',\n",
    "    'Код продукта 3',\n",
    "    'Цена',\n",
    "    'Количество'\n",
    "]"
   ]
  },
  {
   "cell_type": "code",
   "execution_count": null,
   "id": "c4929d47",
   "metadata": {},
   "outputs": [],
   "source": [
    "sales.head(3)"
   ]
  },
  {
   "cell_type": "markdown",
   "id": "20d6becf",
   "metadata": {},
   "source": [
    "#### Вернем как было"
   ]
  },
  {
   "cell_type": "code",
   "execution_count": null,
   "id": "015c28b7",
   "metadata": {},
   "outputs": [],
   "source": [
    "sales.columns = [\n",
    "    'check_id',\n",
    "    'customer_id',\n",
    "    'purchase_date',\n",
    "    'shop_id',\n",
    "    'product_code_3',\n",
    "    'price',\n",
    "    'goods_number'\n",
    "]"
   ]
  },
  {
   "cell_type": "code",
   "execution_count": null,
   "id": "5fe29c5a",
   "metadata": {},
   "outputs": [],
   "source": []
  },
  {
   "cell_type": "markdown",
   "id": "f7486a96",
   "metadata": {},
   "source": [
    "#### Методы для работы со строками"
   ]
  },
  {
   "cell_type": "markdown",
   "id": "13d1faf0",
   "metadata": {},
   "source": [
    "Приведем названия колонок написанию с заглавной буквы"
   ]
  },
  {
   "cell_type": "code",
   "execution_count": null,
   "id": "54a363fa",
   "metadata": {},
   "outputs": [],
   "source": [
    "sales.columns"
   ]
  },
  {
   "cell_type": "code",
   "execution_count": null,
   "id": "8f847ce0",
   "metadata": {},
   "outputs": [],
   "source": [
    "sales.columns[0]"
   ]
  },
  {
   "cell_type": "code",
   "execution_count": null,
   "id": "09a22054",
   "metadata": {},
   "outputs": [],
   "source": [
    "sales.columns[1]"
   ]
  },
  {
   "cell_type": "code",
   "execution_count": null,
   "id": "9a603166",
   "metadata": {},
   "outputs": [],
   "source": [
    "print(sales.columns[0].lower()) # Приведение к нижнему регистру\n",
    "print('--------------------')\n",
    "print(sales.columns[0].upper()) # Приведение к верхнему регистру\n",
    "print('--------------------')\n",
    "print(sales.columns[0].capitalize()) # 1 символ в верхнем регисттре,\n",
    "                                     # остальные в нижнем"
   ]
  },
  {
   "cell_type": "code",
   "execution_count": null,
   "id": "64ba72e5",
   "metadata": {},
   "outputs": [],
   "source": [
    "sales.columns"
   ]
  },
  {
   "cell_type": "code",
   "execution_count": null,
   "id": "94657d8a",
   "metadata": {},
   "outputs": [],
   "source": [
    "[col.capitalize() for col in sales.columns]"
   ]
  },
  {
   "cell_type": "code",
   "execution_count": null,
   "id": "154539b4",
   "metadata": {},
   "outputs": [],
   "source": [
    "sales.columns = [col.capitalize() for col in sales.columns]"
   ]
  },
  {
   "cell_type": "code",
   "execution_count": null,
   "id": "9ebc7785",
   "metadata": {},
   "outputs": [],
   "source": [
    "sales.head(3)"
   ]
  },
  {
   "cell_type": "code",
   "execution_count": null,
   "id": "bf22f893",
   "metadata": {},
   "outputs": [],
   "source": []
  },
  {
   "cell_type": "markdown",
   "id": "ef44f8ee",
   "metadata": {},
   "source": [
    "### rename\n",
    "\n",
    "Метод возвращает DataFrame или Series с переименованными колонками или индексами\n",
    "\n",
    "В него передается словарь или функция \n",
    "\n",
    "#### Синтаксис для переименования колонок: \n",
    "\n",
    "1. df.rename(columns=словарь или функция)\n",
    "2. df.rename(словарь или функция, axis=1)\n",
    "3. df.rename(словарь или функция, axis='columns')\n",
    "\n",
    "#### Структура словаря:\n",
    "{'старое название колонки': 'новое название колонки'}"
   ]
  },
  {
   "cell_type": "code",
   "execution_count": null,
   "id": "3cdd5e4a",
   "metadata": {},
   "outputs": [],
   "source": [
    "sales.columns"
   ]
  },
  {
   "cell_type": "markdown",
   "id": "00fd500c",
   "metadata": {},
   "source": [
    "#### Передаем словарь в парметр columns"
   ]
  },
  {
   "cell_type": "code",
   "execution_count": null,
   "id": "1cf3b03e",
   "metadata": {},
   "outputs": [],
   "source": [
    "(sales\n",
    "    .rename(columns={'Check_id': 'Номер чека',\n",
    "                     'Customer_id': 'Номер клиента'})\n",
    "    .head(3)\n",
    ")"
   ]
  },
  {
   "cell_type": "markdown",
   "id": "fcc3ea6f",
   "metadata": {},
   "source": [
    "#### Передаем 1 в параметр axis"
   ]
  },
  {
   "cell_type": "code",
   "execution_count": null,
   "id": "07d2a699",
   "metadata": {},
   "outputs": [],
   "source": [
    "(sales\n",
    "    .rename({'Check_id': 'Номер чека',\n",
    "             'Customer_id': 'Номер клиента'}, axis=1)\n",
    "    .head(3)\n",
    ")"
   ]
  },
  {
   "cell_type": "markdown",
   "id": "7e2fd4bb",
   "metadata": {},
   "source": [
    "#### Передаем 'columns' в параметр axis"
   ]
  },
  {
   "cell_type": "code",
   "execution_count": null,
   "id": "e8632359",
   "metadata": {},
   "outputs": [],
   "source": [
    "# Указываем ось равную 'columns'\n",
    "(sales\n",
    "    .rename({'Check_id': 'Номер чека',\n",
    "             'Customer_id': 'Номер клиента'},\n",
    "             axis='columns')\n",
    "    .head(3)\n",
    ")"
   ]
  },
  {
   "cell_type": "markdown",
   "id": "5797566a",
   "metadata": {},
   "source": [
    "#### То же самое можно сделать и с индексом"
   ]
  },
  {
   "cell_type": "code",
   "execution_count": null,
   "id": "6eb40743",
   "metadata": {},
   "outputs": [],
   "source": [
    "sales.rename({0: 'первая строчка'}).head(3)"
   ]
  },
  {
   "cell_type": "code",
   "execution_count": null,
   "id": "0c5d30a5",
   "metadata": {},
   "outputs": [],
   "source": []
  },
  {
   "cell_type": "markdown",
   "id": "7689ed1b",
   "metadata": {},
   "source": [
    "### Частые ошибки при работе с методом"
   ]
  },
  {
   "cell_type": "markdown",
   "id": "c424f194",
   "metadata": {},
   "source": [
    "#### Старое название колонки написано с ошибкой\n",
    "Ошибка в названии колонки customer_id"
   ]
  },
  {
   "cell_type": "code",
   "execution_count": null,
   "id": "67392dcf",
   "metadata": {},
   "outputs": [],
   "source": [
    "# ошибка есть\n",
    "(sales\n",
    "    .rename(columns={'Check_id': 'Номер чека',\n",
    "                     'Castomer_id': 'Номер клиента'})\n",
    "    .head(3)\n",
    ")"
   ]
  },
  {
   "cell_type": "code",
   "execution_count": null,
   "id": "09dc7738",
   "metadata": {},
   "outputs": [],
   "source": [
    "# Ошибки нет\n",
    "(sales\n",
    "    .rename(columns={'Check_id': 'Номер чека',\n",
    "                     'Customer_id': 'Номер клиента'})\n",
    "    .head(3)\n",
    ")"
   ]
  },
  {
   "cell_type": "markdown",
   "id": "fefa755a",
   "metadata": {},
   "source": [
    "#### Не указана ось"
   ]
  },
  {
   "cell_type": "code",
   "execution_count": null,
   "id": "9898e8c4",
   "metadata": {},
   "outputs": [],
   "source": [
    "# Ошибка есть\n",
    "(sales\n",
    "    .rename({'Check_id': 'Номер чека',\n",
    "             'Customer_id': 'Номер клиента'})\n",
    "    .head(3)\n",
    ")"
   ]
  },
  {
   "cell_type": "markdown",
   "id": "77ec9a51",
   "metadata": {},
   "source": [
    "Если ось указать, то все начинает работать"
   ]
  },
  {
   "cell_type": "code",
   "execution_count": null,
   "id": "30207de2",
   "metadata": {},
   "outputs": [],
   "source": [
    "# Ошибки нет\n",
    "(sales\n",
    "    .rename({'Check_id': 'Номер чека',\n",
    "             'Customer_id': 'Номер клиента'}, axis=1)\n",
    "    .head(3)\n",
    ")"
   ]
  },
  {
   "cell_type": "code",
   "execution_count": null,
   "id": "8cfbffa0",
   "metadata": {},
   "outputs": [],
   "source": []
  },
  {
   "cell_type": "markdown",
   "id": "92701a0d",
   "metadata": {},
   "source": [
    "### Функции"
   ]
  },
  {
   "cell_type": "code",
   "execution_count": null,
   "id": "1494df60",
   "metadata": {},
   "outputs": [],
   "source": [
    "def calculate_hypotenuse(cat1, cat2):\n",
    "#     считаем сумму квадратов катетов\n",
    "    hypotenuse_squered = cat1 ** 2 + cat2 ** 2\n",
    "#     считаем гипотенузу\n",
    "    hypotenuse = hypotenuse_squered ** 0.5\n",
    "#     возвращаем значение\n",
    "    return hypotenuse"
   ]
  },
  {
   "cell_type": "code",
   "execution_count": null,
   "id": "98efa3c6",
   "metadata": {},
   "outputs": [],
   "source": [
    "calculate_hypotenuse(3, 4)"
   ]
  },
  {
   "cell_type": "code",
   "execution_count": null,
   "id": "63bd7217",
   "metadata": {},
   "outputs": [],
   "source": [
    "calculate_hypotenuse(5, 12)"
   ]
  },
  {
   "cell_type": "code",
   "execution_count": null,
   "id": "8914fc24",
   "metadata": {},
   "outputs": [],
   "source": []
  },
  {
   "cell_type": "markdown",
   "id": "71c52872",
   "metadata": {},
   "source": [
    "#### Функции с таблицами"
   ]
  },
  {
   "cell_type": "code",
   "execution_count": null,
   "id": "a43fc95c",
   "metadata": {},
   "outputs": [],
   "source": [
    "sales.columns"
   ]
  },
  {
   "cell_type": "code",
   "execution_count": null,
   "id": "23d84094",
   "metadata": {},
   "outputs": [],
   "source": [
    "def make_lowercase_string(string):\n",
    "    return string.lower()"
   ]
  },
  {
   "cell_type": "code",
   "execution_count": null,
   "id": "c031fa17",
   "metadata": {},
   "outputs": [],
   "source": [
    "make_lowercase_string('PANDAS')"
   ]
  },
  {
   "cell_type": "code",
   "execution_count": null,
   "id": "37f0ee7e",
   "metadata": {},
   "outputs": [],
   "source": [
    "# Все три строчки работают одинакого\n",
    "sales.rename(columns=make_lowercase_string).head()\n",
    "sales.rename(make_lowercase_string, axis=1).head()\n",
    "sales.rename(make_lowercase_string, axis='columns').head()"
   ]
  },
  {
   "cell_type": "code",
   "execution_count": null,
   "id": "46e9c4f1",
   "metadata": {},
   "outputs": [],
   "source": []
  },
  {
   "cell_type": "markdown",
   "id": "fadce815",
   "metadata": {},
   "source": [
    "### Возможные ошибки"
   ]
  },
  {
   "cell_type": "markdown",
   "id": "ba2592c8",
   "metadata": {},
   "source": [
    "#### Вызов функции внутри метода. sales.rename(columns=__make_lowercase_string()__ ) - круглые скобки после названия функции лишние. Правильно: sales.rename(columns=make_lowercase_string)"
   ]
  },
  {
   "cell_type": "code",
   "execution_count": null,
   "id": "44ece778",
   "metadata": {},
   "outputs": [],
   "source": [
    "# Это работать не будет\n",
    "sales.rename(columns=make_lowercase_string())"
   ]
  },
  {
   "cell_type": "code",
   "execution_count": null,
   "id": "2c5a134c",
   "metadata": {},
   "outputs": [],
   "source": [
    "sales.rename(columns=make_lowercase_string)"
   ]
  },
  {
   "cell_type": "markdown",
   "id": "278731ac",
   "metadata": {},
   "source": [
    "#### На вход в функцию подаются строки, хотя в таблице названия колонок представлены целыми числами"
   ]
  },
  {
   "cell_type": "code",
   "execution_count": null,
   "id": "8784bf84",
   "metadata": {},
   "outputs": [],
   "source": [
    "pd.DataFrame(columns=[1, 2, 3, 4])"
   ]
  },
  {
   "cell_type": "code",
   "execution_count": null,
   "id": "51a4f847",
   "metadata": {},
   "outputs": [],
   "source": [
    "pd.DataFrame(columns=[1, 2, 3, 4]).rename(columns=make_lowercase_string)"
   ]
  },
  {
   "cell_type": "markdown",
   "id": "02137e3e",
   "metadata": {},
   "source": [
    "#### Функция на вход принимает более одного обязательного параметра"
   ]
  },
  {
   "cell_type": "code",
   "execution_count": null,
   "id": "27c9cd11",
   "metadata": {},
   "outputs": [],
   "source": [
    "# Эта функция принимает на вход 2 обязательных аргумента\n",
    "def concatinate_strings(string1, string2):\n",
    "    return string1 + ' ' +  string2"
   ]
  },
  {
   "cell_type": "code",
   "execution_count": null,
   "id": "7a96400a",
   "metadata": {},
   "outputs": [],
   "source": [
    "def make_lowercase_string(string):\n",
    "    return string.lower()"
   ]
  },
  {
   "cell_type": "code",
   "execution_count": null,
   "id": "43ab20c5",
   "metadata": {},
   "outputs": [],
   "source": [
    "concatinate_strings('Аргумент 1', 'Аргумент 2')"
   ]
  },
  {
   "cell_type": "code",
   "execution_count": null,
   "id": "3b84ce12",
   "metadata": {},
   "outputs": [],
   "source": [
    "sales.rename(columns=concatinate_strings)"
   ]
  },
  {
   "cell_type": "code",
   "execution_count": null,
   "id": "eae17670",
   "metadata": {},
   "outputs": [],
   "source": []
  },
  {
   "cell_type": "markdown",
   "id": "db0b971d",
   "metadata": {},
   "source": [
    "### Использование lambda функций"
   ]
  },
  {
   "cell_type": "code",
   "execution_count": null,
   "id": "d2a73ae0",
   "metadata": {},
   "outputs": [],
   "source": [
    "def make_lowercase_string(string):\n",
    "    return string.lower()"
   ]
  },
  {
   "cell_type": "code",
   "execution_count": null,
   "id": "566a2026",
   "metadata": {},
   "outputs": [],
   "source": [
    "(sales\n",
    "    .rename(lambda x: x.lower(), axis=1)\n",
    "    .head(3)\n",
    ")"
   ]
  },
  {
   "cell_type": "markdown",
   "id": "f8f504b8",
   "metadata": {},
   "source": [
    "#### Метод rename принимает на вход не только функции, но любые другие вызываемые объекты"
   ]
  },
  {
   "cell_type": "code",
   "execution_count": null,
   "id": "ede86de7",
   "metadata": {},
   "outputs": [],
   "source": [
    "sales = sales.rename(str.lower, axis=1)\n",
    "sales.head(3)"
   ]
  },
  {
   "cell_type": "code",
   "execution_count": null,
   "id": "4e001d15",
   "metadata": {},
   "outputs": [],
   "source": []
  },
  {
   "cell_type": "markdown",
   "id": "1b92b002",
   "metadata": {},
   "source": [
    "### set_axis\n",
    "\n",
    "Как и метод rename меняет названия колонок. \n",
    "\n",
    "#### Синтаксис\n",
    "\n",
    "1. df.set_axis(список с новыми названиями колонок, axis=1)\n",
    "2. df.set_axis(список с новыми названиями колонок, axis='columns')"
   ]
  },
  {
   "cell_type": "code",
   "execution_count": null,
   "id": "d0d440d3",
   "metadata": {},
   "outputs": [],
   "source": [
    "sales.set_axis([\n",
    "        'Номер чека',\n",
    "        'Номер клиента',\n",
    "        'Дата покупки',\n",
    "        'Номер магазина',\n",
    "        'Код продукта 3',\n",
    "        'Цена',\n",
    "        'Количество'\n",
    "    ], axis=1).head(3)"
   ]
  },
  {
   "cell_type": "code",
   "execution_count": null,
   "id": "85e54213",
   "metadata": {},
   "outputs": [],
   "source": [
    "sales.set_axis([\n",
    "        'Номер чека',\n",
    "        'Номер клиента',\n",
    "        'Дата покупки',\n",
    "        'Номер магазина',\n",
    "        'Код продукта 3',\n",
    "        'Цена',\n",
    "        'Количество'\n",
    "    ], axis='columns').head(3)"
   ]
  },
  {
   "cell_type": "markdown",
   "id": "0d1d4a88",
   "metadata": {},
   "source": [
    "### Параметра columns у метода нет"
   ]
  },
  {
   "cell_type": "code",
   "execution_count": null,
   "id": "f323c08d",
   "metadata": {},
   "outputs": [],
   "source": [
    "# Данный вариант работать не будет!!!\n",
    "sales.set_axis(columns=[\n",
    "        'Номер чека',\n",
    "        'Номер клиента',\n",
    "        'Дата покупки',\n",
    "        'Номер магазина',\n",
    "        'Код продукта 3',\n",
    "        'Цена',\n",
    "        'Количество'\n",
    "    ]).head(3)"
   ]
  },
  {
   "cell_type": "code",
   "execution_count": null,
   "id": "0c418de9",
   "metadata": {},
   "outputs": [],
   "source": []
  },
  {
   "cell_type": "markdown",
   "id": "8bb605ac",
   "metadata": {},
   "source": [
    "### add_suffix\n",
    "\n",
    "Добавляет строку в конец названия каждой колонки\n",
    "\n",
    "#### Синтаксис\n",
    "\n",
    "df.add_suffix('строка')"
   ]
  },
  {
   "cell_type": "code",
   "execution_count": null,
   "id": "d7b6120b",
   "metadata": {},
   "outputs": [],
   "source": [
    "sales.add_suffix('12345').head(3)"
   ]
  },
  {
   "cell_type": "markdown",
   "id": "16852cd5",
   "metadata": {},
   "source": [
    "### add_prefix\n",
    "\n",
    "Добавляет строку в начало названия каждой колонки\n",
    "\n",
    "#### Синтаксис\n",
    "\n",
    "df.add_prefix('строка')"
   ]
  },
  {
   "cell_type": "code",
   "execution_count": null,
   "id": "c639fa5b",
   "metadata": {},
   "outputs": [],
   "source": [
    "sales.add_prefix('12345').head(3)"
   ]
  },
  {
   "cell_type": "code",
   "execution_count": null,
   "id": "360a184a",
   "metadata": {},
   "outputs": [],
   "source": []
  },
  {
   "cell_type": "markdown",
   "id": "1f950fec",
   "metadata": {},
   "source": [
    "## Работа с мультииндексом"
   ]
  },
  {
   "cell_type": "code",
   "execution_count": null,
   "id": "160a882d",
   "metadata": {},
   "outputs": [],
   "source": [
    "sales_agg = (sales\n",
    "    .assign(month_end_date = lambda x: x['purchase_date'].dt.normalize()\n",
    "            + pd.offsets.MonthEnd(0))\n",
    "\n",
    "    .assign(price_mul_number = lambda x: x['price'] * x['goods_number'])\n",
    "             \n",
    "    .assign(total_goods_per_check = lambda x: x\n",
    "            .groupby('check_id')['goods_number'].transform('sum'))\n",
    "\n",
    "    .assign(total_sum_per_check = lambda x: x\n",
    "            .groupby('check_id')['price_mul_number'].transform('sum'))\n",
    "\n",
    "    [['customer_id', 'month_end_date', 'total_goods_per_check',\n",
    "      'total_sum_per_check', 'check_id', 'shop_id']]\n",
    "             \n",
    "    .drop_duplicates()\n",
    "             \n",
    "    .groupby(['month_end_date', 'customer_id', 'shop_id'])\n",
    "             \n",
    "    .agg({'total_goods_per_check': ['min', 'max', 'mean'],\n",
    "          'total_sum_per_check': ['min', 'max', 'mean'],\n",
    "          'check_id': 'count'})\n",
    "             \n",
    "    .rename({'total_goods_per_check': 'число товаров в чеке',\n",
    "            'total_sum_per_check': 'cумма покупки',\n",
    "            'check_id': 'id чека',\n",
    "            'min': 'минимум',\n",
    "            'max': 'максимум',\n",
    "            'mean': 'среднее',\n",
    "            'count': 'количество'}, axis=1)\n",
    "             \n",
    "    .rename_axis(['месяц', 'id клиента', 'id магазина'])\n",
    ")\n",
    "sales_agg.head()"
   ]
  },
  {
   "cell_type": "code",
   "execution_count": null,
   "id": "ae0779f7",
   "metadata": {},
   "outputs": [],
   "source": [
    "# Отобразим первые 5 элементов индекса\n",
    "sales_agg.index[:5]"
   ]
  },
  {
   "cell_type": "code",
   "execution_count": null,
   "id": "9cec7fc2",
   "metadata": {},
   "outputs": [],
   "source": [
    "sales_agg.columns"
   ]
  },
  {
   "cell_type": "markdown",
   "id": "82cd6d9c",
   "metadata": {},
   "source": [
    "### Уровни мультииндекса"
   ]
  },
  {
   "cell_type": "code",
   "execution_count": null,
   "id": "6b527a4b",
   "metadata": {},
   "outputs": [],
   "source": [
    "sales_agg.head(2)"
   ]
  },
  {
   "cell_type": "markdown",
   "id": "ff871bc6",
   "metadata": {},
   "source": [
    "Уровень ноль имеет самая левая колонока"
   ]
  },
  {
   "cell_type": "code",
   "execution_count": null,
   "id": "025d5c38",
   "metadata": {},
   "outputs": [],
   "source": [
    "sales_agg.index.levels[0]"
   ]
  },
  {
   "cell_type": "code",
   "execution_count": null,
   "id": "4a445908",
   "metadata": {},
   "outputs": [],
   "source": [
    "sales_agg.index.levels[1]"
   ]
  },
  {
   "cell_type": "markdown",
   "id": "0cb14fcc",
   "metadata": {},
   "source": [
    "#### У названий колонок тоже есть уровни"
   ]
  },
  {
   "cell_type": "code",
   "execution_count": null,
   "id": "13e22249",
   "metadata": {},
   "outputs": [],
   "source": [
    "sales_agg.head(2)"
   ]
  },
  {
   "cell_type": "code",
   "execution_count": null,
   "id": "5515b293",
   "metadata": {},
   "outputs": [],
   "source": [
    "sales_agg.columns.levels[0]"
   ]
  },
  {
   "cell_type": "code",
   "execution_count": null,
   "id": "09340d56",
   "metadata": {},
   "outputs": [],
   "source": [
    "sales_agg.columns.levels[1]"
   ]
  },
  {
   "cell_type": "markdown",
   "id": "6b5c15d4",
   "metadata": {},
   "source": [
    "#### Уровни могут иметь названия, а могут не иметь"
   ]
  },
  {
   "cell_type": "markdown",
   "id": "fbf23ccb",
   "metadata": {},
   "source": [
    "Сейчас колонки в индексе имеют названия (месяц, id клиента, id магазина), а строки в шапке таблицы нет"
   ]
  },
  {
   "cell_type": "code",
   "execution_count": null,
   "id": "b71e4b5b",
   "metadata": {},
   "outputs": [],
   "source": [
    "sales_agg.head()"
   ]
  },
  {
   "cell_type": "markdown",
   "id": "f6e5118a",
   "metadata": {},
   "source": [
    "В большинстве методов, работающих с уровнями, можно указывать как номера уровней, так и их названия"
   ]
  },
  {
   "cell_type": "code",
   "execution_count": null,
   "id": "94bd444b",
   "metadata": {},
   "outputs": [],
   "source": []
  },
  {
   "cell_type": "markdown",
   "id": "a2b497a6",
   "metadata": {},
   "source": [
    "### Уровни можно менять местами"
   ]
  },
  {
   "cell_type": "markdown",
   "id": "053c223c",
   "metadata": {},
   "source": [
    "### swaplevel\n",
    "\n",
    "Синтаксис: \n",
    "\n",
    "df.swaplevel(уровень 1, уровень 2) - для того, чтобы поменять 2 уровня местами в индексе\n",
    "\n",
    "df.swaplevel(уровень 1, уровень 2, axis=1) - для того, чтобы поменять 2 уровня местами в индексе"
   ]
  },
  {
   "cell_type": "code",
   "execution_count": null,
   "id": "11f43b0c",
   "metadata": {},
   "outputs": [],
   "source": [
    "sales_agg.head(3)"
   ]
  },
  {
   "cell_type": "code",
   "execution_count": null,
   "id": "b13b7e24",
   "metadata": {},
   "outputs": [],
   "source": [
    "sales_agg.swaplevel(2, 0).head(3)"
   ]
  },
  {
   "cell_type": "code",
   "execution_count": null,
   "id": "f888cc8c",
   "metadata": {},
   "outputs": [],
   "source": [
    "sales_agg.swaplevel(2, 'месяц').head(3)"
   ]
  },
  {
   "cell_type": "markdown",
   "id": "c1cc18a6",
   "metadata": {},
   "source": [
    "#### Меняем уровни в колонках"
   ]
  },
  {
   "cell_type": "code",
   "execution_count": null,
   "id": "8a28f297",
   "metadata": {},
   "outputs": [],
   "source": [
    "sales_agg.swaplevel(0, 1, axis=1).head(3)"
   ]
  },
  {
   "cell_type": "markdown",
   "id": "29078a2c",
   "metadata": {},
   "source": [
    "#### Уровням можно давать названия\n",
    "### rename_axis\n",
    "\n",
    "#### Синтаксис:\n",
    "1. df.rename_axis(список из названий осей) - для переименования оси индексов\n",
    "2. df.rename_axis(список из названий осей, axis=1) - для переименования оси колонок\n",
    "3. df.rename_axis(index=список из названий осей или словарь (старое название: новое название) или функциия) - для переименования оси индексов\n",
    "4. df.rename_axis(columns=список из названий осей или словарь (старое название: новое название) или функциия) - для переименования оси колонок"
   ]
  },
  {
   "cell_type": "code",
   "execution_count": null,
   "id": "cc76d77d",
   "metadata": {},
   "outputs": [],
   "source": [
    "sales_agg.head(2)"
   ]
  },
  {
   "cell_type": "code",
   "execution_count": null,
   "id": "e549a62a",
   "metadata": {},
   "outputs": [],
   "source": [
    "sales_agg.rename_axis(['Название показателя', 'Статистика'], axis=1).head(2)"
   ]
  },
  {
   "cell_type": "markdown",
   "id": "def62531",
   "metadata": {},
   "source": [
    "#### Уровни можно выкидывать\n",
    "\n",
    "### droplevel\n",
    "\n",
    "#### Синитаксис:\n",
    "1. df.droplevel(уровень или список уровней) - для удаления колонок из индексов\n",
    "2. df.droplevel(уровень или список уровней, axis=1) - для удаления строк названий колонок из шапки\n",
    "\n"
   ]
  },
  {
   "cell_type": "code",
   "execution_count": null,
   "id": "c7a33b00",
   "metadata": {},
   "outputs": [],
   "source": [
    "sales_agg.droplevel('месяц').head(3)"
   ]
  },
  {
   "cell_type": "code",
   "execution_count": null,
   "id": "da3dacd6",
   "metadata": {},
   "outputs": [],
   "source": [
    "sales_agg.droplevel(0, axis=1).head(3)"
   ]
  },
  {
   "cell_type": "code",
   "execution_count": null,
   "id": "fc795041",
   "metadata": {},
   "outputs": [],
   "source": [
    "sales_agg.droplevel(1, axis=1).head(3)"
   ]
  },
  {
   "cell_type": "code",
   "execution_count": null,
   "id": "d09520fc",
   "metadata": {},
   "outputs": [],
   "source": []
  },
  {
   "cell_type": "markdown",
   "id": "a48f10fd",
   "metadata": {},
   "source": [
    "## Удаление мультииндекса из шапки таблицы"
   ]
  },
  {
   "cell_type": "code",
   "execution_count": null,
   "id": "9a20b10b",
   "metadata": {},
   "outputs": [],
   "source": [
    "sales_agg.head(0)"
   ]
  },
  {
   "cell_type": "code",
   "execution_count": null,
   "id": "e11c312c",
   "metadata": {},
   "outputs": [],
   "source": [
    "sales_agg.columns"
   ]
  },
  {
   "cell_type": "markdown",
   "id": "38639805",
   "metadata": {},
   "source": [
    "Мултииндекс это просто пары значений. И мы можем их соединить"
   ]
  },
  {
   "cell_type": "code",
   "execution_count": null,
   "id": "c7d877c1",
   "metadata": {},
   "outputs": [],
   "source": [
    "sales_agg.columns[0]"
   ]
  },
  {
   "cell_type": "code",
   "execution_count": null,
   "id": "75494e14",
   "metadata": {},
   "outputs": [],
   "source": [
    "'_'.join(sales_agg.columns[0])"
   ]
  },
  {
   "cell_type": "code",
   "execution_count": null,
   "id": "422c59ac",
   "metadata": {},
   "outputs": [],
   "source": [
    "sales_agg.columns.map('   строка с разделителем    '.join)"
   ]
  },
  {
   "cell_type": "code",
   "execution_count": null,
   "id": "802dc510",
   "metadata": {},
   "outputs": [],
   "source": [
    "['_'.join(i) for i in sales_agg.columns]"
   ]
  },
  {
   "cell_type": "code",
   "execution_count": null,
   "id": "ec942596",
   "metadata": {},
   "outputs": [],
   "source": [
    "[i + '_' + j for i, j in sales_agg.columns]"
   ]
  },
  {
   "cell_type": "code",
   "execution_count": null,
   "id": "da6e1731",
   "metadata": {},
   "outputs": [],
   "source": [
    "(sales_agg\n",
    "    .set_axis(sales_agg.columns.map('_'.join), axis=1)\n",
    "    .head(1)\n",
    ")    "
   ]
  },
  {
   "cell_type": "code",
   "execution_count": null,
   "id": "1fd330c0",
   "metadata": {},
   "outputs": [],
   "source": [
    "sales_agg.set_axis(['число товаров в чеке_минимум',\n",
    "    'число товаров в чеке_максимум',\n",
    "    'число товаров в чеке_среднее',\n",
    "    'cумма покупки_минимум',\n",
    "    'cумма покупки_максимум',\n",
    "    'cумма покупки_среднее',\n",
    "    'id чека_количество'\n",
    "                    ], axis=1).head(2)"
   ]
  },
  {
   "cell_type": "code",
   "execution_count": null,
   "id": "0e324a02",
   "metadata": {},
   "outputs": [],
   "source": []
  },
  {
   "cell_type": "markdown",
   "id": "e46fda0d",
   "metadata": {},
   "source": [
    "## Работа с индексом"
   ]
  },
  {
   "cell_type": "code",
   "execution_count": null,
   "id": "19b3b374",
   "metadata": {},
   "outputs": [],
   "source": [
    "sales.head(3)"
   ]
  },
  {
   "cell_type": "code",
   "execution_count": null,
   "id": "bc50b7e8",
   "metadata": {},
   "outputs": [],
   "source": [
    "sales_idx = sales.set_index(['check_id', 'customer_id',  'shop_id'])\n",
    "sales_idx.head(3)"
   ]
  },
  {
   "cell_type": "markdown",
   "id": "057e0c80",
   "metadata": {},
   "source": [
    "### reset_index\n",
    "метод перекидывает колонки из индекса в тело таблицы\n",
    "\n",
    "#### Параметры:\n",
    "1. level - название (или номер) уровня или список из названий (номеров) уровней, которые надо сбросить (по умолчанию сбрасываются все колонки индекса\n",
    "2. drop - выкидывать колонки из таблицы (True если выкидывать, False если нет. По умолчанию False)\n",
    "3. names - список из названий, с которыми сбрасывать колонки (то есть колонки автоматически поменяют названия)"
   ]
  },
  {
   "cell_type": "code",
   "execution_count": null,
   "id": "42a1653d",
   "metadata": {},
   "outputs": [],
   "source": [
    "# Колонки check_id, customer_id и shop_id перешли из индекса в тело таблицы\n",
    "sales_idx.reset_index().head(3)"
   ]
  },
  {
   "cell_type": "code",
   "execution_count": null,
   "id": "8780f086",
   "metadata": {},
   "outputs": [],
   "source": [
    "# Исходная таблица\n",
    "sales_idx.head(3)"
   ]
  },
  {
   "cell_type": "markdown",
   "id": "71b638f3",
   "metadata": {},
   "source": [
    "#### drop=True удаляет колонки из таблицы"
   ]
  },
  {
   "cell_type": "code",
   "execution_count": null,
   "id": "62655973",
   "metadata": {},
   "outputs": [],
   "source": [
    "# Колонки check_id, customer_id и shop_id были удалены\n",
    "sales_idx.reset_index(drop=True).head(3)"
   ]
  },
  {
   "cell_type": "markdown",
   "id": "d42846a4",
   "metadata": {},
   "source": [
    "#### Можно сбрасывать некоторые колонки"
   ]
  },
  {
   "cell_type": "code",
   "execution_count": null,
   "id": "5722d5f3",
   "metadata": {},
   "outputs": [],
   "source": [
    "# Исходная таблица\n",
    "sales_idx.head(3)"
   ]
  },
  {
   "cell_type": "markdown",
   "id": "e5f7cb38",
   "metadata": {},
   "source": [
    "Cбрасываем только первую колонку индекса"
   ]
  },
  {
   "cell_type": "code",
   "execution_count": null,
   "id": "c48e8f4f",
   "metadata": {},
   "outputs": [],
   "source": [
    "sales_idx.reset_index(level=0).head(3)"
   ]
  },
  {
   "cell_type": "markdown",
   "id": "da450995",
   "metadata": {},
   "source": [
    "Выкидываем вторую колонку (customer_id) и колонку shop_id"
   ]
  },
  {
   "cell_type": "code",
   "execution_count": null,
   "id": "79514f9a",
   "metadata": {},
   "outputs": [],
   "source": [
    "sales_idx.reset_index(level=[1, 'shop_id'], drop=True).head(3)"
   ]
  },
  {
   "cell_type": "code",
   "execution_count": null,
   "id": "503c925c",
   "metadata": {},
   "outputs": [],
   "source": []
  },
  {
   "cell_type": "markdown",
   "id": "af59506f",
   "metadata": {},
   "source": [
    "### Set_index\n",
    "\n",
    "Метод перекидывает колонку из тела таблицы в индекс\n",
    "\n",
    "df.set_index(название колонки или список из названий колонок)"
   ]
  },
  {
   "cell_type": "code",
   "execution_count": null,
   "id": "64ecd9c3",
   "metadata": {},
   "outputs": [],
   "source": [
    "# Исходная таблица\n",
    "sales_idx.head(3)"
   ]
  },
  {
   "cell_type": "markdown",
   "id": "b078cdfa",
   "metadata": {},
   "source": [
    "Кладем в индекс колонку purchase_date. При использовании метода старый индекс удаляется"
   ]
  },
  {
   "cell_type": "code",
   "execution_count": null,
   "id": "9c1e9ae9",
   "metadata": {},
   "outputs": [],
   "source": [
    "sales_idx.set_index('purchase_date').head(3)"
   ]
  },
  {
   "cell_type": "markdown",
   "id": "872fe715",
   "metadata": {},
   "source": [
    "Чтобы добавить колонку к существующему индексу необходимо в параметр append передать значение True"
   ]
  },
  {
   "cell_type": "code",
   "execution_count": null,
   "id": "0dd7cc97",
   "metadata": {},
   "outputs": [],
   "source": [
    "sales_idx.set_index('purchase_date', append=True).head(3)"
   ]
  },
  {
   "cell_type": "code",
   "execution_count": null,
   "id": "9afb533a",
   "metadata": {},
   "outputs": [],
   "source": [
    "sales_idx.set_index(['purchase_date', 'product_code_3'], append=True).head(3)"
   ]
  },
  {
   "cell_type": "code",
   "execution_count": null,
   "id": "21f60f72",
   "metadata": {},
   "outputs": [],
   "source": []
  },
  {
   "cell_type": "code",
   "execution_count": null,
   "id": "7404b48e",
   "metadata": {},
   "outputs": [],
   "source": []
  },
  {
   "cell_type": "code",
   "execution_count": null,
   "id": "d5f86e56",
   "metadata": {},
   "outputs": [],
   "source": []
  },
  {
   "cell_type": "code",
   "execution_count": null,
   "id": "dca05b12",
   "metadata": {},
   "outputs": [],
   "source": []
  },
  {
   "cell_type": "code",
   "execution_count": null,
   "id": "f2b01f71",
   "metadata": {},
   "outputs": [],
   "source": []
  },
  {
   "cell_type": "code",
   "execution_count": null,
   "id": "e0c04c26",
   "metadata": {},
   "outputs": [],
   "source": []
  },
  {
   "cell_type": "code",
   "execution_count": null,
   "id": "3fe39c05",
   "metadata": {},
   "outputs": [],
   "source": []
  },
  {
   "cell_type": "code",
   "execution_count": null,
   "id": "e8bce7b2",
   "metadata": {},
   "outputs": [],
   "source": []
  },
  {
   "cell_type": "code",
   "execution_count": null,
   "id": "7ed6d95a",
   "metadata": {},
   "outputs": [],
   "source": []
  },
  {
   "cell_type": "code",
   "execution_count": null,
   "id": "aca23713",
   "metadata": {},
   "outputs": [],
   "source": []
  },
  {
   "cell_type": "markdown",
   "id": "4c557080",
   "metadata": {},
   "source": [
    "# Задания"
   ]
  },
  {
   "cell_type": "markdown",
   "id": "7fdd8356",
   "metadata": {},
   "source": [
    "#### Описание таблиц лежит [здесь](https://github.com/victorlymarev/pandas/tree/main/tables#%D0%BE%D0%BF%D0%B8%D1%81%D0%B0%D0%BD%D0%B8%D0%B5-%D1%82%D0%B0%D0%B1%D0%BB%D0%B8%D1%86)"
   ]
  },
  {
   "cell_type": "markdown",
   "id": "cee7e7c6",
   "metadata": {},
   "source": [
    "Некоторые таблицы занимают много памяти, поэтому каждые 5-10 заданий лучше перезапускайте ноутбук.\n",
    "\n",
    "В формулировке некоторых заданий может содержаться вариативность. Если у вас есть сомнения, что требуется в задании, попробуйте решить несколько вариантов. Если вы не понимаете задание, можете написать об этом в комментариях под видео.\n",
    "\n",
    "В большинстве случаев внешний вид итоговой таблицы не определен. Выведите на экран наиболее адекватный вариант. То есть таблицу, из которой можно будет сделать выводы.\n",
    "\n",
    "Курс пока находится в разработке. Вы можете помочь другим людям добавив свое решение [сюда](https://docs.google.com/forms/d/1HYTBz_KfssY3Jps2dC3n0YnEqa6WBb5OIhLo1d32Xzw/edit).\n",
    "\n",
    "Посмотреть решения других людей можно [здесь](https://docs.google.com/spreadsheets/d/1pMDYO-9UneLbPPnEuQ2shig0TOJdQTU-zipifyAnZMk/edit?resourcekey#gid=1998648012)"
   ]
  },
  {
   "cell_type": "markdown",
   "id": "0a2bab0b",
   "metadata": {},
   "source": [
    "Описание таблиц лежит [здесь](https://github.com/victorlymarev/pandas/tree/main/tables)"
   ]
  },
  {
   "cell_type": "markdown",
   "id": "6d18b660",
   "metadata": {},
   "source": [
    "### Задание 1\n",
    "\n",
    "Приведите названия колонок в таблице shops к верхнему регистру"
   ]
  },
  {
   "cell_type": "code",
   "execution_count": null,
   "id": "1746a0a1",
   "metadata": {},
   "outputs": [],
   "source": [
    "import os\n",
    "import pandas as pd\n",
    "\n",
    "path_shops = '../tables/shops.xlsx' if os.path.exists('../tables/shops.xlsx') else 'https://drive.google.com/uc?id=1gfnmceJa3Mc1X06NftTx9G9QfKfprjEB'\n",
    "\n",
    "shops = pd.read_excel(path_shops)\n",
    "shops.head()"
   ]
  },
  {
   "cell_type": "code",
   "execution_count": null,
   "id": "d9bfb651",
   "metadata": {},
   "outputs": [],
   "source": [
    "# Напишите свой код здесь"
   ]
  },
  {
   "cell_type": "markdown",
   "id": "0fe01bf8",
   "metadata": {},
   "source": [
    "### Задание 2\n",
    "\n",
    "К названиям колонок таблицы ltc добавьте префикс 'deal_'. То есть итоговые названия колонок должны выглядить как deal_date, deal_price, deal_volume"
   ]
  },
  {
   "cell_type": "code",
   "execution_count": null,
   "id": "af389fad",
   "metadata": {},
   "outputs": [],
   "source": [
    "import os\n",
    "import pandas as pd\n",
    "path_ltc_sample = '../tables/ltc_sample.parquet' if os.path.exists('../tables/ltc_sample.parquet') else 'https://drive.google.com/uc?id=1XaThogOOqKjJj50LvfJ9WqutjMAC5AxA'\n",
    "\n",
    "ltc = pd.read_parquet(path_ltc_sample)\n",
    "ltc.head()"
   ]
  },
  {
   "cell_type": "code",
   "execution_count": null,
   "id": "8501fabd",
   "metadata": {},
   "outputs": [],
   "source": [
    "# Напишите свой код здесь"
   ]
  },
  {
   "cell_type": "markdown",
   "id": "a671f0a3",
   "metadata": {},
   "source": [
    "### Задание 3\n",
    "\n",
    "В таблице empl замените название колонок report_dt на \"Отчетная дата\", i_pernr на \"Табельный номер\", а education на \"уровень образования\""
   ]
  },
  {
   "cell_type": "code",
   "execution_count": null,
   "id": "cb708e86",
   "metadata": {},
   "outputs": [],
   "source": [
    "import os\n",
    "import pandas as pd\n",
    "\n",
    "path_empl = '../tables/employees.parquet' if os.path.exists('../tables/employees.parquet') else 'https://drive.google.com/uc?id=1AARD5-eVlCxoApt5CYZebrC3Cqw42lvj'\n",
    "\n",
    "empl = pd.read_parquet(path_empl)\n",
    "empl.head()"
   ]
  },
  {
   "cell_type": "code",
   "execution_count": null,
   "id": "f2275c8f",
   "metadata": {},
   "outputs": [],
   "source": [
    "# Напишите свой код здесь"
   ]
  },
  {
   "cell_type": "markdown",
   "id": "7274a47c",
   "metadata": {},
   "source": [
    "### Задание 4\n",
    "\n",
    "Посмотрите как выглядят названия колонок в таблице people. \n",
    "\n",
    "Приведите их к нижнему регистру, после чего замените пробелы в названиях на знаки нижнего подчеркивания. \n",
    "\n",
    "Вы можете использовать любой из способов. Однако проще всего это сделать через функцию, использующую внутри себя метод lower и метод replace.\n",
    "\n",
    "Метод replace имеет следующий синтаксис: \"строка\".replace(\"символ, который надо заменить\", \"символ, который надо вствить\")\n",
    "\n",
    "Методы можно применять друг за другом. \n",
    "\n",
    "Подробнее про методы строк можете посмотреть здесь:\n",
    "\n",
    "https://www.youtube.com/watch?v=TEF-0UXRybg&list=PLA0M1Bcd0w8yWHh2V70bTtbVxJICrnJHd&index=10\n",
    "\n",
    "или здесь:\n",
    "\n",
    "https://pythonworld.ru/tipy-dannyx-v-python/stroki-funkcii-i-metody-strok.html"
   ]
  },
  {
   "cell_type": "code",
   "execution_count": null,
   "id": "7b6dfe62",
   "metadata": {},
   "outputs": [],
   "source": [
    "import os\n",
    "import pandas as pd\n",
    "\n",
    "path_people = '../tables/people.parquet' if os.path.exists('../tables/people.parquet') else 'https://drive.google.com/uc?id=1iI1Lde5ya3ruztGYmjpprSCUoCU9rBeS'\n",
    "\n",
    "people = pd.read_parquet(path_people)\n",
    "people.head()"
   ]
  },
  {
   "cell_type": "code",
   "execution_count": null,
   "id": "f4c59eeb",
   "metadata": {},
   "outputs": [],
   "source": [
    "# Напишите свой код здесь"
   ]
  },
  {
   "cell_type": "markdown",
   "id": "93e942ec",
   "metadata": {},
   "source": [
    "### Задание 5\n",
    "\n",
    "Выкиньте верхнюю строчку из шапки таблицы marks_agg1"
   ]
  },
  {
   "cell_type": "code",
   "execution_count": null,
   "id": "fc6cfd45",
   "metadata": {},
   "outputs": [],
   "source": [
    "import os\n",
    "import pandas as pd\n",
    "\n",
    "path_marks = '../tables/оценки.xlsx' if os.path.exists('../tables/оценки.xlsx') else 'https://drive.google.com/uc?id=17f4DXx53J0WooNkhO13xidseZJ-O2obs'\n",
    "\n",
    "marks_agg1 = pd.read_excel(path_marks).groupby('Пол').agg({'Математика': ['mean', 'std']})\n",
    "marks_agg1"
   ]
  },
  {
   "cell_type": "code",
   "execution_count": null,
   "id": "007a941b",
   "metadata": {},
   "outputs": [],
   "source": [
    "# Напишите свой код здесь"
   ]
  },
  {
   "cell_type": "markdown",
   "id": "9a48963b",
   "metadata": {},
   "source": [
    "### Задание 6\n",
    "\n",
    "Объедините первые 2 строчки в шапке таблицы marks_agg2 в одну так, чтобы назания колонок не повторялись"
   ]
  },
  {
   "cell_type": "code",
   "execution_count": null,
   "id": "c3c550fc",
   "metadata": {},
   "outputs": [],
   "source": [
    "import os\n",
    "import pandas as pd\n",
    "\n",
    "path_marks = '../tables/оценки.xlsx' if os.path.exists('../tables/оценки.xlsx') else 'https://drive.google.com/uc?id=17f4DXx53J0WooNkhO13xidseZJ-O2obs'\n",
    "\n",
    "marks_agg2 = pd.read_excel(path_marks).drop('ФИО', axis=1).groupby('Пол').agg(['mean', 'std'])\n",
    "marks_agg2"
   ]
  },
  {
   "cell_type": "code",
   "execution_count": null,
   "id": "dc75d888",
   "metadata": {},
   "outputs": [],
   "source": [
    "# Напишите свой код здесь"
   ]
  },
  {
   "cell_type": "markdown",
   "id": "6e4f789f",
   "metadata": {},
   "source": [
    "### Задание 7\n",
    "\n",
    "В таблице stocks перекиньте из индекса в тело таблицы колонку с датами"
   ]
  },
  {
   "cell_type": "code",
   "execution_count": null,
   "id": "b8050e3e",
   "metadata": {},
   "outputs": [],
   "source": [
    "import os\n",
    "import pandas as pd\n",
    "\n",
    "path_stocks = '../tables/stocks.parquet' if os.path.exists('../tables/stocks.parquet') else 'https://drive.google.com/uc?id=1weGquTtmR92mKYAeZhZCFHJjndyoSXZt'\n",
    "\n",
    "stocks = pd.read_parquet(path_stocks)\n",
    "stocks.head()"
   ]
  },
  {
   "cell_type": "code",
   "execution_count": null,
   "id": "0d5be6a4",
   "metadata": {},
   "outputs": [],
   "source": [
    "# Напишите свой код здесь"
   ]
  },
  {
   "cell_type": "markdown",
   "id": "b8686ef0",
   "metadata": {},
   "source": [
    "### Задание 8\n",
    "\n",
    "В таблице stocks удалите колонку с датами"
   ]
  },
  {
   "cell_type": "code",
   "execution_count": null,
   "id": "9c41cc6e",
   "metadata": {},
   "outputs": [],
   "source": [
    "import os\n",
    "import pandas as pd\n",
    "\n",
    "path_stocks = '../tables/stocks.parquet' if os.path.exists('../tables/stocks.parquet') else 'https://drive.google.com/uc?id=1weGquTtmR92mKYAeZhZCFHJjndyoSXZt'\n",
    "\n",
    "stocks = pd.read_parquet(path_stocks)\n",
    "stocks.head()"
   ]
  },
  {
   "cell_type": "code",
   "execution_count": null,
   "id": "dc2894a3",
   "metadata": {},
   "outputs": [],
   "source": [
    "# Напишите свой код здесь"
   ]
  },
  {
   "cell_type": "markdown",
   "id": "021dcf50",
   "metadata": {},
   "source": [
    "### Задание 9\n",
    "\n",
    "В таблице goods_descr перенесите колонку product_code_3 в инедекс. После этого добавьте к ней колонку product_code_2.\n",
    "\n",
    "То есть вам необходимо 2 раза подряд применить метод  set_index вот так:\n",
    "\n",
    "(goods_descr\n",
    "\n",
    "    .set_index(...)\n",
    "    .set_index(...)\n",
    ")"
   ]
  },
  {
   "cell_type": "code",
   "execution_count": null,
   "id": "789ebd40",
   "metadata": {},
   "outputs": [],
   "source": [
    "import os\n",
    "import pandas as pd\n",
    "\n",
    "path_goods_descr = '../tables/goods_description.parquet' if os.path.exists('../tables/goods_description.parquet') else 'https://drive.google.com/uc?id=1YbiD02Rev-X_WWV9nPSG1zZFmEh2JjPh'\n",
    "\n",
    "goods_descr = pd.read_parquet(path_goods_descr)\n",
    "goods_descr.head()"
   ]
  },
  {
   "cell_type": "code",
   "execution_count": null,
   "id": "e1faabeb",
   "metadata": {},
   "outputs": [],
   "source": [
    "# Напишите свой код здесь"
   ]
  },
  {
   "cell_type": "markdown",
   "id": "f76bd282",
   "metadata": {},
   "source": [
    "### Задание 10\n",
    "\n",
    "Посмотрите на таблицу xdg_usdt. В ней содержаться данные по торговли криптовалютами xdg и usdt\n",
    "\n",
    "Дайте названиям колонок значения 'Дата', 'Цена', 'Объем'"
   ]
  },
  {
   "cell_type": "code",
   "execution_count": null,
   "id": "f5863dcf",
   "metadata": {},
   "outputs": [],
   "source": [
    "import os\n",
    "import pandas as pd\n",
    "path_xdg_usdt = '../tables/XDGUSDT.csv' if os.path.exists('../tables/XDGUSDT.csv') else 'https://drive.google.com/uc?id=1oLjCNOsdKbd87sIgW0_OWDpD2DVHAAAV'\n",
    "xdg_usdt = pd.read_csv(path_xdg_usdt, header=None)\n",
    "xdg_usdt.head()"
   ]
  },
  {
   "cell_type": "code",
   "execution_count": null,
   "id": "ca05af31",
   "metadata": {},
   "outputs": [],
   "source": [
    "# Напишите свой код здесь"
   ]
  },
  {
   "cell_type": "code",
   "execution_count": null,
   "id": "11566e19",
   "metadata": {},
   "outputs": [],
   "source": []
  },
  {
   "cell_type": "code",
   "execution_count": null,
   "id": "32fc175b",
   "metadata": {},
   "outputs": [],
   "source": []
  }
 ],
 "metadata": {
  "kernelspec": {
   "display_name": "Python 3 (ipykernel)",
   "language": "python",
   "name": "python3"
  },
  "language_info": {
   "codemirror_mode": {
    "name": "ipython",
    "version": 3
   },
   "file_extension": ".py",
   "mimetype": "text/x-python",
   "name": "python",
   "nbconvert_exporter": "python",
   "pygments_lexer": "ipython3",
   "version": "3.11.6"
  }
 },
 "nbformat": 4,
 "nbformat_minor": 5
}
