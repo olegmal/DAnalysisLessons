{
 "cells": [
  {
   "cell_type": "markdown",
   "id": "50e77df5",
   "metadata": {},
   "source": [
    "<a target=\"_blank\" href=\"https://colab.research.google.com/github/victorlymarev/pandas/blob/main/notebooks/08-get-and-set-column.ipynb\">\n",
    "  <img src=\"https://colab.research.google.com/assets/colab-badge.svg\" alt=\"Open In Colab\"/>\n",
    "</a>"
   ]
  },
  {
   "cell_type": "markdown",
   "id": "e0c8d948",
   "metadata": {},
   "source": [
    "# Изменение и создание колонок таблиц\n",
    "#### [Ссылка на видео](https://youtu.be/DQ9ZQe7QRlY)"
   ]
  },
  {
   "cell_type": "code",
   "execution_count": 1,
   "id": "37b829bb",
   "metadata": {},
   "outputs": [],
   "source": [
    "import pandas as pd\n",
    "import numpy as np\n",
    "import os"
   ]
  },
  {
   "cell_type": "markdown",
   "id": "f64ff4d6",
   "metadata": {},
   "source": [
    "Читаем таблицу"
   ]
  },
  {
   "cell_type": "code",
   "execution_count": 2,
   "id": "e17f6486",
   "metadata": {
    "scrolled": false
   },
   "outputs": [
    {
     "data": {
      "text/html": [
       "<div>\n",
       "<style scoped>\n",
       "    .dataframe tbody tr th:only-of-type {\n",
       "        vertical-align: middle;\n",
       "    }\n",
       "\n",
       "    .dataframe tbody tr th {\n",
       "        vertical-align: top;\n",
       "    }\n",
       "\n",
       "    .dataframe thead th {\n",
       "        text-align: right;\n",
       "    }\n",
       "</style>\n",
       "<table border=\"1\" class=\"dataframe\">\n",
       "  <thead>\n",
       "    <tr style=\"text-align: right;\">\n",
       "      <th></th>\n",
       "      <th>Имя</th>\n",
       "      <th>Фамилия</th>\n",
       "      <th>Число детей</th>\n",
       "      <th>Площадь дома</th>\n",
       "      <th>Дата рождения</th>\n",
       "      <th>Женат/Замужем</th>\n",
       "    </tr>\n",
       "  </thead>\n",
       "  <tbody>\n",
       "    <tr>\n",
       "      <th>0</th>\n",
       "      <td>Илья</td>\n",
       "      <td>Васильев</td>\n",
       "      <td>0</td>\n",
       "      <td>56.3</td>\n",
       "      <td>1996-11-30</td>\n",
       "      <td>False</td>\n",
       "    </tr>\n",
       "    <tr>\n",
       "      <th>1</th>\n",
       "      <td>Антон</td>\n",
       "      <td>Алексеев</td>\n",
       "      <td>2</td>\n",
       "      <td>77.0</td>\n",
       "      <td>1976-02-29</td>\n",
       "      <td>True</td>\n",
       "    </tr>\n",
       "    <tr>\n",
       "      <th>2</th>\n",
       "      <td>Надежда</td>\n",
       "      <td>Гусева</td>\n",
       "      <td>3</td>\n",
       "      <td>103.1</td>\n",
       "      <td>1964-09-26</td>\n",
       "      <td>True</td>\n",
       "    </tr>\n",
       "    <tr>\n",
       "      <th>3</th>\n",
       "      <td>Артем</td>\n",
       "      <td>Павлов</td>\n",
       "      <td>5</td>\n",
       "      <td>134.9</td>\n",
       "      <td>1980-05-18</td>\n",
       "      <td>True</td>\n",
       "    </tr>\n",
       "    <tr>\n",
       "      <th>4</th>\n",
       "      <td>Александр</td>\n",
       "      <td>Николаев</td>\n",
       "      <td>1</td>\n",
       "      <td>47.0</td>\n",
       "      <td>1959-02-24</td>\n",
       "      <td>True</td>\n",
       "    </tr>\n",
       "    <tr>\n",
       "      <th>5</th>\n",
       "      <td>Дмитрий</td>\n",
       "      <td>Печенкин</td>\n",
       "      <td>2</td>\n",
       "      <td>61.0</td>\n",
       "      <td>1939-04-05</td>\n",
       "      <td>False</td>\n",
       "    </tr>\n",
       "    <tr>\n",
       "      <th>6</th>\n",
       "      <td>Дарья</td>\n",
       "      <td>Воробева</td>\n",
       "      <td>3</td>\n",
       "      <td>NaN</td>\n",
       "      <td>1997-07-23</td>\n",
       "      <td>True</td>\n",
       "    </tr>\n",
       "  </tbody>\n",
       "</table>\n",
       "</div>"
      ],
      "text/plain": [
       "         Имя   Фамилия  Число детей  Площадь дома Дата рождения  Женат/Замужем\n",
       "0       Илья  Васильев            0          56.3    1996-11-30          False\n",
       "1      Антон  Алексеев            2          77.0    1976-02-29           True\n",
       "2    Надежда    Гусева            3         103.1    1964-09-26           True\n",
       "3      Артем    Павлов            5         134.9    1980-05-18           True\n",
       "4  Александр  Николаев            1          47.0    1959-02-24           True\n",
       "5    Дмитрий  Печенкин            2          61.0    1939-04-05          False\n",
       "6      Дарья  Воробева            3           NaN    1997-07-23           True"
      ]
     },
     "execution_count": 2,
     "metadata": {},
     "output_type": "execute_result"
    }
   ],
   "source": [
    "path_df = '../tables/people.parquet' if os.path.exists('../tables/people.parquet') else 'https://drive.google.com/uc?id=1iI1Lde5ya3ruztGYmjpprSCUoCU9rBeS'\n",
    "\n",
    "df = pd.read_parquet(path_df)\n",
    "df"
   ]
  },
  {
   "cell_type": "markdown",
   "id": "60cde317",
   "metadata": {},
   "source": [
    "# Обращение и изменение через квадратные скобки"
   ]
  },
  {
   "cell_type": "code",
   "execution_count": 3,
   "id": "c33f1207",
   "metadata": {},
   "outputs": [
    {
     "data": {
      "text/plain": [
       "0    0\n",
       "1    2\n",
       "2    3\n",
       "3    5\n",
       "4    1\n",
       "5    2\n",
       "6    3\n",
       "Name: Число детей, dtype: int64"
      ]
     },
     "execution_count": 3,
     "metadata": {},
     "output_type": "execute_result"
    }
   ],
   "source": [
    "df['Число детей']"
   ]
  },
  {
   "cell_type": "code",
   "execution_count": 4,
   "id": "34247b90",
   "metadata": {},
   "outputs": [
    {
     "data": {
      "text/plain": [
       "0    0\n",
       "1    2\n",
       "2    3\n",
       "3    5\n",
       "4    1\n",
       "5    2\n",
       "6    3\n",
       "Name: Число детей, dtype: int64"
      ]
     },
     "execution_count": 4,
     "metadata": {},
     "output_type": "execute_result"
    }
   ],
   "source": [
    "# [] это просто сокращение от такой записи\n",
    "df.__getitem__('Число детей')"
   ]
  },
  {
   "cell_type": "code",
   "execution_count": 5,
   "id": "3706232d",
   "metadata": {},
   "outputs": [
    {
     "data": {
      "text/html": [
       "<div>\n",
       "<style scoped>\n",
       "    .dataframe tbody tr th:only-of-type {\n",
       "        vertical-align: middle;\n",
       "    }\n",
       "\n",
       "    .dataframe tbody tr th {\n",
       "        vertical-align: top;\n",
       "    }\n",
       "\n",
       "    .dataframe thead th {\n",
       "        text-align: right;\n",
       "    }\n",
       "</style>\n",
       "<table border=\"1\" class=\"dataframe\">\n",
       "  <thead>\n",
       "    <tr style=\"text-align: right;\">\n",
       "      <th></th>\n",
       "      <th>Имя</th>\n",
       "      <th>Фамилия</th>\n",
       "      <th>Число детей</th>\n",
       "      <th>Площадь дома</th>\n",
       "      <th>Дата рождения</th>\n",
       "      <th>Женат/Замужем</th>\n",
       "    </tr>\n",
       "  </thead>\n",
       "  <tbody>\n",
       "    <tr>\n",
       "      <th>0</th>\n",
       "      <td>Илья</td>\n",
       "      <td>Васильев</td>\n",
       "      <td>1</td>\n",
       "      <td>56.3</td>\n",
       "      <td>1996-11-30</td>\n",
       "      <td>False</td>\n",
       "    </tr>\n",
       "    <tr>\n",
       "      <th>1</th>\n",
       "      <td>Антон</td>\n",
       "      <td>Алексеев</td>\n",
       "      <td>3</td>\n",
       "      <td>77.0</td>\n",
       "      <td>1976-02-29</td>\n",
       "      <td>True</td>\n",
       "    </tr>\n",
       "    <tr>\n",
       "      <th>2</th>\n",
       "      <td>Надежда</td>\n",
       "      <td>Гусева</td>\n",
       "      <td>4</td>\n",
       "      <td>103.1</td>\n",
       "      <td>1964-09-26</td>\n",
       "      <td>True</td>\n",
       "    </tr>\n",
       "    <tr>\n",
       "      <th>3</th>\n",
       "      <td>Артем</td>\n",
       "      <td>Павлов</td>\n",
       "      <td>6</td>\n",
       "      <td>134.9</td>\n",
       "      <td>1980-05-18</td>\n",
       "      <td>True</td>\n",
       "    </tr>\n",
       "    <tr>\n",
       "      <th>4</th>\n",
       "      <td>Александр</td>\n",
       "      <td>Николаев</td>\n",
       "      <td>2</td>\n",
       "      <td>47.0</td>\n",
       "      <td>1959-02-24</td>\n",
       "      <td>True</td>\n",
       "    </tr>\n",
       "    <tr>\n",
       "      <th>5</th>\n",
       "      <td>Дмитрий</td>\n",
       "      <td>Печенкин</td>\n",
       "      <td>3</td>\n",
       "      <td>61.0</td>\n",
       "      <td>1939-04-05</td>\n",
       "      <td>False</td>\n",
       "    </tr>\n",
       "    <tr>\n",
       "      <th>6</th>\n",
       "      <td>Дарья</td>\n",
       "      <td>Воробева</td>\n",
       "      <td>4</td>\n",
       "      <td>NaN</td>\n",
       "      <td>1997-07-23</td>\n",
       "      <td>True</td>\n",
       "    </tr>\n",
       "  </tbody>\n",
       "</table>\n",
       "</div>"
      ],
      "text/plain": [
       "         Имя   Фамилия  Число детей  Площадь дома Дата рождения  Женат/Замужем\n",
       "0       Илья  Васильев            1          56.3    1996-11-30          False\n",
       "1      Антон  Алексеев            3          77.0    1976-02-29           True\n",
       "2    Надежда    Гусева            4         103.1    1964-09-26           True\n",
       "3      Артем    Павлов            6         134.9    1980-05-18           True\n",
       "4  Александр  Николаев            2          47.0    1959-02-24           True\n",
       "5    Дмитрий  Печенкин            3          61.0    1939-04-05          False\n",
       "6      Дарья  Воробева            4           NaN    1997-07-23           True"
      ]
     },
     "execution_count": 5,
     "metadata": {},
     "output_type": "execute_result"
    }
   ],
   "source": [
    "# Сначала считается правая часть равенства, а затем идет присваивание\n",
    "df['Число детей'] = df['Число детей'] + 1\n",
    "df"
   ]
  },
  {
   "cell_type": "markdown",
   "id": "9eff7ffc",
   "metadata": {},
   "source": [
    "Создаем новую колонку на основе одного значения и списка, ndarray или Series"
   ]
  },
  {
   "cell_type": "code",
   "execution_count": 6,
   "id": "6ed1f21f",
   "metadata": {},
   "outputs": [
    {
     "data": {
      "text/html": [
       "<div>\n",
       "<style scoped>\n",
       "    .dataframe tbody tr th:only-of-type {\n",
       "        vertical-align: middle;\n",
       "    }\n",
       "\n",
       "    .dataframe tbody tr th {\n",
       "        vertical-align: top;\n",
       "    }\n",
       "\n",
       "    .dataframe thead th {\n",
       "        text-align: right;\n",
       "    }\n",
       "</style>\n",
       "<table border=\"1\" class=\"dataframe\">\n",
       "  <thead>\n",
       "    <tr style=\"text-align: right;\">\n",
       "      <th></th>\n",
       "      <th>Имя</th>\n",
       "      <th>Фамилия</th>\n",
       "      <th>Число детей</th>\n",
       "      <th>Площадь дома</th>\n",
       "      <th>Дата рождения</th>\n",
       "      <th>Женат/Замужем</th>\n",
       "      <th>size</th>\n",
       "    </tr>\n",
       "  </thead>\n",
       "  <tbody>\n",
       "    <tr>\n",
       "      <th>0</th>\n",
       "      <td>Илья</td>\n",
       "      <td>Васильев</td>\n",
       "      <td>1</td>\n",
       "      <td>56.3</td>\n",
       "      <td>1996-11-30</td>\n",
       "      <td>False</td>\n",
       "      <td>M</td>\n",
       "    </tr>\n",
       "    <tr>\n",
       "      <th>1</th>\n",
       "      <td>Антон</td>\n",
       "      <td>Алексеев</td>\n",
       "      <td>3</td>\n",
       "      <td>77.0</td>\n",
       "      <td>1976-02-29</td>\n",
       "      <td>True</td>\n",
       "      <td>M</td>\n",
       "    </tr>\n",
       "    <tr>\n",
       "      <th>2</th>\n",
       "      <td>Надежда</td>\n",
       "      <td>Гусева</td>\n",
       "      <td>4</td>\n",
       "      <td>103.1</td>\n",
       "      <td>1964-09-26</td>\n",
       "      <td>True</td>\n",
       "      <td>M</td>\n",
       "    </tr>\n",
       "    <tr>\n",
       "      <th>3</th>\n",
       "      <td>Артем</td>\n",
       "      <td>Павлов</td>\n",
       "      <td>6</td>\n",
       "      <td>134.9</td>\n",
       "      <td>1980-05-18</td>\n",
       "      <td>True</td>\n",
       "      <td>M</td>\n",
       "    </tr>\n",
       "    <tr>\n",
       "      <th>4</th>\n",
       "      <td>Александр</td>\n",
       "      <td>Николаев</td>\n",
       "      <td>2</td>\n",
       "      <td>47.0</td>\n",
       "      <td>1959-02-24</td>\n",
       "      <td>True</td>\n",
       "      <td>M</td>\n",
       "    </tr>\n",
       "    <tr>\n",
       "      <th>5</th>\n",
       "      <td>Дмитрий</td>\n",
       "      <td>Печенкин</td>\n",
       "      <td>3</td>\n",
       "      <td>61.0</td>\n",
       "      <td>1939-04-05</td>\n",
       "      <td>False</td>\n",
       "      <td>M</td>\n",
       "    </tr>\n",
       "    <tr>\n",
       "      <th>6</th>\n",
       "      <td>Дарья</td>\n",
       "      <td>Воробева</td>\n",
       "      <td>4</td>\n",
       "      <td>NaN</td>\n",
       "      <td>1997-07-23</td>\n",
       "      <td>True</td>\n",
       "      <td>M</td>\n",
       "    </tr>\n",
       "  </tbody>\n",
       "</table>\n",
       "</div>"
      ],
      "text/plain": [
       "         Имя   Фамилия  Число детей  Площадь дома Дата рождения  \\\n",
       "0       Илья  Васильев            1          56.3    1996-11-30   \n",
       "1      Антон  Алексеев            3          77.0    1976-02-29   \n",
       "2    Надежда    Гусева            4         103.1    1964-09-26   \n",
       "3      Артем    Павлов            6         134.9    1980-05-18   \n",
       "4  Александр  Николаев            2          47.0    1959-02-24   \n",
       "5    Дмитрий  Печенкин            3          61.0    1939-04-05   \n",
       "6      Дарья  Воробева            4           NaN    1997-07-23   \n",
       "\n",
       "   Женат/Замужем size  \n",
       "0          False    M  \n",
       "1           True    M  \n",
       "2           True    M  \n",
       "3           True    M  \n",
       "4           True    M  \n",
       "5          False    M  \n",
       "6           True    M  "
      ]
     },
     "execution_count": 6,
     "metadata": {},
     "output_type": "execute_result"
    }
   ],
   "source": [
    "df['size'] = 'M'\n",
    "df"
   ]
  },
  {
   "cell_type": "markdown",
   "id": "bb81d36f",
   "metadata": {},
   "source": [
    "Длинна массива должна быть равна количеству строк в таблице"
   ]
  },
  {
   "cell_type": "code",
   "execution_count": 7,
   "id": "0036bfad",
   "metadata": {},
   "outputs": [
    {
     "data": {
      "text/html": [
       "<div>\n",
       "<style scoped>\n",
       "    .dataframe tbody tr th:only-of-type {\n",
       "        vertical-align: middle;\n",
       "    }\n",
       "\n",
       "    .dataframe tbody tr th {\n",
       "        vertical-align: top;\n",
       "    }\n",
       "\n",
       "    .dataframe thead th {\n",
       "        text-align: right;\n",
       "    }\n",
       "</style>\n",
       "<table border=\"1\" class=\"dataframe\">\n",
       "  <thead>\n",
       "    <tr style=\"text-align: right;\">\n",
       "      <th></th>\n",
       "      <th>Имя</th>\n",
       "      <th>Фамилия</th>\n",
       "      <th>Число детей</th>\n",
       "      <th>Площадь дома</th>\n",
       "      <th>Дата рождения</th>\n",
       "      <th>Женат/Замужем</th>\n",
       "      <th>size</th>\n",
       "    </tr>\n",
       "  </thead>\n",
       "  <tbody>\n",
       "    <tr>\n",
       "      <th>0</th>\n",
       "      <td>Илья</td>\n",
       "      <td>Васильев</td>\n",
       "      <td>1</td>\n",
       "      <td>56.3</td>\n",
       "      <td>1996-11-30</td>\n",
       "      <td>False</td>\n",
       "      <td>L</td>\n",
       "    </tr>\n",
       "    <tr>\n",
       "      <th>1</th>\n",
       "      <td>Антон</td>\n",
       "      <td>Алексеев</td>\n",
       "      <td>3</td>\n",
       "      <td>77.0</td>\n",
       "      <td>1976-02-29</td>\n",
       "      <td>True</td>\n",
       "      <td>L</td>\n",
       "    </tr>\n",
       "    <tr>\n",
       "      <th>2</th>\n",
       "      <td>Надежда</td>\n",
       "      <td>Гусева</td>\n",
       "      <td>4</td>\n",
       "      <td>103.1</td>\n",
       "      <td>1964-09-26</td>\n",
       "      <td>True</td>\n",
       "      <td>S</td>\n",
       "    </tr>\n",
       "    <tr>\n",
       "      <th>3</th>\n",
       "      <td>Артем</td>\n",
       "      <td>Павлов</td>\n",
       "      <td>6</td>\n",
       "      <td>134.9</td>\n",
       "      <td>1980-05-18</td>\n",
       "      <td>True</td>\n",
       "      <td>M</td>\n",
       "    </tr>\n",
       "    <tr>\n",
       "      <th>4</th>\n",
       "      <td>Александр</td>\n",
       "      <td>Николаев</td>\n",
       "      <td>2</td>\n",
       "      <td>47.0</td>\n",
       "      <td>1959-02-24</td>\n",
       "      <td>True</td>\n",
       "      <td>XXL</td>\n",
       "    </tr>\n",
       "    <tr>\n",
       "      <th>5</th>\n",
       "      <td>Дмитрий</td>\n",
       "      <td>Печенкин</td>\n",
       "      <td>3</td>\n",
       "      <td>61.0</td>\n",
       "      <td>1939-04-05</td>\n",
       "      <td>False</td>\n",
       "      <td>M</td>\n",
       "    </tr>\n",
       "    <tr>\n",
       "      <th>6</th>\n",
       "      <td>Дарья</td>\n",
       "      <td>Воробева</td>\n",
       "      <td>4</td>\n",
       "      <td>NaN</td>\n",
       "      <td>1997-07-23</td>\n",
       "      <td>True</td>\n",
       "      <td>XL</td>\n",
       "    </tr>\n",
       "  </tbody>\n",
       "</table>\n",
       "</div>"
      ],
      "text/plain": [
       "         Имя   Фамилия  Число детей  Площадь дома Дата рождения  \\\n",
       "0       Илья  Васильев            1          56.3    1996-11-30   \n",
       "1      Антон  Алексеев            3          77.0    1976-02-29   \n",
       "2    Надежда    Гусева            4         103.1    1964-09-26   \n",
       "3      Артем    Павлов            6         134.9    1980-05-18   \n",
       "4  Александр  Николаев            2          47.0    1959-02-24   \n",
       "5    Дмитрий  Печенкин            3          61.0    1939-04-05   \n",
       "6      Дарья  Воробева            4           NaN    1997-07-23   \n",
       "\n",
       "   Женат/Замужем size  \n",
       "0          False    L  \n",
       "1           True    L  \n",
       "2           True    S  \n",
       "3           True    M  \n",
       "4           True  XXL  \n",
       "5          False    M  \n",
       "6           True   XL  "
      ]
     },
     "execution_count": 7,
     "metadata": {},
     "output_type": "execute_result"
    }
   ],
   "source": [
    "df['size'] = ['L', 'L', 'S', 'M', 'XXL', 'M', 'XL']\n",
    "df"
   ]
  },
  {
   "cell_type": "markdown",
   "id": "5646ca39",
   "metadata": {},
   "source": [
    "Сопоставление идет по индексу"
   ]
  },
  {
   "cell_type": "code",
   "execution_count": 8,
   "id": "777330bd",
   "metadata": {},
   "outputs": [
    {
     "data": {
      "text/plain": [
       "3      L\n",
       "4      L\n",
       "5      S\n",
       "6      M\n",
       "7    XXL\n",
       "8      M\n",
       "9     XL\n",
       "dtype: object"
      ]
     },
     "execution_count": 8,
     "metadata": {},
     "output_type": "execute_result"
    }
   ],
   "source": [
    "pd.Series(['L', 'L', 'S', 'M', 'XXL', 'M', 'XL'],\n",
    "          index=[3, 4, 5, 6, 7, 8, 9])"
   ]
  },
  {
   "cell_type": "code",
   "execution_count": 9,
   "id": "9d94ac99",
   "metadata": {},
   "outputs": [
    {
     "data": {
      "text/html": [
       "<div>\n",
       "<style scoped>\n",
       "    .dataframe tbody tr th:only-of-type {\n",
       "        vertical-align: middle;\n",
       "    }\n",
       "\n",
       "    .dataframe tbody tr th {\n",
       "        vertical-align: top;\n",
       "    }\n",
       "\n",
       "    .dataframe thead th {\n",
       "        text-align: right;\n",
       "    }\n",
       "</style>\n",
       "<table border=\"1\" class=\"dataframe\">\n",
       "  <thead>\n",
       "    <tr style=\"text-align: right;\">\n",
       "      <th></th>\n",
       "      <th>Имя</th>\n",
       "      <th>Фамилия</th>\n",
       "      <th>Число детей</th>\n",
       "      <th>Площадь дома</th>\n",
       "      <th>Дата рождения</th>\n",
       "      <th>Женат/Замужем</th>\n",
       "      <th>size</th>\n",
       "    </tr>\n",
       "  </thead>\n",
       "  <tbody>\n",
       "    <tr>\n",
       "      <th>0</th>\n",
       "      <td>Илья</td>\n",
       "      <td>Васильев</td>\n",
       "      <td>1</td>\n",
       "      <td>56.3</td>\n",
       "      <td>1996-11-30</td>\n",
       "      <td>False</td>\n",
       "      <td>NaN</td>\n",
       "    </tr>\n",
       "    <tr>\n",
       "      <th>1</th>\n",
       "      <td>Антон</td>\n",
       "      <td>Алексеев</td>\n",
       "      <td>3</td>\n",
       "      <td>77.0</td>\n",
       "      <td>1976-02-29</td>\n",
       "      <td>True</td>\n",
       "      <td>NaN</td>\n",
       "    </tr>\n",
       "    <tr>\n",
       "      <th>2</th>\n",
       "      <td>Надежда</td>\n",
       "      <td>Гусева</td>\n",
       "      <td>4</td>\n",
       "      <td>103.1</td>\n",
       "      <td>1964-09-26</td>\n",
       "      <td>True</td>\n",
       "      <td>NaN</td>\n",
       "    </tr>\n",
       "    <tr>\n",
       "      <th>3</th>\n",
       "      <td>Артем</td>\n",
       "      <td>Павлов</td>\n",
       "      <td>6</td>\n",
       "      <td>134.9</td>\n",
       "      <td>1980-05-18</td>\n",
       "      <td>True</td>\n",
       "      <td>L</td>\n",
       "    </tr>\n",
       "    <tr>\n",
       "      <th>4</th>\n",
       "      <td>Александр</td>\n",
       "      <td>Николаев</td>\n",
       "      <td>2</td>\n",
       "      <td>47.0</td>\n",
       "      <td>1959-02-24</td>\n",
       "      <td>True</td>\n",
       "      <td>L</td>\n",
       "    </tr>\n",
       "    <tr>\n",
       "      <th>5</th>\n",
       "      <td>Дмитрий</td>\n",
       "      <td>Печенкин</td>\n",
       "      <td>3</td>\n",
       "      <td>61.0</td>\n",
       "      <td>1939-04-05</td>\n",
       "      <td>False</td>\n",
       "      <td>S</td>\n",
       "    </tr>\n",
       "    <tr>\n",
       "      <th>6</th>\n",
       "      <td>Дарья</td>\n",
       "      <td>Воробева</td>\n",
       "      <td>4</td>\n",
       "      <td>NaN</td>\n",
       "      <td>1997-07-23</td>\n",
       "      <td>True</td>\n",
       "      <td>M</td>\n",
       "    </tr>\n",
       "  </tbody>\n",
       "</table>\n",
       "</div>"
      ],
      "text/plain": [
       "         Имя   Фамилия  Число детей  Площадь дома Дата рождения  \\\n",
       "0       Илья  Васильев            1          56.3    1996-11-30   \n",
       "1      Антон  Алексеев            3          77.0    1976-02-29   \n",
       "2    Надежда    Гусева            4         103.1    1964-09-26   \n",
       "3      Артем    Павлов            6         134.9    1980-05-18   \n",
       "4  Александр  Николаев            2          47.0    1959-02-24   \n",
       "5    Дмитрий  Печенкин            3          61.0    1939-04-05   \n",
       "6      Дарья  Воробева            4           NaN    1997-07-23   \n",
       "\n",
       "   Женат/Замужем size  \n",
       "0          False  NaN  \n",
       "1           True  NaN  \n",
       "2           True  NaN  \n",
       "3           True    L  \n",
       "4           True    L  \n",
       "5          False    S  \n",
       "6           True    M  "
      ]
     },
     "execution_count": 9,
     "metadata": {},
     "output_type": "execute_result"
    }
   ],
   "source": [
    "df['size'] = pd.Series(['L', 'L', 'S', 'M', 'XXL', 'M', 'XL'],\n",
    "                       index=[3, 4, 5, 6, 7, 8, 9])\n",
    "df"
   ]
  },
  {
   "cell_type": "code",
   "execution_count": 10,
   "id": "7bacc544",
   "metadata": {},
   "outputs": [
    {
     "data": {
      "text/html": [
       "<div>\n",
       "<style scoped>\n",
       "    .dataframe tbody tr th:only-of-type {\n",
       "        vertical-align: middle;\n",
       "    }\n",
       "\n",
       "    .dataframe tbody tr th {\n",
       "        vertical-align: top;\n",
       "    }\n",
       "\n",
       "    .dataframe thead th {\n",
       "        text-align: right;\n",
       "    }\n",
       "</style>\n",
       "<table border=\"1\" class=\"dataframe\">\n",
       "  <thead>\n",
       "    <tr style=\"text-align: right;\">\n",
       "      <th></th>\n",
       "      <th>Имя</th>\n",
       "      <th>Фамилия</th>\n",
       "      <th>Число детей</th>\n",
       "      <th>Площадь дома</th>\n",
       "      <th>Дата рождения</th>\n",
       "      <th>Женат/Замужем</th>\n",
       "      <th>size</th>\n",
       "    </tr>\n",
       "  </thead>\n",
       "  <tbody>\n",
       "    <tr>\n",
       "      <th>0</th>\n",
       "      <td>Илья</td>\n",
       "      <td>Васильев</td>\n",
       "      <td>1</td>\n",
       "      <td>56.3</td>\n",
       "      <td>1996-11-30</td>\n",
       "      <td>False</td>\n",
       "      <td>L</td>\n",
       "    </tr>\n",
       "    <tr>\n",
       "      <th>1</th>\n",
       "      <td>Антон</td>\n",
       "      <td>Алексеев</td>\n",
       "      <td>3</td>\n",
       "      <td>77.0</td>\n",
       "      <td>1976-02-29</td>\n",
       "      <td>True</td>\n",
       "      <td>L</td>\n",
       "    </tr>\n",
       "    <tr>\n",
       "      <th>2</th>\n",
       "      <td>Надежда</td>\n",
       "      <td>Гусева</td>\n",
       "      <td>4</td>\n",
       "      <td>103.1</td>\n",
       "      <td>1964-09-26</td>\n",
       "      <td>True</td>\n",
       "      <td>S</td>\n",
       "    </tr>\n",
       "    <tr>\n",
       "      <th>3</th>\n",
       "      <td>Артем</td>\n",
       "      <td>Павлов</td>\n",
       "      <td>6</td>\n",
       "      <td>134.9</td>\n",
       "      <td>1980-05-18</td>\n",
       "      <td>True</td>\n",
       "      <td>M</td>\n",
       "    </tr>\n",
       "    <tr>\n",
       "      <th>4</th>\n",
       "      <td>Александр</td>\n",
       "      <td>Николаев</td>\n",
       "      <td>2</td>\n",
       "      <td>47.0</td>\n",
       "      <td>1959-02-24</td>\n",
       "      <td>True</td>\n",
       "      <td>XXL</td>\n",
       "    </tr>\n",
       "    <tr>\n",
       "      <th>5</th>\n",
       "      <td>Дмитрий</td>\n",
       "      <td>Печенкин</td>\n",
       "      <td>3</td>\n",
       "      <td>61.0</td>\n",
       "      <td>1939-04-05</td>\n",
       "      <td>False</td>\n",
       "      <td>M</td>\n",
       "    </tr>\n",
       "    <tr>\n",
       "      <th>6</th>\n",
       "      <td>Дарья</td>\n",
       "      <td>Воробева</td>\n",
       "      <td>4</td>\n",
       "      <td>NaN</td>\n",
       "      <td>1997-07-23</td>\n",
       "      <td>True</td>\n",
       "      <td>XL</td>\n",
       "    </tr>\n",
       "  </tbody>\n",
       "</table>\n",
       "</div>"
      ],
      "text/plain": [
       "         Имя   Фамилия  Число детей  Площадь дома Дата рождения  \\\n",
       "0       Илья  Васильев            1          56.3    1996-11-30   \n",
       "1      Антон  Алексеев            3          77.0    1976-02-29   \n",
       "2    Надежда    Гусева            4         103.1    1964-09-26   \n",
       "3      Артем    Павлов            6         134.9    1980-05-18   \n",
       "4  Александр  Николаев            2          47.0    1959-02-24   \n",
       "5    Дмитрий  Печенкин            3          61.0    1939-04-05   \n",
       "6      Дарья  Воробева            4           NaN    1997-07-23   \n",
       "\n",
       "   Женат/Замужем size  \n",
       "0          False    L  \n",
       "1           True    L  \n",
       "2           True    S  \n",
       "3           True    M  \n",
       "4           True  XXL  \n",
       "5          False    M  \n",
       "6           True   XL  "
      ]
     },
     "execution_count": 10,
     "metadata": {},
     "output_type": "execute_result"
    }
   ],
   "source": [
    "df['size'] = pd.Series(['L', 'L', 'S', 'M', 'XXL', 'M', 'XL'],\n",
    "                       index=[3, 4, 5, 6, 7, 8, 9]).reset_index(drop=True)\n",
    "df"
   ]
  },
  {
   "cell_type": "code",
   "execution_count": 11,
   "id": "007e991f",
   "metadata": {},
   "outputs": [
    {
     "data": {
      "text/html": [
       "<div>\n",
       "<style scoped>\n",
       "    .dataframe tbody tr th:only-of-type {\n",
       "        vertical-align: middle;\n",
       "    }\n",
       "\n",
       "    .dataframe tbody tr th {\n",
       "        vertical-align: top;\n",
       "    }\n",
       "\n",
       "    .dataframe thead th {\n",
       "        text-align: right;\n",
       "    }\n",
       "</style>\n",
       "<table border=\"1\" class=\"dataframe\">\n",
       "  <thead>\n",
       "    <tr style=\"text-align: right;\">\n",
       "      <th></th>\n",
       "      <th>Имя</th>\n",
       "      <th>Фамилия</th>\n",
       "      <th>Число детей</th>\n",
       "      <th>Площадь дома</th>\n",
       "      <th>Дата рождения</th>\n",
       "      <th>Женат/Замужем</th>\n",
       "      <th>size</th>\n",
       "    </tr>\n",
       "  </thead>\n",
       "  <tbody>\n",
       "    <tr>\n",
       "      <th>0</th>\n",
       "      <td>Илья</td>\n",
       "      <td>Васильев</td>\n",
       "      <td>1</td>\n",
       "      <td>56.3</td>\n",
       "      <td>1996-11-30</td>\n",
       "      <td>False</td>\n",
       "      <td>L</td>\n",
       "    </tr>\n",
       "    <tr>\n",
       "      <th>1</th>\n",
       "      <td>Антон</td>\n",
       "      <td>Алексеев</td>\n",
       "      <td>3</td>\n",
       "      <td>77.0</td>\n",
       "      <td>1976-02-29</td>\n",
       "      <td>True</td>\n",
       "      <td>L</td>\n",
       "    </tr>\n",
       "    <tr>\n",
       "      <th>2</th>\n",
       "      <td>Надежда</td>\n",
       "      <td>Гусева</td>\n",
       "      <td>4</td>\n",
       "      <td>103.1</td>\n",
       "      <td>1964-09-26</td>\n",
       "      <td>True</td>\n",
       "      <td>S</td>\n",
       "    </tr>\n",
       "    <tr>\n",
       "      <th>3</th>\n",
       "      <td>Артем</td>\n",
       "      <td>Павлов</td>\n",
       "      <td>6</td>\n",
       "      <td>134.9</td>\n",
       "      <td>1980-05-18</td>\n",
       "      <td>True</td>\n",
       "      <td>M</td>\n",
       "    </tr>\n",
       "    <tr>\n",
       "      <th>4</th>\n",
       "      <td>Александр</td>\n",
       "      <td>Николаев</td>\n",
       "      <td>2</td>\n",
       "      <td>47.0</td>\n",
       "      <td>1959-02-24</td>\n",
       "      <td>True</td>\n",
       "      <td>XXL</td>\n",
       "    </tr>\n",
       "    <tr>\n",
       "      <th>5</th>\n",
       "      <td>Дмитрий</td>\n",
       "      <td>Печенкин</td>\n",
       "      <td>3</td>\n",
       "      <td>61.0</td>\n",
       "      <td>1939-04-05</td>\n",
       "      <td>False</td>\n",
       "      <td>M</td>\n",
       "    </tr>\n",
       "    <tr>\n",
       "      <th>6</th>\n",
       "      <td>Дарья</td>\n",
       "      <td>Воробева</td>\n",
       "      <td>4</td>\n",
       "      <td>NaN</td>\n",
       "      <td>1997-07-23</td>\n",
       "      <td>True</td>\n",
       "      <td>XL</td>\n",
       "    </tr>\n",
       "  </tbody>\n",
       "</table>\n",
       "</div>"
      ],
      "text/plain": [
       "         Имя   Фамилия  Число детей  Площадь дома Дата рождения  \\\n",
       "0       Илья  Васильев            1          56.3    1996-11-30   \n",
       "1      Антон  Алексеев            3          77.0    1976-02-29   \n",
       "2    Надежда    Гусева            4         103.1    1964-09-26   \n",
       "3      Артем    Павлов            6         134.9    1980-05-18   \n",
       "4  Александр  Николаев            2          47.0    1959-02-24   \n",
       "5    Дмитрий  Печенкин            3          61.0    1939-04-05   \n",
       "6      Дарья  Воробева            4           NaN    1997-07-23   \n",
       "\n",
       "   Женат/Замужем size  \n",
       "0          False    L  \n",
       "1           True    L  \n",
       "2           True    S  \n",
       "3           True    M  \n",
       "4           True  XXL  \n",
       "5          False    M  \n",
       "6           True   XL  "
      ]
     },
     "execution_count": 11,
     "metadata": {},
     "output_type": "execute_result"
    }
   ],
   "source": [
    "df['size'] = pd.Series(['L', 'L', 'S', 'M', 'XXL', 'M', 'XL'],\n",
    "                       index=[3, 4, 5, 6, 7, 8, 9]).tolist()\n",
    "df"
   ]
  },
  {
   "cell_type": "code",
   "execution_count": null,
   "id": "6bcf7cde",
   "metadata": {},
   "outputs": [],
   "source": []
  },
  {
   "cell_type": "code",
   "execution_count": null,
   "id": "917bbddd",
   "metadata": {},
   "outputs": [],
   "source": []
  },
  {
   "cell_type": "code",
   "execution_count": null,
   "id": "5e8e5c4d",
   "metadata": {},
   "outputs": [],
   "source": []
  },
  {
   "cell_type": "code",
   "execution_count": null,
   "id": "d7f1e298",
   "metadata": {},
   "outputs": [],
   "source": []
  },
  {
   "cell_type": "code",
   "execution_count": null,
   "id": "a1ef83ef",
   "metadata": {},
   "outputs": [],
   "source": []
  },
  {
   "cell_type": "code",
   "execution_count": null,
   "id": "efe7aaf4",
   "metadata": {},
   "outputs": [],
   "source": []
  },
  {
   "cell_type": "markdown",
   "id": "74ba76a7",
   "metadata": {},
   "source": [
    "#### Выбор нескольких колонок"
   ]
  },
  {
   "cell_type": "code",
   "execution_count": 12,
   "id": "0b0c17af",
   "metadata": {},
   "outputs": [
    {
     "data": {
      "text/html": [
       "<div>\n",
       "<style scoped>\n",
       "    .dataframe tbody tr th:only-of-type {\n",
       "        vertical-align: middle;\n",
       "    }\n",
       "\n",
       "    .dataframe tbody tr th {\n",
       "        vertical-align: top;\n",
       "    }\n",
       "\n",
       "    .dataframe thead th {\n",
       "        text-align: right;\n",
       "    }\n",
       "</style>\n",
       "<table border=\"1\" class=\"dataframe\">\n",
       "  <thead>\n",
       "    <tr style=\"text-align: right;\">\n",
       "      <th></th>\n",
       "      <th>Имя</th>\n",
       "      <th>Фамилия</th>\n",
       "      <th>Число детей</th>\n",
       "      <th>Площадь дома</th>\n",
       "      <th>Дата рождения</th>\n",
       "      <th>Женат/Замужем</th>\n",
       "      <th>size</th>\n",
       "    </tr>\n",
       "  </thead>\n",
       "  <tbody>\n",
       "    <tr>\n",
       "      <th>0</th>\n",
       "      <td>Илья</td>\n",
       "      <td>Васильев</td>\n",
       "      <td>1</td>\n",
       "      <td>56.3</td>\n",
       "      <td>1996-11-30</td>\n",
       "      <td>False</td>\n",
       "      <td>L</td>\n",
       "    </tr>\n",
       "    <tr>\n",
       "      <th>1</th>\n",
       "      <td>Антон</td>\n",
       "      <td>Алексеев</td>\n",
       "      <td>3</td>\n",
       "      <td>77.0</td>\n",
       "      <td>1976-02-29</td>\n",
       "      <td>True</td>\n",
       "      <td>L</td>\n",
       "    </tr>\n",
       "    <tr>\n",
       "      <th>2</th>\n",
       "      <td>Надежда</td>\n",
       "      <td>Гусева</td>\n",
       "      <td>4</td>\n",
       "      <td>103.1</td>\n",
       "      <td>1964-09-26</td>\n",
       "      <td>True</td>\n",
       "      <td>S</td>\n",
       "    </tr>\n",
       "    <tr>\n",
       "      <th>3</th>\n",
       "      <td>Артем</td>\n",
       "      <td>Павлов</td>\n",
       "      <td>6</td>\n",
       "      <td>134.9</td>\n",
       "      <td>1980-05-18</td>\n",
       "      <td>True</td>\n",
       "      <td>M</td>\n",
       "    </tr>\n",
       "    <tr>\n",
       "      <th>4</th>\n",
       "      <td>Александр</td>\n",
       "      <td>Николаев</td>\n",
       "      <td>2</td>\n",
       "      <td>47.0</td>\n",
       "      <td>1959-02-24</td>\n",
       "      <td>True</td>\n",
       "      <td>XXL</td>\n",
       "    </tr>\n",
       "    <tr>\n",
       "      <th>5</th>\n",
       "      <td>Дмитрий</td>\n",
       "      <td>Печенкин</td>\n",
       "      <td>3</td>\n",
       "      <td>61.0</td>\n",
       "      <td>1939-04-05</td>\n",
       "      <td>False</td>\n",
       "      <td>M</td>\n",
       "    </tr>\n",
       "    <tr>\n",
       "      <th>6</th>\n",
       "      <td>Дарья</td>\n",
       "      <td>Воробева</td>\n",
       "      <td>4</td>\n",
       "      <td>NaN</td>\n",
       "      <td>1997-07-23</td>\n",
       "      <td>True</td>\n",
       "      <td>XL</td>\n",
       "    </tr>\n",
       "  </tbody>\n",
       "</table>\n",
       "</div>"
      ],
      "text/plain": [
       "         Имя   Фамилия  Число детей  Площадь дома Дата рождения  \\\n",
       "0       Илья  Васильев            1          56.3    1996-11-30   \n",
       "1      Антон  Алексеев            3          77.0    1976-02-29   \n",
       "2    Надежда    Гусева            4         103.1    1964-09-26   \n",
       "3      Артем    Павлов            6         134.9    1980-05-18   \n",
       "4  Александр  Николаев            2          47.0    1959-02-24   \n",
       "5    Дмитрий  Печенкин            3          61.0    1939-04-05   \n",
       "6      Дарья  Воробева            4           NaN    1997-07-23   \n",
       "\n",
       "   Женат/Замужем size  \n",
       "0          False    L  \n",
       "1           True    L  \n",
       "2           True    S  \n",
       "3           True    M  \n",
       "4           True  XXL  \n",
       "5          False    M  \n",
       "6           True   XL  "
      ]
     },
     "execution_count": 12,
     "metadata": {},
     "output_type": "execute_result"
    }
   ],
   "source": [
    "df"
   ]
  },
  {
   "cell_type": "code",
   "execution_count": 13,
   "id": "676f9fa0",
   "metadata": {},
   "outputs": [
    {
     "data": {
      "text/html": [
       "<div>\n",
       "<style scoped>\n",
       "    .dataframe tbody tr th:only-of-type {\n",
       "        vertical-align: middle;\n",
       "    }\n",
       "\n",
       "    .dataframe tbody tr th {\n",
       "        vertical-align: top;\n",
       "    }\n",
       "\n",
       "    .dataframe thead th {\n",
       "        text-align: right;\n",
       "    }\n",
       "</style>\n",
       "<table border=\"1\" class=\"dataframe\">\n",
       "  <thead>\n",
       "    <tr style=\"text-align: right;\">\n",
       "      <th></th>\n",
       "      <th>Имя</th>\n",
       "      <th>Фамилия</th>\n",
       "    </tr>\n",
       "  </thead>\n",
       "  <tbody>\n",
       "    <tr>\n",
       "      <th>0</th>\n",
       "      <td>Илья</td>\n",
       "      <td>Васильев</td>\n",
       "    </tr>\n",
       "    <tr>\n",
       "      <th>1</th>\n",
       "      <td>Антон</td>\n",
       "      <td>Алексеев</td>\n",
       "    </tr>\n",
       "    <tr>\n",
       "      <th>2</th>\n",
       "      <td>Надежда</td>\n",
       "      <td>Гусева</td>\n",
       "    </tr>\n",
       "    <tr>\n",
       "      <th>3</th>\n",
       "      <td>Артем</td>\n",
       "      <td>Павлов</td>\n",
       "    </tr>\n",
       "    <tr>\n",
       "      <th>4</th>\n",
       "      <td>Александр</td>\n",
       "      <td>Николаев</td>\n",
       "    </tr>\n",
       "    <tr>\n",
       "      <th>5</th>\n",
       "      <td>Дмитрий</td>\n",
       "      <td>Печенкин</td>\n",
       "    </tr>\n",
       "    <tr>\n",
       "      <th>6</th>\n",
       "      <td>Дарья</td>\n",
       "      <td>Воробева</td>\n",
       "    </tr>\n",
       "  </tbody>\n",
       "</table>\n",
       "</div>"
      ],
      "text/plain": [
       "         Имя   Фамилия\n",
       "0       Илья  Васильев\n",
       "1      Антон  Алексеев\n",
       "2    Надежда    Гусева\n",
       "3      Артем    Павлов\n",
       "4  Александр  Николаев\n",
       "5    Дмитрий  Печенкин\n",
       "6      Дарья  Воробева"
      ]
     },
     "execution_count": 13,
     "metadata": {},
     "output_type": "execute_result"
    }
   ],
   "source": [
    "df[['Имя', 'Фамилия']]"
   ]
  },
  {
   "cell_type": "markdown",
   "id": "29fdafbd",
   "metadata": {},
   "source": [
    "Изменим очередность колонок"
   ]
  },
  {
   "cell_type": "code",
   "execution_count": 14,
   "id": "9ecf4912",
   "metadata": {},
   "outputs": [
    {
     "data": {
      "text/html": [
       "<div>\n",
       "<style scoped>\n",
       "    .dataframe tbody tr th:only-of-type {\n",
       "        vertical-align: middle;\n",
       "    }\n",
       "\n",
       "    .dataframe tbody tr th {\n",
       "        vertical-align: top;\n",
       "    }\n",
       "\n",
       "    .dataframe thead th {\n",
       "        text-align: right;\n",
       "    }\n",
       "</style>\n",
       "<table border=\"1\" class=\"dataframe\">\n",
       "  <thead>\n",
       "    <tr style=\"text-align: right;\">\n",
       "      <th></th>\n",
       "      <th>Фамилия</th>\n",
       "      <th>Имя</th>\n",
       "      <th>Число детей</th>\n",
       "      <th>Дата рождения</th>\n",
       "      <th>size</th>\n",
       "      <th>Женат/Замужем</th>\n",
       "      <th>Площадь дома</th>\n",
       "    </tr>\n",
       "  </thead>\n",
       "  <tbody>\n",
       "    <tr>\n",
       "      <th>0</th>\n",
       "      <td>Васильев</td>\n",
       "      <td>Илья</td>\n",
       "      <td>1</td>\n",
       "      <td>1996-11-30</td>\n",
       "      <td>L</td>\n",
       "      <td>False</td>\n",
       "      <td>56.3</td>\n",
       "    </tr>\n",
       "    <tr>\n",
       "      <th>1</th>\n",
       "      <td>Алексеев</td>\n",
       "      <td>Антон</td>\n",
       "      <td>3</td>\n",
       "      <td>1976-02-29</td>\n",
       "      <td>L</td>\n",
       "      <td>True</td>\n",
       "      <td>77.0</td>\n",
       "    </tr>\n",
       "    <tr>\n",
       "      <th>2</th>\n",
       "      <td>Гусева</td>\n",
       "      <td>Надежда</td>\n",
       "      <td>4</td>\n",
       "      <td>1964-09-26</td>\n",
       "      <td>S</td>\n",
       "      <td>True</td>\n",
       "      <td>103.1</td>\n",
       "    </tr>\n",
       "    <tr>\n",
       "      <th>3</th>\n",
       "      <td>Павлов</td>\n",
       "      <td>Артем</td>\n",
       "      <td>6</td>\n",
       "      <td>1980-05-18</td>\n",
       "      <td>M</td>\n",
       "      <td>True</td>\n",
       "      <td>134.9</td>\n",
       "    </tr>\n",
       "    <tr>\n",
       "      <th>4</th>\n",
       "      <td>Николаев</td>\n",
       "      <td>Александр</td>\n",
       "      <td>2</td>\n",
       "      <td>1959-02-24</td>\n",
       "      <td>XXL</td>\n",
       "      <td>True</td>\n",
       "      <td>47.0</td>\n",
       "    </tr>\n",
       "    <tr>\n",
       "      <th>5</th>\n",
       "      <td>Печенкин</td>\n",
       "      <td>Дмитрий</td>\n",
       "      <td>3</td>\n",
       "      <td>1939-04-05</td>\n",
       "      <td>M</td>\n",
       "      <td>False</td>\n",
       "      <td>61.0</td>\n",
       "    </tr>\n",
       "    <tr>\n",
       "      <th>6</th>\n",
       "      <td>Воробева</td>\n",
       "      <td>Дарья</td>\n",
       "      <td>4</td>\n",
       "      <td>1997-07-23</td>\n",
       "      <td>XL</td>\n",
       "      <td>True</td>\n",
       "      <td>NaN</td>\n",
       "    </tr>\n",
       "  </tbody>\n",
       "</table>\n",
       "</div>"
      ],
      "text/plain": [
       "    Фамилия        Имя  Число детей Дата рождения size  Женат/Замужем  \\\n",
       "0  Васильев       Илья            1    1996-11-30    L          False   \n",
       "1  Алексеев      Антон            3    1976-02-29    L           True   \n",
       "2    Гусева    Надежда            4    1964-09-26    S           True   \n",
       "3    Павлов      Артем            6    1980-05-18    M           True   \n",
       "4  Николаев  Александр            2    1959-02-24  XXL           True   \n",
       "5  Печенкин    Дмитрий            3    1939-04-05    M          False   \n",
       "6  Воробева      Дарья            4    1997-07-23   XL           True   \n",
       "\n",
       "   Площадь дома  \n",
       "0          56.3  \n",
       "1          77.0  \n",
       "2         103.1  \n",
       "3         134.9  \n",
       "4          47.0  \n",
       "5          61.0  \n",
       "6           NaN  "
      ]
     },
     "execution_count": 14,
     "metadata": {},
     "output_type": "execute_result"
    }
   ],
   "source": [
    "df[['Фамилия', 'Имя', 'Число детей',\n",
    "    'Дата рождения', 'size',\n",
    "     'Женат/Замужем', 'Площадь дома']]"
   ]
  },
  {
   "cell_type": "markdown",
   "id": "df4a074d",
   "metadata": {},
   "source": [
    "Если передать в метод список, то вернется DataFrame, а если просто строку, то вернется Series"
   ]
  },
  {
   "cell_type": "code",
   "execution_count": 15,
   "id": "0ce6db73",
   "metadata": {},
   "outputs": [
    {
     "data": {
      "text/html": [
       "<div>\n",
       "<style scoped>\n",
       "    .dataframe tbody tr th:only-of-type {\n",
       "        vertical-align: middle;\n",
       "    }\n",
       "\n",
       "    .dataframe tbody tr th {\n",
       "        vertical-align: top;\n",
       "    }\n",
       "\n",
       "    .dataframe thead th {\n",
       "        text-align: right;\n",
       "    }\n",
       "</style>\n",
       "<table border=\"1\" class=\"dataframe\">\n",
       "  <thead>\n",
       "    <tr style=\"text-align: right;\">\n",
       "      <th></th>\n",
       "      <th>Имя</th>\n",
       "    </tr>\n",
       "  </thead>\n",
       "  <tbody>\n",
       "    <tr>\n",
       "      <th>0</th>\n",
       "      <td>Илья</td>\n",
       "    </tr>\n",
       "    <tr>\n",
       "      <th>1</th>\n",
       "      <td>Антон</td>\n",
       "    </tr>\n",
       "    <tr>\n",
       "      <th>2</th>\n",
       "      <td>Надежда</td>\n",
       "    </tr>\n",
       "    <tr>\n",
       "      <th>3</th>\n",
       "      <td>Артем</td>\n",
       "    </tr>\n",
       "    <tr>\n",
       "      <th>4</th>\n",
       "      <td>Александр</td>\n",
       "    </tr>\n",
       "    <tr>\n",
       "      <th>5</th>\n",
       "      <td>Дмитрий</td>\n",
       "    </tr>\n",
       "    <tr>\n",
       "      <th>6</th>\n",
       "      <td>Дарья</td>\n",
       "    </tr>\n",
       "  </tbody>\n",
       "</table>\n",
       "</div>"
      ],
      "text/plain": [
       "         Имя\n",
       "0       Илья\n",
       "1      Антон\n",
       "2    Надежда\n",
       "3      Артем\n",
       "4  Александр\n",
       "5    Дмитрий\n",
       "6      Дарья"
      ]
     },
     "execution_count": 15,
     "metadata": {},
     "output_type": "execute_result"
    }
   ],
   "source": [
    "df[['Имя']]"
   ]
  },
  {
   "cell_type": "code",
   "execution_count": 16,
   "id": "576605ca",
   "metadata": {},
   "outputs": [
    {
     "data": {
      "text/plain": [
       "0         Илья\n",
       "1        Антон\n",
       "2      Надежда\n",
       "3        Артем\n",
       "4    Александр\n",
       "5      Дмитрий\n",
       "6        Дарья\n",
       "Name: Имя, dtype: object"
      ]
     },
     "execution_count": 16,
     "metadata": {},
     "output_type": "execute_result"
    }
   ],
   "source": [
    "df['Имя']"
   ]
  },
  {
   "cell_type": "code",
   "execution_count": 17,
   "id": "9c3ccdad",
   "metadata": {},
   "outputs": [
    {
     "data": {
      "text/html": [
       "<div>\n",
       "<style scoped>\n",
       "    .dataframe tbody tr th:only-of-type {\n",
       "        vertical-align: middle;\n",
       "    }\n",
       "\n",
       "    .dataframe tbody tr th {\n",
       "        vertical-align: top;\n",
       "    }\n",
       "\n",
       "    .dataframe thead th {\n",
       "        text-align: right;\n",
       "    }\n",
       "</style>\n",
       "<table border=\"1\" class=\"dataframe\">\n",
       "  <thead>\n",
       "    <tr style=\"text-align: right;\">\n",
       "      <th></th>\n",
       "      <th>Имя</th>\n",
       "    </tr>\n",
       "  </thead>\n",
       "  <tbody>\n",
       "    <tr>\n",
       "      <th>0</th>\n",
       "      <td>Илья</td>\n",
       "    </tr>\n",
       "    <tr>\n",
       "      <th>1</th>\n",
       "      <td>Антон</td>\n",
       "    </tr>\n",
       "    <tr>\n",
       "      <th>2</th>\n",
       "      <td>Надежда</td>\n",
       "    </tr>\n",
       "    <tr>\n",
       "      <th>3</th>\n",
       "      <td>Артем</td>\n",
       "    </tr>\n",
       "    <tr>\n",
       "      <th>4</th>\n",
       "      <td>Александр</td>\n",
       "    </tr>\n",
       "    <tr>\n",
       "      <th>5</th>\n",
       "      <td>Дмитрий</td>\n",
       "    </tr>\n",
       "    <tr>\n",
       "      <th>6</th>\n",
       "      <td>Дарья</td>\n",
       "    </tr>\n",
       "  </tbody>\n",
       "</table>\n",
       "</div>"
      ],
      "text/plain": [
       "         Имя\n",
       "0       Илья\n",
       "1      Антон\n",
       "2    Надежда\n",
       "3      Артем\n",
       "4  Александр\n",
       "5    Дмитрий\n",
       "6      Дарья"
      ]
     },
     "execution_count": 17,
     "metadata": {},
     "output_type": "execute_result"
    }
   ],
   "source": [
    "df['Имя'].to_frame()"
   ]
  },
  {
   "cell_type": "code",
   "execution_count": null,
   "id": "6a867603",
   "metadata": {},
   "outputs": [],
   "source": []
  },
  {
   "cell_type": "code",
   "execution_count": null,
   "id": "cb84d050",
   "metadata": {},
   "outputs": [],
   "source": []
  },
  {
   "cell_type": "code",
   "execution_count": null,
   "id": "c06fb09c",
   "metadata": {},
   "outputs": [],
   "source": []
  },
  {
   "cell_type": "code",
   "execution_count": null,
   "id": "08a6a890",
   "metadata": {},
   "outputs": [],
   "source": []
  },
  {
   "cell_type": "code",
   "execution_count": null,
   "id": "e345ccb2",
   "metadata": {},
   "outputs": [],
   "source": []
  },
  {
   "cell_type": "code",
   "execution_count": null,
   "id": "41b38c66",
   "metadata": {},
   "outputs": [],
   "source": []
  },
  {
   "cell_type": "code",
   "execution_count": null,
   "id": "271d7351",
   "metadata": {},
   "outputs": [],
   "source": []
  },
  {
   "cell_type": "code",
   "execution_count": null,
   "id": "a5019369",
   "metadata": {},
   "outputs": [],
   "source": []
  },
  {
   "cell_type": "markdown",
   "id": "d930fa47",
   "metadata": {},
   "source": [
    "### [ ] при работе с колонками таблицы и объектами Series"
   ]
  },
  {
   "cell_type": "code",
   "execution_count": 18,
   "id": "0d158fca",
   "metadata": {},
   "outputs": [
    {
     "data": {
      "text/plain": [
       "0         Илья\n",
       "1        Антон\n",
       "2      Надежда\n",
       "3        Артем\n",
       "4    Александр\n",
       "5      Дмитрий\n",
       "6        Дарья\n",
       "Name: Имя, dtype: object"
      ]
     },
     "execution_count": 18,
     "metadata": {},
     "output_type": "execute_result"
    }
   ],
   "source": [
    "names = df['Имя']\n",
    "names"
   ]
  },
  {
   "cell_type": "markdown",
   "id": "8a387e59",
   "metadata": {},
   "source": [
    "К объектам Series можно обращаться через название индекса"
   ]
  },
  {
   "cell_type": "code",
   "execution_count": 19,
   "id": "10190de1",
   "metadata": {},
   "outputs": [
    {
     "data": {
      "text/plain": [
       "'Илья'"
      ]
     },
     "execution_count": 19,
     "metadata": {},
     "output_type": "execute_result"
    }
   ],
   "source": [
    "names[0]"
   ]
  },
  {
   "cell_type": "code",
   "execution_count": 20,
   "id": "91f93799",
   "metadata": {},
   "outputs": [
    {
     "data": {
      "text/plain": [
       "'Александр'"
      ]
     },
     "execution_count": 20,
     "metadata": {},
     "output_type": "execute_result"
    }
   ],
   "source": [
    "names[4]"
   ]
  },
  {
   "cell_type": "code",
   "execution_count": 21,
   "id": "dea7c6af",
   "metadata": {},
   "outputs": [
    {
     "data": {
      "text/html": [
       "<div>\n",
       "<style scoped>\n",
       "    .dataframe tbody tr th:only-of-type {\n",
       "        vertical-align: middle;\n",
       "    }\n",
       "\n",
       "    .dataframe tbody tr th {\n",
       "        vertical-align: top;\n",
       "    }\n",
       "\n",
       "    .dataframe thead th {\n",
       "        text-align: right;\n",
       "    }\n",
       "</style>\n",
       "<table border=\"1\" class=\"dataframe\">\n",
       "  <thead>\n",
       "    <tr style=\"text-align: right;\">\n",
       "      <th></th>\n",
       "      <th>Имя</th>\n",
       "      <th>Фамилия</th>\n",
       "      <th>Число детей</th>\n",
       "      <th>Площадь дома</th>\n",
       "      <th>Дата рождения</th>\n",
       "      <th>Женат/Замужем</th>\n",
       "      <th>size</th>\n",
       "    </tr>\n",
       "  </thead>\n",
       "  <tbody>\n",
       "    <tr>\n",
       "      <th>0</th>\n",
       "      <td>Илья</td>\n",
       "      <td>Васильев</td>\n",
       "      <td>1</td>\n",
       "      <td>56.3</td>\n",
       "      <td>1996-11-30</td>\n",
       "      <td>False</td>\n",
       "      <td>L</td>\n",
       "    </tr>\n",
       "    <tr>\n",
       "      <th>1</th>\n",
       "      <td>Антон</td>\n",
       "      <td>Алексеев</td>\n",
       "      <td>3</td>\n",
       "      <td>77.0</td>\n",
       "      <td>1976-02-29</td>\n",
       "      <td>True</td>\n",
       "      <td>L</td>\n",
       "    </tr>\n",
       "    <tr>\n",
       "      <th>2</th>\n",
       "      <td>Надежда</td>\n",
       "      <td>Гусева</td>\n",
       "      <td>4</td>\n",
       "      <td>103.1</td>\n",
       "      <td>1964-09-26</td>\n",
       "      <td>True</td>\n",
       "      <td>S</td>\n",
       "    </tr>\n",
       "    <tr>\n",
       "      <th>3</th>\n",
       "      <td>Артем</td>\n",
       "      <td>Павлов</td>\n",
       "      <td>6</td>\n",
       "      <td>134.9</td>\n",
       "      <td>1980-05-18</td>\n",
       "      <td>True</td>\n",
       "      <td>M</td>\n",
       "    </tr>\n",
       "    <tr>\n",
       "      <th>4</th>\n",
       "      <td>Александр</td>\n",
       "      <td>Николаев</td>\n",
       "      <td>2</td>\n",
       "      <td>47.0</td>\n",
       "      <td>1959-02-24</td>\n",
       "      <td>True</td>\n",
       "      <td>XXL</td>\n",
       "    </tr>\n",
       "    <tr>\n",
       "      <th>5</th>\n",
       "      <td>Дмитрий</td>\n",
       "      <td>Печенкин</td>\n",
       "      <td>3</td>\n",
       "      <td>61.0</td>\n",
       "      <td>1939-04-05</td>\n",
       "      <td>False</td>\n",
       "      <td>M</td>\n",
       "    </tr>\n",
       "    <tr>\n",
       "      <th>6</th>\n",
       "      <td>Дарья</td>\n",
       "      <td>Воробева</td>\n",
       "      <td>4</td>\n",
       "      <td>NaN</td>\n",
       "      <td>1997-07-23</td>\n",
       "      <td>True</td>\n",
       "      <td>XL</td>\n",
       "    </tr>\n",
       "  </tbody>\n",
       "</table>\n",
       "</div>"
      ],
      "text/plain": [
       "         Имя   Фамилия  Число детей  Площадь дома Дата рождения  \\\n",
       "0       Илья  Васильев            1          56.3    1996-11-30   \n",
       "1      Антон  Алексеев            3          77.0    1976-02-29   \n",
       "2    Надежда    Гусева            4         103.1    1964-09-26   \n",
       "3      Артем    Павлов            6         134.9    1980-05-18   \n",
       "4  Александр  Николаев            2          47.0    1959-02-24   \n",
       "5    Дмитрий  Печенкин            3          61.0    1939-04-05   \n",
       "6      Дарья  Воробева            4           NaN    1997-07-23   \n",
       "\n",
       "   Женат/Замужем size  \n",
       "0          False    L  \n",
       "1           True    L  \n",
       "2           True    S  \n",
       "3           True    M  \n",
       "4           True  XXL  \n",
       "5          False    M  \n",
       "6           True   XL  "
      ]
     },
     "execution_count": 21,
     "metadata": {},
     "output_type": "execute_result"
    }
   ],
   "source": [
    "df"
   ]
  },
  {
   "cell_type": "markdown",
   "id": "96e7982a",
   "metadata": {},
   "source": [
    "Поменяем имя Александр на Олег"
   ]
  },
  {
   "cell_type": "code",
   "execution_count": 22,
   "id": "dd4167ab",
   "metadata": {},
   "outputs": [
    {
     "name": "stderr",
     "output_type": "stream",
     "text": [
      "C:\\Users\\Александр\\AppData\\Local\\Temp\\ipykernel_10804\\3867858108.py:1: SettingWithCopyWarning: \n",
      "A value is trying to be set on a copy of a slice from a DataFrame\n",
      "\n",
      "See the caveats in the documentation: https://pandas.pydata.org/pandas-docs/stable/user_guide/indexing.html#returning-a-view-versus-a-copy\n",
      "  names[4] = 'Олег'\n"
     ]
    }
   ],
   "source": [
    "names[4] = 'Олег'"
   ]
  },
  {
   "cell_type": "code",
   "execution_count": 23,
   "id": "5d5aba78",
   "metadata": {},
   "outputs": [
    {
     "data": {
      "text/plain": [
       "0       Илья\n",
       "1      Антон\n",
       "2    Надежда\n",
       "3      Артем\n",
       "4       Олег\n",
       "5    Дмитрий\n",
       "6      Дарья\n",
       "Name: Имя, dtype: object"
      ]
     },
     "execution_count": 23,
     "metadata": {},
     "output_type": "execute_result"
    }
   ],
   "source": [
    "names"
   ]
  },
  {
   "cell_type": "markdown",
   "id": "c8528b1f",
   "metadata": {},
   "source": [
    "Значение поменялось не только в переменной names, но и в таблице"
   ]
  },
  {
   "cell_type": "code",
   "execution_count": 24,
   "id": "100b23b8",
   "metadata": {},
   "outputs": [
    {
     "data": {
      "text/html": [
       "<div>\n",
       "<style scoped>\n",
       "    .dataframe tbody tr th:only-of-type {\n",
       "        vertical-align: middle;\n",
       "    }\n",
       "\n",
       "    .dataframe tbody tr th {\n",
       "        vertical-align: top;\n",
       "    }\n",
       "\n",
       "    .dataframe thead th {\n",
       "        text-align: right;\n",
       "    }\n",
       "</style>\n",
       "<table border=\"1\" class=\"dataframe\">\n",
       "  <thead>\n",
       "    <tr style=\"text-align: right;\">\n",
       "      <th></th>\n",
       "      <th>Имя</th>\n",
       "      <th>Фамилия</th>\n",
       "      <th>Число детей</th>\n",
       "      <th>Площадь дома</th>\n",
       "      <th>Дата рождения</th>\n",
       "      <th>Женат/Замужем</th>\n",
       "      <th>size</th>\n",
       "    </tr>\n",
       "  </thead>\n",
       "  <tbody>\n",
       "    <tr>\n",
       "      <th>0</th>\n",
       "      <td>Илья</td>\n",
       "      <td>Васильев</td>\n",
       "      <td>1</td>\n",
       "      <td>56.3</td>\n",
       "      <td>1996-11-30</td>\n",
       "      <td>False</td>\n",
       "      <td>L</td>\n",
       "    </tr>\n",
       "    <tr>\n",
       "      <th>1</th>\n",
       "      <td>Антон</td>\n",
       "      <td>Алексеев</td>\n",
       "      <td>3</td>\n",
       "      <td>77.0</td>\n",
       "      <td>1976-02-29</td>\n",
       "      <td>True</td>\n",
       "      <td>L</td>\n",
       "    </tr>\n",
       "    <tr>\n",
       "      <th>2</th>\n",
       "      <td>Надежда</td>\n",
       "      <td>Гусева</td>\n",
       "      <td>4</td>\n",
       "      <td>103.1</td>\n",
       "      <td>1964-09-26</td>\n",
       "      <td>True</td>\n",
       "      <td>S</td>\n",
       "    </tr>\n",
       "    <tr>\n",
       "      <th>3</th>\n",
       "      <td>Артем</td>\n",
       "      <td>Павлов</td>\n",
       "      <td>6</td>\n",
       "      <td>134.9</td>\n",
       "      <td>1980-05-18</td>\n",
       "      <td>True</td>\n",
       "      <td>M</td>\n",
       "    </tr>\n",
       "    <tr>\n",
       "      <th>4</th>\n",
       "      <td>Олег</td>\n",
       "      <td>Николаев</td>\n",
       "      <td>2</td>\n",
       "      <td>47.0</td>\n",
       "      <td>1959-02-24</td>\n",
       "      <td>True</td>\n",
       "      <td>XXL</td>\n",
       "    </tr>\n",
       "    <tr>\n",
       "      <th>5</th>\n",
       "      <td>Дмитрий</td>\n",
       "      <td>Печенкин</td>\n",
       "      <td>3</td>\n",
       "      <td>61.0</td>\n",
       "      <td>1939-04-05</td>\n",
       "      <td>False</td>\n",
       "      <td>M</td>\n",
       "    </tr>\n",
       "    <tr>\n",
       "      <th>6</th>\n",
       "      <td>Дарья</td>\n",
       "      <td>Воробева</td>\n",
       "      <td>4</td>\n",
       "      <td>NaN</td>\n",
       "      <td>1997-07-23</td>\n",
       "      <td>True</td>\n",
       "      <td>XL</td>\n",
       "    </tr>\n",
       "  </tbody>\n",
       "</table>\n",
       "</div>"
      ],
      "text/plain": [
       "       Имя   Фамилия  Число детей  Площадь дома Дата рождения  Женат/Замужем  \\\n",
       "0     Илья  Васильев            1          56.3    1996-11-30          False   \n",
       "1    Антон  Алексеев            3          77.0    1976-02-29           True   \n",
       "2  Надежда    Гусева            4         103.1    1964-09-26           True   \n",
       "3    Артем    Павлов            6         134.9    1980-05-18           True   \n",
       "4     Олег  Николаев            2          47.0    1959-02-24           True   \n",
       "5  Дмитрий  Печенкин            3          61.0    1939-04-05          False   \n",
       "6    Дарья  Воробева            4           NaN    1997-07-23           True   \n",
       "\n",
       "  size  \n",
       "0    L  \n",
       "1    L  \n",
       "2    S  \n",
       "3    M  \n",
       "4  XXL  \n",
       "5    M  \n",
       "6   XL  "
      ]
     },
     "execution_count": 24,
     "metadata": {},
     "output_type": "execute_result"
    }
   ],
   "source": [
    "df"
   ]
  },
  {
   "cell_type": "markdown",
   "id": "823beadd",
   "metadata": {},
   "source": [
    "Обратно вернем имя Александр"
   ]
  },
  {
   "cell_type": "code",
   "execution_count": 25,
   "id": "23eec523",
   "metadata": {},
   "outputs": [
    {
     "name": "stderr",
     "output_type": "stream",
     "text": [
      "C:\\Users\\Александр\\AppData\\Local\\Temp\\ipykernel_10804\\4131806829.py:1: SettingWithCopyWarning: \n",
      "A value is trying to be set on a copy of a slice from a DataFrame\n",
      "\n",
      "See the caveats in the documentation: https://pandas.pydata.org/pandas-docs/stable/user_guide/indexing.html#returning-a-view-versus-a-copy\n",
      "  names[4] = 'Александр'\n"
     ]
    }
   ],
   "source": [
    "names[4] = 'Александр'"
   ]
  },
  {
   "cell_type": "code",
   "execution_count": 26,
   "id": "9ae9dee8",
   "metadata": {},
   "outputs": [
    {
     "data": {
      "text/html": [
       "<div>\n",
       "<style scoped>\n",
       "    .dataframe tbody tr th:only-of-type {\n",
       "        vertical-align: middle;\n",
       "    }\n",
       "\n",
       "    .dataframe tbody tr th {\n",
       "        vertical-align: top;\n",
       "    }\n",
       "\n",
       "    .dataframe thead th {\n",
       "        text-align: right;\n",
       "    }\n",
       "</style>\n",
       "<table border=\"1\" class=\"dataframe\">\n",
       "  <thead>\n",
       "    <tr style=\"text-align: right;\">\n",
       "      <th></th>\n",
       "      <th>Имя</th>\n",
       "      <th>Фамилия</th>\n",
       "      <th>Число детей</th>\n",
       "      <th>Площадь дома</th>\n",
       "      <th>Дата рождения</th>\n",
       "      <th>Женат/Замужем</th>\n",
       "      <th>size</th>\n",
       "    </tr>\n",
       "  </thead>\n",
       "  <tbody>\n",
       "    <tr>\n",
       "      <th>0</th>\n",
       "      <td>Илья</td>\n",
       "      <td>Васильев</td>\n",
       "      <td>1</td>\n",
       "      <td>56.3</td>\n",
       "      <td>1996-11-30</td>\n",
       "      <td>False</td>\n",
       "      <td>L</td>\n",
       "    </tr>\n",
       "    <tr>\n",
       "      <th>1</th>\n",
       "      <td>Антон</td>\n",
       "      <td>Алексеев</td>\n",
       "      <td>3</td>\n",
       "      <td>77.0</td>\n",
       "      <td>1976-02-29</td>\n",
       "      <td>True</td>\n",
       "      <td>L</td>\n",
       "    </tr>\n",
       "    <tr>\n",
       "      <th>2</th>\n",
       "      <td>Надежда</td>\n",
       "      <td>Гусева</td>\n",
       "      <td>4</td>\n",
       "      <td>103.1</td>\n",
       "      <td>1964-09-26</td>\n",
       "      <td>True</td>\n",
       "      <td>S</td>\n",
       "    </tr>\n",
       "    <tr>\n",
       "      <th>3</th>\n",
       "      <td>Артем</td>\n",
       "      <td>Павлов</td>\n",
       "      <td>6</td>\n",
       "      <td>134.9</td>\n",
       "      <td>1980-05-18</td>\n",
       "      <td>True</td>\n",
       "      <td>M</td>\n",
       "    </tr>\n",
       "    <tr>\n",
       "      <th>4</th>\n",
       "      <td>Александр</td>\n",
       "      <td>Николаев</td>\n",
       "      <td>2</td>\n",
       "      <td>47.0</td>\n",
       "      <td>1959-02-24</td>\n",
       "      <td>True</td>\n",
       "      <td>XXL</td>\n",
       "    </tr>\n",
       "    <tr>\n",
       "      <th>5</th>\n",
       "      <td>Дмитрий</td>\n",
       "      <td>Печенкин</td>\n",
       "      <td>3</td>\n",
       "      <td>61.0</td>\n",
       "      <td>1939-04-05</td>\n",
       "      <td>False</td>\n",
       "      <td>M</td>\n",
       "    </tr>\n",
       "    <tr>\n",
       "      <th>6</th>\n",
       "      <td>Дарья</td>\n",
       "      <td>Воробева</td>\n",
       "      <td>4</td>\n",
       "      <td>NaN</td>\n",
       "      <td>1997-07-23</td>\n",
       "      <td>True</td>\n",
       "      <td>XL</td>\n",
       "    </tr>\n",
       "  </tbody>\n",
       "</table>\n",
       "</div>"
      ],
      "text/plain": [
       "         Имя   Фамилия  Число детей  Площадь дома Дата рождения  \\\n",
       "0       Илья  Васильев            1          56.3    1996-11-30   \n",
       "1      Антон  Алексеев            3          77.0    1976-02-29   \n",
       "2    Надежда    Гусева            4         103.1    1964-09-26   \n",
       "3      Артем    Павлов            6         134.9    1980-05-18   \n",
       "4  Александр  Николаев            2          47.0    1959-02-24   \n",
       "5    Дмитрий  Печенкин            3          61.0    1939-04-05   \n",
       "6      Дарья  Воробева            4           NaN    1997-07-23   \n",
       "\n",
       "   Женат/Замужем size  \n",
       "0          False    L  \n",
       "1           True    L  \n",
       "2           True    S  \n",
       "3           True    M  \n",
       "4           True  XXL  \n",
       "5          False    M  \n",
       "6           True   XL  "
      ]
     },
     "execution_count": 26,
     "metadata": {},
     "output_type": "execute_result"
    }
   ],
   "source": [
    "df"
   ]
  },
  {
   "cell_type": "markdown",
   "id": "af43f96e",
   "metadata": {},
   "source": [
    "Чтобы значение менялось только в переменной необходимо использовать метод copy"
   ]
  },
  {
   "cell_type": "code",
   "execution_count": 27,
   "id": "82aebedc",
   "metadata": {},
   "outputs": [
    {
     "data": {
      "text/plain": [
       "0         Илья\n",
       "1        Антон\n",
       "2      Надежда\n",
       "3        Артем\n",
       "4    Александр\n",
       "5      Дмитрий\n",
       "6        Дарья\n",
       "Name: Имя, dtype: object"
      ]
     },
     "execution_count": 27,
     "metadata": {},
     "output_type": "execute_result"
    }
   ],
   "source": [
    "names = df['Имя'].copy()\n",
    "names"
   ]
  },
  {
   "cell_type": "code",
   "execution_count": 28,
   "id": "28417b23",
   "metadata": {},
   "outputs": [],
   "source": [
    "names[4] = 'Олег'"
   ]
  },
  {
   "cell_type": "code",
   "execution_count": 29,
   "id": "2171ac88",
   "metadata": {},
   "outputs": [
    {
     "data": {
      "text/plain": [
       "0       Илья\n",
       "1      Антон\n",
       "2    Надежда\n",
       "3      Артем\n",
       "4       Олег\n",
       "5    Дмитрий\n",
       "6      Дарья\n",
       "Name: Имя, dtype: object"
      ]
     },
     "execution_count": 29,
     "metadata": {},
     "output_type": "execute_result"
    }
   ],
   "source": [
    "names"
   ]
  },
  {
   "cell_type": "code",
   "execution_count": 30,
   "id": "306f2952",
   "metadata": {},
   "outputs": [
    {
     "data": {
      "text/html": [
       "<div>\n",
       "<style scoped>\n",
       "    .dataframe tbody tr th:only-of-type {\n",
       "        vertical-align: middle;\n",
       "    }\n",
       "\n",
       "    .dataframe tbody tr th {\n",
       "        vertical-align: top;\n",
       "    }\n",
       "\n",
       "    .dataframe thead th {\n",
       "        text-align: right;\n",
       "    }\n",
       "</style>\n",
       "<table border=\"1\" class=\"dataframe\">\n",
       "  <thead>\n",
       "    <tr style=\"text-align: right;\">\n",
       "      <th></th>\n",
       "      <th>Имя</th>\n",
       "      <th>Фамилия</th>\n",
       "      <th>Число детей</th>\n",
       "      <th>Площадь дома</th>\n",
       "      <th>Дата рождения</th>\n",
       "      <th>Женат/Замужем</th>\n",
       "      <th>size</th>\n",
       "    </tr>\n",
       "  </thead>\n",
       "  <tbody>\n",
       "    <tr>\n",
       "      <th>0</th>\n",
       "      <td>Илья</td>\n",
       "      <td>Васильев</td>\n",
       "      <td>1</td>\n",
       "      <td>56.3</td>\n",
       "      <td>1996-11-30</td>\n",
       "      <td>False</td>\n",
       "      <td>L</td>\n",
       "    </tr>\n",
       "    <tr>\n",
       "      <th>1</th>\n",
       "      <td>Антон</td>\n",
       "      <td>Алексеев</td>\n",
       "      <td>3</td>\n",
       "      <td>77.0</td>\n",
       "      <td>1976-02-29</td>\n",
       "      <td>True</td>\n",
       "      <td>L</td>\n",
       "    </tr>\n",
       "    <tr>\n",
       "      <th>2</th>\n",
       "      <td>Надежда</td>\n",
       "      <td>Гусева</td>\n",
       "      <td>4</td>\n",
       "      <td>103.1</td>\n",
       "      <td>1964-09-26</td>\n",
       "      <td>True</td>\n",
       "      <td>S</td>\n",
       "    </tr>\n",
       "    <tr>\n",
       "      <th>3</th>\n",
       "      <td>Артем</td>\n",
       "      <td>Павлов</td>\n",
       "      <td>6</td>\n",
       "      <td>134.9</td>\n",
       "      <td>1980-05-18</td>\n",
       "      <td>True</td>\n",
       "      <td>M</td>\n",
       "    </tr>\n",
       "    <tr>\n",
       "      <th>4</th>\n",
       "      <td>Александр</td>\n",
       "      <td>Николаев</td>\n",
       "      <td>2</td>\n",
       "      <td>47.0</td>\n",
       "      <td>1959-02-24</td>\n",
       "      <td>True</td>\n",
       "      <td>XXL</td>\n",
       "    </tr>\n",
       "    <tr>\n",
       "      <th>5</th>\n",
       "      <td>Дмитрий</td>\n",
       "      <td>Печенкин</td>\n",
       "      <td>3</td>\n",
       "      <td>61.0</td>\n",
       "      <td>1939-04-05</td>\n",
       "      <td>False</td>\n",
       "      <td>M</td>\n",
       "    </tr>\n",
       "    <tr>\n",
       "      <th>6</th>\n",
       "      <td>Дарья</td>\n",
       "      <td>Воробева</td>\n",
       "      <td>4</td>\n",
       "      <td>NaN</td>\n",
       "      <td>1997-07-23</td>\n",
       "      <td>True</td>\n",
       "      <td>XL</td>\n",
       "    </tr>\n",
       "  </tbody>\n",
       "</table>\n",
       "</div>"
      ],
      "text/plain": [
       "         Имя   Фамилия  Число детей  Площадь дома Дата рождения  \\\n",
       "0       Илья  Васильев            1          56.3    1996-11-30   \n",
       "1      Антон  Алексеев            3          77.0    1976-02-29   \n",
       "2    Надежда    Гусева            4         103.1    1964-09-26   \n",
       "3      Артем    Павлов            6         134.9    1980-05-18   \n",
       "4  Александр  Николаев            2          47.0    1959-02-24   \n",
       "5    Дмитрий  Печенкин            3          61.0    1939-04-05   \n",
       "6      Дарья  Воробева            4           NaN    1997-07-23   \n",
       "\n",
       "   Женат/Замужем size  \n",
       "0          False    L  \n",
       "1           True    L  \n",
       "2           True    S  \n",
       "3           True    M  \n",
       "4           True  XXL  \n",
       "5          False    M  \n",
       "6           True   XL  "
      ]
     },
     "execution_count": 30,
     "metadata": {},
     "output_type": "execute_result"
    }
   ],
   "source": [
    "df"
   ]
  },
  {
   "cell_type": "code",
   "execution_count": 31,
   "id": "89eb01ae",
   "metadata": {},
   "outputs": [
    {
     "data": {
      "text/html": [
       "<div>\n",
       "<style scoped>\n",
       "    .dataframe tbody tr th:only-of-type {\n",
       "        vertical-align: middle;\n",
       "    }\n",
       "\n",
       "    .dataframe tbody tr th {\n",
       "        vertical-align: top;\n",
       "    }\n",
       "\n",
       "    .dataframe thead th {\n",
       "        text-align: right;\n",
       "    }\n",
       "</style>\n",
       "<table border=\"1\" class=\"dataframe\">\n",
       "  <thead>\n",
       "    <tr style=\"text-align: right;\">\n",
       "      <th></th>\n",
       "      <th>Имя</th>\n",
       "      <th>Фамилия</th>\n",
       "      <th>Число детей</th>\n",
       "      <th>Площадь дома</th>\n",
       "      <th>Дата рождения</th>\n",
       "      <th>Женат/Замужем</th>\n",
       "      <th>size</th>\n",
       "    </tr>\n",
       "  </thead>\n",
       "  <tbody>\n",
       "    <tr>\n",
       "      <th>0</th>\n",
       "      <td>Илья</td>\n",
       "      <td>Васильев</td>\n",
       "      <td>1</td>\n",
       "      <td>56.3</td>\n",
       "      <td>1996-11-30</td>\n",
       "      <td>False</td>\n",
       "      <td>L</td>\n",
       "    </tr>\n",
       "    <tr>\n",
       "      <th>1</th>\n",
       "      <td>Антон</td>\n",
       "      <td>Алексеев</td>\n",
       "      <td>3</td>\n",
       "      <td>77.0</td>\n",
       "      <td>1976-02-29</td>\n",
       "      <td>True</td>\n",
       "      <td>L</td>\n",
       "    </tr>\n",
       "    <tr>\n",
       "      <th>2</th>\n",
       "      <td>Надежда</td>\n",
       "      <td>Гусева</td>\n",
       "      <td>4</td>\n",
       "      <td>103.1</td>\n",
       "      <td>1964-09-26</td>\n",
       "      <td>True</td>\n",
       "      <td>S</td>\n",
       "    </tr>\n",
       "    <tr>\n",
       "      <th>3</th>\n",
       "      <td>Артем</td>\n",
       "      <td>Павлов</td>\n",
       "      <td>6</td>\n",
       "      <td>134.9</td>\n",
       "      <td>1980-05-18</td>\n",
       "      <td>True</td>\n",
       "      <td>M</td>\n",
       "    </tr>\n",
       "    <tr>\n",
       "      <th>4</th>\n",
       "      <td>Александр</td>\n",
       "      <td>Николаев</td>\n",
       "      <td>2</td>\n",
       "      <td>47.0</td>\n",
       "      <td>1959-02-24</td>\n",
       "      <td>True</td>\n",
       "      <td>XXL</td>\n",
       "    </tr>\n",
       "    <tr>\n",
       "      <th>5</th>\n",
       "      <td>Дмитрий</td>\n",
       "      <td>Печенкин</td>\n",
       "      <td>3</td>\n",
       "      <td>61.0</td>\n",
       "      <td>1939-04-05</td>\n",
       "      <td>False</td>\n",
       "      <td>M</td>\n",
       "    </tr>\n",
       "    <tr>\n",
       "      <th>6</th>\n",
       "      <td>Дарья</td>\n",
       "      <td>Воробева</td>\n",
       "      <td>4</td>\n",
       "      <td>NaN</td>\n",
       "      <td>1997-07-23</td>\n",
       "      <td>True</td>\n",
       "      <td>XL</td>\n",
       "    </tr>\n",
       "  </tbody>\n",
       "</table>\n",
       "</div>"
      ],
      "text/plain": [
       "         Имя   Фамилия  Число детей  Площадь дома Дата рождения  \\\n",
       "0       Илья  Васильев            1          56.3    1996-11-30   \n",
       "1      Антон  Алексеев            3          77.0    1976-02-29   \n",
       "2    Надежда    Гусева            4         103.1    1964-09-26   \n",
       "3      Артем    Павлов            6         134.9    1980-05-18   \n",
       "4  Александр  Николаев            2          47.0    1959-02-24   \n",
       "5    Дмитрий  Печенкин            3          61.0    1939-04-05   \n",
       "6      Дарья  Воробева            4           NaN    1997-07-23   \n",
       "\n",
       "   Женат/Замужем size  \n",
       "0          False    L  \n",
       "1           True    L  \n",
       "2           True    S  \n",
       "3           True    M  \n",
       "4           True  XXL  \n",
       "5          False    M  \n",
       "6           True   XL  "
      ]
     },
     "execution_count": 31,
     "metadata": {},
     "output_type": "execute_result"
    }
   ],
   "source": [
    "df1 = df.copy()\n",
    "df1"
   ]
  },
  {
   "cell_type": "markdown",
   "id": "73f4a88d",
   "metadata": {},
   "source": [
    "Вунтри функций никогда не будет лишней такая строчка"
   ]
  },
  {
   "cell_type": "code",
   "execution_count": null,
   "id": "43ce72e2",
   "metadata": {},
   "outputs": [],
   "source": [
    "def some_func(df):\n",
    "    df = df.copy()\n",
    "    \n",
    "    # Код функции\n",
    "    "
   ]
  },
  {
   "cell_type": "code",
   "execution_count": null,
   "id": "c90887ee",
   "metadata": {},
   "outputs": [],
   "source": []
  },
  {
   "cell_type": "code",
   "execution_count": null,
   "id": "7f3dbe99",
   "metadata": {},
   "outputs": [],
   "source": []
  },
  {
   "cell_type": "code",
   "execution_count": null,
   "id": "2c511f87",
   "metadata": {},
   "outputs": [],
   "source": []
  },
  {
   "cell_type": "code",
   "execution_count": null,
   "id": "793b2445",
   "metadata": {},
   "outputs": [],
   "source": []
  },
  {
   "cell_type": "code",
   "execution_count": null,
   "id": "e9c8235d",
   "metadata": {},
   "outputs": [],
   "source": []
  },
  {
   "cell_type": "code",
   "execution_count": null,
   "id": "408b3215",
   "metadata": {},
   "outputs": [],
   "source": []
  },
  {
   "cell_type": "code",
   "execution_count": null,
   "id": "2ba8d783",
   "metadata": {},
   "outputs": [],
   "source": []
  },
  {
   "cell_type": "code",
   "execution_count": null,
   "id": "1379c729",
   "metadata": {},
   "outputs": [],
   "source": []
  },
  {
   "cell_type": "code",
   "execution_count": null,
   "id": "5cc0ef15",
   "metadata": {},
   "outputs": [],
   "source": []
  },
  {
   "cell_type": "markdown",
   "id": "9d92e395",
   "metadata": {},
   "source": [
    "# Метод drop"
   ]
  },
  {
   "cell_type": "markdown",
   "id": "8a027056",
   "metadata": {},
   "source": [
    "Метод для удаления коложнок из таблицы\n",
    "\n",
    "#### Синтаксис:\n",
    "\n",
    "1. df.drop(columns='название колонки' или спискок из названий колонок)\n",
    "2. df.drop('название колонки' или спискок из названий колонок, axis=1)\n",
    "3. df.drop('название колонки' или спискок из названий колонок, axis='columns')\n",
    "\n",
    "Кроме того, с помощью этого метода можно удалять индексы\n",
    "\n",
    "df.drop(название индекса или спискок из ненужных индексов)"
   ]
  },
  {
   "cell_type": "code",
   "execution_count": 32,
   "id": "2ce091b0",
   "metadata": {},
   "outputs": [
    {
     "data": {
      "text/html": [
       "<div>\n",
       "<style scoped>\n",
       "    .dataframe tbody tr th:only-of-type {\n",
       "        vertical-align: middle;\n",
       "    }\n",
       "\n",
       "    .dataframe tbody tr th {\n",
       "        vertical-align: top;\n",
       "    }\n",
       "\n",
       "    .dataframe thead th {\n",
       "        text-align: right;\n",
       "    }\n",
       "</style>\n",
       "<table border=\"1\" class=\"dataframe\">\n",
       "  <thead>\n",
       "    <tr style=\"text-align: right;\">\n",
       "      <th></th>\n",
       "      <th>Фамилия</th>\n",
       "      <th>Число детей</th>\n",
       "      <th>Площадь дома</th>\n",
       "      <th>Дата рождения</th>\n",
       "      <th>Женат/Замужем</th>\n",
       "    </tr>\n",
       "  </thead>\n",
       "  <tbody>\n",
       "    <tr>\n",
       "      <th>0</th>\n",
       "      <td>Васильев</td>\n",
       "      <td>1</td>\n",
       "      <td>56.3</td>\n",
       "      <td>1996-11-30</td>\n",
       "      <td>False</td>\n",
       "    </tr>\n",
       "    <tr>\n",
       "      <th>1</th>\n",
       "      <td>Алексеев</td>\n",
       "      <td>3</td>\n",
       "      <td>77.0</td>\n",
       "      <td>1976-02-29</td>\n",
       "      <td>True</td>\n",
       "    </tr>\n",
       "    <tr>\n",
       "      <th>2</th>\n",
       "      <td>Гусева</td>\n",
       "      <td>4</td>\n",
       "      <td>103.1</td>\n",
       "      <td>1964-09-26</td>\n",
       "      <td>True</td>\n",
       "    </tr>\n",
       "    <tr>\n",
       "      <th>3</th>\n",
       "      <td>Павлов</td>\n",
       "      <td>6</td>\n",
       "      <td>134.9</td>\n",
       "      <td>1980-05-18</td>\n",
       "      <td>True</td>\n",
       "    </tr>\n",
       "    <tr>\n",
       "      <th>4</th>\n",
       "      <td>Николаев</td>\n",
       "      <td>2</td>\n",
       "      <td>47.0</td>\n",
       "      <td>1959-02-24</td>\n",
       "      <td>True</td>\n",
       "    </tr>\n",
       "    <tr>\n",
       "      <th>5</th>\n",
       "      <td>Печенкин</td>\n",
       "      <td>3</td>\n",
       "      <td>61.0</td>\n",
       "      <td>1939-04-05</td>\n",
       "      <td>False</td>\n",
       "    </tr>\n",
       "    <tr>\n",
       "      <th>6</th>\n",
       "      <td>Воробева</td>\n",
       "      <td>4</td>\n",
       "      <td>NaN</td>\n",
       "      <td>1997-07-23</td>\n",
       "      <td>True</td>\n",
       "    </tr>\n",
       "  </tbody>\n",
       "</table>\n",
       "</div>"
      ],
      "text/plain": [
       "    Фамилия  Число детей  Площадь дома Дата рождения  Женат/Замужем\n",
       "0  Васильев            1          56.3    1996-11-30          False\n",
       "1  Алексеев            3          77.0    1976-02-29           True\n",
       "2    Гусева            4         103.1    1964-09-26           True\n",
       "3    Павлов            6         134.9    1980-05-18           True\n",
       "4  Николаев            2          47.0    1959-02-24           True\n",
       "5  Печенкин            3          61.0    1939-04-05          False\n",
       "6  Воробева            4           NaN    1997-07-23           True"
      ]
     },
     "execution_count": 32,
     "metadata": {},
     "output_type": "execute_result"
    }
   ],
   "source": [
    "df[['Фамилия', 'Число детей', 'Площадь дома',\n",
    "    'Дата рождения', 'Женат/Замужем']]"
   ]
  },
  {
   "cell_type": "code",
   "execution_count": 33,
   "id": "6dae595c",
   "metadata": {},
   "outputs": [
    {
     "data": {
      "text/html": [
       "<div>\n",
       "<style scoped>\n",
       "    .dataframe tbody tr th:only-of-type {\n",
       "        vertical-align: middle;\n",
       "    }\n",
       "\n",
       "    .dataframe tbody tr th {\n",
       "        vertical-align: top;\n",
       "    }\n",
       "\n",
       "    .dataframe thead th {\n",
       "        text-align: right;\n",
       "    }\n",
       "</style>\n",
       "<table border=\"1\" class=\"dataframe\">\n",
       "  <thead>\n",
       "    <tr style=\"text-align: right;\">\n",
       "      <th></th>\n",
       "      <th>Фамилия</th>\n",
       "      <th>Число детей</th>\n",
       "      <th>Площадь дома</th>\n",
       "      <th>Дата рождения</th>\n",
       "      <th>Женат/Замужем</th>\n",
       "      <th>size</th>\n",
       "    </tr>\n",
       "  </thead>\n",
       "  <tbody>\n",
       "    <tr>\n",
       "      <th>0</th>\n",
       "      <td>Васильев</td>\n",
       "      <td>1</td>\n",
       "      <td>56.3</td>\n",
       "      <td>1996-11-30</td>\n",
       "      <td>False</td>\n",
       "      <td>L</td>\n",
       "    </tr>\n",
       "    <tr>\n",
       "      <th>1</th>\n",
       "      <td>Алексеев</td>\n",
       "      <td>3</td>\n",
       "      <td>77.0</td>\n",
       "      <td>1976-02-29</td>\n",
       "      <td>True</td>\n",
       "      <td>L</td>\n",
       "    </tr>\n",
       "    <tr>\n",
       "      <th>2</th>\n",
       "      <td>Гусева</td>\n",
       "      <td>4</td>\n",
       "      <td>103.1</td>\n",
       "      <td>1964-09-26</td>\n",
       "      <td>True</td>\n",
       "      <td>S</td>\n",
       "    </tr>\n",
       "    <tr>\n",
       "      <th>3</th>\n",
       "      <td>Павлов</td>\n",
       "      <td>6</td>\n",
       "      <td>134.9</td>\n",
       "      <td>1980-05-18</td>\n",
       "      <td>True</td>\n",
       "      <td>M</td>\n",
       "    </tr>\n",
       "    <tr>\n",
       "      <th>4</th>\n",
       "      <td>Николаев</td>\n",
       "      <td>2</td>\n",
       "      <td>47.0</td>\n",
       "      <td>1959-02-24</td>\n",
       "      <td>True</td>\n",
       "      <td>XXL</td>\n",
       "    </tr>\n",
       "    <tr>\n",
       "      <th>5</th>\n",
       "      <td>Печенкин</td>\n",
       "      <td>3</td>\n",
       "      <td>61.0</td>\n",
       "      <td>1939-04-05</td>\n",
       "      <td>False</td>\n",
       "      <td>M</td>\n",
       "    </tr>\n",
       "    <tr>\n",
       "      <th>6</th>\n",
       "      <td>Воробева</td>\n",
       "      <td>4</td>\n",
       "      <td>NaN</td>\n",
       "      <td>1997-07-23</td>\n",
       "      <td>True</td>\n",
       "      <td>XL</td>\n",
       "    </tr>\n",
       "  </tbody>\n",
       "</table>\n",
       "</div>"
      ],
      "text/plain": [
       "    Фамилия  Число детей  Площадь дома Дата рождения  Женат/Замужем size\n",
       "0  Васильев            1          56.3    1996-11-30          False    L\n",
       "1  Алексеев            3          77.0    1976-02-29           True    L\n",
       "2    Гусева            4         103.1    1964-09-26           True    S\n",
       "3    Павлов            6         134.9    1980-05-18           True    M\n",
       "4  Николаев            2          47.0    1959-02-24           True  XXL\n",
       "5  Печенкин            3          61.0    1939-04-05          False    M\n",
       "6  Воробева            4           NaN    1997-07-23           True   XL"
      ]
     },
     "execution_count": 33,
     "metadata": {},
     "output_type": "execute_result"
    }
   ],
   "source": [
    "df.drop(columns='Имя')\n",
    "df.drop('Имя', axis=1)\n",
    "df.drop('Имя', axis='columns')"
   ]
  },
  {
   "cell_type": "code",
   "execution_count": 34,
   "id": "3f2da6c5",
   "metadata": {},
   "outputs": [
    {
     "data": {
      "text/html": [
       "<div>\n",
       "<style scoped>\n",
       "    .dataframe tbody tr th:only-of-type {\n",
       "        vertical-align: middle;\n",
       "    }\n",
       "\n",
       "    .dataframe tbody tr th {\n",
       "        vertical-align: top;\n",
       "    }\n",
       "\n",
       "    .dataframe thead th {\n",
       "        text-align: right;\n",
       "    }\n",
       "</style>\n",
       "<table border=\"1\" class=\"dataframe\">\n",
       "  <thead>\n",
       "    <tr style=\"text-align: right;\">\n",
       "      <th></th>\n",
       "      <th>Фамилия</th>\n",
       "      <th>Число детей</th>\n",
       "      <th>Площадь дома</th>\n",
       "      <th>Дата рождения</th>\n",
       "      <th>Женат/Замужем</th>\n",
       "    </tr>\n",
       "  </thead>\n",
       "  <tbody>\n",
       "    <tr>\n",
       "      <th>0</th>\n",
       "      <td>Васильев</td>\n",
       "      <td>1</td>\n",
       "      <td>56.3</td>\n",
       "      <td>1996-11-30</td>\n",
       "      <td>False</td>\n",
       "    </tr>\n",
       "    <tr>\n",
       "      <th>1</th>\n",
       "      <td>Алексеев</td>\n",
       "      <td>3</td>\n",
       "      <td>77.0</td>\n",
       "      <td>1976-02-29</td>\n",
       "      <td>True</td>\n",
       "    </tr>\n",
       "    <tr>\n",
       "      <th>2</th>\n",
       "      <td>Гусева</td>\n",
       "      <td>4</td>\n",
       "      <td>103.1</td>\n",
       "      <td>1964-09-26</td>\n",
       "      <td>True</td>\n",
       "    </tr>\n",
       "    <tr>\n",
       "      <th>3</th>\n",
       "      <td>Павлов</td>\n",
       "      <td>6</td>\n",
       "      <td>134.9</td>\n",
       "      <td>1980-05-18</td>\n",
       "      <td>True</td>\n",
       "    </tr>\n",
       "    <tr>\n",
       "      <th>4</th>\n",
       "      <td>Николаев</td>\n",
       "      <td>2</td>\n",
       "      <td>47.0</td>\n",
       "      <td>1959-02-24</td>\n",
       "      <td>True</td>\n",
       "    </tr>\n",
       "    <tr>\n",
       "      <th>5</th>\n",
       "      <td>Печенкин</td>\n",
       "      <td>3</td>\n",
       "      <td>61.0</td>\n",
       "      <td>1939-04-05</td>\n",
       "      <td>False</td>\n",
       "    </tr>\n",
       "    <tr>\n",
       "      <th>6</th>\n",
       "      <td>Воробева</td>\n",
       "      <td>4</td>\n",
       "      <td>NaN</td>\n",
       "      <td>1997-07-23</td>\n",
       "      <td>True</td>\n",
       "    </tr>\n",
       "  </tbody>\n",
       "</table>\n",
       "</div>"
      ],
      "text/plain": [
       "    Фамилия  Число детей  Площадь дома Дата рождения  Женат/Замужем\n",
       "0  Васильев            1          56.3    1996-11-30          False\n",
       "1  Алексеев            3          77.0    1976-02-29           True\n",
       "2    Гусева            4         103.1    1964-09-26           True\n",
       "3    Павлов            6         134.9    1980-05-18           True\n",
       "4  Николаев            2          47.0    1959-02-24           True\n",
       "5  Печенкин            3          61.0    1939-04-05          False\n",
       "6  Воробева            4           NaN    1997-07-23           True"
      ]
     },
     "execution_count": 34,
     "metadata": {},
     "output_type": "execute_result"
    }
   ],
   "source": [
    "df.drop(columns=['Имя', 'size'])\n",
    "df.drop(['Имя', 'size'], axis=1)\n",
    "df.drop(['Имя', 'size'], axis='columns')"
   ]
  },
  {
   "cell_type": "code",
   "execution_count": 35,
   "id": "c81d0f53",
   "metadata": {},
   "outputs": [
    {
     "data": {
      "text/html": [
       "<div>\n",
       "<style scoped>\n",
       "    .dataframe tbody tr th:only-of-type {\n",
       "        vertical-align: middle;\n",
       "    }\n",
       "\n",
       "    .dataframe tbody tr th {\n",
       "        vertical-align: top;\n",
       "    }\n",
       "\n",
       "    .dataframe thead th {\n",
       "        text-align: right;\n",
       "    }\n",
       "</style>\n",
       "<table border=\"1\" class=\"dataframe\">\n",
       "  <thead>\n",
       "    <tr style=\"text-align: right;\">\n",
       "      <th></th>\n",
       "      <th>Имя</th>\n",
       "      <th>Фамилия</th>\n",
       "      <th>Число детей</th>\n",
       "      <th>Площадь дома</th>\n",
       "      <th>Дата рождения</th>\n",
       "      <th>Женат/Замужем</th>\n",
       "      <th>size</th>\n",
       "    </tr>\n",
       "  </thead>\n",
       "  <tbody>\n",
       "    <tr>\n",
       "      <th>0</th>\n",
       "      <td>Илья</td>\n",
       "      <td>Васильев</td>\n",
       "      <td>1</td>\n",
       "      <td>56.3</td>\n",
       "      <td>1996-11-30</td>\n",
       "      <td>False</td>\n",
       "      <td>L</td>\n",
       "    </tr>\n",
       "    <tr>\n",
       "      <th>1</th>\n",
       "      <td>Антон</td>\n",
       "      <td>Алексеев</td>\n",
       "      <td>3</td>\n",
       "      <td>77.0</td>\n",
       "      <td>1976-02-29</td>\n",
       "      <td>True</td>\n",
       "      <td>L</td>\n",
       "    </tr>\n",
       "    <tr>\n",
       "      <th>2</th>\n",
       "      <td>Надежда</td>\n",
       "      <td>Гусева</td>\n",
       "      <td>4</td>\n",
       "      <td>103.1</td>\n",
       "      <td>1964-09-26</td>\n",
       "      <td>True</td>\n",
       "      <td>S</td>\n",
       "    </tr>\n",
       "    <tr>\n",
       "      <th>3</th>\n",
       "      <td>Артем</td>\n",
       "      <td>Павлов</td>\n",
       "      <td>6</td>\n",
       "      <td>134.9</td>\n",
       "      <td>1980-05-18</td>\n",
       "      <td>True</td>\n",
       "      <td>M</td>\n",
       "    </tr>\n",
       "    <tr>\n",
       "      <th>4</th>\n",
       "      <td>Александр</td>\n",
       "      <td>Николаев</td>\n",
       "      <td>2</td>\n",
       "      <td>47.0</td>\n",
       "      <td>1959-02-24</td>\n",
       "      <td>True</td>\n",
       "      <td>XXL</td>\n",
       "    </tr>\n",
       "    <tr>\n",
       "      <th>5</th>\n",
       "      <td>Дмитрий</td>\n",
       "      <td>Печенкин</td>\n",
       "      <td>3</td>\n",
       "      <td>61.0</td>\n",
       "      <td>1939-04-05</td>\n",
       "      <td>False</td>\n",
       "      <td>M</td>\n",
       "    </tr>\n",
       "    <tr>\n",
       "      <th>6</th>\n",
       "      <td>Дарья</td>\n",
       "      <td>Воробева</td>\n",
       "      <td>4</td>\n",
       "      <td>NaN</td>\n",
       "      <td>1997-07-23</td>\n",
       "      <td>True</td>\n",
       "      <td>XL</td>\n",
       "    </tr>\n",
       "  </tbody>\n",
       "</table>\n",
       "</div>"
      ],
      "text/plain": [
       "         Имя   Фамилия  Число детей  Площадь дома Дата рождения  \\\n",
       "0       Илья  Васильев            1          56.3    1996-11-30   \n",
       "1      Антон  Алексеев            3          77.0    1976-02-29   \n",
       "2    Надежда    Гусева            4         103.1    1964-09-26   \n",
       "3      Артем    Павлов            6         134.9    1980-05-18   \n",
       "4  Александр  Николаев            2          47.0    1959-02-24   \n",
       "5    Дмитрий  Печенкин            3          61.0    1939-04-05   \n",
       "6      Дарья  Воробева            4           NaN    1997-07-23   \n",
       "\n",
       "   Женат/Замужем size  \n",
       "0          False    L  \n",
       "1           True    L  \n",
       "2           True    S  \n",
       "3           True    M  \n",
       "4           True  XXL  \n",
       "5          False    M  \n",
       "6           True   XL  "
      ]
     },
     "execution_count": 35,
     "metadata": {},
     "output_type": "execute_result"
    }
   ],
   "source": [
    "df"
   ]
  },
  {
   "cell_type": "code",
   "execution_count": null,
   "id": "2183fa31",
   "metadata": {},
   "outputs": [],
   "source": [
    "# df = df.drop(columns=['Имя', 'size'])"
   ]
  },
  {
   "cell_type": "code",
   "execution_count": null,
   "id": "93e4cdd3",
   "metadata": {},
   "outputs": [],
   "source": []
  },
  {
   "cell_type": "code",
   "execution_count": null,
   "id": "e2878748",
   "metadata": {},
   "outputs": [],
   "source": []
  },
  {
   "cell_type": "code",
   "execution_count": null,
   "id": "b5564f91",
   "metadata": {},
   "outputs": [],
   "source": []
  },
  {
   "cell_type": "code",
   "execution_count": null,
   "id": "f5d9926b",
   "metadata": {},
   "outputs": [],
   "source": []
  },
  {
   "cell_type": "code",
   "execution_count": null,
   "id": "fabe86fb",
   "metadata": {},
   "outputs": [],
   "source": []
  },
  {
   "cell_type": "code",
   "execution_count": null,
   "id": "f63765bb",
   "metadata": {},
   "outputs": [],
   "source": []
  },
  {
   "cell_type": "markdown",
   "id": "288f48a3",
   "metadata": {},
   "source": [
    "# Метод assign"
   ]
  },
  {
   "cell_type": "markdown",
   "id": "042ddf83",
   "metadata": {},
   "source": [
    "Метод необходим для создания новых колонок.\n",
    "\n",
    "#### Синтаксис:\n",
    "\n",
    "df.assign(название колонки без кавычек = значение, которое надо присвоить колонке)"
   ]
  },
  {
   "cell_type": "markdown",
   "id": "2c260888",
   "metadata": {},
   "source": [
    "__Ограничения на названия колонок в методе assign:__\n",
    "1. Допускаются только символы латинского алфавита, цифры и _\n",
    "2. Название не должно начинасться на цифру\n",
    "3. Название не должно содержать пробелов"
   ]
  },
  {
   "cell_type": "code",
   "execution_count": null,
   "id": "42633391",
   "metadata": {},
   "outputs": [],
   "source": [
    "(df\n",
    "    .assign(one = 1)\n",
    ")"
   ]
  },
  {
   "cell_type": "code",
   "execution_count": null,
   "id": "a79d7848",
   "metadata": {},
   "outputs": [],
   "source": [
    "df['one'] = 1\n",
    "df"
   ]
  },
  {
   "cell_type": "code",
   "execution_count": null,
   "id": "a9e3ac6e",
   "metadata": {},
   "outputs": [],
   "source": [
    "df = df.drop('one', axis=1)\n",
    "df"
   ]
  },
  {
   "cell_type": "code",
   "execution_count": null,
   "id": "8f9cd17a",
   "metadata": {},
   "outputs": [],
   "source": [
    "df.assign(range_1_7 = [1, 2, 3, 4, 5, 6, 7])"
   ]
  },
  {
   "cell_type": "code",
   "execution_count": null,
   "id": "1329f1f0",
   "metadata": {},
   "outputs": [],
   "source": [
    "(df\n",
    "    .assign(size = lambda x: x['size'].str.lower())\n",
    ")"
   ]
  },
  {
   "cell_type": "code",
   "execution_count": null,
   "id": "1e90489b",
   "metadata": {},
   "outputs": [],
   "source": [
    "(df\n",
    "    .assign(house_square = lambda x: x['Площадь дома'] * 2)\n",
    ")"
   ]
  },
  {
   "cell_type": "code",
   "execution_count": null,
   "id": "d9201d7a",
   "metadata": {},
   "outputs": [],
   "source": [
    "(df\n",
    "    .assign(house_square = lambda x: x['Площадь дома'] * 2)\n",
    "    .assign(house_square_1 = lambda x: x['house_square'])\n",
    ")"
   ]
  },
  {
   "cell_type": "code",
   "execution_count": null,
   "id": "aa9ec80c",
   "metadata": {},
   "outputs": [],
   "source": []
  },
  {
   "cell_type": "code",
   "execution_count": null,
   "id": "c5324b69",
   "metadata": {},
   "outputs": [],
   "source": []
  },
  {
   "cell_type": "code",
   "execution_count": null,
   "id": "3ff5c6f9",
   "metadata": {},
   "outputs": [],
   "source": []
  },
  {
   "cell_type": "code",
   "execution_count": null,
   "id": "660fe820",
   "metadata": {},
   "outputs": [],
   "source": []
  },
  {
   "cell_type": "code",
   "execution_count": null,
   "id": "3dbec57a",
   "metadata": {},
   "outputs": [],
   "source": []
  },
  {
   "cell_type": "code",
   "execution_count": null,
   "id": "c9381d83",
   "metadata": {},
   "outputs": [],
   "source": []
  },
  {
   "cell_type": "code",
   "execution_count": null,
   "id": "c61cc010",
   "metadata": {},
   "outputs": [],
   "source": []
  },
  {
   "cell_type": "code",
   "execution_count": null,
   "id": "4fba04c0",
   "metadata": {},
   "outputs": [],
   "source": []
  },
  {
   "cell_type": "markdown",
   "id": "b94eb12a",
   "metadata": {},
   "source": [
    "__Ограничения на названия колонок в методе assign:__\n",
    "1. Допускаются только символы латинского алфавита, цифры и _\n",
    "2. Название не должно начинасться на цифру\n",
    "3. Название не должно содержать пробелов"
   ]
  },
  {
   "cell_type": "markdown",
   "id": "9820d856",
   "metadata": {},
   "source": [
    "#### Создание колонок на русском языке"
   ]
  },
  {
   "cell_type": "code",
   "execution_count": null,
   "id": "fad5bb17",
   "metadata": {},
   "outputs": [],
   "source": [
    "# Не очень хороший вариант\n",
    "df.assign(Площадь_квартиры = lambda x: x['Площадь дома'])"
   ]
  },
  {
   "cell_type": "code",
   "execution_count": null,
   "id": "da84cd42",
   "metadata": {},
   "outputs": [],
   "source": [
    "df.assign(**{'Площадь кваратиры': lambda x: x['Площадь дома']})"
   ]
  },
  {
   "cell_type": "code",
   "execution_count": null,
   "id": "90de6edc",
   "metadata": {},
   "outputs": [],
   "source": [
    "(df\n",
    "    .assign(flat_square = lambda x: x['Площадь дома'])\n",
    "    .rename({'flat_square': 'Площадь кваратиры'}, axis=1)\n",
    ")"
   ]
  },
  {
   "cell_type": "code",
   "execution_count": null,
   "id": "dfc03c27",
   "metadata": {},
   "outputs": [],
   "source": []
  },
  {
   "cell_type": "code",
   "execution_count": null,
   "id": "b795565c",
   "metadata": {},
   "outputs": [],
   "source": []
  },
  {
   "cell_type": "code",
   "execution_count": null,
   "id": "d7bba5e3",
   "metadata": {},
   "outputs": [],
   "source": []
  },
  {
   "cell_type": "code",
   "execution_count": null,
   "id": "c27e7e66",
   "metadata": {},
   "outputs": [],
   "source": []
  },
  {
   "cell_type": "code",
   "execution_count": null,
   "id": "0f13aee0",
   "metadata": {},
   "outputs": [],
   "source": []
  },
  {
   "cell_type": "code",
   "execution_count": null,
   "id": "14a6ecef",
   "metadata": {},
   "outputs": [],
   "source": []
  },
  {
   "cell_type": "code",
   "execution_count": null,
   "id": "7b5ba45a",
   "metadata": {},
   "outputs": [],
   "source": []
  },
  {
   "cell_type": "code",
   "execution_count": null,
   "id": "b1044a20",
   "metadata": {},
   "outputs": [],
   "source": []
  },
  {
   "cell_type": "code",
   "execution_count": null,
   "id": "492278ed",
   "metadata": {},
   "outputs": [],
   "source": []
  },
  {
   "cell_type": "markdown",
   "id": "36a6736a",
   "metadata": {},
   "source": [
    "# Атрибуты loc и iloc"
   ]
  },
  {
   "cell_type": "markdown",
   "id": "7db2cc89",
   "metadata": {},
   "source": [
    "Методы loc и iloc очень похожи. Метод loc позволяет образаться к столбцам таблицы, строкам и ячейкам по названию колонок и индексов, а метод iloc по их номерам"
   ]
  },
  {
   "cell_type": "code",
   "execution_count": null,
   "id": "215efb44",
   "metadata": {},
   "outputs": [],
   "source": [
    "df = df.set_index('Фамилия')\n",
    "df"
   ]
  },
  {
   "cell_type": "markdown",
   "id": "7944fc24",
   "metadata": {},
   "source": [
    "**Если передать в [ ] атрибута loc или iloc один аргумент, то вернется строка таблицы**"
   ]
  },
  {
   "cell_type": "code",
   "execution_count": null,
   "id": "037c113f",
   "metadata": {},
   "outputs": [],
   "source": [
    "df.loc['Васильев']"
   ]
  },
  {
   "cell_type": "code",
   "execution_count": null,
   "id": "62de78b1",
   "metadata": {},
   "outputs": [],
   "source": [
    "df.iloc[0]"
   ]
  },
  {
   "cell_type": "code",
   "execution_count": null,
   "id": "310b3160",
   "metadata": {},
   "outputs": [],
   "source": []
  },
  {
   "cell_type": "code",
   "execution_count": null,
   "id": "5c76d6a7",
   "metadata": {},
   "outputs": [],
   "source": []
  },
  {
   "cell_type": "markdown",
   "id": "a7d8a458",
   "metadata": {},
   "source": [
    "#### В них можно передавать списки"
   ]
  },
  {
   "cell_type": "code",
   "execution_count": null,
   "id": "2fae3c2e",
   "metadata": {},
   "outputs": [],
   "source": [
    "df"
   ]
  },
  {
   "cell_type": "code",
   "execution_count": null,
   "id": "92708224",
   "metadata": {},
   "outputs": [],
   "source": [
    "df.loc[['Васильев', 'Павлов']]"
   ]
  },
  {
   "cell_type": "code",
   "execution_count": null,
   "id": "29a212d8",
   "metadata": {},
   "outputs": [],
   "source": [
    "df.iloc[[0, 3]]"
   ]
  },
  {
   "cell_type": "markdown",
   "id": "e0a74aa9",
   "metadata": {},
   "source": [
    "Если продублировать один и тот же индекс несколько раз, то соответствующая строка вернется несколько раз"
   ]
  },
  {
   "cell_type": "code",
   "execution_count": null,
   "id": "9633f5bf",
   "metadata": {},
   "outputs": [],
   "source": [
    "df.loc[['Васильев', 'Павлов', 'Васильев']]"
   ]
  },
  {
   "cell_type": "code",
   "execution_count": null,
   "id": "8a191592",
   "metadata": {},
   "outputs": [],
   "source": [
    "df.iloc[[0, 3, 0]]"
   ]
  },
  {
   "cell_type": "code",
   "execution_count": null,
   "id": "56f3e891",
   "metadata": {},
   "outputs": [],
   "source": []
  },
  {
   "cell_type": "code",
   "execution_count": null,
   "id": "142fbe68",
   "metadata": {},
   "outputs": [],
   "source": []
  },
  {
   "cell_type": "code",
   "execution_count": null,
   "id": "614abd6a",
   "metadata": {},
   "outputs": [],
   "source": []
  },
  {
   "cell_type": "markdown",
   "id": "b272aa11",
   "metadata": {},
   "source": [
    "#### Срезы"
   ]
  },
  {
   "cell_type": "code",
   "execution_count": null,
   "id": "d103f6fc",
   "metadata": {},
   "outputs": [],
   "source": [
    "df"
   ]
  },
  {
   "cell_type": "code",
   "execution_count": null,
   "id": "08d9e81a",
   "metadata": {},
   "outputs": [],
   "source": [
    "df.loc['Алексеев': 'Николаев']"
   ]
  },
  {
   "cell_type": "code",
   "execution_count": null,
   "id": "0bc30b8f",
   "metadata": {},
   "outputs": [],
   "source": [
    "df.iloc[1:5]"
   ]
  },
  {
   "cell_type": "code",
   "execution_count": null,
   "id": "2810c790",
   "metadata": {},
   "outputs": [],
   "source": [
    "df.loc['Алексеев':]"
   ]
  },
  {
   "cell_type": "code",
   "execution_count": null,
   "id": "968076d1",
   "metadata": {},
   "outputs": [],
   "source": [
    "df.iloc[1:]"
   ]
  },
  {
   "cell_type": "code",
   "execution_count": null,
   "id": "fba586de",
   "metadata": {},
   "outputs": [],
   "source": [
    "df.loc['Алексеев':'Николаев':2]"
   ]
  },
  {
   "cell_type": "code",
   "execution_count": null,
   "id": "8337c592",
   "metadata": {},
   "outputs": [],
   "source": [
    "df.iloc[1:5:2]"
   ]
  },
  {
   "cell_type": "code",
   "execution_count": null,
   "id": "29048858",
   "metadata": {},
   "outputs": [],
   "source": [
    "df.loc['Алексеев'::2]"
   ]
  },
  {
   "cell_type": "code",
   "execution_count": null,
   "id": "2c3dcc04",
   "metadata": {},
   "outputs": [],
   "source": [
    "df.iloc[1::2]"
   ]
  },
  {
   "cell_type": "code",
   "execution_count": null,
   "id": "68d9a97c",
   "metadata": {},
   "outputs": [],
   "source": []
  },
  {
   "cell_type": "code",
   "execution_count": null,
   "id": "7c593e5c",
   "metadata": {},
   "outputs": [],
   "source": []
  },
  {
   "cell_type": "code",
   "execution_count": null,
   "id": "ed2ba2b1",
   "metadata": {},
   "outputs": [],
   "source": []
  },
  {
   "cell_type": "code",
   "execution_count": null,
   "id": "278dc88b",
   "metadata": {},
   "outputs": [],
   "source": []
  },
  {
   "cell_type": "code",
   "execution_count": null,
   "id": "00e7c1aa",
   "metadata": {},
   "outputs": [],
   "source": []
  },
  {
   "cell_type": "code",
   "execution_count": null,
   "id": "ffb085f2",
   "metadata": {},
   "outputs": [],
   "source": []
  },
  {
   "cell_type": "markdown",
   "id": "baff071b",
   "metadata": {},
   "source": [
    "**В методы можно передавать 2 аргумента. Тогда первый аргумент будет отвечать за выбор строки, а второй за выбор столбца**"
   ]
  },
  {
   "cell_type": "code",
   "execution_count": null,
   "id": "e1b79b61",
   "metadata": {},
   "outputs": [],
   "source": [
    "df"
   ]
  },
  {
   "cell_type": "code",
   "execution_count": null,
   "id": "4192c079",
   "metadata": {},
   "outputs": [],
   "source": [
    "df.loc[['Алексеев', 'Павлов'], 'Имя': 'Дата рождения']"
   ]
  },
  {
   "cell_type": "code",
   "execution_count": null,
   "id": "4a44bd54",
   "metadata": {},
   "outputs": [],
   "source": [
    "df.iloc[[0, 3], :4]"
   ]
  },
  {
   "cell_type": "markdown",
   "id": "9f157718",
   "metadata": {},
   "source": [
    "**Чтобы выбрать колонку таблицы, необходимо в качестве первого аргумента передать двоеточие**"
   ]
  },
  {
   "cell_type": "code",
   "execution_count": null,
   "id": "3caead95",
   "metadata": {},
   "outputs": [],
   "source": [
    "df.loc[:, 'Дата рождения']"
   ]
  },
  {
   "cell_type": "code",
   "execution_count": null,
   "id": "825d442a",
   "metadata": {},
   "outputs": [],
   "source": [
    "df.iloc[:, 3]"
   ]
  },
  {
   "cell_type": "code",
   "execution_count": null,
   "id": "6d419b0c",
   "metadata": {},
   "outputs": [],
   "source": [
    "df.iloc[:, [3]]"
   ]
  },
  {
   "cell_type": "code",
   "execution_count": null,
   "id": "0b89d529",
   "metadata": {},
   "outputs": [],
   "source": [
    "df.loc[:, ['Дата рождения']]"
   ]
  },
  {
   "cell_type": "code",
   "execution_count": null,
   "id": "b1814fd9",
   "metadata": {},
   "outputs": [],
   "source": []
  },
  {
   "cell_type": "code",
   "execution_count": null,
   "id": "af2fd987",
   "metadata": {},
   "outputs": [],
   "source": [
    "df.iloc[:, -3:]"
   ]
  },
  {
   "cell_type": "code",
   "execution_count": null,
   "id": "b8fa5696",
   "metadata": {},
   "outputs": [],
   "source": []
  },
  {
   "cell_type": "markdown",
   "id": "17dfced3",
   "metadata": {},
   "source": [
    "**Выбираем отдельные ячейки**"
   ]
  },
  {
   "cell_type": "code",
   "execution_count": null,
   "id": "836fc7f3",
   "metadata": {},
   "outputs": [],
   "source": [
    "df.loc['Алексеев', 'Имя']"
   ]
  },
  {
   "cell_type": "code",
   "execution_count": null,
   "id": "93777bfb",
   "metadata": {},
   "outputs": [],
   "source": [
    "df.iloc[1, 0]"
   ]
  },
  {
   "cell_type": "code",
   "execution_count": null,
   "id": "efd5f9df",
   "metadata": {},
   "outputs": [],
   "source": []
  },
  {
   "cell_type": "markdown",
   "id": "b07d0e4d",
   "metadata": {},
   "source": [
    "#### Обращение к мультииндексу"
   ]
  },
  {
   "cell_type": "code",
   "execution_count": 41,
   "id": "6d0c7596",
   "metadata": {},
   "outputs": [
    {
     "data": {
      "text/html": [
       "<div>\n",
       "<style scoped>\n",
       "    .dataframe tbody tr th:only-of-type {\n",
       "        vertical-align: middle;\n",
       "    }\n",
       "\n",
       "    .dataframe tbody tr th {\n",
       "        vertical-align: top;\n",
       "    }\n",
       "\n",
       "    .dataframe thead tr th {\n",
       "        text-align: left;\n",
       "    }\n",
       "\n",
       "    .dataframe thead tr:last-of-type th {\n",
       "        text-align: right;\n",
       "    }\n",
       "</style>\n",
       "<table border=\"1\" class=\"dataframe\">\n",
       "  <thead>\n",
       "    <tr>\n",
       "      <th></th>\n",
       "      <th></th>\n",
       "      <th colspan=\"3\" halign=\"left\">число товаров в чеке</th>\n",
       "      <th colspan=\"3\" halign=\"left\">id чека</th>\n",
       "      <th>check_id</th>\n",
       "    </tr>\n",
       "    <tr>\n",
       "      <th></th>\n",
       "      <th></th>\n",
       "      <th>минимум</th>\n",
       "      <th>максимум</th>\n",
       "      <th>среднее</th>\n",
       "      <th>минимум</th>\n",
       "      <th>максимум</th>\n",
       "      <th>среднее</th>\n",
       "      <th>количество</th>\n",
       "    </tr>\n",
       "    <tr>\n",
       "      <th>month_end_date</th>\n",
       "      <th>customer_id</th>\n",
       "      <th></th>\n",
       "      <th></th>\n",
       "      <th></th>\n",
       "      <th></th>\n",
       "      <th></th>\n",
       "      <th></th>\n",
       "      <th></th>\n",
       "    </tr>\n",
       "  </thead>\n",
       "  <tbody>\n",
       "    <tr>\n",
       "      <th rowspan=\"11\" valign=\"top\">2021-01-31</th>\n",
       "      <th>98</th>\n",
       "      <td>2</td>\n",
       "      <td>2</td>\n",
       "      <td>2.0</td>\n",
       "      <td>5260.0</td>\n",
       "      <td>5260.0</td>\n",
       "      <td>5260.0</td>\n",
       "      <td>1</td>\n",
       "    </tr>\n",
       "    <tr>\n",
       "      <th>2939</th>\n",
       "      <td>2</td>\n",
       "      <td>2</td>\n",
       "      <td>2.0</td>\n",
       "      <td>4599.8</td>\n",
       "      <td>4599.8</td>\n",
       "      <td>4599.8</td>\n",
       "      <td>1</td>\n",
       "    </tr>\n",
       "    <tr>\n",
       "      <th>3577</th>\n",
       "      <td>2</td>\n",
       "      <td>2</td>\n",
       "      <td>2.0</td>\n",
       "      <td>3075.0</td>\n",
       "      <td>3075.0</td>\n",
       "      <td>3075.0</td>\n",
       "      <td>1</td>\n",
       "    </tr>\n",
       "    <tr>\n",
       "      <th>4443</th>\n",
       "      <td>1</td>\n",
       "      <td>1</td>\n",
       "      <td>1.0</td>\n",
       "      <td>7099.9</td>\n",
       "      <td>7099.9</td>\n",
       "      <td>7099.9</td>\n",
       "      <td>1</td>\n",
       "    </tr>\n",
       "    <tr>\n",
       "      <th>6436</th>\n",
       "      <td>3</td>\n",
       "      <td>3</td>\n",
       "      <td>3.0</td>\n",
       "      <td>12199.8</td>\n",
       "      <td>12199.8</td>\n",
       "      <td>12199.8</td>\n",
       "      <td>1</td>\n",
       "    </tr>\n",
       "    <tr>\n",
       "      <th>...</th>\n",
       "      <td>...</td>\n",
       "      <td>...</td>\n",
       "      <td>...</td>\n",
       "      <td>...</td>\n",
       "      <td>...</td>\n",
       "      <td>...</td>\n",
       "      <td>...</td>\n",
       "    </tr>\n",
       "    <tr>\n",
       "      <th>390068</th>\n",
       "      <td>1</td>\n",
       "      <td>1</td>\n",
       "      <td>1.0</td>\n",
       "      <td>8499.9</td>\n",
       "      <td>8499.9</td>\n",
       "      <td>8499.9</td>\n",
       "      <td>1</td>\n",
       "    </tr>\n",
       "    <tr>\n",
       "      <th>390069</th>\n",
       "      <td>1</td>\n",
       "      <td>1</td>\n",
       "      <td>1.0</td>\n",
       "      <td>3099.9</td>\n",
       "      <td>3099.9</td>\n",
       "      <td>3099.9</td>\n",
       "      <td>1</td>\n",
       "    </tr>\n",
       "    <tr>\n",
       "      <th>390070</th>\n",
       "      <td>3</td>\n",
       "      <td>3</td>\n",
       "      <td>3.0</td>\n",
       "      <td>7904.9</td>\n",
       "      <td>7904.9</td>\n",
       "      <td>7904.9</td>\n",
       "      <td>1</td>\n",
       "    </tr>\n",
       "    <tr>\n",
       "      <th>390071</th>\n",
       "      <td>2</td>\n",
       "      <td>2</td>\n",
       "      <td>2.0</td>\n",
       "      <td>5399.8</td>\n",
       "      <td>5399.8</td>\n",
       "      <td>5399.8</td>\n",
       "      <td>1</td>\n",
       "    </tr>\n",
       "    <tr>\n",
       "      <th>390072</th>\n",
       "      <td>2</td>\n",
       "      <td>2</td>\n",
       "      <td>2.0</td>\n",
       "      <td>3399.8</td>\n",
       "      <td>3399.8</td>\n",
       "      <td>3399.8</td>\n",
       "      <td>1</td>\n",
       "    </tr>\n",
       "  </tbody>\n",
       "</table>\n",
       "<p>430 rows × 7 columns</p>\n",
       "</div>"
      ],
      "text/plain": [
       "                           число товаров в чеке                   id чека  \\\n",
       "                                        минимум максимум среднее  минимум   \n",
       "month_end_date customer_id                                                  \n",
       "2021-01-31     98                             2        2     2.0   5260.0   \n",
       "               2939                           2        2     2.0   4599.8   \n",
       "               3577                           2        2     2.0   3075.0   \n",
       "               4443                           1        1     1.0   7099.9   \n",
       "               6436                           3        3     3.0  12199.8   \n",
       "...                                         ...      ...     ...      ...   \n",
       "               390068                         1        1     1.0   8499.9   \n",
       "               390069                         1        1     1.0   3099.9   \n",
       "               390070                         3        3     3.0   7904.9   \n",
       "               390071                         2        2     2.0   5399.8   \n",
       "               390072                         2        2     2.0   3399.8   \n",
       "\n",
       "                                               check_id  \n",
       "                           максимум  среднее количество  \n",
       "month_end_date customer_id                               \n",
       "2021-01-31     98            5260.0   5260.0          1  \n",
       "               2939          4599.8   4599.8          1  \n",
       "               3577          3075.0   3075.0          1  \n",
       "               4443          7099.9   7099.9          1  \n",
       "               6436         12199.8  12199.8          1  \n",
       "...                             ...      ...        ...  \n",
       "               390068        8499.9   8499.9          1  \n",
       "               390069        3099.9   3099.9          1  \n",
       "               390070        7904.9   7904.9          1  \n",
       "               390071        5399.8   5399.8          1  \n",
       "               390072        3399.8   3399.8          1  \n",
       "\n",
       "[430 rows x 7 columns]"
      ]
     },
     "execution_count": 41,
     "metadata": {},
     "output_type": "execute_result"
    }
   ],
   "source": [
    "(pd.read_parquet(path_sales_2021)\n",
    "             \n",
    "    [['check_id', 'customer_id', 'purchase_date', 'shop_id',\n",
    "     'product_code_3', 'price', 'goods_number']]\n",
    "\n",
    "    .assign(month_end_date = lambda x: x['purchase_date'].dt.normalize()\n",
    "            + pd.offsets.MonthEnd(0))\n",
    "\n",
    "    .assign(price_mul_number = lambda x: x['price'] * x['goods_number'])\n",
    " \n",
    "    .groupby(['customer_id', 'month_end_date', 'check_id'])\n",
    "    [['price_mul_number', 'goods_number']]\n",
    "    \n",
    "    .sum()\n",
    "    .reset_index()\n",
    "    .groupby(['month_end_date', 'customer_id'])\n",
    "    .agg({'goods_number': ['min', 'max', 'mean'],\n",
    "          'price_mul_number': ['min', 'max', 'mean'],\n",
    "          'check_id': 'count'})\n",
    "    .rename({'goods_number': 'число товаров в чеке',\n",
    "            'total_sum_per_check': 'cумма покупки',\n",
    "            'price_mul_number': 'id чека',\n",
    "            'min': 'минимум',\n",
    "            'max': 'максимум',\n",
    "            'mean': 'среднее',\n",
    "            'count': 'количество'}, axis=1)\n",
    "    \n",
    " \n",
    ")"
   ]
  },
  {
   "cell_type": "code",
   "execution_count": 36,
   "id": "1a8fe583",
   "metadata": {},
   "outputs": [
    {
     "data": {
      "text/html": [
       "<div>\n",
       "<style scoped>\n",
       "    .dataframe tbody tr th:only-of-type {\n",
       "        vertical-align: middle;\n",
       "    }\n",
       "\n",
       "    .dataframe tbody tr th {\n",
       "        vertical-align: top;\n",
       "    }\n",
       "\n",
       "    .dataframe thead tr th {\n",
       "        text-align: left;\n",
       "    }\n",
       "\n",
       "    .dataframe thead tr:last-of-type th {\n",
       "        text-align: right;\n",
       "    }\n",
       "</style>\n",
       "<table border=\"1\" class=\"dataframe\">\n",
       "  <thead>\n",
       "    <tr>\n",
       "      <th></th>\n",
       "      <th></th>\n",
       "      <th colspan=\"3\" halign=\"left\">число товаров в чеке</th>\n",
       "      <th colspan=\"3\" halign=\"left\">cумма покупки</th>\n",
       "      <th>id чека</th>\n",
       "    </tr>\n",
       "    <tr>\n",
       "      <th></th>\n",
       "      <th></th>\n",
       "      <th>минимум</th>\n",
       "      <th>максимум</th>\n",
       "      <th>среднее</th>\n",
       "      <th>минимум</th>\n",
       "      <th>максимум</th>\n",
       "      <th>среднее</th>\n",
       "      <th>количество</th>\n",
       "    </tr>\n",
       "    <tr>\n",
       "      <th>месяц</th>\n",
       "      <th>id клиента</th>\n",
       "      <th></th>\n",
       "      <th></th>\n",
       "      <th></th>\n",
       "      <th></th>\n",
       "      <th></th>\n",
       "      <th></th>\n",
       "      <th></th>\n",
       "    </tr>\n",
       "  </thead>\n",
       "  <tbody>\n",
       "    <tr>\n",
       "      <th rowspan=\"5\" valign=\"top\">2021-01-31</th>\n",
       "      <th>98</th>\n",
       "      <td>2</td>\n",
       "      <td>2</td>\n",
       "      <td>2.0</td>\n",
       "      <td>5260.0</td>\n",
       "      <td>5260.0</td>\n",
       "      <td>5260.0</td>\n",
       "      <td>1</td>\n",
       "    </tr>\n",
       "    <tr>\n",
       "      <th>2939</th>\n",
       "      <td>2</td>\n",
       "      <td>2</td>\n",
       "      <td>2.0</td>\n",
       "      <td>4599.8</td>\n",
       "      <td>4599.8</td>\n",
       "      <td>4599.8</td>\n",
       "      <td>1</td>\n",
       "    </tr>\n",
       "    <tr>\n",
       "      <th>3577</th>\n",
       "      <td>2</td>\n",
       "      <td>2</td>\n",
       "      <td>2.0</td>\n",
       "      <td>3075.0</td>\n",
       "      <td>3075.0</td>\n",
       "      <td>3075.0</td>\n",
       "      <td>1</td>\n",
       "    </tr>\n",
       "    <tr>\n",
       "      <th>4443</th>\n",
       "      <td>1</td>\n",
       "      <td>1</td>\n",
       "      <td>1.0</td>\n",
       "      <td>7099.9</td>\n",
       "      <td>7099.9</td>\n",
       "      <td>7099.9</td>\n",
       "      <td>1</td>\n",
       "    </tr>\n",
       "    <tr>\n",
       "      <th>6436</th>\n",
       "      <td>3</td>\n",
       "      <td>3</td>\n",
       "      <td>3.0</td>\n",
       "      <td>12199.8</td>\n",
       "      <td>12199.8</td>\n",
       "      <td>12199.8</td>\n",
       "      <td>1</td>\n",
       "    </tr>\n",
       "  </tbody>\n",
       "</table>\n",
       "</div>"
      ],
      "text/plain": [
       "                      число товаров в чеке                  cумма покупки  \\\n",
       "                                   минимум максимум среднее       минимум   \n",
       "месяц      id клиента                                                       \n",
       "2021-01-31 98                            2        2     2.0        5260.0   \n",
       "           2939                          2        2     2.0        4599.8   \n",
       "           3577                          2        2     2.0        3075.0   \n",
       "           4443                          1        1     1.0        7099.9   \n",
       "           6436                          3        3     3.0       12199.8   \n",
       "\n",
       "                                           id чека  \n",
       "                      максимум  среднее количество  \n",
       "месяц      id клиента                               \n",
       "2021-01-31 98           5260.0   5260.0          1  \n",
       "           2939         4599.8   4599.8          1  \n",
       "           3577         3075.0   3075.0          1  \n",
       "           4443         7099.9   7099.9          1  \n",
       "           6436        12199.8  12199.8          1  "
      ]
     },
     "execution_count": 36,
     "metadata": {},
     "output_type": "execute_result"
    }
   ],
   "source": [
    "path_sales_2021 = '../tables/sales_2021.parquet' if os.path.exists('../tables/sales.parquet') else \"https://drive.google.com/uc?id=1Xy4a_aAnTAG5fzsQDdwYiQxpNYRMyLkr\"\n",
    "# В видео была немного дуругая таблица\n",
    "sales_agg = (pd.read_parquet(path_sales_2021)\n",
    "             \n",
    "    [['check_id', 'customer_id', 'purchase_date', 'shop_id',\n",
    "     'product_code_3', 'price', 'goods_number']]\n",
    "             \n",
    "    .assign(month_end_date = lambda x: x['purchase_date'].dt.normalize()\n",
    "            + pd.offsets.MonthEnd(0))\n",
    "\n",
    "    .assign(price_mul_number = lambda x: x['price'] * x['goods_number'])\n",
    "             \n",
    "    .assign(total_goods_per_check = lambda x: x\n",
    "            .groupby('check_id')['goods_number'].transform('sum'))\n",
    "\n",
    "    .assign(total_sum_per_check = lambda x: x\n",
    "            .groupby('check_id')['price_mul_number'].transform('sum'))\n",
    "\n",
    "    [['customer_id', 'month_end_date', 'total_goods_per_check',\n",
    "      'total_sum_per_check', 'check_id']]\n",
    "             \n",
    "    .drop_duplicates()\n",
    "             \n",
    "    .groupby(['month_end_date', 'customer_id'])\n",
    "             \n",
    "    .agg({'total_goods_per_check': ['min', 'max', 'mean'],\n",
    "          'total_sum_per_check': ['min', 'max', 'mean'],\n",
    "          'check_id': 'count'})\n",
    "             \n",
    "    .rename({'total_goods_per_check': 'число товаров в чеке',\n",
    "            'total_sum_per_check': 'cумма покупки',\n",
    "            'check_id': 'id чека',\n",
    "            'min': 'минимум',\n",
    "            'max': 'максимум',\n",
    "            'mean': 'среднее',\n",
    "            'count': 'количество'}, axis=1)\n",
    "             \n",
    "    .rename_axis(['месяц', 'id клиента'])\n",
    "    .head()\n",
    ")\n",
    "sales_agg"
   ]
  },
  {
   "cell_type": "markdown",
   "id": "b7fbfb77",
   "metadata": {},
   "source": [
    "#### Метод iloc работает так же как и раньше"
   ]
  },
  {
   "cell_type": "code",
   "execution_count": null,
   "id": "300d9c8d",
   "metadata": {},
   "outputs": [],
   "source": [
    "sales_agg.iloc[0]"
   ]
  },
  {
   "cell_type": "markdown",
   "id": "98360d76",
   "metadata": {},
   "source": [
    "Чтобы получить первую строку, указываем сначала первый индекс, а затем второй индекс в круглых скобках"
   ]
  },
  {
   "cell_type": "code",
   "execution_count": null,
   "id": "e29d275e",
   "metadata": {},
   "outputs": [],
   "source": [
    "sales_agg.loc[('2021-01-31', 98)]"
   ]
  },
  {
   "cell_type": "markdown",
   "id": "b97eb0ee",
   "metadata": {},
   "source": [
    "Выбираем колонку"
   ]
  },
  {
   "cell_type": "code",
   "execution_count": null,
   "id": "f6c7a71e",
   "metadata": {},
   "outputs": [],
   "source": [
    "sales_agg.loc[:, ('cумма покупки', 'максимум')]"
   ]
  },
  {
   "cell_type": "code",
   "execution_count": null,
   "id": "4b6f5687",
   "metadata": {},
   "outputs": [],
   "source": []
  },
  {
   "cell_type": "code",
   "execution_count": null,
   "id": "809207d2",
   "metadata": {},
   "outputs": [],
   "source": []
  },
  {
   "cell_type": "code",
   "execution_count": null,
   "id": "30f098e6",
   "metadata": {},
   "outputs": [],
   "source": []
  },
  {
   "cell_type": "code",
   "execution_count": null,
   "id": "6890ee6d",
   "metadata": {},
   "outputs": [],
   "source": []
  },
  {
   "cell_type": "markdown",
   "id": "207898a7",
   "metadata": {},
   "source": [
    "#### Выбор нескольких колонок"
   ]
  },
  {
   "cell_type": "code",
   "execution_count": null,
   "id": "09860b11",
   "metadata": {},
   "outputs": [],
   "source": [
    "sales_agg"
   ]
  },
  {
   "cell_type": "markdown",
   "id": "83dfbeb9",
   "metadata": {},
   "source": [
    "Как кортеж списков. Первый список это названия из верхнего уровня колонок, а второй список это названия из нижнего уровня колонок"
   ]
  },
  {
   "cell_type": "code",
   "execution_count": null,
   "id": "b6cdad63",
   "metadata": {},
   "outputs": [],
   "source": [
    "sales_agg.loc[:, (['cумма покупки', 'число товаров в чеке'], ['минимум', 'максимум'])]"
   ]
  },
  {
   "cell_type": "markdown",
   "id": "8559c24f",
   "metadata": {},
   "source": [
    "Как список кортежей. В каждом кортеже пара верхнего и нежнего уровней"
   ]
  },
  {
   "cell_type": "code",
   "execution_count": null,
   "id": "ffafdb1e",
   "metadata": {},
   "outputs": [],
   "source": [
    "sales_agg.loc[:, [('cумма покупки', 'минимум'), ('число товаров в чеке', 'максимум')]]"
   ]
  },
  {
   "cell_type": "code",
   "execution_count": null,
   "id": "bb3d88bb",
   "metadata": {},
   "outputs": [],
   "source": []
  },
  {
   "cell_type": "code",
   "execution_count": null,
   "id": "aa33805c",
   "metadata": {},
   "outputs": [],
   "source": []
  },
  {
   "cell_type": "code",
   "execution_count": null,
   "id": "420c0a79",
   "metadata": {},
   "outputs": [],
   "source": []
  },
  {
   "cell_type": "code",
   "execution_count": null,
   "id": "a9b42bb9",
   "metadata": {},
   "outputs": [],
   "source": []
  },
  {
   "cell_type": "markdown",
   "id": "f472527c",
   "metadata": {},
   "source": [
    "### Присваивание новых значений"
   ]
  },
  {
   "cell_type": "code",
   "execution_count": null,
   "id": "fe8ccc22",
   "metadata": {},
   "outputs": [],
   "source": [
    "df"
   ]
  },
  {
   "cell_type": "code",
   "execution_count": null,
   "id": "0e1916cf",
   "metadata": {},
   "outputs": [],
   "source": [
    "df.iloc[:, 5] = 'M'\n",
    "df"
   ]
  },
  {
   "cell_type": "code",
   "execution_count": null,
   "id": "5ab25cef",
   "metadata": {},
   "outputs": [],
   "source": [
    "df.iloc[4, 5] = 'S'\n",
    "df"
   ]
  },
  {
   "cell_type": "code",
   "execution_count": null,
   "id": "30041264",
   "metadata": {},
   "outputs": [],
   "source": [
    "df.loc[:, 'size'] = ['L', 'L', 'S', 'M', 'XXL', 'M', 'XL']"
   ]
  },
  {
   "cell_type": "code",
   "execution_count": null,
   "id": "f556b3af",
   "metadata": {},
   "outputs": [],
   "source": [
    "df"
   ]
  },
  {
   "cell_type": "markdown",
   "id": "86c8ff68",
   "metadata": {},
   "source": [
    "**При помощи метода loc можно создавать новые колонки и строки**"
   ]
  },
  {
   "cell_type": "code",
   "execution_count": null,
   "id": "aec8e037",
   "metadata": {},
   "outputs": [],
   "source": [
    "df.loc[:, 'n_children'] = df['Число детей'] * 2\n",
    "df"
   ]
  },
  {
   "cell_type": "code",
   "execution_count": null,
   "id": "d8178b3d",
   "metadata": {},
   "outputs": [],
   "source": []
  },
  {
   "cell_type": "code",
   "execution_count": null,
   "id": "3e32e7a3",
   "metadata": {},
   "outputs": [],
   "source": []
  },
  {
   "cell_type": "code",
   "execution_count": null,
   "id": "e4abf18a",
   "metadata": {},
   "outputs": [],
   "source": []
  },
  {
   "cell_type": "code",
   "execution_count": null,
   "id": "bedf13dc",
   "metadata": {},
   "outputs": [],
   "source": []
  },
  {
   "cell_type": "code",
   "execution_count": null,
   "id": "36eee82a",
   "metadata": {},
   "outputs": [],
   "source": []
  },
  {
   "cell_type": "code",
   "execution_count": null,
   "id": "46c53975",
   "metadata": {},
   "outputs": [],
   "source": []
  },
  {
   "cell_type": "code",
   "execution_count": null,
   "id": "1be2d05a",
   "metadata": {},
   "outputs": [],
   "source": []
  },
  {
   "cell_type": "markdown",
   "id": "0627b6da",
   "metadata": {},
   "source": [
    "### Пара слов про numpy"
   ]
  },
  {
   "cell_type": "code",
   "execution_count": null,
   "id": "93107dbd",
   "metadata": {},
   "outputs": [],
   "source": [
    "np.arange(20).reshape(-1, 4)"
   ]
  },
  {
   "cell_type": "markdown",
   "id": "b04cdde6",
   "metadata": {},
   "source": [
    "#### [] работают так же как и метод iloc у таблиц"
   ]
  },
  {
   "cell_type": "code",
   "execution_count": null,
   "id": "2aaab994",
   "metadata": {},
   "outputs": [],
   "source": [
    "np.arange(20).reshape(-1, 4)[3]"
   ]
  },
  {
   "cell_type": "code",
   "execution_count": null,
   "id": "6d3237e3",
   "metadata": {},
   "outputs": [],
   "source": [
    "np.arange(20).reshape(-1, 4)[:, 2]"
   ]
  },
  {
   "cell_type": "code",
   "execution_count": null,
   "id": "4a9c9a52",
   "metadata": {},
   "outputs": [],
   "source": [
    "np.arange(20).reshape(-1, 4)[1, 1]"
   ]
  },
  {
   "cell_type": "code",
   "execution_count": null,
   "id": "5b8139aa",
   "metadata": {},
   "outputs": [],
   "source": []
  },
  {
   "cell_type": "code",
   "execution_count": null,
   "id": "776d1386",
   "metadata": {},
   "outputs": [],
   "source": []
  },
  {
   "cell_type": "code",
   "execution_count": null,
   "id": "5f0b198a",
   "metadata": {},
   "outputs": [],
   "source": []
  },
  {
   "cell_type": "code",
   "execution_count": null,
   "id": "17bfe619",
   "metadata": {},
   "outputs": [],
   "source": []
  },
  {
   "cell_type": "code",
   "execution_count": null,
   "id": "3ffde1ba",
   "metadata": {},
   "outputs": [],
   "source": []
  },
  {
   "cell_type": "code",
   "execution_count": null,
   "id": "f97509e0",
   "metadata": {},
   "outputs": [],
   "source": []
  },
  {
   "cell_type": "code",
   "execution_count": null,
   "id": "d8ab6395",
   "metadata": {},
   "outputs": [],
   "source": []
  },
  {
   "cell_type": "code",
   "execution_count": null,
   "id": "6bb40a54",
   "metadata": {},
   "outputs": [],
   "source": []
  },
  {
   "cell_type": "code",
   "execution_count": null,
   "id": "fbaf57d2",
   "metadata": {},
   "outputs": [],
   "source": []
  },
  {
   "cell_type": "code",
   "execution_count": null,
   "id": "5eb69be1",
   "metadata": {},
   "outputs": [],
   "source": []
  },
  {
   "cell_type": "code",
   "execution_count": null,
   "id": "8329a39b",
   "metadata": {},
   "outputs": [],
   "source": []
  },
  {
   "cell_type": "markdown",
   "id": "1a4b1486",
   "metadata": {},
   "source": [
    "# Обращение через атрибут класса"
   ]
  },
  {
   "cell_type": "code",
   "execution_count": null,
   "id": "ee4604ec",
   "metadata": {},
   "outputs": [],
   "source": [
    "df"
   ]
  },
  {
   "cell_type": "code",
   "execution_count": null,
   "id": "3090c08e",
   "metadata": {},
   "outputs": [],
   "source": [
    "df.n_children"
   ]
  },
  {
   "cell_type": "code",
   "execution_count": null,
   "id": "f30e8eff",
   "metadata": {},
   "outputs": [],
   "source": [
    "df.Имя"
   ]
  },
  {
   "cell_type": "code",
   "execution_count": null,
   "id": "e09aa598",
   "metadata": {},
   "outputs": [],
   "source": [
    "df.size"
   ]
  },
  {
   "cell_type": "code",
   "execution_count": null,
   "id": "bfcf8959",
   "metadata": {},
   "outputs": [],
   "source": [
    "df.n_children"
   ]
  },
  {
   "cell_type": "code",
   "execution_count": null,
   "id": "0c5603ff",
   "metadata": {},
   "outputs": [],
   "source": [
    "df.n_children = 1"
   ]
  },
  {
   "cell_type": "code",
   "execution_count": null,
   "id": "30dc7d36",
   "metadata": {},
   "outputs": [],
   "source": [
    "df"
   ]
  },
  {
   "cell_type": "code",
   "execution_count": null,
   "id": "03b5a464",
   "metadata": {},
   "outputs": [],
   "source": [
    "df.one = 1"
   ]
  },
  {
   "cell_type": "code",
   "execution_count": null,
   "id": "575bb5ca",
   "metadata": {},
   "outputs": [],
   "source": [
    "df"
   ]
  },
  {
   "cell_type": "code",
   "execution_count": null,
   "id": "59532c7a",
   "metadata": {},
   "outputs": [],
   "source": [
    "df.one"
   ]
  },
  {
   "cell_type": "code",
   "execution_count": null,
   "id": "d4b9081e",
   "metadata": {},
   "outputs": [],
   "source": []
  },
  {
   "cell_type": "code",
   "execution_count": null,
   "id": "53c44d45",
   "metadata": {},
   "outputs": [],
   "source": []
  },
  {
   "cell_type": "code",
   "execution_count": null,
   "id": "a0eae05f",
   "metadata": {},
   "outputs": [],
   "source": []
  },
  {
   "cell_type": "code",
   "execution_count": null,
   "id": "cf36f1f8",
   "metadata": {},
   "outputs": [],
   "source": []
  },
  {
   "cell_type": "code",
   "execution_count": null,
   "id": "4935044e",
   "metadata": {},
   "outputs": [],
   "source": []
  },
  {
   "cell_type": "markdown",
   "id": "c8fee822",
   "metadata": {},
   "source": [
    "### Метод item()"
   ]
  },
  {
   "cell_type": "markdown",
   "id": "8be33aa7",
   "metadata": {},
   "source": [
    "Когда в объекте Series всего один элемент, его можно получить при помощи метода item"
   ]
  },
  {
   "cell_type": "code",
   "execution_count": null,
   "id": "81e42d18",
   "metadata": {},
   "outputs": [],
   "source": [
    "pd.Series(1)"
   ]
  },
  {
   "cell_type": "code",
   "execution_count": null,
   "id": "18b88cd8",
   "metadata": {},
   "outputs": [],
   "source": [
    "pd.Series(1).item()"
   ]
  },
  {
   "cell_type": "code",
   "execution_count": null,
   "id": "c1aced99",
   "metadata": {},
   "outputs": [],
   "source": [
    "pd.Series(1)[0]"
   ]
  },
  {
   "cell_type": "code",
   "execution_count": null,
   "id": "bfd6308e",
   "metadata": {},
   "outputs": [],
   "source": []
  },
  {
   "cell_type": "code",
   "execution_count": null,
   "id": "1582ed5b",
   "metadata": {},
   "outputs": [],
   "source": []
  },
  {
   "cell_type": "code",
   "execution_count": null,
   "id": "ca8d7db8",
   "metadata": {},
   "outputs": [],
   "source": []
  },
  {
   "cell_type": "code",
   "execution_count": null,
   "id": "40655f8a",
   "metadata": {},
   "outputs": [],
   "source": []
  },
  {
   "cell_type": "code",
   "execution_count": null,
   "id": "2971e107",
   "metadata": {},
   "outputs": [],
   "source": []
  },
  {
   "cell_type": "code",
   "execution_count": null,
   "id": "d5adb0e6",
   "metadata": {},
   "outputs": [],
   "source": []
  },
  {
   "cell_type": "code",
   "execution_count": null,
   "id": "1ccb6e6b",
   "metadata": {},
   "outputs": [],
   "source": []
  },
  {
   "cell_type": "code",
   "execution_count": null,
   "id": "92e6c49f",
   "metadata": {},
   "outputs": [],
   "source": []
  },
  {
   "cell_type": "code",
   "execution_count": null,
   "id": "803d715e",
   "metadata": {},
   "outputs": [],
   "source": []
  },
  {
   "cell_type": "code",
   "execution_count": null,
   "id": "0a0a51cc",
   "metadata": {},
   "outputs": [],
   "source": []
  },
  {
   "cell_type": "markdown",
   "id": "003318e6",
   "metadata": {},
   "source": [
    "# Задания"
   ]
  },
  {
   "cell_type": "markdown",
   "id": "7b1c10e7",
   "metadata": {},
   "source": [
    "#### Описание таблиц лежит [здесь](https://github.com/victorlymarev/pandas/tree/main/tables#%D0%BE%D0%BF%D0%B8%D1%81%D0%B0%D0%BD%D0%B8%D0%B5-%D1%82%D0%B0%D0%B1%D0%BB%D0%B8%D1%86)"
   ]
  },
  {
   "cell_type": "markdown",
   "id": "0237fea4",
   "metadata": {},
   "source": [
    "Некоторые таблицы занимают много памяти, поэтому каждые 5-10 заданий лучше перезапускайте ноутбук.\n",
    "\n",
    "В формулировке некоторых заданий может содержаться вариативность. Если у вас есть сомнения, что требуется в задании, попробуйте решить несколько вариантов. Если вы не понимаете задание, можете написать об этом в комментариях под видео.\n",
    "\n",
    "В большинстве случаев внешний вид итоговой таблицы не определен. Выведите на экран наиболее адекватный вариант. То есть таблицу, из которой можно будет сделать выводы.\n",
    "\n",
    "Курс пока находится в разработке. Вы можете помочь другим людям добавив свое решение [сюда](https://docs.google.com/forms/d/1HYTBz_KfssY3Jps2dC3n0YnEqa6WBb5OIhLo1d32Xzw/edit).\n",
    "\n",
    "Посмотреть решения других людей можно [здесь](https://docs.google.com/spreadsheets/d/1pMDYO-9UneLbPPnEuQ2shig0TOJdQTU-zipifyAnZMk/edit?resourcekey#gid=1998648012)"
   ]
  },
  {
   "cell_type": "markdown",
   "id": "aabf821b",
   "metadata": {},
   "source": [
    "### Задание 1\n",
    "\n",
    "Из таблицы goods_descr выберите колонки ['product_code_3', 'gender', 'is_one_size', 'product_type', 'size_long']"
   ]
  },
  {
   "cell_type": "code",
   "execution_count": null,
   "id": "ce203eac",
   "metadata": {},
   "outputs": [],
   "source": [
    "import os\n",
    "import pandas as pd\n",
    "\n",
    "path_goods_descr = '../tables/goods_description.parquet' if os.path.exists('../tables/goods_description.parquet') else 'https://drive.google.com/uc?id=1YbiD02Rev-X_WWV9nPSG1zZFmEh2JjPh'\n",
    "\n",
    "goods_descr = pd.read_parquet(path_goods_descr)\n",
    "goods_descr.head()"
   ]
  },
  {
   "cell_type": "code",
   "execution_count": null,
   "id": "88038463",
   "metadata": {},
   "outputs": [],
   "source": [
    "# Напишите свой код здесь"
   ]
  },
  {
   "cell_type": "markdown",
   "id": "0a990d9b",
   "metadata": {},
   "source": [
    "### Задание 2\n",
    "\n",
    "С помощью метода drop удалите из таблицы sales колонки cashier и shop_assistant\t"
   ]
  },
  {
   "cell_type": "code",
   "execution_count": null,
   "id": "c3ab6b62",
   "metadata": {},
   "outputs": [],
   "source": [
    "import os\n",
    "import pandas as pd\n",
    "\n",
    "path_sales_2022 = '../tables/sales_2022.parquet' if os.path.exists('../tables/sales_2022.parquet') else 'https://drive.google.com/uc?id=17e7FwXVdsWc2aziK9s5KidIvPcfKt9F5'\n",
    "\n",
    "sales = pd.read_parquet(path_sales_2022)\n",
    "sales.head()"
   ]
  },
  {
   "cell_type": "code",
   "execution_count": null,
   "id": "891e11d3",
   "metadata": {},
   "outputs": [],
   "source": [
    "# Напишите свой код здесь"
   ]
  },
  {
   "cell_type": "markdown",
   "id": "939e9cea",
   "metadata": {},
   "source": [
    "### Задание 3\n",
    "\n",
    "Из таблицы sales возьмите первые 6 колонок.\n",
    "\n",
    "Можете сдалать это любым способом, но в данном случае это удобно сделать методом iloc[] "
   ]
  },
  {
   "cell_type": "code",
   "execution_count": null,
   "id": "dbc12f20",
   "metadata": {},
   "outputs": [],
   "source": [
    "import os\n",
    "import pandas as pd\n",
    "\n",
    "path_sales_2022 = '../tables/sales_2022.parquet' if os.path.exists('../tables/sales_2022.parquet') else 'https://drive.google.com/uc?id=17e7FwXVdsWc2aziK9s5KidIvPcfKt9F5'\n",
    "\n",
    "sales = pd.read_parquet(path_sales_2022)\n",
    "sales.head()"
   ]
  },
  {
   "cell_type": "code",
   "execution_count": null,
   "id": "8dd9ecc3",
   "metadata": {},
   "outputs": [],
   "source": [
    "# Напишите свой код здесь"
   ]
  },
  {
   "cell_type": "markdown",
   "id": "52c4c30a",
   "metadata": {},
   "source": [
    "### Задание 4\n",
    "\n",
    "В таблице marks_6d при помощи метода assign создайте колонку состоящую из единиц. Дайте ей название indicator\n",
    "\n",
    "Иногда такие колонки удобно создавать перед соединением двух таблиц, чтобы в уже соединенной таблице понимать, какие наблюдения берутся из одной таблицы, а какие из другой"
   ]
  },
  {
   "cell_type": "code",
   "execution_count": null,
   "id": "d6394bc7",
   "metadata": {},
   "outputs": [],
   "source": [
    "import os\n",
    "import pandas as pd\n",
    "path_marks_6d = '../tables/оценки 6Д.csv' if os.path.exists('../tables/оценки 6Д.csv') else 'https://drive.google.com/uc?id=1aMvwur2zrISbVPRo86qWgbHPEpw5km0n'\n",
    "marks_6d = pd.read_csv(path_marks_6d)\n",
    "marks_6d.head()"
   ]
  },
  {
   "cell_type": "code",
   "execution_count": null,
   "id": "2af9b404",
   "metadata": {},
   "outputs": [],
   "source": [
    "# Напишите свой код здесь"
   ]
  },
  {
   "cell_type": "markdown",
   "id": "a31e9402",
   "metadata": {},
   "source": [
    "### Задание 5\n",
    "\n",
    "В таблице empl при помощи метода assign создайте колонку fio_copy, которая будет содержать в себе копию колонки fio"
   ]
  },
  {
   "cell_type": "code",
   "execution_count": null,
   "id": "3fdbc3df",
   "metadata": {},
   "outputs": [],
   "source": [
    "import os\n",
    "import pandas as pd\n",
    "\n",
    "path_empl = '../tables/employees.parquet' if os.path.exists('../tables/employees.parquet') else 'https://drive.google.com/uc?id=1AARD5-eVlCxoApt5CYZebrC3Cqw42lvj'\n",
    "\n",
    "empl = pd.read_parquet(path_empl)\n",
    "empl.head()"
   ]
  },
  {
   "cell_type": "code",
   "execution_count": null,
   "id": "0011ed8d",
   "metadata": {},
   "outputs": [],
   "source": [
    "# Напишите свой код здесь"
   ]
  },
  {
   "cell_type": "markdown",
   "id": "0f83cc0b",
   "metadata": {},
   "source": [
    "### Задание 6\n",
    "\n",
    "Задание на numpy\n",
    "\n",
    "С помощью функции np.eye можно созадавать матрицу, у которой по диагонали лежат единицы. Однако у матрицы 2 диагонали. Сделайте так, чтобы в единичной матрице 6 на 6 единицы шли не из верхнего левого угла в нижний правый, а из нижнего левого в верхний правый угол.\n",
    "\n",
    "Чтобы это сделать необходимо развернуть матрицу (взять все элементы с шагом -1)"
   ]
  },
  {
   "cell_type": "code",
   "execution_count": null,
   "id": "46a9cdc3",
   "metadata": {},
   "outputs": [],
   "source": [
    "import numpy as np\n",
    "# надо из такой матрицы сделать\n",
    "np.eye(3)"
   ]
  },
  {
   "cell_type": "code",
   "execution_count": null,
   "id": "57c86621",
   "metadata": {},
   "outputs": [],
   "source": [
    "# вот такую, только размером 6 на 6\n",
    "np.array([[0., 0., 1.],\n",
    "          [0., 1., 0.],\n",
    "          [1., 0., 0.]])"
   ]
  },
  {
   "cell_type": "code",
   "execution_count": null,
   "id": "6d098b4d",
   "metadata": {},
   "outputs": [],
   "source": [
    "# Напишите свой код здесь"
   ]
  },
  {
   "cell_type": "markdown",
   "id": "e359747c",
   "metadata": {},
   "source": [
    "### Задание 7\n",
    "\n",
    "Задание на numpy\n",
    "\n",
    "Вы уже знаете, как отразить матрицу в вдоль диагонали выходящей из верхнего левого угла. Для этого необходимо ее транспонировать. Теперь попробуйте отражить ее по другой диагонали"
   ]
  },
  {
   "cell_type": "code",
   "execution_count": null,
   "id": "edbc9757",
   "metadata": {},
   "outputs": [],
   "source": [
    "import numpy as np\n",
    "np.random.seed(234)\n",
    "matrix = np.random.randint(0, 10, (3, 5))\n",
    "matrix"
   ]
  },
  {
   "cell_type": "code",
   "execution_count": null,
   "id": "7bf4159f",
   "metadata": {},
   "outputs": [],
   "source": [
    "# Напишите свой код здесь"
   ]
  },
  {
   "cell_type": "code",
   "execution_count": null,
   "id": "e3cef4a9",
   "metadata": {},
   "outputs": [],
   "source": []
  },
  {
   "cell_type": "code",
   "execution_count": null,
   "id": "d194f7f3",
   "metadata": {},
   "outputs": [],
   "source": []
  },
  {
   "cell_type": "code",
   "execution_count": null,
   "id": "d4c9680a",
   "metadata": {},
   "outputs": [],
   "source": []
  },
  {
   "cell_type": "code",
   "execution_count": null,
   "id": "7bb4a20a",
   "metadata": {},
   "outputs": [],
   "source": []
  }
 ],
 "metadata": {
  "kernelspec": {
   "display_name": "Python 3 (ipykernel)",
   "language": "python",
   "name": "python3"
  },
  "language_info": {
   "codemirror_mode": {
    "name": "ipython",
    "version": 3
   },
   "file_extension": ".py",
   "mimetype": "text/x-python",
   "name": "python",
   "nbconvert_exporter": "python",
   "pygments_lexer": "ipython3",
   "version": "3.11.6"
  }
 },
 "nbformat": 4,
 "nbformat_minor": 5
}
