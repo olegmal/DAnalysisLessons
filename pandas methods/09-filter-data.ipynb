{
 "cells": [
  {
   "cell_type": "markdown",
   "id": "24f2d3a6",
   "metadata": {},
   "source": [
    "<a target=\"_blank\" href=\"https://colab.research.google.com/github/victorlymarev/pandas/blob/main/notebooks/09-filter-data.ipynb\">\n",
    "  <img src=\"https://colab.research.google.com/assets/colab-badge.svg\" alt=\"Open In Colab\"/>\n",
    "</a>"
   ]
  },
  {
   "cell_type": "markdown",
   "id": "0392a62b",
   "metadata": {},
   "source": [
    "# Выбор строк из таблицы и условное присваивание\n",
    "#### [Ссылка на видео](https://youtu.be/XL0Y8q-8vAc)"
   ]
  },
  {
   "cell_type": "code",
   "execution_count": null,
   "id": "11e76d2b",
   "metadata": {},
   "outputs": [],
   "source": [
    "import pandas as pd\n",
    "import numpy as np\n",
    "import os"
   ]
  },
  {
   "cell_type": "markdown",
   "id": "15b39dbc",
   "metadata": {},
   "source": [
    "| Символ   | Значние                                      | Пример   |\n",
    "|:--------:|:--------------------------------------------:|:--------:|\n",
    "| ==       | Равно <br>(проверка на равентсво двух элементов)<br> | 1==1     |\n",
    "| !=       | Не равно                                     | 1 != 2   |\n",
    "| >        | Больше                                       | 5 > 4    |\n",
    "| >=       | Больше или равно                             | 4 >= 1   |\n",
    "| <        | Меньше                                       | 5 < 10   |\n",
    "| <=       | Меньше или равно                             | 8 <= 10  |"
   ]
  },
  {
   "cell_type": "markdown",
   "id": "31627887",
   "metadata": {},
   "source": [
    "#### Проверка на равенство"
   ]
  },
  {
   "cell_type": "code",
   "execution_count": null,
   "id": "0fcc5757",
   "metadata": {},
   "outputs": [],
   "source": [
    "1 == 1"
   ]
  },
  {
   "cell_type": "code",
   "execution_count": null,
   "id": "b72d3d63",
   "metadata": {},
   "outputs": [],
   "source": [
    "1 == 2"
   ]
  },
  {
   "cell_type": "markdown",
   "id": "89f5bf1e",
   "metadata": {},
   "source": [
    "#### Неравенства"
   ]
  },
  {
   "cell_type": "code",
   "execution_count": null,
   "id": "66fe3144",
   "metadata": {},
   "outputs": [],
   "source": [
    "5 != 9"
   ]
  },
  {
   "cell_type": "code",
   "execution_count": null,
   "id": "85257605",
   "metadata": {},
   "outputs": [],
   "source": [
    "6 > 6"
   ]
  },
  {
   "cell_type": "code",
   "execution_count": null,
   "id": "f44a2ef4",
   "metadata": {},
   "outputs": [],
   "source": [
    "6 >= 6"
   ]
  },
  {
   "cell_type": "code",
   "execution_count": null,
   "id": "dd4db7bb",
   "metadata": {},
   "outputs": [],
   "source": [
    "7 < 9"
   ]
  },
  {
   "cell_type": "code",
   "execution_count": null,
   "id": "f1617f4f",
   "metadata": {},
   "outputs": [],
   "source": [
    "10 <= -9"
   ]
  },
  {
   "cell_type": "markdown",
   "id": "a576c7af",
   "metadata": {},
   "source": [
    "#### Сравнение строк"
   ]
  },
  {
   "cell_type": "code",
   "execution_count": null,
   "id": "296b72ee",
   "metadata": {},
   "outputs": [],
   "source": [
    "'pandas' == 'pandas'"
   ]
  },
  {
   "cell_type": "code",
   "execution_count": null,
   "id": "76c56780",
   "metadata": {},
   "outputs": [],
   "source": [
    "'pandas' == 'PANDAS'"
   ]
  },
  {
   "cell_type": "markdown",
   "id": "cdaeebc8",
   "metadata": {},
   "source": [
    "Проверка на вхождение элемента в список"
   ]
  },
  {
   "cell_type": "code",
   "execution_count": null,
   "id": "a59f259f",
   "metadata": {},
   "outputs": [],
   "source": [
    "'a' in 'pandas'"
   ]
  },
  {
   "cell_type": "code",
   "execution_count": null,
   "id": "569c496f",
   "metadata": {},
   "outputs": [],
   "source": [
    "'Катя' in ['Маша', 'Даша', 'Паша']"
   ]
  },
  {
   "cell_type": "code",
   "execution_count": null,
   "id": "163a7e76",
   "metadata": {},
   "outputs": [],
   "source": [
    "'Катя' in ['Маша', 'Даша', 'Катя']"
   ]
  },
  {
   "cell_type": "markdown",
   "id": "31bbd621",
   "metadata": {},
   "source": [
    "#### Сложные условия"
   ]
  },
  {
   "cell_type": "markdown",
   "id": "aa28ab14",
   "metadata": {},
   "source": [
    "1. and - проверка на то, что 2 условия выполняются одновременно\n",
    "2. or - проверка на то, что выполняется хотя бы одно из условий\n",
    "3. not - логическое не (превращает True в False и наоборот)"
   ]
  },
  {
   "cell_type": "code",
   "execution_count": null,
   "id": "a0a7ae33",
   "metadata": {},
   "outputs": [],
   "source": [
    "5 == 5 and 8 == 8"
   ]
  },
  {
   "cell_type": "code",
   "execution_count": null,
   "id": "aeeec18a",
   "metadata": {},
   "outputs": [],
   "source": [
    "5 == 6 and 8 == 8"
   ]
  },
  {
   "cell_type": "code",
   "execution_count": null,
   "id": "964ca16f",
   "metadata": {},
   "outputs": [],
   "source": [
    "6 == 6 or 7 == 90"
   ]
  },
  {
   "cell_type": "code",
   "execution_count": null,
   "id": "11efcd04",
   "metadata": {},
   "outputs": [],
   "source": [
    "6 > 11 or 7 == 90"
   ]
  },
  {
   "cell_type": "code",
   "execution_count": null,
   "id": "5fe08a41",
   "metadata": {},
   "outputs": [],
   "source": [
    "not 45 == 45"
   ]
  },
  {
   "cell_type": "code",
   "execution_count": null,
   "id": "1ca4db77",
   "metadata": {},
   "outputs": [],
   "source": [
    "'Катя' not in ['Маша', 'Даша', 'Катя']"
   ]
  },
  {
   "cell_type": "code",
   "execution_count": null,
   "id": "3a719040",
   "metadata": {},
   "outputs": [],
   "source": []
  },
  {
   "cell_type": "code",
   "execution_count": null,
   "id": "9d3d45f8",
   "metadata": {},
   "outputs": [],
   "source": []
  },
  {
   "cell_type": "code",
   "execution_count": null,
   "id": "43f8000b",
   "metadata": {},
   "outputs": [],
   "source": []
  },
  {
   "cell_type": "code",
   "execution_count": null,
   "id": "9d7b6e15",
   "metadata": {},
   "outputs": [],
   "source": []
  },
  {
   "cell_type": "code",
   "execution_count": null,
   "id": "14c6ef30",
   "metadata": {},
   "outputs": [],
   "source": []
  },
  {
   "cell_type": "code",
   "execution_count": null,
   "id": "9ad3e440",
   "metadata": {},
   "outputs": [],
   "source": []
  },
  {
   "cell_type": "code",
   "execution_count": null,
   "id": "36e999e4",
   "metadata": {},
   "outputs": [],
   "source": []
  },
  {
   "cell_type": "code",
   "execution_count": null,
   "id": "1c671ea2",
   "metadata": {},
   "outputs": [],
   "source": []
  },
  {
   "cell_type": "code",
   "execution_count": null,
   "id": "f6b840a0",
   "metadata": {},
   "outputs": [],
   "source": []
  },
  {
   "cell_type": "code",
   "execution_count": null,
   "id": "926400d6",
   "metadata": {},
   "outputs": [],
   "source": []
  },
  {
   "cell_type": "code",
   "execution_count": null,
   "id": "78a9f719",
   "metadata": {},
   "outputs": [],
   "source": []
  },
  {
   "cell_type": "code",
   "execution_count": null,
   "id": "58c7d516",
   "metadata": {},
   "outputs": [],
   "source": []
  },
  {
   "cell_type": "code",
   "execution_count": null,
   "id": "2038ad43",
   "metadata": {},
   "outputs": [],
   "source": []
  },
  {
   "cell_type": "code",
   "execution_count": null,
   "id": "44f0f6f2",
   "metadata": {},
   "outputs": [],
   "source": []
  },
  {
   "cell_type": "code",
   "execution_count": null,
   "id": "a5364596",
   "metadata": {},
   "outputs": [],
   "source": []
  },
  {
   "cell_type": "code",
   "execution_count": null,
   "id": "db37514b",
   "metadata": {},
   "outputs": [],
   "source": []
  },
  {
   "cell_type": "code",
   "execution_count": null,
   "id": "352d6deb",
   "metadata": {},
   "outputs": [],
   "source": []
  },
  {
   "cell_type": "code",
   "execution_count": null,
   "id": "a5b1f456",
   "metadata": {},
   "outputs": [],
   "source": []
  },
  {
   "cell_type": "code",
   "execution_count": null,
   "id": "edd12482",
   "metadata": {},
   "outputs": [],
   "source": []
  },
  {
   "cell_type": "code",
   "execution_count": null,
   "id": "6eee277b",
   "metadata": {},
   "outputs": [],
   "source": []
  },
  {
   "cell_type": "code",
   "execution_count": null,
   "id": "c266a850",
   "metadata": {},
   "outputs": [],
   "source": []
  },
  {
   "cell_type": "markdown",
   "id": "ceb67dcb",
   "metadata": {},
   "source": [
    "# Условные операции в таблицах"
   ]
  },
  {
   "cell_type": "markdown",
   "id": "d35583b8",
   "metadata": {},
   "source": [
    "| Символ   | Метод                 | Расшифровка                 | Значние                                      |\n",
    "|:--------:|:---------------------:|:---------------------------:|:--------------------------------------------:|\n",
    "| **==**   | **eq**                | **eq**ual                   | Равно (проверка на равентсво двух элементов) |\n",
    "| **!=**   | **ne**                | **n**ot **e**qual           | Не равно                                     |\n",
    "| **>**    | **gt**                | **g**reater **t**han        | Больше                                       |\n",
    "| **>=**   | **ge**                | **g**reater or **e**qual    | Больше или равно                             |\n",
    "| **<**    | **lt**                | **l**ess **t**han           | Меньше                                       |\n",
    "| **<=**   | **le**                | **l**ess or **e**qual       | Меньше или равно                             |\n",
    "|          | **isin**              | is in                       | В (проверка на вхождение)                    |\n",
    "|          | **isna или isnull**   | is na или is null           | Проверка на пропуск                          |\n",
    "|          | **notna или notnull** | not na или not null         | Проверка на непропуск                        |\n",
    "|          | **duplicated**        | duplicated                  | Проверка на дубликат                         |"
   ]
  },
  {
   "cell_type": "code",
   "execution_count": null,
   "id": "a943d1ee",
   "metadata": {},
   "outputs": [],
   "source": [
    "path_empl = '../tables/employees.parquet' if os.path.exists('../tables/employees.parquet') else 'https://drive.google.com/uc?id=1AARD5-eVlCxoApt5CYZebrC3Cqw42lvj'\n",
    "\n",
    "empl = pd.read_parquet(path_empl)\n",
    "empl.head()"
   ]
  },
  {
   "cell_type": "markdown",
   "id": "c89ce4b2",
   "metadata": {},
   "source": [
    "#### Проверка на равенство"
   ]
  },
  {
   "cell_type": "code",
   "execution_count": null,
   "id": "9e6e0994",
   "metadata": {},
   "outputs": [],
   "source": [
    "empl['pos_name']"
   ]
  },
  {
   "cell_type": "code",
   "execution_count": null,
   "id": "401b1d18",
   "metadata": {},
   "outputs": [],
   "source": [
    "empl['pos_name'] == 'Директор магазина'"
   ]
  },
  {
   "cell_type": "code",
   "execution_count": null,
   "id": "343b9a8b",
   "metadata": {},
   "outputs": [],
   "source": [
    "# То же самое, что и в предыдущей ячейке\n",
    "empl['pos_name'].eq('Директор магазина')"
   ]
  },
  {
   "cell_type": "markdown",
   "id": "e3c6301a",
   "metadata": {},
   "source": [
    "То же самое для табельного номера"
   ]
  },
  {
   "cell_type": "code",
   "execution_count": null,
   "id": "15f05baf",
   "metadata": {},
   "outputs": [],
   "source": [
    "empl['i_pernr']"
   ]
  },
  {
   "cell_type": "markdown",
   "id": "0f5daa1a",
   "metadata": {},
   "source": [
    "Чтобы можно было дальше работать с результатом как с обычной колонкой, нужно обернуть выражение в круглые скобки "
   ]
  },
  {
   "cell_type": "code",
   "execution_count": null,
   "id": "70951af7",
   "metadata": {},
   "outputs": [],
   "source": [
    "(empl['i_pernr'] != 1).head()"
   ]
  },
  {
   "cell_type": "code",
   "execution_count": null,
   "id": "30769a90",
   "metadata": {},
   "outputs": [],
   "source": []
  },
  {
   "cell_type": "code",
   "execution_count": null,
   "id": "615ade8f",
   "metadata": {},
   "outputs": [],
   "source": []
  },
  {
   "cell_type": "code",
   "execution_count": null,
   "id": "37495bde",
   "metadata": {},
   "outputs": [],
   "source": []
  },
  {
   "cell_type": "code",
   "execution_count": null,
   "id": "80fd672e",
   "metadata": {},
   "outputs": [],
   "source": []
  },
  {
   "cell_type": "code",
   "execution_count": null,
   "id": "f371725c",
   "metadata": {},
   "outputs": [],
   "source": []
  },
  {
   "cell_type": "code",
   "execution_count": null,
   "id": "c00d7072",
   "metadata": {},
   "outputs": [],
   "source": []
  },
  {
   "cell_type": "markdown",
   "id": "a00f1610",
   "metadata": {},
   "source": [
    "#### Неравенства"
   ]
  },
  {
   "cell_type": "code",
   "execution_count": null,
   "id": "5bb96a06",
   "metadata": {},
   "outputs": [],
   "source": [
    "empl['salary']"
   ]
  },
  {
   "cell_type": "code",
   "execution_count": null,
   "id": "50d89344",
   "metadata": {},
   "outputs": [],
   "source": [
    "empl['salary'] > 30000"
   ]
  },
  {
   "cell_type": "code",
   "execution_count": null,
   "id": "ef918afb",
   "metadata": {},
   "outputs": [],
   "source": []
  },
  {
   "cell_type": "code",
   "execution_count": null,
   "id": "54019c88",
   "metadata": {},
   "outputs": [],
   "source": []
  },
  {
   "cell_type": "code",
   "execution_count": null,
   "id": "c85e0422",
   "metadata": {},
   "outputs": [],
   "source": []
  },
  {
   "cell_type": "markdown",
   "id": "fbe68fd3",
   "metadata": {},
   "source": [
    "#### Выбор дат"
   ]
  },
  {
   "cell_type": "code",
   "execution_count": null,
   "id": "303d6cd4",
   "metadata": {},
   "outputs": [],
   "source": [
    "empl['report_dt']"
   ]
  },
  {
   "cell_type": "code",
   "execution_count": null,
   "id": "60e72818",
   "metadata": {},
   "outputs": [],
   "source": [
    "# дата записывается как строка\n",
    "empl['report_dt'] == '2022-12-31'"
   ]
  },
  {
   "cell_type": "markdown",
   "id": "7c1c700e",
   "metadata": {},
   "source": [
    "#### Чем позднее дата, тем она больше"
   ]
  },
  {
   "cell_type": "code",
   "execution_count": null,
   "id": "dd151133",
   "metadata": {},
   "outputs": [],
   "source": [
    "empl['report_dt'] < '2022-12-31'"
   ]
  },
  {
   "cell_type": "code",
   "execution_count": null,
   "id": "e45a3b04",
   "metadata": {},
   "outputs": [],
   "source": []
  },
  {
   "cell_type": "code",
   "execution_count": null,
   "id": "291c0f65",
   "metadata": {},
   "outputs": [],
   "source": []
  },
  {
   "cell_type": "code",
   "execution_count": null,
   "id": "70705652",
   "metadata": {},
   "outputs": [],
   "source": []
  },
  {
   "cell_type": "code",
   "execution_count": null,
   "id": "6c001192",
   "metadata": {},
   "outputs": [],
   "source": []
  },
  {
   "cell_type": "markdown",
   "id": "2aa81063",
   "metadata": {},
   "source": [
    "#### Проверка на вхождение"
   ]
  },
  {
   "cell_type": "code",
   "execution_count": null,
   "id": "bdf1c356",
   "metadata": {},
   "outputs": [],
   "source": [
    "empl['education']"
   ]
  },
  {
   "cell_type": "code",
   "execution_count": null,
   "id": "f346c7a5",
   "metadata": {},
   "outputs": [],
   "source": [
    "empl['education'] in ['высшее', 'среднее профессиональное']"
   ]
  },
  {
   "cell_type": "code",
   "execution_count": null,
   "id": "56e20cfe",
   "metadata": {},
   "outputs": [],
   "source": [
    "empl['education'].isin(['высшее', 'среднее профессиональное'])"
   ]
  },
  {
   "cell_type": "markdown",
   "id": "34500abb",
   "metadata": {},
   "source": [
    "Оператор in преверяет вхождение элемента в индекс, а не в стобец"
   ]
  },
  {
   "cell_type": "code",
   "execution_count": null,
   "id": "2d93bb5a",
   "metadata": {},
   "outputs": [],
   "source": [
    "'Директор магазина' in empl['pos_name']"
   ]
  },
  {
   "cell_type": "code",
   "execution_count": null,
   "id": "1ca0e92f",
   "metadata": {},
   "outputs": [],
   "source": [
    "empl['pos_name']"
   ]
  },
  {
   "cell_type": "code",
   "execution_count": null,
   "id": "4c5fd00a",
   "metadata": {},
   "outputs": [],
   "source": [
    "'Директор магазина' in empl['pos_name'].tolist()"
   ]
  },
  {
   "cell_type": "code",
   "execution_count": null,
   "id": "308e2404",
   "metadata": {},
   "outputs": [],
   "source": [
    "empl['pos_name'].tolist()"
   ]
  },
  {
   "cell_type": "markdown",
   "id": "436f1567",
   "metadata": {},
   "source": [
    "Проверка вхождения одной строки в другую"
   ]
  },
  {
   "cell_type": "code",
   "execution_count": null,
   "id": "7f2f4151",
   "metadata": {},
   "outputs": [],
   "source": [
    "empl['pos_name'].str.contains(\"магазин\")"
   ]
  },
  {
   "cell_type": "code",
   "execution_count": null,
   "id": "e13d422b",
   "metadata": {},
   "outputs": [],
   "source": []
  },
  {
   "cell_type": "code",
   "execution_count": null,
   "id": "736fcfc8",
   "metadata": {},
   "outputs": [],
   "source": []
  },
  {
   "cell_type": "code",
   "execution_count": null,
   "id": "d07a9c1f",
   "metadata": {},
   "outputs": [],
   "source": []
  },
  {
   "cell_type": "code",
   "execution_count": null,
   "id": "e4d62889",
   "metadata": {},
   "outputs": [],
   "source": []
  },
  {
   "cell_type": "markdown",
   "id": "7ab55784",
   "metadata": {},
   "source": [
    "#### Проверка на то, пропущенно ли значение"
   ]
  },
  {
   "cell_type": "code",
   "execution_count": null,
   "id": "8bdb7cae",
   "metadata": {},
   "outputs": [],
   "source": [
    "empl['employee_evaluation']"
   ]
  },
  {
   "cell_type": "code",
   "execution_count": null,
   "id": "90797679",
   "metadata": {},
   "outputs": [],
   "source": [
    "empl['employee_evaluation'].isna()"
   ]
  },
  {
   "cell_type": "code",
   "execution_count": null,
   "id": "9f492eec",
   "metadata": {},
   "outputs": [],
   "source": [
    "empl['employee_evaluation'].notna()"
   ]
  },
  {
   "cell_type": "code",
   "execution_count": null,
   "id": "0d6c0040",
   "metadata": {},
   "outputs": [],
   "source": [
    "empl['employee_evaluation'].isnull() "
   ]
  },
  {
   "cell_type": "code",
   "execution_count": null,
   "id": "1b0777d1",
   "metadata": {},
   "outputs": [],
   "source": [
    "empl['employee_evaluation'].notnull()"
   ]
  },
  {
   "cell_type": "markdown",
   "id": "81671522",
   "metadata": {},
   "source": [
    "Помимо методов есть аналоги в виде функций с точно такими же названиями"
   ]
  },
  {
   "cell_type": "code",
   "execution_count": null,
   "id": "0322e250",
   "metadata": {},
   "outputs": [],
   "source": [
    "# pd.isna(empl['closest_boss_pos_id'])\n",
    "# pd.isnull(empl['closest_boss_pos_id'])\n",
    "# pd.notnull(empl['closest_boss_pos_id'])\n",
    "# pd.notna(empl['closest_boss_pos_id'])"
   ]
  },
  {
   "cell_type": "code",
   "execution_count": null,
   "id": "aec766a1",
   "metadata": {},
   "outputs": [],
   "source": [
    "pd.isna(None)"
   ]
  },
  {
   "cell_type": "code",
   "execution_count": null,
   "id": "ca412e11",
   "metadata": {},
   "outputs": [],
   "source": []
  },
  {
   "cell_type": "code",
   "execution_count": null,
   "id": "c010518f",
   "metadata": {},
   "outputs": [],
   "source": []
  },
  {
   "cell_type": "code",
   "execution_count": null,
   "id": "f7fc772e",
   "metadata": {},
   "outputs": [],
   "source": []
  },
  {
   "cell_type": "code",
   "execution_count": null,
   "id": "88482a70",
   "metadata": {},
   "outputs": [],
   "source": []
  },
  {
   "cell_type": "code",
   "execution_count": null,
   "id": "d642f114",
   "metadata": {},
   "outputs": [],
   "source": []
  },
  {
   "cell_type": "markdown",
   "id": "b68dd38c",
   "metadata": {},
   "source": [
    "#### Проверка на дубликаты"
   ]
  },
  {
   "cell_type": "code",
   "execution_count": null,
   "id": "577f31a8",
   "metadata": {},
   "outputs": [],
   "source": [
    "# проверка каждой строки на уникальность\n",
    "empl.duplicated()"
   ]
  },
  {
   "cell_type": "code",
   "execution_count": null,
   "id": "1db29384",
   "metadata": {},
   "outputs": [],
   "source": [
    "# Проверка колонки fio на уникальность\n",
    "empl.duplicated('fio')"
   ]
  },
  {
   "cell_type": "code",
   "execution_count": null,
   "id": "55157a50",
   "metadata": {},
   "outputs": [],
   "source": [
    "empl['fio'].duplicated()"
   ]
  },
  {
   "cell_type": "code",
   "execution_count": null,
   "id": "4e25ed7b",
   "metadata": {},
   "outputs": [],
   "source": [
    "# Проверка колонок fio и report_dt на уникальность\n",
    "empl.duplicated(['fio', 'report_dt'])"
   ]
  },
  {
   "cell_type": "code",
   "execution_count": null,
   "id": "63f8e898",
   "metadata": {},
   "outputs": [],
   "source": []
  },
  {
   "cell_type": "code",
   "execution_count": null,
   "id": "eeeda82d",
   "metadata": {},
   "outputs": [],
   "source": []
  },
  {
   "cell_type": "code",
   "execution_count": null,
   "id": "02b8e170",
   "metadata": {},
   "outputs": [],
   "source": []
  },
  {
   "cell_type": "markdown",
   "id": "985e07aa",
   "metadata": {},
   "source": [
    "#### Способы выделения дубликатов"
   ]
  },
  {
   "cell_type": "code",
   "execution_count": null,
   "id": "6e3a0d49",
   "metadata": {},
   "outputs": [],
   "source": [
    "# True если значение встерчечалось в строчках выше\n",
    "empl.duplicated('fio')"
   ]
  },
  {
   "cell_type": "code",
   "execution_count": null,
   "id": "08d56f29",
   "metadata": {},
   "outputs": [],
   "source": [
    "# True если значение встерчечалось в строчках ниже\n",
    "empl.duplicated('fio', keep='last')"
   ]
  },
  {
   "cell_type": "code",
   "execution_count": null,
   "id": "df2646b0",
   "metadata": {},
   "outputs": [],
   "source": [
    "# True если у значения есть дубликат\n",
    "empl.duplicated('fio', keep=False)"
   ]
  },
  {
   "cell_type": "code",
   "execution_count": null,
   "id": "59fc4443",
   "metadata": {},
   "outputs": [],
   "source": []
  },
  {
   "cell_type": "code",
   "execution_count": null,
   "id": "cdbbf4d7",
   "metadata": {},
   "outputs": [],
   "source": []
  },
  {
   "cell_type": "code",
   "execution_count": null,
   "id": "963bbd6d",
   "metadata": {},
   "outputs": [],
   "source": []
  },
  {
   "cell_type": "code",
   "execution_count": null,
   "id": "8140848f",
   "metadata": {},
   "outputs": [],
   "source": []
  },
  {
   "cell_type": "code",
   "execution_count": null,
   "id": "77453580",
   "metadata": {},
   "outputs": [],
   "source": []
  },
  {
   "cell_type": "code",
   "execution_count": null,
   "id": "58ae0fe4",
   "metadata": {},
   "outputs": [],
   "source": []
  },
  {
   "cell_type": "code",
   "execution_count": null,
   "id": "730f2c02",
   "metadata": {},
   "outputs": [],
   "source": []
  },
  {
   "cell_type": "markdown",
   "id": "d5c37c9f",
   "metadata": {},
   "source": [
    "### Проверять условия можно и в датафреймах"
   ]
  },
  {
   "cell_type": "code",
   "execution_count": null,
   "id": "6293257f",
   "metadata": {},
   "outputs": [],
   "source": [
    "path_marks = '../tables/школьные оценки.xlsx' if os.path.exists('../tables/школьные оценки.xlsx') else 'https://drive.google.com/uc?id=1v9kRv1I03CXtQ6vFE4mE3hFAty436qAo'\n",
    "marks = pd.read_excel(path_marks)\n",
    "marks.head()"
   ]
  },
  {
   "cell_type": "code",
   "execution_count": null,
   "id": "ca0c1e47",
   "metadata": {},
   "outputs": [],
   "source": [
    "(marks == 5).head()"
   ]
  },
  {
   "cell_type": "code",
   "execution_count": null,
   "id": "610e4c77",
   "metadata": {},
   "outputs": [],
   "source": []
  },
  {
   "cell_type": "code",
   "execution_count": null,
   "id": "7a89abf8",
   "metadata": {},
   "outputs": [],
   "source": []
  },
  {
   "cell_type": "code",
   "execution_count": null,
   "id": "ba377a01",
   "metadata": {},
   "outputs": [],
   "source": []
  },
  {
   "cell_type": "code",
   "execution_count": null,
   "id": "596fa8fe",
   "metadata": {},
   "outputs": [],
   "source": []
  },
  {
   "cell_type": "markdown",
   "id": "f604ac6b",
   "metadata": {},
   "source": [
    "#### Методы all и any"
   ]
  },
  {
   "cell_type": "code",
   "execution_count": null,
   "id": "45e52f4f",
   "metadata": {},
   "outputs": [],
   "source": [
    "(marks\n",
    "    .drop(columns=['ФИО', 'Пол'])\n",
    "    .isin([4, 5])\n",
    "    .all()\n",
    ")"
   ]
  },
  {
   "cell_type": "code",
   "execution_count": null,
   "id": "9afa2926",
   "metadata": {
    "scrolled": true
   },
   "outputs": [],
   "source": [
    "(marks\n",
    "    .drop(columns=['ФИО', 'Пол'])\n",
    "    .isin([4, 5])\n",
    "    .any()\n",
    ")"
   ]
  },
  {
   "cell_type": "code",
   "execution_count": null,
   "id": "756acb3f",
   "metadata": {},
   "outputs": [],
   "source": [
    "(marks\n",
    "    .drop(columns=['ФИО', 'Пол']) \n",
    "    .isin([4, 5])\n",
    "    .all(axis=1)\n",
    ")"
   ]
  },
  {
   "cell_type": "code",
   "execution_count": null,
   "id": "0efcb999",
   "metadata": {},
   "outputs": [],
   "source": [
    "(marks\n",
    "    .drop(columns=['ФИО', 'Пол'])\n",
    "    .isin([4, 5])\n",
    "    .any(axis=1)\n",
    ")"
   ]
  },
  {
   "cell_type": "code",
   "execution_count": null,
   "id": "7ba86012",
   "metadata": {},
   "outputs": [],
   "source": []
  },
  {
   "cell_type": "code",
   "execution_count": null,
   "id": "66083724",
   "metadata": {},
   "outputs": [],
   "source": []
  },
  {
   "cell_type": "code",
   "execution_count": null,
   "id": "022b912b",
   "metadata": {},
   "outputs": [],
   "source": []
  },
  {
   "cell_type": "code",
   "execution_count": null,
   "id": "e88ce0d9",
   "metadata": {},
   "outputs": [],
   "source": []
  },
  {
   "cell_type": "code",
   "execution_count": null,
   "id": "ca30bceb",
   "metadata": {},
   "outputs": [],
   "source": []
  },
  {
   "cell_type": "markdown",
   "id": "9b30498c",
   "metadata": {},
   "source": [
    "#### Можно сравнивать стобцы таблицы между собой"
   ]
  },
  {
   "cell_type": "code",
   "execution_count": null,
   "id": "0ef7cdcd",
   "metadata": {},
   "outputs": [],
   "source": [
    "marks['Математика'] == marks['Русский язык']"
   ]
  },
  {
   "cell_type": "code",
   "execution_count": null,
   "id": "7daf1749",
   "metadata": {},
   "outputs": [],
   "source": [
    "marks['Математика'] > marks['Русский язык']"
   ]
  },
  {
   "cell_type": "code",
   "execution_count": null,
   "id": "230d9102",
   "metadata": {},
   "outputs": [],
   "source": []
  },
  {
   "cell_type": "code",
   "execution_count": null,
   "id": "46e7beaf",
   "metadata": {},
   "outputs": [],
   "source": []
  },
  {
   "cell_type": "code",
   "execution_count": null,
   "id": "67f674f5",
   "metadata": {},
   "outputs": [],
   "source": []
  },
  {
   "cell_type": "code",
   "execution_count": null,
   "id": "9ffac9a2",
   "metadata": {},
   "outputs": [],
   "source": []
  },
  {
   "cell_type": "code",
   "execution_count": null,
   "id": "3da63e9e",
   "metadata": {},
   "outputs": [],
   "source": []
  },
  {
   "cell_type": "code",
   "execution_count": null,
   "id": "453da775",
   "metadata": {},
   "outputs": [],
   "source": []
  },
  {
   "cell_type": "code",
   "execution_count": null,
   "id": "932a674c",
   "metadata": {},
   "outputs": [],
   "source": []
  },
  {
   "cell_type": "code",
   "execution_count": null,
   "id": "192e9d8a",
   "metadata": {},
   "outputs": [],
   "source": []
  },
  {
   "cell_type": "code",
   "execution_count": null,
   "id": "f89d6c3a",
   "metadata": {},
   "outputs": [],
   "source": []
  },
  {
   "cell_type": "code",
   "execution_count": null,
   "id": "be7efe6a",
   "metadata": {},
   "outputs": [],
   "source": []
  },
  {
   "cell_type": "markdown",
   "id": "2abda190",
   "metadata": {},
   "source": [
    "# Фильтрация строк"
   ]
  },
  {
   "cell_type": "markdown",
   "id": "ca380e91",
   "metadata": {},
   "source": [
    "__df[ ]__\n",
    "\n",
    "__df.loc[ ]__\n",
    "\n",
    "__df.iloc[ ]__"
   ]
  },
  {
   "cell_type": "code",
   "execution_count": null,
   "id": "f6eae9b1",
   "metadata": {},
   "outputs": [],
   "source": [
    "marks['Математика'] == 3"
   ]
  },
  {
   "cell_type": "code",
   "execution_count": null,
   "id": "f88985ea",
   "metadata": {},
   "outputs": [],
   "source": [
    "marks[marks['Математика'] == 3].head(3)"
   ]
  },
  {
   "cell_type": "markdown",
   "id": "611bba84",
   "metadata": {},
   "source": [
    "#### Точно так же можно фильтровать объекты класса Series"
   ]
  },
  {
   "cell_type": "code",
   "execution_count": null,
   "id": "5c605a3a",
   "metadata": {},
   "outputs": [],
   "source": [
    "math = marks['Математика'].copy()\n",
    "math[math >= 4]"
   ]
  },
  {
   "cell_type": "markdown",
   "id": "9b3e4752",
   "metadata": {},
   "source": [
    "Возьмем только отличников по физической культуре"
   ]
  },
  {
   "cell_type": "code",
   "execution_count": null,
   "id": "dcf763fc",
   "metadata": {},
   "outputs": [],
   "source": [
    "marks.loc[marks['Физическая культура'] == 5].head(3)"
   ]
  },
  {
   "cell_type": "markdown",
   "id": "3e6a877d",
   "metadata": {},
   "source": [
    "### Составные условия"
   ]
  },
  {
   "cell_type": "markdown",
   "id": "8527e2fa",
   "metadata": {},
   "source": [
    "1. & - проверка того, что оба условия выполняются\n",
    "2. | - проверка того, что хотя бы одно условие выполняется\n",
    "3. ~ - отрицание (меняет True на False и наоборот)"
   ]
  },
  {
   "cell_type": "code",
   "execution_count": null,
   "id": "28724d0e",
   "metadata": {},
   "outputs": [],
   "source": [
    "# отбираем тех, у кого по математике 5, а по русскому 4\n",
    "marks[(marks['Математика'] == 5) & (marks['Русский язык'] == 4)]"
   ]
  },
  {
   "cell_type": "code",
   "execution_count": null,
   "id": "cc839c8f",
   "metadata": {},
   "outputs": [],
   "source": [
    "# Отбираем тех, у кого хотя бы по одному из двух предметов 5\n",
    "marks[(marks['Математика'] == 5) | (marks['Русский язык'] == 5)].head(3)"
   ]
  },
  {
   "cell_type": "code",
   "execution_count": null,
   "id": "815ed114",
   "metadata": {},
   "outputs": [],
   "source": [
    "# Отбираем тех, у кого по математике не 5\n",
    "marks[~(marks['Математика'] == 5)].head(3)"
   ]
  },
  {
   "cell_type": "code",
   "execution_count": null,
   "id": "8bfeecd2",
   "metadata": {},
   "outputs": [],
   "source": [
    "# Отбираем тех, у кого по математике не 5 и не 4\n",
    "marks[~(marks['Математика'].isin([5, 4]))].head(3)"
   ]
  },
  {
   "cell_type": "markdown",
   "id": "39755275",
   "metadata": {},
   "source": [
    "## Несколько условий нужно писать в скобках"
   ]
  },
  {
   "cell_type": "markdown",
   "id": "662ee324",
   "metadata": {},
   "source": [
    "Если не использовать скобки:"
   ]
  },
  {
   "cell_type": "code",
   "execution_count": null,
   "id": "d522e16b",
   "metadata": {},
   "outputs": [],
   "source": [
    "empl[empl['salary_fork'] == 1 & empl['closest_boss_pos_id'].notnull()].head(3)"
   ]
  },
  {
   "cell_type": "markdown",
   "id": "5076017f",
   "metadata": {},
   "source": [
    "Если использовать скобки (правильный вариант)"
   ]
  },
  {
   "cell_type": "code",
   "execution_count": null,
   "id": "c71d330d",
   "metadata": {
    "scrolled": true
   },
   "outputs": [],
   "source": [
    "empl[(empl['salary_fork'] == 1) & empl['closest_boss_pos_id'].notnull()].head(3)"
   ]
  },
  {
   "cell_type": "markdown",
   "id": "b1e57343",
   "metadata": {},
   "source": [
    "Приоритет у операций и (&), или (|)  выше, чем у операции проверки на равенство"
   ]
  },
  {
   "cell_type": "code",
   "execution_count": null,
   "id": "8379671a",
   "metadata": {},
   "outputs": [],
   "source": [
    "1 == True"
   ]
  },
  {
   "cell_type": "code",
   "execution_count": null,
   "id": "3f941885",
   "metadata": {},
   "outputs": [],
   "source": [
    "0 == False"
   ]
  },
  {
   "cell_type": "markdown",
   "id": "8e3fdd53",
   "metadata": {},
   "source": [
    "Порядок операций, когда мы не используем скобки:"
   ]
  },
  {
   "cell_type": "code",
   "execution_count": null,
   "id": "6c964608",
   "metadata": {},
   "outputs": [],
   "source": [
    "empl['closest_boss_pos_id'].notnull()"
   ]
  },
  {
   "cell_type": "code",
   "execution_count": null,
   "id": "bcbc25d3",
   "metadata": {},
   "outputs": [],
   "source": [
    "cnd = 1 & empl['closest_boss_pos_id'].notnull()\n",
    "\n",
    "# Внутри это условие воспринимается точно так же как\n",
    "True & empl['closest_boss_pos_id'].notnull()"
   ]
  },
  {
   "cell_type": "code",
   "execution_count": null,
   "id": "d1442780",
   "metadata": {},
   "outputs": [],
   "source": [
    "empl[empl['salary_fork'] == 1 & empl['closest_boss_pos_id'].notnull()].head(3)\n",
    "empl[empl['salary_fork'] == (1 & empl['closest_boss_pos_id'].notnull())].head(3)"
   ]
  },
  {
   "cell_type": "code",
   "execution_count": null,
   "id": "0d0f43bb",
   "metadata": {},
   "outputs": [],
   "source": []
  },
  {
   "cell_type": "code",
   "execution_count": null,
   "id": "6ecc680b",
   "metadata": {},
   "outputs": [],
   "source": []
  },
  {
   "cell_type": "code",
   "execution_count": null,
   "id": "2e124a8d",
   "metadata": {},
   "outputs": [],
   "source": []
  },
  {
   "cell_type": "code",
   "execution_count": null,
   "id": "316ca118",
   "metadata": {},
   "outputs": [],
   "source": []
  },
  {
   "cell_type": "markdown",
   "id": "429a905e",
   "metadata": {},
   "source": [
    "# Метод query"
   ]
  },
  {
   "cell_type": "code",
   "execution_count": null,
   "id": "76e17481",
   "metadata": {},
   "outputs": [],
   "source": [
    "empl.query('salary_fork == 1').head(3)"
   ]
  },
  {
   "cell_type": "code",
   "execution_count": null,
   "id": "f3bcaa1e",
   "metadata": {},
   "outputs": [],
   "source": [
    "empl.query('pos_name == \"Продавец-консультант\"').head(3)"
   ]
  },
  {
   "cell_type": "code",
   "execution_count": null,
   "id": "311abaf5",
   "metadata": {},
   "outputs": [],
   "source": [
    "empl.query(\"report_dt == '2022-12-31'\").head(3)"
   ]
  },
  {
   "cell_type": "code",
   "execution_count": null,
   "id": "3432b272",
   "metadata": {},
   "outputs": [],
   "source": [
    "empl.query('report_dt >= \"2021-12-31\"').head(3)"
   ]
  },
  {
   "cell_type": "code",
   "execution_count": null,
   "id": "0428a33a",
   "metadata": {},
   "outputs": [],
   "source": []
  },
  {
   "cell_type": "code",
   "execution_count": null,
   "id": "755e8577",
   "metadata": {},
   "outputs": [],
   "source": []
  },
  {
   "cell_type": "markdown",
   "id": "e9786597",
   "metadata": {},
   "source": [
    "#### Две нижние записи значат одно и то же"
   ]
  },
  {
   "cell_type": "markdown",
   "id": "d674a54d",
   "metadata": {},
   "source": [
    "Внутри метода можно использовать стандартные питоновские операторы"
   ]
  },
  {
   "cell_type": "code",
   "execution_count": null,
   "id": "abd35f8d",
   "metadata": {},
   "outputs": [],
   "source": [
    "empl.query('(report_dt >= \"2021-12-31\") and (pos_name == \"Кассир\")').head(3)"
   ]
  },
  {
   "cell_type": "code",
   "execution_count": null,
   "id": "0736b560",
   "metadata": {},
   "outputs": [],
   "source": [
    "empl.query('(report_dt >= \"2021-12-31\") or not (pos_name == \"Кассир\")').head(3)"
   ]
  },
  {
   "cell_type": "markdown",
   "id": "c564817e",
   "metadata": {},
   "source": [
    "Проверка на вхождение"
   ]
  },
  {
   "cell_type": "code",
   "execution_count": null,
   "id": "a145c987",
   "metadata": {},
   "outputs": [],
   "source": [
    "marks.query('Математика in [3, 4]').head(3)"
   ]
  },
  {
   "cell_type": "code",
   "execution_count": null,
   "id": "24635a8b",
   "metadata": {},
   "outputs": [],
   "source": [
    "empl.query('(report_dt >= \"2021-12-31\") | ~(pos_name == \"Кассир\")').head(3)"
   ]
  },
  {
   "cell_type": "code",
   "execution_count": null,
   "id": "4d4202ec",
   "metadata": {},
   "outputs": [],
   "source": [
    "marks.query('Математика not in [3, 4]').head(3)"
   ]
  },
  {
   "cell_type": "markdown",
   "id": "c8fe217f",
   "metadata": {},
   "source": [
    "Несколько условий, соедиененых союзом и можно записывать в нескольких методах подряд"
   ]
  },
  {
   "cell_type": "code",
   "execution_count": null,
   "id": "561a1f53",
   "metadata": {},
   "outputs": [],
   "source": [
    "(empl\n",
    "    .query('report_dt >= \"2021-12-31\"')\n",
    "    .query('pos_name == \"Кассир\"')\n",
    "    .head(3)\n",
    ")"
   ]
  },
  {
   "cell_type": "code",
   "execution_count": null,
   "id": "b10847d0",
   "metadata": {},
   "outputs": [],
   "source": []
  },
  {
   "cell_type": "code",
   "execution_count": null,
   "id": "fe590e37",
   "metadata": {},
   "outputs": [],
   "source": []
  },
  {
   "cell_type": "markdown",
   "id": "e00fe6de",
   "metadata": {},
   "source": [
    "### Колонка, содержащая пробел выделяется ` (там где ё)"
   ]
  },
  {
   "cell_type": "code",
   "execution_count": null,
   "id": "dd52e98c",
   "metadata": {},
   "outputs": [],
   "source": [
    "marks.query('`Физическая культура` == 5').head(3)"
   ]
  },
  {
   "cell_type": "code",
   "execution_count": null,
   "id": "88740093",
   "metadata": {},
   "outputs": [],
   "source": [
    "marks.query('`Физическая культура` == История').head(3)"
   ]
  },
  {
   "cell_type": "markdown",
   "id": "451b080b",
   "metadata": {},
   "source": [
    "#### Использование переменных"
   ]
  },
  {
   "cell_type": "code",
   "execution_count": null,
   "id": "a09f8a1c",
   "metadata": {},
   "outputs": [],
   "source": [
    "students = [\n",
    "    'Мартынова Елизаваета Фёдоровна',\n",
    "    'Савина Виктория Тимуровна',\n",
    "    'Гладкова Мария Максимовна',\n",
    "    'Лапина Юлия Маратовна',\n",
    "]"
   ]
  },
  {
   "cell_type": "code",
   "execution_count": null,
   "id": "2b0240db",
   "metadata": {},
   "outputs": [],
   "source": [
    "marks.query('ФИО in @students')"
   ]
  },
  {
   "cell_type": "code",
   "execution_count": null,
   "id": "6b753554",
   "metadata": {},
   "outputs": [],
   "source": [
    "marks.query(f'ФИО in {students}')"
   ]
  },
  {
   "cell_type": "code",
   "execution_count": null,
   "id": "4a9ef621",
   "metadata": {},
   "outputs": [],
   "source": [
    "date = '2015-01-31'\n",
    "empl.query('report_dt == @date').head(3)"
   ]
  },
  {
   "cell_type": "code",
   "execution_count": null,
   "id": "a14600ea",
   "metadata": {},
   "outputs": [],
   "source": [
    "date = '2015-01-31'\n",
    "empl.query(f'report_dt == \"{date}\"').head(3)"
   ]
  },
  {
   "cell_type": "code",
   "execution_count": null,
   "id": "90febef7",
   "metadata": {},
   "outputs": [],
   "source": []
  },
  {
   "cell_type": "code",
   "execution_count": null,
   "id": "c03e80c3",
   "metadata": {},
   "outputs": [],
   "source": []
  },
  {
   "cell_type": "code",
   "execution_count": null,
   "id": "e45cf1a4",
   "metadata": {},
   "outputs": [],
   "source": []
  },
  {
   "cell_type": "code",
   "execution_count": null,
   "id": "54f4d560",
   "metadata": {},
   "outputs": [],
   "source": []
  },
  {
   "cell_type": "markdown",
   "id": "927f9801",
   "metadata": {},
   "source": [
    "Можно использовать методы"
   ]
  },
  {
   "cell_type": "code",
   "execution_count": null,
   "id": "174d685d",
   "metadata": {},
   "outputs": [],
   "source": [
    "empl.query('closest_boss_pos_id.isna()').head(3)"
   ]
  },
  {
   "cell_type": "code",
   "execution_count": null,
   "id": "738f516e",
   "metadata": {},
   "outputs": [],
   "source": [
    "marks.query('`Физическая культура`.isin([3, 4])').head(3)"
   ]
  },
  {
   "cell_type": "code",
   "execution_count": null,
   "id": "b003a481",
   "metadata": {},
   "outputs": [],
   "source": [
    "marks.query(\"ФИО.str.contains('Данил')\")"
   ]
  },
  {
   "cell_type": "markdown",
   "id": "d69f3162",
   "metadata": {},
   "source": [
    "Удобно использовать метод query совместно с методом assign"
   ]
  },
  {
   "cell_type": "code",
   "execution_count": null,
   "id": "d197874d",
   "metadata": {},
   "outputs": [],
   "source": [
    "(marks\n",
    "    .assign(math_rus_history_mean = lambda x: \n",
    "            (x[\"Математика\"] + x[\"Русский язык\"] + x[\"История\"]) / 3\n",
    "           )\n",
    "    .query('math_rus_history_mean >= 4')\n",
    "    .drop('math_rus_history_mean', axis=1)\n",
    "    .head(3)\n",
    ")"
   ]
  },
  {
   "cell_type": "markdown",
   "id": "82df33e1",
   "metadata": {},
   "source": [
    "У объектов Series метода query нет. Но их можно переделать в датафрейм"
   ]
  },
  {
   "cell_type": "code",
   "execution_count": null,
   "id": "9e62ddeb",
   "metadata": {},
   "outputs": [],
   "source": [
    "math.to_frame().query('Математика == [4, 5]')['Математика'].head()"
   ]
  },
  {
   "cell_type": "code",
   "execution_count": null,
   "id": "5f3b9acc",
   "metadata": {},
   "outputs": [],
   "source": []
  },
  {
   "cell_type": "code",
   "execution_count": null,
   "id": "0557acb8",
   "metadata": {},
   "outputs": [],
   "source": []
  },
  {
   "cell_type": "code",
   "execution_count": null,
   "id": "44110e55",
   "metadata": {},
   "outputs": [],
   "source": []
  },
  {
   "cell_type": "code",
   "execution_count": null,
   "id": "a874bc20",
   "metadata": {},
   "outputs": [],
   "source": []
  },
  {
   "cell_type": "markdown",
   "id": "298cd899",
   "metadata": {},
   "source": [
    "#### Избавляемся от дубликатов"
   ]
  },
  {
   "cell_type": "markdown",
   "id": "3e48f95c",
   "metadata": {},
   "source": [
    "### В метод loc можно передать функцию, которая на вход принимает датафрейм. Возвращать она должна массив True False"
   ]
  },
  {
   "cell_type": "markdown",
   "id": "e84d6034",
   "metadata": {},
   "source": [
    "Здесь мы хотим вернуть только те строки по стобцам i_pernr и fio, которые представлены в единственном экземпляре"
   ]
  },
  {
   "cell_type": "code",
   "execution_count": null,
   "id": "28f4f8c4",
   "metadata": {},
   "outputs": [],
   "source": [
    "empl.loc[lambda x: ~x.duplicated('i_pernr', keep=False)].head(3)"
   ]
  },
  {
   "cell_type": "markdown",
   "id": "96cac7b4",
   "metadata": {},
   "source": [
    "Метод loc удобно использовать если надо проверить условие на всю строку или на значительную часть строки"
   ]
  },
  {
   "cell_type": "code",
   "execution_count": null,
   "id": "2cd56660",
   "metadata": {},
   "outputs": [],
   "source": [
    "marks.loc[lambda x: x\n",
    "    .drop(columns=['ФИО', 'Пол'])\n",
    "    .isin([5]) # или можно использовать .eq(5)\n",
    "    .all(axis=1)\n",
    "          ]"
   ]
  },
  {
   "cell_type": "markdown",
   "id": "2737ed9d",
   "metadata": {},
   "source": [
    "Правда через query это тоже можно сделать"
   ]
  },
  {
   "cell_type": "code",
   "execution_count": null,
   "id": "73228274",
   "metadata": {},
   "outputs": [],
   "source": [
    "(marks\n",
    "    .assign(otlichik = lambda x: x.drop(columns=['ФИО', 'Пол'])\n",
    "                                    .isin([5]).all(axis=1)\n",
    "           )\n",
    "    .query('otlichik')\n",
    "    .drop('otlichik', axis=1)\n",
    ")"
   ]
  },
  {
   "cell_type": "code",
   "execution_count": null,
   "id": "30a03b37",
   "metadata": {},
   "outputs": [],
   "source": []
  },
  {
   "cell_type": "markdown",
   "id": "d548a05c",
   "metadata": {},
   "source": [
    "### Метод drop_duplicates"
   ]
  },
  {
   "cell_type": "markdown",
   "id": "a20d6265",
   "metadata": {},
   "source": [
    "Оставляем строку если она не встречалась выше в таблице"
   ]
  },
  {
   "cell_type": "code",
   "execution_count": null,
   "id": "4f36b743",
   "metadata": {},
   "outputs": [],
   "source": [
    "empl.drop_duplicates().head(3)"
   ]
  },
  {
   "cell_type": "code",
   "execution_count": null,
   "id": "573893a7",
   "metadata": {},
   "outputs": [],
   "source": [
    "empl.drop_duplicates('i_pernr', keep='first').head(3) # Это значение по умолчанию"
   ]
  },
  {
   "cell_type": "markdown",
   "id": "8b3aec08",
   "metadata": {},
   "source": [
    "Оставляем строку если она не встречалась ниже в таблице"
   ]
  },
  {
   "cell_type": "code",
   "execution_count": null,
   "id": "12077692",
   "metadata": {},
   "outputs": [],
   "source": [
    "empl.drop_duplicates('i_pernr', keep='last').head()"
   ]
  },
  {
   "cell_type": "markdown",
   "id": "e76ab685",
   "metadata": {},
   "source": [
    "Возвращаем только те строки, которые представленны в единственном экземпляре "
   ]
  },
  {
   "cell_type": "code",
   "execution_count": null,
   "id": "c8734d88",
   "metadata": {},
   "outputs": [],
   "source": [
    "empl.drop_duplicates('i_pernr', keep=False).head(3)"
   ]
  },
  {
   "cell_type": "code",
   "execution_count": null,
   "id": "8df19af4",
   "metadata": {},
   "outputs": [],
   "source": []
  },
  {
   "cell_type": "code",
   "execution_count": null,
   "id": "d24b182d",
   "metadata": {},
   "outputs": [],
   "source": []
  },
  {
   "cell_type": "code",
   "execution_count": null,
   "id": "a4e14636",
   "metadata": {},
   "outputs": [],
   "source": []
  },
  {
   "cell_type": "code",
   "execution_count": null,
   "id": "b23197e5",
   "metadata": {},
   "outputs": [],
   "source": []
  },
  {
   "cell_type": "code",
   "execution_count": null,
   "id": "06f3b22a",
   "metadata": {},
   "outputs": [],
   "source": []
  },
  {
   "cell_type": "markdown",
   "id": "d49d6be1",
   "metadata": {},
   "source": [
    "# Присваивание значений на основе условий"
   ]
  },
  {
   "cell_type": "code",
   "execution_count": null,
   "id": "fc3239cb",
   "metadata": {},
   "outputs": [],
   "source": [
    "marks_copy = marks.copy()\n",
    "marks_copy.head()"
   ]
  },
  {
   "cell_type": "code",
   "execution_count": null,
   "id": "969c6fdf",
   "metadata": {},
   "outputs": [],
   "source": [
    "# Условие на то, что человек хорошист\n",
    "condition = (\n",
    "    marks_copy\n",
    "    .drop(columns=['ФИО', 'Пол'])\n",
    "    .isin([4, 5])\n",
    "    .all(axis=1)\n",
    ")\n",
    "condition.head()"
   ]
  },
  {
   "cell_type": "markdown",
   "id": "4ecce1e9",
   "metadata": {},
   "source": [
    "#### Использование атрибута loc"
   ]
  },
  {
   "cell_type": "code",
   "execution_count": null,
   "id": "4929c3de",
   "metadata": {},
   "outputs": [],
   "source": [
    "marks_copy.loc[condition, 'Характеристика'] = 'Учится хорошо'\n",
    "marks_copy.loc[~condition, 'Характеристика'] = 'Учится плохо'\n",
    "marks_copy.head()"
   ]
  },
  {
   "cell_type": "code",
   "execution_count": null,
   "id": "acad3dd0",
   "metadata": {},
   "outputs": [],
   "source": []
  },
  {
   "cell_type": "code",
   "execution_count": null,
   "id": "3f434cc5",
   "metadata": {},
   "outputs": [],
   "source": []
  },
  {
   "cell_type": "code",
   "execution_count": null,
   "id": "5e5c1947",
   "metadata": {},
   "outputs": [],
   "source": []
  },
  {
   "cell_type": "markdown",
   "id": "40cd0e0f",
   "metadata": {},
   "source": [
    "### where"
   ]
  },
  {
   "cell_type": "markdown",
   "id": "700c7f6e",
   "metadata": {},
   "source": [
    "Синсаксис:\n",
    "\n",
    "np.where(условие, значение если условие выполняется, значение если условие не выполняется)"
   ]
  },
  {
   "cell_type": "code",
   "execution_count": null,
   "id": "278d2a7e",
   "metadata": {},
   "outputs": [],
   "source": [
    "np.where(marks.drop(columns=['ФИО', 'Пол']).isin([4, 5]).all(axis=1), # прописываем условие\n",
    "        'Учится хорошо', 'Учится плохо') # Значение если условие выполняется и не выполняется"
   ]
  },
  {
   "cell_type": "code",
   "execution_count": null,
   "id": "b6601611",
   "metadata": {},
   "outputs": [],
   "source": []
  },
  {
   "cell_type": "code",
   "execution_count": null,
   "id": "c49231a6",
   "metadata": {},
   "outputs": [],
   "source": []
  },
  {
   "cell_type": "code",
   "execution_count": null,
   "id": "0780eb1f",
   "metadata": {},
   "outputs": [],
   "source": []
  },
  {
   "cell_type": "code",
   "execution_count": null,
   "id": "fdfcacad",
   "metadata": {},
   "outputs": [],
   "source": [
    "(marks\n",
    "    .assign(characteristic = lambda x: np.where(x.drop(columns=['ФИО', 'Пол'])\n",
    "                                                 .isin([4, 5]).all(axis=1),\n",
    "                                        'Учится хорошо', 'Учится плохо'))\n",
    "    .head()\n",
    ")"
   ]
  },
  {
   "cell_type": "code",
   "execution_count": null,
   "id": "fe76bc5d",
   "metadata": {},
   "outputs": [],
   "source": [
    "(empl\n",
    "    .assign(bonus = lambda x: np.where(x['mgmt_flag']==1,\n",
    "                                       x['salary']*0.2,\n",
    "                                       x['salary']*0.1)\n",
    "           )\n",
    "    .head()\n",
    ")"
   ]
  },
  {
   "cell_type": "code",
   "execution_count": null,
   "id": "7b0fcd9e",
   "metadata": {},
   "outputs": [],
   "source": [
    "(empl\n",
    "    .assign(bonus = lambda x: np.where(x['mgmt_flag']==1,\n",
    "                                       x['salary']*0.2,\n",
    "                                       500)\n",
    "           )\n",
    "    .head()\n",
    ")"
   ]
  },
  {
   "cell_type": "code",
   "execution_count": null,
   "id": "19018b7b",
   "metadata": {},
   "outputs": [],
   "source": []
  },
  {
   "cell_type": "markdown",
   "id": "e04c12b0",
   "metadata": {},
   "source": [
    "### В пандасе есть метод where и mask"
   ]
  },
  {
   "cell_type": "code",
   "execution_count": null,
   "id": "99978f95",
   "metadata": {},
   "outputs": [],
   "source": [
    "empl['salary'].where(empl['mgmt_flag'] == 1, # условие\n",
    "                     empl['salary'] * 0.2) # значение если условие не выполняется\n",
    "# Если условие выполняется, то берется значение из колоноки salary"
   ]
  },
  {
   "cell_type": "code",
   "execution_count": null,
   "id": "984504e1",
   "metadata": {},
   "outputs": [],
   "source": [
    "empl['salary'].mask(empl['mgmt_flag'] == 1, # услвоие\n",
    "                    empl['salary'] * 0.2) # значение если условие выполняется\n",
    "# Если условие не выполняется, то берется значение из колоноки salary"
   ]
  },
  {
   "cell_type": "code",
   "execution_count": null,
   "id": "e4fd4613",
   "metadata": {},
   "outputs": [],
   "source": []
  },
  {
   "cell_type": "markdown",
   "id": "59ea4fd9",
   "metadata": {},
   "source": [
    "#### Внутри методов можно использовать функции"
   ]
  },
  {
   "cell_type": "code",
   "execution_count": null,
   "id": "72d66820",
   "metadata": {},
   "outputs": [],
   "source": [
    "empl['salary'].where(lambda x: x > 35000, # услвоие\n",
    "                     empl['salary'] * 1.2) # значение если условие не выполняется\n",
    "# Если условие выполняется, то берется значение из колоноки salary"
   ]
  },
  {
   "cell_type": "markdown",
   "id": "c9889eca",
   "metadata": {},
   "source": [
    "### select\n",
    "#### Синтаксис:\n",
    "\n",
    "np.select(список условий, список значений, значение если не выполнилось ни одно условие)\n",
    "\n",
    "Длинна списоков с условиями и значениями должна быть равна\n",
    "\n",
    "Условия проверяются в том порядке, в котором они написаны. Если выполнилось одно из условий дальше условия не проверяются"
   ]
  },
  {
   "cell_type": "code",
   "execution_count": null,
   "id": "3379980d",
   "metadata": {},
   "outputs": [],
   "source": [
    "np.select(\n",
    "    [marks.drop(columns=['ФИО', 'Пол']).isin([5]).all(axis=1),\n",
    "    marks.drop(columns=['ФИО', 'Пол']).isin([5, 4]).all(axis=1)],\n",
    "    \n",
    "    ['Отличник', 'Хорошист'], 'Троешник')"
   ]
  },
  {
   "cell_type": "code",
   "execution_count": null,
   "id": "09a5accc",
   "metadata": {},
   "outputs": [],
   "source": [
    "(marks\n",
    "    .assign(characteristics = lambda x: np.select(\n",
    "        [x.drop(columns=['ФИО', 'Пол']).isin([5]).all(axis=1),\n",
    "        x.drop(columns=['ФИО', 'Пол']).isin([5, 4]).all(axis=1)],\n",
    "        ['Отличник', 'Хорошист'], 'Троешник'))\n",
    "    .head()\n",
    ")"
   ]
  },
  {
   "cell_type": "code",
   "execution_count": null,
   "id": "b22ab792",
   "metadata": {},
   "outputs": [],
   "source": [
    "(marks\n",
    "    .assign(characteristics=lambda x: np.select(\n",
    "        [marks.drop(columns=['ФИО', 'Пол']).isin([5]).all(axis=1),\n",
    "        marks.drop(columns=['ФИО', 'Пол']).isin([5, 4]).all(axis=1)],\n",
    "        ['Отличник', 'Хорошист'], 'Троешник'))\n",
    "#     .query('characteristics == \"Отличник\"')\n",
    "    .query('characteristics == \"Хорошист\"')\n",
    "#     .query('characteristics == \"Троешник\"')\n",
    "    .head()\n",
    ")"
   ]
  },
  {
   "cell_type": "code",
   "execution_count": null,
   "id": "351b48d7",
   "metadata": {},
   "outputs": [],
   "source": []
  },
  {
   "cell_type": "markdown",
   "id": "944b72e9",
   "metadata": {},
   "source": [
    "### np.minimum и np.maximum\n",
    "\n",
    "Функции позволяют сравнивать несколько массивов между собой и возвращать минимум/максимум по каждой строке"
   ]
  },
  {
   "cell_type": "code",
   "execution_count": null,
   "id": "e0755cfa",
   "metadata": {},
   "outputs": [],
   "source": [
    "np.minimum(marks['Математика'], marks['История'])"
   ]
  },
  {
   "cell_type": "code",
   "execution_count": null,
   "id": "5bbe60e7",
   "metadata": {},
   "outputs": [],
   "source": [
    "np.minimum(marks['Математика'], marks['История'], marks['Физика'])"
   ]
  },
  {
   "cell_type": "markdown",
   "id": "7f6bfee3",
   "metadata": {},
   "source": [
    "Массив можно сравнивать с константой"
   ]
  },
  {
   "cell_type": "code",
   "execution_count": null,
   "id": "b590e877",
   "metadata": {},
   "outputs": [],
   "source": [
    "np.maximum(marks['Математика'], 4)"
   ]
  },
  {
   "cell_type": "markdown",
   "id": "562d9190",
   "metadata": {},
   "source": [
    "### Clip\n",
    "\n",
    "Позволяет обрезать значния. \n",
    "\n",
    "Все значения ниже указанного числа станут равны указанному числу"
   ]
  },
  {
   "cell_type": "code",
   "execution_count": null,
   "id": "9b368a8c",
   "metadata": {},
   "outputs": [],
   "source": [
    "empl['salary']"
   ]
  },
  {
   "cell_type": "code",
   "execution_count": null,
   "id": "a8acbb44",
   "metadata": {
    "scrolled": true
   },
   "outputs": [],
   "source": [
    "empl['salary'].clip(30000)"
   ]
  },
  {
   "cell_type": "code",
   "execution_count": null,
   "id": "7cb9ba8f",
   "metadata": {},
   "outputs": [],
   "source": [
    "# минималььное значение равно 30000\n",
    "empl['salary'].clip(30000).min()"
   ]
  },
  {
   "cell_type": "markdown",
   "id": "07681e39",
   "metadata": {},
   "source": [
    "Если указать два значения, то все значения выше второго будут тоже обрезаны"
   ]
  },
  {
   "cell_type": "code",
   "execution_count": null,
   "id": "102f32bf",
   "metadata": {},
   "outputs": [],
   "source": [
    "empl['salary'].clip(30000, 90000)"
   ]
  },
  {
   "cell_type": "code",
   "execution_count": null,
   "id": "d00ba33b",
   "metadata": {},
   "outputs": [],
   "source": [
    "empl['salary'].clip(30000, 90000).min()"
   ]
  },
  {
   "cell_type": "code",
   "execution_count": null,
   "id": "4b5b3249",
   "metadata": {},
   "outputs": [],
   "source": [
    "empl['salary'].clip(30000, 90000).max()"
   ]
  },
  {
   "cell_type": "code",
   "execution_count": null,
   "id": "b5c61b36",
   "metadata": {},
   "outputs": [],
   "source": []
  },
  {
   "cell_type": "code",
   "execution_count": null,
   "id": "3ebc4050",
   "metadata": {},
   "outputs": [],
   "source": []
  },
  {
   "cell_type": "code",
   "execution_count": null,
   "id": "64f57247",
   "metadata": {},
   "outputs": [],
   "source": []
  },
  {
   "cell_type": "code",
   "execution_count": null,
   "id": "12737887",
   "metadata": {},
   "outputs": [],
   "source": []
  },
  {
   "cell_type": "code",
   "execution_count": null,
   "id": "0c5dc402",
   "metadata": {},
   "outputs": [],
   "source": []
  },
  {
   "cell_type": "code",
   "execution_count": null,
   "id": "a157cf56",
   "metadata": {},
   "outputs": [],
   "source": []
  },
  {
   "cell_type": "code",
   "execution_count": null,
   "id": "98399ebe",
   "metadata": {},
   "outputs": [],
   "source": []
  },
  {
   "cell_type": "code",
   "execution_count": null,
   "id": "a0231fff",
   "metadata": {},
   "outputs": [],
   "source": []
  },
  {
   "cell_type": "code",
   "execution_count": null,
   "id": "d33a010b",
   "metadata": {},
   "outputs": [],
   "source": []
  },
  {
   "cell_type": "code",
   "execution_count": null,
   "id": "21732e7c",
   "metadata": {},
   "outputs": [],
   "source": []
  },
  {
   "cell_type": "markdown",
   "id": "a63f836b",
   "metadata": {},
   "source": [
    "# Задания"
   ]
  },
  {
   "cell_type": "markdown",
   "id": "4f9e4e88",
   "metadata": {},
   "source": [
    "#### Описание таблиц лежит [здесь](https://github.com/victorlymarev/pandas/tree/main/tables#%D0%BE%D0%BF%D0%B8%D1%81%D0%B0%D0%BD%D0%B8%D0%B5-%D1%82%D0%B0%D0%B1%D0%BB%D0%B8%D1%86)"
   ]
  },
  {
   "cell_type": "markdown",
   "id": "c6da592b",
   "metadata": {},
   "source": [
    "Некоторые таблицы занимают много памяти, поэтому каждые 5-10 заданий лучше перезапускайте ноутбук.\n",
    "\n",
    "В формулировке некоторых заданий может содержаться вариативность. Если у вас есть сомнения, что требуется в задании, попробуйте решить несколько вариантов. Если вы не понимаете задание, можете написать об этом в комментариях под видео.\n",
    "\n",
    "В большинстве случаев внешний вид итоговой таблицы не определен. Выведите на экран наиболее адекватный вариант. То есть таблицу, из которой можно будет сделать выводы.\n",
    "\n",
    "Курс пока находится в разработке. Вы можете помочь другим людям добавив свое решение [сюда](https://docs.google.com/forms/d/1HYTBz_KfssY3Jps2dC3n0YnEqa6WBb5OIhLo1d32Xzw/edit).\n",
    "\n",
    "Посмотреть решения других людей можно [здесь](https://docs.google.com/spreadsheets/d/1pMDYO-9UneLbPPnEuQ2shig0TOJdQTU-zipifyAnZMk/edit?resourcekey#gid=1998648012)"
   ]
  },
  {
   "cell_type": "markdown",
   "id": "736b1487",
   "metadata": {},
   "source": [
    "### Задание 1\n",
    "\n",
    "Из таблицы w_ends выберите выходные дни"
   ]
  },
  {
   "cell_type": "code",
   "execution_count": null,
   "id": "416946ce",
   "metadata": {},
   "outputs": [],
   "source": [
    "import os\n",
    "import pandas as pd\n",
    "\n",
    "path_w_ends = '../tables/выходные.csv' if os.path.exists('../tables/выходные.csv') else 'https://drive.google.com/uc?id=1hAsoXSPTFihFmBuF-E0uSj9pX4gpojwC'\n",
    "\n",
    "w_ends = pd.read_csv(path_w_ends)\n",
    "w_ends.head()"
   ]
  },
  {
   "cell_type": "code",
   "execution_count": null,
   "id": "0c259f44",
   "metadata": {},
   "outputs": [],
   "source": [
    "# Напишите свой код здесь"
   ]
  },
  {
   "cell_type": "markdown",
   "id": "e7dea86f",
   "metadata": {},
   "source": [
    "### Задание 2\n",
    "\n",
    "Выберите строки таблицы stocks, когда минимальная цена была выше 300"
   ]
  },
  {
   "cell_type": "code",
   "execution_count": null,
   "id": "980e77f3",
   "metadata": {},
   "outputs": [],
   "source": [
    "import os\n",
    "import pandas as pd\n",
    "\n",
    "path_stocks = '../tables/stocks.parquet' if os.path.exists('../tables/stocks.parquet') else 'https://drive.google.com/uc?id=1weGquTtmR92mKYAeZhZCFHJjndyoSXZt'\n",
    "\n",
    "stocks = pd.read_parquet(path_stocks)\n",
    "stocks.head()"
   ]
  },
  {
   "cell_type": "code",
   "execution_count": null,
   "id": "c31b499a",
   "metadata": {},
   "outputs": [],
   "source": [
    "# Напишите свой код здесь"
   ]
  },
  {
   "cell_type": "markdown",
   "id": "c1ace1c1",
   "metadata": {},
   "source": [
    "### Задание 3\n",
    "\n",
    "Из таблицы shops выберите магазины из Москвы, Саратова и Оренбурга"
   ]
  },
  {
   "cell_type": "code",
   "execution_count": null,
   "id": "e3bc1bc5",
   "metadata": {},
   "outputs": [],
   "source": [
    "import os\n",
    "import pandas as pd\n",
    "\n",
    "path_shops = '../tables/shops.xlsx' if os.path.exists('../tables/shops.xlsx') else 'https://drive.google.com/uc?id=1gfnmceJa3Mc1X06NftTx9G9QfKfprjEB'\n",
    "\n",
    "shops = pd.read_excel(path_shops)\n",
    "shops"
   ]
  },
  {
   "cell_type": "code",
   "execution_count": null,
   "id": "f2ca96b6",
   "metadata": {},
   "outputs": [],
   "source": [
    "# Напишите свой код здесь"
   ]
  },
  {
   "cell_type": "markdown",
   "id": "ea47a08a",
   "metadata": {},
   "source": [
    "### Задание 4\n",
    "\n",
    "Верно ли что все мелкие магазины расположены вне торговых центров?"
   ]
  },
  {
   "cell_type": "code",
   "execution_count": null,
   "id": "d234ec67",
   "metadata": {},
   "outputs": [],
   "source": [
    "import os\n",
    "import pandas as pd\n",
    "\n",
    "path_shops = '../tables/shops.xlsx' if os.path.exists('../tables/shops.xlsx') else 'https://drive.google.com/uc?id=1gfnmceJa3Mc1X06NftTx9G9QfKfprjEB'\n",
    "\n",
    "shops = pd.read_excel(path_shops)\n",
    "shops"
   ]
  },
  {
   "cell_type": "code",
   "execution_count": null,
   "id": "4c096d6e",
   "metadata": {},
   "outputs": [],
   "source": [
    "# Напишите свой код здесь"
   ]
  },
  {
   "cell_type": "markdown",
   "id": "034ec159",
   "metadata": {},
   "source": [
    "### Задание 5\n",
    "\n",
    "Выведите имена сотрудниковт мужского пола, которые встречаются в таблице empl только 1 раз"
   ]
  },
  {
   "cell_type": "code",
   "execution_count": null,
   "id": "ae35c487",
   "metadata": {},
   "outputs": [],
   "source": [
    "import os\n",
    "import pandas as pd\n",
    "\n",
    "path_empl = '../tables/employees.parquet' if os.path.exists('../tables/employees.parquet') else 'https://drive.google.com/uc?id=1AARD5-eVlCxoApt5CYZebrC3Cqw42lvj'\n",
    "\n",
    "empl = pd.read_parquet(path_empl)\n",
    "empl.head()"
   ]
  },
  {
   "cell_type": "code",
   "execution_count": null,
   "id": "e6791d7f",
   "metadata": {},
   "outputs": [],
   "source": [
    "# Напишите свой код здесь"
   ]
  },
  {
   "cell_type": "markdown",
   "id": "24eb2bb0",
   "metadata": {},
   "source": [
    "### Задание 6\n",
    "\n",
    "Сколько уникальных зарплат было в магазинах 31 марта 2020 года?"
   ]
  },
  {
   "cell_type": "code",
   "execution_count": null,
   "id": "ebc18462",
   "metadata": {},
   "outputs": [],
   "source": [
    "import os\n",
    "import pandas as pd\n",
    "\n",
    "path_empl = '../tables/employees.parquet' if os.path.exists('../tables/employees.parquet') else 'https://drive.google.com/uc?id=1AARD5-eVlCxoApt5CYZebrC3Cqw42lvj'\n",
    "\n",
    "empl = pd.read_parquet(path_empl)\n",
    "empl.head()"
   ]
  },
  {
   "cell_type": "code",
   "execution_count": null,
   "id": "b657d7b3",
   "metadata": {},
   "outputs": [],
   "source": [
    "# Напишите свой код здесь"
   ]
  },
  {
   "cell_type": "markdown",
   "id": "4a192135",
   "metadata": {},
   "source": [
    "### Задание 7\n",
    "\n",
    "Выведите табельные номера (i_pernr) и имена кассиров и старших кассиров, которые когда-либо зарабатывали в магазине менее 20000. В итоговой таблице не должно быть дубликатов"
   ]
  },
  {
   "cell_type": "code",
   "execution_count": null,
   "id": "b236c122",
   "metadata": {},
   "outputs": [],
   "source": [
    "import os\n",
    "import pandas as pd\n",
    "\n",
    "path_empl = '../tables/employees.parquet' if os.path.exists('../tables/employees.parquet') else 'https://drive.google.com/uc?id=1AARD5-eVlCxoApt5CYZebrC3Cqw42lvj'\n",
    "\n",
    "empl = pd.read_parquet(path_empl)\n",
    "empl.head()"
   ]
  },
  {
   "cell_type": "code",
   "execution_count": null,
   "id": "ee089535",
   "metadata": {},
   "outputs": [],
   "source": [
    "# Напишите свой код здесь"
   ]
  },
  {
   "cell_type": "markdown",
   "id": "4ae888db",
   "metadata": {},
   "source": [
    "### Задание 8\n",
    "\n",
    "Выберите тех сотрудников, у которых в июле 2021 года либо не было оценки, либо оценка была выше 7"
   ]
  },
  {
   "cell_type": "code",
   "execution_count": null,
   "id": "7550d047",
   "metadata": {},
   "outputs": [],
   "source": [
    "import os\n",
    "import pandas as pd\n",
    "\n",
    "path_empl = '../tables/employees.parquet' if os.path.exists('../tables/employees.parquet') else 'https://drive.google.com/uc?id=1AARD5-eVlCxoApt5CYZebrC3Cqw42lvj'\n",
    "\n",
    "empl = pd.read_parquet(path_empl)\n",
    "empl.head()"
   ]
  },
  {
   "cell_type": "code",
   "execution_count": null,
   "id": "16252e4f",
   "metadata": {},
   "outputs": [],
   "source": [
    "# Напишите свой код здесь"
   ]
  },
  {
   "cell_type": "markdown",
   "id": "d17dfc36",
   "metadata": {},
   "source": [
    "### Задание 9\n",
    "\n",
    "Создайте колонку est. Она будет принимать значение 'Работает хорошо' если оценка больше или равна 6 и 'Работает полохо' иначе"
   ]
  },
  {
   "cell_type": "code",
   "execution_count": null,
   "id": "7c82e137",
   "metadata": {},
   "outputs": [],
   "source": [
    "import os\n",
    "import pandas as pd\n",
    "\n",
    "path_empl = '../tables/employees.parquet' if os.path.exists('../tables/employees.parquet') else 'https://drive.google.com/uc?id=1AARD5-eVlCxoApt5CYZebrC3Cqw42lvj'\n",
    "\n",
    "empl = pd.read_parquet(path_empl)\n",
    "empl.head()"
   ]
  },
  {
   "cell_type": "code",
   "execution_count": null,
   "id": "ab7da6a9",
   "metadata": {},
   "outputs": [],
   "source": [
    "# Напишите свой код здесь"
   ]
  },
  {
   "cell_type": "markdown",
   "id": "fd20a696",
   "metadata": {},
   "source": [
    "### Задание 10\n",
    "\n",
    "Создайте колонку est. Она будет принимать значение 'Работает хорошо' если оценка больше или равна 6, 'Работает полохо' если  оценка ниже 6 и 'Непонятно' иначе"
   ]
  },
  {
   "cell_type": "code",
   "execution_count": null,
   "id": "21ac0600",
   "metadata": {},
   "outputs": [],
   "source": [
    "import os\n",
    "import pandas as pd\n",
    "\n",
    "path_empl = '../tables/employees.parquet' if os.path.exists('../tables/employees.parquet') else 'https://drive.google.com/uc?id=1AARD5-eVlCxoApt5CYZebrC3Cqw42lvj'\n",
    "\n",
    "empl = pd.read_parquet(path_empl)\n",
    "empl.head()"
   ]
  },
  {
   "cell_type": "code",
   "execution_count": null,
   "id": "48543e04",
   "metadata": {},
   "outputs": [],
   "source": [
    "# Напишите свой код здесь"
   ]
  },
  {
   "cell_type": "markdown",
   "id": "9900f972",
   "metadata": {},
   "source": [
    "### Задание 11\n",
    "\n",
    "Найте минимиальную оценку по русскому языку, математике и истории для каждого школьника"
   ]
  },
  {
   "cell_type": "code",
   "execution_count": null,
   "id": "da2ef8c2",
   "metadata": {},
   "outputs": [],
   "source": [
    "import os\n",
    "import pandas as pd\n",
    "\n",
    "path_marks = '../tables/школьные оценки.xlsx' if os.path.exists('../tables/школьные оценки.xlsx') else 'https://drive.google.com/uc?id=1v9kRv1I03CXtQ6vFE4mE3hFAty436qAo'\n",
    "\n",
    "marks = pd.read_excel(path_marks)\n",
    "marks.head()"
   ]
  },
  {
   "cell_type": "code",
   "execution_count": null,
   "id": "ef50bd49",
   "metadata": {},
   "outputs": [],
   "source": [
    "# Напишите свой код здесь"
   ]
  },
  {
   "cell_type": "markdown",
   "id": "9a6738cf",
   "metadata": {},
   "source": [
    "### Задание 12\n",
    "\n",
    "Проверьте, что день рождения сотрудника (birth_date) и его табельный номер (i_pernr) имеют между собой взаимо однозначное соотвествие. \n",
    " \n",
    "\n",
    "<details>\n",
    "\n",
    "<summary>Подсказка (кликните сюда 1 раз, если не можете решить)</summary>\n",
    " \n",
    "Это можно сделать при помощи метода drop_duplicates. Сначала удалите из таблицы дубликаты по дате рождения и по табельному номеру. Посмотрите сколько строк получилось в таблице. А затем из получившейся таблицы уберите дублиты по табельному номеру. Число строк в таблице не должно измениться\n",
    "\n",
    "</details>"
   ]
  },
  {
   "cell_type": "code",
   "execution_count": null,
   "id": "b5de67d0",
   "metadata": {},
   "outputs": [],
   "source": [
    "import os\n",
    "import pandas as pd\n",
    "\n",
    "path_empl = '../tables/employees.parquet' if os.path.exists('../tables/employees.parquet') else 'https://drive.google.com/uc?id=1AARD5-eVlCxoApt5CYZebrC3Cqw42lvj'\n",
    "\n",
    "empl = pd.read_parquet(path_empl)\n",
    "empl.head()"
   ]
  },
  {
   "cell_type": "code",
   "execution_count": null,
   "id": "3036c42e",
   "metadata": {},
   "outputs": [],
   "source": [
    "# Напишите свой код здесь"
   ]
  },
  {
   "cell_type": "code",
   "execution_count": null,
   "id": "c3b72167",
   "metadata": {},
   "outputs": [],
   "source": []
  },
  {
   "cell_type": "code",
   "execution_count": null,
   "id": "9ab562fb",
   "metadata": {},
   "outputs": [],
   "source": []
  },
  {
   "cell_type": "code",
   "execution_count": null,
   "id": "98c7e7f4",
   "metadata": {},
   "outputs": [],
   "source": []
  },
  {
   "cell_type": "code",
   "execution_count": null,
   "id": "b8309403",
   "metadata": {},
   "outputs": [],
   "source": []
  },
  {
   "cell_type": "code",
   "execution_count": null,
   "id": "06b0b34c",
   "metadata": {},
   "outputs": [],
   "source": []
  }
 ],
 "metadata": {
  "kernelspec": {
   "display_name": "Python 3 (ipykernel)",
   "language": "python",
   "name": "python3"
  },
  "language_info": {
   "codemirror_mode": {
    "name": "ipython",
    "version": 3
   },
   "file_extension": ".py",
   "mimetype": "text/x-python",
   "name": "python",
   "nbconvert_exporter": "python",
   "pygments_lexer": "ipython3",
   "version": "3.11.6"
  }
 },
 "nbformat": 4,
 "nbformat_minor": 5
}
