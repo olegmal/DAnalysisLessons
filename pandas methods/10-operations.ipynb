{
 "cells": [
  {
   "cell_type": "markdown",
   "id": "74ac051a",
   "metadata": {},
   "source": [
    "<a target=\"_blank\" href=\"https://colab.research.google.com/github/victorlymarev/pandas/blob/main/notebooks/10-operations.ipynb\">\n",
    "  <img src=\"https://colab.research.google.com/assets/colab-badge.svg\" alt=\"Open In Colab\"/>\n",
    "</a>"
   ]
  },
  {
   "cell_type": "markdown",
   "id": "2da6f904",
   "metadata": {},
   "source": [
    "# Операции с числами и строками\n",
    "#### [Ссылка на видео](https://youtu.be/km18qCeo99I)"
   ]
  },
  {
   "cell_type": "code",
   "execution_count": null,
   "id": "2a632d18",
   "metadata": {},
   "outputs": [],
   "source": [
    "import pandas as pd\n",
    "import numpy as np"
   ]
  },
  {
   "cell_type": "markdown",
   "id": "04c3b09e",
   "metadata": {},
   "source": [
    "Создаем датафрейм"
   ]
  },
  {
   "cell_type": "code",
   "execution_count": null,
   "id": "f93f2114",
   "metadata": {},
   "outputs": [],
   "source": [
    "df = pd.DataFrame({'Колонка 1': [1, 2, 3, 4, 5, 6],\n",
    "              'Колонка 2': [6, 5, 4, 3, 2, 1],\n",
    "              'Колонка 3': [np.nan, 3, 5, 0, 9, 11],\n",
    "              'Имя': ['Миша', 'Саша', 'Юля',\n",
    "                            'Настя', 'Андрей', 'Катя'],\n",
    "              'Увлечение': ['Баскетбол', 'Хоккей', 'Волейбол',\n",
    "                            'Футбол', 'Counter-Strike', 'Бильярд']\n",
    "             })"
   ]
  },
  {
   "cell_type": "code",
   "execution_count": null,
   "id": "27d9a8cc",
   "metadata": {},
   "outputs": [],
   "source": [
    "df"
   ]
  },
  {
   "cell_type": "markdown",
   "id": "d482f594",
   "metadata": {},
   "source": [
    "# Операции с числами"
   ]
  },
  {
   "cell_type": "markdown",
   "id": "958cf943",
   "metadata": {},
   "source": [
    "| Знак   | Операция              | Метод                 |\n",
    "|:-------|:----------------------|:----------------------|\n",
    "| +      | Сумма                 | add                   |\n",
    "| -      | Разность              | sub                   |\n",
    "| *      | Умножение             | mul                   |\n",
    "| /      | Деление               | div, truediv          |\n",
    "| //     | Целочисленное деление | floordiv              |\n",
    "| %      | Остаток от деления    | mod                   |\n",
    "| **     | Возведение в степень  | pow                   |"
   ]
  },
  {
   "cell_type": "markdown",
   "id": "f670d966",
   "metadata": {},
   "source": [
    "#### Сложение колонки и числа"
   ]
  },
  {
   "cell_type": "markdown",
   "id": "58c86868",
   "metadata": {},
   "source": [
    "Выбирать колонку и присваивать ей значение вы можете как хотите"
   ]
  },
  {
   "cell_type": "code",
   "execution_count": null,
   "id": "1afdce61",
   "metadata": {},
   "outputs": [],
   "source": [
    "# Каждое значение в колонке увеличилось на 1\n",
    "df['Колонка 1'] + 1"
   ]
  },
  {
   "cell_type": "code",
   "execution_count": null,
   "id": "29a7664f",
   "metadata": {},
   "outputs": [],
   "source": [
    "df['Колонка 1'].add(1)"
   ]
  },
  {
   "cell_type": "markdown",
   "id": "bfbf792c",
   "metadata": {},
   "source": [
    "#### Сложение двух колонок"
   ]
  },
  {
   "cell_type": "code",
   "execution_count": null,
   "id": "028202cf",
   "metadata": {},
   "outputs": [],
   "source": [
    "df['Колонка 1'] + df['Колонка 2']"
   ]
  },
  {
   "cell_type": "code",
   "execution_count": null,
   "id": "5f8610a3",
   "metadata": {},
   "outputs": [],
   "source": []
  },
  {
   "cell_type": "code",
   "execution_count": null,
   "id": "831e9178",
   "metadata": {},
   "outputs": [],
   "source": []
  },
  {
   "cell_type": "code",
   "execution_count": null,
   "id": "6eadac7e",
   "metadata": {},
   "outputs": [],
   "source": []
  },
  {
   "cell_type": "markdown",
   "id": "00e4f4a1",
   "metadata": {},
   "source": [
    "#### Сложение колонок с пропущенными значениями"
   ]
  },
  {
   "cell_type": "code",
   "execution_count": null,
   "id": "1fb1a72e",
   "metadata": {},
   "outputs": [],
   "source": [
    "df['Колонка 3']"
   ]
  },
  {
   "cell_type": "markdown",
   "id": "450544ae",
   "metadata": {},
   "source": [
    "#### Пропущенное значение всегда остается пропущенным значением"
   ]
  },
  {
   "cell_type": "code",
   "execution_count": null,
   "id": "8c009b0c",
   "metadata": {},
   "outputs": [],
   "source": [
    "df['Колонка 1'] + df['Колонка 3']"
   ]
  },
  {
   "cell_type": "markdown",
   "id": "143d62b3",
   "metadata": {},
   "source": [
    "#### Часто за пропусками скрываются нули. Заполнить пропуски нулем или каким-то другим значением можно методом fillna(), передав в него значение, которое вы хотите положить на метсто пропусков"
   ]
  },
  {
   "cell_type": "code",
   "execution_count": null,
   "id": "523f1283",
   "metadata": {},
   "outputs": [],
   "source": [
    "df['Колонка 1'] + df['Колонка 3'].fillna(0)"
   ]
  },
  {
   "cell_type": "markdown",
   "id": "aafc697a",
   "metadata": {},
   "source": [
    "Изначально в колонке есть пропуск"
   ]
  },
  {
   "cell_type": "code",
   "execution_count": null,
   "id": "dba6ec2e",
   "metadata": {},
   "outputs": [],
   "source": [
    "df['Колонка 3']"
   ]
  },
  {
   "cell_type": "markdown",
   "id": "23ea7c1a",
   "metadata": {},
   "source": [
    "Мы заполнили его нулем"
   ]
  },
  {
   "cell_type": "code",
   "execution_count": null,
   "id": "89c95136",
   "metadata": {},
   "outputs": [],
   "source": [
    "df['Колонка 3'].fillna(0)"
   ]
  },
  {
   "cell_type": "code",
   "execution_count": null,
   "id": "51672f16",
   "metadata": {},
   "outputs": [],
   "source": []
  },
  {
   "cell_type": "markdown",
   "id": "ecc8f7a5",
   "metadata": {},
   "source": [
    "#### Сопоставление колонок при сложении идет по индексам\n",
    "\n",
    "Проэтому если вы складываете 2 разные таблицы, то проверьте, что в них совпадают индексы"
   ]
  },
  {
   "cell_type": "code",
   "execution_count": null,
   "id": "8826ce1e",
   "metadata": {},
   "outputs": [],
   "source": [
    "# поменяли индексы\n",
    "df['Колонка 1'].set_axis([3, 4, 5, 6, 7, 8])"
   ]
  },
  {
   "cell_type": "code",
   "execution_count": null,
   "id": "8d6ea962",
   "metadata": {},
   "outputs": [],
   "source": [
    "df['Колонка 1'].set_axis([3, 4, 5, 6, 7, 8]) + df['Колонка 2']"
   ]
  },
  {
   "cell_type": "markdown",
   "id": "c87e9161",
   "metadata": {},
   "source": [
    "По этой же причине не допускайте повторяющихся индексов при арифметических операциях"
   ]
  },
  {
   "cell_type": "markdown",
   "id": "ffbab7fd",
   "metadata": {},
   "source": [
    "#### Вычитание"
   ]
  },
  {
   "cell_type": "code",
   "execution_count": null,
   "id": "c817f434",
   "metadata": {},
   "outputs": [],
   "source": [
    "df['Колонка 1'] - 2\n",
    "# df['Колонка 1'].sub(2)"
   ]
  },
  {
   "cell_type": "code",
   "execution_count": null,
   "id": "8fac70ca",
   "metadata": {},
   "outputs": [],
   "source": [
    "2 - df['Колонка 1']\n",
    "# df['Колонка 1'].rsub(2)"
   ]
  },
  {
   "cell_type": "markdown",
   "id": "4553fb5f",
   "metadata": {},
   "source": [
    "Разность двух колонок"
   ]
  },
  {
   "cell_type": "code",
   "execution_count": null,
   "id": "6017a3f8",
   "metadata": {},
   "outputs": [],
   "source": [
    "df['Колонка 1'] - df['Колонка 2']"
   ]
  },
  {
   "cell_type": "markdown",
   "id": "c6aebbe0",
   "metadata": {},
   "source": [
    "#### Умножение"
   ]
  },
  {
   "cell_type": "code",
   "execution_count": null,
   "id": "738f0397",
   "metadata": {},
   "outputs": [],
   "source": [
    "df['Колонка 1'] * 2"
   ]
  },
  {
   "cell_type": "code",
   "execution_count": null,
   "id": "ce967725",
   "metadata": {},
   "outputs": [],
   "source": [
    "df['Колонка 1'] * df['Колонка 2']"
   ]
  },
  {
   "cell_type": "markdown",
   "id": "1ccbee56",
   "metadata": {},
   "source": [
    "#### Деление"
   ]
  },
  {
   "cell_type": "code",
   "execution_count": null,
   "id": "c74eaaea",
   "metadata": {},
   "outputs": [],
   "source": [
    "df['Колонка 1'] / 2"
   ]
  },
  {
   "cell_type": "markdown",
   "id": "aadd931b",
   "metadata": {},
   "source": [
    "При делении на ноль получается знчение inf или NaN"
   ]
  },
  {
   "cell_type": "code",
   "execution_count": null,
   "id": "49693277",
   "metadata": {},
   "outputs": [],
   "source": [
    "df['Колонка 3']"
   ]
  },
  {
   "cell_type": "code",
   "execution_count": null,
   "id": "a2eaab64",
   "metadata": {},
   "outputs": [],
   "source": [
    "df['Колонка 1'] / df['Колонка 3']"
   ]
  },
  {
   "cell_type": "code",
   "execution_count": null,
   "id": "a5b3cf42",
   "metadata": {},
   "outputs": [],
   "source": [
    "(-df['Колонка 1']) / df['Колонка 3']"
   ]
  },
  {
   "cell_type": "code",
   "execution_count": null,
   "id": "0c7ce3f2",
   "metadata": {},
   "outputs": [],
   "source": [
    "(df['Колонка 1'] / df['Колонка 3']) > 1000000000000"
   ]
  },
  {
   "cell_type": "markdown",
   "id": "878682a4",
   "metadata": {},
   "source": [
    "0/0"
   ]
  },
  {
   "cell_type": "code",
   "execution_count": null,
   "id": "6c9cba4e",
   "metadata": {},
   "outputs": [],
   "source": [
    "df['Колонка 3'] / df['Колонка 3']"
   ]
  },
  {
   "cell_type": "markdown",
   "id": "d3408b8f",
   "metadata": {},
   "source": [
    "#### Целочисленное деление"
   ]
  },
  {
   "cell_type": "markdown",
   "id": "f8339a61",
   "metadata": {},
   "source": [
    "5 / 2 = 2, остаток 1    \n",
    "   \n",
    "   \n",
    "делеимое / делитель = частное и остаток от деления"
   ]
  },
  {
   "cell_type": "code",
   "execution_count": null,
   "id": "56a124cc",
   "metadata": {},
   "outputs": [],
   "source": [
    "df['Колонка 1'] // 2"
   ]
  },
  {
   "cell_type": "markdown",
   "id": "1e4eaa17",
   "metadata": {},
   "source": [
    "#### Остаток от деления"
   ]
  },
  {
   "cell_type": "code",
   "execution_count": null,
   "id": "a8480046",
   "metadata": {},
   "outputs": [],
   "source": [
    "df['Колонка 1'] % 2"
   ]
  },
  {
   "cell_type": "markdown",
   "id": "895d491f",
   "metadata": {},
   "source": [
    "#### Возведние в степень"
   ]
  },
  {
   "cell_type": "code",
   "execution_count": null,
   "id": "f3d1e1a9",
   "metadata": {},
   "outputs": [],
   "source": [
    "df['Колонка 1'] ** 2"
   ]
  },
  {
   "cell_type": "code",
   "execution_count": null,
   "id": "60c39e5d",
   "metadata": {},
   "outputs": [],
   "source": [
    "df['Колонка 1'] ** df['Колонка 1']"
   ]
  },
  {
   "cell_type": "markdown",
   "id": "dcb84a63",
   "metadata": {},
   "source": [
    "#### Целые числа нельзя возводить в отрицательную степень"
   ]
  },
  {
   "cell_type": "code",
   "execution_count": null,
   "id": "0e646f19",
   "metadata": {},
   "outputs": [],
   "source": [
    "df['Колонка 1'] ** - 2"
   ]
  },
  {
   "cell_type": "code",
   "execution_count": null,
   "id": "591b4d52",
   "metadata": {},
   "outputs": [],
   "source": [
    "df['Колонка 1'].astype(float) ** -2"
   ]
  },
  {
   "cell_type": "code",
   "execution_count": null,
   "id": "9b4e7c21",
   "metadata": {},
   "outputs": [],
   "source": [
    "1 / df['Колонка 1'] ** 2"
   ]
  },
  {
   "cell_type": "markdown",
   "id": "615b6536",
   "metadata": {},
   "source": [
    "### Арифметические операции определены стандартно, но если что-то непонятно, то лучше ставить скобки"
   ]
  },
  {
   "cell_type": "code",
   "execution_count": null,
   "id": "5e0c087c",
   "metadata": {},
   "outputs": [],
   "source": [
    "((df['Колонка 1'] + df['Колонка 3']) * df['Колонка 2']) ** 0.5"
   ]
  },
  {
   "cell_type": "code",
   "execution_count": null,
   "id": "d6977b2a",
   "metadata": {},
   "outputs": [],
   "source": [
    "df['Колонка 1'] / 2 * 100"
   ]
  },
  {
   "cell_type": "code",
   "execution_count": null,
   "id": "9d3e785c",
   "metadata": {},
   "outputs": [],
   "source": [
    "(df['Колонка 1'] / 2) * 100"
   ]
  },
  {
   "cell_type": "markdown",
   "id": "02337489",
   "metadata": {},
   "source": [
    "#### Когда мы записываем выражение в скобках мы его можем переносить между строк как угодно"
   ]
  },
  {
   "cell_type": "code",
   "execution_count": null,
   "id": "6a88c6fb",
   "metadata": {},
   "outputs": [],
   "source": [
    "(\n",
    "df['Колонка 1']\n",
    "+\n",
    "df['Колонка 1']\n",
    ")"
   ]
  },
  {
   "cell_type": "markdown",
   "id": "6661380d",
   "metadata": {},
   "source": [
    "#### Если мы после выполнения арифметических операций хотим использовать какие-то другие методы, то все выражение мы должны обернуть в круглые скобки"
   ]
  },
  {
   "cell_type": "code",
   "execution_count": null,
   "id": "fca30f3f",
   "metadata": {},
   "outputs": [],
   "source": [
    "(df['Колонка 1'] + df['Колонка 2'])"
   ]
  },
  {
   "cell_type": "code",
   "execution_count": null,
   "id": "88316a0f",
   "metadata": {},
   "outputs": [],
   "source": [
    "(df['Колонка 1'] + df['Колонка 2']).sample(10, replace=True, random_state=9)"
   ]
  },
  {
   "cell_type": "markdown",
   "id": "b569c6fb",
   "metadata": {},
   "source": [
    "Иначе метод sample будет применен только к первому датафрейму"
   ]
  },
  {
   "cell_type": "code",
   "execution_count": null,
   "id": "cb8be895",
   "metadata": {},
   "outputs": [],
   "source": [
    "df['Колонка 1'] + df['Колонка 2'].sample(10, replace=True, random_state=9)"
   ]
  },
  {
   "cell_type": "code",
   "execution_count": null,
   "id": "88b51224",
   "metadata": {},
   "outputs": [],
   "source": []
  },
  {
   "cell_type": "code",
   "execution_count": null,
   "id": "ae4d2602",
   "metadata": {},
   "outputs": [],
   "source": []
  },
  {
   "cell_type": "code",
   "execution_count": null,
   "id": "d73b5b9f",
   "metadata": {},
   "outputs": [],
   "source": []
  },
  {
   "cell_type": "code",
   "execution_count": null,
   "id": "abd72a80",
   "metadata": {},
   "outputs": [],
   "source": []
  },
  {
   "cell_type": "code",
   "execution_count": null,
   "id": "8f4a3bdc",
   "metadata": {},
   "outputs": [],
   "source": []
  },
  {
   "cell_type": "code",
   "execution_count": null,
   "id": "41fd98e1",
   "metadata": {},
   "outputs": [],
   "source": []
  },
  {
   "cell_type": "markdown",
   "id": "7669a73c",
   "metadata": {},
   "source": [
    "# Операции со строками"
   ]
  },
  {
   "cell_type": "code",
   "execution_count": null,
   "id": "f6044e91",
   "metadata": {},
   "outputs": [],
   "source": [
    "df['Имя']"
   ]
  },
  {
   "cell_type": "markdown",
   "id": "bc56f276",
   "metadata": {},
   "source": [
    "#### Умножение на целое число"
   ]
  },
  {
   "cell_type": "code",
   "execution_count": null,
   "id": "938eeba7",
   "metadata": {},
   "outputs": [],
   "source": [
    "df['Имя'] * 3"
   ]
  },
  {
   "cell_type": "markdown",
   "id": "c82e352c",
   "metadata": {},
   "source": [
    "#### Сложение двух строк"
   ]
  },
  {
   "cell_type": "code",
   "execution_count": null,
   "id": "6da51c0c",
   "metadata": {},
   "outputs": [],
   "source": [
    "df['Имя'] + ' хороший человек'"
   ]
  },
  {
   "cell_type": "code",
   "execution_count": null,
   "id": "3445576a",
   "metadata": {},
   "outputs": [],
   "source": [
    "df['Имя'] + df['Увлечение']"
   ]
  },
  {
   "cell_type": "code",
   "execution_count": null,
   "id": "a0d7b157",
   "metadata": {},
   "outputs": [],
   "source": [
    "df['Имя'] + ' любит ' + df['Увлечение']"
   ]
  },
  {
   "cell_type": "code",
   "execution_count": null,
   "id": "60b4d554",
   "metadata": {},
   "outputs": [],
   "source": []
  },
  {
   "cell_type": "code",
   "execution_count": null,
   "id": "4dd9604c",
   "metadata": {},
   "outputs": [],
   "source": []
  },
  {
   "cell_type": "code",
   "execution_count": null,
   "id": "bb3782bd",
   "metadata": {},
   "outputs": [],
   "source": []
  },
  {
   "cell_type": "code",
   "execution_count": null,
   "id": "8ba5f358",
   "metadata": {},
   "outputs": [],
   "source": []
  },
  {
   "cell_type": "code",
   "execution_count": null,
   "id": "9bd5e834",
   "metadata": {},
   "outputs": [],
   "source": []
  },
  {
   "cell_type": "code",
   "execution_count": null,
   "id": "aaae2a69",
   "metadata": {},
   "outputs": [],
   "source": []
  },
  {
   "cell_type": "code",
   "execution_count": null,
   "id": "6a7bd7a2",
   "metadata": {},
   "outputs": [],
   "source": []
  },
  {
   "cell_type": "code",
   "execution_count": null,
   "id": "ed689339",
   "metadata": {},
   "outputs": [],
   "source": []
  },
  {
   "cell_type": "code",
   "execution_count": null,
   "id": "5a3aa4a5",
   "metadata": {},
   "outputs": [],
   "source": []
  },
  {
   "cell_type": "code",
   "execution_count": null,
   "id": "b8757bd7",
   "metadata": {},
   "outputs": [],
   "source": []
  },
  {
   "cell_type": "code",
   "execution_count": null,
   "id": "bf02496d",
   "metadata": {},
   "outputs": [],
   "source": []
  },
  {
   "cell_type": "code",
   "execution_count": null,
   "id": "a911da91",
   "metadata": {},
   "outputs": [],
   "source": []
  },
  {
   "cell_type": "code",
   "execution_count": null,
   "id": "d52dab39",
   "metadata": {},
   "outputs": [],
   "source": []
  },
  {
   "cell_type": "code",
   "execution_count": null,
   "id": "e4fca946",
   "metadata": {},
   "outputs": [],
   "source": []
  },
  {
   "cell_type": "code",
   "execution_count": null,
   "id": "597c93e1",
   "metadata": {},
   "outputs": [],
   "source": []
  },
  {
   "cell_type": "code",
   "execution_count": null,
   "id": "a32fc7d2",
   "metadata": {},
   "outputs": [],
   "source": []
  },
  {
   "cell_type": "code",
   "execution_count": null,
   "id": "c048cbe0",
   "metadata": {},
   "outputs": [],
   "source": []
  },
  {
   "cell_type": "markdown",
   "id": "0654409d",
   "metadata": {},
   "source": [
    "# Операции с датафреймами"
   ]
  },
  {
   "cell_type": "markdown",
   "id": "96a54d82",
   "metadata": {},
   "source": [
    "Если операция определена для всех колонок датафрейма, то она может быть применена"
   ]
  },
  {
   "cell_type": "code",
   "execution_count": null,
   "id": "ca32c20d",
   "metadata": {},
   "outputs": [],
   "source": [
    "df * 2"
   ]
  },
  {
   "cell_type": "code",
   "execution_count": null,
   "id": "6d1f5061",
   "metadata": {},
   "outputs": [],
   "source": [
    "df + df + df"
   ]
  },
  {
   "cell_type": "code",
   "execution_count": null,
   "id": "6ebe75fd",
   "metadata": {},
   "outputs": [],
   "source": [
    "df.iloc[:, :3]"
   ]
  },
  {
   "cell_type": "code",
   "execution_count": null,
   "id": "b85ccdee",
   "metadata": {},
   "outputs": [],
   "source": [
    "df.iloc[:, :3] + 1"
   ]
  },
  {
   "cell_type": "code",
   "execution_count": null,
   "id": "a9caca2e",
   "metadata": {},
   "outputs": [],
   "source": [
    "df.iloc[:, :3] * 2"
   ]
  },
  {
   "cell_type": "code",
   "execution_count": null,
   "id": "78fcafc1",
   "metadata": {},
   "outputs": [],
   "source": [
    "df.iloc[:, :3] ** 2"
   ]
  },
  {
   "cell_type": "markdown",
   "id": "42705d37",
   "metadata": {},
   "source": [
    "#### Сложение со списком идет построчно"
   ]
  },
  {
   "cell_type": "code",
   "execution_count": null,
   "id": "a86f8a8d",
   "metadata": {},
   "outputs": [],
   "source": [
    "df.iloc[:, :3] + [100, 10000, 1000000]"
   ]
  },
  {
   "cell_type": "markdown",
   "id": "6c9853e9",
   "metadata": {},
   "source": [
    "Поэтому просто так колонку к датафрему прибавить не получится"
   ]
  },
  {
   "cell_type": "code",
   "execution_count": null,
   "id": "d0534675",
   "metadata": {},
   "outputs": [],
   "source": [
    "df.iloc[:, :3] + df['Колонка 1']"
   ]
  },
  {
   "cell_type": "code",
   "execution_count": null,
   "id": "83518317",
   "metadata": {},
   "outputs": [],
   "source": [
    "df['Колонка 1'].to_numpy().reshape(-1, 1)"
   ]
  },
  {
   "cell_type": "code",
   "execution_count": null,
   "id": "1f018209",
   "metadata": {},
   "outputs": [],
   "source": [
    "df.iloc[:, :3] + df['Колонка 1'].to_numpy().reshape(-1, 1)"
   ]
  },
  {
   "cell_type": "code",
   "execution_count": null,
   "id": "ac586f3f",
   "metadata": {},
   "outputs": [],
   "source": []
  },
  {
   "cell_type": "code",
   "execution_count": null,
   "id": "aec79566",
   "metadata": {},
   "outputs": [],
   "source": []
  },
  {
   "cell_type": "code",
   "execution_count": null,
   "id": "ccd73dbe",
   "metadata": {},
   "outputs": [],
   "source": []
  },
  {
   "cell_type": "code",
   "execution_count": null,
   "id": "2b24c7b9",
   "metadata": {},
   "outputs": [],
   "source": []
  },
  {
   "cell_type": "code",
   "execution_count": null,
   "id": "4740024f",
   "metadata": {},
   "outputs": [],
   "source": []
  },
  {
   "cell_type": "code",
   "execution_count": null,
   "id": "2759e45a",
   "metadata": {},
   "outputs": [],
   "source": []
  },
  {
   "cell_type": "code",
   "execution_count": null,
   "id": "86930f45",
   "metadata": {},
   "outputs": [],
   "source": []
  },
  {
   "cell_type": "code",
   "execution_count": null,
   "id": "d2ead4cb",
   "metadata": {},
   "outputs": [],
   "source": []
  },
  {
   "cell_type": "code",
   "execution_count": null,
   "id": "e63d52bf",
   "metadata": {},
   "outputs": [],
   "source": []
  },
  {
   "cell_type": "markdown",
   "id": "a1906d90",
   "metadata": {},
   "source": [
    "# Операции с векторами и матрицами"
   ]
  },
  {
   "cell_type": "markdown",
   "id": "efc9da46",
   "metadata": {},
   "source": [
    "Создаем 2 матрицы и вектор"
   ]
  },
  {
   "cell_type": "code",
   "execution_count": null,
   "id": "89c5e851",
   "metadata": {},
   "outputs": [],
   "source": [
    "np.random.seed(32)\n",
    "matrix_1 = np.arange(24).reshape(6, -1)\n",
    "matrix_1"
   ]
  },
  {
   "cell_type": "code",
   "execution_count": null,
   "id": "87cb3200",
   "metadata": {},
   "outputs": [],
   "source": [
    "np.random.seed(32)\n",
    "matrix_2 = np.random.randint(10, size=(4, 6))\n",
    "matrix_2"
   ]
  },
  {
   "cell_type": "code",
   "execution_count": null,
   "id": "6ac32cc3",
   "metadata": {},
   "outputs": [],
   "source": [
    "vector = np.arange(4)\n",
    "vector"
   ]
  },
  {
   "cell_type": "markdown",
   "id": "8f75d08f",
   "metadata": {},
   "source": [
    "Все операции определены так же, как и у DataFrame и Series"
   ]
  },
  {
   "cell_type": "code",
   "execution_count": null,
   "id": "54aba467",
   "metadata": {},
   "outputs": [],
   "source": [
    "matrix_1 * 2"
   ]
  },
  {
   "cell_type": "code",
   "execution_count": null,
   "id": "78a7bce6",
   "metadata": {},
   "outputs": [],
   "source": [
    "vector + 10"
   ]
  },
  {
   "cell_type": "code",
   "execution_count": null,
   "id": "d915d52a",
   "metadata": {},
   "outputs": [],
   "source": [
    "matrix_1 + matrix_2.T"
   ]
  },
  {
   "cell_type": "code",
   "execution_count": null,
   "id": "5b5b9b4a",
   "metadata": {},
   "outputs": [],
   "source": [
    "matrix_1 + vector"
   ]
  },
  {
   "cell_type": "code",
   "execution_count": null,
   "id": "37412363",
   "metadata": {},
   "outputs": [],
   "source": [
    "matrix_2 + vector.reshape(-1, 1)"
   ]
  },
  {
   "cell_type": "code",
   "execution_count": null,
   "id": "37f29a24",
   "metadata": {},
   "outputs": [],
   "source": [
    "(matrix_2.T + vector).T"
   ]
  },
  {
   "cell_type": "markdown",
   "id": "a189c563",
   "metadata": {},
   "source": [
    "### Скалярное произведение"
   ]
  },
  {
   "cell_type": "code",
   "execution_count": null,
   "id": "abc7f8ef",
   "metadata": {},
   "outputs": [],
   "source": [
    "vector @ np.arange(5, 9)"
   ]
  },
  {
   "cell_type": "code",
   "execution_count": null,
   "id": "a3d99e98",
   "metadata": {},
   "outputs": [],
   "source": [
    "print(vector)\n",
    "print(np.arange(5, 9))\n",
    "print('---------')\n",
    "print(vector * np.arange(5, 9))\n",
    "print((vector * np.arange(5, 9)).sum())"
   ]
  },
  {
   "cell_type": "markdown",
   "id": "18d96da6",
   "metadata": {},
   "source": [
    "#### Матричное умнжение"
   ]
  },
  {
   "attachments": {
    "image.png": {
     "image/png": "[encoded data removed]"
    }
   },
   "cell_type": "markdown",
   "id": "1e2bbccc",
   "metadata": {},
   "source": [
    "![image.png](attachment:image.png)"
   ]
  },
  {
   "cell_type": "code",
   "execution_count": null,
   "id": "2d83634e",
   "metadata": {},
   "outputs": [],
   "source": [
    "matrix_1 @ matrix_2"
   ]
  },
  {
   "cell_type": "code",
   "execution_count": null,
   "id": "e56ade8c",
   "metadata": {},
   "outputs": [],
   "source": [
    "matrix_1"
   ]
  },
  {
   "cell_type": "code",
   "execution_count": null,
   "id": "0472fd97",
   "metadata": {},
   "outputs": [],
   "source": [
    "matrix_2"
   ]
  },
  {
   "cell_type": "code",
   "execution_count": null,
   "id": "6269578d",
   "metadata": {},
   "outputs": [],
   "source": [
    "matrix_2 @ matrix_1"
   ]
  },
  {
   "cell_type": "code",
   "execution_count": null,
   "id": "415ab4f5",
   "metadata": {},
   "outputs": [],
   "source": [
    "matrix_1.dot(matrix_2)"
   ]
  },
  {
   "cell_type": "code",
   "execution_count": null,
   "id": "e01e7ddd",
   "metadata": {},
   "outputs": [],
   "source": []
  },
  {
   "cell_type": "code",
   "execution_count": null,
   "id": "84dbaa68",
   "metadata": {},
   "outputs": [],
   "source": []
  },
  {
   "cell_type": "code",
   "execution_count": null,
   "id": "01778cce",
   "metadata": {},
   "outputs": [],
   "source": []
  },
  {
   "cell_type": "markdown",
   "id": "68187511",
   "metadata": {},
   "source": [
    "### Операциями с векторами разных размеров"
   ]
  },
  {
   "cell_type": "code",
   "execution_count": null,
   "id": "cb666392",
   "metadata": {},
   "outputs": [],
   "source": [
    "vector_1 = np.arange(1, 10).reshape(-1, 1)\n",
    "vector_1"
   ]
  },
  {
   "cell_type": "code",
   "execution_count": null,
   "id": "3570f0bc",
   "metadata": {},
   "outputs": [],
   "source": [
    "vector_2 = np.arange(1, 7)\n",
    "vector_2"
   ]
  },
  {
   "cell_type": "code",
   "execution_count": null,
   "id": "4df19592",
   "metadata": {},
   "outputs": [],
   "source": [
    "vector_1 * vector_2"
   ]
  },
  {
   "cell_type": "code",
   "execution_count": null,
   "id": "97ba5162",
   "metadata": {},
   "outputs": [],
   "source": [
    "vector_1 @ vector_2.reshape(1, -1)"
   ]
  },
  {
   "cell_type": "code",
   "execution_count": null,
   "id": "13eae8f1",
   "metadata": {},
   "outputs": [],
   "source": [
    "vector_1 @ vector_2[None, ...]"
   ]
  },
  {
   "cell_type": "code",
   "execution_count": null,
   "id": "c3a7ce7a",
   "metadata": {},
   "outputs": [],
   "source": []
  },
  {
   "cell_type": "markdown",
   "id": "6948a6b5",
   "metadata": {},
   "source": [
    "### Многомерные операции"
   ]
  },
  {
   "cell_type": "code",
   "execution_count": null,
   "id": "84c6c883",
   "metadata": {},
   "outputs": [],
   "source": [
    "np.random.seed(42)\n",
    "tenzor = np.random.randint(10, size=(2, 4, 4))\n",
    "np.random.seed(4223)\n",
    "matrix = np.random.randint(10, size=(4, 4))\n",
    "tenzor"
   ]
  },
  {
   "cell_type": "code",
   "execution_count": null,
   "id": "5eeacc7b",
   "metadata": {},
   "outputs": [],
   "source": [
    "matrix"
   ]
  },
  {
   "cell_type": "code",
   "execution_count": null,
   "id": "c801655e",
   "metadata": {},
   "outputs": [],
   "source": [
    "tenzor.shape"
   ]
  },
  {
   "cell_type": "code",
   "execution_count": null,
   "id": "b45a473c",
   "metadata": {},
   "outputs": [],
   "source": [
    "tenzor[0]"
   ]
  },
  {
   "cell_type": "code",
   "execution_count": null,
   "id": "9ba12764",
   "metadata": {},
   "outputs": [],
   "source": [
    "tenzor[1]"
   ]
  },
  {
   "cell_type": "code",
   "execution_count": null,
   "id": "feceb9a3",
   "metadata": {},
   "outputs": [],
   "source": [
    "matrix @ tenzor"
   ]
  },
  {
   "cell_type": "code",
   "execution_count": null,
   "id": "bfc86dc4",
   "metadata": {},
   "outputs": [],
   "source": [
    "matrix @ tenzor[0]"
   ]
  },
  {
   "cell_type": "code",
   "execution_count": null,
   "id": "a995bdd5",
   "metadata": {},
   "outputs": [],
   "source": [
    "matrix @ tenzor[1]"
   ]
  },
  {
   "cell_type": "code",
   "execution_count": null,
   "id": "87455a7a",
   "metadata": {},
   "outputs": [],
   "source": [
    "tenzor @ tenzor"
   ]
  },
  {
   "cell_type": "code",
   "execution_count": null,
   "id": "6f1823db",
   "metadata": {},
   "outputs": [],
   "source": [
    "tenzor[0] @ tenzor[0]"
   ]
  },
  {
   "cell_type": "markdown",
   "id": "59837ccf",
   "metadata": {},
   "source": [
    "Это работает не только с матричным умножением, но и с другими операциями"
   ]
  },
  {
   "cell_type": "code",
   "execution_count": null,
   "id": "ee05add1",
   "metadata": {},
   "outputs": [],
   "source": [
    "tenzor * tenzor[0]"
   ]
  },
  {
   "cell_type": "code",
   "execution_count": null,
   "id": "2b1f9a03",
   "metadata": {},
   "outputs": [],
   "source": []
  },
  {
   "cell_type": "code",
   "execution_count": null,
   "id": "ee46a7fb",
   "metadata": {},
   "outputs": [],
   "source": []
  },
  {
   "cell_type": "code",
   "execution_count": null,
   "id": "2ec2931d",
   "metadata": {},
   "outputs": [],
   "source": []
  },
  {
   "cell_type": "code",
   "execution_count": null,
   "id": "7a0e11b8",
   "metadata": {},
   "outputs": [],
   "source": []
  },
  {
   "cell_type": "code",
   "execution_count": null,
   "id": "858627ef",
   "metadata": {},
   "outputs": [],
   "source": []
  },
  {
   "cell_type": "code",
   "execution_count": null,
   "id": "df325bcc",
   "metadata": {},
   "outputs": [],
   "source": []
  },
  {
   "cell_type": "code",
   "execution_count": null,
   "id": "8dff4889",
   "metadata": {},
   "outputs": [],
   "source": []
  },
  {
   "cell_type": "code",
   "execution_count": null,
   "id": "22372f9a",
   "metadata": {},
   "outputs": [],
   "source": []
  },
  {
   "cell_type": "code",
   "execution_count": null,
   "id": "5d2c3fbf",
   "metadata": {},
   "outputs": [],
   "source": []
  },
  {
   "cell_type": "markdown",
   "id": "84b02bf6",
   "metadata": {},
   "source": [
    "# Задания"
   ]
  },
  {
   "cell_type": "markdown",
   "id": "f503808b",
   "metadata": {},
   "source": [
    "#### Описание таблиц лежит [здесь](https://github.com/victorlymarev/pandas/tree/main/tables#%D0%BE%D0%BF%D0%B8%D1%81%D0%B0%D0%BD%D0%B8%D0%B5-%D1%82%D0%B0%D0%B1%D0%BB%D0%B8%D1%86)"
   ]
  },
  {
   "cell_type": "markdown",
   "id": "aa178744",
   "metadata": {},
   "source": [
    "Некоторые таблицы занимают много памяти, поэтому каждые 5-10 заданий лучше перезапускайте ноутбук.\n",
    "\n",
    "В формулировке некоторых заданий может содержаться вариативность. Если у вас есть сомнения, что требуется в задании, попробуйте решить несколько вариантов. Если вы не понимаете задание, можете написать об этом в комментариях под видео.\n",
    "\n",
    "В большинстве случаев внешний вид итоговой таблицы не определен. Выведите на экран наиболее адекватный вариант. То есть таблицу, из которой можно будет сделать выводы.\n",
    "\n",
    "Курс пока находится в разработке. Вы можете помочь другим людям добавив свое решение [сюда](https://docs.google.com/forms/d/1HYTBz_KfssY3Jps2dC3n0YnEqa6WBb5OIhLo1d32Xzw/edit).\n",
    "\n",
    "Посмотреть решения других людей можно [здесь](https://docs.google.com/spreadsheets/d/1pMDYO-9UneLbPPnEuQ2shig0TOJdQTU-zipifyAnZMk/edit?resourcekey#gid=1998648012)"
   ]
  },
  {
   "cell_type": "markdown",
   "id": "4c531203",
   "metadata": {},
   "source": [
    "### Задание 1\n",
    "\n",
    "Перемножьте колонки price (цена) и goods_number (количество товара в чеке). Назавите колонку sum_price"
   ]
  },
  {
   "cell_type": "code",
   "execution_count": null,
   "id": "5d0286e3",
   "metadata": {},
   "outputs": [],
   "source": [
    "# таблица sales - большая, и в некоторых случаях ваш компьютер может не справиться с ее обработкой\n",
    "# поэтому лучше работайте с частью этой таблицы\n",
    "# но если вы хотите попробовать поработать с полной версией таблицы,\n",
    "# можете заменить переменную path_sales_2022 на path_sales внутри функции read_parquet\n",
    "\n",
    "import os\n",
    "import pandas as pd\n",
    "\n",
    "path_sales_2022 = '../tables/sales_2022.parquet' if os.path.exists('../tables/sales_2022.parquet') else 'https://drive.google.com/uc?id=17e7FwXVdsWc2aziK9s5KidIvPcfKt9F5'\n",
    "# path_sales = '../tables/sales.parquet' if os.path.exists('../tables/sales.parquet') else \"https://drive.usercontent.google.com/download?id=15KwSxyM6hpNABGe6_vsrFZvD09VfHFyK&export=download&authuser=1&confirm=t&uuid=115bd48c-cc2c-4f2a-8b42-be5ca6ef6db8&at=APZUnTUVb8nfNANw5wr9Cad7PJ3U:1693327774694\"\n",
    "\n",
    "sales = pd.read_parquet(path_sales_2022)\n",
    "sales.head()"
   ]
  },
  {
   "cell_type": "code",
   "execution_count": null,
   "id": "efc68076",
   "metadata": {},
   "outputs": [],
   "source": [
    "# Напишите свой код здесь"
   ]
  },
  {
   "cell_type": "markdown",
   "id": "fcd706f2",
   "metadata": {},
   "source": [
    "### Задание 2\n",
    "\n",
    "Посчитайте заработную плату после вычета налога в 13%"
   ]
  },
  {
   "cell_type": "code",
   "execution_count": null,
   "id": "17618015",
   "metadata": {},
   "outputs": [],
   "source": [
    "import os\n",
    "import pandas as pd\n",
    "\n",
    "path_empl = '../tables/employees.parquet' if os.path.exists('../tables/employees.parquet') else 'https://drive.google.com/uc?id=1AARD5-eVlCxoApt5CYZebrC3Cqw42lvj'\n",
    "\n",
    "empl = pd.read_parquet(path_empl)\n",
    "empl.head()"
   ]
  },
  {
   "cell_type": "code",
   "execution_count": null,
   "id": "75dc21ba",
   "metadata": {},
   "outputs": [],
   "source": [
    "# Напишите свой код здесь"
   ]
  },
  {
   "cell_type": "markdown",
   "id": "ba759e49",
   "metadata": {},
   "source": [
    "### Задание 3\n",
    "\n",
    "Посчитайте размер премии. Для этого создайте новую колонку bonus.\n",
    "\n",
    "Премия выплачивается 31 декабря каждого года. В остальные месяцы премия равна нулю.\n",
    "Для управляющего персонала (mgmt == 1), она равна двум заработным платам, а для всех остальных сотрудников она равна зарплате,\n",
    "умноженной на оценку сотрудника и деленную на 5. Если оценка сотрудника пропущена. Заполните это значение числом 5."
   ]
  },
  {
   "cell_type": "code",
   "execution_count": null,
   "id": "ac688733",
   "metadata": {},
   "outputs": [],
   "source": [
    "import os\n",
    "import pandas as pd\n",
    "\n",
    "path_empl = '../tables/employees.parquet' if os.path.exists('../tables/employees.parquet') else 'https://drive.google.com/uc?id=1AARD5-eVlCxoApt5CYZebrC3Cqw42lvj'\n",
    "\n",
    "empl = pd.read_parquet(path_empl)\n",
    "empl.head()"
   ]
  },
  {
   "cell_type": "code",
   "execution_count": null,
   "id": "7e30693e",
   "metadata": {},
   "outputs": [],
   "source": [
    "# Напишите свой код здесь"
   ]
  },
  {
   "cell_type": "markdown",
   "id": "bd335fb4",
   "metadata": {},
   "source": [
    "### Задание 4\n",
    "\n",
    "Соедините колонки city и adress в одну.\n",
    "\n",
    "Пример того, как должна выглядить колонка: г. Воронеж, Пушкинская пл., д. 76"
   ]
  },
  {
   "cell_type": "code",
   "execution_count": null,
   "id": "ce2d942d",
   "metadata": {},
   "outputs": [],
   "source": [
    "import os\n",
    "import pandas as pd\n",
    "\n",
    "path_shops = '../tables/shops.xlsx' if os.path.exists('../tables/shops.xlsx') else 'https://drive.google.com/uc?id=1gfnmceJa3Mc1X06NftTx9G9QfKfprjEB'\n",
    "\n",
    "shops = pd.read_excel(path_shops)\n",
    "shops.head()"
   ]
  },
  {
   "cell_type": "code",
   "execution_count": null,
   "id": "7a36839f",
   "metadata": {},
   "outputs": [],
   "source": [
    "# Напишите свой код здесь"
   ]
  },
  {
   "cell_type": "markdown",
   "id": "5a735426",
   "metadata": {},
   "source": [
    "### Задание 5\n",
    "\n",
    "Для каждого школьника создайте 3 поля: первое поле должно содержать информацию о том, что у школьника по какому-то из предметов есть тройка, второе поле, что есть четверка и третье, что есть пятерка. Закодируйет эту информацию в один столбец\n",
    "\n",
    "Способ кодировки можете выбрать сами. Например, 1 может значить, что у человека выполнено 1 условие, а два других нет, 2 - у человека выполено 2 условие а все остальные нет, 3 - у человека выполено 3 условие а все остальные нет, 4 - у человека выполнено перовое и второе условие, а третье нет и так далее"
   ]
  },
  {
   "cell_type": "code",
   "execution_count": null,
   "id": "3e1a66c8",
   "metadata": {},
   "outputs": [],
   "source": [
    "import os\n",
    "import pandas as pd\n",
    "\n",
    "path_marks = '../tables/школьные оценки.xlsx' if os.path.exists('../tables/школьные оценки.xlsx') else 'https://drive.google.com/uc?id=1v9kRv1I03CXtQ6vFE4mE3hFAty436qAo'\n",
    "marks = pd.read_excel(path_marks)\n",
    "marks.head()"
   ]
  },
  {
   "cell_type": "code",
   "execution_count": null,
   "id": "83c21f3d",
   "metadata": {},
   "outputs": [],
   "source": [
    "# Напишите свой код здесь"
   ]
  },
  {
   "cell_type": "markdown",
   "id": "84c7f915",
   "metadata": {},
   "source": [
    "### Задание 6\n",
    "\n",
    "Мы знаем оценки по разным предметам, но не по геграфии. Оценку по ней уще не поставили. Однако у нас есть модель, которая предсказывает вероятность того, что школьник получит оценки 3, 4 и 5.\n",
    "\n",
    "Посчитайте ожидаемую оценку для каждого школьника (взвесте оценки по вероятности). Для этого колонку 3 умножьте на 3, затем прибавьте к ней колонку 4, уноженную на 4, и колонку 5, умноженную на 5. "
   ]
  },
  {
   "cell_type": "code",
   "execution_count": null,
   "id": "b592baf2",
   "metadata": {},
   "outputs": [],
   "source": [
    "import os\n",
    "import numpy as np\n",
    "import pandas as pd\n",
    "\n",
    "path_marks = '../tables/школьные оценки.xlsx' if os.path.exists('../tables/школьные оценки.xlsx') else 'https://drive.google.com/uc?id=1v9kRv1I03CXtQ6vFE4mE3hFAty436qAo'\n",
    "marks = pd.read_excel(path_marks)\n",
    "p = np.random.rand(len(marks) * 3).reshape(-1, 3)\n",
    "p = p / p.sum(1).reshape(-1, 1)\n",
    "\n",
    "np.random.seed(243)\n",
    "probs = marks[['ФИО', 'Пол']].join(pd.DataFrame(p, columns=[3, 4, 5]))\n",
    "probs.head()"
   ]
  },
  {
   "cell_type": "code",
   "execution_count": null,
   "id": "33a4ff84",
   "metadata": {},
   "outputs": [],
   "source": [
    "# Напишите свой код здесь"
   ]
  },
  {
   "cell_type": "markdown",
   "id": "2280cb4c",
   "metadata": {},
   "source": [
    "### Задание 6\n",
    "\n",
    "В ячейке ниже создается 2 матрицы. Посмотрите их на их размерность при помощи атрибута shape. После этого попробуйте их перемножить: сначала поэлементно, а затем матрично. Однако во втором случае одну из матриц придется транспонировать. Посчитайете 4 варианта: x<sup>T</sup>y, y<sup>T</sup>x, xy<sup>T</sup>, y<sup>T</sup>x"
   ]
  },
  {
   "cell_type": "code",
   "execution_count": null,
   "id": "4053eae5",
   "metadata": {},
   "outputs": [],
   "source": [
    "import numpy as np\n",
    "np.random.seed(455432)\n",
    "x, y = np.random.normal(0, 1, size=(2, 3, 50))"
   ]
  },
  {
   "cell_type": "code",
   "execution_count": null,
   "id": "4283df1f",
   "metadata": {},
   "outputs": [],
   "source": [
    "# Напишите свой код здесь"
   ]
  },
  {
   "cell_type": "markdown",
   "id": "dc9e83f0",
   "metadata": {},
   "source": [
    "### Задание 7\n",
    "\n",
    "Создайте 2 вектора одинакового размера и найдите между ними скалярное произведение"
   ]
  },
  {
   "cell_type": "code",
   "execution_count": null,
   "id": "593a3238",
   "metadata": {},
   "outputs": [],
   "source": [
    "import numpy as np"
   ]
  },
  {
   "cell_type": "code",
   "execution_count": null,
   "id": "b25abc8e",
   "metadata": {},
   "outputs": [],
   "source": [
    "# Напишите свой код здесь"
   ]
  },
  {
   "cell_type": "code",
   "execution_count": null,
   "id": "2050a7dc",
   "metadata": {},
   "outputs": [],
   "source": []
  },
  {
   "cell_type": "code",
   "execution_count": null,
   "id": "54499d76",
   "metadata": {},
   "outputs": [],
   "source": []
  },
  {
   "cell_type": "code",
   "execution_count": null,
   "id": "2d3cc725",
   "metadata": {},
   "outputs": [],
   "source": []
  }
 ],
 "metadata": {
  "kernelspec": {
   "display_name": "Python 3 (ipykernel)",
   "language": "python",
   "name": "python3"
  },
  "language_info": {
   "codemirror_mode": {
    "name": "ipython",
    "version": 3
   },
   "file_extension": ".py",
   "mimetype": "text/x-python",
   "name": "python",
   "nbconvert_exporter": "python",
   "pygments_lexer": "ipython3",
   "version": "3.11.6"
  }
 },
 "nbformat": 4,
 "nbformat_minor": 5
}
