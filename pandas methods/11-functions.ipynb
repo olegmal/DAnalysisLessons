{
 "cells": [
  {
   "cell_type": "markdown",
   "id": "c94c316c",
   "metadata": {},
   "source": [
    "<a target=\"_blank\" href=\"https://colab.research.google.com/github/victorlymarev/pandas/blob/main/notebooks/11-functions.ipynb\">\n",
    "  <img src=\"https://colab.research.google.com/assets/colab-badge.svg\" alt=\"Open In Colab\"/>\n",
    "</a>"
   ]
  },
  {
   "cell_type": "markdown",
   "id": "6e2fef42",
   "metadata": {},
   "source": [
    "# Функции в Pandas\n",
    "#### [Ссылка на видео](https://youtu.be/cq2aQ0bwFB8)"
   ]
  },
  {
   "cell_type": "code",
   "execution_count": null,
   "id": "36508634",
   "metadata": {},
   "outputs": [],
   "source": [
    "import pandas as pd\n",
    "import numpy as np"
   ]
  },
  {
   "cell_type": "markdown",
   "id": "a6d789d5",
   "metadata": {},
   "source": [
    "Создаем таблицу"
   ]
  },
  {
   "cell_type": "code",
   "execution_count": null,
   "id": "64465a4d",
   "metadata": {},
   "outputs": [],
   "source": [
    "df = pd.DataFrame({'Колонка 1': [111, 222, 333, 444, 555, 666],\n",
    "              'Колонка 2': [6, 5, 4, 3, 2, 1],\n",
    "              'Колонка 3': [np.nan, -3, 5, 0, 9, -11],\n",
    "              'Имя': ['Миша', 'Саша', 'Юля',\n",
    "                            'Настя', 'Андрей', 'Катя'],\n",
    "              'Увлечение': ['Баскетбол', 'Хоккей', 'Волейбол',\n",
    "                            'Футбол', 'Counter-Strike', 'Баскетбол']\n",
    "             })"
   ]
  },
  {
   "cell_type": "code",
   "execution_count": null,
   "id": "c830c302",
   "metadata": {},
   "outputs": [],
   "source": [
    "df"
   ]
  },
  {
   "cell_type": "markdown",
   "id": "5828d414",
   "metadata": {},
   "source": [
    "## Функции из numpy"
   ]
  },
  {
   "cell_type": "markdown",
   "id": "73f655b8",
   "metadata": {},
   "source": [
    "#### Извлечение натурального лагарифма"
   ]
  },
  {
   "cell_type": "code",
   "execution_count": null,
   "id": "d59d647d",
   "metadata": {},
   "outputs": [],
   "source": [
    "df['Колонка 1']"
   ]
  },
  {
   "cell_type": "code",
   "execution_count": null,
   "id": "edd8624d",
   "metadata": {},
   "outputs": [],
   "source": [
    "np.log(df['Колонка 1'])"
   ]
  },
  {
   "cell_type": "code",
   "execution_count": null,
   "id": "71539a54",
   "metadata": {},
   "outputs": [],
   "source": [
    "np.log(df['Колонка 1'] - 333)"
   ]
  },
  {
   "cell_type": "markdown",
   "id": "c79c37d4",
   "metadata": {},
   "source": [
    "#### Извлечение логарифма по произвольному основанию"
   ]
  },
  {
   "cell_type": "code",
   "execution_count": null,
   "id": "36f92768",
   "metadata": {},
   "outputs": [],
   "source": [
    "# Логарифм по основанию 3\n",
    "np.emath.logn(3, df['Колонка 1'])"
   ]
  },
  {
   "cell_type": "markdown",
   "id": "7267b362",
   "metadata": {},
   "source": [
    "#### Синус"
   ]
  },
  {
   "cell_type": "code",
   "execution_count": null,
   "id": "f53e96e5",
   "metadata": {},
   "outputs": [],
   "source": [
    "np.sin(df['Колонка 1'])"
   ]
  },
  {
   "cell_type": "markdown",
   "id": "23935c63",
   "metadata": {},
   "source": [
    "#### Косинус"
   ]
  },
  {
   "cell_type": "code",
   "execution_count": null,
   "id": "affb7c27",
   "metadata": {},
   "outputs": [],
   "source": [
    "np.cos(df['Колонка 1'])"
   ]
  },
  {
   "cell_type": "code",
   "execution_count": null,
   "id": "8d31c67a",
   "metadata": {},
   "outputs": [],
   "source": [
    "df = df.assign(col_1_natural_log = lambda x: np.log(x['Колонка 1']))\n",
    "df"
   ]
  },
  {
   "cell_type": "markdown",
   "id": "08c18b02",
   "metadata": {},
   "source": [
    "## Методы из пандаса"
   ]
  },
  {
   "cell_type": "markdown",
   "id": "bb6ef79c",
   "metadata": {},
   "source": [
    "#### Извлечение модуля числа"
   ]
  },
  {
   "cell_type": "code",
   "execution_count": null,
   "id": "39059974",
   "metadata": {},
   "outputs": [],
   "source": [
    "df['Колонка 3']"
   ]
  },
  {
   "cell_type": "code",
   "execution_count": null,
   "id": "a3a61ea5",
   "metadata": {},
   "outputs": [],
   "source": [
    "df['Колонка 3'].abs()"
   ]
  },
  {
   "cell_type": "markdown",
   "id": "d284e4b1",
   "metadata": {},
   "source": [
    "### Округление"
   ]
  },
  {
   "cell_type": "code",
   "execution_count": null,
   "id": "a7e780f5",
   "metadata": {},
   "outputs": [],
   "source": [
    "df['col_1_natural_log']"
   ]
  },
  {
   "cell_type": "code",
   "execution_count": null,
   "id": "3753431e",
   "metadata": {},
   "outputs": [],
   "source": [
    "df['col_1_natural_log'].round()"
   ]
  },
  {
   "cell_type": "code",
   "execution_count": null,
   "id": "f7e51feb",
   "metadata": {},
   "outputs": [],
   "source": [
    "np.log10(df['Колонка 1']).round(1)"
   ]
  },
  {
   "cell_type": "code",
   "execution_count": null,
   "id": "d6e1bc70",
   "metadata": {},
   "outputs": [],
   "source": [
    "np.log10(df['Колонка 1']).round(5)"
   ]
  },
  {
   "cell_type": "markdown",
   "id": "d6e458c3",
   "metadata": {},
   "source": [
    "#### Округление до десятков и до сотен"
   ]
  },
  {
   "cell_type": "code",
   "execution_count": null,
   "id": "76eccffe",
   "metadata": {},
   "outputs": [],
   "source": [
    "df['Колонка 1']"
   ]
  },
  {
   "cell_type": "code",
   "execution_count": null,
   "id": "ae04e13f",
   "metadata": {},
   "outputs": [],
   "source": [
    "df['Колонка 1'].round(-1)"
   ]
  },
  {
   "cell_type": "code",
   "execution_count": null,
   "id": "0d26a89d",
   "metadata": {},
   "outputs": [],
   "source": [
    "df['Колонка 1'].round(-2)"
   ]
  },
  {
   "cell_type": "markdown",
   "id": "db47a731",
   "metadata": {},
   "source": [
    "#### Огругление вверх"
   ]
  },
  {
   "cell_type": "code",
   "execution_count": null,
   "id": "954a67c7",
   "metadata": {},
   "outputs": [],
   "source": [
    "df['col_1_natural_log']"
   ]
  },
  {
   "cell_type": "code",
   "execution_count": null,
   "id": "cb521947",
   "metadata": {},
   "outputs": [],
   "source": [
    "np.ceil(df['col_1_natural_log'])"
   ]
  },
  {
   "cell_type": "markdown",
   "id": "f5fc9da9",
   "metadata": {},
   "source": [
    "#### Огругление вниз"
   ]
  },
  {
   "cell_type": "code",
   "execution_count": null,
   "id": "5402436a",
   "metadata": {},
   "outputs": [],
   "source": [
    "np.floor(df['col_1_natural_log'])"
   ]
  },
  {
   "cell_type": "code",
   "execution_count": null,
   "id": "6d2dd271",
   "metadata": {},
   "outputs": [],
   "source": []
  },
  {
   "cell_type": "code",
   "execution_count": null,
   "id": "87e654de",
   "metadata": {},
   "outputs": [],
   "source": []
  },
  {
   "cell_type": "code",
   "execution_count": null,
   "id": "7ac6acef",
   "metadata": {},
   "outputs": [],
   "source": []
  },
  {
   "cell_type": "code",
   "execution_count": null,
   "id": "81bd1235",
   "metadata": {},
   "outputs": [],
   "source": []
  },
  {
   "cell_type": "code",
   "execution_count": null,
   "id": "cae91311",
   "metadata": {},
   "outputs": [],
   "source": []
  },
  {
   "cell_type": "code",
   "execution_count": null,
   "id": "538afb92",
   "metadata": {},
   "outputs": [],
   "source": []
  },
  {
   "cell_type": "code",
   "execution_count": null,
   "id": "eee25490",
   "metadata": {},
   "outputs": [],
   "source": []
  },
  {
   "cell_type": "code",
   "execution_count": null,
   "id": "140d975b",
   "metadata": {},
   "outputs": [],
   "source": []
  },
  {
   "cell_type": "code",
   "execution_count": null,
   "id": "a7bb9628",
   "metadata": {},
   "outputs": [],
   "source": []
  },
  {
   "cell_type": "code",
   "execution_count": null,
   "id": "a02eb2fb",
   "metadata": {},
   "outputs": [],
   "source": []
  },
  {
   "cell_type": "code",
   "execution_count": null,
   "id": "1ef39090",
   "metadata": {},
   "outputs": [],
   "source": []
  },
  {
   "cell_type": "code",
   "execution_count": null,
   "id": "2ac95172",
   "metadata": {},
   "outputs": [],
   "source": []
  },
  {
   "cell_type": "code",
   "execution_count": null,
   "id": "44fc6886",
   "metadata": {},
   "outputs": [],
   "source": []
  },
  {
   "cell_type": "code",
   "execution_count": null,
   "id": "0c92dceb",
   "metadata": {},
   "outputs": [],
   "source": []
  },
  {
   "cell_type": "code",
   "execution_count": null,
   "id": "d4167f4a",
   "metadata": {},
   "outputs": [],
   "source": []
  },
  {
   "cell_type": "code",
   "execution_count": null,
   "id": "8b00672b",
   "metadata": {},
   "outputs": [],
   "source": []
  },
  {
   "cell_type": "markdown",
   "id": "efcf4ff1",
   "metadata": {},
   "source": [
    "#### Накопленная сумма"
   ]
  },
  {
   "cell_type": "code",
   "execution_count": null,
   "id": "4906a334",
   "metadata": {},
   "outputs": [],
   "source": [
    "df['Колонка 2']"
   ]
  },
  {
   "cell_type": "code",
   "execution_count": null,
   "id": "071e5cd9",
   "metadata": {},
   "outputs": [],
   "source": [
    "df['Колонка 2'].cumsum()"
   ]
  },
  {
   "cell_type": "markdown",
   "id": "6192d5be",
   "metadata": {},
   "source": [
    "#### Накопленное произведение"
   ]
  },
  {
   "cell_type": "code",
   "execution_count": null,
   "id": "49a77732",
   "metadata": {},
   "outputs": [],
   "source": [
    "df['Колонка 2'].cumprod()"
   ]
  },
  {
   "cell_type": "markdown",
   "id": "32b2ea85",
   "metadata": {},
   "source": [
    "#### Накопленный минимум и максимум"
   ]
  },
  {
   "cell_type": "code",
   "execution_count": null,
   "id": "d5d9fcf3",
   "metadata": {},
   "outputs": [],
   "source": [
    "df['Колонка 2'].cummin()\n",
    "# df['Колонка 1'].cummax()"
   ]
  },
  {
   "cell_type": "markdown",
   "id": "6861a1d0",
   "metadata": {},
   "source": [
    "#### Пропущенные значения просто игнорируются"
   ]
  },
  {
   "cell_type": "code",
   "execution_count": null,
   "id": "3a51309f",
   "metadata": {},
   "outputs": [],
   "source": [
    "df['Колонка 3']"
   ]
  },
  {
   "cell_type": "code",
   "execution_count": null,
   "id": "f0402017",
   "metadata": {},
   "outputs": [],
   "source": [
    "df['Колонка 3'].cumprod()"
   ]
  },
  {
   "cell_type": "markdown",
   "id": "767d6c8b",
   "metadata": {},
   "source": [
    "#### Те же операции можно выполнять и для датафреймов если они опеределены"
   ]
  },
  {
   "cell_type": "code",
   "execution_count": null,
   "id": "2f364f02",
   "metadata": {},
   "outputs": [],
   "source": [
    "df.iloc[:, :3]"
   ]
  },
  {
   "cell_type": "code",
   "execution_count": null,
   "id": "2be54afd",
   "metadata": {},
   "outputs": [],
   "source": [
    "df.iloc[:, :3].cumprod()"
   ]
  },
  {
   "cell_type": "markdown",
   "id": "ac009911",
   "metadata": {},
   "source": [
    "#### Можно настраивать ось, вдоль которой будет действовать метод"
   ]
  },
  {
   "cell_type": "code",
   "execution_count": null,
   "id": "97e15693",
   "metadata": {},
   "outputs": [],
   "source": [
    "df.iloc[:, :3].cumprod(axis=1)"
   ]
  },
  {
   "cell_type": "code",
   "execution_count": null,
   "id": "1e60bddd",
   "metadata": {},
   "outputs": [],
   "source": []
  },
  {
   "cell_type": "markdown",
   "id": "3b74efd7",
   "metadata": {},
   "source": [
    "#### is_monotonic_increasing\n",
    "\n",
    "Проверяет возрастает ли ряд"
   ]
  },
  {
   "cell_type": "code",
   "execution_count": null,
   "id": "c971465e",
   "metadata": {},
   "outputs": [],
   "source": [
    "df['Колонка 1'].is_monotonic_increasing"
   ]
  },
  {
   "cell_type": "markdown",
   "id": "810fe369",
   "metadata": {},
   "source": [
    "#### is_monotonic_decreasing\n",
    "Проверяет убывает ли ряд"
   ]
  },
  {
   "cell_type": "code",
   "execution_count": null,
   "id": "1e1f64e2",
   "metadata": {},
   "outputs": [],
   "source": [
    "df['Колонка 1'].is_monotonic_decreasing"
   ]
  },
  {
   "cell_type": "code",
   "execution_count": null,
   "id": "b0cf1b83",
   "metadata": {},
   "outputs": [],
   "source": []
  },
  {
   "cell_type": "code",
   "execution_count": null,
   "id": "f0d52540",
   "metadata": {},
   "outputs": [],
   "source": []
  },
  {
   "cell_type": "code",
   "execution_count": null,
   "id": "28b6ea12",
   "metadata": {},
   "outputs": [],
   "source": []
  },
  {
   "cell_type": "code",
   "execution_count": null,
   "id": "f178ea48",
   "metadata": {},
   "outputs": [],
   "source": []
  },
  {
   "cell_type": "code",
   "execution_count": null,
   "id": "997d4a78",
   "metadata": {},
   "outputs": [],
   "source": []
  },
  {
   "cell_type": "markdown",
   "id": "adb06d2e",
   "metadata": {},
   "source": [
    "#### Стандартные функции"
   ]
  },
  {
   "cell_type": "code",
   "execution_count": null,
   "id": "cfb7cf42",
   "metadata": {},
   "outputs": [],
   "source": [
    "len(df['Колонка 1'])"
   ]
  },
  {
   "cell_type": "code",
   "execution_count": null,
   "id": "d66ef309",
   "metadata": {},
   "outputs": [],
   "source": [
    "sum(df['Колонка 1'])"
   ]
  },
  {
   "cell_type": "code",
   "execution_count": null,
   "id": "018535f5",
   "metadata": {},
   "outputs": [],
   "source": [
    "abs(df['Колонка 3'])"
   ]
  },
  {
   "cell_type": "code",
   "execution_count": null,
   "id": "15d036ce",
   "metadata": {},
   "outputs": [],
   "source": [
    "min(df['Колонка 1'])"
   ]
  },
  {
   "cell_type": "code",
   "execution_count": null,
   "id": "3865145d",
   "metadata": {},
   "outputs": [],
   "source": [
    "max(df['Колонка 1'])"
   ]
  },
  {
   "cell_type": "code",
   "execution_count": null,
   "id": "ec803d79",
   "metadata": {},
   "outputs": [],
   "source": [
    "max(df['Колонка 3'])"
   ]
  },
  {
   "cell_type": "code",
   "execution_count": null,
   "id": "a2204f22",
   "metadata": {},
   "outputs": [],
   "source": [
    "sum(df['Колонка 3'])"
   ]
  },
  {
   "cell_type": "code",
   "execution_count": null,
   "id": "f83d7ca6",
   "metadata": {},
   "outputs": [],
   "source": []
  },
  {
   "cell_type": "code",
   "execution_count": null,
   "id": "33fcec9e",
   "metadata": {},
   "outputs": [],
   "source": []
  },
  {
   "cell_type": "code",
   "execution_count": null,
   "id": "f3636140",
   "metadata": {},
   "outputs": [],
   "source": []
  },
  {
   "cell_type": "markdown",
   "id": "55d9bf57",
   "metadata": {},
   "source": [
    "## replace\n",
    "\n",
    "Ипользуется для замены одних значений другими"
   ]
  },
  {
   "cell_type": "code",
   "execution_count": null,
   "id": "d07d2d64",
   "metadata": {},
   "outputs": [],
   "source": [
    "df['Увлечение']"
   ]
  },
  {
   "cell_type": "markdown",
   "id": "bdc01eaa",
   "metadata": {},
   "source": [
    "#### Чаще всего в него передается словарь, в котором сначала указывается старое значение, а затем новое"
   ]
  },
  {
   "cell_type": "code",
   "execution_count": null,
   "id": "b0222abb",
   "metadata": {},
   "outputs": [],
   "source": [
    "df['Увлечение'].replace({'Баскетбол': 'Dota'})"
   ]
  },
  {
   "cell_type": "markdown",
   "id": "7b9714c8",
   "metadata": {},
   "source": [
    "#### В метод можно передать сначала список из старых значений, а затем список из новых"
   ]
  },
  {
   "cell_type": "code",
   "execution_count": null,
   "id": "6c7459c8",
   "metadata": {},
   "outputs": [],
   "source": [
    "# Поменяем хоккей на футбол, а футбол на хоккей\n",
    "df['Увлечение'].replace(['Хоккей', 'Футбол'], ['Бильярд', 'Боулинг'])"
   ]
  },
  {
   "cell_type": "markdown",
   "id": "a5635101",
   "metadata": {},
   "source": [
    "#### Можно сначала указать список из старых, а затем новое название"
   ]
  },
  {
   "cell_type": "code",
   "execution_count": null,
   "id": "67e785cf",
   "metadata": {},
   "outputs": [],
   "source": [
    "df['Увлечение'].replace(['Хоккей', 'Футбол'], 'Дартс')"
   ]
  },
  {
   "cell_type": "code",
   "execution_count": null,
   "id": "b792ca9e",
   "metadata": {},
   "outputs": [],
   "source": []
  },
  {
   "cell_type": "code",
   "execution_count": null,
   "id": "41e7caf9",
   "metadata": {},
   "outputs": [],
   "source": []
  },
  {
   "cell_type": "code",
   "execution_count": null,
   "id": "01695c0a",
   "metadata": {},
   "outputs": [],
   "source": []
  },
  {
   "cell_type": "markdown",
   "id": "6c219d1c",
   "metadata": {},
   "source": [
    "### Метод repalace для датафреймов"
   ]
  },
  {
   "cell_type": "code",
   "execution_count": null,
   "id": "bc393940",
   "metadata": {},
   "outputs": [],
   "source": [
    "df"
   ]
  },
  {
   "cell_type": "markdown",
   "id": "5de4c889",
   "metadata": {},
   "source": [
    "#### Метод можно применить сразу ко всему датафрейму"
   ]
  },
  {
   "cell_type": "code",
   "execution_count": null,
   "id": "5122ac25",
   "metadata": {},
   "outputs": [],
   "source": [
    "df.replace({'Баскетбол': 'Dota', 5: 1000})"
   ]
  },
  {
   "cell_type": "markdown",
   "id": "d566afff",
   "metadata": {},
   "source": [
    "#### А можно к каждой отдельной колонке"
   ]
  },
  {
   "cell_type": "code",
   "execution_count": null,
   "id": "6fd68dcd",
   "metadata": {},
   "outputs": [],
   "source": [
    "df.replace({'Имя': {'Андрей': 'Сергей'}})"
   ]
  },
  {
   "cell_type": "code",
   "execution_count": null,
   "id": "19928e73",
   "metadata": {},
   "outputs": [],
   "source": []
  },
  {
   "cell_type": "code",
   "execution_count": null,
   "id": "da79ec75",
   "metadata": {},
   "outputs": [],
   "source": []
  },
  {
   "cell_type": "code",
   "execution_count": null,
   "id": "8e245d1b",
   "metadata": {},
   "outputs": [],
   "source": []
  },
  {
   "cell_type": "code",
   "execution_count": null,
   "id": "4196ba1e",
   "metadata": {},
   "outputs": [],
   "source": []
  },
  {
   "cell_type": "code",
   "execution_count": null,
   "id": "0058553e",
   "metadata": {},
   "outputs": [],
   "source": []
  },
  {
   "cell_type": "code",
   "execution_count": null,
   "id": "3804fc7a",
   "metadata": {},
   "outputs": [],
   "source": []
  },
  {
   "cell_type": "code",
   "execution_count": null,
   "id": "8dc33433",
   "metadata": {},
   "outputs": [],
   "source": []
  },
  {
   "cell_type": "code",
   "execution_count": null,
   "id": "13accd38",
   "metadata": {},
   "outputs": [],
   "source": []
  },
  {
   "cell_type": "code",
   "execution_count": null,
   "id": "ae5e1424",
   "metadata": {},
   "outputs": [],
   "source": []
  },
  {
   "cell_type": "code",
   "execution_count": null,
   "id": "b403cc4b",
   "metadata": {},
   "outputs": [],
   "source": []
  },
  {
   "cell_type": "code",
   "execution_count": null,
   "id": "0e300572",
   "metadata": {},
   "outputs": [],
   "source": []
  },
  {
   "cell_type": "code",
   "execution_count": null,
   "id": "5e51c686",
   "metadata": {},
   "outputs": [],
   "source": []
  },
  {
   "cell_type": "code",
   "execution_count": null,
   "id": "49440442",
   "metadata": {},
   "outputs": [],
   "source": []
  },
  {
   "cell_type": "code",
   "execution_count": null,
   "id": "fcffc35e",
   "metadata": {},
   "outputs": [],
   "source": []
  },
  {
   "cell_type": "code",
   "execution_count": null,
   "id": "6a7b93c0",
   "metadata": {},
   "outputs": [],
   "source": []
  },
  {
   "cell_type": "code",
   "execution_count": null,
   "id": "1902279e",
   "metadata": {},
   "outputs": [],
   "source": []
  },
  {
   "cell_type": "code",
   "execution_count": null,
   "id": "1cb7264c",
   "metadata": {},
   "outputs": [],
   "source": []
  },
  {
   "cell_type": "markdown",
   "id": "7e13fde5",
   "metadata": {},
   "source": [
    "## map"
   ]
  },
  {
   "cell_type": "markdown",
   "id": "841eccec",
   "metadata": {},
   "source": [
    "#### Заменяет значения указанные в словаре, но для остальных значений проставляет пропуск"
   ]
  },
  {
   "cell_type": "code",
   "execution_count": null,
   "id": "226044b8",
   "metadata": {},
   "outputs": [],
   "source": [
    "df['Увлечение'].map({'Баскетбол': 'Dota'})"
   ]
  },
  {
   "cell_type": "code",
   "execution_count": null,
   "id": "d2002c29",
   "metadata": {},
   "outputs": [],
   "source": [
    "df['Увлечение'].map(lambda x: {'Баскетбол': 'Dota'}.get(x, x))"
   ]
  },
  {
   "cell_type": "code",
   "execution_count": null,
   "id": "f9026d40",
   "metadata": {},
   "outputs": [],
   "source": []
  },
  {
   "cell_type": "code",
   "execution_count": null,
   "id": "caa0cd80",
   "metadata": {},
   "outputs": [],
   "source": []
  },
  {
   "cell_type": "code",
   "execution_count": null,
   "id": "49f2baca",
   "metadata": {},
   "outputs": [],
   "source": []
  },
  {
   "cell_type": "code",
   "execution_count": null,
   "id": "9cfa4dc1",
   "metadata": {},
   "outputs": [],
   "source": []
  },
  {
   "cell_type": "code",
   "execution_count": null,
   "id": "f3626a75",
   "metadata": {},
   "outputs": [],
   "source": []
  },
  {
   "cell_type": "code",
   "execution_count": null,
   "id": "eb4d1ddc",
   "metadata": {},
   "outputs": [],
   "source": []
  },
  {
   "cell_type": "code",
   "execution_count": null,
   "id": "556e0866",
   "metadata": {},
   "outputs": [],
   "source": []
  },
  {
   "cell_type": "code",
   "execution_count": null,
   "id": "2f31e3e4",
   "metadata": {},
   "outputs": [],
   "source": []
  },
  {
   "cell_type": "code",
   "execution_count": null,
   "id": "6fb92fde",
   "metadata": {},
   "outputs": [],
   "source": []
  },
  {
   "cell_type": "code",
   "execution_count": null,
   "id": "623fd4dc",
   "metadata": {},
   "outputs": [],
   "source": []
  },
  {
   "cell_type": "code",
   "execution_count": null,
   "id": "71cab244",
   "metadata": {},
   "outputs": [],
   "source": []
  },
  {
   "cell_type": "code",
   "execution_count": null,
   "id": "f5e0a6b2",
   "metadata": {},
   "outputs": [],
   "source": []
  },
  {
   "cell_type": "code",
   "execution_count": null,
   "id": "ec422a5e",
   "metadata": {},
   "outputs": [],
   "source": []
  },
  {
   "cell_type": "code",
   "execution_count": null,
   "id": "4a048f43",
   "metadata": {},
   "outputs": [],
   "source": []
  },
  {
   "cell_type": "markdown",
   "id": "032d14bb",
   "metadata": {},
   "source": [
    "## Методы для работы с функциями"
   ]
  },
  {
   "cell_type": "markdown",
   "id": "872f49e8",
   "metadata": {},
   "source": [
    "Векторизованные и невекторизованные функции\n",
    "\n",
    "Векторизованные функции - это функции, которые на вход принимают колонку таблицы, таблицу или ndarray\n",
    "\n",
    "Большинство функций и методов в numpy и pandas - векторизованные "
   ]
  },
  {
   "cell_type": "code",
   "execution_count": null,
   "id": "8644ac25",
   "metadata": {},
   "outputs": [],
   "source": [
    "df['Колонка 1']"
   ]
  },
  {
   "cell_type": "code",
   "execution_count": null,
   "id": "270302de",
   "metadata": {},
   "outputs": [],
   "source": [
    "np.log(df['Колонка 1'])"
   ]
  },
  {
   "cell_type": "code",
   "execution_count": null,
   "id": "ce286603",
   "metadata": {},
   "outputs": [],
   "source": [
    "from math import log"
   ]
  },
  {
   "cell_type": "code",
   "execution_count": null,
   "id": "f22b0111",
   "metadata": {},
   "outputs": [],
   "source": [
    "log(df['Колонка 1'])"
   ]
  },
  {
   "cell_type": "code",
   "execution_count": null,
   "id": "8254f0f6",
   "metadata": {},
   "outputs": [],
   "source": [
    "pd.Series([log(i) for i in df['Колонка 1']])"
   ]
  },
  {
   "cell_type": "markdown",
   "id": "414e85a3",
   "metadata": {},
   "source": [
    "## apply"
   ]
  },
  {
   "cell_type": "markdown",
   "id": "1e43a9b1",
   "metadata": {},
   "source": [
    "В случае если функция не векторизованная, то метод применяет ее к каждой строке"
   ]
  },
  {
   "cell_type": "code",
   "execution_count": null,
   "id": "e52b920b",
   "metadata": {},
   "outputs": [],
   "source": [
    "df['Колонка 1'].apply(np.log)"
   ]
  },
  {
   "cell_type": "code",
   "execution_count": null,
   "id": "0be48bfd",
   "metadata": {},
   "outputs": [],
   "source": [
    "np.log(df['Колонка 1'])"
   ]
  },
  {
   "cell_type": "code",
   "execution_count": null,
   "id": "deab0471",
   "metadata": {},
   "outputs": [],
   "source": [
    "df['Колонка 1'].apply(log)"
   ]
  },
  {
   "cell_type": "markdown",
   "id": "374f17b3",
   "metadata": {},
   "source": [
    "#### По умолчанию метод apply применяет функцию к каждому столбцу по очереди. Но чаще нужно применить фунцию к каждой строке. Чтобы это сделать необходимо в параметр axis передать значение 1"
   ]
  },
  {
   "cell_type": "code",
   "execution_count": null,
   "id": "12652b01",
   "metadata": {},
   "outputs": [],
   "source": [
    "df.apply(lambda x: x['Имя'] + ' любит играть в ' + x['Увлечение'], axis=1)"
   ]
  },
  {
   "cell_type": "code",
   "execution_count": null,
   "id": "8a8645e6",
   "metadata": {},
   "outputs": [],
   "source": []
  },
  {
   "cell_type": "code",
   "execution_count": null,
   "id": "bd808fe7",
   "metadata": {},
   "outputs": [],
   "source": []
  },
  {
   "cell_type": "code",
   "execution_count": null,
   "id": "a8d6b127",
   "metadata": {},
   "outputs": [],
   "source": []
  },
  {
   "cell_type": "code",
   "execution_count": null,
   "id": "6b7e62bd",
   "metadata": {},
   "outputs": [],
   "source": []
  },
  {
   "cell_type": "code",
   "execution_count": null,
   "id": "6001b042",
   "metadata": {},
   "outputs": [],
   "source": []
  },
  {
   "cell_type": "code",
   "execution_count": null,
   "id": "25a56ba7",
   "metadata": {},
   "outputs": [],
   "source": []
  },
  {
   "cell_type": "markdown",
   "id": "fa95e32a",
   "metadata": {},
   "source": [
    "### applymap"
   ]
  },
  {
   "cell_type": "markdown",
   "id": "1a9b213e",
   "metadata": {},
   "source": [
    "Применяет какую-то функцию к каждой ячеке таблицы"
   ]
  },
  {
   "cell_type": "code",
   "execution_count": null,
   "id": "78481b40",
   "metadata": {},
   "outputs": [],
   "source": [
    "df.iloc[:, :3]"
   ]
  },
  {
   "cell_type": "code",
   "execution_count": null,
   "id": "78aa1e9f",
   "metadata": {},
   "outputs": [],
   "source": [
    "df.iloc[:, :3].applymap(lambda x: x ** 2)"
   ]
  },
  {
   "cell_type": "code",
   "execution_count": null,
   "id": "bf09d329",
   "metadata": {},
   "outputs": [],
   "source": [
    "df.iloc[:, :3].applymap(lambda x: x / 100)"
   ]
  },
  {
   "cell_type": "code",
   "execution_count": null,
   "id": "1a6ec57b",
   "metadata": {},
   "outputs": [],
   "source": []
  },
  {
   "cell_type": "code",
   "execution_count": null,
   "id": "5c811a46",
   "metadata": {},
   "outputs": [],
   "source": []
  },
  {
   "cell_type": "code",
   "execution_count": null,
   "id": "03887dde",
   "metadata": {},
   "outputs": [],
   "source": []
  },
  {
   "cell_type": "code",
   "execution_count": null,
   "id": "73b55ff2",
   "metadata": {},
   "outputs": [],
   "source": []
  },
  {
   "cell_type": "code",
   "execution_count": null,
   "id": "98d9b052",
   "metadata": {},
   "outputs": [],
   "source": []
  },
  {
   "cell_type": "code",
   "execution_count": null,
   "id": "b7e58055",
   "metadata": {},
   "outputs": [],
   "source": []
  },
  {
   "cell_type": "code",
   "execution_count": null,
   "id": "a48cbb2e",
   "metadata": {},
   "outputs": [],
   "source": []
  },
  {
   "cell_type": "markdown",
   "id": "97f72f09",
   "metadata": {},
   "source": [
    "### transform"
   ]
  },
  {
   "cell_type": "markdown",
   "id": "9c2cb4de",
   "metadata": {},
   "source": [
    "Модифицирует колонку или датафрейм при помощи векторной функции. Возвращает тоже колонку или датафрейм"
   ]
  },
  {
   "cell_type": "code",
   "execution_count": null,
   "id": "674c5a13",
   "metadata": {},
   "outputs": [],
   "source": [
    "df['Колонка 1']"
   ]
  },
  {
   "cell_type": "code",
   "execution_count": null,
   "id": "2c96ae4b",
   "metadata": {},
   "outputs": [],
   "source": [
    "df['Колонка 1'].transform(lambda x: (x - 10) / 10)"
   ]
  },
  {
   "cell_type": "markdown",
   "id": "077e4115",
   "metadata": {},
   "source": [
    "Применяем к датафрейму и дополнительно указываем ось если это необходимо"
   ]
  },
  {
   "cell_type": "code",
   "execution_count": null,
   "id": "1c279d31",
   "metadata": {},
   "outputs": [],
   "source": [
    "df.iloc[:, :3].transform(lambda x: x / len(x), axis=1)"
   ]
  },
  {
   "cell_type": "code",
   "execution_count": null,
   "id": "96290522",
   "metadata": {},
   "outputs": [],
   "source": []
  },
  {
   "cell_type": "code",
   "execution_count": null,
   "id": "8e9df9d6",
   "metadata": {},
   "outputs": [],
   "source": []
  },
  {
   "cell_type": "code",
   "execution_count": null,
   "id": "24a8c9fc",
   "metadata": {},
   "outputs": [],
   "source": []
  },
  {
   "cell_type": "code",
   "execution_count": null,
   "id": "d4b338b9",
   "metadata": {},
   "outputs": [],
   "source": []
  },
  {
   "cell_type": "code",
   "execution_count": null,
   "id": "79c332c5",
   "metadata": {},
   "outputs": [],
   "source": []
  },
  {
   "cell_type": "code",
   "execution_count": null,
   "id": "085511d2",
   "metadata": {},
   "outputs": [],
   "source": []
  },
  {
   "cell_type": "code",
   "execution_count": null,
   "id": "a7406322",
   "metadata": {},
   "outputs": [],
   "source": []
  },
  {
   "cell_type": "markdown",
   "id": "b11cf152",
   "metadata": {},
   "source": [
    "### pipe\n",
    "\n",
    "Применяет функцию, которая на вход принимает датафрейм целиком"
   ]
  },
  {
   "cell_type": "code",
   "execution_count": null,
   "id": "22b8a6ea",
   "metadata": {},
   "outputs": [],
   "source": [
    "df.pipe(lambda x: x.shape)"
   ]
  },
  {
   "cell_type": "code",
   "execution_count": null,
   "id": "8a6a23fb",
   "metadata": {},
   "outputs": [],
   "source": [
    "def create_columns(df, n_cols):\n",
    "    df = df.copy()\n",
    "    for i in range(n_cols):\n",
    "        df[f'Колонка {i + 1}'] = i + 1\n",
    "    return df"
   ]
  },
  {
   "cell_type": "code",
   "execution_count": null,
   "id": "1559bef2",
   "metadata": {},
   "outputs": [],
   "source": [
    "df.pipe(create_columns, 9)"
   ]
  },
  {
   "cell_type": "markdown",
   "id": "dff694c6",
   "metadata": {},
   "source": [
    "| Название метода   | Что принимает на вход      | Особенности                                          |\n",
    "|:-----------------:|:--------------------------:|:----------------------------------------------------:|\n",
    "| apply             | Колонку или строку таблицы | Может работать с невекторизованными функциями        |\n",
    "| applymap          | Ячеку таблицы              | Применяет функцию к каждой чеке                      |\n",
    "| transform         | Колонку или строку         | Работает только с векторизованными функциями         |\n",
    "| pipe              | Таблицу целиком            | -                                                    |"
   ]
  },
  {
   "cell_type": "code",
   "execution_count": null,
   "id": "9413b960",
   "metadata": {},
   "outputs": [],
   "source": []
  },
  {
   "cell_type": "code",
   "execution_count": null,
   "id": "c11abf92",
   "metadata": {},
   "outputs": [],
   "source": []
  },
  {
   "cell_type": "code",
   "execution_count": null,
   "id": "42cf7d09",
   "metadata": {},
   "outputs": [],
   "source": []
  },
  {
   "cell_type": "code",
   "execution_count": null,
   "id": "48525528",
   "metadata": {},
   "outputs": [],
   "source": []
  },
  {
   "cell_type": "code",
   "execution_count": null,
   "id": "26ed4f17",
   "metadata": {},
   "outputs": [],
   "source": []
  },
  {
   "cell_type": "code",
   "execution_count": null,
   "id": "94d738cb",
   "metadata": {},
   "outputs": [],
   "source": []
  },
  {
   "cell_type": "code",
   "execution_count": null,
   "id": "98bbc013",
   "metadata": {},
   "outputs": [],
   "source": []
  },
  {
   "cell_type": "code",
   "execution_count": null,
   "id": "04c3f0dd",
   "metadata": {},
   "outputs": [],
   "source": []
  },
  {
   "cell_type": "code",
   "execution_count": null,
   "id": "55ec8dc8",
   "metadata": {},
   "outputs": [],
   "source": []
  },
  {
   "cell_type": "code",
   "execution_count": null,
   "id": "c7f15429",
   "metadata": {},
   "outputs": [],
   "source": []
  },
  {
   "cell_type": "markdown",
   "id": "abd71ca0",
   "metadata": {},
   "source": [
    "# Задания"
   ]
  },
  {
   "cell_type": "markdown",
   "id": "ef9ded57",
   "metadata": {},
   "source": [
    "#### Описание таблиц лежит [здесь](https://github.com/victorlymarev/pandas/tree/main/tables#%D0%BE%D0%BF%D0%B8%D1%81%D0%B0%D0%BD%D0%B8%D0%B5-%D1%82%D0%B0%D0%B1%D0%BB%D0%B8%D1%86)"
   ]
  },
  {
   "cell_type": "markdown",
   "id": "7cf7dcfe",
   "metadata": {},
   "source": [
    "Некоторые таблицы занимают много памяти, поэтому каждые 5-10 заданий лучше перезапускайте ноутбук.\n",
    "\n",
    "В формулировке некоторых заданий может содержаться вариативность. Если у вас есть сомнения, что требуется в задании, попробуйте решить несколько вариантов. Если вы не понимаете задание, можете написать об этом в комментариях под видео.\n",
    "\n",
    "В большинстве случаев внешний вид итоговой таблицы не определен. Выведите на экран наиболее адекватный вариант. То есть таблицу, из которой можно будет сделать выводы.\n",
    "\n",
    "Курс пока находится в разработке. Вы можете помочь другим людям добавив свое решение [сюда](https://docs.google.com/forms/d/1HYTBz_KfssY3Jps2dC3n0YnEqa6WBb5OIhLo1d32Xzw/edit).\n",
    "\n",
    "Посмотреть решения других людей можно [здесь](https://docs.google.com/spreadsheets/d/1pMDYO-9UneLbPPnEuQ2shig0TOJdQTU-zipifyAnZMk/edit?resourcekey#gid=1998648012)"
   ]
  },
  {
   "cell_type": "markdown",
   "id": "f06d13b3",
   "metadata": {},
   "source": [
    "### Задание 1\n",
    "\n",
    "В таблице df представлены платежи по кредиту. Необходимо для каждой даты посчитать, сколько денег было заплачено."
   ]
  },
  {
   "cell_type": "code",
   "execution_count": null,
   "id": "5f463fd0",
   "metadata": {},
   "outputs": [],
   "source": [
    "import pandas as pd\n",
    "\n",
    "df = pd.DataFrame({'Дата': pd.date_range('2022-01-31', '2022-12-31', freq='M'),\n",
    "              'Сумма': [(50000 * (1.12 ** (i / 12))) // 1 for i in range(12)]})\n",
    "df"
   ]
  },
  {
   "cell_type": "code",
   "execution_count": null,
   "id": "1def26d9",
   "metadata": {},
   "outputs": [],
   "source": [
    "# Напишите свой код здесь"
   ]
  },
  {
   "cell_type": "markdown",
   "id": "2a97cb65",
   "metadata": {},
   "source": [
    "### Задание 2\n",
    "\n",
    "У каждого сотрудника есть оценка. Сейчас она считается от 1 до 10 включительно. Сделайте так, чтобы границы оценки лежали на отрезке от 0 до 1 (любым способом)"
   ]
  },
  {
   "cell_type": "code",
   "execution_count": null,
   "id": "93d6486d",
   "metadata": {},
   "outputs": [],
   "source": [
    "import os\n",
    "import pandas as pd\n",
    "\n",
    "path_empl = '../tables/employees.parquet' if os.path.exists('../tables/employees.parquet') else 'https://drive.google.com/uc?id=1AARD5-eVlCxoApt5CYZebrC3Cqw42lvj'\n",
    "\n",
    "empl = pd.read_parquet(path_empl)\n",
    "empl.head()"
   ]
  },
  {
   "cell_type": "code",
   "execution_count": null,
   "id": "00a14fc6",
   "metadata": {},
   "outputs": [],
   "source": [
    "# Напишите свой код здесь"
   ]
  },
  {
   "cell_type": "markdown",
   "id": "e9229a6b",
   "metadata": {},
   "source": [
    "### Задание 3\n",
    "\n",
    "Создайте колонку таблицы в которой будут лежать все нечетные числа от 1 до 99 включительно. Найдите накопленную сумму"
   ]
  },
  {
   "cell_type": "code",
   "execution_count": null,
   "id": "ed395f63",
   "metadata": {},
   "outputs": [],
   "source": [
    "import pandas as pd\n",
    "import numpy as np\n",
    "\n",
    "# Напишите свой код здесь"
   ]
  },
  {
   "cell_type": "code",
   "execution_count": null,
   "id": "2a7b588c",
   "metadata": {},
   "outputs": [],
   "source": []
  },
  {
   "cell_type": "markdown",
   "id": "7f2aef1d",
   "metadata": {},
   "source": [
    "### Задание 4\n",
    "\n",
    "В колонке gender таблицы goods_descr поменяйте значение Men на мужской, а значение Women на женский. Учите, что в колонке есть еще одно значение Unisex. Не делайте из него NaN"
   ]
  },
  {
   "cell_type": "code",
   "execution_count": null,
   "id": "44edda37",
   "metadata": {},
   "outputs": [],
   "source": [
    "import os\n",
    "import pandas as pd\n",
    "\n",
    "path_goods_descr = '../tables/goods_description.parquet' if os.path.exists('../tables/goods_description.parquet') else 'https://drive.google.com/uc?id=1YbiD02Rev-X_WWV9nPSG1zZFmEh2JjPh'\n",
    "\n",
    "goods_descr = pd.read_parquet(path_goods_descr)\n",
    "goods_descr.head()"
   ]
  },
  {
   "cell_type": "code",
   "execution_count": null,
   "id": "2cb655f2",
   "metadata": {},
   "outputs": [],
   "source": [
    "# Напишите свой код здесь"
   ]
  },
  {
   "cell_type": "markdown",
   "id": "7d4eec9d",
   "metadata": {},
   "source": [
    "### Задание 5\n",
    "\n",
    "Создайте колонку, состоящую из нечетных чисел от 1 до 1000000. Затем разделите 1 на эту колонку. Полученный результат сохраните в переменную s. После этого каждый второй элемент в колонке умножьте на -1 (это можно сделать при помощи метода iloc s.iloc[1::2] = - s.iloc[1::2]). Умножьте каждое значение в этой колонке на 4. В конце посчитайте накопленную сумму.\n",
    "\n",
    "На какое число похожи нижние значения в колонке?"
   ]
  },
  {
   "cell_type": "code",
   "execution_count": null,
   "id": "5a2dd404",
   "metadata": {},
   "outputs": [],
   "source": [
    "import pandas as pd\n",
    "import numpy as np\n",
    "\n",
    "# Напишите свой код здесь"
   ]
  },
  {
   "cell_type": "markdown",
   "id": "20ff78cb",
   "metadata": {},
   "source": [
    "### Задание 6\n",
    "\n",
    "Сгенерируйте числа от 1 до 100000 с шагом 1. Затем на их основе создайте колонку. Разделите 1 на эту колонку. Затем полученный массив возведите в квадрат. Домножьте на 6. Посчитайте накопленную сумму. В конце извлечите из каждого значения в колонке квадратный корень"
   ]
  },
  {
   "cell_type": "code",
   "execution_count": null,
   "id": "9f33049c",
   "metadata": {},
   "outputs": [],
   "source": [
    "import pandas as pd\n",
    "import numpy as np\n",
    "\n",
    "# Напишите свой код здесь"
   ]
  },
  {
   "cell_type": "markdown",
   "id": "27fb9a12",
   "metadata": {},
   "source": [
    "### Задание 7\n",
    "\n",
    "Посчитайте натуральный логарифм зарплат. Значение округлите до 2 знаков после запятой"
   ]
  },
  {
   "cell_type": "code",
   "execution_count": null,
   "id": "acb134b0",
   "metadata": {},
   "outputs": [],
   "source": [
    "import os\n",
    "import pandas as pd\n",
    "\n",
    "path_empl = '../tables/employees.parquet' if os.path.exists('../tables/employees.parquet') else 'https://drive.google.com/uc?id=1AARD5-eVlCxoApt5CYZebrC3Cqw42lvj'\n",
    "\n",
    "empl = pd.read_parquet(path_empl)\n",
    "empl.head()"
   ]
  },
  {
   "cell_type": "code",
   "execution_count": null,
   "id": "72cfae91",
   "metadata": {},
   "outputs": [],
   "source": [
    "# Напишите свой код здесь"
   ]
  },
  {
   "cell_type": "markdown",
   "id": "f49ad844",
   "metadata": {},
   "source": [
    "### Задание 8"
   ]
  },
  {
   "cell_type": "markdown",
   "id": "e84545dc",
   "metadata": {},
   "source": [
    "Найдите угол между двумя векторам.\n",
    "\n",
    "Для того чтобы это сделать необходимо сначала посчитать скалярное произведение между векторами (через знак @), затем это произведение надо разделить на норму каждого вектора (функция np.linalg.norm или это можно сделать через @ и квадратный корень). Такми образом мы получим косинус угла между двумя векторами. Теперь зная косинус угла необходимо вычеслить сам угол. Для этого необходимо посчитать арккосинус (np.arccos). В результате мы получим угол в раданах. Чтобы привести угол к градусам необходимо угол в радианах умножить на 180 и разделить на число $\\pi$ (np.pi)"
   ]
  },
  {
   "cell_type": "code",
   "execution_count": null,
   "id": "eba76108",
   "metadata": {},
   "outputs": [],
   "source": [
    "import numpy as np\n",
    "x = np.array([6, 0, 1, 5, 5])\n",
    "y = np.array([1, 4, 5, 2, 0])"
   ]
  },
  {
   "cell_type": "code",
   "execution_count": null,
   "id": "6aab7fc8",
   "metadata": {},
   "outputs": [],
   "source": []
  },
  {
   "cell_type": "code",
   "execution_count": null,
   "id": "faeba90f",
   "metadata": {},
   "outputs": [],
   "source": []
  },
  {
   "cell_type": "code",
   "execution_count": null,
   "id": "90474a54",
   "metadata": {},
   "outputs": [],
   "source": []
  },
  {
   "cell_type": "code",
   "execution_count": null,
   "id": "2bdce4eb",
   "metadata": {},
   "outputs": [],
   "source": []
  }
 ],
 "metadata": {
  "kernelspec": {
   "display_name": "Python 3 (ipykernel)",
   "language": "python",
   "name": "python3"
  },
  "language_info": {
   "codemirror_mode": {
    "name": "ipython",
    "version": 3
   },
   "file_extension": ".py",
   "mimetype": "text/x-python",
   "name": "python",
   "nbconvert_exporter": "python",
   "pygments_lexer": "ipython3",
   "version": "3.11.6"
  }
 },
 "nbformat": 4,
 "nbformat_minor": 5
}
