{
 "cells": [
  {
   "cell_type": "markdown",
   "id": "89a1455c",
   "metadata": {},
   "source": [
    "<a target=\"_blank\" href=\"https://colab.research.google.com/github/victorlymarev/pandas/blob/main/notebooks/12-ordering.ipynb\">\n",
    "  <img src=\"https://colab.research.google.com/assets/colab-badge.svg\" alt=\"Open In Colab\"/>\n",
    "</a>"
   ]
  },
  {
   "cell_type": "markdown",
   "id": "1fa3c0e0",
   "metadata": {},
   "source": [
    "# Сортировка в таблицах\n",
    "#### [Ссылка на видео](https://youtu.be/3RfgCZJLsgE)"
   ]
  },
  {
   "cell_type": "code",
   "execution_count": null,
   "id": "74f25008",
   "metadata": {},
   "outputs": [],
   "source": [
    "import pandas as pd\n",
    "import os"
   ]
  },
  {
   "cell_type": "markdown",
   "id": "988454db",
   "metadata": {},
   "source": [
    "Читаем таблицу"
   ]
  },
  {
   "cell_type": "code",
   "execution_count": null,
   "id": "895c2f2c",
   "metadata": {},
   "outputs": [],
   "source": [
    "path_empl = '../tables/employees.parquet' if os.path.exists('../tables/employees.parquet') else 'https://drive.google.com/uc?id=1AARD5-eVlCxoApt5CYZebrC3Cqw42lvj'\n",
    "\n",
    "empl = (pd.read_parquet(path_empl)\n",
    "    .sample(frac=1, random_state=42)\n",
    "    [['report_dt', 'i_pernr', 'fio', 'pos_name', 'salary']]\n",
    ")\n",
    "empl.head()"
   ]
  },
  {
   "cell_type": "markdown",
   "id": "33757d0e",
   "metadata": {},
   "source": [
    "## Метод sort_values\n",
    "\n",
    "Сортирует таблицу по отдельным колонкам или строкам \n",
    "\n",
    "Синтаксис:\n",
    "\n",
    "df.sort_values(by=название колонки или список из колонок) - для сортировки по возрастанию\n",
    "\n",
    "df.sort_values(by=название колонки или список из колонок, ascending=False) - для сортировки по убыванию\n",
    "\n",
    "df.sort_values(by=название колонки или список из колонок, ascending=список из значений True False)\n"
   ]
  },
  {
   "cell_type": "markdown",
   "id": "ff87561b",
   "metadata": {},
   "source": [
    "#### Сортируем по зарплате в порядке возратания"
   ]
  },
  {
   "cell_type": "code",
   "execution_count": null,
   "id": "ffcccbbe",
   "metadata": {},
   "outputs": [],
   "source": [
    "empl.query('report_dt == \"2022-12-31\"').sort_values(by='salary')"
   ]
  },
  {
   "cell_type": "markdown",
   "id": "9ca353d7",
   "metadata": {},
   "source": [
    "#### Сортируем по зарплате в порядке убывания"
   ]
  },
  {
   "cell_type": "code",
   "execution_count": null,
   "id": "6671ad4e",
   "metadata": {},
   "outputs": [],
   "source": [
    "empl.query('report_dt == \"2022-12-31\"').sort_values(by='salary', ascending=False)"
   ]
  },
  {
   "cell_type": "markdown",
   "id": "9f3b3a35",
   "metadata": {},
   "source": [
    "#### Сортируем по дате"
   ]
  },
  {
   "cell_type": "code",
   "execution_count": null,
   "id": "57762544",
   "metadata": {},
   "outputs": [],
   "source": [
    "empl.sort_values(by='report_dt', ascending=False)"
   ]
  },
  {
   "cell_type": "markdown",
   "id": "8a597a6e",
   "metadata": {},
   "source": [
    "#### Сортируем сначала по дате, а затем строки с одинаковой датой сортируем по зарплате в порядке убывания"
   ]
  },
  {
   "cell_type": "code",
   "execution_count": null,
   "id": "72d97597",
   "metadata": {},
   "outputs": [],
   "source": [
    "empl.sort_values(by=['report_dt', 'salary'], ascending=False)"
   ]
  },
  {
   "cell_type": "markdown",
   "id": "3c0efb9e",
   "metadata": {},
   "source": [
    "#### Сортируем сначала по дате в порядке убывания, а затем строки с одинаковой датой сортируем по зарплате в порядке возрастания"
   ]
  },
  {
   "cell_type": "code",
   "execution_count": null,
   "id": "1e8b02a2",
   "metadata": {},
   "outputs": [],
   "source": [
    "empl.sort_values(by=['report_dt', 'salary'], ascending=[False, True])"
   ]
  },
  {
   "cell_type": "code",
   "execution_count": null,
   "id": "f81692ba",
   "metadata": {},
   "outputs": [],
   "source": []
  },
  {
   "cell_type": "code",
   "execution_count": null,
   "id": "c8ccf94c",
   "metadata": {},
   "outputs": [],
   "source": []
  },
  {
   "cell_type": "code",
   "execution_count": null,
   "id": "149be42c",
   "metadata": {},
   "outputs": [],
   "source": []
  },
  {
   "cell_type": "code",
   "execution_count": null,
   "id": "c0804abe",
   "metadata": {},
   "outputs": [],
   "source": []
  },
  {
   "cell_type": "code",
   "execution_count": null,
   "id": "445b53c8",
   "metadata": {},
   "outputs": [],
   "source": []
  },
  {
   "cell_type": "code",
   "execution_count": null,
   "id": "53daeefb",
   "metadata": {},
   "outputs": [],
   "source": []
  },
  {
   "cell_type": "code",
   "execution_count": null,
   "id": "bf8aa170",
   "metadata": {},
   "outputs": [],
   "source": []
  },
  {
   "cell_type": "code",
   "execution_count": null,
   "id": "e1337f90",
   "metadata": {},
   "outputs": [],
   "source": []
  },
  {
   "cell_type": "code",
   "execution_count": null,
   "id": "282e0ab7",
   "metadata": {},
   "outputs": [],
   "source": []
  },
  {
   "cell_type": "markdown",
   "id": "3bdc32ee",
   "metadata": {},
   "source": [
    "#### Сортировка отдельной колонки"
   ]
  },
  {
   "cell_type": "code",
   "execution_count": null,
   "id": "13ebf353",
   "metadata": {},
   "outputs": [],
   "source": [
    "empl['report_dt'].sort_values()"
   ]
  },
  {
   "cell_type": "code",
   "execution_count": null,
   "id": "6fa4ce6b",
   "metadata": {},
   "outputs": [],
   "source": [
    "empl['report_dt'].sort_values(ascending=False)"
   ]
  },
  {
   "cell_type": "code",
   "execution_count": null,
   "id": "ad348c72",
   "metadata": {},
   "outputs": [],
   "source": []
  },
  {
   "cell_type": "code",
   "execution_count": null,
   "id": "03c1f2e6",
   "metadata": {},
   "outputs": [],
   "source": []
  },
  {
   "cell_type": "code",
   "execution_count": null,
   "id": "4855019e",
   "metadata": {},
   "outputs": [],
   "source": []
  },
  {
   "cell_type": "code",
   "execution_count": null,
   "id": "a05d810c",
   "metadata": {},
   "outputs": [],
   "source": []
  },
  {
   "cell_type": "code",
   "execution_count": null,
   "id": "6bc74c35",
   "metadata": {},
   "outputs": [],
   "source": []
  },
  {
   "cell_type": "code",
   "execution_count": null,
   "id": "f8c417dd",
   "metadata": {},
   "outputs": [],
   "source": []
  },
  {
   "cell_type": "code",
   "execution_count": null,
   "id": "4d2c7675",
   "metadata": {},
   "outputs": [],
   "source": []
  },
  {
   "cell_type": "code",
   "execution_count": null,
   "id": "3d4681ee",
   "metadata": {},
   "outputs": [],
   "source": []
  },
  {
   "cell_type": "code",
   "execution_count": null,
   "id": "ce3f6004",
   "metadata": {},
   "outputs": [],
   "source": []
  },
  {
   "cell_type": "code",
   "execution_count": null,
   "id": "4f1f4fad",
   "metadata": {},
   "outputs": [],
   "source": []
  },
  {
   "cell_type": "code",
   "execution_count": null,
   "id": "362a97ce",
   "metadata": {},
   "outputs": [],
   "source": []
  },
  {
   "cell_type": "code",
   "execution_count": null,
   "id": "3bb2dd6f",
   "metadata": {},
   "outputs": [],
   "source": []
  },
  {
   "cell_type": "code",
   "execution_count": null,
   "id": "043a4603",
   "metadata": {},
   "outputs": [],
   "source": []
  },
  {
   "cell_type": "code",
   "execution_count": null,
   "id": "f5fff0d6",
   "metadata": {},
   "outputs": [],
   "source": []
  },
  {
   "cell_type": "markdown",
   "id": "7eacde5f",
   "metadata": {},
   "source": [
    "#### Сортировка по индексу"
   ]
  },
  {
   "cell_type": "code",
   "execution_count": null,
   "id": "4ab2c3fc",
   "metadata": {},
   "outputs": [],
   "source": [
    "empl.sort_index()"
   ]
  },
  {
   "cell_type": "markdown",
   "id": "97ef2bb9",
   "metadata": {},
   "source": [
    "#### При использовании с параметрами по умолчанию таблица отсортируется сначала по первому столбцу в индексе, а затем по второму в порядке возрастания"
   ]
  },
  {
   "cell_type": "code",
   "execution_count": null,
   "id": "a943b59a",
   "metadata": {},
   "outputs": [],
   "source": [
    "empl.set_index(['salary', 'i_pernr']).sort_index()"
   ]
  },
  {
   "cell_type": "code",
   "execution_count": null,
   "id": "c200f60a",
   "metadata": {},
   "outputs": [],
   "source": [
    "empl.set_index(['salary', 'i_pernr']).sort_index(level=['i_pernr', 0], ascending=[True, False])"
   ]
  },
  {
   "cell_type": "code",
   "execution_count": null,
   "id": "599d1f34",
   "metadata": {},
   "outputs": [],
   "source": []
  },
  {
   "cell_type": "code",
   "execution_count": null,
   "id": "4522ffd6",
   "metadata": {},
   "outputs": [],
   "source": []
  },
  {
   "cell_type": "code",
   "execution_count": null,
   "id": "a072cc3a",
   "metadata": {},
   "outputs": [],
   "source": []
  },
  {
   "cell_type": "code",
   "execution_count": null,
   "id": "2f396e59",
   "metadata": {},
   "outputs": [],
   "source": []
  },
  {
   "cell_type": "code",
   "execution_count": null,
   "id": "8bd310f6",
   "metadata": {},
   "outputs": [],
   "source": []
  },
  {
   "cell_type": "code",
   "execution_count": null,
   "id": "65372390",
   "metadata": {},
   "outputs": [],
   "source": []
  },
  {
   "cell_type": "code",
   "execution_count": null,
   "id": "45316bad",
   "metadata": {},
   "outputs": [],
   "source": []
  },
  {
   "cell_type": "code",
   "execution_count": null,
   "id": "56b37114",
   "metadata": {},
   "outputs": [],
   "source": []
  },
  {
   "cell_type": "code",
   "execution_count": null,
   "id": "e7fe0f39",
   "metadata": {},
   "outputs": [],
   "source": []
  },
  {
   "cell_type": "code",
   "execution_count": null,
   "id": "f15c3bad",
   "metadata": {},
   "outputs": [],
   "source": []
  },
  {
   "cell_type": "code",
   "execution_count": null,
   "id": "86bc1ae5",
   "metadata": {},
   "outputs": [],
   "source": []
  },
  {
   "cell_type": "code",
   "execution_count": null,
   "id": "66605e79",
   "metadata": {},
   "outputs": [],
   "source": []
  },
  {
   "cell_type": "code",
   "execution_count": null,
   "id": "76f04b0d",
   "metadata": {},
   "outputs": [],
   "source": []
  },
  {
   "cell_type": "code",
   "execution_count": null,
   "id": "4eaff8e6",
   "metadata": {},
   "outputs": [],
   "source": []
  },
  {
   "cell_type": "markdown",
   "id": "938bfe2c",
   "metadata": {},
   "source": [
    "### Метод sort_values удобно использовать вместе с методом drop_duplicates"
   ]
  },
  {
   "cell_type": "markdown",
   "id": "a9b4271e",
   "metadata": {},
   "source": [
    "Для каждого человека находим зарплату, с которой он впервые устраивался на работу"
   ]
  },
  {
   "cell_type": "code",
   "execution_count": null,
   "id": "a0e9c2a2",
   "metadata": {},
   "outputs": [],
   "source": [
    "empl.sort_values('report_dt').drop_duplicates('i_pernr')"
   ]
  },
  {
   "cell_type": "markdown",
   "id": "bac83895",
   "metadata": {},
   "source": [
    "Для каждого человека находим последнюю зарплату"
   ]
  },
  {
   "cell_type": "code",
   "execution_count": null,
   "id": "66ec6a38",
   "metadata": {},
   "outputs": [],
   "source": [
    "empl.sort_values('report_dt').drop_duplicates('i_pernr', keep='last')"
   ]
  },
  {
   "cell_type": "code",
   "execution_count": null,
   "id": "481920d4",
   "metadata": {},
   "outputs": [],
   "source": []
  },
  {
   "cell_type": "code",
   "execution_count": null,
   "id": "1697b2a5",
   "metadata": {},
   "outputs": [],
   "source": []
  },
  {
   "cell_type": "code",
   "execution_count": null,
   "id": "afb272ed",
   "metadata": {},
   "outputs": [],
   "source": []
  },
  {
   "cell_type": "code",
   "execution_count": null,
   "id": "6cd64dd8",
   "metadata": {},
   "outputs": [],
   "source": []
  },
  {
   "cell_type": "code",
   "execution_count": null,
   "id": "d26e8314",
   "metadata": {},
   "outputs": [],
   "source": []
  },
  {
   "cell_type": "code",
   "execution_count": null,
   "id": "05278644",
   "metadata": {},
   "outputs": [],
   "source": []
  },
  {
   "cell_type": "code",
   "execution_count": null,
   "id": "97c120d2",
   "metadata": {},
   "outputs": [],
   "source": []
  },
  {
   "cell_type": "code",
   "execution_count": null,
   "id": "2b6fa0fb",
   "metadata": {},
   "outputs": [],
   "source": []
  },
  {
   "cell_type": "code",
   "execution_count": null,
   "id": "0d192490",
   "metadata": {},
   "outputs": [],
   "source": []
  },
  {
   "cell_type": "code",
   "execution_count": null,
   "id": "6fa11020",
   "metadata": {},
   "outputs": [],
   "source": []
  },
  {
   "cell_type": "code",
   "execution_count": null,
   "id": "5dbc7a36",
   "metadata": {},
   "outputs": [],
   "source": []
  },
  {
   "cell_type": "code",
   "execution_count": null,
   "id": "5329ca99",
   "metadata": {},
   "outputs": [],
   "source": []
  },
  {
   "cell_type": "code",
   "execution_count": null,
   "id": "26923227",
   "metadata": {},
   "outputs": [],
   "source": []
  },
  {
   "cell_type": "code",
   "execution_count": null,
   "id": "21933744",
   "metadata": {},
   "outputs": [],
   "source": []
  },
  {
   "cell_type": "code",
   "execution_count": null,
   "id": "e255fd1e",
   "metadata": {},
   "outputs": [],
   "source": []
  },
  {
   "cell_type": "code",
   "execution_count": null,
   "id": "108b6b4b",
   "metadata": {},
   "outputs": [],
   "source": []
  },
  {
   "cell_type": "code",
   "execution_count": null,
   "id": "fde45486",
   "metadata": {},
   "outputs": [],
   "source": []
  },
  {
   "cell_type": "code",
   "execution_count": null,
   "id": "57a28c37",
   "metadata": {},
   "outputs": [],
   "source": []
  },
  {
   "cell_type": "markdown",
   "id": "ae386001",
   "metadata": {},
   "source": [
    "## rank\n",
    "\n",
    "Метод ранжирует наблюдения. Говорит каким по счету оно будет в отсортированном массиве"
   ]
  },
  {
   "cell_type": "markdown",
   "id": "2ceeb5c6",
   "metadata": {},
   "source": [
    "Метод может пригодиться если стоит задача найти какое-то по счету значение, например, второе по возрастанию"
   ]
  },
  {
   "cell_type": "code",
   "execution_count": null,
   "id": "4bbc88fb",
   "metadata": {},
   "outputs": [],
   "source": [
    "empl.iloc[:5, -1]"
   ]
  },
  {
   "cell_type": "code",
   "execution_count": null,
   "id": "1d2b5bb2",
   "metadata": {},
   "outputs": [],
   "source": [
    "empl.iloc[:5, -1].rank()"
   ]
  },
  {
   "cell_type": "code",
   "execution_count": null,
   "id": "906d181f",
   "metadata": {},
   "outputs": [],
   "source": []
  },
  {
   "cell_type": "code",
   "execution_count": null,
   "id": "1cc8dc1b",
   "metadata": {},
   "outputs": [],
   "source": []
  },
  {
   "cell_type": "code",
   "execution_count": null,
   "id": "da790ab8",
   "metadata": {},
   "outputs": [],
   "source": []
  },
  {
   "cell_type": "code",
   "execution_count": null,
   "id": "e6f28eb2",
   "metadata": {},
   "outputs": [],
   "source": []
  },
  {
   "cell_type": "code",
   "execution_count": null,
   "id": "9d03829e",
   "metadata": {},
   "outputs": [],
   "source": []
  },
  {
   "cell_type": "code",
   "execution_count": null,
   "id": "9fda8b3e",
   "metadata": {},
   "outputs": [],
   "source": []
  },
  {
   "cell_type": "code",
   "execution_count": null,
   "id": "214ab700",
   "metadata": {},
   "outputs": [],
   "source": []
  },
  {
   "cell_type": "markdown",
   "id": "b3ac540c",
   "metadata": {},
   "source": [
    "#### Разные методы работы с повторяющимися значениями"
   ]
  },
  {
   "cell_type": "markdown",
   "id": "47e9e49e",
   "metadata": {},
   "source": [
    "method = method{‘average’, ‘min’, ‘max’, ‘first’, ‘dense’}, default ‘average’"
   ]
  },
  {
   "cell_type": "code",
   "execution_count": null,
   "id": "52adbbae",
   "metadata": {},
   "outputs": [],
   "source": [
    "empl.iloc[[3, 5, 10, 23], -1]"
   ]
  },
  {
   "cell_type": "code",
   "execution_count": null,
   "id": "b1aa567a",
   "metadata": {},
   "outputs": [],
   "source": [
    "empl.iloc[[3, 5, 10, 23], -1].rank()"
   ]
  },
  {
   "cell_type": "code",
   "execution_count": null,
   "id": "5bc48b39",
   "metadata": {},
   "outputs": [],
   "source": [
    "empl.iloc[[3, 5, 10, 23], -1].rank(method='min')"
   ]
  },
  {
   "cell_type": "code",
   "execution_count": null,
   "id": "c29b3161",
   "metadata": {},
   "outputs": [],
   "source": [
    "empl.iloc[[3, 5, 10, 23], -1].rank(method='max')"
   ]
  },
  {
   "cell_type": "code",
   "execution_count": null,
   "id": "a07728fe",
   "metadata": {},
   "outputs": [],
   "source": [
    "empl.iloc[[3, 5, 10, 23], -1].rank(method='first')"
   ]
  },
  {
   "cell_type": "code",
   "execution_count": null,
   "id": "b647cbb5",
   "metadata": {},
   "outputs": [],
   "source": [
    "empl.iloc[[3, 5, 10, 23], -1].rank(method='dense')"
   ]
  },
  {
   "cell_type": "code",
   "execution_count": null,
   "id": "b9718790",
   "metadata": {},
   "outputs": [],
   "source": []
  },
  {
   "cell_type": "code",
   "execution_count": null,
   "id": "0314754f",
   "metadata": {},
   "outputs": [],
   "source": []
  },
  {
   "cell_type": "markdown",
   "id": "31c92ecd",
   "metadata": {},
   "source": [
    "#### Ранжирование в обратном порядке"
   ]
  },
  {
   "cell_type": "code",
   "execution_count": null,
   "id": "3600a5ab",
   "metadata": {},
   "outputs": [],
   "source": [
    "empl.iloc[[3, 5, 10, 23], -1]"
   ]
  },
  {
   "cell_type": "code",
   "execution_count": null,
   "id": "a40f9611",
   "metadata": {},
   "outputs": [],
   "source": [
    "empl.iloc[[3, 5, 10, 23], -1].rank(ascending=False)"
   ]
  },
  {
   "cell_type": "code",
   "execution_count": null,
   "id": "faf03fa2",
   "metadata": {},
   "outputs": [],
   "source": [
    "(empl\n",
    "    .query('report_dt == \"2022-12-31\"')\n",
    "    .query('salary.rank(method=\"dense\") == 95')\n",
    ")"
   ]
  },
  {
   "cell_type": "code",
   "execution_count": null,
   "id": "045accac",
   "metadata": {},
   "outputs": [],
   "source": []
  },
  {
   "cell_type": "code",
   "execution_count": null,
   "id": "d871bbf5",
   "metadata": {},
   "outputs": [],
   "source": []
  },
  {
   "cell_type": "code",
   "execution_count": null,
   "id": "0dbb3375",
   "metadata": {},
   "outputs": [],
   "source": []
  },
  {
   "cell_type": "code",
   "execution_count": null,
   "id": "3bd721cc",
   "metadata": {},
   "outputs": [],
   "source": []
  },
  {
   "cell_type": "code",
   "execution_count": null,
   "id": "bc7d7fd3",
   "metadata": {},
   "outputs": [],
   "source": []
  },
  {
   "cell_type": "code",
   "execution_count": null,
   "id": "eca5fb64",
   "metadata": {},
   "outputs": [],
   "source": []
  },
  {
   "cell_type": "code",
   "execution_count": null,
   "id": "75cff573",
   "metadata": {},
   "outputs": [],
   "source": []
  },
  {
   "cell_type": "code",
   "execution_count": null,
   "id": "6d0c0703",
   "metadata": {},
   "outputs": [],
   "source": []
  },
  {
   "cell_type": "code",
   "execution_count": null,
   "id": "7bbe68d1",
   "metadata": {},
   "outputs": [],
   "source": []
  },
  {
   "cell_type": "code",
   "execution_count": null,
   "id": "0c2c58a8",
   "metadata": {},
   "outputs": [],
   "source": []
  },
  {
   "cell_type": "markdown",
   "id": "5f72d08f",
   "metadata": {},
   "source": [
    "# Задания"
   ]
  },
  {
   "cell_type": "markdown",
   "id": "797f696f",
   "metadata": {},
   "source": [
    "#### Описание таблиц лежит [здесь](https://github.com/victorlymarev/pandas/tree/main/tables#%D0%BE%D0%BF%D0%B8%D1%81%D0%B0%D0%BD%D0%B8%D0%B5-%D1%82%D0%B0%D0%B1%D0%BB%D0%B8%D1%86)"
   ]
  },
  {
   "cell_type": "markdown",
   "id": "aa6dc947",
   "metadata": {},
   "source": [
    "Некоторые таблицы занимают много памяти, поэтому каждые 5-10 заданий лучше перезапускайте ноутбук.\n",
    "\n",
    "В формулировке некоторых заданий может содержаться вариативность. Если у вас есть сомнения, что требуется в задании, попробуйте решить несколько вариантов. Если вы не понимаете задание, можете написать об этом в комментариях под видео.\n",
    "\n",
    "В большинстве случаев внешний вид итоговой таблицы не определен. Выведите на экран наиболее адекватный вариант. То есть таблицу, из которой можно будет сделать выводы.\n",
    "\n",
    "Курс пока находится в разработке. Вы можете помочь другим людям добавив свое решение [сюда](https://docs.google.com/forms/d/1HYTBz_KfssY3Jps2dC3n0YnEqa6WBb5OIhLo1d32Xzw/edit).\n",
    "\n",
    "Посмотреть решения других людей можно [здесь](https://docs.google.com/spreadsheets/d/1pMDYO-9UneLbPPnEuQ2shig0TOJdQTU-zipifyAnZMk/edit?resourcekey#gid=1998648012)"
   ]
  },
  {
   "cell_type": "markdown",
   "id": "2d5a1bac",
   "metadata": {},
   "source": [
    "### Задание 1\n",
    "\n",
    "Отсортируйте таблицу по возрастанию дат. Строки с одинаковой датой отсортируйте по убыванию цены"
   ]
  },
  {
   "cell_type": "code",
   "execution_count": null,
   "id": "d99c3341",
   "metadata": {},
   "outputs": [],
   "source": [
    "import os\n",
    "import pandas as pd\n",
    "\n",
    "path_prices = '../tables/prices.parquet' if os.path.exists('../tables/prices.parquet') else 'https://drive.google.com/uc?id=1_KfYyYCsib8woanbP3VouLUpYp103dV5'\n",
    "\n",
    "prices = pd.read_parquet(path_prices)\n",
    "prices.head()"
   ]
  },
  {
   "cell_type": "markdown",
   "id": "cfac9062",
   "metadata": {},
   "source": [
    "### Задание 2\n",
    "Отсортируйте таблицу сначала по табельному номеру, а затем по зарплате"
   ]
  },
  {
   "cell_type": "code",
   "execution_count": null,
   "id": "66f4bc4e",
   "metadata": {},
   "outputs": [],
   "source": [
    "import os\n",
    "import pandas as pd\n",
    "\n",
    "path_empl = '../tables/employees.parquet' if os.path.exists('../tables/employees.parquet') else 'https://drive.google.com/uc?id=1AARD5-eVlCxoApt5CYZebrC3Cqw42lvj'\n",
    "\n",
    "empl = pd.read_parquet(path_empl)\n",
    "empl.head()"
   ]
  },
  {
   "cell_type": "markdown",
   "id": "996595e1",
   "metadata": {},
   "source": [
    "### Задание 3\n",
    "Отсортируйте таблицу по убыванию дат"
   ]
  },
  {
   "cell_type": "code",
   "execution_count": null,
   "id": "72ff0cb8",
   "metadata": {},
   "outputs": [],
   "source": [
    "import os\n",
    "import pandas as pd\n",
    "\n",
    "path_stocks = '../tables/stocks.parquet' if os.path.exists('../tables/stocks.parquet') else 'https://drive.google.com/uc?id=1weGquTtmR92mKYAeZhZCFHJjndyoSXZt'\n",
    "\n",
    "stocks = pd.read_parquet(path_stocks)\n",
    "stocks.head()"
   ]
  },
  {
   "cell_type": "code",
   "execution_count": null,
   "id": "5232aada",
   "metadata": {},
   "outputs": [],
   "source": [
    "\n",
    "# напишите свой код здесь"
   ]
  },
  {
   "cell_type": "markdown",
   "id": "c84701cb",
   "metadata": {},
   "source": [
    "### Задание 4\n",
    "Отсортируйте магазины так, чтобы сначала шли мелкие магазины, потом средние, а в конце крупные"
   ]
  },
  {
   "cell_type": "markdown",
   "id": "66626742",
   "metadata": {},
   "source": [
    "<details>\n",
    "\n",
    "<summary>Подсказка</summary>\n",
    " \n",
    "Здесь вам помогут методы set_index и loc\n",
    "\n",
    "</details>\n"
   ]
  },
  {
   "cell_type": "code",
   "execution_count": null,
   "id": "ebac8e70",
   "metadata": {},
   "outputs": [],
   "source": [
    "import os\n",
    "import pandas as pd\n",
    "\n",
    "path_shops = '../tables/shops.xlsx' if os.path.exists('../tables/shops.xlsx') else 'https://drive.google.com/uc?id=1gfnmceJa3Mc1X06NftTx9G9QfKfprjEB'\n",
    "\n",
    "shops = pd.read_excel(path_shops)\n",
    "shops.head()"
   ]
  },
  {
   "cell_type": "code",
   "execution_count": null,
   "id": "fe1a4d52",
   "metadata": {},
   "outputs": [],
   "source": [
    "# напишите свой код здесь"
   ]
  },
  {
   "cell_type": "markdown",
   "id": "aad1924e",
   "metadata": {},
   "source": [
    "### Задание 5\n",
    "По таблице sales найдите стоимость самого дорогово товара в чеке"
   ]
  },
  {
   "cell_type": "code",
   "execution_count": null,
   "id": "4ff43548",
   "metadata": {},
   "outputs": [],
   "source": [
    "import os\n",
    "import pandas as pd\n",
    "\n",
    "path_sales_sample_check = '../tables/sales_sample_check.parquet' if os.path.exists('../tables/sales_sample_check.parquet') else 'https://drive.google.com/uc?id=1oYT518oqGnEF51PSFHfSHYNP-690ktFL'\n",
    "# path_sales = '../tables/sales.parquet' if os.path.exists('../tables/sales.parquet') else \"https://drive.usercontent.google.com/download?id=15KwSxyM6hpNABGe6_vsrFZvD09VfHFyK&export=download&authuser=1&confirm=t&uuid=115bd48c-cc2c-4f2a-8b42-be5ca6ef6db8&at=APZUnTUVb8nfNANw5wr9Cad7PJ3U:1693327774694\"\n",
    "\n",
    "sales = pd.read_parquet(path_sales_sample_check)\n",
    "sales.head()"
   ]
  },
  {
   "cell_type": "code",
   "execution_count": null,
   "id": "393b4d8e",
   "metadata": {},
   "outputs": [],
   "source": [
    "# напишите свой код здесь"
   ]
  },
  {
   "cell_type": "markdown",
   "id": "81056773",
   "metadata": {},
   "source": [
    "### Задание 6\n",
    "Чему равна третья самая высокая зарплата за май 2020 года в плотно отранжированном ряду"
   ]
  },
  {
   "cell_type": "code",
   "execution_count": null,
   "id": "e2d0061e",
   "metadata": {},
   "outputs": [],
   "source": [
    "import os\n",
    "import pandas as pd\n",
    "\n",
    "path_empl = '../tables/employees.parquet' if os.path.exists('../tables/employees.parquet') else 'https://drive.google.com/uc?id=1AARD5-eVlCxoApt5CYZebrC3Cqw42lvj'\n",
    "\n",
    "empl = pd.read_parquet(path_empl)\n",
    "empl.head()"
   ]
  },
  {
   "cell_type": "code",
   "execution_count": null,
   "id": "7def84a5",
   "metadata": {},
   "outputs": [],
   "source": [
    "# напишите свой код здесь"
   ]
  },
  {
   "cell_type": "code",
   "execution_count": null,
   "id": "f31fd874",
   "metadata": {},
   "outputs": [],
   "source": []
  },
  {
   "cell_type": "code",
   "execution_count": null,
   "id": "8da1f078",
   "metadata": {},
   "outputs": [],
   "source": []
  },
  {
   "cell_type": "code",
   "execution_count": null,
   "id": "fc8dcfe7",
   "metadata": {},
   "outputs": [],
   "source": []
  },
  {
   "cell_type": "code",
   "execution_count": null,
   "id": "79df2ea5",
   "metadata": {},
   "outputs": [],
   "source": []
  },
  {
   "cell_type": "code",
   "execution_count": null,
   "id": "d6c98c1a",
   "metadata": {},
   "outputs": [],
   "source": []
  }
 ],
 "metadata": {
  "kernelspec": {
   "display_name": "Python 3 (ipykernel)",
   "language": "python",
   "name": "python3"
  },
  "language_info": {
   "codemirror_mode": {
    "name": "ipython",
    "version": 3
   },
   "file_extension": ".py",
   "mimetype": "text/x-python",
   "name": "python",
   "nbconvert_exporter": "python",
   "pygments_lexer": "ipython3",
   "version": "3.11.6"
  }
 },
 "nbformat": 4,
 "nbformat_minor": 5
}
