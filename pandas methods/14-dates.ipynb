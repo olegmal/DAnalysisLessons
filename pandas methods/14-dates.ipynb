{
 "cells": [
  {
   "cell_type": "markdown",
   "id": "47a3d32e",
   "metadata": {},
   "source": [
    "<a target=\"_blank\" href=\"https://colab.research.google.com/github/victorlymarev/pandas/blob/main/notebooks/14-dates.ipynb\">\n",
    "  <img src=\"https://colab.research.google.com/assets/colab-badge.svg\" alt=\"Open In Colab\"/>\n",
    "</a>"
   ]
  },
  {
   "cell_type": "markdown",
   "id": "7d141ed5",
   "metadata": {},
   "source": [
    "# Работа с датами\n",
    "#### [Ссылка на видео](https://youtu.be/XALU2vi2J7Q)"
   ]
  },
  {
   "cell_type": "code",
   "execution_count": null,
   "id": "f385a7c8",
   "metadata": {},
   "outputs": [],
   "source": [
    "import pandas as pd\n",
    "import numpy as np\n",
    "import os"
   ]
  },
  {
   "cell_type": "code",
   "execution_count": null,
   "id": "567707d0",
   "metadata": {},
   "outputs": [],
   "source": [
    "path_ltc_sample = '../tables/ltc_sample.parquet' if os.path.exists('../tables/ltc_sample.parquet') else 'https://drive.google.com/uc?id=1XaThogOOqKjJj50LvfJ9WqutjMAC5AxA'\n",
    "\n",
    "ltc = pd.read_parquet(path_ltc_sample)\n",
    "ltc.head()"
   ]
  },
  {
   "cell_type": "code",
   "execution_count": null,
   "id": "87d50105",
   "metadata": {},
   "outputs": [],
   "source": [
    "ltc['date'].head()"
   ]
  },
  {
   "cell_type": "markdown",
   "id": "4e2d31ae",
   "metadata": {},
   "source": [
    "Приведение дат к целым числам"
   ]
  },
  {
   "cell_type": "code",
   "execution_count": null,
   "id": "a1251942",
   "metadata": {},
   "outputs": [],
   "source": [
    "ltc['date'].head().astype('int64')"
   ]
  },
  {
   "cell_type": "code",
   "execution_count": null,
   "id": "b8f76624",
   "metadata": {},
   "outputs": [],
   "source": [
    "ltc['date'].head().astype(str)"
   ]
  },
  {
   "cell_type": "markdown",
   "id": "da443478",
   "metadata": {},
   "source": [
    "Приведение строк и чисел к датам"
   ]
  },
  {
   "cell_type": "code",
   "execution_count": null,
   "id": "753d351c",
   "metadata": {},
   "outputs": [],
   "source": [
    "ltc['date'].head().astype(str).astype('datetime64')"
   ]
  },
  {
   "cell_type": "code",
   "execution_count": null,
   "id": "4ec9b0a1",
   "metadata": {},
   "outputs": [],
   "source": [
    "pd.to_datetime(ltc['date'].astype(str).head())"
   ]
  },
  {
   "cell_type": "code",
   "execution_count": null,
   "id": "fb5aa914",
   "metadata": {},
   "outputs": [],
   "source": [
    "pd.to_datetime(ltc['date'].astype('int64').head(), unit='ns')"
   ]
  },
  {
   "cell_type": "markdown",
   "id": "103ed642",
   "metadata": {},
   "source": [
    "### Разложение даты и времени на части"
   ]
  },
  {
   "cell_type": "markdown",
   "id": "cf66ccf4",
   "metadata": {},
   "source": [
    "Но у дат есть свои специфические методы и атрибуты, которые можно получить через атрибут dt"
   ]
  },
  {
   "cell_type": "markdown",
   "id": "4b741af7",
   "metadata": {},
   "source": [
    "| Название атрибута                          | Описание                                                |\n",
    "|:------------------------------------------:|:-------------------------------------------------------:|\n",
    "| year                                       | Год                                                     |\n",
    "| month                                      | Месяц                                                   |\n",
    "| day                                        | День                                                    |\n",
    "| hour                                       | Час                                                     |\n",
    "| minute                                     | Минута                                                  |\n",
    "| second                                     | Секунда                                                 |\n",
    "| microsecond                                | Микросекунда                                            |\n",
    "| nanosecond                                 | Наносекунда                                             |\n",
    "| date                                       | Дата (без учета времени и таймзоны)                     |\n",
    "| time                                       | Время (без учета таймзоны)                              |\n",
    "| timetz                                     | Время (с учетем таймзоны)                               |\n",
    "| dayofyear или day_of_year                  | Номер дня в году (начиная с 1)                          |\n",
    "| weekofyear или week или isocalendar().week | Номер недели в году (начиная с 1)                       |\n",
    "| day_of_week или weekday                    | Номер дня недели (начиная с 0)                          |\n",
    "| day_name('rus')                            | Название дня недели (на русском языке)                  |\n",
    "| quarter                                    | Номер квартала (начиная с 1)                            |\n",
    "| days_in_month или daysinmonth              | Число дней в месяце                                     |\n",
    "| freq                                       | Частота (если есть)                                     |\n",
    "| is_month_start                             | Проверка на то, что число - это первый день месяца      |\n",
    "| is_month_end                               | Проверка на то, что число - это последний день месяца   |\n",
    "| is_quarter_start                           | Проверка на то, что число - это первый день квартала    |\n",
    "| is_quarter_end                             | Проверка на то, что число - это последний день квартала |\n",
    "| is_year_start                              | Проверка на то, что число - это первый день года        |\n",
    "| is_year_end                                | Проверка на то, что число - это последний день года     |\n",
    "| is_leap_year                               | Проверка на то, что год - высокосный                    |\n",
    "| tz                                         | Таймзона (если есть)                                    |\n",
    "| isocalendar()                              | Разложение даты на год, неделю и день                   |"
   ]
  },
  {
   "cell_type": "markdown",
   "id": "b29dc2cc",
   "metadata": {},
   "source": [
    "#### Год"
   ]
  },
  {
   "cell_type": "code",
   "execution_count": null,
   "id": "70a03814",
   "metadata": {},
   "outputs": [],
   "source": [
    "ltc['date'].dt.year"
   ]
  },
  {
   "cell_type": "markdown",
   "id": "3d8492cc",
   "metadata": {},
   "source": [
    "#### Месяц"
   ]
  },
  {
   "cell_type": "code",
   "execution_count": null,
   "id": "fefe77bc",
   "metadata": {},
   "outputs": [],
   "source": [
    "ltc['date'].dt.month"
   ]
  },
  {
   "cell_type": "markdown",
   "id": "0b96fb82",
   "metadata": {},
   "source": [
    "#### Номер дня недели"
   ]
  },
  {
   "cell_type": "code",
   "execution_count": null,
   "id": "9043b513",
   "metadata": {},
   "outputs": [],
   "source": [
    "ltc['date'].dt.weekday"
   ]
  },
  {
   "cell_type": "markdown",
   "id": "aa60b454",
   "metadata": {},
   "source": [
    "#### Дата"
   ]
  },
  {
   "cell_type": "markdown",
   "id": "b0e0328e",
   "metadata": {},
   "source": [
    "Тип данных - object!"
   ]
  },
  {
   "cell_type": "code",
   "execution_count": null,
   "id": "5c94fb03",
   "metadata": {},
   "outputs": [],
   "source": [
    "ltc['date'].dt.date"
   ]
  },
  {
   "cell_type": "markdown",
   "id": "d74cf36c",
   "metadata": {},
   "source": [
    "#### Название дня недели "
   ]
  },
  {
   "cell_type": "code",
   "execution_count": null,
   "id": "73762996",
   "metadata": {},
   "outputs": [],
   "source": [
    "ltc['date'].dt.day_name()"
   ]
  },
  {
   "cell_type": "code",
   "execution_count": null,
   "id": "dd178363",
   "metadata": {},
   "outputs": [],
   "source": [
    "ltc['date'].dt.day_name('rus')"
   ]
  },
  {
   "cell_type": "markdown",
   "id": "bf7abac4",
   "metadata": {},
   "source": [
    "#### Проверка на то, что дата - начало месяца"
   ]
  },
  {
   "cell_type": "code",
   "execution_count": null,
   "id": "d20212bf",
   "metadata": {},
   "outputs": [],
   "source": [
    "ltc['date'].dt.is_month_start"
   ]
  },
  {
   "cell_type": "markdown",
   "id": "ded5abec",
   "metadata": {},
   "source": [
    "#### Установка часового пояса"
   ]
  },
  {
   "cell_type": "code",
   "execution_count": null,
   "id": "a008fb9f",
   "metadata": {},
   "outputs": [],
   "source": [
    "tz = ltc['date'].dt.tz_localize('Europe/Moscow')\n",
    "tz"
   ]
  },
  {
   "cell_type": "code",
   "execution_count": null,
   "id": "765b3b0c",
   "metadata": {},
   "outputs": [],
   "source": [
    "url_timezones = 'https://en.wikipedia.org/wiki/List_of_tz_database_time_zones'\n",
    "pd.read_html(url_timezones)[0].droplevel(0, 1)['TZ identifier'].tolist()#[:5]"
   ]
  },
  {
   "cell_type": "markdown",
   "id": "2b930307",
   "metadata": {},
   "source": [
    "#### Изменение часового пояса"
   ]
  },
  {
   "cell_type": "code",
   "execution_count": null,
   "id": "4e4b56b7",
   "metadata": {},
   "outputs": [],
   "source": [
    "tz.head()"
   ]
  },
  {
   "cell_type": "code",
   "execution_count": null,
   "id": "a37f3912",
   "metadata": {
    "scrolled": true
   },
   "outputs": [],
   "source": [
    "tz.dt.tz_convert('Asia/Yekaterinburg').head()"
   ]
  },
  {
   "cell_type": "code",
   "execution_count": null,
   "id": "95ef71b9",
   "metadata": {},
   "outputs": [],
   "source": []
  },
  {
   "cell_type": "code",
   "execution_count": null,
   "id": "f02db537",
   "metadata": {},
   "outputs": [],
   "source": []
  },
  {
   "cell_type": "markdown",
   "id": "99a992d0",
   "metadata": {},
   "source": [
    "### Округление дат"
   ]
  },
  {
   "cell_type": "markdown",
   "id": "7b59fe3d",
   "metadata": {},
   "source": [
    "#### dt.normalize()\n",
    "\n",
    "Приведение даты к полуночи"
   ]
  },
  {
   "cell_type": "code",
   "execution_count": null,
   "id": "24b33c4a",
   "metadata": {},
   "outputs": [],
   "source": [
    "ltc['date'].dt.normalize()"
   ]
  },
  {
   "cell_type": "markdown",
   "id": "a1b34ad4",
   "metadata": {},
   "source": [
    "### dt.round()\n",
    "\n",
    "Округление даты"
   ]
  },
  {
   "cell_type": "code",
   "execution_count": null,
   "id": "1a98a849",
   "metadata": {},
   "outputs": [],
   "source": [
    "ltc['date'].dt.round(freq='h')"
   ]
  },
  {
   "cell_type": "code",
   "execution_count": null,
   "id": "bae3276b",
   "metadata": {},
   "outputs": [],
   "source": [
    "ltc['date'].dt.round(freq='2d')"
   ]
  },
  {
   "cell_type": "code",
   "execution_count": null,
   "id": "d2120b77",
   "metadata": {},
   "outputs": [],
   "source": [
    "# Это работать не будет\n",
    "# ltc['date'].dt.round(freq='m')"
   ]
  },
  {
   "cell_type": "markdown",
   "id": "1301e5b1",
   "metadata": {},
   "source": [
    "Можно написать свое условие"
   ]
  },
  {
   "cell_type": "code",
   "execution_count": null,
   "id": "8eff9412",
   "metadata": {},
   "outputs": [],
   "source": [
    "np.where(ltc['date'].dt.day >= 16,\n",
    "         ltc['date'].dt.normalize() + pd.offsets.MonthEnd(0), # приводим дату к концу месяца если условие выполнено\n",
    "#          Приводим дату к концу предыдущего месяца если условие не соблюдается\n",
    "         ltc['date'].dt.normalize() + pd.offsets.MonthEnd(0) - pd.offsets.MonthEnd(1))"
   ]
  },
  {
   "cell_type": "markdown",
   "id": "2acc6d63",
   "metadata": {},
   "source": [
    "### dt.floor\n",
    "\n",
    "Округление даты вниз"
   ]
  },
  {
   "cell_type": "code",
   "execution_count": null,
   "id": "f39633a3",
   "metadata": {},
   "outputs": [],
   "source": [
    "ltc['date'].dt.floor(freq='d')"
   ]
  },
  {
   "cell_type": "markdown",
   "id": "64468b36",
   "metadata": {},
   "source": [
    "### dt.ceil\n",
    "\n",
    "Округление даты вверх"
   ]
  },
  {
   "cell_type": "code",
   "execution_count": null,
   "id": "339e6243",
   "metadata": {},
   "outputs": [],
   "source": [
    "ltc['date'].dt.ceil(freq='d')"
   ]
  },
  {
   "cell_type": "markdown",
   "id": "e24e374d",
   "metadata": {},
   "source": [
    "### dt.strftime()\n",
    "Представление даты в виде строки нужного формата"
   ]
  },
  {
   "cell_type": "code",
   "execution_count": null,
   "id": "5e85e69e",
   "metadata": {},
   "outputs": [],
   "source": [
    "ltc['date'].head().dt.strftime('%d-%m-%Y')"
   ]
  },
  {
   "cell_type": "code",
   "execution_count": null,
   "id": "ef8f1a8c",
   "metadata": {},
   "outputs": [],
   "source": []
  },
  {
   "cell_type": "code",
   "execution_count": null,
   "id": "fc2c6d0c",
   "metadata": {},
   "outputs": [],
   "source": []
  },
  {
   "cell_type": "markdown",
   "id": "5766624e",
   "metadata": {},
   "source": [
    "### С датами можно использовать агрегационные функции"
   ]
  },
  {
   "cell_type": "code",
   "execution_count": null,
   "id": "edb41e36",
   "metadata": {},
   "outputs": [],
   "source": [
    "ltc['date'].mean()"
   ]
  },
  {
   "cell_type": "code",
   "execution_count": null,
   "id": "5d565f56",
   "metadata": {},
   "outputs": [],
   "source": [
    "ltc['date'].std()"
   ]
  },
  {
   "cell_type": "code",
   "execution_count": null,
   "id": "51120345",
   "metadata": {},
   "outputs": [],
   "source": [
    "ltc['date'].astype('int64').mean().astype('int64').astype('datetime64[ns]')"
   ]
  },
  {
   "cell_type": "code",
   "execution_count": null,
   "id": "e09c0eb7",
   "metadata": {},
   "outputs": [],
   "source": []
  },
  {
   "cell_type": "code",
   "execution_count": null,
   "id": "c540c8fa",
   "metadata": {},
   "outputs": [],
   "source": []
  },
  {
   "cell_type": "markdown",
   "id": "2739f4e7",
   "metadata": {},
   "source": [
    "### Если мы работаем не с Series, то ставить dt не надо"
   ]
  },
  {
   "cell_type": "code",
   "execution_count": null,
   "id": "48a061ef",
   "metadata": {},
   "outputs": [],
   "source": [
    "pd.Timestamp('2023-07-23')"
   ]
  },
  {
   "cell_type": "code",
   "execution_count": null,
   "id": "1e81b863",
   "metadata": {},
   "outputs": [],
   "source": [
    "pd.Timestamp('2023-07-23').day"
   ]
  },
  {
   "cell_type": "code",
   "execution_count": null,
   "id": "c33383e1",
   "metadata": {},
   "outputs": [],
   "source": [
    "pd.Timestamp('2023-07-23').month"
   ]
  },
  {
   "cell_type": "code",
   "execution_count": null,
   "id": "2db7d635",
   "metadata": {},
   "outputs": [],
   "source": [
    "pd.date_range('2023-07-23', '2023-08-23', freq='d').day_name('rus')"
   ]
  },
  {
   "cell_type": "code",
   "execution_count": null,
   "id": "db7b7595",
   "metadata": {},
   "outputs": [],
   "source": []
  },
  {
   "cell_type": "code",
   "execution_count": null,
   "id": "68983355",
   "metadata": {},
   "outputs": [],
   "source": []
  },
  {
   "cell_type": "markdown",
   "id": "5431b86e",
   "metadata": {},
   "source": [
    "#### Все эти методы можно использовать при фильтрации строк"
   ]
  },
  {
   "cell_type": "code",
   "execution_count": null,
   "id": "c60c26f8",
   "metadata": {},
   "outputs": [],
   "source": [
    "ltc.query('date.dt.is_month_start').head()"
   ]
  },
  {
   "cell_type": "markdown",
   "id": "d3faee16",
   "metadata": {},
   "source": [
    "### asof\n",
    "\n",
    "#### Метод возвращает актуальное (последнее доступное) на указанную дату заначение"
   ]
  },
  {
   "cell_type": "code",
   "execution_count": null,
   "id": "a89fdc8d",
   "metadata": {},
   "outputs": [],
   "source": [
    "(ltc\n",
    "    .set_index('date')\n",
    "    .asof('2017-03-30 23:05:00')\n",
    ")"
   ]
  },
  {
   "cell_type": "code",
   "execution_count": null,
   "id": "876e3628",
   "metadata": {},
   "outputs": [],
   "source": [
    "ltc.query('date <= \"2017-03-30 23:05:00\"').sort_values(by='date').tail(1)"
   ]
  },
  {
   "cell_type": "markdown",
   "id": "ad401855",
   "metadata": {},
   "source": [
    "### at_time\n",
    "\n",
    "#### Метод возвращает все значения, произошедшие в определенное время, без учета даты"
   ]
  },
  {
   "cell_type": "code",
   "execution_count": null,
   "id": "f9f31999",
   "metadata": {},
   "outputs": [],
   "source": [
    "(ltc\n",
    "    .set_index('date')\n",
    "    .at_time('23:00')\n",
    "    .head()\n",
    ")"
   ]
  },
  {
   "cell_type": "markdown",
   "id": "550b6a63",
   "metadata": {},
   "source": [
    "### between_time\n",
    "\n",
    "#### Метод возвращает все значения между двумя значениями времени без учета даты"
   ]
  },
  {
   "cell_type": "code",
   "execution_count": null,
   "id": "231814c9",
   "metadata": {},
   "outputs": [],
   "source": [
    "(ltc\n",
    "    .set_index('date')\n",
    "    .between_time('23:00', '04:00')\n",
    "    .head()\n",
    ")"
   ]
  },
  {
   "cell_type": "markdown",
   "id": "d96f2da8",
   "metadata": {},
   "source": [
    "### Last\n",
    "#### Метод возвращает все послединие значения за какой-то интервал (например, за час)"
   ]
  },
  {
   "cell_type": "code",
   "execution_count": null,
   "id": "42dcffcb",
   "metadata": {},
   "outputs": [],
   "source": [
    "# все значения за поледний час\n",
    "(ltc\n",
    "    .set_index('date')\n",
    "    .last('2d')\n",
    ")"
   ]
  },
  {
   "cell_type": "markdown",
   "id": "0d269041",
   "metadata": {},
   "source": [
    "### First\n",
    "#### Метод возвращает все первые значения за какой-то интервал (например, за час)"
   ]
  },
  {
   "cell_type": "code",
   "execution_count": null,
   "id": "b38b9561",
   "metadata": {},
   "outputs": [],
   "source": [
    "# все значения за первый год (Календарный)\n",
    "(ltc\n",
    "    .set_index('date')\n",
    "    .first('Y')\n",
    ")"
   ]
  },
  {
   "cell_type": "markdown",
   "id": "4dfec0a4",
   "metadata": {},
   "source": [
    "### Список сокращений (регистр не важен)\n",
    "\n",
    "| Сокращение   | Расшифровка                              | Сокращение   | Расшифровка                    |\n",
    "|:-------------|:-----------------------------------------|:-------------|:-------------------------------|\n",
    "| B            | Последний рабочий день в неделе          | QS           | Начало квартала                |\n",
    "| C            | Пользовательский последний день в неделе | BQS          | Первый рабочий день квартала   |\n",
    "| D            | День                                     | A, Y         | Конец года                     |\n",
    "| W            | Неделя                                   | BA, BY       | Последний рабочий день в году  |\n",
    "| M            | Конец месяца                             | AS, YS       | Начало года                    |\n",
    "| SM           | 15 число месяца                          | BAS, BYS     | Первый рабочий день в году     |\n",
    "| BM           | Последний рабочий день в месяце          | BH           | Рабочий час (от 9:00 до 17:00) |\n",
    "| CBM          | Пользовательский конец месяца            | H            | Час                            |\n",
    "| MS           | Первое число месяца                      | T, min       | Минута                         |\n",
    "| SMS          | 1 и 15 число месяца                      | S            | Секунда                        |\n",
    "| BMS          | Первый рабочий день месяца               | L, ms        | Миллисекунда                   |\n",
    "| CBMS         | Пользовательский первый день месяца      | U, us        | Микросекунда                   |\n",
    "| Q            | Конец квартала                           | N            | Наносекунда                    |\n",
    "| BQ           | Последний рабочий день квартала          | nan          | nan                            |"
   ]
  },
  {
   "cell_type": "code",
   "execution_count": null,
   "id": "79d91464",
   "metadata": {},
   "outputs": [],
   "source": []
  },
  {
   "cell_type": "code",
   "execution_count": null,
   "id": "f4610f7f",
   "metadata": {},
   "outputs": [],
   "source": []
  },
  {
   "cell_type": "code",
   "execution_count": null,
   "id": "f71b978b",
   "metadata": {},
   "outputs": [],
   "source": []
  },
  {
   "cell_type": "code",
   "execution_count": null,
   "id": "6657fdd3",
   "metadata": {},
   "outputs": [],
   "source": []
  },
  {
   "cell_type": "markdown",
   "id": "2c3d77c3",
   "metadata": {},
   "source": [
    "## Арифметические опериции"
   ]
  },
  {
   "cell_type": "markdown",
   "id": "db90dcb7",
   "metadata": {},
   "source": [
    "### Timedelta\n",
    "\n",
    "Используется в арифметических операциях с датами"
   ]
  },
  {
   "cell_type": "code",
   "execution_count": null,
   "id": "8e2a7bdc",
   "metadata": {},
   "outputs": [],
   "source": [
    "pd.Timedelta(1, 'day')"
   ]
  },
  {
   "cell_type": "code",
   "execution_count": null,
   "id": "9f391916",
   "metadata": {},
   "outputs": [],
   "source": [
    "pd.Timedelta(135, 'min')"
   ]
  },
  {
   "cell_type": "code",
   "execution_count": null,
   "id": "fa3dc740",
   "metadata": {},
   "outputs": [],
   "source": [
    "pd.Timedelta(9, 's')"
   ]
  },
  {
   "cell_type": "code",
   "execution_count": null,
   "id": "42e803f1",
   "metadata": {},
   "outputs": [],
   "source": [
    "pd.Timedelta(0.25, 'h')"
   ]
  },
  {
   "cell_type": "markdown",
   "id": "45851a1e",
   "metadata": {},
   "source": [
    "### Возможные варианты сокращений\n",
    "\n",
    "* **'W'** - неделя, **'D'** - день, **'T'** - минута, **'S'** - секунда, **'L'** - милисекунда, **'U'** - микросекунда, **'N'** - наносекунда\n",
    "* **'days'** или **'day'** - день\n",
    "* **'hours'**, **'hour'**, **'hr'**, или **'h'** - час\n",
    "* **'minutes'**, **'minute'**, **'min'**, или **'m'** - минута\n",
    "* **'seconds'**, **'second'**, или **'sec'** - секунда\n",
    "* **'milliseconds'**, **'millisecond'**, **'millis'**, или **'milli'** - милисекунда\n",
    "* **'microseconds'**, **'microsecond'**, **'micros'**, или **'micro'** - микросекунда\n",
    "* **'nanoseconds'**, **'nanosecond'**, **'nanos'**, **'nano'**, или **'ns'** - наносекунда"
   ]
  },
  {
   "cell_type": "code",
   "execution_count": null,
   "id": "77394125",
   "metadata": {},
   "outputs": [],
   "source": [
    "# можно исользовать:\n",
    "# days, hours, minutes, seconds, milliseconds, microseconds, nanoseconds\n",
    "pd.Timedelta(days=3, hours=4, minutes=122, seconds=912)"
   ]
  },
  {
   "cell_type": "code",
   "execution_count": null,
   "id": "9f67e81a",
   "metadata": {},
   "outputs": [],
   "source": [
    "pd.Timedelta(135, 'min') * 10"
   ]
  },
  {
   "cell_type": "code",
   "execution_count": null,
   "id": "8bcedf50",
   "metadata": {},
   "outputs": [],
   "source": [
    "pd.Timedelta(135, 'min') / 10"
   ]
  },
  {
   "cell_type": "code",
   "execution_count": null,
   "id": "a7070ada",
   "metadata": {},
   "outputs": [],
   "source": [
    "pd.Timedelta(135, 'min') + pd.Timedelta(9, 's')"
   ]
  },
  {
   "cell_type": "code",
   "execution_count": null,
   "id": "13b57c1f",
   "metadata": {},
   "outputs": [],
   "source": [
    "pd.Timedelta(135, 'min') - pd.Timedelta(9, 's')"
   ]
  },
  {
   "cell_type": "code",
   "execution_count": null,
   "id": "bb1ff479",
   "metadata": {},
   "outputs": [],
   "source": []
  },
  {
   "cell_type": "code",
   "execution_count": null,
   "id": "aef20a87",
   "metadata": {},
   "outputs": [],
   "source": []
  },
  {
   "cell_type": "markdown",
   "id": "64e8369b",
   "metadata": {},
   "source": [
    "### to_timedelta\n",
    "\n",
    "Преобразует набор чисел в объекты timedelta"
   ]
  },
  {
   "cell_type": "code",
   "execution_count": null,
   "id": "266a37bd",
   "metadata": {},
   "outputs": [],
   "source": [
    "pd.to_timedelta(np.arange(10), 'days')"
   ]
  },
  {
   "cell_type": "code",
   "execution_count": null,
   "id": "eedbb87d",
   "metadata": {},
   "outputs": [],
   "source": [
    "pd.to_timedelta([1, 12.8, 11.5, 0.3], 'days')"
   ]
  },
  {
   "cell_type": "code",
   "execution_count": null,
   "id": "7eb91b12",
   "metadata": {},
   "outputs": [],
   "source": []
  },
  {
   "cell_type": "code",
   "execution_count": null,
   "id": "695de251",
   "metadata": {},
   "outputs": [],
   "source": []
  },
  {
   "cell_type": "markdown",
   "id": "ece6e40d",
   "metadata": {},
   "source": [
    "#### Пложим несколько дат в отдельную переменную"
   ]
  },
  {
   "cell_type": "code",
   "execution_count": null,
   "id": "f2c070c0",
   "metadata": {},
   "outputs": [],
   "source": [
    "ts = ltc.loc[[300, 341, 342], 'date'].copy()\n",
    "ts"
   ]
  },
  {
   "cell_type": "markdown",
   "id": "baedf2cb",
   "metadata": {},
   "source": [
    "### Опрации с Timedelta"
   ]
  },
  {
   "cell_type": "code",
   "execution_count": null,
   "id": "feb2b597",
   "metadata": {},
   "outputs": [],
   "source": [
    "ts + pd.Timedelta(8, 'h')"
   ]
  },
  {
   "cell_type": "code",
   "execution_count": null,
   "id": "e2193d88",
   "metadata": {},
   "outputs": [],
   "source": [
    "ts - pd.Timedelta(8, 'h')"
   ]
  },
  {
   "cell_type": "code",
   "execution_count": null,
   "id": "09fb046d",
   "metadata": {},
   "outputs": [],
   "source": [
    "ts - 10 * pd.Timedelta(8, 'h')"
   ]
  },
  {
   "cell_type": "code",
   "execution_count": null,
   "id": "e026d356",
   "metadata": {},
   "outputs": [],
   "source": []
  },
  {
   "cell_type": "code",
   "execution_count": null,
   "id": "ea1cedbf",
   "metadata": {},
   "outputs": [],
   "source": []
  },
  {
   "cell_type": "code",
   "execution_count": null,
   "id": "a50f0d7e",
   "metadata": {},
   "outputs": [],
   "source": []
  },
  {
   "cell_type": "code",
   "execution_count": null,
   "id": "b6209516",
   "metadata": {},
   "outputs": [],
   "source": []
  },
  {
   "cell_type": "markdown",
   "id": "d8962507",
   "metadata": {},
   "source": [
    "### Offsets"
   ]
  },
  {
   "cell_type": "code",
   "execution_count": null,
   "id": "a0f866a1",
   "metadata": {},
   "outputs": [],
   "source": [
    "dir(pd.offsets)[:42]"
   ]
  },
  {
   "cell_type": "markdown",
   "id": "3cb4c360",
   "metadata": {},
   "source": [
    "### MonthEnd"
   ]
  },
  {
   "cell_type": "markdown",
   "id": "696614d9",
   "metadata": {},
   "source": [
    "#### Приведем дату к концу месяца"
   ]
  },
  {
   "cell_type": "code",
   "execution_count": null,
   "id": "6f0849e5",
   "metadata": {},
   "outputs": [],
   "source": [
    "ts"
   ]
  },
  {
   "cell_type": "code",
   "execution_count": null,
   "id": "d54ac9b5",
   "metadata": {},
   "outputs": [],
   "source": [
    "ts + pd.offsets.MonthEnd(0)"
   ]
  },
  {
   "cell_type": "code",
   "execution_count": null,
   "id": "509a2d5e",
   "metadata": {},
   "outputs": [],
   "source": [
    "ts.dt.normalize() + pd.offsets.MonthEnd(0)"
   ]
  },
  {
   "cell_type": "markdown",
   "id": "d4a1df16",
   "metadata": {},
   "source": [
    "Если передать 1, то все даты, что не конец месяца - станут концом месяца, но если дата - конец месяца, то она станет концом следующего месяца"
   ]
  },
  {
   "cell_type": "code",
   "execution_count": null,
   "id": "d7d7771a",
   "metadata": {},
   "outputs": [],
   "source": [
    "ts.dt.normalize() + pd.offsets.MonthEnd(1)"
   ]
  },
  {
   "cell_type": "markdown",
   "id": "15271a79",
   "metadata": {},
   "source": [
    "Приведем даты к концу следующего месяца"
   ]
  },
  {
   "cell_type": "code",
   "execution_count": null,
   "id": "80bae545",
   "metadata": {},
   "outputs": [],
   "source": [
    "ts"
   ]
  },
  {
   "cell_type": "code",
   "execution_count": null,
   "id": "54e9a72d",
   "metadata": {},
   "outputs": [],
   "source": [
    "ts.dt.normalize() + pd.offsets.MonthEnd(0) + pd.offsets.MonthEnd(1)"
   ]
  },
  {
   "cell_type": "markdown",
   "id": "e8ab9f99",
   "metadata": {},
   "source": [
    "Если вычесть pd.offsets.MonthEnd(0) то это будет эквивалентно прибавлению"
   ]
  },
  {
   "cell_type": "code",
   "execution_count": null,
   "id": "89fdc7f9",
   "metadata": {},
   "outputs": [],
   "source": [
    "ts.dt.normalize()"
   ]
  },
  {
   "cell_type": "code",
   "execution_count": null,
   "id": "bff87fdc",
   "metadata": {},
   "outputs": [],
   "source": [
    "ts.dt.normalize() - pd.offsets.MonthEnd(0)"
   ]
  },
  {
   "cell_type": "markdown",
   "id": "7b997c8e",
   "metadata": {},
   "source": [
    "Такая запись приведет даты к концу предыдущего месяца"
   ]
  },
  {
   "cell_type": "code",
   "execution_count": null,
   "id": "36311b11",
   "metadata": {},
   "outputs": [],
   "source": [
    "ts.dt.normalize() - pd.offsets.MonthEnd(1)\n",
    "# ts.dt.normalize() + pd.offsets.MonthEnd(0) - pd.offsets.MonthEnd(1)"
   ]
  },
  {
   "cell_type": "markdown",
   "id": "86d3ea04",
   "metadata": {},
   "source": [
    "Приведение даты к концу предпредыдущего месяца"
   ]
  },
  {
   "cell_type": "code",
   "execution_count": null,
   "id": "7aa85274",
   "metadata": {},
   "outputs": [],
   "source": [
    "ts.dt.normalize() - pd.offsets.MonthEnd(2)\n",
    "# ts.dt.normalize() + pd.offsets.MonthEnd(0) - pd.offsets.MonthEnd(2)"
   ]
  },
  {
   "cell_type": "markdown",
   "id": "0c886d1f",
   "metadata": {},
   "source": [
    "### Приведение даты к началу месяца"
   ]
  },
  {
   "cell_type": "code",
   "execution_count": null,
   "id": "0b6de7a9",
   "metadata": {},
   "outputs": [],
   "source": [
    "ts.dt.normalize() + pd.offsets.MonthEnd(0) - pd.offsets.MonthBegin(1)"
   ]
  },
  {
   "cell_type": "code",
   "execution_count": null,
   "id": "24d2f700",
   "metadata": {},
   "outputs": [],
   "source": []
  },
  {
   "cell_type": "code",
   "execution_count": null,
   "id": "c7a5273a",
   "metadata": {},
   "outputs": [],
   "source": []
  },
  {
   "cell_type": "markdown",
   "id": "d32863e2",
   "metadata": {},
   "source": [
    "### Добавляем 9 рабочих дней"
   ]
  },
  {
   "cell_type": "code",
   "execution_count": null,
   "id": "be7f9239",
   "metadata": {},
   "outputs": [],
   "source": [
    "ts"
   ]
  },
  {
   "cell_type": "code",
   "execution_count": null,
   "id": "248daa9d",
   "metadata": {},
   "outputs": [],
   "source": [
    "ts + pd.offsets.BusinessDay(9)"
   ]
  },
  {
   "cell_type": "markdown",
   "id": "edba6f4e",
   "metadata": {},
   "source": [
    "#### Добавляем 9 рабочих дней при четырехдневной рабочей неделе"
   ]
  },
  {
   "cell_type": "code",
   "execution_count": null,
   "id": "0e82a59d",
   "metadata": {},
   "outputs": [],
   "source": [
    "ts + pd.offsets.CustomBusinessDay(9, weekmask='Mon Tue Wed Thu')"
   ]
  },
  {
   "cell_type": "markdown",
   "id": "7c99a402",
   "metadata": {},
   "source": [
    "Добавим 10 рабочих часов. Рабочие часы Пн-Пт с 9 до 17"
   ]
  },
  {
   "cell_type": "code",
   "execution_count": null,
   "id": "fc13ba65",
   "metadata": {},
   "outputs": [],
   "source": [
    "ts"
   ]
  },
  {
   "cell_type": "code",
   "execution_count": null,
   "id": "cadfbfb9",
   "metadata": {},
   "outputs": [],
   "source": [
    "ts + pd.offsets.BusinessHour(10)"
   ]
  },
  {
   "cell_type": "code",
   "execution_count": null,
   "id": "9f67a1d0",
   "metadata": {},
   "outputs": [],
   "source": []
  },
  {
   "cell_type": "code",
   "execution_count": null,
   "id": "a1f43133",
   "metadata": {},
   "outputs": [],
   "source": []
  },
  {
   "cell_type": "code",
   "execution_count": null,
   "id": "d9525bd7",
   "metadata": {},
   "outputs": [],
   "source": []
  },
  {
   "cell_type": "code",
   "execution_count": null,
   "id": "8b483abe",
   "metadata": {},
   "outputs": [],
   "source": []
  },
  {
   "cell_type": "markdown",
   "id": "bce9ea63",
   "metadata": {},
   "source": [
    "### Метод astype"
   ]
  },
  {
   "cell_type": "markdown",
   "id": "ffc9b418",
   "metadata": {},
   "source": [
    "Метод приведит дату к началу периода"
   ]
  },
  {
   "cell_type": "code",
   "execution_count": null,
   "id": "c8a2f09c",
   "metadata": {},
   "outputs": [],
   "source": [
    "ts"
   ]
  },
  {
   "cell_type": "code",
   "execution_count": null,
   "id": "0f049607",
   "metadata": {},
   "outputs": [],
   "source": [
    "ts.dt.date.astype('datetime64[W]')"
   ]
  },
  {
   "cell_type": "code",
   "execution_count": null,
   "id": "929ea0c7",
   "metadata": {},
   "outputs": [],
   "source": [
    "ts.dt.date.astype('datetime64[M]')"
   ]
  },
  {
   "cell_type": "code",
   "execution_count": null,
   "id": "c2a4dee9",
   "metadata": {},
   "outputs": [],
   "source": [
    "ts.dt.date.astype('datetime64[Y]')"
   ]
  },
  {
   "cell_type": "code",
   "execution_count": null,
   "id": "6ede6d46",
   "metadata": {},
   "outputs": [],
   "source": []
  },
  {
   "cell_type": "code",
   "execution_count": null,
   "id": "fe9ef07d",
   "metadata": {},
   "outputs": [],
   "source": []
  },
  {
   "cell_type": "code",
   "execution_count": null,
   "id": "830386d9",
   "metadata": {},
   "outputs": [],
   "source": []
  },
  {
   "cell_type": "code",
   "execution_count": null,
   "id": "4f8cc23d",
   "metadata": {},
   "outputs": [],
   "source": []
  },
  {
   "cell_type": "code",
   "execution_count": null,
   "id": "c8163ed7",
   "metadata": {},
   "outputs": [],
   "source": []
  },
  {
   "cell_type": "code",
   "execution_count": null,
   "id": "dcf2980c",
   "metadata": {},
   "outputs": [],
   "source": []
  },
  {
   "cell_type": "code",
   "execution_count": null,
   "id": "3b4a0118",
   "metadata": {},
   "outputs": [],
   "source": []
  },
  {
   "cell_type": "code",
   "execution_count": null,
   "id": "ff8b9cdc",
   "metadata": {},
   "outputs": [],
   "source": []
  },
  {
   "cell_type": "code",
   "execution_count": null,
   "id": "87981bf5",
   "metadata": {},
   "outputs": [],
   "source": []
  },
  {
   "cell_type": "code",
   "execution_count": null,
   "id": "7965d82f",
   "metadata": {},
   "outputs": [],
   "source": []
  },
  {
   "cell_type": "markdown",
   "id": "884a167f",
   "metadata": {},
   "source": [
    "# Задания"
   ]
  },
  {
   "cell_type": "markdown",
   "id": "c2f13443",
   "metadata": {},
   "source": [
    "#### Описание таблиц лежит [здесь](https://github.com/victorlymarev/pandas/tree/main/tables#%D0%BE%D0%BF%D0%B8%D1%81%D0%B0%D0%BD%D0%B8%D0%B5-%D1%82%D0%B0%D0%B1%D0%BB%D0%B8%D1%86)"
   ]
  },
  {
   "cell_type": "markdown",
   "id": "de10fc9e",
   "metadata": {},
   "source": [
    "Некоторые таблицы занимают много памяти, поэтому каждые 5-10 заданий лучше перезапускайте ноутбук.\n",
    "\n",
    "В формулировке некоторых заданий может содержаться вариативность. Если у вас есть сомнения, что требуется в задании, попробуйте решить несколько вариантов. Если вы не понимаете задание, можете написать об этом в комментариях под видео.\n",
    "\n",
    "В большинстве случаев внешний вид итоговой таблицы не определен. Выведите на экран наиболее адекватный вариант. То есть таблицу, из которой можно будет сделать выводы.\n",
    "\n",
    "Курс пока находится в разработке. Вы можете помочь другим людям добавив свое решение [сюда](https://docs.google.com/forms/d/1HYTBz_KfssY3Jps2dC3n0YnEqa6WBb5OIhLo1d32Xzw/edit).\n",
    "\n",
    "Посмотреть решения других людей можно [здесь](https://docs.google.com/spreadsheets/d/1pMDYO-9UneLbPPnEuQ2shig0TOJdQTU-zipifyAnZMk/edit?resourcekey#gid=1998648012)"
   ]
  },
  {
   "cell_type": "markdown",
   "id": "edbda473",
   "metadata": {},
   "source": [
    "### Задание 1\n",
    "\n",
    "Магазин открывается через 15 дней после завершения ремонта. Найдите дату, когда был закончен ремонт в каждом магазине"
   ]
  },
  {
   "cell_type": "code",
   "execution_count": null,
   "id": "afba32f3",
   "metadata": {},
   "outputs": [],
   "source": [
    "import os\n",
    "import pandas as pd\n",
    "\n",
    "path_shops = '../tables/shops.xlsx' if os.path.exists('../tables/shops.xlsx') else 'https://drive.google.com/uc?id=1gfnmceJa3Mc1X06NftTx9G9QfKfprjEB'\n",
    "\n",
    "shops = pd.read_excel(path_shops)\n",
    "shops.head()"
   ]
  },
  {
   "cell_type": "code",
   "execution_count": null,
   "id": "92edb1c4",
   "metadata": {},
   "outputs": [],
   "source": [
    "# напишите свой код здесь"
   ]
  },
  {
   "cell_type": "markdown",
   "id": "521705a2",
   "metadata": {},
   "source": [
    "### Задание 2\n",
    "\n",
    "На каждую отчетную дату найдите возраст сотрудника в годах"
   ]
  },
  {
   "cell_type": "code",
   "execution_count": null,
   "id": "9589ad59",
   "metadata": {},
   "outputs": [],
   "source": [
    "import os\n",
    "import pandas as pd\n",
    "\n",
    "path_empl = '../tables/employees.parquet' if os.path.exists('../tables/employees.parquet') else 'https://drive.google.com/uc?id=1AARD5-eVlCxoApt5CYZebrC3Cqw42lvj'\n",
    "\n",
    "empl = pd.read_parquet(path_empl)\n",
    "empl.head()"
   ]
  },
  {
   "cell_type": "code",
   "execution_count": null,
   "id": "65bdc5ee",
   "metadata": {},
   "outputs": [],
   "source": [
    "# напишите свой код здесь"
   ]
  },
  {
   "cell_type": "markdown",
   "id": "6064f14e",
   "metadata": {},
   "source": [
    "### Задание 3\n",
    "\n",
    "Округлите дату покупки до недели (при помощи метода astype)"
   ]
  },
  {
   "cell_type": "code",
   "execution_count": null,
   "id": "7319d17d",
   "metadata": {},
   "outputs": [],
   "source": [
    "# таблица sales - большая, и в некоторых случаях ваш компьютер может не справиться с ее обработкой\n",
    "# поэтому лучше работайте с частью этой таблицы\n",
    "# но если вы хотите попробовать поработать с полной версией таблицы,\n",
    "# можете заменить переменную path_sales_sample_check на path_sales внутри функции read_parquet\n",
    "\n",
    "import os\n",
    "import pandas as pd\n",
    "\n",
    "path_sales_sample_check = '../tables/sales_sample_check.parquet' if os.path.exists('../tables/sales_sample_check.parquet') else 'https://drive.google.com/uc?id=1oYT518oqGnEF51PSFHfSHYNP-690ktFL'\n",
    "# path_sales = '../tables/sales.parquet' if os.path.exists('../tables/sales.parquet') else \"https://drive.usercontent.google.com/download?id=15KwSxyM6hpNABGe6_vsrFZvD09VfHFyK&export=download&authuser=1&confirm=t&uuid=115bd48c-cc2c-4f2a-8b42-be5ca6ef6db8&at=APZUnTUVb8nfNANw5wr9Cad7PJ3U:1693327774694\"\n",
    "\n",
    "sales = pd.read_parquet(path_sales_sample_check)\n",
    "sales.head()"
   ]
  },
  {
   "cell_type": "code",
   "execution_count": null,
   "id": "a9dbaa0d",
   "metadata": {},
   "outputs": [],
   "source": [
    "# напишите свой код здесь"
   ]
  },
  {
   "cell_type": "markdown",
   "id": "5e066b8d",
   "metadata": {},
   "source": [
    "### Задание 4\n",
    "\n",
    "Для каждой строки найдите день недели на русском языке, когда была совершена покупка"
   ]
  },
  {
   "cell_type": "code",
   "execution_count": null,
   "id": "7bd92f86",
   "metadata": {},
   "outputs": [],
   "source": [
    "# таблица sales - большая, и в некоторых случаях ваш компьютер может не справиться с ее обработкой\n",
    "# поэтому лучше работайте с частью этой таблицы\n",
    "# но если вы хотите попробовать поработать с полной версией таблицы,\n",
    "# можете заменить переменную path_sales_sample_check на path_sales внутри функции read_parquet\n",
    "\n",
    "import os\n",
    "import pandas as pd\n",
    "\n",
    "path_sales_sample_check = '../tables/sales_sample_check.parquet' if os.path.exists('../tables/sales_sample_check.parquet') else 'https://drive.google.com/uc?id=1oYT518oqGnEF51PSFHfSHYNP-690ktFL'\n",
    "# path_sales = '../tables/sales.parquet' if os.path.exists('../tables/sales.parquet') else \"https://drive.usercontent.google.com/download?id=15KwSxyM6hpNABGe6_vsrFZvD09VfHFyK&export=download&authuser=1&confirm=t&uuid=115bd48c-cc2c-4f2a-8b42-be5ca6ef6db8&at=APZUnTUVb8nfNANw5wr9Cad7PJ3U:1693327774694\"\n",
    "\n",
    "sales = pd.read_parquet(path_sales_sample_check)\n",
    "sales.head()"
   ]
  },
  {
   "cell_type": "code",
   "execution_count": null,
   "id": "9a98fe16",
   "metadata": {},
   "outputs": [],
   "source": [
    "# напишите свой код здесь"
   ]
  },
  {
   "cell_type": "markdown",
   "id": "cd2a2cee",
   "metadata": {},
   "source": [
    "### Задание 5\n",
    "\n",
    "Найдте цену на litecoin по состоянию на 29 мая 2020 года 18:32"
   ]
  },
  {
   "cell_type": "code",
   "execution_count": null,
   "id": "0fdd4a6f",
   "metadata": {},
   "outputs": [],
   "source": [
    "# таблица ltc - большая, и в некоторых случаях ваш компьютер может не справиться с ее обработкой\n",
    "# поэтому лучше работайте с частью этой таблицы\n",
    "# но если вы хотите попробовать поработать с полной версией таблицы,\n",
    "# можете заменить переменную path_ltc_sample на path_ltc_full внутри функции read_parquet\n",
    "\n",
    "import os\n",
    "import pandas as pd\n",
    "\n",
    "# path_ltc_full = '../tables/ltc.parquet' if os.path.exists('../tables/ltc.parquet') else \"https://drive.usercontent.google.com/download?id=1ZkAmVZverOV3aGwmEQGAFXgXnQ6pPsZw&export=download&authuser=1&confirm=t&uuid=b827b3e2-7c5d-4979-9d25-f1c34954ac9f&at=APZUnTUs_oUnCQujGIlgn2Zkb5VG:1693327327264\"\n",
    "path_ltc_sample = '../tables/ltc_sample.parquet' if os.path.exists('../tables/ltc_sample.parquet') else 'https://drive.google.com/uc?id=1XaThogOOqKjJj50LvfJ9WqutjMAC5AxA'\n",
    "\n",
    "ltc = pd.read_parquet(path_ltc_sample)\n",
    "ltc.head()"
   ]
  },
  {
   "cell_type": "code",
   "execution_count": null,
   "id": "34cffd15",
   "metadata": {},
   "outputs": [],
   "source": [
    "# напишите свой код здесь"
   ]
  },
  {
   "cell_type": "markdown",
   "id": "93d02459",
   "metadata": {},
   "source": [
    "### Задание 6\n",
    "\n",
    "Приведите колонку purchase_date к началу года"
   ]
  },
  {
   "cell_type": "code",
   "execution_count": null,
   "id": "e9e3a71d",
   "metadata": {},
   "outputs": [],
   "source": [
    "# таблица sales - большая, и в некоторых случаях ваш компьютер может не справиться с ее обработкой\n",
    "# поэтому лучше работайте с частью этой таблицы\n",
    "# но если вы хотите попробовать поработать с полной версией таблицы,\n",
    "# можете заменить переменную path_sales_sample_check на path_sales внутри функции read_parquet\n",
    "\n",
    "import os\n",
    "import pandas as pd\n",
    "\n",
    "path_sales_sample_check = '../tables/sales_sample_check.parquet' if os.path.exists('../tables/sales_sample_check.parquet') else 'https://drive.google.com/uc?id=1oYT518oqGnEF51PSFHfSHYNP-690ktFL'\n",
    "# path_sales = '../tables/sales.parquet' if os.path.exists('../tables/sales.parquet') else \"https://drive.usercontent.google.com/download?id=15KwSxyM6hpNABGe6_vsrFZvD09VfHFyK&export=download&authuser=1&confirm=t&uuid=115bd48c-cc2c-4f2a-8b42-be5ca6ef6db8&at=APZUnTUVb8nfNANw5wr9Cad7PJ3U:1693327774694\"\n",
    "\n",
    "sales = pd.read_parquet(path_sales_sample_check)\n",
    "sales.head()"
   ]
  },
  {
   "cell_type": "code",
   "execution_count": null,
   "id": "ca421e76",
   "metadata": {},
   "outputs": [],
   "source": [
    "# напишите свой код здесь"
   ]
  },
  {
   "cell_type": "markdown",
   "id": "746d5bcb",
   "metadata": {},
   "source": [
    "### Задание 7\n",
    "\n",
    "Для каждого сотрудника посчитайте посчитайте сколько было ему лет, когда он впервые устроился на работу."
   ]
  },
  {
   "cell_type": "code",
   "execution_count": null,
   "id": "debff59f",
   "metadata": {},
   "outputs": [],
   "source": [
    "import os\n",
    "import pandas as pd\n",
    "\n",
    "path_empl = '../tables/employees.parquet' if os.path.exists('../tables/employees.parquet') else 'https://drive.google.com/uc?id=1AARD5-eVlCxoApt5CYZebrC3Cqw42lvj'\n",
    "\n",
    "empl = pd.read_parquet(path_empl)\n",
    "empl.head()"
   ]
  },
  {
   "cell_type": "code",
   "execution_count": null,
   "id": "1b5c71b4",
   "metadata": {},
   "outputs": [],
   "source": [
    "# напишите свой код здесь"
   ]
  },
  {
   "cell_type": "markdown",
   "id": "07bd38ab",
   "metadata": {},
   "source": [
    "### Задание 8\n",
    "\n",
    "Найдите цену закрытия за каждый день (цена закрытия - последняя цена за определенный период)"
   ]
  },
  {
   "cell_type": "code",
   "execution_count": null,
   "id": "e11e0b18",
   "metadata": {},
   "outputs": [],
   "source": [
    "# таблица ltc - большая, и в некоторых случаях ваш компьютер может не справиться с ее обработкой\n",
    "# поэтому лучше работайте с частью этой таблицы\n",
    "# но если вы хотите попробовать поработать с полной версией таблицы,\n",
    "# можете заменить переменную path_ltc_sample на path_ltc_full внутри функции read_parquet\n",
    "\n",
    "import os\n",
    "import pandas as pd\n",
    "\n",
    "# path_ltc_full = '../tables/ltc.parquet' if os.path.exists('../tables/ltc.parquet') else \"https://drive.usercontent.google.com/download?id=1ZkAmVZverOV3aGwmEQGAFXgXnQ6pPsZw&export=download&authuser=1&confirm=t&uuid=b827b3e2-7c5d-4979-9d25-f1c34954ac9f&at=APZUnTUs_oUnCQujGIlgn2Zkb5VG:1693327327264\"\n",
    "path_ltc_sample = '../tables/ltc_sample.parquet' if os.path.exists('../tables/ltc_sample.parquet') else 'https://drive.google.com/uc?id=1XaThogOOqKjJj50LvfJ9WqutjMAC5AxA'\n",
    "\n",
    "ltc = pd.read_parquet(path_ltc_sample)\n",
    "ltc.head()"
   ]
  },
  {
   "cell_type": "code",
   "execution_count": null,
   "id": "671962d2",
   "metadata": {},
   "outputs": [],
   "source": [
    "# напишите свой код здесь"
   ]
  },
  {
   "cell_type": "markdown",
   "id": "242fd031",
   "metadata": {},
   "source": [
    "### Задание 9\n",
    "\n",
    "Посчитайте среднее время покупки в магазине 9 21 окрября 2022 года. Результат округлити до минут. Кроме того, постройте гистограмму числа покупок по времени."
   ]
  },
  {
   "cell_type": "code",
   "execution_count": null,
   "id": "7fe3fe20",
   "metadata": {},
   "outputs": [],
   "source": [
    "# таблица sales - большая, и в некоторых случаях ваш компьютер может не справиться с ее обработкой\n",
    "# поэтому лучше работайте с частью этой таблицы\n",
    "# но если вы хотите попробовать поработать с полной версией таблицы,\n",
    "# можете заменить переменную path_sales_sample_check на path_sales внутри функции read_parquet\n",
    "\n",
    "import os\n",
    "import pandas as pd\n",
    "\n",
    "path_sales_sample_check = '../tables/sales_sample_check.parquet' if os.path.exists('../tables/sales_sample_check.parquet') else 'https://drive.google.com/uc?id=1oYT518oqGnEF51PSFHfSHYNP-690ktFL'\n",
    "# path_sales = '../tables/sales.parquet' if os.path.exists('../tables/sales.parquet') else \"https://drive.usercontent.google.com/download?id=15KwSxyM6hpNABGe6_vsrFZvD09VfHFyK&export=download&authuser=1&confirm=t&uuid=115bd48c-cc2c-4f2a-8b42-be5ca6ef6db8&at=APZUnTUVb8nfNANw5wr9Cad7PJ3U:1693327774694\"\n",
    "\n",
    "sales = pd.read_parquet(path_sales_sample_check)\n",
    "sales.head()"
   ]
  },
  {
   "cell_type": "code",
   "execution_count": null,
   "id": "d2bafb14",
   "metadata": {},
   "outputs": [],
   "source": [
    "# напишите свой код здесь"
   ]
  },
  {
   "cell_type": "markdown",
   "id": "628144d0",
   "metadata": {},
   "source": [
    "### Задание 10\n",
    "\n",
    "Посмотрите на рапределение людей с высшим образованием в разрезе возраста.\n",
    "\n",
    "Измените образование с высшего на среднее общее если сотруднику на отчетную дату было меньше 21 года и месяц отчетной даты - январь, февраль, март, апрель, май или июнь"
   ]
  },
  {
   "cell_type": "code",
   "execution_count": null,
   "id": "0678bc67",
   "metadata": {},
   "outputs": [],
   "source": [
    "import os\n",
    "import pandas as pd\n",
    "\n",
    "path_empl = '../tables/employees.parquet' if os.path.exists('../tables/employees.parquet') else 'https://drive.google.com/uc?id=1AARD5-eVlCxoApt5CYZebrC3Cqw42lvj'\n",
    "\n",
    "empl = pd.read_parquet(path_empl)\n",
    "empl.head()"
   ]
  },
  {
   "cell_type": "code",
   "execution_count": null,
   "id": "87a0bd12",
   "metadata": {},
   "outputs": [],
   "source": [
    "# напишите свой код здесь"
   ]
  },
  {
   "cell_type": "code",
   "execution_count": null,
   "id": "dc712410",
   "metadata": {},
   "outputs": [],
   "source": []
  },
  {
   "cell_type": "code",
   "execution_count": null,
   "id": "2347cddd",
   "metadata": {},
   "outputs": [],
   "source": []
  },
  {
   "cell_type": "code",
   "execution_count": null,
   "id": "f46433e2",
   "metadata": {},
   "outputs": [],
   "source": []
  },
  {
   "cell_type": "code",
   "execution_count": null,
   "id": "52e985cf",
   "metadata": {},
   "outputs": [],
   "source": []
  },
  {
   "cell_type": "code",
   "execution_count": null,
   "id": "51b5c0f5",
   "metadata": {},
   "outputs": [],
   "source": []
  }
 ],
 "metadata": {
  "kernelspec": {
   "display_name": "Python 3 (ipykernel)",
   "language": "python",
   "name": "python3"
  },
  "language_info": {
   "codemirror_mode": {
    "name": "ipython",
    "version": 3
   },
   "file_extension": ".py",
   "mimetype": "text/x-python",
   "name": "python",
   "nbconvert_exporter": "python",
   "pygments_lexer": "ipython3",
   "version": "3.11.6"
  }
 },
 "nbformat": 4,
 "nbformat_minor": 5
}
