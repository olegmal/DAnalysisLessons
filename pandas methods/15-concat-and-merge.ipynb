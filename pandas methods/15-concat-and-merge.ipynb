{
 "cells": [
  {
   "cell_type": "markdown",
   "id": "82d0d901",
   "metadata": {},
   "source": [
    "<a target=\"_blank\" href=\"https://colab.research.google.com/github/victorlymarev/pandas/blob/main/notebooks/15-concat-and-merge.ipynb\">\n",
    "  <img src=\"https://colab.research.google.com/assets/colab-badge.svg\" alt=\"Open In Colab\"/>\n",
    "</a>"
   ]
  },
  {
   "cell_type": "markdown",
   "id": "39ccda1f",
   "metadata": {},
   "source": [
    "# Соединение таблиц\n",
    "#### [Ссылка на видео](https://youtu.be/dpUTI0UtuuM)"
   ]
  },
  {
   "cell_type": "code",
   "execution_count": null,
   "id": "ff674724",
   "metadata": {},
   "outputs": [],
   "source": [
    "import pandas as pd\n",
    "import os"
   ]
  },
  {
   "cell_type": "code",
   "execution_count": null,
   "id": "aceb7fb6",
   "metadata": {},
   "outputs": [],
   "source": [
    "path_marks = '../tables/оценки.xlsx' if os.path.exists('../tables/оценки.xlsx') else 'https://drive.google.com/uc?id=17f4DXx53J0WooNkhO13xidseZJ-O2obs'\n",
    "\n",
    "marks_6a, marks_6b, marks_6v, marks_6g = pd.read_excel(path_marks, sheet_name=None).values()"
   ]
  },
  {
   "cell_type": "markdown",
   "id": "f7ec2078",
   "metadata": {},
   "source": [
    "## Concat"
   ]
  },
  {
   "cell_type": "markdown",
   "id": "d9e115c3",
   "metadata": {},
   "source": [
    "Метод соединяет таблицы между собой"
   ]
  },
  {
   "attachments": {
    "image.png": {
     "image/png": "[encoded data removed]"
    }
   },
   "cell_type": "markdown",
   "id": "7efafe73",
   "metadata": {},
   "source": [
    "![image.png](attachment:image.png)"
   ]
  },
  {
   "cell_type": "code",
   "execution_count": null,
   "id": "03855a77",
   "metadata": {},
   "outputs": [],
   "source": [
    "marks_6a.head(3)"
   ]
  },
  {
   "cell_type": "code",
   "execution_count": null,
   "id": "f8a4125e",
   "metadata": {},
   "outputs": [],
   "source": [
    "pd.concat([marks_6a, marks_6b, marks_6v, marks_6g])"
   ]
  },
  {
   "cell_type": "code",
   "execution_count": null,
   "id": "43f5ffa7",
   "metadata": {},
   "outputs": [],
   "source": [
    "pd.concat([marks_6a.drop('Математика', axis=1), marks_6b, marks_6v, marks_6g])"
   ]
  },
  {
   "cell_type": "code",
   "execution_count": null,
   "id": "4d09fde0",
   "metadata": {},
   "outputs": [],
   "source": [
    "pd.concat([marks_6a, marks_6b, marks_6v, marks_6g], ignore_index=True)\n",
    "# Это будет эквивалентно тому \n",
    "# pd.concat([marks_a6, marks_b6, marks_v6, marks_g6]).reset_index(drop=True)"
   ]
  },
  {
   "cell_type": "markdown",
   "id": "7ea70800",
   "metadata": {},
   "source": [
    "Можно добавить дополнительную колонку, которая будет говорить из какой таблицы взята строка"
   ]
  },
  {
   "cell_type": "code",
   "execution_count": null,
   "id": "1c2685c8",
   "metadata": {},
   "outputs": [],
   "source": [
    "pd.concat([marks_6a, marks_6b, marks_6v, marks_6g], keys=['6а', '6б', '6в', '6г'])"
   ]
  },
  {
   "cell_type": "code",
   "execution_count": null,
   "id": "9522cfdf",
   "metadata": {},
   "outputs": [],
   "source": [
    "(pd.concat([marks_6a, marks_6b, marks_6v, marks_6g], keys=['6а', '6б', '6в', '6г'])\n",
    "    .reset_index(level=0, names='Класс')\n",
    "    .head()\n",
    ")"
   ]
  },
  {
   "cell_type": "code",
   "execution_count": null,
   "id": "3760fdd6",
   "metadata": {},
   "outputs": [],
   "source": []
  },
  {
   "cell_type": "code",
   "execution_count": null,
   "id": "63ca0313",
   "metadata": {},
   "outputs": [],
   "source": []
  },
  {
   "cell_type": "markdown",
   "id": "93bbe2a1",
   "metadata": {},
   "source": [
    "## merge\n",
    "\n",
    "#### Соединяет разные таблицы на основе общих колонок"
   ]
  },
  {
   "cell_type": "code",
   "execution_count": null,
   "id": "3cdda7de",
   "metadata": {},
   "outputs": [],
   "source": [
    "url = 'https://ru.wikipedia.org/wiki/%D0%A7%D0%B5%D0%BB%D0%BE%D0%B2%D0%B5%D0%BA_%D0%B3%D0%BE%D0%B4%D0%B0_(Time)'\n",
    "\n",
    "year = (pd.read_html(url)\n",
    "            [1]\n",
    "            [['Год', 'Лауреат']]\n",
    "            .drop_duplicates('Лауреат')\n",
    "            .sample(60, random_state=2)\n",
    "            .sort_values('Год')\n",
    ")\n",
    "\n",
    "lifetime = (pd.read_html(url)\n",
    "                [1]\n",
    "                [['Лауреат', 'Годы жизни']]\n",
    "                .drop_duplicates('Лауреат')\n",
    "                .sample(50, random_state=12)\n",
    "                .fillna('нет')\n",
    "                .sort_index()\n",
    ")"
   ]
  },
  {
   "cell_type": "code",
   "execution_count": null,
   "id": "ebcb520b",
   "metadata": {},
   "outputs": [],
   "source": [
    "year.head()"
   ]
  },
  {
   "cell_type": "code",
   "execution_count": null,
   "id": "3a57ee29",
   "metadata": {},
   "outputs": [],
   "source": [
    "lifetime.head()"
   ]
  },
  {
   "cell_type": "markdown",
   "id": "330313df",
   "metadata": {},
   "source": [
    "Соединяем таблицы на основе колонки 'Лауреат', беря ключи из левой таблицы (year)"
   ]
  },
  {
   "cell_type": "code",
   "execution_count": null,
   "id": "0f416f39",
   "metadata": {},
   "outputs": [],
   "source": [
    "year.merge(lifetime, on='Лауреат', how='left').head(10)"
   ]
  },
  {
   "cell_type": "markdown",
   "id": "78c7bd8e",
   "metadata": {},
   "source": [
    "Соединяем таблицы на основе колонки 'Лауреат', беря ключи из правой таблицы (lifetime)"
   ]
  },
  {
   "cell_type": "code",
   "execution_count": null,
   "id": "75d41230",
   "metadata": {},
   "outputs": [],
   "source": [
    "year.merge(lifetime, on='Лауреат', how='right').head(5)"
   ]
  },
  {
   "cell_type": "markdown",
   "id": "03f32c49",
   "metadata": {},
   "source": [
    "Соединяем таблицы на основе колонки 'Лауреат', беря ключи, которые есть хотя бы в одной таблице"
   ]
  },
  {
   "cell_type": "code",
   "execution_count": null,
   "id": "caf87b73",
   "metadata": {},
   "outputs": [],
   "source": [
    "year.merge(lifetime, on='Лауреат', how='outer').sample(10, random_state=0)"
   ]
  },
  {
   "cell_type": "markdown",
   "id": "0daf1ee5",
   "metadata": {},
   "source": [
    "Соединяем таблицы на основе колонки 'Лауреат', беря ключи, которые есть в каждой таблице"
   ]
  },
  {
   "cell_type": "code",
   "execution_count": null,
   "id": "ad1ff4da",
   "metadata": {},
   "outputs": [],
   "source": [
    "year.merge(lifetime, on='Лауреат', how='inner').head(10)"
   ]
  },
  {
   "cell_type": "code",
   "execution_count": null,
   "id": "b6288f05",
   "metadata": {},
   "outputs": [],
   "source": []
  },
  {
   "cell_type": "code",
   "execution_count": null,
   "id": "ceed74ce",
   "metadata": {},
   "outputs": [],
   "source": []
  },
  {
   "cell_type": "markdown",
   "id": "bf1cf263",
   "metadata": {},
   "source": [
    "#### Соединяем таблицы с разными названиями колонок"
   ]
  },
  {
   "cell_type": "code",
   "execution_count": null,
   "id": "78e02776",
   "metadata": {},
   "outputs": [],
   "source": [
    "year_copy = year.rename({'Лауреат': 'Человек'}, axis=1)\n",
    "year_copy.head()"
   ]
  },
  {
   "cell_type": "code",
   "execution_count": null,
   "id": "e6655108",
   "metadata": {},
   "outputs": [],
   "source": [
    "lifetime.head()"
   ]
  },
  {
   "cell_type": "markdown",
   "id": "979c2622",
   "metadata": {},
   "source": [
    "Можно использовать метод rename, после чего объединить таблицы как прежде"
   ]
  },
  {
   "cell_type": "code",
   "execution_count": null,
   "id": "fea62768",
   "metadata": {},
   "outputs": [],
   "source": [
    "(year_copy\n",
    "    .rename({'Человек': 'Лауреат'}, axis=1)\n",
    " \n",
    "    .merge(lifetime, on='Лауреат', how='inner')\n",
    "    .head()\n",
    ")"
   ]
  },
  {
   "cell_type": "code",
   "execution_count": null,
   "id": "9a992840",
   "metadata": {},
   "outputs": [],
   "source": [
    "(year_copy\n",
    "    .merge(lifetime.rename({'Лауреат': 'Человек'}, axis=1), on='Человек', how='inner')\n",
    "    .head()\n",
    ")"
   ]
  },
  {
   "cell_type": "markdown",
   "id": "19d4a554",
   "metadata": {},
   "source": [
    "Можно указать ключи левой и правой таблиц"
   ]
  },
  {
   "cell_type": "code",
   "execution_count": null,
   "id": "9747b707",
   "metadata": {},
   "outputs": [],
   "source": [
    "(year_copy\n",
    "    .merge(lifetime, left_on='Человек', right_on='Лауреат', how='inner')\n",
    "    .head()\n",
    ")"
   ]
  },
  {
   "cell_type": "code",
   "execution_count": null,
   "id": "a821c249",
   "metadata": {},
   "outputs": [],
   "source": []
  },
  {
   "cell_type": "code",
   "execution_count": null,
   "id": "1e7cef83",
   "metadata": {},
   "outputs": [],
   "source": []
  },
  {
   "cell_type": "code",
   "execution_count": null,
   "id": "b53ba9d9",
   "metadata": {},
   "outputs": [],
   "source": []
  },
  {
   "cell_type": "code",
   "execution_count": null,
   "id": "db06d2c8",
   "metadata": {},
   "outputs": [],
   "source": []
  },
  {
   "cell_type": "markdown",
   "id": "f0f557e0",
   "metadata": {},
   "source": [
    "## join\n",
    "\n",
    "Работает так же как и merge, только на основе индексов"
   ]
  },
  {
   "cell_type": "code",
   "execution_count": null,
   "id": "6b471282",
   "metadata": {},
   "outputs": [],
   "source": [
    "year.set_index('Лауреат').join(lifetime.set_index('Лауреат'), how='left').head()"
   ]
  },
  {
   "cell_type": "code",
   "execution_count": null,
   "id": "543d0291",
   "metadata": {},
   "outputs": [],
   "source": [
    "year.join(lifetime.set_index('Лауреат'), on='Лауреат', how='left').head()"
   ]
  },
  {
   "cell_type": "code",
   "execution_count": null,
   "id": "3789a6e3",
   "metadata": {},
   "outputs": [],
   "source": []
  },
  {
   "cell_type": "code",
   "execution_count": null,
   "id": "5c17ab86",
   "metadata": {},
   "outputs": [],
   "source": []
  },
  {
   "cell_type": "code",
   "execution_count": null,
   "id": "dd5ca39d",
   "metadata": {},
   "outputs": [],
   "source": []
  },
  {
   "cell_type": "markdown",
   "id": "901d53b1",
   "metadata": {},
   "source": [
    "## Отношения между таблицами"
   ]
  },
  {
   "cell_type": "markdown",
   "id": "ce556f63",
   "metadata": {},
   "source": [
    "### Один к одному\n",
    "Один ключ в одной таблице соответствует одному ключу в другой таблице"
   ]
  },
  {
   "cell_type": "code",
   "execution_count": null,
   "id": "212759e9",
   "metadata": {},
   "outputs": [],
   "source": [
    "year.merge(lifetime, on='Лауреат', how='outer').head()"
   ]
  },
  {
   "cell_type": "markdown",
   "id": "4482c048",
   "metadata": {},
   "source": [
    "### Отношение один ко многим"
   ]
  },
  {
   "cell_type": "code",
   "execution_count": null,
   "id": "3f7872a1",
   "metadata": {},
   "outputs": [],
   "source": [
    "year_full = (pd.read_html(url)\n",
    "            [1]\n",
    "            [['Год', 'Лауреат']]\n",
    "            .sort_values('Год')\n",
    ")\n",
    "\n",
    "lifetime_full = (pd.read_html(url)\n",
    "                [1]\n",
    "                [['Лауреат', 'Годы жизни']]\n",
    "                .drop_duplicates('Лауреат')\n",
    "                .sort_index()\n",
    ")"
   ]
  },
  {
   "cell_type": "code",
   "execution_count": null,
   "id": "b6b46f16",
   "metadata": {},
   "outputs": [],
   "source": [
    "year_full.shape"
   ]
  },
  {
   "cell_type": "code",
   "execution_count": null,
   "id": "894e0603",
   "metadata": {},
   "outputs": [],
   "source": [
    "lifetime_full.shape"
   ]
  },
  {
   "cell_type": "code",
   "execution_count": null,
   "id": "7b0f0f4f",
   "metadata": {},
   "outputs": [],
   "source": [
    "year_full.query('Лауреат == \"Михаил Горбачёв\"')"
   ]
  },
  {
   "cell_type": "code",
   "execution_count": null,
   "id": "098635dc",
   "metadata": {},
   "outputs": [],
   "source": [
    "lifetime_full.query('Лауреат == \"Михаил Горбачёв\"')"
   ]
  },
  {
   "cell_type": "code",
   "execution_count": null,
   "id": "a61e7f56",
   "metadata": {},
   "outputs": [],
   "source": [
    "(year_full\n",
    "    .query('Лауреат == \"Михаил Горбачёв\"')\n",
    "    .merge(lifetime_full\n",
    "          .query('Лауреат == \"Михаил Горбачёв\"'),\n",
    "          how='left', on='Лауреат')\n",
    ")"
   ]
  },
  {
   "cell_type": "code",
   "execution_count": null,
   "id": "c90772b9",
   "metadata": {},
   "outputs": [],
   "source": [
    "(year_full\n",
    "    .query('Лауреат == \"Михаил Горбачёв\"')\n",
    "    .merge(lifetime_full\n",
    "          .query('Лауреат == \"Михаил Горбачёв\"'),\n",
    "          how='right', on='Лауреат')\n",
    ")"
   ]
  },
  {
   "cell_type": "code",
   "execution_count": null,
   "id": "318b0324",
   "metadata": {},
   "outputs": [],
   "source": [
    "year_full.merge(lifetime_full, how='left', on='Лауреат')"
   ]
  },
  {
   "cell_type": "code",
   "execution_count": null,
   "id": "24fb6257",
   "metadata": {},
   "outputs": [],
   "source": []
  },
  {
   "cell_type": "code",
   "execution_count": null,
   "id": "f89ffcb5",
   "metadata": {},
   "outputs": [],
   "source": []
  },
  {
   "cell_type": "code",
   "execution_count": null,
   "id": "509ab976",
   "metadata": {},
   "outputs": [],
   "source": []
  },
  {
   "cell_type": "code",
   "execution_count": null,
   "id": "27e2def3",
   "metadata": {},
   "outputs": [],
   "source": []
  },
  {
   "cell_type": "code",
   "execution_count": null,
   "id": "a516fb99",
   "metadata": {},
   "outputs": [],
   "source": []
  },
  {
   "cell_type": "markdown",
   "id": "197021fd",
   "metadata": {},
   "source": [
    "## Применение метода merge в аналитике не только для обычного соединения таблиц"
   ]
  },
  {
   "cell_type": "markdown",
   "id": "71b115b3",
   "metadata": {},
   "source": [
    "### Необходимо узнать какой процент людей, побывавших в магазине в одном месяце вернулись в следующим"
   ]
  },
  {
   "cell_type": "code",
   "execution_count": null,
   "id": "420666e9",
   "metadata": {},
   "outputs": [],
   "source": [
    "path_sales_2022 = '../tables/sales_2022.parquet' if os.path.exists('../tables/sales_2022.parquet') else 'https://drive.google.com/uc?id=17e7FwXVdsWc2aziK9s5KidIvPcfKt9F5'\n",
    "\n",
    "sales = (pd.read_parquet(path_sales_2022)\n",
    "    [['customer_id', 'purchase_date']]\n",
    "    .drop_duplicates()\n",
    "    .reset_index(drop=True)\n",
    ")\n",
    "sales.head()"
   ]
  },
  {
   "cell_type": "markdown",
   "id": "62f27c5f",
   "metadata": {},
   "source": [
    "Дату покупки приводим к концу месяца"
   ]
  },
  {
   "cell_type": "code",
   "execution_count": null,
   "id": "a06e5a3a",
   "metadata": {},
   "outputs": [],
   "source": [
    "(sales\n",
    "    .assign(purchase_month = lambda x: x['purchase_date'].dt.normalize() \n",
    "            + pd.offsets.MonthEnd(0))\n",
    "    .drop_duplicates(['customer_id', 'purchase_month'])\n",
    "    [['customer_id', 'purchase_month']]\n",
    ")"
   ]
  },
  {
   "cell_type": "markdown",
   "id": "9b899ca9",
   "metadata": {},
   "source": [
    "Добавляем индикатор"
   ]
  },
  {
   "cell_type": "code",
   "execution_count": null,
   "id": "0d3c6a95",
   "metadata": {},
   "outputs": [],
   "source": [
    "(sales\n",
    "    .assign(purchase_month = lambda x: x['purchase_date'].dt.normalize() \n",
    "            + pd.offsets.MonthEnd(0) - pd.offsets.MonthEnd(1))\n",
    "    .drop_duplicates(['customer_id', 'purchase_month'])\n",
    "    [['customer_id', 'purchase_month']]\n",
    "    .assign(indicator = True)\n",
    ")"
   ]
  },
  {
   "cell_type": "markdown",
   "id": "34ab9769",
   "metadata": {},
   "source": [
    "Соединяем эту таблицу с таблицей сдивнутой вперед на один месяц"
   ]
  },
  {
   "cell_type": "code",
   "execution_count": null,
   "id": "7825f9b4",
   "metadata": {},
   "outputs": [],
   "source": [
    "pd.merge(\n",
    "    (sales\n",
    "        .assign(purchase_month = lambda x: x['purchase_date'].dt.normalize() \n",
    "                + pd.offsets.MonthEnd(0))\n",
    "        .drop_duplicates(['customer_id', 'purchase_month'])\n",
    "        [['customer_id', 'purchase_month']]\n",
    "    ),\n",
    "    (sales\n",
    "        .assign(purchase_month = lambda x: x['purchase_date'].dt.normalize() \n",
    "                + pd.offsets.MonthEnd(0) - pd.offsets.MonthEnd(1))\n",
    "        .drop_duplicates(['customer_id', 'purchase_month'])\n",
    "        [['customer_id', 'purchase_month']]\n",
    "        .assign(indicator = True)\n",
    "    ),\n",
    "    on=['customer_id', 'purchase_month'], # передаем список из названий колонок\n",
    "    how='left'\n",
    "    )"
   ]
  },
  {
   "cell_type": "markdown",
   "id": "797f6875",
   "metadata": {},
   "source": [
    "Считаем процент"
   ]
  },
  {
   "cell_type": "code",
   "execution_count": null,
   "id": "c4c5abd7",
   "metadata": {},
   "outputs": [],
   "source": [
    "(pd.merge(\n",
    "        (sales\n",
    "            .assign(purchase_month = lambda x: x['purchase_date'].dt.normalize() \n",
    "                    + pd.offsets.MonthEnd(0))\n",
    "            .drop_duplicates(['customer_id', 'purchase_month'])\n",
    "            [['customer_id', 'purchase_month']]\n",
    "        ),\n",
    "        (sales\n",
    "            .assign(purchase_month = lambda x: x['purchase_date'].dt.normalize() \n",
    "                    + pd.offsets.MonthEnd(0) - pd.offsets.MonthEnd(1))\n",
    "            .drop_duplicates(['customer_id', 'purchase_month'])\n",
    "            [['customer_id', 'purchase_month']]\n",
    "            .assign(indicator = True)\n",
    "        ),\n",
    "        on=['customer_id', 'purchase_month'],\n",
    "        how='left'\n",
    "    )\n",
    "    .query('purchase_month < \"2022-12-31\"')\n",
    "    ['indicator']\n",
    "    .notna() \n",
    "    .mul(100) # умножаем на 100, чтобы получить проценты\n",
    "    .mean()\n",
    "    .round(2)\n",
    ")"
   ]
  },
  {
   "cell_type": "code",
   "execution_count": null,
   "id": "dd7faf76",
   "metadata": {},
   "outputs": [],
   "source": []
  },
  {
   "cell_type": "code",
   "execution_count": null,
   "id": "003eb3db",
   "metadata": {},
   "outputs": [],
   "source": []
  },
  {
   "cell_type": "code",
   "execution_count": null,
   "id": "a7f2f031",
   "metadata": {},
   "outputs": [],
   "source": []
  },
  {
   "cell_type": "markdown",
   "id": "67cac7d2",
   "metadata": {},
   "source": [
    "## Несколько важных моментов"
   ]
  },
  {
   "cell_type": "markdown",
   "id": "8a9b21a8",
   "metadata": {},
   "source": [
    "### Важный момент про типы данных"
   ]
  },
  {
   "cell_type": "code",
   "execution_count": null,
   "id": "df97a663",
   "metadata": {},
   "outputs": [],
   "source": [
    "path_w_ends = '../tables/выходные.csv' if os.path.exists('../tables/выходные.csv') else 'https://drive.google.com/uc?id=1hAsoXSPTFihFmBuF-E0uSj9pX4gpojwC'\n",
    "\n",
    "w_ends = (pd.read_csv(path_w_ends)\n",
    "    .set_axis(['purchase_date', 'is_weekend'], axis=1)\n",
    ")\n",
    "w_ends.head()"
   ]
  },
  {
   "cell_type": "code",
   "execution_count": null,
   "id": "c4bd0b3c",
   "metadata": {},
   "outputs": [],
   "source": [
    "(sales\n",
    "    .assign(purchase_date= lambda x: x['purchase_date'].dt.normalize())\n",
    "    .head()\n",
    ")"
   ]
  },
  {
   "cell_type": "code",
   "execution_count": null,
   "id": "5a1b2bd5",
   "metadata": {},
   "outputs": [],
   "source": [
    "(sales\n",
    "    .assign(purchase_date= lambda x: x['purchase_date'].dt.normalize())\n",
    "    .merge(\n",
    "            w_ends, \n",
    "            on='purchase_date', how='left')\n",
    ")"
   ]
  },
  {
   "cell_type": "code",
   "execution_count": null,
   "id": "1c392521",
   "metadata": {},
   "outputs": [],
   "source": [
    "(sales\n",
    "    .assign(purchase_date= lambda x: x['purchase_date'].dt.normalize())\n",
    "    .merge(\n",
    "            w_ends.astype({'purchase_date': 'datetime64'}), \n",
    "            on='purchase_date', how='left')\n",
    ")"
   ]
  },
  {
   "cell_type": "code",
   "execution_count": null,
   "id": "60488dc8",
   "metadata": {},
   "outputs": [],
   "source": []
  },
  {
   "cell_type": "code",
   "execution_count": null,
   "id": "ea3953c2",
   "metadata": {},
   "outputs": [],
   "source": []
  },
  {
   "cell_type": "code",
   "execution_count": null,
   "id": "62b544c1",
   "metadata": {},
   "outputs": [],
   "source": []
  },
  {
   "cell_type": "code",
   "execution_count": null,
   "id": "11a3b032",
   "metadata": {},
   "outputs": [],
   "source": []
  },
  {
   "cell_type": "code",
   "execution_count": null,
   "id": "c9cc7e69",
   "metadata": {},
   "outputs": [],
   "source": []
  },
  {
   "cell_type": "markdown",
   "id": "cadeb7fa",
   "metadata": {},
   "source": [
    "### По возможности выполняйте фильтрацию и отбор колонок до соединения"
   ]
  },
  {
   "cell_type": "markdown",
   "id": "7a7c6400",
   "metadata": {},
   "source": [
    "#### Например: нам нужно отобрать покупки только за нерабочие дни"
   ]
  },
  {
   "cell_type": "markdown",
   "id": "c638dd3f",
   "metadata": {},
   "source": [
    "Вариант 1: фильтруем таблицу после merge"
   ]
  },
  {
   "cell_type": "code",
   "execution_count": null,
   "id": "16e2d527",
   "metadata": {},
   "outputs": [],
   "source": [
    "(sales\n",
    "    .assign(purchase_date= lambda x: x['purchase_date'].dt.normalize())\n",
    "    .merge(\n",
    "            w_ends.astype({'purchase_date': 'datetime64'}), \n",
    "            on='purchase_date', how='left')\n",
    "    .query('is_weekend')\n",
    ")"
   ]
  },
  {
   "cell_type": "markdown",
   "id": "b4b0b76c",
   "metadata": {},
   "source": [
    "Вариант 2: Сначала отбираем только даты нерабочих дней, а потом к этим датам присоединняем таблицу с покупками"
   ]
  },
  {
   "cell_type": "code",
   "execution_count": null,
   "id": "91fc60e1",
   "metadata": {},
   "outputs": [],
   "source": [
    "(sales\n",
    "    .assign(purchase_date= lambda x: x['purchase_date'].dt.normalize())\n",
    "    .merge(\n",
    "            w_ends.astype({'purchase_date': 'datetime64'}).query('is_weekend'), \n",
    "            on='purchase_date', how='inner')\n",
    ")"
   ]
  },
  {
   "cell_type": "code",
   "execution_count": null,
   "id": "1468cc0d",
   "metadata": {},
   "outputs": [],
   "source": []
  },
  {
   "cell_type": "code",
   "execution_count": null,
   "id": "8507229b",
   "metadata": {},
   "outputs": [],
   "source": []
  },
  {
   "cell_type": "code",
   "execution_count": null,
   "id": "8d61bf72",
   "metadata": {},
   "outputs": [],
   "source": []
  },
  {
   "cell_type": "markdown",
   "id": "3ec510a3",
   "metadata": {},
   "source": [
    "### Недопускайте пропусков в колонках, по которым соединяете таблицы.\n",
    " В большинстве случаев, с ними лучше работать отдельно"
   ]
  },
  {
   "cell_type": "code",
   "execution_count": null,
   "id": "7e6dc13d",
   "metadata": {},
   "outputs": [],
   "source": [
    "one = pd.DataFrame({'col_to_merge': [1, 2, None, None], 'one': 1})\n",
    "two = pd.DataFrame({'col_to_merge': [1, 2, None, None], 'two': 2})"
   ]
  },
  {
   "cell_type": "code",
   "execution_count": null,
   "id": "6b48c1ed",
   "metadata": {},
   "outputs": [],
   "source": [
    "one"
   ]
  },
  {
   "cell_type": "code",
   "execution_count": null,
   "id": "4a23e537",
   "metadata": {},
   "outputs": [],
   "source": [
    "two"
   ]
  },
  {
   "cell_type": "code",
   "execution_count": null,
   "id": "a5d40a2a",
   "metadata": {},
   "outputs": [],
   "source": [
    "one.merge(two, how='inner', on='col_to_merge')"
   ]
  },
  {
   "cell_type": "code",
   "execution_count": null,
   "id": "eb8e1d0c",
   "metadata": {},
   "outputs": [],
   "source": []
  },
  {
   "cell_type": "code",
   "execution_count": null,
   "id": "722e09bf",
   "metadata": {},
   "outputs": [],
   "source": []
  },
  {
   "cell_type": "code",
   "execution_count": null,
   "id": "d5d6c278",
   "metadata": {},
   "outputs": [],
   "source": []
  },
  {
   "cell_type": "code",
   "execution_count": null,
   "id": "d90cef7f",
   "metadata": {},
   "outputs": [],
   "source": []
  },
  {
   "cell_type": "code",
   "execution_count": null,
   "id": "b1ba0008",
   "metadata": {},
   "outputs": [],
   "source": []
  },
  {
   "cell_type": "markdown",
   "id": "e3807150",
   "metadata": {},
   "source": [
    "## Merge_asof\n",
    "\n",
    "Функция для соединения таблиц по ближайшей дате"
   ]
  },
  {
   "cell_type": "code",
   "execution_count": null,
   "id": "63b05aa1",
   "metadata": {},
   "outputs": [],
   "source": [
    "path_events = '../tables/events.parquet' if os.path.exists('../tables/events.parquet') else 'https://drive.google.com/uc?id=1Phn06U4-BI0XqtYAgtlM6IuoXRIAGQlO'\n",
    "\n",
    "events = pd.read_parquet(path_events).drop('shop_id', axis=1)\n",
    "\n",
    "hired = events.query('event_type == \"Прием на работу\"')\n",
    "dismissed = events.query('event_type == \"Увольнение\"')"
   ]
  },
  {
   "cell_type": "markdown",
   "id": "02c9b32e",
   "metadata": {},
   "source": [
    "Один и тот же сотрудник встречается в таблице 2 раза"
   ]
  },
  {
   "cell_type": "code",
   "execution_count": null,
   "id": "80c784b8",
   "metadata": {},
   "outputs": [],
   "source": [
    "hired.sort_values('i_pernr').head(8)"
   ]
  },
  {
   "cell_type": "code",
   "execution_count": null,
   "id": "5998deae",
   "metadata": {},
   "outputs": [],
   "source": [
    "dismissed.sort_values('i_pernr').head(8)"
   ]
  },
  {
   "cell_type": "markdown",
   "id": "cea6efe4",
   "metadata": {},
   "source": [
    "#### Для каждого приема на работу найти соответствующую позицию в увольнении"
   ]
  },
  {
   "cell_type": "markdown",
   "id": "af1c279b",
   "metadata": {},
   "source": [
    "Соединение при помощи merge некорректно"
   ]
  },
  {
   "cell_type": "code",
   "execution_count": null,
   "id": "bfd0e3c2",
   "metadata": {},
   "outputs": [],
   "source": [
    "hired.merge(dismissed, how='left', on='i_pernr')"
   ]
  },
  {
   "cell_type": "markdown",
   "id": "f8654d9d",
   "metadata": {},
   "source": [
    "Смотрим как много лишних наблюдений получилось"
   ]
  },
  {
   "cell_type": "code",
   "execution_count": null,
   "id": "f8dc7c05",
   "metadata": {},
   "outputs": [],
   "source": [
    "(hired\n",
    "    .merge(dismissed, how='left', on='i_pernr')\n",
    "    .query('i_pernr.duplicated(keep=False)')\n",
    "    .sort_values('i_pernr')\n",
    ")"
   ]
  },
  {
   "cell_type": "markdown",
   "id": "25a899c6",
   "metadata": {},
   "source": [
    "Применяем merge_asof"
   ]
  },
  {
   "cell_type": "code",
   "execution_count": null,
   "id": "315384fa",
   "metadata": {},
   "outputs": [],
   "source": [
    "pd.merge_asof(hired, dismissed, on='date', by='i_pernr', direction='forward')"
   ]
  },
  {
   "cell_type": "code",
   "execution_count": null,
   "id": "0f6ee0a4",
   "metadata": {},
   "outputs": [],
   "source": [
    "pd.merge_asof(hired,\n",
    "              dismissed.assign(date_dismiss=lambda x: x['date']),\n",
    "              on='date',\n",
    "              by='i_pernr',\n",
    "              direction='forward')"
   ]
  },
  {
   "cell_type": "code",
   "execution_count": null,
   "id": "22103343",
   "metadata": {},
   "outputs": [],
   "source": [
    "pd.merge_asof(hired.rename({'date': 'date_hire'}, axis=1),\n",
    "              dismissed.rename({'date': 'date_dismiss'}, axis=1),\n",
    "              left_on='date_hire', \n",
    "              right_on='date_dismiss',\n",
    "              by='i_pernr',\n",
    "              direction='forward')"
   ]
  },
  {
   "cell_type": "code",
   "execution_count": null,
   "id": "cfb8004b",
   "metadata": {},
   "outputs": [],
   "source": []
  },
  {
   "cell_type": "code",
   "execution_count": null,
   "id": "2e8d1a3e",
   "metadata": {},
   "outputs": [],
   "source": []
  },
  {
   "cell_type": "code",
   "execution_count": null,
   "id": "db706061",
   "metadata": {},
   "outputs": [],
   "source": []
  },
  {
   "cell_type": "code",
   "execution_count": null,
   "id": "db897baf",
   "metadata": {},
   "outputs": [],
   "source": []
  },
  {
   "cell_type": "code",
   "execution_count": null,
   "id": "cb6c2ad0",
   "metadata": {},
   "outputs": [],
   "source": []
  },
  {
   "cell_type": "markdown",
   "id": "495ded33",
   "metadata": {},
   "source": [
    "### Посчитаем с какой периодичнотью к нам в среднем ходят клиенты"
   ]
  },
  {
   "cell_type": "code",
   "execution_count": null,
   "id": "3c3c89bb",
   "metadata": {},
   "outputs": [],
   "source": [
    "sales.rename(columns={'purchase_date':'purchase_date_first'})"
   ]
  },
  {
   "cell_type": "code",
   "execution_count": null,
   "id": "897a0c32",
   "metadata": {},
   "outputs": [],
   "source": [
    "pd.merge_asof(\n",
    "    sales.rename(columns={'purchase_date':'purchase_date_first'}).dropna(),\n",
    "    sales.rename(columns={'purchase_date':'purchase_date_last'}).dropna(),\n",
    "    left_on='purchase_date_first',\n",
    "    right_on='purchase_date_last',\n",
    "    by='customer_id',\n",
    "    direction='forward'\n",
    ")"
   ]
  },
  {
   "cell_type": "code",
   "execution_count": null,
   "id": "e76d823b",
   "metadata": {},
   "outputs": [],
   "source": [
    "pd.merge_asof(\n",
    "    sales.rename(columns={'purchase_date':'purchase_date_first'}).dropna(),\n",
    "    sales.rename(columns={'purchase_date':'purchase_date_last'}).dropna(),\n",
    "    left_on='purchase_date_first', right_on='purchase_date_last',\n",
    "    by='customer_id', direction='forward',\n",
    "    allow_exact_matches=False\n",
    ")"
   ]
  },
  {
   "cell_type": "markdown",
   "id": "0d8df370",
   "metadata": {},
   "source": [
    "Считаем среднюю периодичность"
   ]
  },
  {
   "cell_type": "code",
   "execution_count": null,
   "id": "594c96f4",
   "metadata": {},
   "outputs": [],
   "source": [
    "(pd.merge_asof(\n",
    "    sales.rename(columns={'purchase_date':'purchase_date_first'}).dropna(),\n",
    "    sales.rename(columns={'purchase_date':'purchase_date_last'}).dropna(),\n",
    "    left_on='purchase_date_first', right_on='purchase_date_last',\n",
    "    by='customer_id', direction='forward',\n",
    "    allow_exact_matches=False\n",
    "    )\n",
    "    .assign(time_interval=lambda x: x['purchase_date_last'] - x['purchase_date_first'])\n",
    "    ['time_interval']\n",
    "    .mean()\n",
    "    .days\n",
    ")"
   ]
  },
  {
   "cell_type": "markdown",
   "id": "8a402cba",
   "metadata": {},
   "source": [
    "Считаем долю людей вернувшихся в течение 30 дней"
   ]
  },
  {
   "cell_type": "code",
   "execution_count": null,
   "id": "3b3eac87",
   "metadata": {},
   "outputs": [],
   "source": [
    "(pd.merge_asof(\n",
    "    sales.rename(columns={'purchase_date':'purchase_date_first'}).dropna(),\n",
    "    sales.rename(columns={'purchase_date':'purchase_date_last'}).dropna(),\n",
    "    left_on='purchase_date_first', right_on='purchase_date_last',\n",
    "    by='customer_id', direction='forward',\n",
    "    allow_exact_matches=False\n",
    "    )\n",
    "    .assign(return_30_days_flag=lambda x: (x['purchase_date_last'] - x['purchase_date_first']).dt.days <= 30)\n",
    "    ['return_30_days_flag']\n",
    "    .mean()\n",
    ")"
   ]
  },
  {
   "cell_type": "code",
   "execution_count": null,
   "id": "85ca6347",
   "metadata": {},
   "outputs": [],
   "source": []
  },
  {
   "cell_type": "code",
   "execution_count": null,
   "id": "44e62987",
   "metadata": {},
   "outputs": [],
   "source": []
  },
  {
   "cell_type": "code",
   "execution_count": null,
   "id": "df6f3cef",
   "metadata": {},
   "outputs": [],
   "source": []
  },
  {
   "cell_type": "code",
   "execution_count": null,
   "id": "3f33f872",
   "metadata": {},
   "outputs": [],
   "source": []
  },
  {
   "cell_type": "code",
   "execution_count": null,
   "id": "4511e9ea",
   "metadata": {},
   "outputs": [],
   "source": []
  },
  {
   "cell_type": "code",
   "execution_count": null,
   "id": "3073b1f6",
   "metadata": {},
   "outputs": [],
   "source": []
  },
  {
   "cell_type": "code",
   "execution_count": null,
   "id": "9b06c407",
   "metadata": {},
   "outputs": [],
   "source": []
  },
  {
   "cell_type": "code",
   "execution_count": null,
   "id": "6a1f1604",
   "metadata": {},
   "outputs": [],
   "source": []
  },
  {
   "cell_type": "code",
   "execution_count": null,
   "id": "dc4ca5b2",
   "metadata": {},
   "outputs": [],
   "source": []
  },
  {
   "cell_type": "code",
   "execution_count": null,
   "id": "12c109ed",
   "metadata": {},
   "outputs": [],
   "source": []
  },
  {
   "cell_type": "markdown",
   "id": "ca2cd091",
   "metadata": {},
   "source": [
    "# Задания"
   ]
  },
  {
   "cell_type": "markdown",
   "id": "8f5d01d0",
   "metadata": {},
   "source": [
    "#### Описание таблиц лежит [здесь](https://github.com/victorlymarev/pandas/tree/main/tables#%D0%BE%D0%BF%D0%B8%D1%81%D0%B0%D0%BD%D0%B8%D0%B5-%D1%82%D0%B0%D0%B1%D0%BB%D0%B8%D1%86)"
   ]
  },
  {
   "cell_type": "markdown",
   "id": "67987416",
   "metadata": {},
   "source": [
    "Некоторые таблицы занимают много памяти, поэтому каждые 5-10 заданий лучше перезапускайте ноутбук.\n",
    "\n",
    "В формулировке некоторых заданий может содержаться вариативность. Если у вас есть сомнения, что требуется в задании, попробуйте решить несколько вариантов. Если вы не понимаете задание, можете написать об этом в комментариях под видео.\n",
    "\n",
    "В большинстве случаев внешний вид итоговой таблицы не определен. Выведите на экран наиболее адекватный вариант. То есть таблицу, из которой можно будет сделать выводы.\n",
    "\n",
    "Курс пока находится в разработке. Вы можете помочь другим людям добавив свое решение [сюда](https://docs.google.com/forms/d/1HYTBz_KfssY3Jps2dC3n0YnEqa6WBb5OIhLo1d32Xzw/edit).\n",
    "\n",
    "Посмотреть решения других людей можно [здесь](https://docs.google.com/spreadsheets/d/1pMDYO-9UneLbPPnEuQ2shig0TOJdQTU-zipifyAnZMk/edit?resourcekey#gid=1998648012)"
   ]
  },
  {
   "cell_type": "markdown",
   "id": "8be77588",
   "metadata": {},
   "source": [
    "### Задание 1\n",
    "\n",
    "Добавление колонки из единиц может быть полезным, если у вас есть две почти одинаковые таблицы, но с разным количеством записей. В этом случае, сделав индикатор того, из какой таблицы взята запись, вы без труда найдете отличие в таблицах.\n",
    "\n",
    "Перед вам сейчас две очень похожие таблицы. В них содержатся табельный номер и зарплата. Найдите записи, которые встечаются в таблице 1, но не встречаются в таблице 2 и наоборот. \n",
    "\n",
    "\n",
    "<details>\n",
    "\n",
    "<summary>Подсказка</summary>\n",
    " \n",
    "Для этого сначала в каждой из таблиц создайте колонки с индикатором. Только назовите эти колонки по-разному. Затем соедините эти таблицы мотодом outer по колонкам i_pernr и salary. В конце отфильтруйте записи в полученной таблице, воспользовавшись методом isna().\n",
    "\n",
    "</details>\n"
   ]
  },
  {
   "cell_type": "code",
   "execution_count": null,
   "id": "32ae02b2",
   "metadata": {},
   "outputs": [],
   "source": [
    "import os\n",
    "import pandas as pd\n",
    "\n",
    "path_empl = '../tables/employees.parquet' if os.path.exists('../tables/employees.parquet') else 'https://drive.google.com/uc?id=1AARD5-eVlCxoApt5CYZebrC3Cqw42lvj'\n",
    "\n",
    "empl = pd.read_parquet(path_empl)\n",
    "empl_1 = (empl[['i_pernr', 'salary']].drop_duplicates('i_pernr')\n",
    "          .sample(frac=0.7, random_state=123).sort_index().reset_index(drop=True))\n",
    "empl_1.head()"
   ]
  },
  {
   "cell_type": "code",
   "execution_count": null,
   "id": "8cea0f36",
   "metadata": {},
   "outputs": [],
   "source": [
    "empl_2 = (empl[['i_pernr', 'salary']].drop_duplicates('i_pernr')\n",
    "          .sample(frac=0.7, random_state=1234).sort_index().reset_index(drop=True))\n",
    "empl_2.head()"
   ]
  },
  {
   "cell_type": "code",
   "execution_count": null,
   "id": "6f73fe90",
   "metadata": {},
   "outputs": [],
   "source": [
    "# напишите свой код здесь"
   ]
  },
  {
   "cell_type": "markdown",
   "id": "2b785cdb",
   "metadata": {},
   "source": [
    "### Задание 2\n",
    "\n",
    "Поставить флаг того, что товар выводится из продажи в следующем месяце. (1 если выводится, 0 если товар будет в продаже в следующем месяце)\n",
    "\n",
    "Если в таблице товар есть в месяце х, но его нет в месяце х + 1, то значит он был выведен из продажи в месяце"
   ]
  },
  {
   "cell_type": "code",
   "execution_count": null,
   "id": "0aca39af",
   "metadata": {},
   "outputs": [],
   "source": [
    "import os\n",
    "import pandas as pd\n",
    "\n",
    "path_prices = '../tables/prices.parquet' if os.path.exists('../tables/prices.parquet') else 'https://drive.google.com/uc?id=1_KfYyYCsib8woanbP3VouLUpYp103dV5'\n",
    "\n",
    "prices = pd.read_parquet(path_prices)\n",
    "prices.head()"
   ]
  },
  {
   "cell_type": "code",
   "execution_count": null,
   "id": "cbd4f857",
   "metadata": {},
   "outputs": [],
   "source": [
    "# напишите свой код здесь"
   ]
  },
  {
   "cell_type": "markdown",
   "id": "ea646554",
   "metadata": {},
   "source": [
    "### Задание 3\n",
    "\n",
    "В списке tables содержится 10 фрагментов таблиц sales. Соедините все таблицы в одну, избавьтесь от дубликатов, отсортируйте по индексу и сбросьте его так, чтобы исходная колонка с индексом удалилась"
   ]
  },
  {
   "cell_type": "code",
   "execution_count": null,
   "id": "633a4c8e",
   "metadata": {},
   "outputs": [],
   "source": [
    "import os\n",
    "import pandas as pd\n",
    "\n",
    "path_sales_2022 = '../tables/sales_2022.parquet' if os.path.exists('../tables/sales_2022.parquet') else 'https://drive.google.com/uc?id=17e7FwXVdsWc2aziK9s5KidIvPcfKt9F5'\n",
    "\n",
    "sales = pd.read_parquet(path_sales_2022)\n",
    "tables = [sales.sample(5000, random_state=i) for i in range(10)]\n",
    "# отдельную таблицу можно получить по индексу, указав его в квадратных скобках\n",
    "tables[0].head()"
   ]
  },
  {
   "cell_type": "code",
   "execution_count": null,
   "id": "bcab214c",
   "metadata": {},
   "outputs": [],
   "source": [
    "# напишите свой код здесь"
   ]
  },
  {
   "cell_type": "markdown",
   "id": "4649290b",
   "metadata": {},
   "source": [
    "### Задание 4\n",
    "\n",
    "Для каждого сотрудника на конец каждого месяца поставьте флаг того, что он уволится в течение 91 дня"
   ]
  },
  {
   "cell_type": "code",
   "execution_count": null,
   "id": "dd31420d",
   "metadata": {},
   "outputs": [],
   "source": [
    "import os\n",
    "import pandas as pd\n",
    "\n",
    "path_empl = '../tables/employees.parquet' if os.path.exists('../tables/employees.parquet') else 'https://drive.google.com/uc?id=1AARD5-eVlCxoApt5CYZebrC3Cqw42lvj'\n",
    "\n",
    "empl = pd.read_parquet(path_empl)\n",
    "empl.head()"
   ]
  },
  {
   "cell_type": "code",
   "execution_count": null,
   "id": "5e206c7d",
   "metadata": {},
   "outputs": [],
   "source": [
    "path_events = '../tables/events.parquet' if os.path.exists('../tables/events.parquet') else 'https://drive.google.com/uc?id=1Phn06U4-BI0XqtYAgtlM6IuoXRIAGQlO'\n",
    "\n",
    "events = pd.read_parquet(path_events)\n",
    "events.head()"
   ]
  },
  {
   "cell_type": "code",
   "execution_count": null,
   "id": "387c7c4b",
   "metadata": {},
   "outputs": [],
   "source": [
    "# напишите свой код здесь"
   ]
  },
  {
   "cell_type": "markdown",
   "id": "5f0e1358",
   "metadata": {},
   "source": [
    "### Задание 5\n",
    "\n",
    "Для каждого сотрудника на конец каждого месяца поставьте флаг того, что он волится в течение 3 месяцев (то есть через 3 месяца он не будет находиться в списке сотрудников)"
   ]
  },
  {
   "cell_type": "code",
   "execution_count": null,
   "id": "b91c0416",
   "metadata": {},
   "outputs": [],
   "source": [
    "import os\n",
    "import pandas as pd\n",
    "\n",
    "path_empl = '../tables/employees.parquet' if os.path.exists('../tables/employees.parquet') else 'https://drive.google.com/uc?id=1AARD5-eVlCxoApt5CYZebrC3Cqw42lvj'\n",
    "\n",
    "empl = pd.read_parquet(path_empl)\n",
    "empl.head()"
   ]
  },
  {
   "cell_type": "code",
   "execution_count": null,
   "id": "28de2d14",
   "metadata": {},
   "outputs": [],
   "source": [
    "# напишите свой код здесь"
   ]
  },
  {
   "cell_type": "markdown",
   "id": "867de30f",
   "metadata": {},
   "source": [
    "### Задание 6\n",
    "\n",
    "На конец каждого месяца посчитайте, сколько дней проработал сотрудник с момента последнего устройства на работу"
   ]
  },
  {
   "cell_type": "code",
   "execution_count": null,
   "id": "f36eae3f",
   "metadata": {},
   "outputs": [],
   "source": [
    "import os\n",
    "import pandas as pd\n",
    "\n",
    "path_empl = '../tables/employees.parquet' if os.path.exists('../tables/employees.parquet') else 'https://drive.google.com/uc?id=1AARD5-eVlCxoApt5CYZebrC3Cqw42lvj'\n",
    "\n",
    "empl = pd.read_parquet(path_empl)\n",
    "empl.head()"
   ]
  },
  {
   "cell_type": "code",
   "execution_count": null,
   "id": "707ba48d",
   "metadata": {},
   "outputs": [],
   "source": [
    "path_events = '../tables/events.parquet' if os.path.exists('../tables/events.parquet') else 'https://drive.google.com/uc?id=1Phn06U4-BI0XqtYAgtlM6IuoXRIAGQlO'\n",
    "\n",
    "events = pd.read_parquet(path_events)\n",
    "events.head()"
   ]
  },
  {
   "cell_type": "code",
   "execution_count": null,
   "id": "5e790691",
   "metadata": {},
   "outputs": [],
   "source": [
    "# напишите свой код здесь"
   ]
  },
  {
   "cell_type": "markdown",
   "id": "a11cb14d",
   "metadata": {},
   "source": [
    "### Задание 7\n",
    "\n",
    "Поставьте флаг того, что товар был куплен по скидке и укажите размер этой скидки в процентах"
   ]
  },
  {
   "cell_type": "code",
   "execution_count": null,
   "id": "15b210cf",
   "metadata": {},
   "outputs": [],
   "source": [
    "import os\n",
    "import pandas as pd\n",
    "\n",
    "path_prices = '../tables/prices.parquet' if os.path.exists('../tables/prices.parquet') else 'https://drive.google.com/uc?id=1_KfYyYCsib8woanbP3VouLUpYp103dV5'\n",
    "\n",
    "prices = pd.read_parquet(path_prices)\n",
    "prices.head()"
   ]
  },
  {
   "cell_type": "code",
   "execution_count": null,
   "id": "27cdf3f1",
   "metadata": {},
   "outputs": [],
   "source": [
    "# таблица sales - большая, и в некоторых случаях ваш компьютер может не справиться с ее обработкой\n",
    "# поэтому лучше работайте с частью этой таблицы\n",
    "# но если вы хотите попробовать поработать с полной версией таблицы,\n",
    "# можете заменить переменную path_sales_sample_check на path_sales внутри функции read_parquet\n",
    "\n",
    "path_sales_sample_check = '../tables/sales_sample_check.parquet' if os.path.exists('../tables/sales_sample_check.parquet') else 'https://drive.google.com/uc?id=1oYT518oqGnEF51PSFHfSHYNP-690ktFL'\n",
    "# path_sales = '../tables/sales.parquet' if os.path.exists('../tables/sales.parquet') else \"https://drive.usercontent.google.com/download?id=15KwSxyM6hpNABGe6_vsrFZvD09VfHFyK&export=download&authuser=1&confirm=t&uuid=115bd48c-cc2c-4f2a-8b42-be5ca6ef6db8&at=APZUnTUVb8nfNANw5wr9Cad7PJ3U:1693327774694\"\n",
    "\n",
    "sales = pd.read_parquet(path_sales_sample_check)\n",
    "sales.head()"
   ]
  },
  {
   "cell_type": "code",
   "execution_count": null,
   "id": "399fcbb6",
   "metadata": {},
   "outputs": [],
   "source": [
    "# напишите свой код здесь"
   ]
  },
  {
   "cell_type": "markdown",
   "id": "0975db89",
   "metadata": {},
   "source": [
    "### Задание 8\n",
    "\n",
    "Посчитайте число дней до ближайшего выходного. В день перед выходным должно стоять число 1, а для выходных установите значение -1"
   ]
  },
  {
   "cell_type": "code",
   "execution_count": null,
   "id": "ca24b96b",
   "metadata": {},
   "outputs": [],
   "source": [
    "import os\n",
    "import pandas as pd\n",
    "\n",
    "path_w_ends = '../tables/выходные.csv' if os.path.exists('../tables/выходные.csv') else 'https://drive.google.com/uc?id=1hAsoXSPTFihFmBuF-E0uSj9pX4gpojwC'\n",
    "\n",
    "w_ends = pd.read_csv(path_w_ends)\n",
    "w_ends.head()"
   ]
  },
  {
   "cell_type": "code",
   "execution_count": null,
   "id": "788f4d16",
   "metadata": {},
   "outputs": [],
   "source": [
    "# напишите свой код здесь"
   ]
  },
  {
   "cell_type": "markdown",
   "id": "446d4c76",
   "metadata": {},
   "source": [
    "### Задание 9\n",
    "\n",
    "Посчитайте средний возраст сотрудника при устройстве на работу. \n",
    "\n",
    "Вы уже делали похожее задание, но тогда было условие, что сотрудник пришел на работу впервые"
   ]
  },
  {
   "cell_type": "code",
   "execution_count": null,
   "id": "c5ce6d8c",
   "metadata": {},
   "outputs": [],
   "source": [
    "import os\n",
    "import pandas as pd\n",
    "\n",
    "path_events = '../tables/events.parquet' if os.path.exists('../tables/events.parquet') else 'https://drive.google.com/uc?id=1Phn06U4-BI0XqtYAgtlM6IuoXRIAGQlO'\n",
    "\n",
    "events = pd.read_parquet(path_events)\n",
    "events.head()"
   ]
  },
  {
   "cell_type": "code",
   "execution_count": null,
   "id": "73b6bba4",
   "metadata": {},
   "outputs": [],
   "source": [
    "path_empl = '../tables/employees.parquet' if os.path.exists('../tables/employees.parquet') else 'https://drive.google.com/uc?id=1AARD5-eVlCxoApt5CYZebrC3Cqw42lvj'\n",
    "\n",
    "empl = pd.read_parquet(path_empl)\n",
    "empl.head()"
   ]
  },
  {
   "cell_type": "code",
   "execution_count": null,
   "id": "c933225e",
   "metadata": {},
   "outputs": [],
   "source": [
    "# напишите свой код здесь"
   ]
  },
  {
   "cell_type": "markdown",
   "id": "0e56e420",
   "metadata": {},
   "source": [
    "### Задание 10\n",
    "\n",
    "Узнайте, какой процент покупателей, которые делали покупки в магазине 3 в январе и феврале 2022 года вернулись в любой из магазинов с марта по август включительно"
   ]
  },
  {
   "cell_type": "code",
   "execution_count": null,
   "id": "a134d21b",
   "metadata": {},
   "outputs": [],
   "source": [
    "import os\n",
    "import pandas as pd\n",
    "\n",
    "path_sales_2022 = '../tables/sales_2022.parquet' if os.path.exists('../tables/sales_2022.parquet') else 'https://drive.google.com/uc?id=17e7FwXVdsWc2aziK9s5KidIvPcfKt9F5'\n",
    "\n",
    "sales = pd.read_parquet(path_sales_2022)\n",
    "sales.head()"
   ]
  },
  {
   "cell_type": "code",
   "execution_count": null,
   "id": "a0d49441",
   "metadata": {},
   "outputs": [],
   "source": [
    "# напишите свой код здесь"
   ]
  },
  {
   "cell_type": "markdown",
   "id": "7ca38801",
   "metadata": {},
   "source": [
    "### Задание 11\n",
    "\n",
    "Узнайте, сколько в среднем работают в компании кассиры и сколько консультанты. Возьмите только тех сотрудников, которые уже уволись, если сотурудник приходил и увольнялся несколько раз, то его нужно учитывать несколько раз. В качестве должности берите должность при устройтсве на работу"
   ]
  },
  {
   "cell_type": "code",
   "execution_count": null,
   "id": "47f09aa5",
   "metadata": {},
   "outputs": [],
   "source": [
    "import os\n",
    "import pandas as pd\n",
    "\n",
    "path_events = '../tables/events.parquet' if os.path.exists('../tables/events.parquet') else 'https://drive.google.com/uc?id=1Phn06U4-BI0XqtYAgtlM6IuoXRIAGQlO'\n",
    "\n",
    "events = pd.read_parquet(path_events)\n",
    "events.head()"
   ]
  },
  {
   "cell_type": "code",
   "execution_count": null,
   "id": "1b4d49e1",
   "metadata": {},
   "outputs": [],
   "source": [
    "path_empl = '../tables/employees.parquet' if os.path.exists('../tables/employees.parquet') else 'https://drive.google.com/uc?id=1AARD5-eVlCxoApt5CYZebrC3Cqw42lvj'\n",
    "\n",
    "empl = pd.read_parquet(path_empl)\n",
    "empl.head()"
   ]
  },
  {
   "cell_type": "code",
   "execution_count": null,
   "id": "b9e58a14",
   "metadata": {},
   "outputs": [],
   "source": [
    "# напишите свой код здесь"
   ]
  },
  {
   "cell_type": "markdown",
   "id": "72e88c8b",
   "metadata": {},
   "source": [
    "### Задание 12\n",
    "\n",
    "Для каждого сотрудника найдите отношение его текущей зарплаты к зарплате при трудоустройстве. Учитывайте, что сотрудник мог устраиваться на работу нескольько раз.\n",
    "\n",
    "Cделайте это используя merge и merge_asof и не используйте groupby"
   ]
  },
  {
   "cell_type": "code",
   "execution_count": null,
   "id": "8f871935",
   "metadata": {},
   "outputs": [],
   "source": [
    "import os\n",
    "import pandas as pd\n",
    "\n",
    "path_events = '../tables/events.parquet' if os.path.exists('../tables/events.parquet') else 'https://drive.google.com/uc?id=1Phn06U4-BI0XqtYAgtlM6IuoXRIAGQlO'\n",
    "\n",
    "events = pd.read_parquet(path_events)\n",
    "events.head()"
   ]
  },
  {
   "cell_type": "code",
   "execution_count": null,
   "id": "70939435",
   "metadata": {},
   "outputs": [],
   "source": [
    "path_empl = '../tables/employees.parquet' if os.path.exists('../tables/employees.parquet') else 'https://drive.google.com/uc?id=1AARD5-eVlCxoApt5CYZebrC3Cqw42lvj'\n",
    "\n",
    "empl = pd.read_parquet(path_empl)\n",
    "empl.head()"
   ]
  },
  {
   "cell_type": "code",
   "execution_count": null,
   "id": "473968d7",
   "metadata": {},
   "outputs": [],
   "source": [
    "# напишите свой код здесь"
   ]
  },
  {
   "cell_type": "markdown",
   "id": "a1a97bfc",
   "metadata": {},
   "source": [
    "### Задание 13\n",
    "\n",
    "Посчитайте инфляцию.\n",
    "\n",
    "Посмотрите на товары, которые были в продаже как 31 декабря 2015 года, так и 31 декабря 2022 года. Затем посчитайте отношение между ценами за этот период. Из полученного значения посчитайте среднюю годовую инфляцию за период."
   ]
  },
  {
   "cell_type": "code",
   "execution_count": null,
   "id": "92aac3ee",
   "metadata": {},
   "outputs": [],
   "source": [
    "import os\n",
    "import pandas as pd\n",
    "\n",
    "path_prices = '../tables/prices.parquet' if os.path.exists('../tables/prices.parquet') else 'https://drive.google.com/uc?id=1_KfYyYCsib8woanbP3VouLUpYp103dV5'\n",
    "\n",
    "prices = pd.read_parquet(path_prices)\n",
    "prices.head()"
   ]
  },
  {
   "cell_type": "code",
   "execution_count": null,
   "id": "2e9fce4c",
   "metadata": {},
   "outputs": [],
   "source": [
    "# напишите свой код здесь"
   ]
  },
  {
   "cell_type": "markdown",
   "id": "50182c3f",
   "metadata": {},
   "source": [
    "### Задание 14\n",
    "\n",
    "Вывидите спиок сотрудников (можете попробовать еще вывести их должноть), которые работали 18 июля 2021 года. Если человек устроился в этот день на работу или уволился, то его тоже надо учитывать"
   ]
  },
  {
   "cell_type": "code",
   "execution_count": null,
   "id": "1c647ebc",
   "metadata": {},
   "outputs": [],
   "source": [
    "import os\n",
    "import pandas as pd\n",
    "\n",
    "path_events = '../tables/events.parquet' if os.path.exists('../tables/events.parquet') else 'https://drive.google.com/uc?id=1Phn06U4-BI0XqtYAgtlM6IuoXRIAGQlO'\n",
    "\n",
    "events = pd.read_parquet(path_events)\n",
    "events.head()"
   ]
  },
  {
   "cell_type": "code",
   "execution_count": null,
   "id": "63f23dc0",
   "metadata": {},
   "outputs": [],
   "source": [
    "path_empl = '../tables/employees.parquet' if os.path.exists('../tables/employees.parquet') else 'https://drive.google.com/uc?id=1AARD5-eVlCxoApt5CYZebrC3Cqw42lvj'\n",
    "\n",
    "empl = pd.read_parquet(path_empl)\n",
    "empl.head()"
   ]
  },
  {
   "cell_type": "code",
   "execution_count": null,
   "id": "56532267",
   "metadata": {},
   "outputs": [],
   "source": [
    "# напишите свой код здесь"
   ]
  },
  {
   "cell_type": "markdown",
   "id": "6e16526a",
   "metadata": {},
   "source": [
    "### Задание 15\n",
    "\n",
    "Посчитайте суммарную выручку в крупных магазинах (это задание можно сделать и без джойна)"
   ]
  },
  {
   "cell_type": "code",
   "execution_count": null,
   "id": "160d6975",
   "metadata": {},
   "outputs": [],
   "source": [
    "# таблица sales - большая, и в некоторых случаях ваш компьютер может не справиться с ее обработкой\n",
    "# поэтому лучше работайте с частью этой таблицы\n",
    "# но если вы хотите попробовать поработать с полной версией таблицы,\n",
    "# можете заменить переменную path_sales_sample на path_sales внутри функции read_parquet\n",
    "\n",
    "import os\n",
    "import pandas as pd\n",
    "\n",
    "path_sales_sample = '../tables/sales_sample.parquet' if os.path.exists('../tables/sales_sample.parquet') else 'https://drive.google.com/uc?id=1BgxAxPauzC4LObY3N65PgAvnU3f5QRj2'\n",
    "# path_sales = '../tables/sales.parquet' if os.path.exists('../tables/sales.parquet') else \"https://drive.usercontent.google.com/download?id=15KwSxyM6hpNABGe6_vsrFZvD09VfHFyK&export=download&authuser=1&confirm=t&uuid=115bd48c-cc2c-4f2a-8b42-be5ca6ef6db8&at=APZUnTUVb8nfNANw5wr9Cad7PJ3U:1693327774694\"\n",
    "\n",
    "sales = pd.read_parquet(path_sales_sample)\n",
    "sales.head()"
   ]
  },
  {
   "cell_type": "code",
   "execution_count": null,
   "id": "fc34e9dc",
   "metadata": {},
   "outputs": [],
   "source": [
    "path_shops = '../tables/shops.xlsx' if os.path.exists('../tables/shops.xlsx') else 'https://drive.google.com/uc?id=1gfnmceJa3Mc1X06NftTx9G9QfKfprjEB'\n",
    "\n",
    "shops = pd.read_excel(path_shops)\n",
    "shops.head()"
   ]
  },
  {
   "cell_type": "code",
   "execution_count": null,
   "id": "ebd249c8",
   "metadata": {},
   "outputs": [],
   "source": [
    "# напишите свой код здесь"
   ]
  },
  {
   "cell_type": "markdown",
   "id": "16547ac1",
   "metadata": {},
   "source": [
    "### Задание 16\n",
    "\n",
    "Найдите те товары (product_code_3), которые были в продаже, но никогда не были куплены"
   ]
  },
  {
   "cell_type": "code",
   "execution_count": null,
   "id": "3500f5d8",
   "metadata": {},
   "outputs": [],
   "source": [
    "# таблица sales - большая, и в некоторых случаях ваш компьютер может не справиться с ее обработкой\n",
    "# поэтому лучше работайте с частью этой таблицы\n",
    "# но если вы хотите попробовать поработать с полной версией таблицы,\n",
    "# можете заменить переменную path_sales_sample на path_sales внутри функции read_parquet\n",
    "\n",
    "import os\n",
    "import pandas as pd\n",
    "\n",
    "path_sales_sample = '../tables/sales_sample.parquet' if os.path.exists('../tables/sales_sample.parquet') else 'https://drive.google.com/uc?id=1BgxAxPauzC4LObY3N65PgAvnU3f5QRj2'\n",
    "# path_sales = '../tables/sales.parquet' if os.path.exists('../tables/sales.parquet') else \"https://drive.usercontent.google.com/download?id=15KwSxyM6hpNABGe6_vsrFZvD09VfHFyK&export=download&authuser=1&confirm=t&uuid=115bd48c-cc2c-4f2a-8b42-be5ca6ef6db8&at=APZUnTUVb8nfNANw5wr9Cad7PJ3U:1693327774694\"\n",
    "\n",
    "sales = pd.read_parquet(path_sales_sample)\n",
    "sales.head()"
   ]
  },
  {
   "cell_type": "code",
   "execution_count": null,
   "id": "c56dd950",
   "metadata": {},
   "outputs": [],
   "source": [
    "path_goods_descr = '../tables/goods_description.parquet' if os.path.exists('../tables/goods_description.parquet') else 'https://drive.google.com/uc?id=1YbiD02Rev-X_WWV9nPSG1zZFmEh2JjPh'\n",
    "\n",
    "goods_descr = pd.read_parquet(path_goods_descr)\n",
    "goods_descr.head()"
   ]
  },
  {
   "cell_type": "code",
   "execution_count": null,
   "id": "4d836bdd",
   "metadata": {},
   "outputs": [],
   "source": [
    "# напишите свой код здесь"
   ]
  },
  {
   "cell_type": "markdown",
   "id": "71f36dce",
   "metadata": {},
   "source": [
    "### Задание 17\n",
    "\n",
    "Задание на нампай\n",
    "\n",
    "Две матрицы или 2 вектора можно соединить друг с другом. Для этого в нампае есть функции np.vstack и np.hstack. Посмотрите как они работают. Создайте матрицу (какую хотите) 8 на 5 и присоединиете справа к этой матрице вектор длинною 8. Посмотрите документацию по функциям np.stack и np.concatenate и попробуйте поиграться с ними. Разница между двумя функциями состоит в том, что np.stack объединяет массивы вдоль новой оси, а np.concatenate вдоль существующей. То есть если вы соедините 4 матрицы 7 на 9 при помощи np.stack, то получите трехмерный массив. А если вы будете использовать функцию np.concatenate, то размерность получившегося массива останется той же самой."
   ]
  },
  {
   "cell_type": "code",
   "execution_count": null,
   "id": "2b05df55",
   "metadata": {},
   "outputs": [],
   "source": [
    "import numpy as np"
   ]
  },
  {
   "cell_type": "code",
   "execution_count": null,
   "id": "43a4ac2e",
   "metadata": {},
   "outputs": [],
   "source": [
    "x, y = np.random.randint(0, 10, (2, 5, 2))"
   ]
  },
  {
   "cell_type": "code",
   "execution_count": null,
   "id": "c40e24fd",
   "metadata": {},
   "outputs": [],
   "source": [
    "x"
   ]
  },
  {
   "cell_type": "code",
   "execution_count": null,
   "id": "43f206a3",
   "metadata": {},
   "outputs": [],
   "source": [
    "y"
   ]
  },
  {
   "cell_type": "code",
   "execution_count": null,
   "id": "fe4f4252",
   "metadata": {},
   "outputs": [],
   "source": [
    "np.vstack([x, y])"
   ]
  },
  {
   "cell_type": "code",
   "execution_count": null,
   "id": "c97b5b96",
   "metadata": {},
   "outputs": [],
   "source": [
    "np.hstack([x, y])"
   ]
  },
  {
   "cell_type": "code",
   "execution_count": null,
   "id": "0eb4f010",
   "metadata": {},
   "outputs": [],
   "source": [
    "np.hstack([np.arange(5)] * 2)"
   ]
  },
  {
   "cell_type": "code",
   "execution_count": null,
   "id": "4592e44a",
   "metadata": {},
   "outputs": [],
   "source": [
    "np.vstack([np.arange(5)] * 2)"
   ]
  },
  {
   "cell_type": "code",
   "execution_count": null,
   "id": "6df118ed",
   "metadata": {},
   "outputs": [],
   "source": [
    "a, b = np.random.randint(0, 10, (2, 3, 5, 2))"
   ]
  },
  {
   "cell_type": "code",
   "execution_count": null,
   "id": "65504a99",
   "metadata": {},
   "outputs": [],
   "source": [
    "a.shape"
   ]
  },
  {
   "cell_type": "code",
   "execution_count": null,
   "id": "52fef687",
   "metadata": {},
   "outputs": [],
   "source": [
    "np.hstack([a, b]).shape"
   ]
  },
  {
   "cell_type": "code",
   "execution_count": null,
   "id": "329ec7ec",
   "metadata": {},
   "outputs": [],
   "source": [
    "np.vstack([a, b]).shape"
   ]
  },
  {
   "cell_type": "code",
   "execution_count": null,
   "id": "08cd4b1f",
   "metadata": {},
   "outputs": [],
   "source": []
  },
  {
   "cell_type": "code",
   "execution_count": null,
   "id": "c02a0692",
   "metadata": {},
   "outputs": [],
   "source": []
  }
 ],
 "metadata": {
  "kernelspec": {
   "display_name": "Python 3 (ipykernel)",
   "language": "python",
   "name": "python3"
  },
  "language_info": {
   "codemirror_mode": {
    "name": "ipython",
    "version": 3
   },
   "file_extension": ".py",
   "mimetype": "text/x-python",
   "name": "python",
   "nbconvert_exporter": "python",
   "pygments_lexer": "ipython3",
   "version": "3.11.6"
  }
 },
 "nbformat": 4,
 "nbformat_minor": 5
}
