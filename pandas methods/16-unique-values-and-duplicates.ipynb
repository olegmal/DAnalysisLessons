{
 "cells": [
  {
   "cell_type": "markdown",
   "id": "c4509b2d",
   "metadata": {},
   "source": [
    "<a target=\"_blank\" href=\"https://colab.research.google.com/github/victorlymarev/pandas/blob/main/notebooks/16-unique-values-and-duplicates.ipynb\">\n",
    "  <img src=\"https://colab.research.google.com/assets/colab-badge.svg\" alt=\"Open In Colab\"/>\n",
    "</a>"
   ]
  },
  {
   "cell_type": "markdown",
   "id": "05a41789",
   "metadata": {},
   "source": [
    "# Уникальные значения и дубликаты\n",
    "#### [Ссылка на видео](https://youtu.be/ahtQtSL7j2M)"
   ]
  },
  {
   "cell_type": "code",
   "execution_count": null,
   "id": "32170fa6",
   "metadata": {},
   "outputs": [],
   "source": [
    "import pandas as pd\n",
    "import os"
   ]
  },
  {
   "cell_type": "markdown",
   "id": "50e9cc7e",
   "metadata": {},
   "source": [
    "Читаем таблицу"
   ]
  },
  {
   "cell_type": "code",
   "execution_count": null,
   "id": "297b8feb",
   "metadata": {},
   "outputs": [],
   "source": [
    "path_empl = '../tables/employees.parquet' if os.path.exists('../tables/employees.parquet') else 'https://drive.google.com/uc?id=1AARD5-eVlCxoApt5CYZebrC3Cqw42lvj'\n",
    "\n",
    "empl = pd.read_parquet(path_empl).query('report_dt > \"2022-09-30\"')\n",
    "empl.head()"
   ]
  },
  {
   "cell_type": "code",
   "execution_count": null,
   "id": "84d43b4f",
   "metadata": {},
   "outputs": [],
   "source": [
    "empl['pos_name'].head()"
   ]
  },
  {
   "cell_type": "code",
   "execution_count": null,
   "id": "278886cf",
   "metadata": {},
   "outputs": [],
   "source": []
  },
  {
   "cell_type": "code",
   "execution_count": null,
   "id": "e1382e5d",
   "metadata": {},
   "outputs": [],
   "source": []
  },
  {
   "cell_type": "markdown",
   "id": "44dee15f",
   "metadata": {},
   "source": [
    "## value_counts\n",
    "Считает сколько раз значение встретилось в колонке"
   ]
  },
  {
   "cell_type": "code",
   "execution_count": null,
   "id": "1a6fc30f",
   "metadata": {},
   "outputs": [],
   "source": [
    "empl['pos_name'].value_counts()"
   ]
  },
  {
   "cell_type": "markdown",
   "id": "d07b91e0",
   "metadata": {},
   "source": [
    "#### Если normalize=True, то метод счиатет долю каждого значения в столбце"
   ]
  },
  {
   "cell_type": "code",
   "execution_count": null,
   "id": "1ee71fe0",
   "metadata": {},
   "outputs": [],
   "source": [
    "empl['pos_name'].value_counts(normalize=True)"
   ]
  },
  {
   "cell_type": "markdown",
   "id": "09039cdd",
   "metadata": {},
   "source": [
    "#### По умолчанию пропуски не считаются, но это можно изменить"
   ]
  },
  {
   "cell_type": "code",
   "execution_count": null,
   "id": "07a2164e",
   "metadata": {},
   "outputs": [],
   "source": [
    "empl['closest_boss_pos_id'].value_counts(dropna=False)"
   ]
  },
  {
   "cell_type": "markdown",
   "id": "698af58c",
   "metadata": {},
   "source": [
    "#### Значения можно отсортировать по возрастанию"
   ]
  },
  {
   "cell_type": "code",
   "execution_count": null,
   "id": "8af71456",
   "metadata": {},
   "outputs": [],
   "source": [
    "empl['closest_boss_pos_id'].value_counts(ascending=True)"
   ]
  },
  {
   "cell_type": "code",
   "execution_count": null,
   "id": "b182cf52",
   "metadata": {},
   "outputs": [],
   "source": []
  },
  {
   "cell_type": "code",
   "execution_count": null,
   "id": "3f736bb7",
   "metadata": {},
   "outputs": [],
   "source": []
  },
  {
   "cell_type": "markdown",
   "id": "fe3fb236",
   "metadata": {},
   "source": [
    "#### С помощью метода удобно строить распределения"
   ]
  },
  {
   "cell_type": "code",
   "execution_count": null,
   "id": "aee31669",
   "metadata": {},
   "outputs": [],
   "source": [
    "empl['pos_name'].value_counts().plot(kind='bar')"
   ]
  },
  {
   "cell_type": "code",
   "execution_count": null,
   "id": "13129a94",
   "metadata": {},
   "outputs": [],
   "source": [
    "empl['pos_name'].value_counts(ascending=True).plot(kind='barh')"
   ]
  },
  {
   "cell_type": "code",
   "execution_count": null,
   "id": "2da2ea2f",
   "metadata": {},
   "outputs": [],
   "source": []
  },
  {
   "cell_type": "code",
   "execution_count": null,
   "id": "b0ac30a3",
   "metadata": {},
   "outputs": [],
   "source": []
  },
  {
   "cell_type": "code",
   "execution_count": null,
   "id": "21393168",
   "metadata": {},
   "outputs": [],
   "source": []
  },
  {
   "cell_type": "code",
   "execution_count": null,
   "id": "4dc174b7",
   "metadata": {},
   "outputs": [],
   "source": []
  },
  {
   "cell_type": "markdown",
   "id": "f31cd084",
   "metadata": {},
   "source": [
    "## unique\n",
    "Метод выводит уникальные значения в колонке"
   ]
  },
  {
   "cell_type": "code",
   "execution_count": null,
   "id": "fa3bc754",
   "metadata": {},
   "outputs": [],
   "source": [
    "empl['pos_name'].unique()"
   ]
  },
  {
   "cell_type": "markdown",
   "id": "674de5c2",
   "metadata": {},
   "source": [
    "#### Если после метода unique вызвать метод tolist, то даты приведутся к целым числам"
   ]
  },
  {
   "cell_type": "code",
   "execution_count": null,
   "id": "50f2d386",
   "metadata": {},
   "outputs": [],
   "source": [
    "empl['report_dt'].unique()"
   ]
  },
  {
   "cell_type": "code",
   "execution_count": null,
   "id": "0e349015",
   "metadata": {},
   "outputs": [],
   "source": [
    "empl['report_dt'].unique().tolist()"
   ]
  },
  {
   "cell_type": "code",
   "execution_count": null,
   "id": "4088306f",
   "metadata": {},
   "outputs": [],
   "source": [
    "list(empl['report_dt'].unique())"
   ]
  },
  {
   "cell_type": "code",
   "execution_count": null,
   "id": "88d46d76",
   "metadata": {},
   "outputs": [],
   "source": []
  },
  {
   "cell_type": "code",
   "execution_count": null,
   "id": "d57214be",
   "metadata": {},
   "outputs": [],
   "source": []
  },
  {
   "cell_type": "markdown",
   "id": "0f9a9a1d",
   "metadata": {},
   "source": [
    "## nunique\n",
    "Метод выводит количество уникальных значений в столбце"
   ]
  },
  {
   "cell_type": "code",
   "execution_count": null,
   "id": "252d1dfb",
   "metadata": {},
   "outputs": [],
   "source": [
    "empl['report_dt'].nunique()"
   ]
  },
  {
   "cell_type": "code",
   "execution_count": null,
   "id": "476d84ad",
   "metadata": {},
   "outputs": [],
   "source": [
    "empl.nunique()"
   ]
  },
  {
   "cell_type": "code",
   "execution_count": null,
   "id": "296cae56",
   "metadata": {},
   "outputs": [],
   "source": []
  },
  {
   "cell_type": "code",
   "execution_count": null,
   "id": "88d18f0c",
   "metadata": {},
   "outputs": [],
   "source": []
  },
  {
   "cell_type": "code",
   "execution_count": null,
   "id": "32d8f1e0",
   "metadata": {},
   "outputs": [],
   "source": []
  },
  {
   "cell_type": "markdown",
   "id": "d2be0ca3",
   "metadata": {},
   "source": [
    "## duplicated\n",
    "Метод проверяет встречалось ли такое же значение в колонке"
   ]
  },
  {
   "cell_type": "code",
   "execution_count": null,
   "id": "e18e106d",
   "metadata": {},
   "outputs": [],
   "source": [
    "empl['pos_name'].duplicated()"
   ]
  },
  {
   "cell_type": "markdown",
   "id": "297f50ed",
   "metadata": {},
   "source": [
    "Параметр keep принимает 3 значения:\n",
    "1. False - Помечает как True все повторяющиеся значения\n",
    "2. 'first' - Первое повторяющееся значение помечается как False, остальные как True (значение по умолчанию)\n",
    "3. 'last' - Последнее повторяющееся значение помечается как False, остальные как True"
   ]
  },
  {
   "cell_type": "code",
   "execution_count": null,
   "id": "4670c87d",
   "metadata": {},
   "outputs": [],
   "source": [
    "empl['pos_name'].duplicated(keep=False)"
   ]
  },
  {
   "cell_type": "code",
   "execution_count": null,
   "id": "eb55b12e",
   "metadata": {},
   "outputs": [],
   "source": []
  },
  {
   "cell_type": "code",
   "execution_count": null,
   "id": "4909412c",
   "metadata": {},
   "outputs": [],
   "source": []
  },
  {
   "cell_type": "code",
   "execution_count": null,
   "id": "f29450f1",
   "metadata": {},
   "outputs": [],
   "source": []
  },
  {
   "cell_type": "markdown",
   "id": "1d957aa4",
   "metadata": {},
   "source": [
    "## drop_duplicates\n",
    "\n",
    "Удаляет повторяющиеся значения"
   ]
  },
  {
   "cell_type": "code",
   "execution_count": null,
   "id": "3e0a40e6",
   "metadata": {},
   "outputs": [],
   "source": [
    "empl['pos_name'].drop_duplicates()"
   ]
  },
  {
   "cell_type": "markdown",
   "id": "e48d71e2",
   "metadata": {},
   "source": [
    "#### В метод можно передать название колонки или список из названий колонок, по которым удалять повторяющиеся наблюдения"
   ]
  },
  {
   "cell_type": "code",
   "execution_count": null,
   "id": "cb36631b",
   "metadata": {},
   "outputs": [],
   "source": [
    "empl.drop_duplicates('fio').head()"
   ]
  },
  {
   "cell_type": "code",
   "execution_count": null,
   "id": "2a8faad3",
   "metadata": {},
   "outputs": [],
   "source": [
    "empl.drop_duplicates(['i_pernr', 'pos_name']).head()"
   ]
  },
  {
   "cell_type": "markdown",
   "id": "9e9de4a4",
   "metadata": {},
   "source": [
    "Параметр keep принимает 3 значения:\n",
    "1. False - Все дубликаты удаляются\n",
    "2. 'first' - Первое повторяющееся значение остается, а остальные удаляются (значение по умолчанию)\n",
    "3. 'last' - Последнее повторяющееся значение остается, а остальные удаляются"
   ]
  },
  {
   "cell_type": "code",
   "execution_count": null,
   "id": "ac6e3cc1",
   "metadata": {},
   "outputs": [],
   "source": [
    "empl.drop_duplicates(['i_pernr', 'pos_name'], keep='last').head()"
   ]
  },
  {
   "cell_type": "code",
   "execution_count": null,
   "id": "b8fab3ee",
   "metadata": {},
   "outputs": [],
   "source": []
  },
  {
   "cell_type": "code",
   "execution_count": null,
   "id": "38af3113",
   "metadata": {},
   "outputs": [],
   "source": []
  },
  {
   "cell_type": "code",
   "execution_count": null,
   "id": "511d5568",
   "metadata": {},
   "outputs": [],
   "source": []
  },
  {
   "cell_type": "code",
   "execution_count": null,
   "id": "cf03ddab",
   "metadata": {},
   "outputs": [],
   "source": []
  },
  {
   "cell_type": "code",
   "execution_count": null,
   "id": "f70042f7",
   "metadata": {},
   "outputs": [],
   "source": []
  },
  {
   "cell_type": "code",
   "execution_count": null,
   "id": "ba3b78a8",
   "metadata": {},
   "outputs": [],
   "source": []
  },
  {
   "cell_type": "code",
   "execution_count": null,
   "id": "6f51e6f5",
   "metadata": {},
   "outputs": [],
   "source": []
  },
  {
   "cell_type": "code",
   "execution_count": null,
   "id": "979d78eb",
   "metadata": {},
   "outputs": [],
   "source": []
  },
  {
   "cell_type": "code",
   "execution_count": null,
   "id": "ee63c1d0",
   "metadata": {},
   "outputs": [],
   "source": []
  },
  {
   "cell_type": "code",
   "execution_count": null,
   "id": "d3357603",
   "metadata": {},
   "outputs": [],
   "source": []
  },
  {
   "cell_type": "markdown",
   "id": "afa45bb9",
   "metadata": {},
   "source": [
    "# Задания"
   ]
  },
  {
   "cell_type": "markdown",
   "id": "a06578d6",
   "metadata": {},
   "source": [
    "#### Описание таблиц лежит [здесь](https://github.com/victorlymarev/pandas/tree/main/tables#%D0%BE%D0%BF%D0%B8%D1%81%D0%B0%D0%BD%D0%B8%D0%B5-%D1%82%D0%B0%D0%B1%D0%BB%D0%B8%D1%86)"
   ]
  },
  {
   "cell_type": "markdown",
   "id": "911e7d61",
   "metadata": {},
   "source": [
    "Некоторые таблицы занимают много памяти, поэтому каждые 5-10 заданий лучше перезапускайте ноутбук.\n",
    "\n",
    "В формулировке некоторых заданий может содержаться вариативность. Если у вас есть сомнения, что требуется в задании, попробуйте решить несколько вариантов. Если вы не понимаете задание, можете написать об этом в комментариях под видео.\n",
    "\n",
    "В большинстве случаев внешний вид итоговой таблицы не определен. Выведите на экран наиболее адекватный вариант. То есть таблицу, из которой можно будет сделать выводы.\n",
    "\n",
    "Курс пока находится в разработке. Вы можете помочь другим людям добавив свое решение [сюда](https://docs.google.com/forms/d/1HYTBz_KfssY3Jps2dC3n0YnEqa6WBb5OIhLo1d32Xzw/edit).\n",
    "\n",
    "Посмотреть решения других людей можно [здесь](https://docs.google.com/spreadsheets/d/1pMDYO-9UneLbPPnEuQ2shig0TOJdQTU-zipifyAnZMk/edit?resourcekey#gid=1998648012)"
   ]
  },
  {
   "cell_type": "markdown",
   "id": "8ddd3b23",
   "metadata": {},
   "source": [
    "### Задание 1\n",
    "\n",
    "Посмотрите на самые часты бренды (поле brand)"
   ]
  },
  {
   "cell_type": "code",
   "execution_count": null,
   "id": "267be6a5",
   "metadata": {},
   "outputs": [],
   "source": [
    "import os\n",
    "import pandas as pd\n",
    "\n",
    "path_goods_descr = '../tables/goods_description.parquet' if os.path.exists('../tables/goods_description.parquet') else 'https://drive.google.com/uc?id=1YbiD02Rev-X_WWV9nPSG1zZFmEh2JjPh'\n",
    "\n",
    "goods_descr = pd.read_parquet(path_goods_descr)\n",
    "goods_descr.head()"
   ]
  },
  {
   "cell_type": "code",
   "execution_count": null,
   "id": "f0056847",
   "metadata": {},
   "outputs": [],
   "source": [
    "# напишите свой код здесь"
   ]
  },
  {
   "cell_type": "markdown",
   "id": "ee244ecb",
   "metadata": {},
   "source": [
    "### Задание 2\n",
    "\n",
    "Посмотрите сколько в таблице уникальных категорий товаров (поле product_type)"
   ]
  },
  {
   "cell_type": "code",
   "execution_count": null,
   "id": "e1542e11",
   "metadata": {},
   "outputs": [],
   "source": [
    "import os\n",
    "import pandas as pd\n",
    "\n",
    "path_goods_descr = '../tables/goods_description.parquet' if os.path.exists('../tables/goods_description.parquet') else 'https://drive.google.com/uc?id=1YbiD02Rev-X_WWV9nPSG1zZFmEh2JjPh'\n",
    "\n",
    "goods_descr = pd.read_parquet(path_goods_descr)\n",
    "goods_descr.head()"
   ]
  },
  {
   "cell_type": "code",
   "execution_count": null,
   "id": "e45ede29",
   "metadata": {},
   "outputs": [],
   "source": [
    "# напишите свой код здесь"
   ]
  },
  {
   "cell_type": "markdown",
   "id": "6ddd2af1",
   "metadata": {},
   "source": [
    "### Задание 3\n",
    "\n",
    "Посчитайте количество уникальных значений в каждой колонке таблицы"
   ]
  },
  {
   "cell_type": "code",
   "execution_count": null,
   "id": "0016e4e5",
   "metadata": {},
   "outputs": [],
   "source": [
    "import os\n",
    "import pandas as pd\n",
    "\n",
    "path_empl = '../tables/employees.parquet' if os.path.exists('../tables/employees.parquet') else 'https://drive.google.com/uc?id=1AARD5-eVlCxoApt5CYZebrC3Cqw42lvj'\n",
    "\n",
    "empl = pd.read_parquet(path_empl)\n",
    "empl.head()"
   ]
  },
  {
   "cell_type": "code",
   "execution_count": null,
   "id": "05de395d",
   "metadata": {},
   "outputs": [],
   "source": [
    "# напишите свой код здесь"
   ]
  },
  {
   "cell_type": "markdown",
   "id": "691aabb4",
   "metadata": {},
   "source": [
    "### Задание 4\n",
    "\n",
    "Посчитайте, сколько в таблице товаров каждого цвета, не учитывая размер товаров. ДЛя этого сначала удалите дубликаты по полям colour и product_code_2"
   ]
  },
  {
   "cell_type": "code",
   "execution_count": null,
   "id": "7c35ad8f",
   "metadata": {},
   "outputs": [],
   "source": [
    "import os\n",
    "import pandas as pd\n",
    "\n",
    "path_goods_descr = '../tables/goods_description.parquet' if os.path.exists('../tables/goods_description.parquet') else 'https://drive.google.com/uc?id=1YbiD02Rev-X_WWV9nPSG1zZFmEh2JjPh'\n",
    "\n",
    "goods_descr = pd.read_parquet(path_goods_descr)\n",
    "goods_descr.head()"
   ]
  },
  {
   "cell_type": "code",
   "execution_count": null,
   "id": "7d1107be",
   "metadata": {},
   "outputs": [],
   "source": [
    "# напишите свой код здесь"
   ]
  },
  {
   "cell_type": "markdown",
   "id": "734322c5",
   "metadata": {},
   "source": [
    "### Задание 5\n",
    "\n",
    "Для каждого чека посчитайте количество уникальных товаров в нем"
   ]
  },
  {
   "cell_type": "code",
   "execution_count": null,
   "id": "248f7284",
   "metadata": {},
   "outputs": [],
   "source": [
    "# таблица sales - большая, и в некоторых случаях ваш компьютер может не справиться с ее обработкой\n",
    "# поэтому лучше работайте с частью этой таблицы\n",
    "# но если вы хотите попробовать поработать с полной версией таблицы,\n",
    "# можете заменить переменную path_sales_2022 на path_sales внутри функции read_parquet\n",
    "\n",
    "import os\n",
    "import pandas as pd\n",
    "\n",
    "path_sales_2022 = '../tables/sales_2022.parquet' if os.path.exists('../tables/sales_2022.parquet') else 'https://drive.google.com/uc?id=17e7FwXVdsWc2aziK9s5KidIvPcfKt9F5'\n",
    "# path_sales = '../tables/sales.parquet' if os.path.exists('../tables/sales.parquet') else \"https://drive.usercontent.google.com/download?id=15KwSxyM6hpNABGe6_vsrFZvD09VfHFyK&export=download&authuser=1&confirm=t&uuid=115bd48c-cc2c-4f2a-8b42-be5ca6ef6db8&at=APZUnTUVb8nfNANw5wr9Cad7PJ3U:1693327774694\"\n",
    "\n",
    "sales = pd.read_parquet(path_sales_2022)\n",
    "sales.head()"
   ]
  },
  {
   "cell_type": "code",
   "execution_count": null,
   "id": "9efc3669",
   "metadata": {},
   "outputs": [],
   "source": [
    "# напишите свой код здесь"
   ]
  },
  {
   "cell_type": "markdown",
   "id": "0e823ca5",
   "metadata": {},
   "source": [
    "### Задание 6\n",
    "\n",
    "На конец ноября 2021 года посчитайте долю мужчин и долю женщин среди сотрудников, занимающих руководящие позиции в магазине (mgmt == 1)"
   ]
  },
  {
   "cell_type": "code",
   "execution_count": null,
   "id": "f4798036",
   "metadata": {},
   "outputs": [],
   "source": [
    "import os\n",
    "import pandas as pd\n",
    "\n",
    "path_empl = '../tables/employees.parquet' if os.path.exists('../tables/employees.parquet') else 'https://drive.google.com/uc?id=1AARD5-eVlCxoApt5CYZebrC3Cqw42lvj'\n",
    "\n",
    "empl = pd.read_parquet(path_empl)\n",
    "empl.head()"
   ]
  },
  {
   "cell_type": "code",
   "execution_count": null,
   "id": "00bc36a3",
   "metadata": {},
   "outputs": [],
   "source": [
    "# напишите свой код здесь"
   ]
  },
  {
   "cell_type": "markdown",
   "id": "1afb2478",
   "metadata": {},
   "source": [
    "### Задание 7\n",
    "\n",
    "Найдите людей с одинаковым разным табельным номером, но одинаковым фио"
   ]
  },
  {
   "cell_type": "code",
   "execution_count": null,
   "id": "d7527c96",
   "metadata": {},
   "outputs": [],
   "source": [
    "import os\n",
    "import pandas as pd\n",
    "\n",
    "path_empl = '../tables/employees.parquet' if os.path.exists('../tables/employees.parquet') else 'https://drive.google.com/uc?id=1AARD5-eVlCxoApt5CYZebrC3Cqw42lvj'\n",
    "\n",
    "empl = pd.read_parquet(path_empl)\n",
    "empl.head()"
   ]
  },
  {
   "cell_type": "code",
   "execution_count": null,
   "id": "0fcaf49e",
   "metadata": {},
   "outputs": [],
   "source": [
    "# напишите свой код здесь"
   ]
  },
  {
   "cell_type": "markdown",
   "id": "f27a892e",
   "metadata": {},
   "source": [
    "### Задание 8\n",
    "\n",
    "Задание на нампай\n",
    "\n",
    "В нампае для подсчета уникальных значений есть функция np.unique. В нее передается массив. Функция возвращает массив из уникальные значений. Если передать в парметр return_counts значение True, то вернется 2 массива. Первый массив будет содержать уникальные значения, а второй число повторений.\n",
    "\n",
    "Найдите сколько раз повторяется каждое значение в массиве."
   ]
  },
  {
   "cell_type": "code",
   "execution_count": null,
   "id": "38fccfbf",
   "metadata": {},
   "outputs": [],
   "source": [
    "import numpy as np\n",
    "np.random.seed(1432567)\n",
    "# Случайным образом выбираем значения из первого списка с заданными вероятностями (второй спискок)\n",
    "matrix = np.random.choice(['огурец', 'картошка', 'лук', 'чеснок', 'укроп', 'баклажан'],\n",
    "                          p=[0.2, 0.4, 0.1, 0.05, 0.05, 0.2], size=(100, 100))"
   ]
  },
  {
   "cell_type": "code",
   "execution_count": null,
   "id": "c7ceba95",
   "metadata": {},
   "outputs": [],
   "source": [
    "# напишите свой код здесь"
   ]
  },
  {
   "cell_type": "code",
   "execution_count": null,
   "id": "881630e3",
   "metadata": {},
   "outputs": [],
   "source": []
  },
  {
   "cell_type": "code",
   "execution_count": null,
   "id": "565189e4",
   "metadata": {},
   "outputs": [],
   "source": []
  },
  {
   "cell_type": "code",
   "execution_count": null,
   "id": "d0a7649d",
   "metadata": {},
   "outputs": [],
   "source": []
  }
 ],
 "metadata": {
  "kernelspec": {
   "display_name": "Python 3 (ipykernel)",
   "language": "python",
   "name": "python3"
  },
  "language_info": {
   "codemirror_mode": {
    "name": "ipython",
    "version": 3
   },
   "file_extension": ".py",
   "mimetype": "text/x-python",
   "name": "python",
   "nbconvert_exporter": "python",
   "pygments_lexer": "ipython3",
   "version": "3.11.6"
  }
 },
 "nbformat": 4,
 "nbformat_minor": 5
}
