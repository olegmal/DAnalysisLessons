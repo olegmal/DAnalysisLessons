{
 "cells": [
  {
   "cell_type": "markdown",
   "id": "c61dc535",
   "metadata": {},
   "source": [
    "<a target=\"_blank\" href=\"https://colab.research.google.com/github/victorlymarev/pandas/blob/main/notebooks/17-groupby.ipynb\">\n",
    "  <img src=\"https://colab.research.google.com/assets/colab-badge.svg\" alt=\"Open In Colab\"/>\n",
    "</a>"
   ]
  },
  {
   "cell_type": "markdown",
   "id": "4160f62f",
   "metadata": {},
   "source": [
    "# Группировки\n",
    "#### [Ссылка на видео](https://youtu.be/_tVkW_cfjNg)"
   ]
  },
  {
   "cell_type": "code",
   "execution_count": null,
   "id": "e6b3014b",
   "metadata": {},
   "outputs": [],
   "source": [
    "import pandas as pd\n",
    "import numpy as np\n",
    "import os"
   ]
  },
  {
   "cell_type": "code",
   "execution_count": null,
   "id": "a44b8042",
   "metadata": {},
   "outputs": [],
   "source": [
    "path_empl = '../tables/employees.parquet' if os.path.exists('../tables/employees.parquet') else 'https://drive.google.com/uc?id=1AARD5-eVlCxoApt5CYZebrC3Cqw42lvj'\n",
    "\n",
    "empl = pd.read_parquet(path_empl).drop(['pos_id', 'closest_boss_pos_id', 'mgmt_flag', 'salary_fork'], axis=1)\n",
    "empl.head()"
   ]
  },
  {
   "cell_type": "markdown",
   "id": "daf0158b",
   "metadata": {},
   "source": [
    "### Задача: посчитать среднюю зарплату за каждый месяц"
   ]
  },
  {
   "cell_type": "code",
   "execution_count": null,
   "id": "619ef18e",
   "metadata": {},
   "outputs": [],
   "source": [
    "empl['report_dt'].unique()[:10]"
   ]
  },
  {
   "cell_type": "code",
   "execution_count": null,
   "id": "aea7d9fa",
   "metadata": {},
   "outputs": [],
   "source": [
    "empl.query(\"report_dt == '2015-01-31'\")['salary'].mean()"
   ]
  },
  {
   "cell_type": "code",
   "execution_count": null,
   "id": "b11f4f15",
   "metadata": {},
   "outputs": [],
   "source": [
    "# Создаем пустой список в который будем класть зарплату за каждый месяц\n",
    "avg_salary = []\n",
    "\n",
    "# идем циклом по каждой дате\n",
    "for date in empl['report_dt'].unique():\n",
    "#     добавляем среднюю зп для каждой даты\n",
    "    avg_salary.append(empl.query(\"report_dt == @date\")['salary'].mean())\n",
    "\n",
    "# Кладем ее в датафрейм\n",
    "pd.DataFrame({'Дата': empl['report_dt'].unique(),\n",
    "              'Средняя зарплата': avg_salary}).head()"
   ]
  },
  {
   "cell_type": "code",
   "execution_count": null,
   "id": "ebe53958",
   "metadata": {},
   "outputs": [],
   "source": [
    "(empl\n",
    "    .groupby('report_dt') # Группируем по дате\n",
    "    ['salary'] # вибираем колонку\n",
    "    .mean() # считаем по ней среднее\n",
    "    .head()\n",
    ")"
   ]
  },
  {
   "cell_type": "code",
   "execution_count": null,
   "id": "b777d789",
   "metadata": {},
   "outputs": [],
   "source": [
    "(empl\n",
    "    .groupby('report_dt')\n",
    "    [['salary']] # название колонки лежит в списке\n",
    "    .mean()\n",
    "    .head()\n",
    ")"
   ]
  },
  {
   "cell_type": "markdown",
   "id": "c294480f",
   "metadata": {},
   "source": [
    "#### Убираем колонку по которой шла группировка из индекса"
   ]
  },
  {
   "cell_type": "code",
   "execution_count": null,
   "id": "ccbe2ea7",
   "metadata": {},
   "outputs": [],
   "source": [
    "(empl\n",
    "    .groupby('report_dt')\n",
    "    ['salary']\n",
    "    .mean()\n",
    "    .reset_index() # убираем столбец report_dt из индекса\n",
    "    .head()\n",
    ")"
   ]
  },
  {
   "cell_type": "markdown",
   "id": "4904c765",
   "metadata": {},
   "source": [
    "#### Параметр as_index"
   ]
  },
  {
   "cell_type": "code",
   "execution_count": null,
   "id": "9aac6d82",
   "metadata": {},
   "outputs": [],
   "source": [
    "(empl\n",
    "    .groupby('report_dt', as_index=False) # То же самое, что и reset_index после метода mean()\n",
    "    ['salary']\n",
    "    .mean()\n",
    "    .head()\n",
    ")"
   ]
  },
  {
   "cell_type": "code",
   "execution_count": null,
   "id": "2c88a995",
   "metadata": {},
   "outputs": [],
   "source": []
  },
  {
   "cell_type": "code",
   "execution_count": null,
   "id": "910e463b",
   "metadata": {},
   "outputs": [],
   "source": []
  },
  {
   "cell_type": "markdown",
   "id": "27c0d622",
   "metadata": {},
   "source": [
    "#### Параметр dropna"
   ]
  },
  {
   "cell_type": "code",
   "execution_count": null,
   "id": "391418cf",
   "metadata": {},
   "outputs": [],
   "source": [
    "(empl\n",
    "    .groupby('employee_evaluation', dropna=False)\n",
    "    ['salary']\n",
    "    .mean()\n",
    ")"
   ]
  },
  {
   "cell_type": "code",
   "execution_count": null,
   "id": "c43c7b7c",
   "metadata": {},
   "outputs": [],
   "source": []
  },
  {
   "cell_type": "code",
   "execution_count": null,
   "id": "6f5a5e90",
   "metadata": {},
   "outputs": [],
   "source": []
  },
  {
   "cell_type": "markdown",
   "id": "6b0faea4",
   "metadata": {},
   "source": [
    "#### Несколько агрегаций"
   ]
  },
  {
   "cell_type": "code",
   "execution_count": null,
   "id": "0fc55467",
   "metadata": {},
   "outputs": [],
   "source": [
    "(empl\n",
    "    .groupby('report_dt')\n",
    "    ['salary']\n",
    "    .agg(['mean', 'std', lambda x: (x - x.median()).abs().mean()]) # список из функций агрегаций\n",
    "    .head()\n",
    ")"
   ]
  },
  {
   "cell_type": "code",
   "execution_count": null,
   "id": "35794d9d",
   "metadata": {},
   "outputs": [],
   "source": []
  },
  {
   "cell_type": "code",
   "execution_count": null,
   "id": "a0759deb",
   "metadata": {},
   "outputs": [],
   "source": []
  },
  {
   "cell_type": "markdown",
   "id": "edaa9967",
   "metadata": {},
   "source": [
    "#### Агрегация по нескольким колонкам"
   ]
  },
  {
   "cell_type": "code",
   "execution_count": null,
   "id": "4213e0e1",
   "metadata": {},
   "outputs": [],
   "source": [
    "(empl\n",
    "    .groupby('report_dt')\n",
    "    [['salary', 'birth_date']]\n",
    "    .agg(['min', 'max'])\n",
    "    .head()\n",
    ")"
   ]
  },
  {
   "cell_type": "code",
   "execution_count": null,
   "id": "cdcb87ac",
   "metadata": {},
   "outputs": [],
   "source": [
    "(empl\n",
    "    .groupby('report_dt')\n",
    "\n",
    "    .agg({'salary': ['min', 'max'],\n",
    "          'birth_date': 'median'}) \n",
    "    .head()\n",
    ")"
   ]
  },
  {
   "cell_type": "markdown",
   "id": "8fa2979c",
   "metadata": {},
   "source": [
    "### Группировка по нескольким колонкам"
   ]
  },
  {
   "cell_type": "code",
   "execution_count": null,
   "id": "fddd003d",
   "metadata": {},
   "outputs": [],
   "source": [
    "(empl\n",
    "    .groupby(['report_dt', 'pos_name']) # по дате и по должности\n",
    "    ['salary']\n",
    "    .mean()\n",
    "    .head()\n",
    ")"
   ]
  },
  {
   "cell_type": "code",
   "execution_count": null,
   "id": "d0cdec9f",
   "metadata": {},
   "outputs": [],
   "source": [
    "(empl\n",
    "    .groupby(['report_dt', 'pos_name']) # по дате и по должности\n",
    "    [['salary', 'employee_evaluation']]\n",
    "    .mean()\n",
    "    .head()\n",
    ")"
   ]
  },
  {
   "cell_type": "code",
   "execution_count": null,
   "id": "5a0dd359",
   "metadata": {},
   "outputs": [],
   "source": []
  },
  {
   "cell_type": "code",
   "execution_count": null,
   "id": "288710e8",
   "metadata": {},
   "outputs": [],
   "source": []
  },
  {
   "cell_type": "code",
   "execution_count": null,
   "id": "6fce792e",
   "metadata": {},
   "outputs": [],
   "source": []
  },
  {
   "cell_type": "markdown",
   "id": "34e2ea8d",
   "metadata": {},
   "source": [
    "#### Добавление дополнителных колонок, которые не влияют на саму группировку"
   ]
  },
  {
   "cell_type": "code",
   "execution_count": null,
   "id": "b828f835",
   "metadata": {},
   "outputs": [],
   "source": [
    "(empl\n",
    "    .groupby('i_pernr')\n",
    "    [['salary']]\n",
    "    .max()\n",
    "    .reset_index()\n",
    "    .head()\n",
    ")"
   ]
  },
  {
   "cell_type": "code",
   "execution_count": null,
   "id": "98ff109e",
   "metadata": {},
   "outputs": [],
   "source": [
    "(empl\n",
    "    .groupby(['i_pernr', 'fio'])\n",
    "    [['salary']]\n",
    "    .max()\n",
    "    .reset_index()\n",
    "    .head()\n",
    ")"
   ]
  },
  {
   "cell_type": "code",
   "execution_count": null,
   "id": "73154fc1",
   "metadata": {},
   "outputs": [],
   "source": [
    "(empl\n",
    "    .groupby(['i_pernr', 'fio', 'birth_date'])\n",
    "    [['salary']]\n",
    "    .max()\n",
    "    .reset_index()\n",
    "    .head()\n",
    ")"
   ]
  },
  {
   "cell_type": "markdown",
   "id": "034fa5ba",
   "metadata": {},
   "source": [
    "#### Приведение таблицы к виду сводной таблицы"
   ]
  },
  {
   "cell_type": "code",
   "execution_count": null,
   "id": "d5bbb690",
   "metadata": {},
   "outputs": [],
   "source": [
    "(empl\n",
    "    .groupby(['report_dt', 'pos_name'])\n",
    "    ['salary']\n",
    "    .mean()\n",
    "    .unstack('pos_name') # перебрасываем pos_name в шапку таблицы\n",
    "    .head()\n",
    ")"
   ]
  },
  {
   "cell_type": "markdown",
   "id": "9e6dc917",
   "metadata": {},
   "source": [
    "Как и другие методы, работающие с уровнем индекса, метод unstack принимает на вход номер уровня"
   ]
  },
  {
   "cell_type": "code",
   "execution_count": null,
   "id": "c9caf170",
   "metadata": {},
   "outputs": [],
   "source": [
    "(empl\n",
    "    .groupby(['report_dt', 'pos_name'])\n",
    "    ['salary']\n",
    "    .mean()\n",
    "    .unstack(1)\n",
    "    .head()\n",
    ")"
   ]
  },
  {
   "cell_type": "code",
   "execution_count": null,
   "id": "05d4e7bc",
   "metadata": {},
   "outputs": [],
   "source": []
  },
  {
   "cell_type": "code",
   "execution_count": null,
   "id": "d441cb77",
   "metadata": {},
   "outputs": [],
   "source": []
  },
  {
   "cell_type": "markdown",
   "id": "e087cf47",
   "metadata": {},
   "source": [
    "### crosstab\n",
    "Функция для формирования сводной таблицы"
   ]
  },
  {
   "cell_type": "code",
   "execution_count": null,
   "id": "c738f5af",
   "metadata": {},
   "outputs": [],
   "source": [
    "pd.crosstab(index=empl['report_dt'], # колонка в индексе\n",
    "            columns=empl['pos_name'], # колонка, которая будет в шапке таблицы\n",
    "            values=empl['salary'], # колонка, считается среднее\n",
    "            aggfunc='mean' # функция агрегации\n",
    "           ).head()"
   ]
  },
  {
   "cell_type": "code",
   "execution_count": null,
   "id": "6cdcae2a",
   "metadata": {},
   "outputs": [],
   "source": []
  },
  {
   "cell_type": "code",
   "execution_count": null,
   "id": "b85f2022",
   "metadata": {},
   "outputs": [],
   "source": []
  },
  {
   "cell_type": "markdown",
   "id": "7060b316",
   "metadata": {},
   "source": [
    "### pivot_table \n",
    "Метод для формирования сводной таблицы"
   ]
  },
  {
   "cell_type": "code",
   "execution_count": null,
   "id": "5a96023f",
   "metadata": {},
   "outputs": [],
   "source": [
    "empl.pivot_table(index='report_dt', # колонка в индексе\n",
    "            columns='pos_name', # колонка, которая будет в шапке таблицы\n",
    "            values='salary', # колонка, считается среднее\n",
    "            aggfunc='mean' # функция агрегации\n",
    "                ).head()"
   ]
  },
  {
   "cell_type": "code",
   "execution_count": null,
   "id": "8ea9a3cb",
   "metadata": {},
   "outputs": [],
   "source": [
    "empl.pivot_table(index='report_dt',\n",
    "            columns='pos_name',\n",
    "            values='salary',\n",
    "            aggfunc='mean',\n",
    "            margins=True # Можно добавить аргрегицию по подгруппе\n",
    "                ).iloc[[10, 20, -2, -1], [0, 1, 2, -2, -1]]"
   ]
  },
  {
   "cell_type": "code",
   "execution_count": null,
   "id": "f0b141e0",
   "metadata": {},
   "outputs": [],
   "source": []
  },
  {
   "cell_type": "markdown",
   "id": "96b2660e",
   "metadata": {},
   "source": [
    "#### Агрегация нескольких колонок в одной сводной таблице"
   ]
  },
  {
   "cell_type": "code",
   "execution_count": null,
   "id": "4ed6f617",
   "metadata": {},
   "outputs": [],
   "source": [
    "(empl\n",
    "    .groupby(['report_dt', 'pos_name'])\n",
    "    [['salary', 'employee_evaluation']] # зп и оценка сотрудника \n",
    "    .mean()\n",
    "    .unstack(1)\n",
    "    .head()\n",
    ")"
   ]
  },
  {
   "cell_type": "markdown",
   "id": "66819f3d",
   "metadata": {},
   "source": [
    "То же самое методом pivot_table"
   ]
  },
  {
   "cell_type": "code",
   "execution_count": null,
   "id": "bd4efd92",
   "metadata": {},
   "outputs": [],
   "source": [
    "empl.pivot_table(index='report_dt',\n",
    "            columns='pos_name',\n",
    "            values=['salary', 'employee_evaluation'], # список из колонок\n",
    "            aggfunc='mean').head()"
   ]
  },
  {
   "cell_type": "code",
   "execution_count": null,
   "id": "a32d0c2b",
   "metadata": {},
   "outputs": [],
   "source": []
  },
  {
   "cell_type": "code",
   "execution_count": null,
   "id": "cc777f77",
   "metadata": {},
   "outputs": [],
   "source": []
  },
  {
   "cell_type": "code",
   "execution_count": null,
   "id": "3b5fc71a",
   "metadata": {},
   "outputs": [],
   "source": []
  },
  {
   "cell_type": "markdown",
   "id": "85815927",
   "metadata": {},
   "source": [
    "## groupby(...).transform\n",
    "\n",
    "Трансформирует данные"
   ]
  },
  {
   "cell_type": "code",
   "execution_count": null,
   "id": "87b2c338",
   "metadata": {},
   "outputs": [],
   "source": [
    "(empl\n",
    "    .groupby(['report_dt', 'pos_name'])\n",
    "    ['salary']\n",
    "    .agg('mean')\n",
    "    .head()\n",
    ")"
   ]
  },
  {
   "cell_type": "code",
   "execution_count": null,
   "id": "bfafb747",
   "metadata": {},
   "outputs": [],
   "source": [
    "(empl\n",
    "    .groupby(['report_dt', 'pos_name'])\n",
    "    ['salary']\n",
    "    .transform('mean')\n",
    "    .head()\n",
    ")"
   ]
  },
  {
   "cell_type": "markdown",
   "id": "441c7a5e",
   "metadata": {},
   "source": [
    "Добавим колонку, в которой будет содержаться средняя зарплата внутри группы"
   ]
  },
  {
   "cell_type": "code",
   "execution_count": null,
   "id": "eff18575",
   "metadata": {},
   "outputs": [],
   "source": [
    "(empl\n",
    "    .assign(mean_group_salary = lambda x: x\n",
    "            .groupby(['report_dt', 'shop_id', 'pos_name'])\n",
    "            ['salary']\n",
    "            .transform('mean'))\n",
    "    .iloc[:, [0, 1, 2, 3, 4, 5, -2, -1]]\n",
    "    .sample(5, random_state=10)\n",
    ")"
   ]
  },
  {
   "cell_type": "code",
   "execution_count": null,
   "id": "332832ef",
   "metadata": {},
   "outputs": [],
   "source": []
  },
  {
   "cell_type": "code",
   "execution_count": null,
   "id": "91f69ad2",
   "metadata": {},
   "outputs": [],
   "source": []
  },
  {
   "cell_type": "markdown",
   "id": "a254e7f5",
   "metadata": {},
   "source": [
    "Вычтем из зарплаты среднюю зарпалату по группе и добавим в качестве новой колонки"
   ]
  },
  {
   "cell_type": "code",
   "execution_count": null,
   "id": "a352f4fc",
   "metadata": {},
   "outputs": [],
   "source": [
    "(empl\n",
    "    .assign(mean_group_salary_diff = lambda x: x\n",
    "            .groupby(['report_dt', 'shop_id', 'pos_name'])\n",
    "            ['salary']\n",
    "            .transform(lambda x: x - x.mean()))\n",
    "    .iloc[:, [0, 1, 2, 3, 4, 5, -2, -1]]\n",
    "    .sample(5, random_state=10)\n",
    ")"
   ]
  },
  {
   "cell_type": "code",
   "execution_count": null,
   "id": "0a010c2e",
   "metadata": {},
   "outputs": [],
   "source": []
  },
  {
   "cell_type": "markdown",
   "id": "31273d9e",
   "metadata": {},
   "source": [
    "Добавлять несколько колонок можно при помощи метода join"
   ]
  },
  {
   "cell_type": "code",
   "execution_count": null,
   "id": "cbdac4ec",
   "metadata": {},
   "outputs": [],
   "source": [
    "(empl\n",
    "    .join(empl\n",
    "              .groupby(['report_dt', 'shop_id', 'pos_name'])\n",
    "              [['employee_evaluation', 'salary']]\n",
    "              .transform(lambda x: x - x.mean()),\n",
    "            rsuffix='_centered')\n",
    "    .sample(5, random_state=10)\n",
    ")"
   ]
  },
  {
   "cell_type": "code",
   "execution_count": null,
   "id": "27598147",
   "metadata": {},
   "outputs": [],
   "source": []
  },
  {
   "cell_type": "code",
   "execution_count": null,
   "id": "35f5a50a",
   "metadata": {},
   "outputs": [],
   "source": []
  },
  {
   "cell_type": "code",
   "execution_count": null,
   "id": "d212ccbb",
   "metadata": {},
   "outputs": [],
   "source": []
  },
  {
   "cell_type": "code",
   "execution_count": null,
   "id": "7e6acaff",
   "metadata": {},
   "outputs": [],
   "source": []
  },
  {
   "cell_type": "code",
   "execution_count": null,
   "id": "01d8e6f6",
   "metadata": {},
   "outputs": [],
   "source": []
  },
  {
   "cell_type": "markdown",
   "id": "c98bd1ce",
   "metadata": {},
   "source": [
    "## groupby(...).filter\n",
    "\n",
    "Отфильтровывает определенные группы на основе условий"
   ]
  },
  {
   "cell_type": "markdown",
   "id": "ec21764c",
   "metadata": {},
   "source": [
    "Отбираем людей, которые встречаются в таблице 24 раза или более"
   ]
  },
  {
   "cell_type": "code",
   "execution_count": null,
   "id": "86e1ce4a",
   "metadata": {},
   "outputs": [],
   "source": [
    "(empl\n",
    "    .groupby('i_pernr')\n",
    "    # внутрь метода передается функция, которая возвращает True или False\n",
    "    # для каждой группы\n",
    "    .filter(lambda x: len(x) > 24)\n",
    "    .head()\n",
    ")"
   ]
  },
  {
   "cell_type": "markdown",
   "id": "7f4cdd21",
   "metadata": {},
   "source": [
    "Отбираем людей, которые побывали на нескольких должностях"
   ]
  },
  {
   "cell_type": "code",
   "execution_count": null,
   "id": "0d95732f",
   "metadata": {},
   "outputs": [],
   "source": [
    "(empl\n",
    "    .groupby('i_pernr')\n",
    "    .filter(lambda x: x['pos_name'].nunique() >= 2)\n",
    "    .sort_values(by='i_pernr')\n",
    "    .head()\n",
    ")"
   ]
  },
  {
   "cell_type": "code",
   "execution_count": null,
   "id": "1017d8e7",
   "metadata": {},
   "outputs": [],
   "source": []
  },
  {
   "cell_type": "code",
   "execution_count": null,
   "id": "d997ce04",
   "metadata": {},
   "outputs": [],
   "source": []
  },
  {
   "cell_type": "markdown",
   "id": "9a7a2c49",
   "metadata": {},
   "source": [
    "## groupby(...).apply"
   ]
  },
  {
   "cell_type": "code",
   "execution_count": null,
   "id": "3b7ebb5e",
   "metadata": {},
   "outputs": [],
   "source": [
    "(empl\n",
    "    .groupby(['report_dt', 'shop_id'])\n",
    "    .apply(lambda x: (x['report_dt'] - x['birth_date']).dt.days.mean() / 365)\n",
    "    .reset_index()\n",
    ")"
   ]
  },
  {
   "cell_type": "markdown",
   "id": "823b066d",
   "metadata": {},
   "source": [
    "С помощью метода apply можно делать агрегацию с условиями"
   ]
  },
  {
   "cell_type": "code",
   "execution_count": null,
   "id": "a26d3544",
   "metadata": {},
   "outputs": [],
   "source": [
    "(empl\n",
    "    .groupby(['report_dt', 'shop_id'])\n",
    "    .apply(lambda x: pd.Series({'зп высшее образование': x.query('education == \"высшее\"')['salary'].mean(),\n",
    "                                'зп все': x['salary'].mean()}))\n",
    "    .reset_index()\n",
    ")"
   ]
  },
  {
   "cell_type": "markdown",
   "id": "6f5ff48a",
   "metadata": {},
   "source": [
    "Использование apply вместе с методами, которые не реализованы внутри groupby\n",
    "\n",
    "Возьмем строки только за первый календарный год работы магазина"
   ]
  },
  {
   "cell_type": "code",
   "execution_count": null,
   "id": "bd927bba",
   "metadata": {},
   "outputs": [],
   "source": [
    "(empl\n",
    "    .groupby(['shop_id'], as_index=False)\n",
    "    .apply(lambda x: x.set_index('report_dt').first('Y'))\n",
    "    .droplevel(0)\n",
    "    .reset_index()\n",
    ")"
   ]
  },
  {
   "cell_type": "markdown",
   "id": "c425394b",
   "metadata": {},
   "source": [
    "### Список методов, которые можно использовать после groupby\n",
    "#### Они все вычисляются в перделах одной группы\n",
    "\n",
    "#### Статистики (можно применять внутри agg):\n",
    "1. __mean__ - среднее\n",
    "2. __median__ - медиана\n",
    "3. __min__ - минимум\n",
    "4. __max__ - максимум\n",
    "5. __std__ - стандартное отклонение\n",
    "6. __var__ - дисперсия\n",
    "7. __nunique__ - число уникальных значений\n",
    "8. __count__ - число заполненных строк\n",
    "9. __size__ - число строк\n",
    "10. __sum__ - сумма\n",
    "11. __prod__ - произведние\n",
    "12. __skew__ - ассиметрия\n",
    "13. __quantile__ - квантиль (внутри agg будет считать медиану)\n",
    "14. __first__ - первое заполненное значение в колонке\n",
    "15. __last__ - последнее заполненное значение в колонке\n",
    "16. __nth__ - возвращает значение под номером n (нельзя использовать внутри agg)\n",
    "17. __mad__ - среднее отклонение от среднего (df - df.mean()).abs().mean()\n",
    "18. __sem__ - стандартное отклонение среднего\n",
    "19. __idxmin__ - индекс минимума\n",
    "20. __idxmax__ - индекс максимума\n",
    "21. __ohls__ - создает колонки с первым, последним, минимальным и максимальным значением внути группы\n",
    "22. __corr__ - коэффициент корреляции\n",
    "23. __cov__ - ковариация\n",
    "24. __all__ - проверяет, что все значения равны True\n",
    "25. __any__ - проверяет, что хотя бы одно значение равно True\n",
    "26. __value_counts__ - число уникальных значений в каждом столбце\n",
    "27. __describe__ - возвращает число заполненный строк, среднее, стандартное отклонение, минимум, 25, 50, 75 квантиль и максимум\n",
    "28. __dtypes__ - тип данных (только для датафремов) и после него скобки ставить не надо\n",
    "\n",
    "#### Преобразование данных:\n",
    "1. __cummin__ - накопленный минимум\n",
    "2. __cummax__ - накопеленный максимум\n",
    "3. __cumsum__ - накопленная сумма\n",
    "4. __cumprod__ - накопленное произведние\n",
    "5. __cumcount__ - наколенное число заполненный строк\n",
    "6. __rank__ - ранг\n",
    "7. __shift__ - сдвиг столбца на несколько строк\n",
    "8. __diff__ - разность между текущей и предыдущей строчкой\n",
    "9. __pct_change__ - процентное (в долях) изменение между текущей и предыдущей строчкой\n",
    "10. __bfill__ или __backfill__ - заполнение пропущенного значения предыдущим заполненным (тем, что ниже по стобцу)\n",
    "11. __ffill__ или __pad__ - заполнение пропущенного значения следующим заполненным (тем, что выше по столбцу)\n",
    "12. __fillna__ - заполнение пропущенного значения произвольным значением\n",
    "\n",
    "#### Окна:\n",
    "1. __resample__ - окно, сформированное на основе даты и времени\n",
    "2. __rolling__ - скользящее окно\n",
    "3. __expanding__ - расширяющееся окно\n",
    "4. __ewm__ - окно с экспоненциально взвешенными операциями\n",
    "\n",
    "#### Выбор данных:\n",
    "1. __head__ - возвращает первые n строк (или долю строк) из каждой группы\n",
    "2. __tail__ - возвращает последние n строк (или долю строк) из каждой группы\n",
    "3. __sample__ - возвращает случайные n строк (или долю строк) из каждой группы\n",
    "\n",
    "#### Методы для применения функций:\n",
    "1. __pipe__ - применение функции к датафрейму, которая возвращает датафрейм\n",
    "2. __apply__ - применение функции к датафрейму\n",
    "3. __filter__ - фильтация данных\n",
    "5. __transform__ - трансформация данных\n",
    "4. __agg__ или __aggregate__ - расчет статистик\n",
    "\n",
    "#### Построение графиков:\n",
    "1. __plot__ - график\n",
    "2. __boxplot__ - ящик с усами\n",
    "3. __hist__ - гистограмма\n",
    "\n",
    "#### Методы группы:\n",
    "1. __ngroups__ - возвращает число групп\n",
    "2. __get_group__ - возвращает группу по ее индексу\n",
    "3. __groups__ - возвращает словарь с индексами групппы\n",
    "\n",
    "#### Методы только для Series\n",
    "1. __is_monotonic_increasing__ - возвращает True если последовательность внутри группы возрастает, иначе False\n",
    "2. __is_monotonic_decreasing__ - возвращает True если последовательность внутри группы убывает, иначе False"
   ]
  },
  {
   "cell_type": "code",
   "execution_count": null,
   "id": "23dad8fa",
   "metadata": {},
   "outputs": [],
   "source": []
  },
  {
   "cell_type": "code",
   "execution_count": null,
   "id": "d51a7e17",
   "metadata": {},
   "outputs": [],
   "source": []
  },
  {
   "cell_type": "code",
   "execution_count": null,
   "id": "57391150",
   "metadata": {},
   "outputs": [],
   "source": []
  },
  {
   "cell_type": "code",
   "execution_count": null,
   "id": "7ce43f24",
   "metadata": {},
   "outputs": [],
   "source": []
  },
  {
   "cell_type": "code",
   "execution_count": null,
   "id": "935323df",
   "metadata": {},
   "outputs": [],
   "source": []
  },
  {
   "cell_type": "code",
   "execution_count": null,
   "id": "ab017053",
   "metadata": {},
   "outputs": [],
   "source": []
  },
  {
   "cell_type": "code",
   "execution_count": null,
   "id": "69b55a7d",
   "metadata": {},
   "outputs": [],
   "source": []
  },
  {
   "cell_type": "code",
   "execution_count": null,
   "id": "652d1943",
   "metadata": {},
   "outputs": [],
   "source": []
  },
  {
   "cell_type": "code",
   "execution_count": null,
   "id": "8a0818d5",
   "metadata": {},
   "outputs": [],
   "source": []
  },
  {
   "cell_type": "code",
   "execution_count": null,
   "id": "21ac9993",
   "metadata": {},
   "outputs": [],
   "source": []
  },
  {
   "cell_type": "code",
   "execution_count": null,
   "id": "fd0f67ca",
   "metadata": {},
   "outputs": [],
   "source": []
  },
  {
   "cell_type": "code",
   "execution_count": null,
   "id": "1c895632",
   "metadata": {},
   "outputs": [],
   "source": []
  },
  {
   "cell_type": "code",
   "execution_count": null,
   "id": "c45472ce",
   "metadata": {},
   "outputs": [],
   "source": []
  },
  {
   "cell_type": "code",
   "execution_count": null,
   "id": "52d85a69",
   "metadata": {},
   "outputs": [],
   "source": []
  },
  {
   "cell_type": "markdown",
   "id": "3cea6c57",
   "metadata": {},
   "source": [
    "# Задачи"
   ]
  },
  {
   "cell_type": "markdown",
   "id": "9490ff83",
   "metadata": {},
   "source": [
    "#### Описание таблиц лежит [здесь](https://github.com/victorlymarev/pandas/tree/main/tables#%D0%BE%D0%BF%D0%B8%D1%81%D0%B0%D0%BD%D0%B8%D0%B5-%D1%82%D0%B0%D0%B1%D0%BB%D0%B8%D1%86)"
   ]
  },
  {
   "cell_type": "markdown",
   "id": "ee147b50",
   "metadata": {},
   "source": [
    "Здесь задач довольно много. Они условно разделены на легкие и  на те, что посложнее. Вам необязательно решать их все. Сначала просмотрите легкие задачи. Выберите из них самые сложные и решите их.\n",
    "\n",
    "Затем просмотрите задачи посложнее и попробуйте прорешать их. Самые сложные задачи находятся ближе к концу.\n",
    "\n",
    "Некоторые таблицы занимают много памяти, поэтому каждые 5-10 заданий лучше перезапускайте ноутбук.\n",
    "\n",
    "В формулировке некоторых заданий может содержаться вариативность. Если у вас есть сомнения, что требуется в задании, попробуйте решить несколько вариантов. Если вы не понимаете задание, можете написать об этом в комментариях под видео.\n",
    "\n",
    "В большинстве случаев внешний вид итоговой таблицы не определен. Выведите на экран наиболее адекватный вариант. То есть таблицу, из которой можно будет сделать выводы.\n",
    "\n",
    "Курс пока находится в разработке. Вы можете помочь другим людям добавив свое решение [сюда](https://docs.google.com/forms/d/1HYTBz_KfssY3Jps2dC3n0YnEqa6WBb5OIhLo1d32Xzw/edit).\n",
    "\n",
    "Посмотреть решения других людей можно [здесь](https://docs.google.com/spreadsheets/d/1pMDYO-9UneLbPPnEuQ2shig0TOJdQTU-zipifyAnZMk/edit?resourcekey#gid=1998648012)"
   ]
  },
  {
   "cell_type": "markdown",
   "id": "8f0f74b5",
   "metadata": {},
   "source": [
    "## Легкие "
   ]
  },
  {
   "cell_type": "markdown",
   "id": "e4070b22",
   "metadata": {},
   "source": [
    "### Задача 1\n",
    "\n",
    "Посчитайте сколько людей уволилось в каждом месяце каждого года"
   ]
  },
  {
   "cell_type": "code",
   "execution_count": null,
   "id": "8fe9e6ff",
   "metadata": {},
   "outputs": [],
   "source": [
    "import os\n",
    "import pandas as pd\n",
    "\n",
    "path_events = '../tables/events.parquet' if os.path.exists('../tables/events.parquet') else 'https://drive.google.com/uc?id=1Phn06U4-BI0XqtYAgtlM6IuoXRIAGQlO'\n",
    "\n",
    "events = pd.read_parquet(path_events)\n",
    "events.head()"
   ]
  },
  {
   "cell_type": "code",
   "execution_count": null,
   "id": "4b2ef5e8",
   "metadata": {},
   "outputs": [],
   "source": [
    "# напишите свой код здесь"
   ]
  },
  {
   "cell_type": "markdown",
   "id": "57bb0d3b",
   "metadata": {},
   "source": [
    "### Задача 2\n",
    "\n",
    "Посчитать долю женщин среди менеджмента и среди обычных сотрудников (по полю mgmt) по состоянию на декабрь каждого года"
   ]
  },
  {
   "cell_type": "code",
   "execution_count": null,
   "id": "5ad5a78d",
   "metadata": {},
   "outputs": [],
   "source": [
    "import os\n",
    "import pandas as pd\n",
    "\n",
    "path_empl = '../tables/employees.parquet' if os.path.exists('../tables/employees.parquet') else 'https://drive.google.com/uc?id=1AARD5-eVlCxoApt5CYZebrC3Cqw42lvj'\n",
    "\n",
    "empl = pd.read_parquet(path_empl)\n",
    "empl.head()"
   ]
  },
  {
   "cell_type": "code",
   "execution_count": null,
   "id": "67038e8d",
   "metadata": {},
   "outputs": [],
   "source": [
    "# напишите свой код здесь"
   ]
  },
  {
   "cell_type": "markdown",
   "id": "a642c4f5",
   "metadata": {},
   "source": [
    "### Задача 3\n",
    "\n",
    "Посчитайте долю пропущенных значений за каждый месяц в каждой колонке"
   ]
  },
  {
   "cell_type": "code",
   "execution_count": null,
   "id": "5b7e551a",
   "metadata": {},
   "outputs": [],
   "source": [
    "import os\n",
    "import pandas as pd\n",
    "\n",
    "path_empl = '../tables/employees.parquet' if os.path.exists('../tables/employees.parquet') else 'https://drive.google.com/uc?id=1AARD5-eVlCxoApt5CYZebrC3Cqw42lvj'\n",
    "\n",
    "empl = pd.read_parquet(path_empl)\n",
    "empl.head()"
   ]
  },
  {
   "cell_type": "code",
   "execution_count": null,
   "id": "e8fa94ce",
   "metadata": {},
   "outputs": [],
   "source": [
    "# напишите свой код здесь"
   ]
  },
  {
   "cell_type": "markdown",
   "id": "96fe6b75",
   "metadata": {},
   "source": [
    "### Задача 4\n",
    "\n",
    "Посчитать какой процент покупателей в каждом магазине не пользуется услугами продавца-консультанта"
   ]
  },
  {
   "cell_type": "code",
   "execution_count": null,
   "id": "7c487607",
   "metadata": {},
   "outputs": [],
   "source": [
    "# таблица sales - большая, и в некоторых случаях ваш компьютер может не справиться с ее обработкой\n",
    "# поэтому лучше работайте с частью этой таблицы\n",
    "# но если вы хотите попробовать поработать с полной версией таблицы,\n",
    "# можете заменить переменную path_sales_2022 на path_sales внутри функции read_parquet\n",
    "\n",
    "import os\n",
    "import pandas as pd\n",
    "\n",
    "path_sales_2022 = '../tables/sales_2022.parquet' if os.path.exists('../tables/sales_2022.parquet') else 'https://drive.google.com/uc?id=17e7FwXVdsWc2aziK9s5KidIvPcfKt9F5'\n",
    "# path_sales = '../tables/sales.parquet' if os.path.exists('../tables/sales.parquet') else \"https://drive.usercontent.google.com/download?id=15KwSxyM6hpNABGe6_vsrFZvD09VfHFyK&export=download&authuser=1&confirm=t&uuid=115bd48c-cc2c-4f2a-8b42-be5ca6ef6db8&at=APZUnTUVb8nfNANw5wr9Cad7PJ3U:1693327774694\"\n",
    "\n",
    "sales = pd.read_parquet(path_sales_2022)\n",
    "sales.head()"
   ]
  },
  {
   "cell_type": "code",
   "execution_count": null,
   "id": "bd8a70b6",
   "metadata": {},
   "outputs": [],
   "source": [
    "# напишите свой код здесь"
   ]
  },
  {
   "cell_type": "markdown",
   "id": "6650edb6",
   "metadata": {},
   "source": [
    "### Задача 5\n",
    "\n",
    "Для каждого чека, посчитайте среднюю стоимость одного товара в чеке без учета количества купленных товаров"
   ]
  },
  {
   "cell_type": "code",
   "execution_count": null,
   "id": "f2ed9fc5",
   "metadata": {},
   "outputs": [],
   "source": [
    "# таблица sales - большая, и в некоторых случаях ваш компьютер может не справиться с ее обработкой\n",
    "# поэтому лучше работайте с частью этой таблицы\n",
    "# но если вы хотите попробовать поработать с полной версией таблицы,\n",
    "# можете заменить переменную path_sales_sample_check на path_sales внутри функции read_parquet\n",
    "\n",
    "import os\n",
    "import pandas as pd\n",
    "\n",
    "path_sales_sample_check = '../tables/sales_sample_check.parquet' if os.path.exists('../tables/sales_sample_check.parquet') else 'https://drive.google.com/uc?id=1oYT518oqGnEF51PSFHfSHYNP-690ktFL'\n",
    "# path_sales = '../tables/sales.parquet' if os.path.exists('../tables/sales.parquet') else \"https://drive.usercontent.google.com/download?id=15KwSxyM6hpNABGe6_vsrFZvD09VfHFyK&export=download&authuser=1&confirm=t&uuid=115bd48c-cc2c-4f2a-8b42-be5ca6ef6db8&at=APZUnTUVb8nfNANw5wr9Cad7PJ3U:1693327774694\"\n",
    "\n",
    "sales = pd.read_parquet(path_sales_sample_check)\n",
    "sales.head()"
   ]
  },
  {
   "cell_type": "code",
   "execution_count": null,
   "id": "74f28ad4",
   "metadata": {},
   "outputs": [],
   "source": [
    "# напишите свой код здесь"
   ]
  },
  {
   "cell_type": "markdown",
   "id": "3e9ef467",
   "metadata": {},
   "source": [
    "### Задача 6\n",
    "\n",
    "Постройте ящичковую диаграмму (boxplot) для суммы чека\n",
    "\n",
    "О том, как строить boxplot, рассказывается в 13 ноутбуке, где мы смотрели о статистиках"
   ]
  },
  {
   "cell_type": "code",
   "execution_count": null,
   "id": "c181e759",
   "metadata": {},
   "outputs": [],
   "source": [
    "# таблица sales - большая, и в некоторых случаях ваш компьютер может не справиться с ее обработкой\n",
    "# поэтому лучше работайте с частью этой таблицы\n",
    "# но если вы хотите попробовать поработать с полной версией таблицы,\n",
    "# можете заменить переменную path_sales_sample_check на path_sales внутри функции read_parquet\n",
    "\n",
    "import os\n",
    "import pandas as pd\n",
    "\n",
    "path_sales_sample_check = '../tables/sales_sample_check.parquet' if os.path.exists('../tables/sales_sample_check.parquet') else 'https://drive.google.com/uc?id=1oYT518oqGnEF51PSFHfSHYNP-690ktFL'\n",
    "# path_sales = '../tables/sales.parquet' if os.path.exists('../tables/sales.parquet') else \"https://drive.usercontent.google.com/download?id=15KwSxyM6hpNABGe6_vsrFZvD09VfHFyK&export=download&authuser=1&confirm=t&uuid=115bd48c-cc2c-4f2a-8b42-be5ca6ef6db8&at=APZUnTUVb8nfNANw5wr9Cad7PJ3U:1693327774694\"\n",
    "\n",
    "sales = pd.read_parquet(path_sales_sample_check)\n",
    "sales.head()"
   ]
  },
  {
   "cell_type": "code",
   "execution_count": null,
   "id": "49d9bef6",
   "metadata": {},
   "outputs": [],
   "source": [
    "# напишите свой код здесь"
   ]
  },
  {
   "cell_type": "markdown",
   "id": "753b9ee0",
   "metadata": {},
   "source": [
    "### Задача 7\n",
    "\n",
    "Для каждого чека, посчитайте среднюю стоимость одного товара в чеке с учетом количества купленных товаров"
   ]
  },
  {
   "cell_type": "code",
   "execution_count": null,
   "id": "b30a7e57",
   "metadata": {},
   "outputs": [],
   "source": [
    "# таблица sales - большая, и в некоторых случаях ваш компьютер может не справиться с ее обработкой\n",
    "# поэтому лучше работайте с частью этой таблицы\n",
    "# но если вы хотите попробовать поработать с полной версией таблицы,\n",
    "# можете заменить переменную path_sales_sample_check на path_sales внутри функции read_parquet\n",
    "\n",
    "import os\n",
    "import pandas as pd\n",
    "\n",
    "path_sales_sample_check = '../tables/sales_sample_check.parquet' if os.path.exists('../tables/sales_sample_check.parquet') else 'https://drive.google.com/uc?id=1oYT518oqGnEF51PSFHfSHYNP-690ktFL'\n",
    "# path_sales = '../tables/sales.parquet' if os.path.exists('../tables/sales.parquet') else \"https://drive.usercontent.google.com/download?id=15KwSxyM6hpNABGe6_vsrFZvD09VfHFyK&export=download&authuser=1&confirm=t&uuid=115bd48c-cc2c-4f2a-8b42-be5ca6ef6db8&at=APZUnTUVb8nfNANw5wr9Cad7PJ3U:1693327774694\"\n",
    "\n",
    "sales = pd.read_parquet(path_sales_sample_check)\n",
    "sales.head()"
   ]
  },
  {
   "cell_type": "code",
   "execution_count": null,
   "id": "bcad13aa",
   "metadata": {},
   "outputs": [],
   "source": [
    "# напишите свой код здесь"
   ]
  },
  {
   "cell_type": "markdown",
   "id": "b91a171a",
   "metadata": {},
   "source": [
    "### Задача 8\n",
    "\n",
    "Посчитайте средний, медианный чек за каждый день недели, а так же 10 и 90 квантили"
   ]
  },
  {
   "cell_type": "code",
   "execution_count": null,
   "id": "b6177bc2",
   "metadata": {},
   "outputs": [],
   "source": [
    "# таблица sales - большая, и в некоторых случаях ваш компьютер может не справиться с ее обработкой\n",
    "# поэтому лучше работайте с частью этой таблицы\n",
    "# но если вы хотите попробовать поработать с полной версией таблицы,\n",
    "# можете заменить переменную path_sales_2022 на path_sales внутри функции read_parquet\n",
    "\n",
    "import os\n",
    "import pandas as pd\n",
    "\n",
    "path_sales_2022 = '../tables/sales_2022.parquet' if os.path.exists('../tables/sales_2022.parquet') else 'https://drive.google.com/uc?id=17e7FwXVdsWc2aziK9s5KidIvPcfKt9F5'\n",
    "# path_sales = '../tables/sales.parquet' if os.path.exists('../tables/sales.parquet') else \"https://drive.usercontent.google.com/download?id=15KwSxyM6hpNABGe6_vsrFZvD09VfHFyK&export=download&authuser=1&confirm=t&uuid=115bd48c-cc2c-4f2a-8b42-be5ca6ef6db8&at=APZUnTUVb8nfNANw5wr9Cad7PJ3U:1693327774694\"\n",
    "\n",
    "sales = pd.read_parquet(path_sales_2022)\n",
    "sales.head()"
   ]
  },
  {
   "cell_type": "code",
   "execution_count": null,
   "id": "ebc1c9b5",
   "metadata": {},
   "outputs": [],
   "source": [
    "# напишите свой код здесь"
   ]
  },
  {
   "cell_type": "markdown",
   "id": "af282dfd",
   "metadata": {},
   "source": [
    "### Задача 9\n",
    "\n",
    "За каждый месяц выберите 50 чеков с наибольшей суммой покупки\n",
    "\n",
    "\n",
    "<details>\n",
    "\n",
    "<summary>Подсказка</summary>\n",
    " \n",
    "Здесь необходимо делать 2 группировки подряд. Сначала посчитать сумму каждого чека, а затем сделать группировку по месяцу\n",
    "\n",
    "</details>"
   ]
  },
  {
   "cell_type": "code",
   "execution_count": null,
   "id": "7eabe649",
   "metadata": {},
   "outputs": [],
   "source": [
    "# таблица sales - большая, и в некоторых случаях ваш компьютер может не справиться с ее обработкой\n",
    "# поэтому лучше работайте с частью этой таблицы\n",
    "# но если вы хотите попробовать поработать с полной версией таблицы,\n",
    "# можете заменить переменную path_sales_2022 на path_sales внутри функции read_parquet\n",
    "\n",
    "import os\n",
    "import pandas as pd\n",
    "\n",
    "path_sales_2022 = '../tables/sales_2022.parquet' if os.path.exists('../tables/sales_2022.parquet') else 'https://drive.google.com/uc?id=17e7FwXVdsWc2aziK9s5KidIvPcfKt9F5'\n",
    "# path_sales = '../tables/sales.parquet' if os.path.exists('../tables/sales.parquet') else \"https://drive.usercontent.google.com/download?id=15KwSxyM6hpNABGe6_vsrFZvD09VfHFyK&export=download&authuser=1&confirm=t&uuid=115bd48c-cc2c-4f2a-8b42-be5ca6ef6db8&at=APZUnTUVb8nfNANw5wr9Cad7PJ3U:1693327774694\"\n",
    "\n",
    "sales = pd.read_parquet(path_sales_2022)\n",
    "sales.head()"
   ]
  },
  {
   "cell_type": "code",
   "execution_count": null,
   "id": "36e32f97",
   "metadata": {},
   "outputs": [],
   "source": [
    "# напишите свой код здесь"
   ]
  },
  {
   "cell_type": "markdown",
   "id": "cc33c597",
   "metadata": {},
   "source": [
    "### Задача 10\n",
    "\n",
    "Вывидите категори товаров (поле product_type), которые представлены только для женщин (например платья)"
   ]
  },
  {
   "cell_type": "code",
   "execution_count": null,
   "id": "c50f4da9",
   "metadata": {},
   "outputs": [],
   "source": [
    "import os\n",
    "import pandas as pd\n",
    "\n",
    "path_goods_descr = '../tables/goods_description.parquet' if os.path.exists('../tables/goods_description.parquet') else 'https://drive.google.com/uc?id=1YbiD02Rev-X_WWV9nPSG1zZFmEh2JjPh'\n",
    "\n",
    "goods_descr = pd.read_parquet(path_goods_descr)\n",
    "goods_descr.head()"
   ]
  },
  {
   "cell_type": "code",
   "execution_count": null,
   "id": "73c36540",
   "metadata": {},
   "outputs": [],
   "source": [
    "# напишите свой код здесь"
   ]
  },
  {
   "cell_type": "markdown",
   "id": "83265bc3",
   "metadata": {},
   "source": [
    "### Задача 11\n",
    "\n",
    "Добавьте к датафрейму колонку, со средним числом товаров в чеке для каждого покупателя"
   ]
  },
  {
   "cell_type": "code",
   "execution_count": null,
   "id": "ac14a617",
   "metadata": {},
   "outputs": [],
   "source": [
    "# таблица sales - большая, и в некоторых случаях ваш компьютер может не справиться с ее обработкой\n",
    "# поэтому лучше работайте с частью этой таблицы\n",
    "# но если вы хотите попробовать поработать с полной версией таблицы,\n",
    "# можете заменить переменную path_sales_2022 на path_sales внутри функции read_parquet\n",
    "\n",
    "import os\n",
    "import pandas as pd\n",
    "\n",
    "path_sales_2022 = '../tables/sales_2022.parquet' if os.path.exists('../tables/sales_2022.parquet') else 'https://drive.google.com/uc?id=17e7FwXVdsWc2aziK9s5KidIvPcfKt9F5'\n",
    "# path_sales = '../tables/sales.parquet' if os.path.exists('../tables/sales.parquet') else \"https://drive.usercontent.google.com/download?id=15KwSxyM6hpNABGe6_vsrFZvD09VfHFyK&export=download&authuser=1&confirm=t&uuid=115bd48c-cc2c-4f2a-8b42-be5ca6ef6db8&at=APZUnTUVb8nfNANw5wr9Cad7PJ3U:1693327774694\"\n",
    "\n",
    "sales = pd.read_parquet(path_sales_2022)\n",
    "sales.head()"
   ]
  },
  {
   "cell_type": "code",
   "execution_count": null,
   "id": "5d71fd32",
   "metadata": {},
   "outputs": [],
   "source": [
    "# напишите свой код здесь"
   ]
  },
  {
   "cell_type": "markdown",
   "id": "5e1c55ab",
   "metadata": {},
   "source": [
    "### Задача 12\n",
    "\n",
    "Найти людей которые работали в разных магазинах"
   ]
  },
  {
   "cell_type": "code",
   "execution_count": null,
   "id": "9da4afd8",
   "metadata": {},
   "outputs": [],
   "source": [
    "import os\n",
    "import pandas as pd\n",
    "\n",
    "path_empl = '../tables/employees.parquet' if os.path.exists('../tables/employees.parquet') else 'https://drive.google.com/uc?id=1AARD5-eVlCxoApt5CYZebrC3Cqw42lvj'\n",
    "\n",
    "empl = pd.read_parquet(path_empl)\n",
    "empl.head()"
   ]
  },
  {
   "cell_type": "code",
   "execution_count": null,
   "id": "caaf871c",
   "metadata": {},
   "outputs": [],
   "source": [
    "# напишите свой код здесь"
   ]
  },
  {
   "cell_type": "markdown",
   "id": "507ee983",
   "metadata": {},
   "source": [
    "### Задача 13\n",
    "\n",
    "Посчитайте насколько рублей зарплата сотрудника отличается от средней зарплаты сотрудников по команде"
   ]
  },
  {
   "cell_type": "code",
   "execution_count": null,
   "id": "d9869c62",
   "metadata": {},
   "outputs": [],
   "source": [
    "import os\n",
    "import pandas as pd\n",
    "\n",
    "path_empl = '../tables/employees.parquet' if os.path.exists('../tables/employees.parquet') else 'https://drive.google.com/uc?id=1AARD5-eVlCxoApt5CYZebrC3Cqw42lvj'\n",
    "\n",
    "empl = pd.read_parquet(path_empl)\n",
    "empl.head()"
   ]
  },
  {
   "cell_type": "code",
   "execution_count": null,
   "id": "9f6421ba",
   "metadata": {},
   "outputs": [],
   "source": [
    "# напишите свой код здесь"
   ]
  },
  {
   "cell_type": "markdown",
   "id": "3479c94a",
   "metadata": {},
   "source": [
    "### Задача 14\n",
    "\n",
    "Посчитайте среднюю оценку сотрудников за каждый месяц с разбивкой по уровню образования. Приведите таблицу к виду сводной таблицы. В названии колонок должен лежать уровень образования, а в индексе дата"
   ]
  },
  {
   "cell_type": "code",
   "execution_count": null,
   "id": "47072291",
   "metadata": {},
   "outputs": [],
   "source": [
    "import os\n",
    "import pandas as pd\n",
    "\n",
    "path_empl = '../tables/employees.parquet' if os.path.exists('../tables/employees.parquet') else 'https://drive.google.com/uc?id=1AARD5-eVlCxoApt5CYZebrC3Cqw42lvj'\n",
    "\n",
    "empl = pd.read_parquet(path_empl)\n",
    "empl.head()"
   ]
  },
  {
   "cell_type": "code",
   "execution_count": null,
   "id": "33e5eb1a",
   "metadata": {},
   "outputs": [],
   "source": [
    "# напишите свой код здесь"
   ]
  },
  {
   "cell_type": "markdown",
   "id": "3dc7420f",
   "metadata": {},
   "source": [
    "### Задача 15\n",
    "\n",
    "Выведите таблицу по продажам для людей, которые были у нас в магазине 10 и более раз"
   ]
  },
  {
   "cell_type": "code",
   "execution_count": null,
   "id": "146590c0",
   "metadata": {},
   "outputs": [],
   "source": [
    "# таблица sales - большая, и в некоторых случаях ваш компьютер может не справиться с ее обработкой\n",
    "# поэтому лучше работайте с частью этой таблицы\n",
    "# но если вы хотите попробовать поработать с полной версией таблицы,\n",
    "# можете заменить переменную path_sales_sample на path_sales внутри функции read_parquet\n",
    "\n",
    "import os\n",
    "import pandas as pd\n",
    "\n",
    "path_sales_sample = '../tables/sales_sample.parquet' if os.path.exists('../tables/sales_sample.parquet') else 'https://drive.google.com/uc?id=1BgxAxPauzC4LObY3N65PgAvnU3f5QRj2'\n",
    "# path_sales = '../tables/sales.parquet' if os.path.exists('../tables/sales.parquet') else \"https://drive.usercontent.google.com/download?id=15KwSxyM6hpNABGe6_vsrFZvD09VfHFyK&export=download&authuser=1&confirm=t&uuid=115bd48c-cc2c-4f2a-8b42-be5ca6ef6db8&at=APZUnTUVb8nfNANw5wr9Cad7PJ3U:1693327774694\"\n",
    "\n",
    "sales = pd.read_parquet(path_sales_sample)\n",
    "sales.head()"
   ]
  },
  {
   "cell_type": "code",
   "execution_count": null,
   "id": "3de0990c",
   "metadata": {},
   "outputs": [],
   "source": [
    "# напишите свой код здесь"
   ]
  },
  {
   "cell_type": "markdown",
   "id": "d3979bc4",
   "metadata": {},
   "source": [
    "### Задача 16\n",
    "\n",
    "Из неравенства Чебышева,  следует, что вероятность того, что показатель отклониться от своего среднего более чем на 3 стандартных отклонения не превышает 1/9. Вычислите суммарный чек за каждую покупку и посчитайте, какой процент наблюдений выходит за границу трех страндартных отклонений"
   ]
  },
  {
   "cell_type": "code",
   "execution_count": null,
   "id": "23d035f0",
   "metadata": {},
   "outputs": [],
   "source": [
    "# таблица sales - большая, и в некоторых случаях ваш компьютер может не справиться с ее обработкой\n",
    "# поэтому лучше работайте с частью этой таблицы\n",
    "# но если вы хотите попробовать поработать с полной версией таблицы,\n",
    "# можете заменить переменную path_sales_2022 на path_sales внутри функции read_parquet\n",
    "\n",
    "import os\n",
    "import pandas as pd\n",
    "\n",
    "path_sales_2022 = '../tables/sales_2022.parquet' if os.path.exists('../tables/sales_2022.parquet') else 'https://drive.google.com/uc?id=17e7FwXVdsWc2aziK9s5KidIvPcfKt9F5'\n",
    "# path_sales = '../tables/sales.parquet' if os.path.exists('../tables/sales.parquet') else \"https://drive.usercontent.google.com/download?id=15KwSxyM6hpNABGe6_vsrFZvD09VfHFyK&export=download&authuser=1&confirm=t&uuid=115bd48c-cc2c-4f2a-8b42-be5ca6ef6db8&at=APZUnTUVb8nfNANw5wr9Cad7PJ3U:1693327774694\"\n",
    "\n",
    "sales = pd.read_parquet(path_sales_2022)\n",
    "sales.head()"
   ]
  },
  {
   "cell_type": "code",
   "execution_count": null,
   "id": "5f0bca26",
   "metadata": {},
   "outputs": [],
   "source": [
    "# напишите свой код здесь"
   ]
  },
  {
   "cell_type": "markdown",
   "id": "bc79bb15",
   "metadata": {},
   "source": [
    "### Задача 17\n",
    "\n",
    "Постройте точечный график (scatter) зависимости числа продаж товара (считайте по полю product_code_2) от его цены"
   ]
  },
  {
   "cell_type": "code",
   "execution_count": null,
   "id": "81477637",
   "metadata": {},
   "outputs": [],
   "source": [
    "# таблица sales - большая, и в некоторых случаях ваш компьютер может не справиться с ее обработкой\n",
    "# поэтому лучше работайте с частью этой таблицы\n",
    "# но если вы хотите попробовать поработать с полной версией таблицы,\n",
    "# можете заменить переменную path_sales_2022 на path_sales внутри функции read_parquet\n",
    "\n",
    "import os\n",
    "import pandas as pd\n",
    "\n",
    "path_sales_2022 = '../tables/sales_2022.parquet' if os.path.exists('../tables/sales_2022.parquet') else 'https://drive.google.com/uc?id=17e7FwXVdsWc2aziK9s5KidIvPcfKt9F5'\n",
    "# path_sales = '../tables/sales.parquet' if os.path.exists('../tables/sales.parquet') else \"https://drive.usercontent.google.com/download?id=15KwSxyM6hpNABGe6_vsrFZvD09VfHFyK&export=download&authuser=1&confirm=t&uuid=115bd48c-cc2c-4f2a-8b42-be5ca6ef6db8&at=APZUnTUVb8nfNANw5wr9Cad7PJ3U:1693327774694\"\n",
    "\n",
    "sales = pd.read_parquet(path_sales_2022)\n",
    "sales.head()"
   ]
  },
  {
   "cell_type": "code",
   "execution_count": null,
   "id": "9272af1e",
   "metadata": {},
   "outputs": [],
   "source": [
    "# напишите свой код здесь"
   ]
  },
  {
   "cell_type": "markdown",
   "id": "8c20d450",
   "metadata": {},
   "source": [
    "### Задача 18\n",
    "\n",
    "Постройте график среднего числа посетителей в крупных магазинах за каждый день недели"
   ]
  },
  {
   "cell_type": "code",
   "execution_count": null,
   "id": "21048453",
   "metadata": {},
   "outputs": [],
   "source": [
    "# таблица sales - большая, и в некоторых случаях ваш компьютер может не справиться с ее обработкой\n",
    "# поэтому лучше работайте с частью этой таблицы\n",
    "# но если вы хотите попробовать поработать с полной версией таблицы,\n",
    "# можете заменить переменную path_sales_2022 на path_sales внутри функции read_parquet\n",
    "\n",
    "import os\n",
    "import pandas as pd\n",
    "\n",
    "path_sales_2022 = '../tables/sales_2022.parquet' if os.path.exists('../tables/sales_2022.parquet') else 'https://drive.google.com/uc?id=17e7FwXVdsWc2aziK9s5KidIvPcfKt9F5'\n",
    "# path_sales = '../tables/sales.parquet' if os.path.exists('../tables/sales.parquet') else \"https://drive.usercontent.google.com/download?id=15KwSxyM6hpNABGe6_vsrFZvD09VfHFyK&export=download&authuser=1&confirm=t&uuid=115bd48c-cc2c-4f2a-8b42-be5ca6ef6db8&at=APZUnTUVb8nfNANw5wr9Cad7PJ3U:1693327774694\"\n",
    "\n",
    "sales = pd.read_parquet(path_sales_2022)\n",
    "sales.head()"
   ]
  },
  {
   "cell_type": "code",
   "execution_count": null,
   "id": "268441b2",
   "metadata": {},
   "outputs": [],
   "source": [
    "# напишите свой код здесь"
   ]
  },
  {
   "cell_type": "code",
   "execution_count": null,
   "id": "1763f21e",
   "metadata": {},
   "outputs": [],
   "source": [
    "path_shops = '../tables/shops.xlsx' if os.path.exists('../tables/shops.xlsx') else 'https://drive.google.com/uc?id=1gfnmceJa3Mc1X06NftTx9G9QfKfprjEB'\n",
    "\n",
    "shops = pd.read_excel(path_shops)\n",
    "shops.head()"
   ]
  },
  {
   "cell_type": "code",
   "execution_count": null,
   "id": "5a230bc7",
   "metadata": {},
   "outputs": [],
   "source": [
    "# напишите свой код здесь"
   ]
  },
  {
   "cell_type": "markdown",
   "id": "39dbdfaa",
   "metadata": {},
   "source": [
    "### Задача 19\n",
    "\n",
    "Посчитайте средний месячный товарооборот (сумма продаж за месяц) по средним крупным и маленьким магазинам"
   ]
  },
  {
   "cell_type": "code",
   "execution_count": null,
   "id": "7c624646",
   "metadata": {},
   "outputs": [],
   "source": [
    "# таблица sales - большая, и в некоторых случаях ваш компьютер может не справиться с ее обработкой\n",
    "# поэтому лучше работайте с частью этой таблицы\n",
    "# но если вы хотите попробовать поработать с полной версией таблицы,\n",
    "# можете заменить переменную path_sales_2022 на path_sales внутри функции read_parquet\n",
    "\n",
    "import os\n",
    "import pandas as pd\n",
    "\n",
    "path_sales_2022 = '../tables/sales_2022.parquet' if os.path.exists('../tables/sales_2022.parquet') else 'https://drive.google.com/uc?id=17e7FwXVdsWc2aziK9s5KidIvPcfKt9F5'\n",
    "# path_sales = '../tables/sales.parquet' if os.path.exists('../tables/sales.parquet') else \"https://drive.usercontent.google.com/download?id=15KwSxyM6hpNABGe6_vsrFZvD09VfHFyK&export=download&authuser=1&confirm=t&uuid=115bd48c-cc2c-4f2a-8b42-be5ca6ef6db8&at=APZUnTUVb8nfNANw5wr9Cad7PJ3U:1693327774694\"\n",
    "\n",
    "sales = pd.read_parquet(path_sales_2022)\n",
    "sales.head()"
   ]
  },
  {
   "cell_type": "code",
   "execution_count": null,
   "id": "4c98715b",
   "metadata": {},
   "outputs": [],
   "source": [
    "path_shops = '../tables/shops.xlsx' if os.path.exists('../tables/shops.xlsx') else 'https://drive.google.com/uc?id=1gfnmceJa3Mc1X06NftTx9G9QfKfprjEB'\n",
    "\n",
    "shops = pd.read_excel(path_shops)\n",
    "shops.head()"
   ]
  },
  {
   "cell_type": "code",
   "execution_count": null,
   "id": "d680e95b",
   "metadata": {},
   "outputs": [],
   "source": [
    "# напишите свой код здесь"
   ]
  },
  {
   "cell_type": "markdown",
   "id": "36be7c8e",
   "metadata": {},
   "source": [
    "### Задача 20\n",
    "\n",
    "По каждому клиенту посчитать средний чек, среднее число товаров в чеке, число посещений, максимальный и минимальный чек"
   ]
  },
  {
   "cell_type": "code",
   "execution_count": null,
   "id": "59e66df3",
   "metadata": {},
   "outputs": [],
   "source": [
    "# таблица sales - большая, и в некоторых случаях ваш компьютер может не справиться с ее обработкой\n",
    "# поэтому лучше работайте с частью этой таблицы\n",
    "# но если вы хотите попробовать поработать с полной версией таблицы,\n",
    "# можете заменить переменную path_sales_2022 на path_sales внутри функции read_parquet\n",
    "\n",
    "import os\n",
    "import pandas as pd\n",
    "\n",
    "path_sales_2022 = '../tables/sales_2022.parquet' if os.path.exists('../tables/sales_2022.parquet') else 'https://drive.google.com/uc?id=17e7FwXVdsWc2aziK9s5KidIvPcfKt9F5'\n",
    "# path_sales = '../tables/sales.parquet' if os.path.exists('../tables/sales.parquet') else \"https://drive.usercontent.google.com/download?id=15KwSxyM6hpNABGe6_vsrFZvD09VfHFyK&export=download&authuser=1&confirm=t&uuid=115bd48c-cc2c-4f2a-8b42-be5ca6ef6db8&at=APZUnTUVb8nfNANw5wr9Cad7PJ3U:1693327774694\"\n",
    "\n",
    "sales = pd.read_parquet(path_sales_2022)\n",
    "sales.head()"
   ]
  },
  {
   "cell_type": "code",
   "execution_count": null,
   "id": "6a30031f",
   "metadata": {},
   "outputs": [],
   "source": [
    "# напишите свой код здесь"
   ]
  },
  {
   "cell_type": "markdown",
   "id": "2b18bdc7",
   "metadata": {},
   "source": [
    "### Задача 21\n",
    "\n",
    "Найдите среднее время покупки в выходной и в рабочий день"
   ]
  },
  {
   "cell_type": "code",
   "execution_count": null,
   "id": "f51c096f",
   "metadata": {},
   "outputs": [],
   "source": [
    "# таблица sales - большая, и в некоторых случаях ваш компьютер может не справиться с ее обработкой\n",
    "# поэтому лучше работайте с частью этой таблицы\n",
    "# но если вы хотите попробовать поработать с полной версией таблицы,\n",
    "# можете заменить переменную path_sales_2022 на path_sales внутри функции read_parquet\n",
    "\n",
    "import os\n",
    "import pandas as pd\n",
    "\n",
    "path_sales_2022 = '../tables/sales_2022.parquet' if os.path.exists('../tables/sales_2022.parquet') else 'https://drive.google.com/uc?id=17e7FwXVdsWc2aziK9s5KidIvPcfKt9F5'\n",
    "# path_sales = '../tables/sales.parquet' if os.path.exists('../tables/sales.parquet') else \"https://drive.usercontent.google.com/download?id=15KwSxyM6hpNABGe6_vsrFZvD09VfHFyK&export=download&authuser=1&confirm=t&uuid=115bd48c-cc2c-4f2a-8b42-be5ca6ef6db8&at=APZUnTUVb8nfNANw5wr9Cad7PJ3U:1693327774694\"\n",
    "\n",
    "sales = pd.read_parquet(path_sales_2022)\n",
    "sales.head()"
   ]
  },
  {
   "cell_type": "code",
   "execution_count": null,
   "id": "40ad46cf",
   "metadata": {},
   "outputs": [],
   "source": [
    "path_w_ends = '../tables/выходные.csv' if os.path.exists('../tables/выходные.csv') else 'https://drive.google.com/uc?id=1hAsoXSPTFihFmBuF-E0uSj9pX4gpojwC'\n",
    "\n",
    "w_ends = pd.read_csv(path_w_ends)\n",
    "w_ends.head()"
   ]
  },
  {
   "cell_type": "code",
   "execution_count": null,
   "id": "72ceeef3",
   "metadata": {},
   "outputs": [],
   "source": [
    "# напишите свой код здесь"
   ]
  },
  {
   "cell_type": "markdown",
   "id": "ddde5f54",
   "metadata": {},
   "source": [
    "### Задача 22\n",
    "\n",
    "Нарисуйте графики среднего числа посетителей за каждый час для выходных и для рабочих дней"
   ]
  },
  {
   "cell_type": "code",
   "execution_count": null,
   "id": "df1d4ec6",
   "metadata": {},
   "outputs": [],
   "source": [
    "# таблица sales - большая, и в некоторых случаях ваш компьютер может не справиться с ее обработкой\n",
    "# поэтому лучше работайте с частью этой таблицы\n",
    "# но если вы хотите попробовать поработать с полной версией таблицы,\n",
    "# можете заменить переменную path_sales_2022 на path_sales внутри функции read_parquet\n",
    "\n",
    "import os\n",
    "import pandas as pd\n",
    "\n",
    "path_sales_2022 = '../tables/sales_2022.parquet' if os.path.exists('../tables/sales_2022.parquet') else 'https://drive.google.com/uc?id=17e7FwXVdsWc2aziK9s5KidIvPcfKt9F5'\n",
    "# path_sales = '../tables/sales.parquet' if os.path.exists('../tables/sales.parquet') else \"https://drive.usercontent.google.com/download?id=15KwSxyM6hpNABGe6_vsrFZvD09VfHFyK&export=download&authuser=1&confirm=t&uuid=115bd48c-cc2c-4f2a-8b42-be5ca6ef6db8&at=APZUnTUVb8nfNANw5wr9Cad7PJ3U:1693327774694\"\n",
    "\n",
    "sales = pd.read_parquet(path_sales_2022)\n",
    "sales.head()"
   ]
  },
  {
   "cell_type": "code",
   "execution_count": null,
   "id": "3ccfce5b",
   "metadata": {},
   "outputs": [],
   "source": [
    "path_w_ends = '../tables/выходные.csv' if os.path.exists('../tables/выходные.csv') else 'https://drive.google.com/uc?id=1hAsoXSPTFihFmBuF-E0uSj9pX4gpojwC'\n",
    "\n",
    "w_ends = pd.read_csv(path_w_ends)\n",
    "w_ends.head()"
   ]
  },
  {
   "cell_type": "code",
   "execution_count": null,
   "id": "3d5f7790",
   "metadata": {},
   "outputs": [],
   "source": [
    "# напишите свой код здесь"
   ]
  },
  {
   "cell_type": "markdown",
   "id": "7ef03613",
   "metadata": {},
   "source": [
    "### Задача 23\n",
    "\n",
    "Для каждого сотрудника, который работал в компании 31 декабря 2021 года посчитайте, сколько раз он устраивался на работу по состоянию на эту дату"
   ]
  },
  {
   "cell_type": "code",
   "execution_count": null,
   "id": "7fde7173",
   "metadata": {},
   "outputs": [],
   "source": [
    "import os\n",
    "import pandas as pd\n",
    "\n",
    "path_events = '../tables/events.parquet' if os.path.exists('../tables/events.parquet') else 'https://drive.google.com/uc?id=1Phn06U4-BI0XqtYAgtlM6IuoXRIAGQlO'\n",
    "\n",
    "events = pd.read_parquet(path_events)\n",
    "events.head()"
   ]
  },
  {
   "cell_type": "code",
   "execution_count": null,
   "id": "f0325869",
   "metadata": {},
   "outputs": [],
   "source": [
    "path_empl = '../tables/employees.parquet' if os.path.exists('../tables/employees.parquet') else 'https://drive.google.com/uc?id=1AARD5-eVlCxoApt5CYZebrC3Cqw42lvj'\n",
    "\n",
    "empl = pd.read_parquet(path_empl)\n",
    "empl.head()"
   ]
  },
  {
   "cell_type": "code",
   "execution_count": null,
   "id": "339307d7",
   "metadata": {},
   "outputs": [],
   "source": [
    "# напишите свой код здесь"
   ]
  },
  {
   "cell_type": "markdown",
   "id": "b005fac4",
   "metadata": {},
   "source": [
    "### Задача 24\n",
    "\n",
    "Для каждого дня и каждого магазина, посчитайте сколько уникальных товаров было куплено"
   ]
  },
  {
   "cell_type": "code",
   "execution_count": null,
   "id": "1892c33a",
   "metadata": {},
   "outputs": [],
   "source": [
    "# таблица sales - большая, и в некоторых случаях ваш компьютер может не справиться с ее обработкой\n",
    "# поэтому лучше работайте с частью этой таблицы\n",
    "# но если вы хотите попробовать поработать с полной версией таблицы,\n",
    "# можете заменить переменную path_sales_2022 на path_sales внутри функции read_parquet\n",
    "\n",
    "import os\n",
    "import pandas as pd\n",
    "\n",
    "path_sales_2022 = '../tables/sales_2022.parquet' if os.path.exists('../tables/sales_2022.parquet') else 'https://drive.google.com/uc?id=17e7FwXVdsWc2aziK9s5KidIvPcfKt9F5'\n",
    "# path_sales = '../tables/sales.parquet' if os.path.exists('../tables/sales.parquet') else \"https://drive.usercontent.google.com/download?id=15KwSxyM6hpNABGe6_vsrFZvD09VfHFyK&export=download&authuser=1&confirm=t&uuid=115bd48c-cc2c-4f2a-8b42-be5ca6ef6db8&at=APZUnTUVb8nfNANw5wr9Cad7PJ3U:1693327774694\"\n",
    "\n",
    "sales = pd.read_parquet(path_sales_2022)\n",
    "sales.head()"
   ]
  },
  {
   "cell_type": "code",
   "execution_count": null,
   "id": "3bc94a1e",
   "metadata": {},
   "outputs": [],
   "source": [
    "# напишите свой код здесь"
   ]
  },
  {
   "cell_type": "markdown",
   "id": "e746e7cf",
   "metadata": {},
   "source": [
    "### Задача 25\n",
    "\n",
    "Найдите среднее количество размеров у одного товара (группируйте по полю product_code_2)"
   ]
  },
  {
   "cell_type": "code",
   "execution_count": null,
   "id": "6c0c4ca4",
   "metadata": {},
   "outputs": [],
   "source": [
    "import os\n",
    "import pandas as pd\n",
    "\n",
    "path_goods_descr = '../tables/goods_description.parquet' if os.path.exists('../tables/goods_description.parquet') else 'https://drive.google.com/uc?id=1YbiD02Rev-X_WWV9nPSG1zZFmEh2JjPh'\n",
    "\n",
    "goods_descr = pd.read_parquet(path_goods_descr)\n",
    "goods_descr.head()"
   ]
  },
  {
   "cell_type": "code",
   "execution_count": null,
   "id": "bd5a8b94",
   "metadata": {},
   "outputs": [],
   "source": [
    "# напишите свой код здесь"
   ]
  },
  {
   "cell_type": "markdown",
   "id": "5c59d440",
   "metadata": {},
   "source": [
    "### Задача 26\n",
    "\n",
    "Найти людей, которые хоть раз делали 3 и более покупок за день (у покупателя должно быть 3 и более чека за день)"
   ]
  },
  {
   "cell_type": "code",
   "execution_count": null,
   "id": "c34c43a2",
   "metadata": {},
   "outputs": [],
   "source": [
    "import os\n",
    "import pandas as pd\n",
    "\n",
    "path_sales_sample = '../tables/sales_sample.parquet' if os.path.exists('../tables/sales_sample.parquet') else 'https://drive.google.com/uc?id=1BgxAxPauzC4LObY3N65PgAvnU3f5QRj2'\n",
    "# path_sales = '../tables/sales.parquet' if os.path.exists('../tables/sales.parquet') else \"https://drive.usercontent.google.com/download?id=15KwSxyM6hpNABGe6_vsrFZvD09VfHFyK&export=download&authuser=1&confirm=t&uuid=115bd48c-cc2c-4f2a-8b42-be5ca6ef6db8&at=APZUnTUVb8nfNANw5wr9Cad7PJ3U:1693327774694\"\n",
    "\n",
    "sales = pd.read_parquet(path_sales_sample)\n",
    "sales.head()"
   ]
  },
  {
   "cell_type": "code",
   "execution_count": null,
   "id": "81a49da2",
   "metadata": {},
   "outputs": [],
   "source": [
    "# напишите свой код здесь"
   ]
  },
  {
   "cell_type": "code",
   "execution_count": null,
   "id": "37c0de64",
   "metadata": {},
   "outputs": [],
   "source": []
  },
  {
   "cell_type": "code",
   "execution_count": null,
   "id": "c862a52a",
   "metadata": {},
   "outputs": [],
   "source": []
  },
  {
   "cell_type": "markdown",
   "id": "1278ecde",
   "metadata": {},
   "source": [
    "## Задачи посложнее"
   ]
  },
  {
   "cell_type": "markdown",
   "id": "7ed361c8",
   "metadata": {},
   "source": [
    "### Задача 27\n",
    "\n",
    "Для каждого человека посчитать с какой периодичностью он приходит в магазин.\n",
    "\n",
    "Для этого для каждого customer_id, который был у нас 2 и более раз (для него было 2 чека и более) вычтите из даты последнего посещения дату первого посещения, и разделите это значение на число посещений. \n",
    "Полученную колонку назовите mean_period. Округлите значение до числа дней, и сохраните как целое число\n",
    "\n",
    "Индекс в таблице должен быть стандартный"
   ]
  },
  {
   "cell_type": "code",
   "execution_count": null,
   "id": "b58c7904",
   "metadata": {},
   "outputs": [],
   "source": [
    "# таблица sales - большая, и в некоторых случаях ваш компьютер может не справиться с ее обработкой\n",
    "# поэтому лучше работайте с частью этой таблицы\n",
    "# но если вы хотите попробовать поработать с полной версией таблицы,\n",
    "# можете заменить переменную path_sales_sample на path_sales внутри функции read_parquet\n",
    "\n",
    "import os\n",
    "import pandas as pd\n",
    "\n",
    "path_sales_sample = '../tables/sales_sample.parquet' if os.path.exists('../tables/sales_sample.parquet') else 'https://drive.google.com/uc?id=1BgxAxPauzC4LObY3N65PgAvnU3f5QRj2'\n",
    "# path_sales = '../tables/sales.parquet' if os.path.exists('../tables/sales.parquet') else \"https://drive.usercontent.google.com/download?id=15KwSxyM6hpNABGe6_vsrFZvD09VfHFyK&export=download&authuser=1&confirm=t&uuid=115bd48c-cc2c-4f2a-8b42-be5ca6ef6db8&at=APZUnTUVb8nfNANw5wr9Cad7PJ3U:1693327774694\"\n",
    "\n",
    "sales = pd.read_parquet(path_sales_sample)\n",
    "sales.head()"
   ]
  },
  {
   "cell_type": "code",
   "execution_count": null,
   "id": "d96fbe58",
   "metadata": {},
   "outputs": [],
   "source": [
    "# напишите свой код здесь"
   ]
  },
  {
   "cell_type": "markdown",
   "id": "e06603e2",
   "metadata": {},
   "source": [
    "### Задача 28\n",
    "\n",
    "Посчитайте для каждого месяца и каждого магазина какой процент клиентов возвращается в магазин в течение следующих 6 месяцев"
   ]
  },
  {
   "cell_type": "code",
   "execution_count": null,
   "id": "d972c554",
   "metadata": {},
   "outputs": [],
   "source": [
    "import os\n",
    "import pandas as pd\n",
    "\n",
    "path_sales_sample = '../tables/sales_sample.parquet' if os.path.exists('../tables/sales_sample.parquet') else 'https://drive.google.com/uc?id=1BgxAxPauzC4LObY3N65PgAvnU3f5QRj2'\n",
    "# path_sales = '../tables/sales.parquet' if os.path.exists('../tables/sales.parquet') else \"https://drive.usercontent.google.com/download?id=15KwSxyM6hpNABGe6_vsrFZvD09VfHFyK&export=download&authuser=1&confirm=t&uuid=115bd48c-cc2c-4f2a-8b42-be5ca6ef6db8&at=APZUnTUVb8nfNANw5wr9Cad7PJ3U:1693327774694\"\n",
    "\n",
    "sales = pd.read_parquet(path_sales_sample)\n",
    "sales.head()"
   ]
  },
  {
   "cell_type": "code",
   "execution_count": null,
   "id": "06ea4a91",
   "metadata": {},
   "outputs": [],
   "source": [
    "# напишите свой код здесь"
   ]
  },
  {
   "cell_type": "markdown",
   "id": "6a675c5c",
   "metadata": {},
   "source": [
    "### Задача 29\n",
    "\n",
    "На конец каждого месяца посчитайте, сколько уникальных клиентов в пришло в магазины а так же, какой процент клиентов приходил 2 и более раза за месяц"
   ]
  },
  {
   "cell_type": "code",
   "execution_count": null,
   "id": "134641de",
   "metadata": {},
   "outputs": [],
   "source": [
    "import os\n",
    "import pandas as pd\n",
    "\n",
    "path_sales_sample = '../tables/sales_sample.parquet' if os.path.exists('../tables/sales_sample.parquet') else 'https://drive.google.com/uc?id=1BgxAxPauzC4LObY3N65PgAvnU3f5QRj2'\n",
    "# path_sales = '../tables/sales.parquet' if os.path.exists('../tables/sales.parquet') else \"https://drive.usercontent.google.com/download?id=15KwSxyM6hpNABGe6_vsrFZvD09VfHFyK&export=download&authuser=1&confirm=t&uuid=115bd48c-cc2c-4f2a-8b42-be5ca6ef6db8&at=APZUnTUVb8nfNANw5wr9Cad7PJ3U:1693327774694\"\n",
    "\n",
    "sales = pd.read_parquet(path_sales_sample)\n",
    "sales.head()"
   ]
  },
  {
   "cell_type": "code",
   "execution_count": null,
   "id": "b46c471b",
   "metadata": {},
   "outputs": [],
   "source": [
    "# напишите свой код здесь"
   ]
  },
  {
   "cell_type": "markdown",
   "id": "d5e4d201",
   "metadata": {},
   "source": [
    "### Задача 30\n",
    "\n",
    "Найти людей, которые 3 и более раз делали 2 и более покупок за день (у покупателя должно быть 2 и более чека за день 3 раза)"
   ]
  },
  {
   "cell_type": "code",
   "execution_count": null,
   "id": "f1ae7402",
   "metadata": {},
   "outputs": [],
   "source": [
    "import os\n",
    "import pandas as pd\n",
    "\n",
    "path_sales_sample = '../tables/sales_sample.parquet' if os.path.exists('../tables/sales_sample.parquet') else 'https://drive.google.com/uc?id=1BgxAxPauzC4LObY3N65PgAvnU3f5QRj2'\n",
    "# path_sales = '../tables/sales.parquet' if os.path.exists('../tables/sales.parquet') else \"https://drive.usercontent.google.com/download?id=15KwSxyM6hpNABGe6_vsrFZvD09VfHFyK&export=download&authuser=1&confirm=t&uuid=115bd48c-cc2c-4f2a-8b42-be5ca6ef6db8&at=APZUnTUVb8nfNANw5wr9Cad7PJ3U:1693327774694\"\n",
    "\n",
    "sales = pd.read_parquet(path_sales_sample)\n",
    "sales.head()"
   ]
  },
  {
   "cell_type": "code",
   "execution_count": null,
   "id": "dc87281f",
   "metadata": {},
   "outputs": [],
   "source": [
    "# напишите свой код здесь"
   ]
  },
  {
   "cell_type": "markdown",
   "id": "360af610",
   "metadata": {},
   "source": [
    "### Задача 31\n",
    "\n",
    "Для сотрудников, которые увольнялись и приходили обратно посчитать среднее число дней, через которое они возвращались. (если таких увольнений и приходов было несколько)"
   ]
  },
  {
   "cell_type": "code",
   "execution_count": null,
   "id": "e624373b",
   "metadata": {},
   "outputs": [],
   "source": [
    "import os\n",
    "import pandas as pd\n",
    "\n",
    "path_events = '../tables/events.parquet' if os.path.exists('../tables/events.parquet') else 'https://drive.google.com/uc?id=1Phn06U4-BI0XqtYAgtlM6IuoXRIAGQlO'\n",
    "\n",
    "events = pd.read_parquet(path_events)\n",
    "events.head()"
   ]
  },
  {
   "cell_type": "code",
   "execution_count": null,
   "id": "cde3aba1",
   "metadata": {},
   "outputs": [],
   "source": [
    "# напишите свой код здесь"
   ]
  },
  {
   "cell_type": "markdown",
   "id": "d6c46c2a",
   "metadata": {},
   "source": [
    "### Задача 32\n",
    "\n",
    "Посчитайте, какое количество товаров пробил каждый продавец за каждый месяц. Затем посчитайте долю товаров, которую пробил каждый продавец среди общего числа пробитых товаров по магазину в месяц."
   ]
  },
  {
   "cell_type": "code",
   "execution_count": null,
   "id": "071751f0",
   "metadata": {},
   "outputs": [],
   "source": [
    "# таблица sales - большая, и в некоторых случаях ваш компьютер может не справиться с ее обработкой\n",
    "# поэтому лучше работайте с частью этой таблицы\n",
    "# но если вы хотите попробовать поработать с полной версией таблицы,\n",
    "# можете заменить переменную path_sales_2022 на path_sales внутри функции read_parquet\n",
    "\n",
    "import os\n",
    "import pandas as pd\n",
    "\n",
    "path_sales_2022 = '../tables/sales_2022.parquet' if os.path.exists('../tables/sales_2022.parquet') else 'https://drive.google.com/uc?id=17e7FwXVdsWc2aziK9s5KidIvPcfKt9F5'\n",
    "# path_sales = '../tables/sales.parquet' if os.path.exists('../tables/sales.parquet') else \"https://drive.usercontent.google.com/download?id=15KwSxyM6hpNABGe6_vsrFZvD09VfHFyK&export=download&authuser=1&confirm=t&uuid=115bd48c-cc2c-4f2a-8b42-be5ca6ef6db8&at=APZUnTUVb8nfNANw5wr9Cad7PJ3U:1693327774694\"\n",
    "\n",
    "sales = pd.read_parquet(path_sales_2022)\n",
    "sales.head()"
   ]
  },
  {
   "cell_type": "code",
   "execution_count": null,
   "id": "9e5e88cc",
   "metadata": {},
   "outputs": [],
   "source": [
    "# напишите свой код здесь"
   ]
  },
  {
   "cell_type": "markdown",
   "id": "5832f29d",
   "metadata": {},
   "source": [
    "### Задача 33\n",
    "\n",
    "Найдите товары, у которых разные цвета стоят по-разному"
   ]
  },
  {
   "cell_type": "code",
   "execution_count": null,
   "id": "e59368fe",
   "metadata": {},
   "outputs": [],
   "source": [
    "import os\n",
    "import pandas as pd\n",
    "\n",
    "path_goods_descr = '../tables/goods_description.parquet' if os.path.exists('../tables/goods_description.parquet') else 'https://drive.google.com/uc?id=1YbiD02Rev-X_WWV9nPSG1zZFmEh2JjPh'\n",
    "\n",
    "goods_descr = pd.read_parquet(path_goods_descr)\n",
    "goods_descr.head()"
   ]
  },
  {
   "cell_type": "code",
   "execution_count": null,
   "id": "482eda80",
   "metadata": {},
   "outputs": [],
   "source": [
    "path_prices = '../tables/prices.parquet' if os.path.exists('../tables/prices.parquet') else 'https://drive.google.com/uc?id=1_KfYyYCsib8woanbP3VouLUpYp103dV5'\n",
    "\n",
    "prices = pd.read_parquet(path_prices)\n",
    "prices.head()"
   ]
  },
  {
   "cell_type": "code",
   "execution_count": null,
   "id": "cc7e8e8f",
   "metadata": {},
   "outputs": [],
   "source": [
    "# напишите свой код здесь"
   ]
  },
  {
   "cell_type": "markdown",
   "id": "15c29eda",
   "metadata": {},
   "source": [
    "### Задача 34\n",
    "\n",
    "Для каждого руководителя посчитайте число подчиненных за каждый месяц (по колонке closest_boss_id), затем усредните результат для каждого руководителя"
   ]
  },
  {
   "cell_type": "code",
   "execution_count": null,
   "id": "0bd1549a",
   "metadata": {},
   "outputs": [],
   "source": [
    "import os\n",
    "import pandas as pd\n",
    "\n",
    "path_empl = '../tables/employees.parquet' if os.path.exists('../tables/employees.parquet') else 'https://drive.google.com/uc?id=1AARD5-eVlCxoApt5CYZebrC3Cqw42lvj'\n",
    "\n",
    "empl = pd.read_parquet(path_empl)\n",
    "empl.head()"
   ]
  },
  {
   "cell_type": "code",
   "execution_count": null,
   "id": "a4aa3625",
   "metadata": {},
   "outputs": [],
   "source": [
    "# напишите свой код здесь"
   ]
  },
  {
   "cell_type": "markdown",
   "id": "0eb7f940",
   "metadata": {},
   "source": [
    "### Задача 35\n",
    "\n",
    "Выбирите сотрудников, которые работают в 2 раза дольше чем в среднем по магазину"
   ]
  },
  {
   "cell_type": "code",
   "execution_count": null,
   "id": "4cf937cd",
   "metadata": {},
   "outputs": [],
   "source": [
    "import os\n",
    "import pandas as pd\n",
    "\n",
    "path_empl = '../tables/employees.parquet' if os.path.exists('../tables/employees.parquet') else 'https://drive.google.com/uc?id=1AARD5-eVlCxoApt5CYZebrC3Cqw42lvj'\n",
    "\n",
    "empl = pd.read_parquet(path_empl)\n",
    "empl.head()"
   ]
  },
  {
   "cell_type": "code",
   "execution_count": null,
   "id": "bdf20e8b",
   "metadata": {},
   "outputs": [],
   "source": [
    "path_events = '../tables/events.parquet' if os.path.exists('../tables/events.parquet') else 'https://drive.google.com/uc?id=1Phn06U4-BI0XqtYAgtlM6IuoXRIAGQlO'\n",
    "\n",
    "events = pd.read_parquet(path_events)\n",
    "events.head()"
   ]
  },
  {
   "cell_type": "code",
   "execution_count": null,
   "id": "84ad49d7",
   "metadata": {},
   "outputs": [],
   "source": [
    "# напишите свой код здесь"
   ]
  },
  {
   "cell_type": "markdown",
   "id": "c64c7a27",
   "metadata": {},
   "source": [
    "### Задача 36\n",
    "\n",
    "Найти людей, которые приобретали один и тот же товар (product_id), но в разных чеках"
   ]
  },
  {
   "cell_type": "code",
   "execution_count": null,
   "id": "d46f0c52",
   "metadata": {},
   "outputs": [],
   "source": [
    "# таблица sales - большая, и в некоторых случаях ваш компьютер может не справиться с ее обработкой\n",
    "# поэтому лучше работайте с частью этой таблицы\n",
    "# но если вы хотите попробовать поработать с полной версией таблицы,\n",
    "# можете заменить переменную path_sales_2022 на path_sales внутри функции read_parquet\n",
    "\n",
    "import os\n",
    "import pandas as pd\n",
    "\n",
    "path_sales_2022 = '../tables/sales_2022.parquet' if os.path.exists('../tables/sales_2022.parquet') else 'https://drive.google.com/uc?id=17e7FwXVdsWc2aziK9s5KidIvPcfKt9F5'\n",
    "# path_sales = '../tables/sales.parquet' if os.path.exists('../tables/sales.parquet') else \"https://drive.usercontent.google.com/download?id=15KwSxyM6hpNABGe6_vsrFZvD09VfHFyK&export=download&authuser=1&confirm=t&uuid=115bd48c-cc2c-4f2a-8b42-be5ca6ef6db8&at=APZUnTUVb8nfNANw5wr9Cad7PJ3U:1693327774694\"\n",
    "\n",
    "sales = pd.read_parquet(path_sales_2022)\n",
    "sales.head()"
   ]
  },
  {
   "cell_type": "code",
   "execution_count": null,
   "id": "25047996",
   "metadata": {},
   "outputs": [],
   "source": [
    "# напишите свой код здесь"
   ]
  },
  {
   "cell_type": "markdown",
   "id": "7f3fac68",
   "metadata": {},
   "source": [
    "### Задача 37\n",
    "\n",
    "Выведете имена 5 самых результативных продовцов-консультантов, которые помогли заработать магазину больше всего денег"
   ]
  },
  {
   "cell_type": "code",
   "execution_count": null,
   "id": "684ed346",
   "metadata": {},
   "outputs": [],
   "source": [
    "# таблица sales - большая, и в некоторых случаях ваш компьютер может не справиться с ее обработкой\n",
    "# поэтому лучше работайте с частью этой таблицы\n",
    "# но если вы хотите попробовать поработать с полной версией таблицы,\n",
    "# можете заменить переменную path_sales_2022 на path_sales внутри функции read_parquet\n",
    "\n",
    "import os\n",
    "import pandas as pd\n",
    "\n",
    "path_sales_2022 = '../tables/sales_2022.parquet' if os.path.exists('../tables/sales_2022.parquet') else 'https://drive.google.com/uc?id=17e7FwXVdsWc2aziK9s5KidIvPcfKt9F5'\n",
    "# path_sales = '../tables/sales.parquet' if os.path.exists('../tables/sales.parquet') else \"https://drive.usercontent.google.com/download?id=15KwSxyM6hpNABGe6_vsrFZvD09VfHFyK&export=download&authuser=1&confirm=t&uuid=115bd48c-cc2c-4f2a-8b42-be5ca6ef6db8&at=APZUnTUVb8nfNANw5wr9Cad7PJ3U:1693327774694\"\n",
    "\n",
    "sales = pd.read_parquet(path_sales_2022)\n",
    "sales.head()"
   ]
  },
  {
   "cell_type": "code",
   "execution_count": null,
   "id": "a794bdc4",
   "metadata": {},
   "outputs": [],
   "source": [
    "path_empl = '../tables/employees.parquet' if os.path.exists('../tables/employees.parquet') else 'https://drive.google.com/uc?id=1AARD5-eVlCxoApt5CYZebrC3Cqw42lvj'\n",
    "\n",
    "empl = pd.read_parquet(path_empl)\n",
    "empl.head()"
   ]
  },
  {
   "cell_type": "code",
   "execution_count": null,
   "id": "75a4fd02",
   "metadata": {},
   "outputs": [],
   "source": [
    "# напишите свой код здесь"
   ]
  },
  {
   "cell_type": "markdown",
   "id": "94d3072c",
   "metadata": {},
   "source": [
    "### Задача 38\n",
    "\n",
    "По каждой категории (product_type) и каждому бренду найти насколько средняя цена на мужские товары отличается от средней цены на женские товары. \n",
    "\n",
    "Для этого сделайте группировку по product_code_2, и выкините дубликаты, чтобы разные размеры учитывались как один товар"
   ]
  },
  {
   "cell_type": "code",
   "execution_count": null,
   "id": "17e29d7c",
   "metadata": {},
   "outputs": [],
   "source": [
    "import os\n",
    "import pandas as pd\n",
    "\n",
    "path_goods_descr = '../tables/goods_description.parquet' if os.path.exists('../tables/goods_description.parquet') else 'https://drive.google.com/uc?id=1YbiD02Rev-X_WWV9nPSG1zZFmEh2JjPh'\n",
    "\n",
    "goods_descr = pd.read_parquet(path_goods_descr)\n",
    "goods_descr.head()"
   ]
  },
  {
   "cell_type": "code",
   "execution_count": null,
   "id": "f82017fc",
   "metadata": {},
   "outputs": [],
   "source": [
    "path_prices = '../tables/prices.parquet' if os.path.exists('../tables/prices.parquet') else 'https://drive.google.com/uc?id=1_KfYyYCsib8woanbP3VouLUpYp103dV5'\n",
    "\n",
    "prices = pd.read_parquet(path_prices)\n",
    "prices.head()"
   ]
  },
  {
   "cell_type": "code",
   "execution_count": null,
   "id": "7cd98e6f",
   "metadata": {},
   "outputs": [],
   "source": [
    "# напишите свой код здесь"
   ]
  },
  {
   "cell_type": "markdown",
   "id": "f6c6056e",
   "metadata": {},
   "source": [
    "### Задача 39\n",
    "\n",
    "Товары с каким цветом стоят дороже всего (не учитывайте размер товара)?"
   ]
  },
  {
   "cell_type": "code",
   "execution_count": null,
   "id": "077d7751",
   "metadata": {},
   "outputs": [],
   "source": [
    "import os\n",
    "import pandas as pd\n",
    "\n",
    "path_goods_descr = '../tables/goods_description.parquet' if os.path.exists('../tables/goods_description.parquet') else 'https://drive.google.com/uc?id=1YbiD02Rev-X_WWV9nPSG1zZFmEh2JjPh'\n",
    "\n",
    "goods_descr = pd.read_parquet(path_goods_descr)\n",
    "goods_descr.head()"
   ]
  },
  {
   "cell_type": "code",
   "execution_count": null,
   "id": "a0db0a8e",
   "metadata": {},
   "outputs": [],
   "source": [
    "# напишите свой код здесь"
   ]
  },
  {
   "cell_type": "markdown",
   "id": "90119956",
   "metadata": {},
   "source": [
    "### Задача 40\n",
    "\n",
    "Найдите сотрудников которым ни разу не повышали зарплату"
   ]
  },
  {
   "cell_type": "code",
   "execution_count": null,
   "id": "7a00dc2e",
   "metadata": {},
   "outputs": [],
   "source": [
    "import os\n",
    "import pandas as pd\n",
    "\n",
    "path_empl = '../tables/employees.parquet' if os.path.exists('../tables/employees.parquet') else 'https://drive.google.com/uc?id=1AARD5-eVlCxoApt5CYZebrC3Cqw42lvj'\n",
    "\n",
    "empl = pd.read_parquet(path_empl)\n",
    "empl.head()"
   ]
  },
  {
   "cell_type": "code",
   "execution_count": null,
   "id": "1962adca",
   "metadata": {},
   "outputs": [],
   "source": [
    "path_events = '../tables/events.parquet' if os.path.exists('../tables/events.parquet') else 'https://drive.google.com/uc?id=1Phn06U4-BI0XqtYAgtlM6IuoXRIAGQlO'\n",
    "\n",
    "events = pd.read_parquet(path_events)\n",
    "events.head()"
   ]
  },
  {
   "cell_type": "code",
   "execution_count": null,
   "id": "6c60d503",
   "metadata": {},
   "outputs": [],
   "source": [
    "# напишите свой код здесь"
   ]
  },
  {
   "attachments": {
    "image.png": {
     "image/png": "[encoded data removed]"
    }
   },
   "cell_type": "markdown",
   "id": "0203b122",
   "metadata": {},
   "source": [
    "### Задача 41\n",
    "\n",
    "Существует формула, согласно которой общая дисперсия (посчитанная по всей выборке) равна среднему внутригруповых дисперсий (дисперсия посчитанных по каждой группе) сложенному с межгруповой дисперсией (дисперсией внутригрупповых средних).\n",
    "\n",
    "![image.png](attachment:image.png)\n",
    "\n",
    "E - это среднее\n",
    "\n",
    "D - это дисперсия\n",
    "\n",
    "Иными словами дисперсия равна среднему условных дисперсий (условная дисперсия это дисперсия внутри группы) плюс дисперсии средних значений по каждой группе\n",
    "\n",
    "Проверьте этот факт на примере стоимости товаров разных категорий, на 31 декабря 2022 года.\n",
    "\n",
    "Объясните почему дисперсии не сходятся, и что нужно сделать, чтобы они сходились?"
   ]
  },
  {
   "cell_type": "code",
   "execution_count": null,
   "id": "4d049b3d",
   "metadata": {},
   "outputs": [],
   "source": [
    "import os\n",
    "import pandas as pd\n",
    "\n",
    "path_goods_descr = '../tables/goods_description.parquet' if os.path.exists('../tables/goods_description.parquet') else 'https://drive.google.com/uc?id=1YbiD02Rev-X_WWV9nPSG1zZFmEh2JjPh'\n",
    "\n",
    "goods_descr = pd.read_parquet(path_goods_descr)\n",
    "goods_descr.head()"
   ]
  },
  {
   "cell_type": "code",
   "execution_count": null,
   "id": "cb59c60c",
   "metadata": {},
   "outputs": [],
   "source": [
    "path_prices = '../tables/prices.parquet' if os.path.exists('../tables/prices.parquet') else 'https://drive.google.com/uc?id=1_KfYyYCsib8woanbP3VouLUpYp103dV5'\n",
    "\n",
    "prices = pd.read_parquet(path_prices)\n",
    "prices.head()"
   ]
  },
  {
   "cell_type": "code",
   "execution_count": null,
   "id": "bf07c2c7",
   "metadata": {},
   "outputs": [],
   "source": [
    "# напишите свой код здесь"
   ]
  },
  {
   "cell_type": "markdown",
   "id": "e58983c3",
   "metadata": {},
   "source": [
    "### Задача 42\n",
    "\n",
    "Посчитайте скидку на каждый товар в чеке. Округлите значение скидки до десятков процентов. Затем для каждого размера скидки посчитайте среднюю долю таких товаров в чеке за каждый месяц.\n",
    "\n",
    "Сравните результат с таблицей prices. В ней посчитайте срденюю долю товаров за каждый месяц, продаваемых с каждым размером скидки, кругленным до десятков процентов"
   ]
  },
  {
   "cell_type": "code",
   "execution_count": null,
   "id": "d0ec1b8b",
   "metadata": {},
   "outputs": [],
   "source": [
    "# таблица sales - большая, и в некоторых случаях ваш компьютер может не справиться с ее обработкой\n",
    "# поэтому лучше работайте с частью этой таблицы\n",
    "# но если вы хотите попробовать поработать с полной версией таблицы,\n",
    "# можете заменить переменную path_sales_sample на path_sales внутри функции read_parquet\n",
    "\n",
    "import os\n",
    "import pandas as pd\n",
    "\n",
    "path_sales_sample = '../tables/sales_sample.parquet' if os.path.exists('../tables/sales_sample.parquet') else 'https://drive.google.com/uc?id=1BgxAxPauzC4LObY3N65PgAvnU3f5QRj2'\n",
    "# path_sales = '../tables/sales.parquet' if os.path.exists('../tables/sales.parquet') else \"https://drive.usercontent.google.com/download?id=15KwSxyM6hpNABGe6_vsrFZvD09VfHFyK&export=download&authuser=1&confirm=t&uuid=115bd48c-cc2c-4f2a-8b42-be5ca6ef6db8&at=APZUnTUVb8nfNANw5wr9Cad7PJ3U:1693327774694\"\n",
    "\n",
    "sales = pd.read_parquet(path_sales_sample)\n",
    "sales.head()"
   ]
  },
  {
   "cell_type": "code",
   "execution_count": null,
   "id": "9332c9a9",
   "metadata": {},
   "outputs": [],
   "source": [
    "path_prices = '../tables/prices.parquet' if os.path.exists('../tables/prices.parquet') else 'https://drive.google.com/uc?id=1_KfYyYCsib8woanbP3VouLUpYp103dV5'\n",
    "\n",
    "prices = pd.read_parquet(path_prices)\n",
    "prices.head()"
   ]
  },
  {
   "cell_type": "code",
   "execution_count": null,
   "id": "b04bba19",
   "metadata": {},
   "outputs": [],
   "source": [
    "# напишите свой код здесь"
   ]
  },
  {
   "cell_type": "markdown",
   "id": "72131d85",
   "metadata": {},
   "source": [
    "### Задача 43\n",
    "\n",
    "Найти чеки в которых люди пукупали один и тот же товар, но разных размеров, посчитать процент таких чеков\n",
    "\n",
    "Колонки product_code_ содержат артикулы товаров\n",
    "\n",
    "В колонке product_code_3 - каждый размер имеет уникальный артикул\n",
    "\n",
    "В колонке product_code_2 - каждый цвет имеет уникальный артирул, но при этом у товаров с разным размером он одинаковый\n",
    "\n",
    "В колонке product_code_2 - артикул товара. Одинаковые товары разных цветов и размеров имеют одинаковый артикул"
   ]
  },
  {
   "cell_type": "code",
   "execution_count": null,
   "id": "cc88e803",
   "metadata": {},
   "outputs": [],
   "source": [
    "# таблица sales - большая, и в некоторых случаях ваш компьютер может не справиться с ее обработкой\n",
    "# поэтому лучше работайте с частью этой таблицы\n",
    "# но если вы хотите попробовать поработать с полной версией таблицы,\n",
    "# можете заменить переменную path_sales_sample на path_sales внутри функции read_parquet\n",
    "\n",
    "import os\n",
    "import pandas as pd\n",
    "\n",
    "path_sales_sample = '../tables/sales_sample.parquet' if os.path.exists('../tables/sales_sample.parquet') else 'https://drive.google.com/uc?id=1BgxAxPauzC4LObY3N65PgAvnU3f5QRj2'\n",
    "# path_sales = '../tables/sales.parquet' if os.path.exists('../tables/sales.parquet') else \"https://drive.usercontent.google.com/download?id=15KwSxyM6hpNABGe6_vsrFZvD09VfHFyK&export=download&authuser=1&confirm=t&uuid=115bd48c-cc2c-4f2a-8b42-be5ca6ef6db8&at=APZUnTUVb8nfNANw5wr9Cad7PJ3U:1693327774694\"\n",
    "\n",
    "sales = pd.read_parquet(path_sales_sample)\n",
    "sales.head()"
   ]
  },
  {
   "cell_type": "code",
   "execution_count": null,
   "id": "02c464a0",
   "metadata": {},
   "outputs": [],
   "source": [
    "# напишите свой код здесь"
   ]
  },
  {
   "cell_type": "markdown",
   "id": "0ef5544a",
   "metadata": {},
   "source": [
    "### Задача 44\n",
    "\n",
    "Найдите долю покупателей и товары, которые покупали один и тот же товар, но в разных цветах. Необходимо вывести id покупателя product_code_3 (соотвественно у каждого покупателя будет несколько строк)\n",
    "\n",
    "Колонки product_code_ содержат артикулы товаров\n",
    "\n",
    "В колонке product_code_3 - каждый размер имеет уникальный артикул\n",
    "\n",
    "В колонке product_code_2 - каждый цвет имеет уникальный артирул, но при этом у товаров с разным размером он одинаковый\n",
    "\n",
    "В колонке product_code_2 - артикул товара. Одинаковые товары разных цветов и размеров имеют одинаковый артикул"
   ]
  },
  {
   "cell_type": "code",
   "execution_count": null,
   "id": "54795505",
   "metadata": {},
   "outputs": [],
   "source": [
    "# таблица sales - большая, и в некоторых случаях ваш компьютер может не справиться с ее обработкой\n",
    "# поэтому лучше работайте с частью этой таблицы\n",
    "# но если вы хотите попробовать поработать с полной версией таблицы,\n",
    "# можете заменить переменную path_sales_sample на path_sales внутри функции read_parquet\n",
    "\n",
    "import os\n",
    "import pandas as pd\n",
    "\n",
    "path_sales_sample = '../tables/sales_sample.parquet' if os.path.exists('../tables/sales_sample.parquet') else 'https://drive.google.com/uc?id=1BgxAxPauzC4LObY3N65PgAvnU3f5QRj2'\n",
    "# path_sales = '../tables/sales.parquet' if os.path.exists('../tables/sales.parquet') else \"https://drive.usercontent.google.com/download?id=15KwSxyM6hpNABGe6_vsrFZvD09VfHFyK&export=download&authuser=1&confirm=t&uuid=115bd48c-cc2c-4f2a-8b42-be5ca6ef6db8&at=APZUnTUVb8nfNANw5wr9Cad7PJ3U:1693327774694\"\n",
    "\n",
    "sales = pd.read_parquet(path_sales_sample)\n",
    "sales.head()"
   ]
  },
  {
   "cell_type": "code",
   "execution_count": null,
   "id": "0ef47b9e",
   "metadata": {},
   "outputs": [],
   "source": [
    "path_goods_descr = '../tables/goods_description.parquet' if os.path.exists('../tables/goods_description.parquet') else 'https://drive.google.com/uc?id=1YbiD02Rev-X_WWV9nPSG1zZFmEh2JjPh'\n",
    "\n",
    "goods_descr = pd.read_parquet(path_goods_descr)\n",
    "goods_descr.head()"
   ]
  },
  {
   "cell_type": "code",
   "execution_count": null,
   "id": "4c5d8615",
   "metadata": {},
   "outputs": [],
   "source": [
    "# напишите свой код здесь"
   ]
  },
  {
   "cell_type": "markdown",
   "id": "24356421",
   "metadata": {},
   "source": [
    "### Задача 45\n",
    "\n",
    "Для каждого покупателя посчитайте долю мужских и женских вещей в купленной одежде. Если человек купил более 70% мужских товаров, то отметьте его как мужчину, если более 70% его вещей женские, то как женщину. "
   ]
  },
  {
   "cell_type": "code",
   "execution_count": null,
   "id": "70fbf2f5",
   "metadata": {},
   "outputs": [],
   "source": [
    "# таблица sales - большая, и в некоторых случаях ваш компьютер может не справиться с ее обработкой\n",
    "# поэтому лучше работайте с частью этой таблицы\n",
    "# но если вы хотите попробовать поработать с полной версией таблицы,\n",
    "# можете заменить переменную path_sales_2022 на path_sales внутри функции read_parquet\n",
    "\n",
    "import os\n",
    "import pandas as pd\n",
    "\n",
    "path_sales_2022 = '../tables/sales_2022.parquet' if os.path.exists('../tables/sales_2022.parquet') else 'https://drive.google.com/uc?id=17e7FwXVdsWc2aziK9s5KidIvPcfKt9F5'\n",
    "# path_sales = '../tables/sales.parquet' if os.path.exists('../tables/sales.parquet') else \"https://drive.usercontent.google.com/download?id=15KwSxyM6hpNABGe6_vsrFZvD09VfHFyK&export=download&authuser=1&confirm=t&uuid=115bd48c-cc2c-4f2a-8b42-be5ca6ef6db8&at=APZUnTUVb8nfNANw5wr9Cad7PJ3U:1693327774694\"\n",
    "\n",
    "sales = pd.read_parquet(path_sales_2022)\n",
    "sales.head()"
   ]
  },
  {
   "cell_type": "code",
   "execution_count": null,
   "id": "d3d97275",
   "metadata": {},
   "outputs": [],
   "source": [
    "path_goods_descr = '../tables/goods_description.parquet' if os.path.exists('../tables/goods_description.parquet') else 'https://drive.google.com/uc?id=1YbiD02Rev-X_WWV9nPSG1zZFmEh2JjPh'\n",
    "\n",
    "goods_descr = pd.read_parquet(path_goods_descr)\n",
    "goods_descr.head()"
   ]
  },
  {
   "cell_type": "code",
   "execution_count": null,
   "id": "236c96dc",
   "metadata": {},
   "outputs": [],
   "source": [
    "# напишите свой код здесь"
   ]
  },
  {
   "cell_type": "markdown",
   "id": "658a9005",
   "metadata": {},
   "source": [
    "### Задача 46\n",
    "\n",
    "Возьмите каждую категорию и закодируйте день года, в который товар был продан, синусом и косинусом так, чтобы 15 января косинус равнялся единице, а 15 июля минус единице. Через синус закодируйте день покупки так, чтобы 15 января и 15 июля он равнялся нулю, а весной и осенью он принимал значения 1 и -1.\n",
    "\n",
    "Тогда у летних товаров средний косинус дня продажи будет около около -1, а у зимних около 1, у весенних и осенних косинус будет близок к нулю. Синус будет говорить о том, что тавар осенний или весенний. \n",
    "\n",
    "Вычислите средний синус и средний косинус для для продажи каждой категории (product_type).\n",
    "\n",
    "Можете попробовать по-другому закодировать даты, чтобы сезонность товаров была более интрепретируемой."
   ]
  },
  {
   "cell_type": "code",
   "execution_count": null,
   "id": "71626b53",
   "metadata": {},
   "outputs": [],
   "source": [
    "# таблица sales - большая, и в некоторых случаях ваш компьютер может не справиться с ее обработкой\n",
    "# поэтому лучше работайте с частью этой таблицы\n",
    "# но если вы хотите попробовать поработать с полной версией таблицы,\n",
    "# можете заменить переменную path_sales_sample на path_sales внутри функции read_parquet\n",
    "\n",
    "import os\n",
    "import pandas as pd\n",
    "\n",
    "path_sales_sample = '../tables/sales_sample.parquet' if os.path.exists('../tables/sales_sample.parquet') else 'https://drive.google.com/uc?id=1BgxAxPauzC4LObY3N65PgAvnU3f5QRj2'\n",
    "# path_sales = '../tables/sales.parquet' if os.path.exists('../tables/sales.parquet') else \"https://drive.usercontent.google.com/download?id=15KwSxyM6hpNABGe6_vsrFZvD09VfHFyK&export=download&authuser=1&confirm=t&uuid=115bd48c-cc2c-4f2a-8b42-be5ca6ef6db8&at=APZUnTUVb8nfNANw5wr9Cad7PJ3U:1693327774694\"\n",
    "\n",
    "sales = pd.read_parquet(path_sales_sample)\n",
    "sales.head()"
   ]
  },
  {
   "cell_type": "code",
   "execution_count": null,
   "id": "3d5fca03",
   "metadata": {},
   "outputs": [],
   "source": [
    "path_goods_descr = '../tables/goods_description.parquet' if os.path.exists('../tables/goods_description.parquet') else 'https://drive.google.com/uc?id=1YbiD02Rev-X_WWV9nPSG1zZFmEh2JjPh'\n",
    "\n",
    "goods_descr = pd.read_parquet(path_goods_descr)\n",
    "goods_descr.head()"
   ]
  },
  {
   "cell_type": "code",
   "execution_count": null,
   "id": "e3db5065",
   "metadata": {},
   "outputs": [],
   "source": [
    "# напишите свой код здесь"
   ]
  },
  {
   "cell_type": "markdown",
   "id": "354e8dfb",
   "metadata": {},
   "source": [
    "### Задача 47\n",
    "\n",
    "Посчитайте инфляцию за период с 31 декабря 2015 года по 31 декабря 2022 года. Для этого сначала для каждого товара и каждого месяца посчитайте изменение цены за каждый месяц (при условии что товар продавался в двух месяцах). Затем найдите инфляцию для каждого месяца. Чтобы посчитать инфляцию за все периоды перемножьте полученные значения"
   ]
  },
  {
   "cell_type": "code",
   "execution_count": null,
   "id": "04ea9679",
   "metadata": {},
   "outputs": [],
   "source": [
    "import os\n",
    "import pandas as pd\n",
    "\n",
    "path_prices = '../tables/prices.parquet' if os.path.exists('../tables/prices.parquet') else 'https://drive.google.com/uc?id=1_KfYyYCsib8woanbP3VouLUpYp103dV5'\n",
    "\n",
    "prices = pd.read_parquet(path_prices)\n",
    "prices.head()"
   ]
  },
  {
   "cell_type": "code",
   "execution_count": null,
   "id": "65d7f921",
   "metadata": {},
   "outputs": [],
   "source": [
    "# напишите свой код здесь"
   ]
  },
  {
   "cell_type": "markdown",
   "id": "b987908e",
   "metadata": {},
   "source": [
    "### Задача 48\n",
    "\n",
    "Найдите категории товаров в которых процент мужских вещей примерно равен проценту женских. \n",
    "\n",
    "Вывидите название категорий, процент мужских товаров в них и процент женских товаров. Таблицу отсортируйте так чтобы категории, внутри которых доля мужских и женских товаров примерно равна находились выше всего"
   ]
  },
  {
   "cell_type": "code",
   "execution_count": null,
   "id": "d9f32458",
   "metadata": {},
   "outputs": [],
   "source": [
    "import os\n",
    "import pandas as pd\n",
    "\n",
    "path_goods_descr = '../tables/goods_description.parquet' if os.path.exists('../tables/goods_description.parquet') else 'https://drive.google.com/uc?id=1YbiD02Rev-X_WWV9nPSG1zZFmEh2JjPh'\n",
    "\n",
    "goods_descr = pd.read_parquet(path_goods_descr)\n",
    "goods_descr.head()"
   ]
  },
  {
   "cell_type": "code",
   "execution_count": null,
   "id": "7b2a00e7",
   "metadata": {},
   "outputs": [],
   "source": [
    "# напишите свой код здесь"
   ]
  },
  {
   "cell_type": "markdown",
   "id": "52ad2be9",
   "metadata": {},
   "source": [
    "### Задача 49\n",
    "\n",
    "Посчитайте суммарную зарплату сотрудников каждого магазина за каждый месяц. Зарплата для нанятых и уволившихся внутри месяца сотрудников расчитывается, как зарплата умноженная на число дней в месяце, когда сотрудники работали и деленная на число дней в месяце. Точно так же считайте зарплату для сотрудников, которым ее повышали."
   ]
  },
  {
   "cell_type": "code",
   "execution_count": null,
   "id": "08d4e41e",
   "metadata": {},
   "outputs": [],
   "source": [
    "import os\n",
    "import pandas as pd\n",
    "\n",
    "path_events = '../tables/events.parquet' if os.path.exists('../tables/events.parquet') else 'https://drive.google.com/uc?id=1Phn06U4-BI0XqtYAgtlM6IuoXRIAGQlO'\n",
    "\n",
    "events = pd.read_parquet(path_events)\n",
    "events.head()"
   ]
  },
  {
   "cell_type": "code",
   "execution_count": null,
   "id": "2c38a206",
   "metadata": {},
   "outputs": [],
   "source": [
    "path_empl = '../tables/employees.parquet' if os.path.exists('../tables/employees.parquet') else 'https://drive.google.com/uc?id=1AARD5-eVlCxoApt5CYZebrC3Cqw42lvj'\n",
    "\n",
    "empl = pd.read_parquet(path_empl)\n",
    "empl.head()"
   ]
  },
  {
   "cell_type": "code",
   "execution_count": null,
   "id": "8e65a513",
   "metadata": {},
   "outputs": [],
   "source": [
    "# напишите свой код здесь"
   ]
  },
  {
   "cell_type": "markdown",
   "id": "33b40e38",
   "metadata": {},
   "source": [
    "### Задача 50\n",
    "\n",
    "Узнать среднее время поиска сотрудника на должность. Есть ставки - колонка pos_id. Когда сотрудник увольняется, ставка освобождается до тех пор пока кто-то не устроится. Необходимо найти среднее время, когда ставка пустует.\n",
    "\n",
    "P.S. Сотрудник у работает как минимум месяц на каждой должности"
   ]
  },
  {
   "cell_type": "code",
   "execution_count": null,
   "id": "07ffd42a",
   "metadata": {},
   "outputs": [],
   "source": [
    "import os\n",
    "import pandas as pd\n",
    "\n",
    "path_events = '../tables/events.parquet' if os.path.exists('../tables/events.parquet') else 'https://drive.google.com/uc?id=1Phn06U4-BI0XqtYAgtlM6IuoXRIAGQlO'\n",
    "\n",
    "events = pd.read_parquet(path_events)\n",
    "events.head()"
   ]
  },
  {
   "cell_type": "code",
   "execution_count": null,
   "id": "0fa60c5c",
   "metadata": {},
   "outputs": [],
   "source": [
    "path_empl = '../tables/employees.parquet' if os.path.exists('../tables/employees.parquet') else 'https://drive.google.com/uc?id=1AARD5-eVlCxoApt5CYZebrC3Cqw42lvj'\n",
    "\n",
    "empl = pd.read_parquet(path_empl)\n",
    "empl.head()"
   ]
  },
  {
   "cell_type": "code",
   "execution_count": null,
   "id": "93500ad0",
   "metadata": {},
   "outputs": [],
   "source": [
    "# напишите свой код здесь"
   ]
  },
  {
   "cell_type": "markdown",
   "id": "dd18bf1d",
   "metadata": {},
   "source": [
    "### Задача 51\n",
    "\n",
    "Насколько в среднем увеличиваются продажи сотрудников после повышения зп. Посчитать средннее отношение суммы и количества проданных товаров в среднем за день за 61 день до повышения зарплаты и через 61 день после повышения зарплаты"
   ]
  },
  {
   "cell_type": "code",
   "execution_count": null,
   "id": "2a07c0a0",
   "metadata": {},
   "outputs": [],
   "source": [
    "import os\n",
    "import pandas as pd\n",
    "\n",
    "path_events = '../tables/events.parquet' if os.path.exists('../tables/events.parquet') else 'https://drive.google.com/uc?id=1Phn06U4-BI0XqtYAgtlM6IuoXRIAGQlO'\n",
    "\n",
    "events = pd.read_parquet(path_events)\n",
    "events.head()"
   ]
  },
  {
   "cell_type": "code",
   "execution_count": null,
   "id": "8638c147",
   "metadata": {},
   "outputs": [],
   "source": [
    "# таблица sales - большая, и в некоторых случаях ваш компьютер может не справиться с ее обработкой\n",
    "# поэтому лучше работайте с частью этой таблицы\n",
    "# но если вы хотите попробовать поработать с полной версией таблицы,\n",
    "# можете заменить переменную path_sales_sample на path_sales внутри функции read_parquet\n",
    "\n",
    "import os\n",
    "import pandas as pd\n",
    "\n",
    "path_sales_sample = '../tables/sales_sample.parquet' if os.path.exists('../tables/sales_sample.parquet') else 'https://drive.google.com/uc?id=1BgxAxPauzC4LObY3N65PgAvnU3f5QRj2'\n",
    "# path_sales = '../tables/sales.parquet' if os.path.exists('../tables/sales.parquet') else \"https://drive.usercontent.google.com/download?id=15KwSxyM6hpNABGe6_vsrFZvD09VfHFyK&export=download&authuser=1&confirm=t&uuid=115bd48c-cc2c-4f2a-8b42-be5ca6ef6db8&at=APZUnTUVb8nfNANw5wr9Cad7PJ3U:1693327774694\"\n",
    "\n",
    "sales = pd.read_parquet(path_sales_sample)\n",
    "sales.head()"
   ]
  },
  {
   "cell_type": "code",
   "execution_count": null,
   "id": "0a2be977",
   "metadata": {},
   "outputs": [],
   "source": [
    "# напишите свой код здесь"
   ]
  },
  {
   "cell_type": "code",
   "execution_count": null,
   "id": "57ec931d",
   "metadata": {},
   "outputs": [],
   "source": []
  },
  {
   "cell_type": "code",
   "execution_count": null,
   "id": "b7dd7f21",
   "metadata": {},
   "outputs": [],
   "source": []
  },
  {
   "cell_type": "code",
   "execution_count": null,
   "id": "49096782",
   "metadata": {},
   "outputs": [],
   "source": []
  },
  {
   "cell_type": "code",
   "execution_count": null,
   "id": "452f46d7",
   "metadata": {},
   "outputs": [],
   "source": []
  },
  {
   "cell_type": "code",
   "execution_count": null,
   "id": "630971d6",
   "metadata": {},
   "outputs": [],
   "source": []
  }
 ],
 "metadata": {
  "kernelspec": {
   "display_name": "Python 3 (ipykernel)",
   "language": "python",
   "name": "python3"
  },
  "language_info": {
   "codemirror_mode": {
    "name": "ipython",
    "version": 3
   },
   "file_extension": ".py",
   "mimetype": "text/x-python",
   "name": "python",
   "nbconvert_exporter": "python",
   "pygments_lexer": "ipython3",
   "version": "3.11.6"
  }
 },
 "nbformat": 4,
 "nbformat_minor": 5
}
