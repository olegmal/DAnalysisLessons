{
 "cells": [
  {
   "cell_type": "markdown",
   "id": "e718cdc9",
   "metadata": {},
   "source": [
    "<a target=\"_blank\" href=\"https://colab.research.google.com/github/victorlymarev/pandas/blob/main/notebooks/18-nulls.ipynb\">\n",
    "  <img src=\"https://colab.research.google.com/assets/colab-badge.svg\" alt=\"Open In Colab\"/>\n",
    "</a>"
   ]
  },
  {
   "cell_type": "markdown",
   "id": "eed3933d",
   "metadata": {},
   "source": [
    "# Работа с пропусками\n",
    "#### [Ссылка на видео](https://youtu.be/nGliucmJqEo)"
   ]
  },
  {
   "cell_type": "code",
   "execution_count": null,
   "id": "1935d0d2",
   "metadata": {},
   "outputs": [],
   "source": [
    "import pandas as pd\n",
    "import os\n",
    "import numpy as np"
   ]
  },
  {
   "cell_type": "markdown",
   "id": "8ccdf7f3",
   "metadata": {},
   "source": [
    "Читаем таблицу"
   ]
  },
  {
   "cell_type": "code",
   "execution_count": null,
   "id": "bfb2fffc",
   "metadata": {},
   "outputs": [],
   "source": [
    "path_stocks = '../tables/stocks.parquet' if os.path.exists('../tables/stocks.parquet') else 'https://drive.google.com/uc?id=1weGquTtmR92mKYAeZhZCFHJjndyoSXZt'\n",
    "\n",
    "stocks = pd.read_parquet(path_stocks).asfreq('d')\n",
    "stocks.head()"
   ]
  },
  {
   "cell_type": "markdown",
   "id": "a65e90d0",
   "metadata": {},
   "source": [
    "#### Пропуски нельзя сравнивать на равенство"
   ]
  },
  {
   "cell_type": "code",
   "execution_count": null,
   "id": "4a9851bd",
   "metadata": {},
   "outputs": [],
   "source": [
    "(stocks['Цена'] == None).head()"
   ]
  },
  {
   "cell_type": "code",
   "execution_count": null,
   "id": "8fa4a741",
   "metadata": {},
   "outputs": [],
   "source": [
    "(stocks['Цена'] == np.nan).head()"
   ]
  },
  {
   "cell_type": "code",
   "execution_count": null,
   "id": "928f255f",
   "metadata": {},
   "outputs": [],
   "source": [
    "(stocks['Цена'] == pd.NA).head()"
   ]
  },
  {
   "cell_type": "markdown",
   "id": "17b51aee",
   "metadata": {},
   "source": [
    "### isna или isnull\n",
    "Методы проверяют пропущенно ли значение в ячейке"
   ]
  },
  {
   "cell_type": "code",
   "execution_count": null,
   "id": "31efd628",
   "metadata": {},
   "outputs": [],
   "source": [
    "stocks.isna().head()\n",
    "# stocks.isnull()"
   ]
  },
  {
   "cell_type": "markdown",
   "id": "f70de6be",
   "metadata": {},
   "source": [
    "### notna или notnull\n",
    "Методы проверяют заполено ли значение в ячеке"
   ]
  },
  {
   "cell_type": "code",
   "execution_count": null,
   "id": "65efc641",
   "metadata": {},
   "outputs": [],
   "source": [
    "stocks.notna().head()\n",
    "# stocks.notnull()"
   ]
  },
  {
   "cell_type": "code",
   "execution_count": null,
   "id": "79e02718",
   "metadata": {},
   "outputs": [],
   "source": []
  },
  {
   "cell_type": "code",
   "execution_count": null,
   "id": "afb431d5",
   "metadata": {},
   "outputs": [],
   "source": [
    "stocks.notna().mean()"
   ]
  },
  {
   "cell_type": "code",
   "execution_count": null,
   "id": "0467a9aa",
   "metadata": {},
   "outputs": [],
   "source": []
  },
  {
   "cell_type": "code",
   "execution_count": null,
   "id": "c60d93a3",
   "metadata": {},
   "outputs": [],
   "source": []
  },
  {
   "cell_type": "code",
   "execution_count": null,
   "id": "8dd27e8e",
   "metadata": {},
   "outputs": [],
   "source": []
  },
  {
   "cell_type": "markdown",
   "id": "0e024066",
   "metadata": {},
   "source": [
    "### dropna\n",
    "\n",
    "Метод удяляет строки в которых есть пропуск"
   ]
  },
  {
   "cell_type": "code",
   "execution_count": null,
   "id": "1475d73f",
   "metadata": {},
   "outputs": [],
   "source": [
    "stocks.dropna().head()"
   ]
  },
  {
   "cell_type": "markdown",
   "id": "6fff1e63",
   "metadata": {},
   "source": [
    "Если в параметр axis передать значение 1, то будут удаляться колонки, в которых есть пропуск"
   ]
  },
  {
   "cell_type": "code",
   "execution_count": null,
   "id": "4d08f611",
   "metadata": {},
   "outputs": [],
   "source": [
    "(stocks\n",
    "    .assign(one=1) # создаем новый столбец полнотью состоящий из единиц\n",
    "    .dropna(axis=1)\n",
    "    .head()\n",
    ")"
   ]
  },
  {
   "cell_type": "code",
   "execution_count": null,
   "id": "6ee18b10",
   "metadata": {},
   "outputs": [],
   "source": []
  },
  {
   "cell_type": "code",
   "execution_count": null,
   "id": "7893660c",
   "metadata": {},
   "outputs": [],
   "source": []
  },
  {
   "cell_type": "code",
   "execution_count": null,
   "id": "3b6e9803",
   "metadata": {},
   "outputs": [],
   "source": []
  },
  {
   "cell_type": "markdown",
   "id": "7a50a1f6",
   "metadata": {},
   "source": [
    "## fillna\n",
    "Метод для заполнения пропущенных значений"
   ]
  },
  {
   "cell_type": "code",
   "execution_count": null,
   "id": "042cb1b7",
   "metadata": {},
   "outputs": [],
   "source": [
    "# заполняем пропуски нулем\n",
    "stocks.fillna(0).head()"
   ]
  },
  {
   "cell_type": "markdown",
   "id": "61dab61a",
   "metadata": {},
   "source": [
    "#### Заполняем пропуск средним значением по столбцу"
   ]
  },
  {
   "cell_type": "code",
   "execution_count": null,
   "id": "de3fd055",
   "metadata": {},
   "outputs": [],
   "source": [
    "stocks.fillna(stocks.mean()).head()"
   ]
  },
  {
   "cell_type": "code",
   "execution_count": null,
   "id": "44ab5ee3",
   "metadata": {},
   "outputs": [],
   "source": [
    "stocks['Цена'].fillna(stocks['Цена'].mean())"
   ]
  },
  {
   "cell_type": "markdown",
   "id": "300bd84f",
   "metadata": {},
   "source": [
    "#### Заполнение ближайшим значением снизу"
   ]
  },
  {
   "cell_type": "code",
   "execution_count": null,
   "id": "470cc836",
   "metadata": {},
   "outputs": [],
   "source": [
    "from IPython.display import display_html\n",
    "from itertools import chain,cycle\n",
    "def display_side_by_side(*args,titles=cycle([''])):\n",
    "    html_str=''\n",
    "    for df,title in zip(args, chain(titles,cycle(['</br>'])) ):\n",
    "        html_str+='<th style=\"text-align:center\"><td style=\"vertical-align:top\">'\n",
    "        html_str+=f'<h2 style=\"text-align: center;\">{title}</h2>'\n",
    "        html_str+=df.to_html().replace('table','table style=\"display:inline\"')\n",
    "        html_str+='</td></th>'\n",
    "    display_html(html_str,raw=True)"
   ]
  },
  {
   "cell_type": "code",
   "execution_count": null,
   "id": "e60350d8",
   "metadata": {},
   "outputs": [],
   "source": [
    "stocks_part = stocks.loc['2021-12-24':'2022-01-04', ['Цена', 'Откр.']].sample(10, random_state=42)\n",
    "stocks_part"
   ]
  },
  {
   "cell_type": "markdown",
   "id": "c3582849",
   "metadata": {},
   "source": [
    "Даты здесь не играют никакой роли"
   ]
  },
  {
   "cell_type": "code",
   "execution_count": null,
   "id": "4a0b1496",
   "metadata": {},
   "outputs": [],
   "source": [
    "display_side_by_side(stocks_part,\n",
    "                     \n",
    "    stocks_part.fillna(method='bfill')\n",
    "                    )"
   ]
  },
  {
   "cell_type": "markdown",
   "id": "a4065f33",
   "metadata": {},
   "source": [
    "#### Заполнение ближайшим значением сверху"
   ]
  },
  {
   "cell_type": "code",
   "execution_count": null,
   "id": "100bd112",
   "metadata": {},
   "outputs": [],
   "source": [
    "display_side_by_side(stocks_part,\n",
    "                     \n",
    "    stocks_part.fillna(method='ffill')\n",
    "                    )"
   ]
  },
  {
   "cell_type": "markdown",
   "id": "d745e23f",
   "metadata": {},
   "source": [
    "#### Можно ставить пределы по заполнению значений"
   ]
  },
  {
   "cell_type": "markdown",
   "id": "fa65def6",
   "metadata": {},
   "source": [
    "Заполнились только первые 2 строчки с пропусками"
   ]
  },
  {
   "cell_type": "code",
   "execution_count": null,
   "id": "49056e3e",
   "metadata": {},
   "outputs": [],
   "source": [
    "display_side_by_side(stocks_part,\n",
    "                     \n",
    "    stocks_part.fillna(0, limit=2)\n",
    "                    )"
   ]
  },
  {
   "cell_type": "markdown",
   "id": "9853330b",
   "metadata": {},
   "source": [
    "Если указать метод, то предел будет отсчитываться от ближайшего заполненного значения"
   ]
  },
  {
   "cell_type": "code",
   "execution_count": null,
   "id": "a8f28d6a",
   "metadata": {},
   "outputs": [],
   "source": [
    "display_side_by_side(stocks_part,\n",
    "                     \n",
    "    stocks_part.fillna(method='ffill', limit=1)\n",
    "                    )"
   ]
  },
  {
   "cell_type": "code",
   "execution_count": null,
   "id": "70662654",
   "metadata": {},
   "outputs": [],
   "source": []
  },
  {
   "cell_type": "code",
   "execution_count": null,
   "id": "abdc4334",
   "metadata": {},
   "outputs": [],
   "source": []
  },
  {
   "cell_type": "code",
   "execution_count": null,
   "id": "c5b56482",
   "metadata": {},
   "outputs": [],
   "source": []
  },
  {
   "cell_type": "markdown",
   "id": "2fba8423",
   "metadata": {},
   "source": [
    "### intrepolate\n",
    "Интерполирует пропуски"
   ]
  },
  {
   "attachments": {
    "image.png": {
     "image/png": "[encoded data removed]"
    }
   },
   "cell_type": "markdown",
   "id": "e13fb9d7",
   "metadata": {},
   "source": [
    "![image.png](attachment:image.png)"
   ]
  },
  {
   "cell_type": "code",
   "execution_count": null,
   "id": "91f00301",
   "metadata": {},
   "outputs": [],
   "source": [
    "stocks_part.interpolate()"
   ]
  },
  {
   "cell_type": "code",
   "execution_count": null,
   "id": "3135b73c",
   "metadata": {},
   "outputs": [],
   "source": [
    "stocks_part.interpolate('polynomial', order=3)"
   ]
  },
  {
   "cell_type": "code",
   "execution_count": null,
   "id": "29ae703a",
   "metadata": {},
   "outputs": [],
   "source": []
  },
  {
   "cell_type": "code",
   "execution_count": null,
   "id": "fb594687",
   "metadata": {},
   "outputs": [],
   "source": []
  },
  {
   "cell_type": "code",
   "execution_count": null,
   "id": "a932e292",
   "metadata": {},
   "outputs": [],
   "source": []
  },
  {
   "cell_type": "markdown",
   "id": "cd4f331e",
   "metadata": {},
   "source": [
    "### Заполнение пропусков внутри группы"
   ]
  },
  {
   "cell_type": "code",
   "execution_count": null,
   "id": "3839bee3",
   "metadata": {},
   "outputs": [],
   "source": [
    "path_empl = '../tables/employees.parquet' if os.path.exists('../tables/employees.parquet') else 'https://drive.google.com/uc?id=1AARD5-eVlCxoApt5CYZebrC3Cqw42lvj'\n",
    "\n",
    "empl = pd.read_parquet(path_empl).iloc[:, [0, 1, 2, -2]].astype({'employee_evaluation': float})\n",
    "empl.head()"
   ]
  },
  {
   "cell_type": "code",
   "execution_count": null,
   "id": "0ee837a8",
   "metadata": {},
   "outputs": [],
   "source": [
    "empl['employee_evaluation'].isna().sum()"
   ]
  },
  {
   "cell_type": "markdown",
   "id": "f1390b5b",
   "metadata": {},
   "source": [
    "Заполняем ближайшим заполненным значением"
   ]
  },
  {
   "cell_type": "code",
   "execution_count": null,
   "id": "d68bc7a7",
   "metadata": {},
   "outputs": [],
   "source": [
    "empl.assign(employee_evaluation = lambda x: x\n",
    "            .groupby('i_pernr')\n",
    "            ['employee_evaluation'].fillna(method='bfill'))"
   ]
  },
  {
   "cell_type": "code",
   "execution_count": null,
   "id": "89313dc3",
   "metadata": {},
   "outputs": [],
   "source": [
    "(empl\n",
    "    .assign(employee_evaluation = lambda x: x\n",
    "            .groupby('i_pernr')\n",
    "            ['employee_evaluation'].fillna(method='bfill'))\n",
    "    ['employee_evaluation']\n",
    "    .isna()\n",
    "    .sum()\n",
    ")"
   ]
  },
  {
   "cell_type": "code",
   "execution_count": null,
   "id": "7bb0c2c5",
   "metadata": {},
   "outputs": [],
   "source": [
    "(empl\n",
    "    .assign(employee_evaluation = lambda x: x\n",
    "            .groupby('i_pernr')\n",
    "            ['employee_evaluation'].fillna(method='bfill'))\n",
    " \n",
    "    .groupby('i_pernr')\n",
    "    .filter(lambda x: x['employee_evaluation'].isna().sum() > 0)\n",
    " \n",
    ")"
   ]
  },
  {
   "cell_type": "code",
   "execution_count": null,
   "id": "f7b767f6",
   "metadata": {},
   "outputs": [],
   "source": [
    "empl.assign(employee_evaluation = lambda x: x\n",
    "            .groupby('i_pernr')\n",
    "            ['employee_evaluation']\n",
    "            .transform(lambda y: y.fillna(y.mean()).round())\n",
    "        ).head()"
   ]
  },
  {
   "cell_type": "markdown",
   "id": "4426bd86",
   "metadata": {},
   "source": [
    "Считаем количесвто пропусков после заполнения"
   ]
  },
  {
   "cell_type": "code",
   "execution_count": null,
   "id": "caf91aab",
   "metadata": {},
   "outputs": [],
   "source": [
    "empl.assign(employee_evaluation = lambda x: x\n",
    "            .groupby('i_pernr')\n",
    "            ['employee_evaluation']\n",
    "            .transform(lambda y: y.fillna(y.mean()).round())\n",
    "        )['employee_evaluation'].isna().sum()"
   ]
  },
  {
   "cell_type": "code",
   "execution_count": null,
   "id": "13635c98",
   "metadata": {},
   "outputs": [],
   "source": []
  },
  {
   "cell_type": "code",
   "execution_count": null,
   "id": "69668132",
   "metadata": {},
   "outputs": [],
   "source": []
  },
  {
   "cell_type": "code",
   "execution_count": null,
   "id": "379ce169",
   "metadata": {},
   "outputs": [],
   "source": []
  },
  {
   "cell_type": "code",
   "execution_count": null,
   "id": "e9087480",
   "metadata": {},
   "outputs": [],
   "source": []
  },
  {
   "cell_type": "code",
   "execution_count": null,
   "id": "37025444",
   "metadata": {},
   "outputs": [],
   "source": []
  },
  {
   "cell_type": "code",
   "execution_count": null,
   "id": "1a0c8123",
   "metadata": {},
   "outputs": [],
   "source": []
  },
  {
   "cell_type": "code",
   "execution_count": null,
   "id": "fa10439c",
   "metadata": {},
   "outputs": [],
   "source": []
  },
  {
   "cell_type": "code",
   "execution_count": null,
   "id": "29b396f4",
   "metadata": {},
   "outputs": [],
   "source": []
  },
  {
   "cell_type": "markdown",
   "id": "ff430d75",
   "metadata": {},
   "source": [
    "# Задания"
   ]
  },
  {
   "cell_type": "markdown",
   "id": "f821e131",
   "metadata": {},
   "source": [
    "#### Описание таблиц лежит [здесь](https://github.com/victorlymarev/pandas/tree/main/tables#%D0%BE%D0%BF%D0%B8%D1%81%D0%B0%D0%BD%D0%B8%D0%B5-%D1%82%D0%B0%D0%B1%D0%BB%D0%B8%D1%86)"
   ]
  },
  {
   "cell_type": "markdown",
   "id": "ddcf85f7",
   "metadata": {},
   "source": [
    "Некоторые таблицы занимают много памяти, поэтому каждые 5-10 заданий лучше перезапускайте ноутбук.\n",
    "\n",
    "В формулировке некоторых заданий может содержаться вариативность. Если у вас есть сомнения, что требуется в задании, попробуйте решить несколько вариантов. Если вы не понимаете задание, можете написать об этом в комментариях под видео.\n",
    "\n",
    "В большинстве случаев внешний вид итоговой таблицы не определен. Выведите на экран наиболее адекватный вариант. То есть таблицу, из которой можно будет сделать выводы.\n",
    "\n",
    "Курс пока находится в разработке. Вы можете помочь другим людям добавив свое решение [сюда](https://docs.google.com/forms/d/1HYTBz_KfssY3Jps2dC3n0YnEqa6WBb5OIhLo1d32Xzw/edit).\n",
    "\n",
    "Посмотреть решения других людей можно [здесь](https://docs.google.com/spreadsheets/d/1pMDYO-9UneLbPPnEuQ2shig0TOJdQTU-zipifyAnZMk/edit?resourcekey#gid=1998648012)"
   ]
  },
  {
   "cell_type": "markdown",
   "id": "35536ffe",
   "metadata": {},
   "source": [
    "### Задание 1\n",
    "\n",
    "Посмотрите на таблицу. В каких колонках есть пропуски?\n",
    "\n",
    "Заполните пропуски значением -1"
   ]
  },
  {
   "cell_type": "code",
   "execution_count": null,
   "id": "d0f4f1aa",
   "metadata": {},
   "outputs": [],
   "source": [
    "# таблица sales - большая, и в некоторых случаях ваш компьютер может не справиться с ее обработкой\n",
    "# поэтому лучше работайте с частью этой таблицы\n",
    "# но если вы хотите попробовать поработать с полной версией таблицы,\n",
    "# можете заменить переменную path_sales_2022 на path_sales внутри функции read_parquet\n",
    "\n",
    "import os\n",
    "import pandas as pd\n",
    "\n",
    "path_sales_2022 = '../tables/sales_2022.parquet' if os.path.exists('../tables/sales_2022.parquet') else 'https://drive.google.com/uc?id=17e7FwXVdsWc2aziK9s5KidIvPcfKt9F5'\n",
    "# path_sales = '../tables/sales.parquet' if os.path.exists('../tables/sales.parquet') else \"https://drive.usercontent.google.com/download?id=15KwSxyM6hpNABGe6_vsrFZvD09VfHFyK&export=download&authuser=1&confirm=t&uuid=115bd48c-cc2c-4f2a-8b42-be5ca6ef6db8&at=APZUnTUVb8nfNANw5wr9Cad7PJ3U:1693327774694\"\n",
    "\n",
    "sales = pd.read_parquet(path_sales_2022)\n",
    "sales.head()"
   ]
  },
  {
   "cell_type": "code",
   "execution_count": null,
   "id": "254460c5",
   "metadata": {},
   "outputs": [],
   "source": [
    "# напишите свой код здесь"
   ]
  },
  {
   "cell_type": "markdown",
   "id": "78283cd9",
   "metadata": {},
   "source": [
    "### Задание 2\n",
    "\n",
    "Из таблицы выкиньте строки, в которых есть пропуски"
   ]
  },
  {
   "cell_type": "code",
   "execution_count": null,
   "id": "47be8fe9",
   "metadata": {},
   "outputs": [],
   "source": [
    "# таблица sales - большая, и в некоторых случаях ваш компьютер может не справиться с ее обработкой\n",
    "# поэтому лучше работайте с частью этой таблицы\n",
    "# но если вы хотите попробовать поработать с полной версией таблицы,\n",
    "# можете заменить переменную path_sales_2022 на path_sales внутри функции read_parquet\n",
    "\n",
    "import os\n",
    "import pandas as pd\n",
    "\n",
    "path_sales_2022 = '../tables/sales_2022.parquet' if os.path.exists('../tables/sales_2022.parquet') else 'https://drive.google.com/uc?id=17e7FwXVdsWc2aziK9s5KidIvPcfKt9F5'\n",
    "# path_sales = '../tables/sales.parquet' if os.path.exists('../tables/sales.parquet') else \"https://drive.usercontent.google.com/download?id=15KwSxyM6hpNABGe6_vsrFZvD09VfHFyK&export=download&authuser=1&confirm=t&uuid=115bd48c-cc2c-4f2a-8b42-be5ca6ef6db8&at=APZUnTUVb8nfNANw5wr9Cad7PJ3U:1693327774694\"\n",
    "\n",
    "sales = pd.read_parquet(path_sales_2022)\n",
    "sales.head()"
   ]
  },
  {
   "cell_type": "code",
   "execution_count": null,
   "id": "fd6c455f",
   "metadata": {},
   "outputs": [],
   "source": [
    "# напишите свой код здесь"
   ]
  },
  {
   "cell_type": "markdown",
   "id": "98dff60a",
   "metadata": {},
   "source": [
    "### Задание 3\n",
    "\n",
    "Из таблицы выкиньте колонки, в которых есть пропуски"
   ]
  },
  {
   "cell_type": "code",
   "execution_count": null,
   "id": "3b67727b",
   "metadata": {},
   "outputs": [],
   "source": [
    "# таблица sales - большая, и в некоторых случаях ваш компьютер может не справиться с ее обработкой\n",
    "# поэтому лучше работайте с частью этой таблицы\n",
    "# но если вы хотите попробовать поработать с полной версией таблицы,\n",
    "# можете заменить переменную path_sales_2022 на path_sales внутри функции read_parquet\n",
    "\n",
    "import os\n",
    "import pandas as pd\n",
    "\n",
    "path_sales_2022 = '../tables/sales_2022.parquet' if os.path.exists('../tables/sales_2022.parquet') else 'https://drive.google.com/uc?id=17e7FwXVdsWc2aziK9s5KidIvPcfKt9F5'\n",
    "# path_sales = '../tables/sales.parquet' if os.path.exists('../tables/sales.parquet') else \"https://drive.usercontent.google.com/download?id=15KwSxyM6hpNABGe6_vsrFZvD09VfHFyK&export=download&authuser=1&confirm=t&uuid=115bd48c-cc2c-4f2a-8b42-be5ca6ef6db8&at=APZUnTUVb8nfNANw5wr9Cad7PJ3U:1693327774694\"\n",
    "\n",
    "sales = pd.read_parquet(path_sales_2022)\n",
    "sales.head()"
   ]
  },
  {
   "cell_type": "code",
   "execution_count": null,
   "id": "beb777f3",
   "metadata": {},
   "outputs": [],
   "source": [
    "# напишите свой код здесь"
   ]
  },
  {
   "cell_type": "markdown",
   "id": "f091800e",
   "metadata": {},
   "source": [
    "### Задание 4\n",
    "\n",
    "Заполните пропуски в таблице marks мединой по каждому из предметов"
   ]
  },
  {
   "cell_type": "code",
   "execution_count": null,
   "id": "1bf08685",
   "metadata": {},
   "outputs": [],
   "source": [
    "import os\n",
    "import pandas as pd\n",
    "import numpy as np\n",
    "\n",
    "path_marks = '../tables/оценки.xlsx' if os.path.exists('../tables/оценки.xlsx') else 'https://drive.google.com/uc?id=17f4DXx53J0WooNkhO13xidseZJ-O2obs'\n",
    "\n",
    "marks = pd.read_excel(path_marks)\n",
    "np.random.seed(135)\n",
    "marks.iloc[:, 2:] *= np.random.choice([1, np.nan], p=[0.85, 0.15], size=marks.iloc[:, 2:].shape)\n",
    "marks.head()"
   ]
  },
  {
   "cell_type": "code",
   "execution_count": null,
   "id": "da2adb04",
   "metadata": {},
   "outputs": [],
   "source": [
    "# напишите свой код здесь"
   ]
  },
  {
   "cell_type": "markdown",
   "id": "eaedd50f",
   "metadata": {},
   "source": [
    "### Задание 5\n",
    "\n",
    "Заполните пропуск в таблице marks средней оценкой школника. Не забудьте округлить результат"
   ]
  },
  {
   "cell_type": "code",
   "execution_count": null,
   "id": "367e3984",
   "metadata": {},
   "outputs": [],
   "source": [
    "import os\n",
    "import pandas as pd\n",
    "import numpy as np\n",
    "\n",
    "path_marks = '../tables/оценки.xlsx' if os.path.exists('../tables/оценки.xlsx') else 'https://drive.google.com/uc?id=17f4DXx53J0WooNkhO13xidseZJ-O2obs'\n",
    "\n",
    "marks = pd.read_excel(path_marks)\n",
    "np.random.seed(1)\n",
    "marks.iloc[:, 2:] *= np.random.choice([1, np.nan], p=[0.85, 0.15], size=marks.iloc[:, 2:].shape)\n",
    "marks.head()"
   ]
  },
  {
   "cell_type": "code",
   "execution_count": null,
   "id": "ff8e1ef1",
   "metadata": {},
   "outputs": [],
   "source": [
    "# напишите свой код здесь"
   ]
  },
  {
   "cell_type": "markdown",
   "id": "61b9771e",
   "metadata": {},
   "source": [
    "### Задание 6\n",
    "\n",
    "В таблице stocks заполните пропуски средним значением за каждый месяц"
   ]
  },
  {
   "cell_type": "code",
   "execution_count": null,
   "id": "bcd24c32",
   "metadata": {},
   "outputs": [],
   "source": [
    "import os\n",
    "import pandas as pd\n",
    "\n",
    "path_stocks = '../tables/stocks.parquet' if os.path.exists('../tables/stocks.parquet') else 'https://drive.google.com/uc?id=1weGquTtmR92mKYAeZhZCFHJjndyoSXZt'\n",
    "\n",
    "stocks = pd.read_parquet(path_stocks).asfreq('d')\n",
    "stocks.head()"
   ]
  },
  {
   "cell_type": "code",
   "execution_count": null,
   "id": "a15cec48",
   "metadata": {},
   "outputs": [],
   "source": [
    "# напишите свой код здесь"
   ]
  },
  {
   "cell_type": "markdown",
   "id": "33b83f04",
   "metadata": {},
   "source": [
    "### Задание 7\n",
    "\n",
    "Заполните пропуски, используя линейную интерполяцию (либо любую другую на ваш выбор)"
   ]
  },
  {
   "cell_type": "code",
   "execution_count": null,
   "id": "318a8f02",
   "metadata": {},
   "outputs": [],
   "source": [
    "import os\n",
    "import pandas as pd\n",
    "path_xdg_usdt = '../tables/XDGUSDT.csv' if os.path.exists('../tables/XDGUSDT.csv') else 'https://drive.google.com/uc?id=1oLjCNOsdKbd87sIgW0_OWDpD2DVHAAAV'\n",
    "xdg_usdt = pd.read_csv(path_xdg_usdt, header=None).set_axis(['Дата', 'Цена', 'Объем'], axis=1)\n",
    "np.random.seed(12689)\n",
    "xdg_usdt.iloc[:, 1:] *= np.random.choice([1, np.nan], p=[0.65, 0.35], size=len(xdg_usdt)).reshape(-1, 1)\n",
    "xdg_usdt.head()"
   ]
  },
  {
   "cell_type": "code",
   "execution_count": null,
   "id": "8ef541e3",
   "metadata": {},
   "outputs": [],
   "source": [
    "# напишите свой код здесь"
   ]
  },
  {
   "cell_type": "code",
   "execution_count": null,
   "id": "0c224197",
   "metadata": {},
   "outputs": [],
   "source": []
  },
  {
   "cell_type": "code",
   "execution_count": null,
   "id": "edc623f4",
   "metadata": {},
   "outputs": [],
   "source": []
  },
  {
   "cell_type": "code",
   "execution_count": null,
   "id": "8c4a94ed",
   "metadata": {},
   "outputs": [],
   "source": []
  },
  {
   "cell_type": "code",
   "execution_count": null,
   "id": "c2c3d660",
   "metadata": {},
   "outputs": [],
   "source": []
  },
  {
   "cell_type": "code",
   "execution_count": null,
   "id": "17a05b44",
   "metadata": {},
   "outputs": [],
   "source": []
  },
  {
   "cell_type": "code",
   "execution_count": null,
   "id": "2576c926",
   "metadata": {},
   "outputs": [],
   "source": []
  }
 ],
 "metadata": {
  "kernelspec": {
   "display_name": "Python 3 (ipykernel)",
   "language": "python",
   "name": "python3"
  },
  "language_info": {
   "codemirror_mode": {
    "name": "ipython",
    "version": 3
   },
   "file_extension": ".py",
   "mimetype": "text/x-python",
   "name": "python",
   "nbconvert_exporter": "python",
   "pygments_lexer": "ipython3",
   "version": "3.11.6"
  }
 },
 "nbformat": 4,
 "nbformat_minor": 5
}
