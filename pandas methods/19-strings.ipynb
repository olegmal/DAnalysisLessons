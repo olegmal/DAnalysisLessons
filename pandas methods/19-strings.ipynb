{
 "cells": [
  {
   "cell_type": "markdown",
   "id": "43674048",
   "metadata": {},
   "source": [
    "<a target=\"_blank\" href=\"https://colab.research.google.com/github/victorlymarev/pandas/blob/main/notebooks/19-strings.ipynb\">\n",
    "  <img src=\"https://colab.research.google.com/assets/colab-badge.svg\" alt=\"Open In Colab\"/>\n",
    "</a>"
   ]
  },
  {
   "cell_type": "markdown",
   "id": "a58185bc",
   "metadata": {},
   "source": [
    "# Работа со строками\n",
    "#### [Ссылка на видео](https://youtu.be/XxMtQPDesjQ)"
   ]
  },
  {
   "cell_type": "code",
   "execution_count": null,
   "id": "201faf3e",
   "metadata": {},
   "outputs": [],
   "source": [
    "import pandas as pd\n",
    "import os"
   ]
  },
  {
   "cell_type": "markdown",
   "id": "3c04884e",
   "metadata": {},
   "source": [
    "Читаем таблицы"
   ]
  },
  {
   "cell_type": "code",
   "execution_count": null,
   "id": "549414f1",
   "metadata": {},
   "outputs": [],
   "source": [
    "path_goods_descr = '../tables/goods_description.parquet' if os.path.exists('../tables/goods_description.parquet') else 'https://drive.google.com/uc?id=1YbiD02Rev-X_WWV9nPSG1zZFmEh2JjPh'\n",
    "path_empl = '../tables/employees.parquet' if os.path.exists('../tables/employees.parquet') else 'https://drive.google.com/uc?id=1AARD5-eVlCxoApt5CYZebrC3Cqw42lvj'\n",
    "\n",
    "goods_descr = pd.read_parquet(path_goods_descr)\n",
    "empl = pd.read_parquet(path_empl)\n",
    "goods_descr['description']"
   ]
  },
  {
   "cell_type": "markdown",
   "id": "7c690c65",
   "metadata": {},
   "source": [
    "#### Чтобы посмотреть строки полностью, можно преобразовать колонку в список"
   ]
  },
  {
   "cell_type": "code",
   "execution_count": null,
   "id": "a6336ac5",
   "metadata": {},
   "outputs": [],
   "source": [
    "goods_descr['description'].head(10).tolist()"
   ]
  },
  {
   "cell_type": "markdown",
   "id": "f4e63495",
   "metadata": {},
   "source": [
    "#### Приведение строк к нижнему регистру"
   ]
  },
  {
   "cell_type": "code",
   "execution_count": null,
   "id": "6b2c973e",
   "metadata": {},
   "outputs": [],
   "source": [
    "goods_descr['description'].str.lower()"
   ]
  },
  {
   "cell_type": "markdown",
   "id": "5b69aec3",
   "metadata": {},
   "source": [
    "#### Приведение строк к верхнему регистру"
   ]
  },
  {
   "cell_type": "code",
   "execution_count": null,
   "id": "86fdc18c",
   "metadata": {},
   "outputs": [],
   "source": [
    "goods_descr['description'].str.upper()"
   ]
  },
  {
   "cell_type": "markdown",
   "id": "7c650546",
   "metadata": {},
   "source": [
    "#### Первая буква - заглавная, а остальные строчные"
   ]
  },
  {
   "cell_type": "code",
   "execution_count": null,
   "id": "7957e289",
   "metadata": {},
   "outputs": [],
   "source": [
    "goods_descr['description'].str.capitalize()"
   ]
  },
  {
   "cell_type": "markdown",
   "id": "ab92182c",
   "metadata": {},
   "source": [
    "#### Первая буква в каждом слове - заглавная, а остальные строчные"
   ]
  },
  {
   "cell_type": "code",
   "execution_count": null,
   "id": "26af0797",
   "metadata": {},
   "outputs": [],
   "source": [
    "goods_descr['description'].str.title()"
   ]
  },
  {
   "cell_type": "markdown",
   "id": "153dc303",
   "metadata": {},
   "source": [
    "#### Заглавные и строчные буквы меняются"
   ]
  },
  {
   "cell_type": "code",
   "execution_count": null,
   "id": "f4ea5bd1",
   "metadata": {},
   "outputs": [],
   "source": [
    "goods_descr['description'].str.swapcase()"
   ]
  },
  {
   "cell_type": "markdown",
   "id": "de9e1f76",
   "metadata": {},
   "source": [
    "#### Срезы строк\n",
    "Берем первые я символов в каждой строке"
   ]
  },
  {
   "cell_type": "code",
   "execution_count": null,
   "id": "d374ffb0",
   "metadata": {},
   "outputs": [],
   "source": [
    "goods_descr['description'].str[:5]"
   ]
  },
  {
   "cell_type": "code",
   "execution_count": null,
   "id": "a403bd2b",
   "metadata": {},
   "outputs": [],
   "source": [
    "goods_descr['description'].str[7:18]"
   ]
  },
  {
   "cell_type": "code",
   "execution_count": null,
   "id": "98024e66",
   "metadata": {},
   "outputs": [],
   "source": [
    "goods_descr['description'].str[-10:]"
   ]
  },
  {
   "cell_type": "markdown",
   "id": "88516d13",
   "metadata": {},
   "source": [
    "#### Убираем строку из начала или конца строки если она есть"
   ]
  },
  {
   "cell_type": "code",
   "execution_count": null,
   "id": "96144bf8",
   "metadata": {},
   "outputs": [],
   "source": [
    "goods_descr['description']"
   ]
  },
  {
   "cell_type": "code",
   "execution_count": null,
   "id": "cf016d8e",
   "metadata": {},
   "outputs": [],
   "source": [
    "goods_descr['description'].str.removeprefix('Shirts')"
   ]
  },
  {
   "cell_type": "code",
   "execution_count": null,
   "id": "1c440cc5",
   "metadata": {},
   "outputs": [],
   "source": [
    "goods_descr['description'].iloc[-10:].tolist()"
   ]
  },
  {
   "cell_type": "code",
   "execution_count": null,
   "id": "db790f5d",
   "metadata": {},
   "outputs": [],
   "source": [
    "goods_descr['description'].str.removesuffix('fit').iloc[-10:].tolist()"
   ]
  },
  {
   "cell_type": "markdown",
   "id": "1379cd81",
   "metadata": {},
   "source": [
    "#### strip удаляет указанные символы из начала и конца строки \n",
    "\n",
    "lstrip удаляет символы из начала строки\n",
    "\n",
    "rstrip удаляет символы из конца строки"
   ]
  },
  {
   "cell_type": "code",
   "execution_count": null,
   "id": "82878646",
   "metadata": {},
   "outputs": [],
   "source": [
    "goods_descr['description'].head(7).tolist()"
   ]
  },
  {
   "cell_type": "code",
   "execution_count": null,
   "id": "3cef52ba",
   "metadata": {},
   "outputs": [],
   "source": [
    "goods_descr['description'].head(7).str.strip('SLht').tolist()"
   ]
  },
  {
   "cell_type": "markdown",
   "id": "bb3cce25",
   "metadata": {},
   "source": [
    "#### Расчет длинны строки"
   ]
  },
  {
   "cell_type": "code",
   "execution_count": null,
   "id": "e6ccd48b",
   "metadata": {},
   "outputs": [],
   "source": [
    "goods_descr['description'].str.len()"
   ]
  },
  {
   "cell_type": "markdown",
   "id": "2ea0626d",
   "metadata": {},
   "source": [
    "#### Поиск первой подстроки в строке\n",
    "Метод find возващает индекс первого символа подстроки в строке\n",
    "\n",
    "Если подстрока не нашлась возвращается -1"
   ]
  },
  {
   "cell_type": "code",
   "execution_count": null,
   "id": "d796359a",
   "metadata": {},
   "outputs": [],
   "source": [
    "empl['fio']"
   ]
  },
  {
   "cell_type": "code",
   "execution_count": null,
   "id": "4095fb92",
   "metadata": {},
   "outputs": [],
   "source": [
    "empl['fio'].str.find('Андрей')"
   ]
  },
  {
   "cell_type": "markdown",
   "id": "b6fc4446",
   "metadata": {},
   "source": [
    "#### На основе этого можно фильтровать строки таблицы"
   ]
  },
  {
   "cell_type": "code",
   "execution_count": null,
   "id": "4b488fce",
   "metadata": {},
   "outputs": [],
   "source": [
    "empl.query('fio.str.find(\"Андрей\") >= 0').head()"
   ]
  },
  {
   "cell_type": "code",
   "execution_count": null,
   "id": "dc8c5023",
   "metadata": {},
   "outputs": [],
   "source": [
    "empl.query('fio.str.contains(\"Андрей\")').head()"
   ]
  },
  {
   "cell_type": "markdown",
   "id": "d3c940cb",
   "metadata": {},
   "source": [
    "Такая запись работать не будет"
   ]
  },
  {
   "cell_type": "code",
   "execution_count": null,
   "id": "30454928",
   "metadata": {},
   "outputs": [],
   "source": [
    "empl.query('\"Андрей\" in fio').head()"
   ]
  },
  {
   "cell_type": "markdown",
   "id": "adf3661c",
   "metadata": {},
   "source": [
    "#### Замены внутри строк"
   ]
  },
  {
   "cell_type": "code",
   "execution_count": null,
   "id": "246436d0",
   "metadata": {},
   "outputs": [],
   "source": [
    "empl['fio']"
   ]
  },
  {
   "cell_type": "code",
   "execution_count": null,
   "id": "45aeb820",
   "metadata": {},
   "outputs": [],
   "source": [
    "empl['fio'].str.replace('Максимович', '______________')"
   ]
  },
  {
   "cell_type": "markdown",
   "id": "ed13f0b8",
   "metadata": {},
   "source": [
    "В отличие от str.replace, обычный метод replace смотрит на всю строку целиком"
   ]
  },
  {
   "cell_type": "code",
   "execution_count": null,
   "id": "0d7fe89a",
   "metadata": {},
   "outputs": [],
   "source": [
    "empl['fio'].replace({'Максимович': '___________'})"
   ]
  },
  {
   "cell_type": "markdown",
   "id": "493fd508",
   "metadata": {},
   "source": [
    "#### Разделение строк"
   ]
  },
  {
   "cell_type": "code",
   "execution_count": null,
   "id": "70fa9903",
   "metadata": {},
   "outputs": [],
   "source": [
    "empl['fio'].str.split()"
   ]
  },
  {
   "cell_type": "code",
   "execution_count": null,
   "id": "3c453b82",
   "metadata": {},
   "outputs": [],
   "source": [
    "empl['fio'].str.split('Надежда')"
   ]
  },
  {
   "cell_type": "markdown",
   "id": "52f86f08",
   "metadata": {},
   "source": [
    "Выбор элементов списка"
   ]
  },
  {
   "cell_type": "code",
   "execution_count": null,
   "id": "636fb60e",
   "metadata": {},
   "outputs": [],
   "source": [
    "empl['fio'].str.split().str[0]"
   ]
  },
  {
   "cell_type": "code",
   "execution_count": null,
   "id": "31cdb624",
   "metadata": {},
   "outputs": [],
   "source": [
    "empl['fio'].str.split().str[1:]"
   ]
  },
  {
   "cell_type": "markdown",
   "id": "da77d555",
   "metadata": {},
   "source": [
    "Такой список можно разделить на колонки"
   ]
  },
  {
   "cell_type": "code",
   "execution_count": null,
   "id": "e78a4807",
   "metadata": {},
   "outputs": [],
   "source": [
    "empl['fio'].str.split(expand=True)"
   ]
  },
  {
   "cell_type": "markdown",
   "id": "6eada1c2",
   "metadata": {},
   "source": [
    "Присоединение новых колонок"
   ]
  },
  {
   "cell_type": "code",
   "execution_count": null,
   "id": "fbde5417",
   "metadata": {},
   "outputs": [],
   "source": [
    "(empl\n",
    "    .join(empl['fio']\n",
    "          .str\n",
    "          .split(expand=True)\n",
    "          .set_axis(['Фамилия', 'Имя', 'Отчество'], axis=1)\n",
    "         )\n",
    "    .head()\n",
    ")"
   ]
  },
  {
   "cell_type": "markdown",
   "id": "6f13b636",
   "metadata": {},
   "source": [
    "#### Создание для каждого элемента списка своей строки"
   ]
  },
  {
   "cell_type": "code",
   "execution_count": null,
   "id": "61f5ff8e",
   "metadata": {},
   "outputs": [],
   "source": [
    "empl.assign(fio_list = lambda x: x['fio'].str.split()).explode('fio_list')"
   ]
  },
  {
   "cell_type": "markdown",
   "id": "37b76728",
   "metadata": {},
   "source": [
    "#### Можно узнасть длинну списка"
   ]
  },
  {
   "cell_type": "code",
   "execution_count": null,
   "id": "05c3bbc8",
   "metadata": {},
   "outputs": [],
   "source": [
    "empl['fio'].str.split().str.len()"
   ]
  },
  {
   "cell_type": "markdown",
   "id": "1afe2483",
   "metadata": {},
   "source": [
    "#### Соединение списков в одну строку"
   ]
  },
  {
   "cell_type": "code",
   "execution_count": null,
   "id": "fd1ff519",
   "metadata": {},
   "outputs": [],
   "source": [
    "empl['fio'].str.split()"
   ]
  },
  {
   "cell_type": "code",
   "execution_count": null,
   "id": "a0b9e4f9",
   "metadata": {},
   "outputs": [],
   "source": [
    "empl['fio'].str.split().str.join('___')"
   ]
  },
  {
   "cell_type": "markdown",
   "id": "1b1bdd6b",
   "metadata": {},
   "source": [
    "#### Список всех методов"
   ]
  },
  {
   "cell_type": "code",
   "execution_count": null,
   "id": "ea017f9b",
   "metadata": {},
   "outputs": [],
   "source": [
    "dir(goods_descr['description'].str)[44:]"
   ]
  },
  {
   "cell_type": "code",
   "execution_count": null,
   "id": "9f88e3e4",
   "metadata": {},
   "outputs": [],
   "source": []
  },
  {
   "cell_type": "code",
   "execution_count": null,
   "id": "a22e8fc1",
   "metadata": {},
   "outputs": [],
   "source": []
  },
  {
   "cell_type": "code",
   "execution_count": null,
   "id": "83afeba3",
   "metadata": {},
   "outputs": [],
   "source": []
  },
  {
   "cell_type": "code",
   "execution_count": null,
   "id": "3ed83210",
   "metadata": {},
   "outputs": [],
   "source": []
  },
  {
   "cell_type": "code",
   "execution_count": null,
   "id": "ef6d3e84",
   "metadata": {},
   "outputs": [],
   "source": []
  },
  {
   "cell_type": "markdown",
   "id": "8ccb4adb",
   "metadata": {},
   "source": [
    "### Apply"
   ]
  },
  {
   "cell_type": "code",
   "execution_count": null,
   "id": "84a7812d",
   "metadata": {},
   "outputs": [],
   "source": [
    "goods_descr.apply(lambda x: x['description'].replace(x['brand'], ''), axis=1)"
   ]
  },
  {
   "cell_type": "code",
   "execution_count": null,
   "id": "2572f714",
   "metadata": {},
   "outputs": [],
   "source": [
    "stop_words = [\"i\", \"me\", \"my\", \"myself\", \"we\", \"our\", \"ours\", \"ourselves\", \"you\", 'you\"re', 'you\"ve', 'you\"ll', 'you\"d', \"your\", \"yours\", \"yourself\", \"yourselves\", \"he\", \"him\", \"his\", \"himself\", \"she\", 'she\"s', \"her\", \"hers\", \"herself\", \"it\", 'it\"s', \"its\", \"itself\", \"they\", \"them\", \"their\", \"theirs\", \"themselves\", \"what\", \"which\", \"who\", \"whom\", \"this\", \"that\", 'that\"ll', \"these\", \"those\", \"am\", \"is\", \"are\", \"was\", \"were\", \"be\", \"been\", \"being\", \"have\", \"has\", \"had\", \"having\", \"do\", \"does\", \"did\", \"doing\", \"a\", \"an\", \"the\", \"and\", \"but\", \"if\", \"or\", \"because\", \"as\", \"until\", \"while\", \"of\", \"at\", \"by\", \"for\", \"with\", \"about\", \"against\", \"between\", \"into\", \"through\", \"during\", \"before\", \"after\", \"above\", \"below\", \"to\", \"from\", \"up\", \"down\", \"in\", \"out\", \"on\", \"off\", \"over\", \"under\", \"again\", \"further\", \"then\", \"once\", \"here\", \"there\", \"when\", \"where\", \"why\", \"how\", \"all\", \"any\", \"both\", \"each\", \"few\", \"more\", \"most\", \"other\", \"some\", \"such\", \"no\", \"nor\", \"not\", \"only\", \"own\", \"same\", \"so\", \"than\", \"too\", \"very\", \"s\", \"t\", \"can\", \"will\", \"just\", \"don\", 'don\"t', \"should\", 'should\"ve', \"now\", \"d\", \"ll\", \"m\", \"o\", \"re\", \"ve\", \"y\", \"ain\", \"aren\", 'aren\"t', \"couldn\", 'couldn\"t', \"didn\", 'didn\"t', \"doesn\", 'doesn\"t', \"hadn\", 'hadn\"t', \"hasn\", 'hasn\"t', \"haven\", 'haven\"t', \"isn\", 'isn\"t', \"ma\", \"mightn\", 'mightn\"t', \"mustn\", 'mustn\"t', \"needn\", 'needn\"t', \"shan\", 'shan\"t', \"shouldn\", 'shouldn\"t', \"wasn\", 'wasn\"t', \"weren\", 'weren\"t', \"won\", 'won\"t', \"wouldn\", 'wouldn\"t']"
   ]
  },
  {
   "cell_type": "code",
   "execution_count": null,
   "id": "9a9c5214",
   "metadata": {},
   "outputs": [],
   "source": [
    "goods_descr['description'].apply(lambda x: ' '.join([i for i in x.lower().split() if i not in stop_words]))"
   ]
  },
  {
   "cell_type": "code",
   "execution_count": null,
   "id": "7d2368c5",
   "metadata": {},
   "outputs": [],
   "source": []
  },
  {
   "cell_type": "code",
   "execution_count": null,
   "id": "f9236ce8",
   "metadata": {},
   "outputs": [],
   "source": []
  },
  {
   "cell_type": "code",
   "execution_count": null,
   "id": "9543cda7",
   "metadata": {},
   "outputs": [],
   "source": []
  },
  {
   "cell_type": "code",
   "execution_count": null,
   "id": "9ecc44f4",
   "metadata": {},
   "outputs": [],
   "source": []
  },
  {
   "cell_type": "code",
   "execution_count": null,
   "id": "076a75da",
   "metadata": {},
   "outputs": [],
   "source": []
  },
  {
   "cell_type": "code",
   "execution_count": null,
   "id": "5290ec99",
   "metadata": {},
   "outputs": [],
   "source": []
  },
  {
   "cell_type": "code",
   "execution_count": null,
   "id": "7dd81cda",
   "metadata": {},
   "outputs": [],
   "source": []
  },
  {
   "cell_type": "code",
   "execution_count": null,
   "id": "da03cf19",
   "metadata": {},
   "outputs": [],
   "source": []
  },
  {
   "cell_type": "code",
   "execution_count": null,
   "id": "ff0dd39f",
   "metadata": {},
   "outputs": [],
   "source": []
  },
  {
   "cell_type": "code",
   "execution_count": null,
   "id": "4b0f1110",
   "metadata": {},
   "outputs": [],
   "source": []
  },
  {
   "cell_type": "code",
   "execution_count": null,
   "id": "63d0b9e1",
   "metadata": {},
   "outputs": [],
   "source": []
  },
  {
   "cell_type": "code",
   "execution_count": null,
   "id": "293e140f",
   "metadata": {},
   "outputs": [],
   "source": []
  },
  {
   "cell_type": "code",
   "execution_count": null,
   "id": "df32d262",
   "metadata": {},
   "outputs": [],
   "source": []
  },
  {
   "cell_type": "code",
   "execution_count": null,
   "id": "eae96042",
   "metadata": {},
   "outputs": [],
   "source": []
  },
  {
   "cell_type": "code",
   "execution_count": null,
   "id": "7830a1d2",
   "metadata": {},
   "outputs": [],
   "source": []
  },
  {
   "cell_type": "code",
   "execution_count": null,
   "id": "d5a4dfb0",
   "metadata": {},
   "outputs": [],
   "source": []
  },
  {
   "cell_type": "code",
   "execution_count": null,
   "id": "538cf445",
   "metadata": {},
   "outputs": [],
   "source": []
  },
  {
   "cell_type": "code",
   "execution_count": null,
   "id": "4c92f896",
   "metadata": {},
   "outputs": [],
   "source": []
  },
  {
   "cell_type": "code",
   "execution_count": null,
   "id": "a60078d0",
   "metadata": {},
   "outputs": [],
   "source": []
  },
  {
   "cell_type": "markdown",
   "id": "010375a2",
   "metadata": {},
   "source": [
    "# Задания"
   ]
  },
  {
   "cell_type": "markdown",
   "id": "a347dbaa",
   "metadata": {},
   "source": [
    "#### Описание таблиц лежит [здесь](https://github.com/victorlymarev/pandas/tree/main/tables#%D0%BE%D0%BF%D0%B8%D1%81%D0%B0%D0%BD%D0%B8%D0%B5-%D1%82%D0%B0%D0%B1%D0%BB%D0%B8%D1%86)"
   ]
  },
  {
   "cell_type": "markdown",
   "id": "6fedaab8",
   "metadata": {},
   "source": [
    "Некоторые таблицы занимают много памяти, поэтому каждые 5-10 заданий лучше перезапускайте ноутбук.\n",
    "\n",
    "В формулировке некоторых заданий может содержаться вариативность. Если у вас есть сомнения, что требуется в задании, попробуйте решить несколько вариантов. Если вы не понимаете задание, можете написать об этом в комментариях под видео.\n",
    "\n",
    "В большинстве случаев внешний вид итоговой таблицы не определен. Выведите на экран наиболее адекватный вариант. То есть таблицу, из которой можно будет сделать выводы.\n",
    "\n",
    "Курс пока находится в разработке. Вы можете помочь другим людям добавив свое решение [сюда](https://docs.google.com/forms/d/1HYTBz_KfssY3Jps2dC3n0YnEqa6WBb5OIhLo1d32Xzw/edit).\n",
    "\n",
    "Посмотреть решения других людей можно [здесь](https://docs.google.com/spreadsheets/d/1pMDYO-9UneLbPPnEuQ2shig0TOJdQTU-zipifyAnZMk/edit?resourcekey#gid=1998648012)"
   ]
  },
  {
   "cell_type": "markdown",
   "id": "f5498870",
   "metadata": {},
   "source": [
    "### Задание 1\n",
    "Замените все имена в колонке fio с Ольга на Лена"
   ]
  },
  {
   "cell_type": "code",
   "execution_count": null,
   "id": "af2af9e5",
   "metadata": {},
   "outputs": [],
   "source": [
    "import os\n",
    "import pandas as pd\n",
    "\n",
    "path_empl = '../tables/employees.parquet' if os.path.exists('../tables/employees.parquet') else 'https://drive.google.com/uc?id=1AARD5-eVlCxoApt5CYZebrC3Cqw42lvj'\n",
    "\n",
    "empl = pd.read_parquet(path_empl)\n",
    "empl.head()"
   ]
  },
  {
   "cell_type": "code",
   "execution_count": null,
   "id": "f41aa53a",
   "metadata": {},
   "outputs": [],
   "source": [
    "# напишите свой код здесь"
   ]
  },
  {
   "cell_type": "markdown",
   "id": "d9ca11ed",
   "metadata": {},
   "source": [
    "### Задание 2\n",
    "\n",
    "Замените все имена в колонке fio с Максим на Павел"
   ]
  },
  {
   "cell_type": "code",
   "execution_count": null,
   "id": "616333a1",
   "metadata": {},
   "outputs": [],
   "source": [
    "import os\n",
    "import pandas as pd\n",
    "\n",
    "path_empl = '../tables/employees.parquet' if os.path.exists('../tables/employees.parquet') else 'https://drive.google.com/uc?id=1AARD5-eVlCxoApt5CYZebrC3Cqw42lvj'\n",
    "\n",
    "empl = pd.read_parquet(path_empl)\n",
    "empl.head()"
   ]
  },
  {
   "cell_type": "code",
   "execution_count": null,
   "id": "2cb3b01e",
   "metadata": {},
   "outputs": [],
   "source": [
    "# напишите свой код здесь"
   ]
  },
  {
   "cell_type": "markdown",
   "id": "1cc93c43",
   "metadata": {},
   "source": [
    "### Задание 3\n",
    "\n",
    "Найдите человека с самой длинной фамилией"
   ]
  },
  {
   "cell_type": "code",
   "execution_count": null,
   "id": "1d9b407c",
   "metadata": {},
   "outputs": [],
   "source": [
    "import os\n",
    "import pandas as pd\n",
    "\n",
    "path_empl = '../tables/employees.parquet' if os.path.exists('../tables/employees.parquet') else 'https://drive.google.com/uc?id=1AARD5-eVlCxoApt5CYZebrC3Cqw42lvj'\n",
    "\n",
    "empl = pd.read_parquet(path_empl)\n",
    "empl.head()"
   ]
  },
  {
   "cell_type": "code",
   "execution_count": null,
   "id": "e407af60",
   "metadata": {},
   "outputs": [],
   "source": [
    "# напишите свой код здесь"
   ]
  },
  {
   "cell_type": "markdown",
   "id": "4abc0b28",
   "metadata": {},
   "source": [
    "### Задание 4\n",
    "\n",
    "Перейдите по одной из ссылок в таблице (поле url)"
   ]
  },
  {
   "cell_type": "code",
   "execution_count": null,
   "id": "d3566595",
   "metadata": {},
   "outputs": [],
   "source": [
    "import os\n",
    "import pandas as pd\n",
    "\n",
    "path_goods_descr = '../tables/goods_description.parquet' if os.path.exists('../tables/goods_description.parquet') else 'https://drive.google.com/uc?id=1YbiD02Rev-X_WWV9nPSG1zZFmEh2JjPh'\n",
    "\n",
    "goods_descr = pd.read_parquet(path_goods_descr)\n",
    "goods_descr.head()"
   ]
  },
  {
   "cell_type": "code",
   "execution_count": null,
   "id": "16956931",
   "metadata": {},
   "outputs": [],
   "source": [
    "# напишите свой код здесь"
   ]
  },
  {
   "cell_type": "markdown",
   "id": "7e54a8cd",
   "metadata": {},
   "source": [
    "### Задание 5\n",
    "\n",
    "Избавьтесь от названия бренда в названии товара (поле product_name)"
   ]
  },
  {
   "cell_type": "code",
   "execution_count": null,
   "id": "54d54f6b",
   "metadata": {},
   "outputs": [],
   "source": [
    "import os\n",
    "import pandas as pd\n",
    "\n",
    "path_goods_descr = '../tables/goods_description.parquet' if os.path.exists('../tables/goods_description.parquet') else 'https://drive.google.com/uc?id=1YbiD02Rev-X_WWV9nPSG1zZFmEh2JjPh'\n",
    "\n",
    "goods_descr = pd.read_parquet(path_goods_descr)\n",
    "goods_descr.head()"
   ]
  },
  {
   "cell_type": "code",
   "execution_count": null,
   "id": "4af39aa3",
   "metadata": {},
   "outputs": [],
   "source": [
    "# напишите свой код здесь"
   ]
  },
  {
   "cell_type": "markdown",
   "id": "d8ab65fa",
   "metadata": {},
   "source": [
    "### Задание 6\n",
    "\n",
    "Если вы посмотрите, на описание товара внимательно, то в нем сначала идет название категории товара, затем слово by, после чего идет название бренда и описание.\n",
    "\n",
    "Создайте колонки engl_cat, в которую положите навзание категории товара из описания, и колонку desc_short, в которую положите описание товара без категории и без бренда. "
   ]
  },
  {
   "cell_type": "code",
   "execution_count": null,
   "id": "03f1d773",
   "metadata": {},
   "outputs": [],
   "source": [
    "import os\n",
    "import pandas as pd\n",
    "\n",
    "path_goods_descr = '../tables/goods_description.parquet' if os.path.exists('../tables/goods_description.parquet') else 'https://drive.google.com/uc?id=1YbiD02Rev-X_WWV9nPSG1zZFmEh2JjPh'\n",
    "\n",
    "goods_descr = pd.read_parquet(path_goods_descr)\n",
    "goods_descr.head()"
   ]
  },
  {
   "cell_type": "code",
   "execution_count": null,
   "id": "d606dd13",
   "metadata": {},
   "outputs": [],
   "source": [
    "# напишите свой код здесь"
   ]
  },
  {
   "cell_type": "markdown",
   "id": "6c7bfc6c",
   "metadata": {},
   "source": [
    "### Задание 7\n",
    "\n",
    "В описании часто указывается посадка одежды (Slim fit, tapered fit, Regular-fit)\n",
    "\n",
    "Давайте попробуем вытащить информацию о ней. Добавьте к концу каждой строки пробел. После чего в отдельную колонку положите слово, которое стоит перед последним словом 'fit ' (с пробелом, чтобы не ловить слова fitting) в строке. Приведите эту строку к нижнему регистру, избавившись от всех лишних значков (- и пробелов)"
   ]
  },
  {
   "cell_type": "code",
   "execution_count": null,
   "id": "32b88c9c",
   "metadata": {},
   "outputs": [],
   "source": [
    "import os\n",
    "import pandas as pd\n",
    "\n",
    "path_goods_descr = '../tables/goods_description.parquet' if os.path.exists('../tables/goods_description.parquet') else 'https://drive.google.com/uc?id=1YbiD02Rev-X_WWV9nPSG1zZFmEh2JjPh'\n",
    "\n",
    "goods_descr = pd.read_parquet(path_goods_descr)\n",
    "goods_descr.head()"
   ]
  },
  {
   "cell_type": "code",
   "execution_count": null,
   "id": "d32137c8",
   "metadata": {},
   "outputs": [],
   "source": [
    "# напишите свой код здесь"
   ]
  },
  {
   "cell_type": "markdown",
   "id": "a6e69c01",
   "metadata": {},
   "source": [
    "### Задание 8\n",
    "\n",
    "Точно так же в описании часто содержится информация о высоте посадки. Для этого из каждой строки вытащите последнее слово перед словом rise"
   ]
  },
  {
   "cell_type": "code",
   "execution_count": null,
   "id": "15b5829e",
   "metadata": {},
   "outputs": [],
   "source": [
    "import os\n",
    "import pandas as pd\n",
    "\n",
    "path_goods_descr = '../tables/goods_description.parquet' if os.path.exists('../tables/goods_description.parquet') else 'https://drive.google.com/uc?id=1YbiD02Rev-X_WWV9nPSG1zZFmEh2JjPh'\n",
    "\n",
    "goods_descr = pd.read_parquet(path_goods_descr)\n",
    "goods_descr.head()"
   ]
  },
  {
   "cell_type": "code",
   "execution_count": null,
   "id": "9b913e97",
   "metadata": {},
   "outputs": [],
   "source": [
    "# напишите свой код здесь"
   ]
  },
  {
   "cell_type": "markdown",
   "id": "05131da2",
   "metadata": {},
   "source": [
    "### Задание 9\n",
    "\n",
    "Если товар представляет из себя набор предметов, вытащите информацию о количестве предметов в наборе. Она содержится в первом слове после фразы pack of. Пердварительно привидите строку к нижнему регистру."
   ]
  },
  {
   "cell_type": "code",
   "execution_count": null,
   "id": "af0944de",
   "metadata": {},
   "outputs": [],
   "source": [
    "import os\n",
    "import pandas as pd\n",
    "\n",
    "path_goods_descr = '../tables/goods_description.parquet' if os.path.exists('../tables/goods_description.parquet') else 'https://drive.google.com/uc?id=1YbiD02Rev-X_WWV9nPSG1zZFmEh2JjPh'\n",
    "\n",
    "goods_descr = pd.read_parquet(path_goods_descr)\n",
    "goods_descr.head()"
   ]
  },
  {
   "cell_type": "code",
   "execution_count": null,
   "id": "7462137e",
   "metadata": {},
   "outputs": [],
   "source": [
    "# напишите свой код здесь"
   ]
  },
  {
   "cell_type": "markdown",
   "id": "24fa0991",
   "metadata": {},
   "source": [
    "### Задание 10\n",
    "\n",
    "\n",
    "Удалите дубликаты описаний. После этого посчитайте самые частые слова в описаниях. \n",
    "\n",
    "Дополнительно можете сделать это для очищенных описаний, в которых не указан бренд и категория товара. Это поможет вам дальше исследовать описания"
   ]
  },
  {
   "cell_type": "code",
   "execution_count": null,
   "id": "41a1e18a",
   "metadata": {},
   "outputs": [],
   "source": [
    "import os\n",
    "import pandas as pd\n",
    "\n",
    "path_goods_descr = '../tables/goods_description.parquet' if os.path.exists('../tables/goods_description.parquet') else 'https://drive.google.com/uc?id=1YbiD02Rev-X_WWV9nPSG1zZFmEh2JjPh'\n",
    "\n",
    "goods_descr = pd.read_parquet(path_goods_descr)\n",
    "goods_descr.head()"
   ]
  },
  {
   "cell_type": "code",
   "execution_count": null,
   "id": "f71d8310",
   "metadata": {},
   "outputs": [],
   "source": [
    "# напишите свой код здесь"
   ]
  },
  {
   "cell_type": "code",
   "execution_count": null,
   "id": "0a7e001f",
   "metadata": {},
   "outputs": [],
   "source": []
  },
  {
   "cell_type": "code",
   "execution_count": null,
   "id": "749d4b50",
   "metadata": {},
   "outputs": [],
   "source": []
  },
  {
   "cell_type": "code",
   "execution_count": null,
   "id": "d0f7ed8b",
   "metadata": {},
   "outputs": [],
   "source": []
  },
  {
   "cell_type": "code",
   "execution_count": null,
   "id": "3f3576e7",
   "metadata": {},
   "outputs": [],
   "source": []
  }
 ],
 "metadata": {
  "kernelspec": {
   "display_name": "Python 3 (ipykernel)",
   "language": "python",
   "name": "python3"
  },
  "language_info": {
   "codemirror_mode": {
    "name": "ipython",
    "version": 3
   },
   "file_extension": ".py",
   "mimetype": "text/x-python",
   "name": "python",
   "nbconvert_exporter": "python",
   "pygments_lexer": "ipython3",
   "version": "3.11.6"
  }
 },
 "nbformat": 4,
 "nbformat_minor": 5
}
