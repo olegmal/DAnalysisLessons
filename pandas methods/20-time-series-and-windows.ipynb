{
 "cells": [
  {
   "cell_type": "markdown",
   "id": "49c94ebe",
   "metadata": {},
   "source": [
    "<a target=\"_blank\" href=\"https://colab.research.google.com/github/victorlymarev/pandas/blob/main/notebooks/20-time-series-and-windows.ipynb\">\n",
    "  <img src=\"https://colab.research.google.com/assets/colab-badge.svg\" alt=\"Open In Colab\"/>\n",
    "</a>"
   ]
  },
  {
   "cell_type": "markdown",
   "id": "e68d330d",
   "metadata": {},
   "source": [
    "# Временные ряды\n",
    "#### [Ссылка на видео](https://youtu.be/XxMtQPDesjQ)"
   ]
  },
  {
   "cell_type": "code",
   "execution_count": null,
   "id": "f33c62b7",
   "metadata": {},
   "outputs": [],
   "source": [
    "import pandas as pd\n",
    "import matplotlib.pyplot as plt\n",
    "import os"
   ]
  },
  {
   "cell_type": "markdown",
   "id": "cdc756bd",
   "metadata": {},
   "source": [
    "Читаем данные"
   ]
  },
  {
   "cell_type": "code",
   "execution_count": null,
   "id": "9dccf0c8",
   "metadata": {},
   "outputs": [],
   "source": [
    "path_ltc_sample = '../tables/ltc_sample.parquet' if os.path.exists('../tables/ltc_sample.parquet') else 'https://drive.google.com/uc?id=1XaThogOOqKjJj50LvfJ9WqutjMAC5AxA'\n",
    "\n",
    "ltc = pd.read_parquet(path_ltc_sample)\n",
    "ltc.head()"
   ]
  },
  {
   "cell_type": "markdown",
   "id": "6328b5f2",
   "metadata": {},
   "source": [
    "#### Рисуем графики"
   ]
  },
  {
   "cell_type": "code",
   "execution_count": null,
   "id": "cc59c7a1",
   "metadata": {},
   "outputs": [],
   "source": [
    "plt.figure(figsize=(10, 5))\n",
    "ltc.set_index('date')['price'].plot()\n",
    "plt.xlabel('Дата')\n",
    "plt.ylabel('Цена, $')\n",
    "plt.title('Цена litecoin')\n",
    "plt.show()"
   ]
  },
  {
   "cell_type": "code",
   "execution_count": null,
   "id": "62d86b00",
   "metadata": {},
   "outputs": [],
   "source": []
  },
  {
   "cell_type": "code",
   "execution_count": null,
   "id": "046070d7",
   "metadata": {},
   "outputs": [],
   "source": []
  },
  {
   "cell_type": "code",
   "execution_count": null,
   "id": "5afcc203",
   "metadata": {},
   "outputs": [],
   "source": []
  },
  {
   "cell_type": "code",
   "execution_count": null,
   "id": "04f5affe",
   "metadata": {},
   "outputs": [],
   "source": []
  },
  {
   "cell_type": "markdown",
   "id": "229881c5",
   "metadata": {},
   "source": [
    "### Делаем лаги"
   ]
  },
  {
   "cell_type": "code",
   "execution_count": null,
   "id": "79776cf8",
   "metadata": {},
   "outputs": [],
   "source": [
    "(ltc[['price']]\n",
    "    .sample(5, random_state=123)\n",
    "    .sort_index()\n",
    "    .assign(shift_1 = lambda x: x['price'].shift(1))\n",
    "    .assign(shift_2 = lambda x: x['price'].shift(2))\n",
    ")"
   ]
  },
  {
   "cell_type": "code",
   "execution_count": null,
   "id": "692bfb84",
   "metadata": {},
   "outputs": [],
   "source": [
    "(ltc[['price']]\n",
    "    .sample(5, random_state=123)\n",
    "    .sort_index()\n",
    "    .assign(shift_minus_1 = lambda x: x['price'].shift(-1))\n",
    "    .assign(shift_minus_2 = lambda x: x['price'].shift(-2))\n",
    ")"
   ]
  },
  {
   "cell_type": "markdown",
   "id": "f05970d4",
   "metadata": {},
   "source": [
    "#### Разница с предыдущим значением"
   ]
  },
  {
   "cell_type": "code",
   "execution_count": null,
   "id": "62229eff",
   "metadata": {},
   "outputs": [],
   "source": [
    "(ltc[['price']]\n",
    "    .sample(5, random_state=123)\n",
    "    .sort_index()\n",
    "    .assign(diff_1 = lambda x: x['price'].diff(1))\n",
    "    .assign(diff_manual_1 = lambda x: x['price'] - x['price'].shift(1))\n",
    " \n",
    "    .assign(diff_2 = lambda x: x['price'].diff(2))\n",
    "    .assign(diff_manual_2 = lambda x: x['price'] - x['price'].shift(2))\n",
    ")"
   ]
  },
  {
   "cell_type": "markdown",
   "id": "250ce6da",
   "metadata": {},
   "source": [
    "#### Прирост к предыдущему наблюдению"
   ]
  },
  {
   "cell_type": "code",
   "execution_count": null,
   "id": "7494718a",
   "metadata": {},
   "outputs": [],
   "source": [
    "(ltc[['price']]\n",
    "    .sample(5, random_state=123)\n",
    "    .sort_index()\n",
    "    .assign(pct_change_1 = lambda x: x['price'].pct_change(1))\n",
    "    .assign(pct_change_manual_1 = lambda x: x['price'] / x['price'].shift(1) - 1)\n",
    "\n",
    "    .assign(pct_change_2 = lambda x: x['price'].pct_change(2))\n",
    "    .assign(pct_change_manual_2 = lambda x: x['price'] / x['price'].shift(2) - 1)\n",
    ")"
   ]
  },
  {
   "cell_type": "code",
   "execution_count": null,
   "id": "8501917d",
   "metadata": {},
   "outputs": [],
   "source": []
  },
  {
   "cell_type": "code",
   "execution_count": null,
   "id": "cc45e66d",
   "metadata": {},
   "outputs": [],
   "source": []
  },
  {
   "cell_type": "code",
   "execution_count": null,
   "id": "dfafc132",
   "metadata": {},
   "outputs": [],
   "source": []
  },
  {
   "cell_type": "code",
   "execution_count": null,
   "id": "7b9620d7",
   "metadata": {},
   "outputs": [],
   "source": []
  },
  {
   "cell_type": "code",
   "execution_count": null,
   "id": "ef25e789",
   "metadata": {},
   "outputs": [],
   "source": []
  },
  {
   "cell_type": "markdown",
   "id": "584e750f",
   "metadata": {},
   "source": [
    "## Приводим временной ряд к фиксированной частоте"
   ]
  },
  {
   "cell_type": "code",
   "execution_count": null,
   "id": "1ec30b9d",
   "metadata": {},
   "outputs": [],
   "source": [
    "(ltc\n",
    "    .drop_duplicates('date', keep='last')\n",
    "    .set_index('date')\n",
    "    .head()\n",
    ")"
   ]
  },
  {
   "cell_type": "code",
   "execution_count": null,
   "id": "1b655987",
   "metadata": {},
   "outputs": [],
   "source": [
    "(ltc\n",
    "    .drop_duplicates('date', keep='last')\n",
    "    .set_index('date')\n",
    "    .asfreq(freq='30 min')\n",
    "    .head()\n",
    ")"
   ]
  },
  {
   "cell_type": "markdown",
   "id": "0a089d0c",
   "metadata": {},
   "source": [
    "Заполняем последним доступным значением"
   ]
  },
  {
   "cell_type": "code",
   "execution_count": null,
   "id": "c25a2f30",
   "metadata": {},
   "outputs": [],
   "source": [
    "(ltc\n",
    "    .drop_duplicates('date', keep='last')\n",
    "    .set_index('date')\n",
    "    .asfreq(freq='30 min', method='ffill') # method='pad'\n",
    "    .head()\n",
    ")"
   ]
  },
  {
   "cell_type": "code",
   "execution_count": null,
   "id": "a6e29033",
   "metadata": {},
   "outputs": [],
   "source": [
    "(ltc\n",
    "    .drop_duplicates('date', keep='last')\n",
    "    .set_index('date')\n",
    "    ['price']\n",
    "    .asfreq(freq='30 min', method='backfill') # method='bfill'\n",
    "    .head()\n",
    ")"
   ]
  },
  {
   "cell_type": "code",
   "execution_count": null,
   "id": "525e3177",
   "metadata": {},
   "outputs": [],
   "source": [
    "# Можно поменять индекс первого наблюдения\n",
    "(ltc\n",
    "    .drop_duplicates('date', keep='last')\n",
    "    .set_index('date')\n",
    "    .rename({pd.Timestamp('2013-11-13 15:00:56'): pd.Timestamp('2013-10-24 15:00')}) # не забудьте обернуть Timestamp\n",
    "    .asfreq(freq='30 min', method='ffill') # method='bfill'\n",
    "    .head()\n",
    ")"
   ]
  },
  {
   "cell_type": "code",
   "execution_count": null,
   "id": "7ad3fe2f",
   "metadata": {},
   "outputs": [],
   "source": []
  },
  {
   "cell_type": "code",
   "execution_count": null,
   "id": "d9f4a073",
   "metadata": {},
   "outputs": [],
   "source": []
  },
  {
   "cell_type": "code",
   "execution_count": null,
   "id": "fbac286a",
   "metadata": {},
   "outputs": [],
   "source": []
  },
  {
   "cell_type": "code",
   "execution_count": null,
   "id": "a842decc",
   "metadata": {},
   "outputs": [],
   "source": []
  },
  {
   "cell_type": "code",
   "execution_count": null,
   "id": "635131fd",
   "metadata": {},
   "outputs": [],
   "source": []
  },
  {
   "cell_type": "markdown",
   "id": "ce37e8d9",
   "metadata": {},
   "source": [
    "## Окна\n",
    "\n",
    "### resemple"
   ]
  },
  {
   "cell_type": "code",
   "execution_count": null,
   "id": "c52a0490",
   "metadata": {},
   "outputs": [],
   "source": [
    "ltc.tail(10000).resample('30 min', on='date').apply(lambda x: list(x))"
   ]
  },
  {
   "cell_type": "code",
   "execution_count": null,
   "id": "b6b61e57",
   "metadata": {},
   "outputs": [],
   "source": [
    "ltc.resample('30 min', on='date')"
   ]
  },
  {
   "cell_type": "code",
   "execution_count": null,
   "id": "8b7731cf",
   "metadata": {},
   "outputs": [],
   "source": [
    "ltc.set_index('date').resample('30 min')"
   ]
  },
  {
   "cell_type": "markdown",
   "id": "a411d5c1",
   "metadata": {},
   "source": [
    "### После окон можно использовать те же функции, что и после groupby"
   ]
  },
  {
   "cell_type": "code",
   "execution_count": null,
   "id": "b02c18b4",
   "metadata": {},
   "outputs": [],
   "source": [
    "ltc.resample('30 min', on='date')['price'].mean()"
   ]
  },
  {
   "cell_type": "markdown",
   "id": "25a46877",
   "metadata": {},
   "source": [
    "#### Открытие (первое значение), максимум, минимум, закрытие (последнее значение)"
   ]
  },
  {
   "cell_type": "code",
   "execution_count": null,
   "id": "28025013",
   "metadata": {},
   "outputs": [],
   "source": [
    "ltc.resample('30 min', on='date')['price'].ohlc()"
   ]
  },
  {
   "cell_type": "markdown",
   "id": "8b05f3d1",
   "metadata": {},
   "source": [
    "#### agg"
   ]
  },
  {
   "cell_type": "code",
   "execution_count": null,
   "id": "81991088",
   "metadata": {},
   "outputs": [],
   "source": [
    "ltc.resample('30 min', on='date')['price'].agg(['mean', 'max'])"
   ]
  },
  {
   "cell_type": "markdown",
   "id": "8670a6f8",
   "metadata": {},
   "source": [
    "#### Первое значение"
   ]
  },
  {
   "cell_type": "code",
   "execution_count": null,
   "id": "4c9f88f5",
   "metadata": {},
   "outputs": [],
   "source": [
    "ltc.resample('30 min', on='date')['price'].first()"
   ]
  },
  {
   "cell_type": "markdown",
   "id": "4ebbb42a",
   "metadata": {},
   "source": [
    "#### Последнее значение"
   ]
  },
  {
   "cell_type": "code",
   "execution_count": null,
   "id": "6c54bfc0",
   "metadata": {},
   "outputs": [],
   "source": [
    "ltc.resample('30 min', on='date')['price'].last()"
   ]
  },
  {
   "cell_type": "markdown",
   "id": "ac54f8c8",
   "metadata": {},
   "source": [
    "#### Можно использовать свои функции"
   ]
  },
  {
   "cell_type": "code",
   "execution_count": null,
   "id": "99fa41bf",
   "metadata": {},
   "outputs": [],
   "source": [
    "ltc.set_index('date')['price'].resample('d').agg(lambda x: x.iloc[::10].mean())"
   ]
  },
  {
   "cell_type": "code",
   "execution_count": null,
   "id": "41179f5e",
   "metadata": {},
   "outputs": [],
   "source": []
  },
  {
   "cell_type": "code",
   "execution_count": null,
   "id": "bbd8f63a",
   "metadata": {},
   "outputs": [],
   "source": []
  },
  {
   "cell_type": "code",
   "execution_count": null,
   "id": "f828805c",
   "metadata": {},
   "outputs": [],
   "source": []
  },
  {
   "cell_type": "code",
   "execution_count": null,
   "id": "564565b6",
   "metadata": {},
   "outputs": [],
   "source": []
  },
  {
   "cell_type": "code",
   "execution_count": null,
   "id": "3520c96a",
   "metadata": {},
   "outputs": [],
   "source": []
  },
  {
   "cell_type": "markdown",
   "id": "403a37f9",
   "metadata": {},
   "source": [
    "## rolling\n",
    "\n",
    "Скользящее окно"
   ]
  },
  {
   "cell_type": "code",
   "execution_count": null,
   "id": "65da1368",
   "metadata": {},
   "outputs": [],
   "source": [
    "path_stocks = '../tables/stocks.parquet' if os.path.exists('../tables/stocks.parquet') else 'https://drive.google.com/uc?id=1weGquTtmR92mKYAeZhZCFHJjndyoSXZt'\n",
    "\n",
    "stocks = pd.read_parquet(path_stocks)\n",
    "stocks.head()"
   ]
  },
  {
   "cell_type": "code",
   "execution_count": null,
   "id": "4850f030",
   "metadata": {},
   "outputs": [],
   "source": [
    "stocks['Цена'].head()"
   ]
  },
  {
   "cell_type": "code",
   "execution_count": null,
   "id": "58f2e41c",
   "metadata": {},
   "outputs": [],
   "source": [
    "[list(window) for window in stocks['Цена'].round(3).rolling(window=4)][:10]"
   ]
  },
  {
   "cell_type": "code",
   "execution_count": null,
   "id": "61d577c4",
   "metadata": {},
   "outputs": [],
   "source": [
    "stocks['Цена'].rolling(window=4).mean().head(8)"
   ]
  },
  {
   "cell_type": "code",
   "execution_count": null,
   "id": "23d231ba",
   "metadata": {},
   "outputs": [],
   "source": [
    "stocks['Цена'].rolling(window=4, min_periods=1).mean().head(8)"
   ]
  },
  {
   "cell_type": "markdown",
   "id": "71a0ab72",
   "metadata": {},
   "source": [
    "#### Взять каждое второе наблюдение можно при помощи своей функции"
   ]
  },
  {
   "cell_type": "code",
   "execution_count": null,
   "id": "08f1187a",
   "metadata": {
    "scrolled": true
   },
   "outputs": [],
   "source": [
    "(stocks\n",
    "    ['Цена']\n",
    "    .rolling(window=10, min_periods=1)\n",
    "    .agg(['mean', lambda x: x[::2].mean()])\n",
    "    .set_axis(['Среднее', 'Среднее за каждое второе наблюдение'], axis=1)\n",
    "    .head()\n",
    ")"
   ]
  },
  {
   "cell_type": "code",
   "execution_count": null,
   "id": "eb9bd9f1",
   "metadata": {},
   "outputs": [],
   "source": []
  },
  {
   "cell_type": "code",
   "execution_count": null,
   "id": "bf493d75",
   "metadata": {},
   "outputs": [],
   "source": []
  },
  {
   "cell_type": "code",
   "execution_count": null,
   "id": "6721ae7a",
   "metadata": {},
   "outputs": [],
   "source": []
  },
  {
   "cell_type": "markdown",
   "id": "f3827169",
   "metadata": {},
   "source": [
    "### expanding\n",
    "\n",
    "Расширяющееся окно"
   ]
  },
  {
   "cell_type": "code",
   "execution_count": null,
   "id": "74a8eb23",
   "metadata": {},
   "outputs": [],
   "source": [
    "stocks['Цена'].expanding().sum()"
   ]
  },
  {
   "cell_type": "code",
   "execution_count": null,
   "id": "e44addff",
   "metadata": {},
   "outputs": [],
   "source": [
    "stocks['Цена'].cumsum()"
   ]
  },
  {
   "cell_type": "code",
   "execution_count": null,
   "id": "c8a0c2ed",
   "metadata": {},
   "outputs": [],
   "source": [
    "stocks['Цена'].expanding().mean()"
   ]
  },
  {
   "cell_type": "code",
   "execution_count": null,
   "id": "85420f72",
   "metadata": {},
   "outputs": [],
   "source": []
  },
  {
   "cell_type": "code",
   "execution_count": null,
   "id": "4c6d0d7e",
   "metadata": {},
   "outputs": [],
   "source": []
  },
  {
   "cell_type": "code",
   "execution_count": null,
   "id": "ca767591",
   "metadata": {},
   "outputs": [],
   "source": []
  },
  {
   "cell_type": "markdown",
   "id": "76a24674",
   "metadata": {},
   "source": [
    "### ewm\n",
    "\n",
    "Окно с экспоненциально взвешенными операциями"
   ]
  },
  {
   "cell_type": "code",
   "execution_count": null,
   "id": "b0b1ebe1",
   "metadata": {},
   "outputs": [],
   "source": [
    "stocks['Цена'].ewm(alpha=0.5)"
   ]
  },
  {
   "attachments": {
    "image.png": {
     "image/png": "[encoded data removed]"
    }
   },
   "cell_type": "markdown",
   "id": "4a490189",
   "metadata": {},
   "source": [
    "**adjust=True**\n",
    "![image.png](attachment:image.png)"
   ]
  },
  {
   "attachments": {
    "image.png": {
     "image/png": "[encoded data removed]"
    }
   },
   "cell_type": "markdown",
   "id": "9c5d6966",
   "metadata": {},
   "source": [
    "**adjust=False**\n",
    "\n",
    "![image.png](attachment:image.png)"
   ]
  },
  {
   "cell_type": "code",
   "execution_count": null,
   "id": "462a14d7",
   "metadata": {},
   "outputs": [],
   "source": [
    "stocks['Цена'].ewm(alpha=0.5).mean()"
   ]
  },
  {
   "cell_type": "code",
   "execution_count": null,
   "id": "85091d3e",
   "metadata": {},
   "outputs": [],
   "source": []
  },
  {
   "cell_type": "code",
   "execution_count": null,
   "id": "596716a5",
   "metadata": {},
   "outputs": [],
   "source": []
  },
  {
   "cell_type": "code",
   "execution_count": null,
   "id": "a8b0d391",
   "metadata": {},
   "outputs": [],
   "source": []
  },
  {
   "cell_type": "code",
   "execution_count": null,
   "id": "26e4cdd1",
   "metadata": {},
   "outputs": [],
   "source": []
  },
  {
   "cell_type": "code",
   "execution_count": null,
   "id": "8b89ef7f",
   "metadata": {},
   "outputs": [],
   "source": []
  },
  {
   "cell_type": "code",
   "execution_count": null,
   "id": "4c98d29a",
   "metadata": {},
   "outputs": [],
   "source": []
  },
  {
   "cell_type": "code",
   "execution_count": null,
   "id": "1e6dfa2f",
   "metadata": {},
   "outputs": [],
   "source": []
  },
  {
   "cell_type": "code",
   "execution_count": null,
   "id": "591327af",
   "metadata": {},
   "outputs": [],
   "source": []
  },
  {
   "cell_type": "code",
   "execution_count": null,
   "id": "17c9d310",
   "metadata": {},
   "outputs": [],
   "source": []
  },
  {
   "cell_type": "code",
   "execution_count": null,
   "id": "c4afbde3",
   "metadata": {},
   "outputs": [],
   "source": []
  },
  {
   "cell_type": "markdown",
   "id": "07a807a0",
   "metadata": {},
   "source": [
    "# Задания"
   ]
  },
  {
   "cell_type": "markdown",
   "id": "1148b44d",
   "metadata": {},
   "source": [
    "#### Описание таблиц лежит [здесь](https://github.com/victorlymarev/pandas/tree/main/tables#%D0%BE%D0%BF%D0%B8%D1%81%D0%B0%D0%BD%D0%B8%D0%B5-%D1%82%D0%B0%D0%B1%D0%BB%D0%B8%D1%86)"
   ]
  },
  {
   "cell_type": "markdown",
   "id": "895499b9",
   "metadata": {},
   "source": [
    "Некоторые таблицы занимают много памяти, поэтому каждые 5-10 заданий лучше перезапускайте ноутбук.\n",
    "\n",
    "В формулировке некоторых заданий может содержаться вариативность. Если у вас есть сомнения, что требуется в задании, попробуйте решить несколько вариантов. Если вы не понимаете задание, можете написать об этом в комментариях под видео.\n",
    "\n",
    "В большинстве случаев внешний вид итоговой таблицы не определен. Выведите на экран наиболее адекватный вариант. То есть таблицу, из которой можно будет сделать выводы.\n",
    "\n",
    "Курс пока находится в разработке. Вы можете помочь другим людям добавив свое решение [сюда](https://docs.google.com/forms/d/1HYTBz_KfssY3Jps2dC3n0YnEqa6WBb5OIhLo1d32Xzw/edit).\n",
    "\n",
    "Посмотреть решения других людей можно [здесь](https://docs.google.com/spreadsheets/d/1pMDYO-9UneLbPPnEuQ2shig0TOJdQTU-zipifyAnZMk/edit?resourcekey#gid=1998648012)"
   ]
  },
  {
   "cell_type": "markdown",
   "id": "282be8f5",
   "metadata": {},
   "source": [
    "### Задание 1\n",
    "\n",
    "Для каждой даты выясните ли следующий день выходным (True если выходной, False если нет)"
   ]
  },
  {
   "cell_type": "code",
   "execution_count": null,
   "id": "79fef4eb",
   "metadata": {},
   "outputs": [],
   "source": [
    "import os\n",
    "import pandas as pd\n",
    "\n",
    "path_w_ends = '../tables/выходные.csv' if os.path.exists('../tables/выходные.csv') else 'https://drive.google.com/uc?id=1hAsoXSPTFihFmBuF-E0uSj9pX4gpojwC'\n",
    "\n",
    "w_ends = pd.read_csv(path_w_ends)\n",
    "w_ends.head()"
   ]
  },
  {
   "cell_type": "code",
   "execution_count": null,
   "id": "33bdca83",
   "metadata": {},
   "outputs": [],
   "source": [
    "# напишите свой код здесь"
   ]
  },
  {
   "cell_type": "markdown",
   "id": "970aa15a",
   "metadata": {},
   "source": [
    "### Задание 2\n",
    "\n",
    "Постройте график суммарной выручки магазина 1 за каждый день. На том же графике разметите сглаженный график (тип сглаживания и длинну интервала сглаживания определите сами)"
   ]
  },
  {
   "cell_type": "code",
   "execution_count": null,
   "id": "dc5da942",
   "metadata": {},
   "outputs": [],
   "source": [
    "# таблица sales - большая, и в некоторых случаях ваш компьютер может не справиться с ее обработкой\n",
    "# поэтому лучше работайте с частью этой таблицы\n",
    "# но если вы хотите попробовать поработать с полной версией таблицы,\n",
    "# можете заменить переменную path_sales_sample на path_sales внутри функции read_parquet\n",
    "\n",
    "import os\n",
    "import pandas as pd\n",
    "\n",
    "path_sales_sample = '../tables/sales_sample.parquet' if os.path.exists('../tables/sales_sample.parquet') else 'https://drive.google.com/uc?id=1BgxAxPauzC4LObY3N65PgAvnU3f5QRj2'\n",
    "# path_sales = '../tables/sales.parquet' if os.path.exists('../tables/sales.parquet') else \"https://drive.usercontent.google.com/download?id=15KwSxyM6hpNABGe6_vsrFZvD09VfHFyK&export=download&authuser=1&confirm=t&uuid=115bd48c-cc2c-4f2a-8b42-be5ca6ef6db8&at=APZUnTUVb8nfNANw5wr9Cad7PJ3U:1693327774694\"\n",
    "\n",
    "sales = pd.read_parquet(path_sales_sample)\n",
    "sales.head()"
   ]
  },
  {
   "cell_type": "code",
   "execution_count": null,
   "id": "3aa3040b",
   "metadata": {},
   "outputs": [],
   "source": [
    "# напишите свой код здесь"
   ]
  },
  {
   "cell_type": "markdown",
   "id": "d41191d4",
   "metadata": {},
   "source": [
    "### Задание 3\n",
    "\n",
    "Для каждого месяца посчитать отношения числа проданных товаров в этом месяце к предыдущему, а так же прирост в выручке"
   ]
  },
  {
   "cell_type": "code",
   "execution_count": null,
   "id": "698e029b",
   "metadata": {},
   "outputs": [],
   "source": [
    "# таблица sales - большая, и в некоторых случаях ваш компьютер может не справиться с ее обработкой\n",
    "# поэтому лучше работайте с частью этой таблицы\n",
    "# но если вы хотите попробовать поработать с полной версией таблицы,\n",
    "# можете заменить переменную path_sales_sample на path_sales внутри функции read_parquet\n",
    "\n",
    "import os\n",
    "import pandas as pd\n",
    "\n",
    "path_sales_sample = '../tables/sales_sample.parquet' if os.path.exists('../tables/sales_sample.parquet') else 'https://drive.google.com/uc?id=1BgxAxPauzC4LObY3N65PgAvnU3f5QRj2'\n",
    "# path_sales = '../tables/sales.parquet' if os.path.exists('../tables/sales.parquet') else \"https://drive.usercontent.google.com/download?id=15KwSxyM6hpNABGe6_vsrFZvD09VfHFyK&export=download&authuser=1&confirm=t&uuid=115bd48c-cc2c-4f2a-8b42-be5ca6ef6db8&at=APZUnTUVb8nfNANw5wr9Cad7PJ3U:1693327774694\"\n",
    "\n",
    "sales = pd.read_parquet(path_sales_sample)\n",
    "sales.head()"
   ]
  },
  {
   "cell_type": "code",
   "execution_count": null,
   "id": "2e77fbbd",
   "metadata": {},
   "outputs": [],
   "source": [
    "# напишите свой код здесь"
   ]
  },
  {
   "cell_type": "markdown",
   "id": "3b097fa1",
   "metadata": {},
   "source": [
    "### Задание 4\n",
    "\n",
    "Посчитать VaR и ES (на уровне 95%) для цены акций на 1 и на 10 торговых дней\n",
    "\n",
    "VaR (value at risk) (на уровне 95%) - это 95 квантиль потерь (или пятый квантиль доходностей)\n",
    " \n",
    "ES (expected shortfall) (на уровне 95%) - это средние убытки при условии, что состоялся неблагоприятный сценарий и убытки пробили 95% порог"
   ]
  },
  {
   "cell_type": "code",
   "execution_count": null,
   "id": "41fce10f",
   "metadata": {},
   "outputs": [],
   "source": [
    "import os\n",
    "import pandas as pd\n",
    "\n",
    "path_stocks = '../tables/stocks.parquet' if os.path.exists('../tables/stocks.parquet') else 'https://drive.google.com/uc?id=1weGquTtmR92mKYAeZhZCFHJjndyoSXZt'\n",
    "\n",
    "stocks = pd.read_parquet(path_stocks)\n",
    "stocks.head()"
   ]
  },
  {
   "cell_type": "code",
   "execution_count": null,
   "id": "2f487dd4",
   "metadata": {},
   "outputs": [],
   "source": [
    "# напишите свой код здесь"
   ]
  },
  {
   "cell_type": "markdown",
   "id": "d7ca2ae4",
   "metadata": {},
   "source": [
    "### Задание 5\n",
    "\n",
    "Для каждого сотрудника посчитать среднюю оценку за 3 месяца и за полгода. Предварительно приведите колонку с оценкой сотрудника к типу float"
   ]
  },
  {
   "cell_type": "code",
   "execution_count": null,
   "id": "e80ef9b3",
   "metadata": {},
   "outputs": [],
   "source": [
    "import os\n",
    "import pandas as pd\n",
    "\n",
    "path_empl = '../tables/employees.parquet' if os.path.exists('../tables/employees.parquet') else 'https://drive.google.com/uc?id=1AARD5-eVlCxoApt5CYZebrC3Cqw42lvj'\n",
    "\n",
    "empl = pd.read_parquet(path_empl)\n",
    "empl.head()"
   ]
  },
  {
   "cell_type": "code",
   "execution_count": null,
   "id": "fb130be7",
   "metadata": {},
   "outputs": [],
   "source": [
    "# напишите свой код здесь"
   ]
  },
  {
   "cell_type": "markdown",
   "id": "0c444f2d",
   "metadata": {},
   "source": [
    "### Задание 6\n",
    "\n",
    "Для каждого сотрудника почитайте его среднюю оценку по состоянию на каждый месяц. То есть если сотрудник пропаботал год, то для каждого месяца его работы должна быть вычислена средняя оценки за предыдущие месяца его работы. Предварительно приведите колонку с оценкой сотрудника к типу float"
   ]
  },
  {
   "cell_type": "code",
   "execution_count": null,
   "id": "74d1288c",
   "metadata": {},
   "outputs": [],
   "source": [
    "import os\n",
    "import pandas as pd\n",
    "\n",
    "path_empl = '../tables/employees.parquet' if os.path.exists('../tables/employees.parquet') else 'https://drive.google.com/uc?id=1AARD5-eVlCxoApt5CYZebrC3Cqw42lvj'\n",
    "\n",
    "empl = pd.read_parquet(path_empl)\n",
    "empl.head()"
   ]
  },
  {
   "cell_type": "code",
   "execution_count": null,
   "id": "548ca581",
   "metadata": {},
   "outputs": [],
   "source": [
    "# напишите свой код здесь"
   ]
  },
  {
   "cell_type": "markdown",
   "id": "af92d8c9",
   "metadata": {},
   "source": [
    "### Задание 7\n",
    "\n",
    "Постройте график числа чеков в день за первые 30 дней работы, по каждому магазину"
   ]
  },
  {
   "cell_type": "code",
   "execution_count": null,
   "id": "bebfdd9d",
   "metadata": {},
   "outputs": [],
   "source": [
    "# таблица sales - большая, и в некоторых случаях ваш компьютер может не справиться с ее обработкой\n",
    "# поэтому лучше работайте с частью этой таблицы\n",
    "# но если вы хотите попробовать поработать с полной версией таблицы,\n",
    "# можете заменить переменную path_sales_sample на path_sales внутри функции read_parquet\n",
    "\n",
    "import os\n",
    "import pandas as pd\n",
    "\n",
    "path_sales_sample = '../tables/sales_sample.parquet' if os.path.exists('../tables/sales_sample.parquet') else 'https://drive.google.com/uc?id=1BgxAxPauzC4LObY3N65PgAvnU3f5QRj2'\n",
    "# path_sales = '../tables/sales.parquet' if os.path.exists('../tables/sales.parquet') else \"https://drive.usercontent.google.com/download?id=15KwSxyM6hpNABGe6_vsrFZvD09VfHFyK&export=download&authuser=1&confirm=t&uuid=115bd48c-cc2c-4f2a-8b42-be5ca6ef6db8&at=APZUnTUVb8nfNANw5wr9Cad7PJ3U:1693327774694\"\n",
    "\n",
    "sales = pd.read_parquet(path_sales_sample)\n",
    "sales.head()"
   ]
  },
  {
   "cell_type": "code",
   "execution_count": null,
   "id": "59e48b9f",
   "metadata": {},
   "outputs": [],
   "source": [
    "# напишите свой код здесь"
   ]
  },
  {
   "cell_type": "markdown",
   "id": "175b4468",
   "metadata": {},
   "source": [
    "### Задание 8\n",
    "\n",
    "Посмотрите на среднюю оценку каждого сотрудника. Если в последние 3 месяца она не падает, то отметьте сотрудника как полезного. Если она не растет, то отметьте сотрудника как неполезного. Иначе поставьте NaN"
   ]
  },
  {
   "cell_type": "code",
   "execution_count": null,
   "id": "599c81f3",
   "metadata": {},
   "outputs": [],
   "source": [
    "import os\n",
    "import pandas as pd\n",
    "\n",
    "path_empl = '../tables/employees.parquet' if os.path.exists('../tables/employees.parquet') else 'https://drive.google.com/uc?id=1AARD5-eVlCxoApt5CYZebrC3Cqw42lvj'\n",
    "\n",
    "empl = pd.read_parquet(path_empl)\n",
    "empl.head()"
   ]
  },
  {
   "cell_type": "code",
   "execution_count": null,
   "id": "61c8bf20",
   "metadata": {},
   "outputs": [],
   "source": [
    "# напишите свой код здесь"
   ]
  },
  {
   "cell_type": "markdown",
   "id": "5a0efcab",
   "metadata": {},
   "source": [
    "### Задание 9\n",
    "\n",
    "По таблице prices найти товары которые были в продаже, потом исчезли, но затем вернулись"
   ]
  },
  {
   "cell_type": "code",
   "execution_count": null,
   "id": "b82acd9b",
   "metadata": {},
   "outputs": [],
   "source": [
    "import os\n",
    "import pandas as pd\n",
    "\n",
    "path_prices = '../tables/prices.parquet' if os.path.exists('../tables/prices.parquet') else 'https://drive.google.com/uc?id=1_KfYyYCsib8woanbP3VouLUpYp103dV5'\n",
    "\n",
    "prices = pd.read_parquet(path_prices)\n",
    "prices.head()"
   ]
  },
  {
   "cell_type": "code",
   "execution_count": null,
   "id": "f5b0514f",
   "metadata": {},
   "outputs": [],
   "source": [
    "# напишите свой код здесь"
   ]
  },
  {
   "cell_type": "markdown",
   "id": "712751dc",
   "metadata": {},
   "source": [
    "### Задание 10\n",
    "\n",
    "Для каждого клиента и чека найти дату предыдущей покупки\n",
    "\n",
    "То есть таблица должна содержать колонки номер чека (поле без дубликатов), id клиента, дата покупки, дата предыдущей покупки"
   ]
  },
  {
   "cell_type": "code",
   "execution_count": null,
   "id": "58eff7ee",
   "metadata": {},
   "outputs": [],
   "source": [
    "# таблица sales - большая, и в некоторых случаях ваш компьютер может не справиться с ее обработкой\n",
    "# поэтому лучше работайте с частью этой таблицы\n",
    "# но если вы хотите попробовать поработать с полной версией таблицы,\n",
    "# можете заменить переменную path_sales_sample на path_sales внутри функции read_parquet\n",
    "\n",
    "import os\n",
    "import pandas as pd\n",
    "\n",
    "path_sales_sample = '../tables/sales_sample.parquet' if os.path.exists('../tables/sales_sample.parquet') else 'https://drive.google.com/uc?id=1BgxAxPauzC4LObY3N65PgAvnU3f5QRj2'\n",
    "# path_sales = '../tables/sales.parquet' if os.path.exists('../tables/sales.parquet') else \"https://drive.usercontent.google.com/download?id=15KwSxyM6hpNABGe6_vsrFZvD09VfHFyK&export=download&authuser=1&confirm=t&uuid=115bd48c-cc2c-4f2a-8b42-be5ca6ef6db8&at=APZUnTUVb8nfNANw5wr9Cad7PJ3U:1693327774694\"\n",
    "\n",
    "sales = pd.read_parquet(path_sales_sample)\n",
    "sales.head()"
   ]
  },
  {
   "cell_type": "code",
   "execution_count": null,
   "id": "6b1be9a2",
   "metadata": {},
   "outputs": [],
   "source": [
    "# напишите свой код здесь"
   ]
  },
  {
   "cell_type": "markdown",
   "id": "ffc60486",
   "metadata": {},
   "source": [
    "### Задание 11\n",
    "\n",
    "Для каждого товара посчитайте, насколько цена товара сейчас выше своего среднего заначения за предыдущие 4 месяца"
   ]
  },
  {
   "cell_type": "code",
   "execution_count": null,
   "id": "d3ea72a4",
   "metadata": {},
   "outputs": [],
   "source": [
    "import os\n",
    "import pandas as pd\n",
    "\n",
    "path_prices = '../tables/prices.parquet' if os.path.exists('../tables/prices.parquet') else 'https://drive.google.com/uc?id=1_KfYyYCsib8woanbP3VouLUpYp103dV5'\n",
    "\n",
    "prices = pd.read_parquet(path_prices)\n",
    "prices.head()"
   ]
  },
  {
   "cell_type": "code",
   "execution_count": null,
   "id": "ad3b4a29",
   "metadata": {},
   "outputs": [],
   "source": [
    "# напишите свой код здесь"
   ]
  },
  {
   "cell_type": "markdown",
   "id": "77d9556b",
   "metadata": {},
   "source": [
    "### Задание 12\n",
    "\n",
    "На конец каждого месяца посчитайте, сколько дней проработал сотрудник. Если сотрудник увольнялся, необходимо учитывать предыдущий стаж\n",
    "\n",
    "\n",
    "<details>\n",
    "\n",
    "<summary>Подсказка</summary>\n",
    " \n",
    "Здесь можно для каждого периода работы для каждого сотрудника посчитать, сколько дней он отработал. Отсортировать эти периоды по дате начала работы и посчитать накопленную сумму числа дней. Сдвинуть это значение на 1 период период и для первого периода начала работы заполнить нулем. Затем это значение можно смерджить с основной таблицей и прибавить это накопленное значение к числу дней работы с момента последнего устройства на работу.\n",
    "\n",
    "</details>"
   ]
  },
  {
   "cell_type": "code",
   "execution_count": null,
   "id": "f6ee6f08",
   "metadata": {},
   "outputs": [],
   "source": [
    "import os\n",
    "import pandas as pd\n",
    "\n",
    "path_events = '../tables/events.parquet' if os.path.exists('../tables/events.parquet') else 'https://drive.google.com/uc?id=1Phn06U4-BI0XqtYAgtlM6IuoXRIAGQlO'\n",
    "\n",
    "events = pd.read_parquet(path_events)\n",
    "events.head()"
   ]
  },
  {
   "cell_type": "code",
   "execution_count": null,
   "id": "4f530957",
   "metadata": {},
   "outputs": [],
   "source": [
    "path_empl = '../tables/employees.parquet' if os.path.exists('../tables/employees.parquet') else 'https://drive.google.com/uc?id=1AARD5-eVlCxoApt5CYZebrC3Cqw42lvj'\n",
    "\n",
    "empl = pd.read_parquet(path_empl)\n",
    "empl.head()"
   ]
  },
  {
   "cell_type": "code",
   "execution_count": null,
   "id": "50d35bcb",
   "metadata": {},
   "outputs": [],
   "source": [
    "# напишите свой код здесь"
   ]
  },
  {
   "cell_type": "markdown",
   "id": "78ad7e8c",
   "metadata": {},
   "source": [
    "### Задание 13\n",
    "\n",
    "Необходимо посчитать с какой скоростью кассир обслуживает клиетов. Но сделать это надо не просто разделив рабочий день на количество заказов, а немного умнее. \n",
    "\n",
    "Сначала необходимо выделить сессии. Сессией будем называть период, когда между заказами прошло менее 5 минут и когда этих заказов подряд было не менее 3.\n",
    "\n",
    "Необходимо посчитать среднее время обслуживание клиента в рамках сессии. Для этого необходимо посчитать общую длинну сессий для каждого кассира и разделить ее на количество клиентов в сессиях минус число сессий у кассира.\n",
    "\n",
    "<details>\n",
    "\n",
    "<summary>Подсказка</summary>\n",
    "    \n",
    "Возможный вариант решения, который требует некоторых доработок\n",
    " \n",
    "Сначала надо избавиться от дубликатов чеков. И оставить надо только 3 колонки: номер кассира, номер чека и дата покупки.\n",
    "\n",
    "Далее еобходимо посчитать сколько больших сессий работы было у кассира. Для этого надо выделить наблюдения для каждого кассира, где разница между продажами была меньше 5 минут. И пометить их 1. Остальные -1. Далее вводим условие, что в сессии больше или равно 3 чеков. Это можно сделать, создав несколько колонок через shift, пометив начало сессии, конец сессии и период внутри сессии (который будет включать крайние значения) или как написано ниже.\n",
    "\n",
    "Идем по столбцу из 1 и -1 скользящим окном размером 4. На каждом шаге окно домножаем на вектор [-1, 1, 1, 1] и считаем сумму. Если сумма равна 4, то ставим 1 - индикатор, что началась новая сессия, если сумма равна 4 или 2, значит сессия идет. Если значение равно нулю, то значит сессия закончилась на прошлом чеке и прошлое значение надо пометить как конец сессии. \n",
    "\n",
    "При расчете начала и конца сессии необходимо быть осторожным, что просиходит на краях, чтобы не получить сессию, которая не закончилась.\n",
    "\n",
    "В конце счиатем количество сессий, число клиентов и время сессий (через merge_asof). Делим одно на другое.\n",
    "\n",
    "</details>"
   ]
  },
  {
   "cell_type": "code",
   "execution_count": null,
   "id": "7421625d",
   "metadata": {},
   "outputs": [],
   "source": [
    "# таблица sales - большая, и в некоторых случаях ваш компьютер может не справиться с ее обработкой\n",
    "# поэтому лучше работайте с частью этой таблицы\n",
    "# но если вы хотите попробовать поработать с полной версией таблицы,\n",
    "# можете заменить переменную path_sales_2022 на path_sales внутри функции read_parquet\n",
    "\n",
    "import os\n",
    "import pandas as pd\n",
    "\n",
    "path_sales_2022 = '../tables/sales_2022.parquet' if os.path.exists('../tables/sales_2022.parquet') else 'https://drive.google.com/uc?id=17e7FwXVdsWc2aziK9s5KidIvPcfKt9F5'\n",
    "# path_sales = '../tables/sales.parquet' if os.path.exists('../tables/sales.parquet') else \"https://drive.usercontent.google.com/download?id=15KwSxyM6hpNABGe6_vsrFZvD09VfHFyK&export=download&authuser=1&confirm=t&uuid=115bd48c-cc2c-4f2a-8b42-be5ca6ef6db8&at=APZUnTUVb8nfNANw5wr9Cad7PJ3U:1693327774694\"\n",
    "\n",
    "sales = pd.read_parquet(path_sales_2022)\n",
    "sales.head()"
   ]
  },
  {
   "cell_type": "code",
   "execution_count": null,
   "id": "f0dc3aa6",
   "metadata": {},
   "outputs": [],
   "source": [
    "# напишите свой код здесь"
   ]
  },
  {
   "cell_type": "code",
   "execution_count": null,
   "id": "a95fc9f4",
   "metadata": {},
   "outputs": [],
   "source": []
  },
  {
   "cell_type": "code",
   "execution_count": null,
   "id": "e7d1e615",
   "metadata": {},
   "outputs": [],
   "source": []
  },
  {
   "cell_type": "code",
   "execution_count": null,
   "id": "1be0b5d7",
   "metadata": {},
   "outputs": [],
   "source": []
  },
  {
   "cell_type": "code",
   "execution_count": null,
   "id": "84cd6d0a",
   "metadata": {},
   "outputs": [],
   "source": []
  }
 ],
 "metadata": {
  "kernelspec": {
   "display_name": "Python 3 (ipykernel)",
   "language": "python",
   "name": "python3"
  },
  "language_info": {
   "codemirror_mode": {
    "name": "ipython",
    "version": 3
   },
   "file_extension": ".py",
   "mimetype": "text/x-python",
   "name": "python",
   "nbconvert_exporter": "python",
   "pygments_lexer": "ipython3",
   "version": "3.11.6"
  }
 },
 "nbformat": 4,
 "nbformat_minor": 5
}
