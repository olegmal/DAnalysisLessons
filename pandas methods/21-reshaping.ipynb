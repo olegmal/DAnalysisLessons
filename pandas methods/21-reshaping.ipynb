{
 "cells": [
  {
   "cell_type": "markdown",
   "id": "2d34796e",
   "metadata": {},
   "source": [
    "<a target=\"_blank\" href=\"https://colab.research.google.com/github/victorlymarev/pandas/blob/main/notebooks/21-reshaping.ipynb\">\n",
    "  <img src=\"https://colab.research.google.com/assets/colab-badge.svg\" alt=\"Open In Colab\"/>\n",
    "</a>"
   ]
  },
  {
   "cell_type": "markdown",
   "id": "59b2f6f5",
   "metadata": {},
   "source": [
    "# Изменение формы таблиц\n",
    "#### [Ссылка на видео](https://youtu.be/GUOpj50HHO0)"
   ]
  },
  {
   "cell_type": "code",
   "execution_count": null,
   "id": "28db0942",
   "metadata": {},
   "outputs": [],
   "source": [
    "import pandas as pd\n",
    "import seaborn as sns\n",
    "import os"
   ]
  },
  {
   "cell_type": "markdown",
   "id": "84aa5b91",
   "metadata": {},
   "source": [
    "Читаем таблицу"
   ]
  },
  {
   "cell_type": "code",
   "execution_count": null,
   "id": "6a98f0e8",
   "metadata": {},
   "outputs": [],
   "source": [
    "path_empl = '../tables/employees.parquet' if os.path.exists('../tables/employees.parquet') else 'https://drive.google.com/uc?id=1AARD5-eVlCxoApt5CYZebrC3Cqw42lvj'\n",
    "\n",
    "empl = pd.read_parquet(path_empl).drop(['shop_id', 'pos_id', 'closest_boss_pos_id', 'mgmt_flag', 'salary_fork'], axis=1)\n",
    "empl.head()"
   ]
  },
  {
   "cell_type": "code",
   "execution_count": null,
   "id": "8e159d09",
   "metadata": {},
   "outputs": [],
   "source": [
    "empl_agg = (empl\n",
    "    .groupby(['report_dt', 'pos_name'])\n",
    "    [['salary']]\n",
    "    .mean()\n",
    ")\n",
    "empl_agg.head()"
   ]
  },
  {
   "cell_type": "markdown",
   "id": "1b29c04e",
   "metadata": {},
   "source": [
    "## stack, unstack и pivot\n",
    " \n",
    "stack - перекидывает шапку таблицы в индекс\n",
    "\n",
    "unstack - перекидывает индекс в шапку таблицы\n",
    "\n",
    "pivot - перекидывает колонку из тела таблицы в шапку"
   ]
  },
  {
   "cell_type": "code",
   "execution_count": null,
   "id": "6e6917ef",
   "metadata": {},
   "outputs": [],
   "source": [
    "empl_agg.unstack(1).head()"
   ]
  },
  {
   "cell_type": "code",
   "execution_count": null,
   "id": "25eb62a8",
   "metadata": {},
   "outputs": [],
   "source": [
    "empl_agg.unstack('pos_name').head()"
   ]
  },
  {
   "cell_type": "code",
   "execution_count": null,
   "id": "6cdc38f7",
   "metadata": {},
   "outputs": [],
   "source": [
    "unstacked = (empl_agg\n",
    "             .reset_index()\n",
    "             .pivot(columns='pos_name', index='report_dt')\n",
    "             .head()\n",
    "            )\n",
    "\n",
    "unstacked.head()"
   ]
  },
  {
   "cell_type": "code",
   "execution_count": null,
   "id": "38748036",
   "metadata": {},
   "outputs": [],
   "source": [
    "unstacked.stack(1).head()"
   ]
  },
  {
   "cell_type": "code",
   "execution_count": null,
   "id": "538c60eb",
   "metadata": {},
   "outputs": [],
   "source": [
    "unstacked.stack('pos_name').head()"
   ]
  },
  {
   "cell_type": "code",
   "execution_count": null,
   "id": "dfbf15b3",
   "metadata": {},
   "outputs": [],
   "source": []
  },
  {
   "cell_type": "code",
   "execution_count": null,
   "id": "d32429b8",
   "metadata": {},
   "outputs": [],
   "source": []
  },
  {
   "cell_type": "code",
   "execution_count": null,
   "id": "795aad71",
   "metadata": {},
   "outputs": [],
   "source": []
  },
  {
   "cell_type": "markdown",
   "id": "33e082f8",
   "metadata": {},
   "source": [
    "### melt"
   ]
  },
  {
   "cell_type": "code",
   "execution_count": null,
   "id": "f647fa08",
   "metadata": {},
   "outputs": [],
   "source": [
    "path_marks = '../tables/оценки.xlsx' if os.path.exists('../tables/оценки.xlsx') else 'https://drive.google.com/uc?id=17f4DXx53J0WooNkhO13xidseZJ-O2obs'\n",
    "\n",
    "marks = pd.read_excel(path_marks)\n",
    "marks.head()"
   ]
  },
  {
   "cell_type": "markdown",
   "id": "a8cad8fc",
   "metadata": {},
   "source": [
    "#### Все значения кроме тех, что в id_vars попадают в колонку value"
   ]
  },
  {
   "cell_type": "code",
   "execution_count": null,
   "id": "b0f444e3",
   "metadata": {},
   "outputs": [],
   "source": [
    "marks.melt(id_vars=['ФИО', 'Пол']).query('ФИО == \"Суханова Маргарита Богдановна\"')"
   ]
  },
  {
   "cell_type": "markdown",
   "id": "296de785",
   "metadata": {},
   "source": [
    "#### В колонку value можно положить только определенные колонки"
   ]
  },
  {
   "cell_type": "code",
   "execution_count": null,
   "id": "5961dbb5",
   "metadata": {},
   "outputs": [],
   "source": [
    "marks.melt(id_vars=['ФИО', 'Пол'], value_vars=['Математика', 'Русский язык']).sample(5, random_state=15)"
   ]
  },
  {
   "cell_type": "code",
   "execution_count": null,
   "id": "ce7a1d6e",
   "metadata": {},
   "outputs": [],
   "source": [
    "sns.barplot(marks.melt(value_vars=['Математика', 'Русский язык']), x='variable', y='value', estimator='std')"
   ]
  },
  {
   "cell_type": "markdown",
   "id": "5258f881",
   "metadata": {},
   "source": [
    "#### Обратную операцию можно выполнить при помощи метода pivot"
   ]
  },
  {
   "cell_type": "code",
   "execution_count": null,
   "id": "9c5d264c",
   "metadata": {},
   "outputs": [],
   "source": [
    "(marks\n",
    "    .melt(id_vars=['ФИО', 'Пол'])\n",
    "    .pivot(index=['ФИО', 'Пол'], columns='variable', values='value')\n",
    "    .reset_index()\n",
    "    .head()\n",
    ")"
   ]
  },
  {
   "cell_type": "code",
   "execution_count": null,
   "id": "5688f0d9",
   "metadata": {},
   "outputs": [],
   "source": []
  },
  {
   "cell_type": "code",
   "execution_count": null,
   "id": "f99cc7e4",
   "metadata": {},
   "outputs": [],
   "source": []
  },
  {
   "cell_type": "code",
   "execution_count": null,
   "id": "ab5748bb",
   "metadata": {},
   "outputs": [],
   "source": []
  },
  {
   "cell_type": "markdown",
   "id": "3a54dbe2",
   "metadata": {},
   "source": [
    "### get_dummies\n",
    "\n",
    "Создание дамми переменных"
   ]
  },
  {
   "cell_type": "code",
   "execution_count": null,
   "id": "c93e5b16",
   "metadata": {},
   "outputs": [],
   "source": [
    "empl['pos_name']"
   ]
  },
  {
   "cell_type": "code",
   "execution_count": null,
   "id": "c20489af",
   "metadata": {},
   "outputs": [],
   "source": [
    "pd.get_dummies(empl['pos_name']).head()"
   ]
  },
  {
   "cell_type": "code",
   "execution_count": null,
   "id": "97601758",
   "metadata": {},
   "outputs": [],
   "source": [
    "pd.get_dummies(empl['pos_name'], drop_first=True).head()"
   ]
  },
  {
   "cell_type": "markdown",
   "id": "e7d8bf54",
   "metadata": {},
   "source": [
    "#### Дамми переменные можно автоматически добавлять к датафрейму"
   ]
  },
  {
   "cell_type": "code",
   "execution_count": null,
   "id": "9175efa9",
   "metadata": {},
   "outputs": [],
   "source": [
    "pd.get_dummies(empl, columns=['pos_name']).head()"
   ]
  },
  {
   "cell_type": "code",
   "execution_count": null,
   "id": "4ae3fa6e",
   "metadata": {},
   "outputs": [],
   "source": [
    "pd.get_dummies(empl, columns=['pos_name', 'sex']).head()"
   ]
  },
  {
   "cell_type": "markdown",
   "id": "f20e7822",
   "metadata": {},
   "source": [
    "#### У строчных колонок есть метод .str.get_dummies(), который работает так же"
   ]
  },
  {
   "cell_type": "code",
   "execution_count": null,
   "id": "14777736",
   "metadata": {},
   "outputs": [],
   "source": [
    "empl['pos_name'].str.get_dummies().head()"
   ]
  },
  {
   "cell_type": "markdown",
   "id": "4d3df835",
   "metadata": {},
   "source": [
    "### from_dummies\n",
    "\n",
    "Обратная операция к get_dummies"
   ]
  },
  {
   "cell_type": "code",
   "execution_count": null,
   "id": "722a298d",
   "metadata": {},
   "outputs": [],
   "source": [
    "pd.from_dummies(empl['pos_name'].str.get_dummies()).head()"
   ]
  },
  {
   "cell_type": "code",
   "execution_count": null,
   "id": "c7553776",
   "metadata": {},
   "outputs": [],
   "source": []
  },
  {
   "cell_type": "code",
   "execution_count": null,
   "id": "c7898a3e",
   "metadata": {},
   "outputs": [],
   "source": []
  },
  {
   "cell_type": "code",
   "execution_count": null,
   "id": "da6daf9e",
   "metadata": {},
   "outputs": [],
   "source": []
  },
  {
   "cell_type": "code",
   "execution_count": null,
   "id": "7595a56b",
   "metadata": {},
   "outputs": [],
   "source": []
  },
  {
   "cell_type": "code",
   "execution_count": null,
   "id": "7fdac576",
   "metadata": {},
   "outputs": [],
   "source": []
  },
  {
   "cell_type": "code",
   "execution_count": null,
   "id": "ab59cb7e",
   "metadata": {},
   "outputs": [],
   "source": []
  },
  {
   "cell_type": "code",
   "execution_count": null,
   "id": "390f8180",
   "metadata": {},
   "outputs": [],
   "source": []
  },
  {
   "cell_type": "code",
   "execution_count": null,
   "id": "4775be76",
   "metadata": {},
   "outputs": [],
   "source": []
  },
  {
   "cell_type": "code",
   "execution_count": null,
   "id": "c0c76716",
   "metadata": {},
   "outputs": [],
   "source": []
  },
  {
   "cell_type": "markdown",
   "id": "4d9b786b",
   "metadata": {},
   "source": [
    "# Задания"
   ]
  },
  {
   "cell_type": "markdown",
   "id": "4188df33",
   "metadata": {},
   "source": [
    "#### Описание таблиц лежит [здесь](https://github.com/victorlymarev/pandas/tree/main/tables#%D0%BE%D0%BF%D0%B8%D1%81%D0%B0%D0%BD%D0%B8%D0%B5-%D1%82%D0%B0%D0%B1%D0%BB%D0%B8%D1%86)"
   ]
  },
  {
   "cell_type": "markdown",
   "id": "9d59f8d0",
   "metadata": {},
   "source": [
    "Некоторые таблицы занимают много памяти, поэтому каждые 5-10 заданий лучше перезапускайте ноутбук.\n",
    "\n",
    "В формулировке некоторых заданий может содержаться вариативность. Если у вас есть сомнения, что требуется в задании, попробуйте решить несколько вариантов. Если вы не понимаете задание, можете написать об этом в комментариях под видео.\n",
    "\n",
    "В большинстве случаев внешний вид итоговой таблицы не определен. Выведите на экран наиболее адекватный вариант. То есть таблицу, из которой можно будет сделать выводы.\n",
    "\n",
    "Курс пока находится в разработке. Вы можете помочь другим людям добавив свое решение [сюда](https://docs.google.com/forms/d/1HYTBz_KfssY3Jps2dC3n0YnEqa6WBb5OIhLo1d32Xzw/edit).\n",
    "\n",
    "Посмотреть решения других людей можно [здесь](https://docs.google.com/spreadsheets/d/1pMDYO-9UneLbPPnEuQ2shig0TOJdQTU-zipifyAnZMk/edit?resourcekey#gid=1998648012)"
   ]
  },
  {
   "cell_type": "markdown",
   "id": "44deb04c",
   "metadata": {},
   "source": [
    "### Задание 1\n",
    "\n",
    "На основе таблицы с сотрдуниками создайте таблицу, в которой названия колонок будут означать номер магазина, а в теле таблицы будут перечисленны сотрудники, работающие в каждом магазине по состоянию на 31 декабря 2022 года. То есть в колонке 1 будет лежеть список сотрудников магазина 1, в колонке 2 - список сотрудников магазина 2 и так далее"
   ]
  },
  {
   "cell_type": "code",
   "execution_count": null,
   "id": "8e7d81d3",
   "metadata": {},
   "outputs": [],
   "source": [
    "import os\n",
    "import pandas as pd\n",
    "\n",
    "path_empl = '../tables/employees.parquet' if os.path.exists('../tables/employees.parquet') else 'https://drive.google.com/uc?id=1AARD5-eVlCxoApt5CYZebrC3Cqw42lvj'\n",
    "\n",
    "empl = pd.read_parquet(path_empl)\n",
    "empl.head()"
   ]
  },
  {
   "cell_type": "code",
   "execution_count": null,
   "id": "a3dc149a",
   "metadata": {},
   "outputs": [],
   "source": [
    "# напишите свой код здесь"
   ]
  },
  {
   "cell_type": "markdown",
   "id": "22bbaabe",
   "metadata": {},
   "source": [
    "### Задание 2\n",
    "\n",
    "Найдите топ 30 пар категорий товаров, которые встерчаются в одном чеке чаще всего.\n",
    "Необходимо вывести таблицу с колонками: название категории 1, название категории 2, в скольки чеках встечалась такая пара. (Например: юбка, платье, 1234)"
   ]
  },
  {
   "cell_type": "code",
   "execution_count": null,
   "id": "1de4b368",
   "metadata": {},
   "outputs": [],
   "source": [
    "# таблица sales - большая, и в некоторых случаях ваш компьютер может не справиться с ее обработкой\n",
    "# поэтому лучше работайте с частью этой таблицы\n",
    "# но если вы хотите попробовать поработать с полной версией таблицы,\n",
    "# можете заменить переменную path_sales_2022 на path_sales внутри функции read_parquet\n",
    "\n",
    "import os\n",
    "import pandas as pd\n",
    "\n",
    "path_sales_2022 = '../tables/sales_2022.parquet' if os.path.exists('../tables/sales_2022.parquet') else 'https://drive.google.com/uc?id=17e7FwXVdsWc2aziK9s5KidIvPcfKt9F5'\n",
    "# path_sales = '../tables/sales.parquet' if os.path.exists('../tables/sales.parquet') else \"https://drive.usercontent.google.com/download?id=15KwSxyM6hpNABGe6_vsrFZvD09VfHFyK&export=download&authuser=1&confirm=t&uuid=115bd48c-cc2c-4f2a-8b42-be5ca6ef6db8&at=APZUnTUVb8nfNANw5wr9Cad7PJ3U:1693327774694\"\n",
    "\n",
    "sales = pd.read_parquet(path_sales_2022)\n",
    "sales.head()"
   ]
  },
  {
   "cell_type": "code",
   "execution_count": null,
   "id": "15d23d95",
   "metadata": {},
   "outputs": [],
   "source": [
    "path_goods_descr = '../tables/goods_description.parquet' if os.path.exists('../tables/goods_description.parquet') else 'https://drive.google.com/uc?id=1YbiD02Rev-X_WWV9nPSG1zZFmEh2JjPh'\n",
    "\n",
    "goods_descr = pd.read_parquet(path_goods_descr)\n",
    "goods_descr.head()"
   ]
  },
  {
   "cell_type": "code",
   "execution_count": null,
   "id": "1ea0103f",
   "metadata": {},
   "outputs": [],
   "source": [
    "# напишите свой код здесь"
   ]
  },
  {
   "cell_type": "markdown",
   "id": "2e84ff8c",
   "metadata": {},
   "source": [
    "### Задание 3\n",
    "\n",
    "Посчитайте накопленный средний чек по каждому магазину за каждый месяц. Например, если вы берете 31 марта 2020 года по магазину 1, то нужно взять все чеки, которые были пробиты в этом магазине до этой даты (не только март 2020 года, а все вплоть до 2015 года) и посчитать по ним среднее."
   ]
  },
  {
   "cell_type": "code",
   "execution_count": null,
   "id": "1f5ea83e",
   "metadata": {},
   "outputs": [],
   "source": [
    "# таблица sales - большая, и в некоторых случаях ваш компьютер может не справиться с ее обработкой\n",
    "# поэтому лучше работайте с частью этой таблицы\n",
    "# но если вы хотите попробовать поработать с полной версией таблицы,\n",
    "# можете заменить переменную path_sales_sample на path_sales внутри функции read_parquet\n",
    "\n",
    "import os\n",
    "import pandas as pd\n",
    "\n",
    "path_sales_sample = '../tables/sales_sample.parquet' if os.path.exists('../tables/sales_sample.parquet') else 'https://drive.google.com/uc?id=1BgxAxPauzC4LObY3N65PgAvnU3f5QRj2'\n",
    "# path_sales = '../tables/sales.parquet' if os.path.exists('../tables/sales.parquet') else \"https://drive.usercontent.google.com/download?id=15KwSxyM6hpNABGe6_vsrFZvD09VfHFyK&export=download&authuser=1&confirm=t&uuid=115bd48c-cc2c-4f2a-8b42-be5ca6ef6db8&at=APZUnTUVb8nfNANw5wr9Cad7PJ3U:1693327774694\"\n",
    "\n",
    "sales = pd.read_parquet(path_sales_sample)\n",
    "sales.head()"
   ]
  },
  {
   "cell_type": "code",
   "execution_count": null,
   "id": "a4633525",
   "metadata": {},
   "outputs": [],
   "source": [
    "# напишите свой код здесь"
   ]
  },
  {
   "cell_type": "markdown",
   "id": "3225fc5f",
   "metadata": {},
   "source": [
    "### Задание 4\n",
    "\n",
    "Привлечение одного клиента в серднем стоит 1000 рублей. Себестоимоть товара оцените в 40% от обычной цены (поле price в таблице с ценами). Посчитайте сколько дней в среднем требуется, чтобы покупатель окупил затраты магазина на привлечение. "
   ]
  },
  {
   "cell_type": "code",
   "execution_count": null,
   "id": "3aa7e144",
   "metadata": {},
   "outputs": [],
   "source": [
    "# таблица sales - большая, и в некоторых случаях ваш компьютер может не справиться с ее обработкой\n",
    "# поэтому лучше работайте с частью этой таблицы\n",
    "# но если вы хотите попробовать поработать с полной версией таблицы,\n",
    "# можете заменить переменную path_sales_sample на path_sales внутри функции read_parquet\n",
    "\n",
    "import os\n",
    "import pandas as pd\n",
    "\n",
    "path_sales_sample = '../tables/sales_sample.parquet' if os.path.exists('../tables/sales_sample.parquet') else 'https://drive.google.com/uc?id=1BgxAxPauzC4LObY3N65PgAvnU3f5QRj2'\n",
    "# path_sales = '../tables/sales.parquet' if os.path.exists('../tables/sales.parquet') else \"https://drive.usercontent.google.com/download?id=15KwSxyM6hpNABGe6_vsrFZvD09VfHFyK&export=download&authuser=1&confirm=t&uuid=115bd48c-cc2c-4f2a-8b42-be5ca6ef6db8&at=APZUnTUVb8nfNANw5wr9Cad7PJ3U:1693327774694\"\n",
    "\n",
    "sales = pd.read_parquet(path_sales_sample)\n",
    "sales.head()"
   ]
  },
  {
   "cell_type": "code",
   "execution_count": null,
   "id": "94b30977",
   "metadata": {},
   "outputs": [],
   "source": [
    "# напишите свой код здесь"
   ]
  },
  {
   "cell_type": "markdown",
   "id": "5c80cfc0",
   "metadata": {},
   "source": [
    "### Задание 5\n",
    "\n",
    "Посчитайте ежемесячное удержание клиентов. Для этого для каждого месяца найдите номера клиентов, которые пришли в магазин в этом месяце впервые. Затем посчитайте какой процент из них вернулся через месяц, через 2 месяца и тд.\n",
    "\n",
    "В итоге должна получиться таблица, в индексе у которой находится дата первого посещения (месяц Х). В шапке таблицы должна быть дата посещения (месяц У). А в каждой ячейке должен быть указан процент людей, который вернулся в магазин в месяце У из тех людей, что впервые пришли в магазин в месяце Х. "
   ]
  },
  {
   "cell_type": "code",
   "execution_count": null,
   "id": "048e5b52",
   "metadata": {},
   "outputs": [],
   "source": [
    "# таблица sales - большая, и в некоторых случаях ваш компьютер может не справиться с ее обработкой\n",
    "# поэтому лучше работайте с частью этой таблицы\n",
    "# но если вы хотите попробовать поработать с полной версией таблицы,\n",
    "# можете заменить переменную path_sales_sample на path_sales внутри функции read_parquet\n",
    "\n",
    "import os\n",
    "import pandas as pd\n",
    "\n",
    "path_sales_sample = '../tables/sales_sample.parquet' if os.path.exists('../tables/sales_sample.parquet') else 'https://drive.google.com/uc?id=1BgxAxPauzC4LObY3N65PgAvnU3f5QRj2'\n",
    "# path_sales = '../tables/sales.parquet' if os.path.exists('../tables/sales.parquet') else \"https://drive.usercontent.google.com/download?id=15KwSxyM6hpNABGe6_vsrFZvD09VfHFyK&export=download&authuser=1&confirm=t&uuid=115bd48c-cc2c-4f2a-8b42-be5ca6ef6db8&at=APZUnTUVb8nfNANw5wr9Cad7PJ3U:1693327774694\"\n",
    "\n",
    "sales = pd.read_parquet(path_sales_sample)\n",
    "sales.head()"
   ]
  },
  {
   "cell_type": "code",
   "execution_count": null,
   "id": "9db58edb",
   "metadata": {},
   "outputs": [],
   "source": [
    "# напишите свой код здесь"
   ]
  },
  {
   "cell_type": "markdown",
   "id": "098661a5",
   "metadata": {},
   "source": [
    "### Задание 6\n",
    "\n",
    "За каждый месяц найдите накопленное число уникальных клиентов в каждом магазине"
   ]
  },
  {
   "cell_type": "code",
   "execution_count": null,
   "id": "7a30b865",
   "metadata": {},
   "outputs": [],
   "source": [
    "# таблица sales - большая, и в некоторых случаях ваш компьютер может не справиться с ее обработкой\n",
    "# поэтому лучше работайте с частью этой таблицы\n",
    "# но если вы хотите попробовать поработать с полной версией таблицы,\n",
    "# можете заменить переменную path_sales_sample на path_sales внутри функции read_parquet\n",
    "\n",
    "import os\n",
    "import pandas as pd\n",
    "\n",
    "path_sales_sample = '../tables/sales_sample.parquet' if os.path.exists('../tables/sales_sample.parquet') else 'https://drive.google.com/uc?id=1BgxAxPauzC4LObY3N65PgAvnU3f5QRj2'\n",
    "# path_sales = '../tables/sales.parquet' if os.path.exists('../tables/sales.parquet') else \"https://drive.usercontent.google.com/download?id=15KwSxyM6hpNABGe6_vsrFZvD09VfHFyK&export=download&authuser=1&confirm=t&uuid=115bd48c-cc2c-4f2a-8b42-be5ca6ef6db8&at=APZUnTUVb8nfNANw5wr9Cad7PJ3U:1693327774694\"\n",
    "\n",
    "sales = pd.read_parquet(path_sales_sample)\n",
    "sales.head()"
   ]
  },
  {
   "cell_type": "code",
   "execution_count": null,
   "id": "eb47731c",
   "metadata": {},
   "outputs": [],
   "source": [
    "# напишите свой код здесь"
   ]
  },
  {
   "cell_type": "markdown",
   "id": "27a78126",
   "metadata": {},
   "source": [
    "### Задание 7\n",
    "\n",
    "Найдите магазины, в которых зарплата между сотрудниками одного магазина на конец 2021 года отличалась больше всего и меньше всего"
   ]
  },
  {
   "cell_type": "code",
   "execution_count": null,
   "id": "62d1231d",
   "metadata": {},
   "outputs": [],
   "source": [
    "import os\n",
    "import pandas as pd\n",
    "\n",
    "path_empl = '../tables/employees.parquet' if os.path.exists('../tables/employees.parquet') else 'https://drive.google.com/uc?id=1AARD5-eVlCxoApt5CYZebrC3Cqw42lvj'\n",
    "\n",
    "empl = pd.read_parquet(path_empl)\n",
    "empl.head()"
   ]
  },
  {
   "cell_type": "code",
   "execution_count": null,
   "id": "f74ec097",
   "metadata": {},
   "outputs": [],
   "source": [
    "# напишите свой код здесь"
   ]
  },
  {
   "cell_type": "code",
   "execution_count": null,
   "id": "f87e326c",
   "metadata": {},
   "outputs": [],
   "source": []
  },
  {
   "cell_type": "code",
   "execution_count": null,
   "id": "cc94eba0",
   "metadata": {},
   "outputs": [],
   "source": []
  },
  {
   "cell_type": "code",
   "execution_count": null,
   "id": "b7efa68a",
   "metadata": {},
   "outputs": [],
   "source": []
  }
 ],
 "metadata": {
  "kernelspec": {
   "display_name": "Python 3 (ipykernel)",
   "language": "python",
   "name": "python3"
  },
  "language_info": {
   "codemirror_mode": {
    "name": "ipython",
    "version": 3
   },
   "file_extension": ".py",
   "mimetype": "text/x-python",
   "name": "python",
   "nbconvert_exporter": "python",
   "pygments_lexer": "ipython3",
   "version": "3.11.5"
  }
 },
 "nbformat": 4,
 "nbformat_minor": 5
}
