{
 "cells": [
  {
   "cell_type": "markdown",
   "id": "a13ba4e9",
   "metadata": {},
   "source": [
    "<a target=\"_blank\" href=\"https://colab.research.google.com/github/victorlymarev/pandas/blob/main/notebooks/22-categoorical.ipynb\">\n",
    "  <img src=\"https://colab.research.google.com/assets/colab-badge.svg\" alt=\"Open In Colab\"/>\n",
    "</a>"
   ]
  },
  {
   "cell_type": "markdown",
   "id": "e2dddc1a",
   "metadata": {},
   "source": [
    "# Категориальный тип данных\n",
    "#### [Ссылка на видео](https://youtu.be/I6EvevDF6C0)"
   ]
  },
  {
   "cell_type": "code",
   "execution_count": null,
   "id": "e3d55f98",
   "metadata": {},
   "outputs": [],
   "source": [
    "import pandas as pd\n",
    "import os"
   ]
  },
  {
   "cell_type": "code",
   "execution_count": null,
   "id": "2264f98d",
   "metadata": {},
   "outputs": [],
   "source": [
    "path_empl = '../tables/employees.parquet' if os.path.exists('../tables/employees.parquet') else 'https://drive.google.com/uc?id=1AARD5-eVlCxoApt5CYZebrC3Cqw42lvj'\n",
    "\n",
    "empl = pd.read_parquet(path_empl)\n",
    "empl.head()"
   ]
  },
  {
   "cell_type": "markdown",
   "id": "d94518e4",
   "metadata": {},
   "source": [
    "#### Категориальный тип позволяет экономить память"
   ]
  },
  {
   "cell_type": "code",
   "execution_count": null,
   "id": "a2cb1060",
   "metadata": {},
   "outputs": [],
   "source": [
    "empl['pos_name'].memory_usage()"
   ]
  },
  {
   "cell_type": "code",
   "execution_count": null,
   "id": "766a92e4",
   "metadata": {},
   "outputs": [],
   "source": [
    "# приводим обычную колонку к категориальному типу\n",
    "empl['pos_name'] = pd.Categorical(empl['pos_name'])\n",
    "\n",
    "empl['pos_name'].memory_usage()"
   ]
  },
  {
   "cell_type": "code",
   "execution_count": null,
   "id": "7e1e5744",
   "metadata": {},
   "outputs": [],
   "source": [
    "469952 / 264720"
   ]
  },
  {
   "cell_type": "markdown",
   "id": "5bd6b5b0",
   "metadata": {},
   "source": [
    "Экономия достигается за счет того, что в каждой ячейке хранится не строка а число"
   ]
  },
  {
   "cell_type": "code",
   "execution_count": null,
   "id": "7f11c435",
   "metadata": {},
   "outputs": [],
   "source": [
    "empl['pos_name'].cat.categories"
   ]
  },
  {
   "cell_type": "code",
   "execution_count": null,
   "id": "55324545",
   "metadata": {},
   "outputs": [],
   "source": [
    "empl['pos_name'].cat.codes"
   ]
  },
  {
   "cell_type": "markdown",
   "id": "462619c9",
   "metadata": {},
   "source": [
    "#### Категории можно сортировать"
   ]
  },
  {
   "cell_type": "code",
   "execution_count": null,
   "id": "25209eb3",
   "metadata": {},
   "outputs": [],
   "source": [
    "# Всписке категорий указываем значения в порядке возрастания\n",
    "cats = ['Уборщик',\n",
    "    'Кассир',\n",
    "    'Продавец-консультант',\n",
    "    'Старший кассир',\n",
    "    'Мастер по ремонту одежды',\n",
    "    'Товаровед',\n",
    "    'Бухгалтер',\n",
    "    'Заместитель директора магазина',\n",
    "    'Директор магазина'\n",
    "]"
   ]
  },
  {
   "cell_type": "code",
   "execution_count": null,
   "id": "55f3cc4a",
   "metadata": {},
   "outputs": [],
   "source": [
    "empl['pos_name'] = empl['pos_name'].cat.reorder_categories(cats, ordered=True)"
   ]
  },
  {
   "cell_type": "code",
   "execution_count": null,
   "id": "2ad10bd0",
   "metadata": {},
   "outputs": [],
   "source": [
    "# empl['pos_name'] = pd.Categorical(empl['pos_name'], categories=cats, ordered=True)"
   ]
  },
  {
   "cell_type": "code",
   "execution_count": null,
   "id": "7b9f2de9",
   "metadata": {},
   "outputs": [],
   "source": [
    "empl['pos_name'].head()"
   ]
  },
  {
   "cell_type": "markdown",
   "id": "425efd8b",
   "metadata": {},
   "source": [
    "#### Теперь мы можем сравнивать категории"
   ]
  },
  {
   "cell_type": "code",
   "execution_count": null,
   "id": "26a1b0d0",
   "metadata": {},
   "outputs": [],
   "source": [
    "empl['pos_name'] > 'Товаровед'"
   ]
  },
  {
   "cell_type": "code",
   "execution_count": null,
   "id": "cfc8723d",
   "metadata": {},
   "outputs": [],
   "source": [
    "empl['pos_name'].max()"
   ]
  },
  {
   "cell_type": "markdown",
   "id": "09756aa9",
   "metadata": {},
   "source": [
    "#### Удаление порядка из категорий"
   ]
  },
  {
   "cell_type": "code",
   "execution_count": null,
   "id": "179cbbc7",
   "metadata": {},
   "outputs": [],
   "source": [
    "empl['pos_name'].cat.as_unordered()"
   ]
  },
  {
   "cell_type": "markdown",
   "id": "174dddfb",
   "metadata": {},
   "source": [
    "#### Добавление новой категории"
   ]
  },
  {
   "cell_type": "markdown",
   "id": "c7669dc1",
   "metadata": {},
   "source": [
    "В категориальный тип нельзя добавлять новые значения, которые не находятся в списке категорий"
   ]
  },
  {
   "cell_type": "code",
   "execution_count": null,
   "id": "2af96f41",
   "metadata": {
    "scrolled": true
   },
   "outputs": [],
   "source": [
    "empl['pos_name'].iloc[3] = 'Мерчендайзер'"
   ]
  },
  {
   "cell_type": "code",
   "execution_count": null,
   "id": "c1e111e2",
   "metadata": {},
   "outputs": [],
   "source": [
    "empl['pos_name'] = empl['pos_name'].cat.add_categories('Мерчендайзер')\n",
    "empl['pos_name'].head()"
   ]
  },
  {
   "cell_type": "code",
   "execution_count": null,
   "id": "9fd7ab56",
   "metadata": {},
   "outputs": [],
   "source": [
    "empl['pos_name'].iloc[3] = 'Мерчендайзер'\n",
    "empl['pos_name'].head()"
   ]
  },
  {
   "cell_type": "markdown",
   "id": "a2431c84",
   "metadata": {},
   "source": [
    "Можно автоматически удалять ненужные категории"
   ]
  },
  {
   "cell_type": "code",
   "execution_count": null,
   "id": "1b28b771",
   "metadata": {},
   "outputs": [],
   "source": [
    "(empl['pos_name']\n",
    "    .cat.add_categories('Грузчик') # добавляем категорию\n",
    "    .cat.remove_unused_categories() # удаляем категрию\n",
    "    .head()\n",
    ")"
   ]
  },
  {
   "cell_type": "code",
   "execution_count": null,
   "id": "a206682d",
   "metadata": {},
   "outputs": [],
   "source": []
  },
  {
   "cell_type": "code",
   "execution_count": null,
   "id": "69697273",
   "metadata": {},
   "outputs": [],
   "source": []
  },
  {
   "cell_type": "markdown",
   "id": "1b4c9da8",
   "metadata": {},
   "source": [
    "## сut\n",
    "\n",
    "#### Функция делит непрерывную величину на интервалы"
   ]
  },
  {
   "cell_type": "markdown",
   "id": "97d368a4",
   "metadata": {},
   "source": [
    "Можно указать количество равных по длинне интервалов, на которое поделится величина"
   ]
  },
  {
   "cell_type": "code",
   "execution_count": null,
   "id": "e20bb0a0",
   "metadata": {},
   "outputs": [],
   "source": [
    "pd.cut(empl['salary'], bins=10)"
   ]
  },
  {
   "cell_type": "markdown",
   "id": "8b796ccb",
   "metadata": {},
   "source": [
    "Можно передать эти интервалы"
   ]
  },
  {
   "cell_type": "code",
   "execution_count": null,
   "id": "416dabf7",
   "metadata": {},
   "outputs": [],
   "source": [
    "pd.cut(empl['salary'], bins=[0, 20000, 50000, 100000, 1000000])"
   ]
  },
  {
   "cell_type": "markdown",
   "id": "c5740d30",
   "metadata": {},
   "source": [
    "Можно указать названия интервалов"
   ]
  },
  {
   "cell_type": "code",
   "execution_count": null,
   "id": "fb214d35",
   "metadata": {},
   "outputs": [],
   "source": [
    "pd.cut(empl['salary'],\n",
    "       bins=[0, 20000, 50000, 100000, 1000000],\n",
    "       labels=['Низкая зарплата', 'Средняя зарплата',\n",
    "                'Выше среднего', 'Высокая зарплата'])"
   ]
  },
  {
   "cell_type": "markdown",
   "id": "61544f36",
   "metadata": {},
   "source": [
    "Затем на основе этого можно построить график.\n",
    "\n",
    "Чтобы категории шли в порядке  категорий необходимо в параметр sort метода value_counts передать значение False  "
   ]
  },
  {
   "cell_type": "code",
   "execution_count": null,
   "id": "bfbe9b1f",
   "metadata": {},
   "outputs": [],
   "source": [
    "(pd.cut(empl['salary'],\n",
    "           bins=[0, 20000, 50000, 100000, 1000000],\n",
    "           labels=['Низкая зарплата', 'Средняя зарплата',\n",
    "                    'Выше среднего', 'Высокая зарплата'])\n",
    "    .value_counts(sort=False)\n",
    "    .plot(kind='bar', figsize=(8, 3))\n",
    ")"
   ]
  },
  {
   "cell_type": "code",
   "execution_count": null,
   "id": "5e26df40",
   "metadata": {},
   "outputs": [],
   "source": []
  },
  {
   "cell_type": "code",
   "execution_count": null,
   "id": "e1740ec8",
   "metadata": {},
   "outputs": [],
   "source": []
  },
  {
   "cell_type": "markdown",
   "id": "d69c6d76",
   "metadata": {},
   "source": [
    "## qcut\n",
    "\n",
    "#### Делит непрерывную величину на интервалы по квантилям (так, чтобы в каждой группе было примерно равно число наблюдений)"
   ]
  },
  {
   "cell_type": "code",
   "execution_count": null,
   "id": "c3257c04",
   "metadata": {},
   "outputs": [],
   "source": [
    "# в каждый полуинтервал попадает по 25% (100 / q = 4)\n",
    "pd.qcut(empl['salary'], q=4)"
   ]
  },
  {
   "cell_type": "code",
   "execution_count": null,
   "id": "f7ccbc95",
   "metadata": {},
   "outputs": [],
   "source": [
    "pd.qcut(empl['salary'], q=[0, 0.1, 0.4, 0.75, 1])"
   ]
  },
  {
   "cell_type": "code",
   "execution_count": null,
   "id": "f7cf6792",
   "metadata": {},
   "outputs": [],
   "source": []
  },
  {
   "cell_type": "code",
   "execution_count": null,
   "id": "6096b45d",
   "metadata": {},
   "outputs": [],
   "source": []
  },
  {
   "cell_type": "code",
   "execution_count": null,
   "id": "6ecc579f",
   "metadata": {},
   "outputs": [],
   "source": []
  },
  {
   "cell_type": "markdown",
   "id": "607f3e6d",
   "metadata": {},
   "source": [
    "#### При помощи данного метода можно стратифицированно делить людей на группы"
   ]
  },
  {
   "cell_type": "code",
   "execution_count": null,
   "id": "b8a6686f",
   "metadata": {},
   "outputs": [],
   "source": [
    "(empl\n",
    "    .query(\"report_dt == '2022-12-31'\")\n",
    "    .assign(salary_bin = lambda df: pd.qcut(df['salary'], q=5)) # делим зарплату на 5 интервалов\n",
    "    .groupby(['sex', 'education', 'salary_bin']) # группируем по  полу, образованию и зарплатному интервалу\n",
    "    .sample(frac=0.3, random_state=10) # берем 30% строк из каждой группы\n",
    "    \n",
    ")"
   ]
  },
  {
   "cell_type": "code",
   "execution_count": null,
   "id": "65ab91e5",
   "metadata": {},
   "outputs": [],
   "source": [
    "(empl\n",
    "    .query(\"report_dt == '2022-12-31'\")\n",
    "    .groupby('sex') # группируем по полу\n",
    "    .apply(lambda x: x.assign(salary_bin = \n",
    "                              # внутри каждой группы по полу делим зарплату на 5 интервалов\n",
    "                              lambda df: pd.qcut(df['salary'], q=5))\n",
    "                                            .groupby('salary_bin') # группируем по этим интервалам\n",
    "                                            .sample(frac=0.3, random_state=10) # берем 30% строк из каждой группы\n",
    "          )\n",
    "    .reset_index(drop=True)\n",
    ")"
   ]
  },
  {
   "cell_type": "code",
   "execution_count": null,
   "id": "32f82ba3",
   "metadata": {},
   "outputs": [],
   "source": []
  },
  {
   "cell_type": "code",
   "execution_count": null,
   "id": "48ea07a5",
   "metadata": {},
   "outputs": [],
   "source": []
  },
  {
   "cell_type": "code",
   "execution_count": null,
   "id": "3f055085",
   "metadata": {},
   "outputs": [],
   "source": []
  },
  {
   "cell_type": "code",
   "execution_count": null,
   "id": "b2b4f7be",
   "metadata": {},
   "outputs": [],
   "source": []
  },
  {
   "cell_type": "code",
   "execution_count": null,
   "id": "d6546e8b",
   "metadata": {},
   "outputs": [],
   "source": []
  },
  {
   "cell_type": "code",
   "execution_count": null,
   "id": "3d8fecd4",
   "metadata": {},
   "outputs": [],
   "source": []
  },
  {
   "cell_type": "code",
   "execution_count": null,
   "id": "a2dce00b",
   "metadata": {},
   "outputs": [],
   "source": []
  },
  {
   "cell_type": "code",
   "execution_count": null,
   "id": "c558c7c7",
   "metadata": {},
   "outputs": [],
   "source": []
  },
  {
   "cell_type": "code",
   "execution_count": null,
   "id": "9487ba8b",
   "metadata": {},
   "outputs": [],
   "source": []
  },
  {
   "cell_type": "markdown",
   "id": "f66e9e48",
   "metadata": {},
   "source": [
    "# Задания"
   ]
  },
  {
   "cell_type": "markdown",
   "id": "e7a2602a",
   "metadata": {},
   "source": [
    "#### Описание таблиц лежит [здесь](https://github.com/victorlymarev/pandas/tree/main/tables#%D0%BE%D0%BF%D0%B8%D1%81%D0%B0%D0%BD%D0%B8%D0%B5-%D1%82%D0%B0%D0%B1%D0%BB%D0%B8%D1%86)"
   ]
  },
  {
   "cell_type": "markdown",
   "id": "f09925ba",
   "metadata": {},
   "source": [
    "Некоторые таблицы занимают много памяти, поэтому каждые 5-10 заданий лучше перезапускайте ноутбук.\n",
    "\n",
    "В формулировке некоторых заданий может содержаться вариативность. Если у вас есть сомнения, что требуется в задании, попробуйте решить несколько вариантов. Если вы не понимаете задание, можете написать об этом в комментариях под видео.\n",
    "\n",
    "В большинстве случаев внешний вид итоговой таблицы не определен. Выведите на экран наиболее адекватный вариант. То есть таблицу, из которой можно будет сделать выводы.\n",
    "\n",
    "Курс пока находится в разработке. Вы можете помочь другим людям добавив свое решение [сюда](https://docs.google.com/forms/d/1HYTBz_KfssY3Jps2dC3n0YnEqa6WBb5OIhLo1d32Xzw/edit).\n",
    "\n",
    "Посмотреть решения других людей можно [здесь](https://docs.google.com/spreadsheets/d/1pMDYO-9UneLbPPnEuQ2shig0TOJdQTU-zipifyAnZMk/edit?resourcekey#gid=1998648012)"
   ]
  },
  {
   "cell_type": "markdown",
   "id": "f82628f7",
   "metadata": {},
   "source": [
    "### Задание 1\n",
    "\n",
    "Разделите объем торговли на 10 равных интервалов"
   ]
  },
  {
   "cell_type": "code",
   "execution_count": null,
   "id": "2dfa4879",
   "metadata": {},
   "outputs": [],
   "source": [
    "# таблица ltc - большая, и в некоторых случаях ваш компьютер может не справиться с ее обработкой\n",
    "# поэтому лучше работайте с частью этой таблицы\n",
    "# но если вы хотите попробовать поработать с полной версией таблицы,\n",
    "# можете заменить переменную path_ltc_sample на path_ltc_full внутри функции read_parquet\n",
    "\n",
    "import os\n",
    "import pandas as pd\n",
    "\n",
    "# path_ltc_full = '../tables/ltc.parquet' if os.path.exists('../tables/ltc.parquet') else \"https://drive.usercontent.google.com/download?id=1ZkAmVZverOV3aGwmEQGAFXgXnQ6pPsZw&export=download&authuser=1&confirm=t&uuid=b827b3e2-7c5d-4979-9d25-f1c34954ac9f&at=APZUnTUs_oUnCQujGIlgn2Zkb5VG:1693327327264\"\n",
    "path_ltc_sample = '../tables/ltc_sample.parquet' if os.path.exists('../tables/ltc_sample.parquet') else 'https://drive.google.com/uc?id=1XaThogOOqKjJj50LvfJ9WqutjMAC5AxA'\n",
    "\n",
    "ltc = pd.read_parquet(path_ltc_sample)\n",
    "ltc.head()"
   ]
  },
  {
   "cell_type": "code",
   "execution_count": null,
   "id": "6711f21e",
   "metadata": {},
   "outputs": [],
   "source": [
    "# напишите свой код здесь"
   ]
  },
  {
   "cell_type": "markdown",
   "id": "a7dcebc2",
   "metadata": {},
   "source": [
    "### Задание 2\n",
    "\n",
    "Разделите объем торговли на 10 интервалов так, чтобы в каждом интервале лежало примерно равное число наблюдений"
   ]
  },
  {
   "cell_type": "code",
   "execution_count": null,
   "id": "7af7cc7a",
   "metadata": {},
   "outputs": [],
   "source": [
    "# таблица ltc - большая, и в некоторых случаях ваш компьютер может не справиться с ее обработкой\n",
    "# поэтому лучше работайте с частью этой таблицы\n",
    "# но если вы хотите попробовать поработать с полной версией таблицы,\n",
    "# можете заменить переменную path_ltc_sample на path_ltc_full внутри функции read_parquet\n",
    "\n",
    "import os\n",
    "import pandas as pd\n",
    "\n",
    "# path_ltc_full = '../tables/ltc.parquet' if os.path.exists('../tables/ltc.parquet') else \"https://drive.usercontent.google.com/download?id=1ZkAmVZverOV3aGwmEQGAFXgXnQ6pPsZw&export=download&authuser=1&confirm=t&uuid=b827b3e2-7c5d-4979-9d25-f1c34954ac9f&at=APZUnTUs_oUnCQujGIlgn2Zkb5VG:1693327327264\"\n",
    "path_ltc_sample = '../tables/ltc_sample.parquet' if os.path.exists('../tables/ltc_sample.parquet') else 'https://drive.google.com/uc?id=1XaThogOOqKjJj50LvfJ9WqutjMAC5AxA'\n",
    "\n",
    "ltc = pd.read_parquet(path_ltc_sample)\n",
    "ltc.head()"
   ]
  },
  {
   "cell_type": "code",
   "execution_count": null,
   "id": "917d91e4",
   "metadata": {},
   "outputs": [],
   "source": [
    "# напишите свой код здесь"
   ]
  },
  {
   "cell_type": "markdown",
   "id": "b0c0282a",
   "metadata": {},
   "source": [
    "### Задание 3\n",
    "\n",
    "Посчитайте симметричную KL дивергенцию между распределением зарплат 31 декабря 2021 года и распределением зарплат 31 декабря 2022 года. Для этого сначала разделите исходную таблицу на две (по датам). Затем внутри каждой таблицы разделите зарплаты на интервалы от нуля до 30 000, от 30 000 до 40 000, от 40 000 до 50 000, от 50 000 до 60 000, от 60 000 до 70 000, от 70 000 до 100 000 и от 100 000  до 200 000. После чего посчитайте долю наблюдений в каждом интервале. \n",
    "\n",
    "В итоге у вас должно получиться 2 массива, в которых лежат доли наблюдений в каждом интервале. Назовем их массив1 и массив2.\n",
    "\n",
    "Посчитайте следующую величину: (массив1 - массив2) * log(массив1/массив2)\n",
    "И просуммируйте значения в нем.\n",
    "\n",
    "P.S. KL - дивергенция служит мерой похожести между двумя распределениями. "
   ]
  },
  {
   "cell_type": "code",
   "execution_count": null,
   "id": "0a6abe3c",
   "metadata": {},
   "outputs": [],
   "source": []
  },
  {
   "cell_type": "markdown",
   "id": "9ef38d7d",
   "metadata": {},
   "source": [
    "### Задание 4\n",
    "\n",
    "Для каждого покупателя, который был в магазине в 2022 году, посчитайте сколько раз за этот год он приходил в магазин (по числу чеков), среднюю сумму его чека, и пол (если 70 и более процентов его товаров за этот год - мужские, то это мужчина, если 70 и более процентов его товаров женские, то женщина, иначе считайте, что карточка клиента семейная. То есть в поле 3 значения). Затем при помощи функции qcut разделите количество товаров в чеке на 5 интервалов, а среднюю сумму чека на 10. Теперь на на основе трех колонок разделите покупателей на 3 равные группы. Каждый покупатель может быть только в одной группе.  "
   ]
  },
  {
   "cell_type": "code",
   "execution_count": null,
   "id": "6ca6a545",
   "metadata": {},
   "outputs": [],
   "source": [
    "# таблица sales - большая, и в некоторых случаях ваш компьютер может не справиться с ее обработкой\n",
    "# поэтому лучше работайте с частью этой таблицы\n",
    "# но если вы хотите попробовать поработать с полной версией таблицы,\n",
    "# можете заменить переменную path_sales_2022 на path_sales внутри функции read_parquet\n",
    "\n",
    "import os\n",
    "import pandas as pd\n",
    "\n",
    "path_sales_2022 = '../tables/sales_2022.parquet' if os.path.exists('../tables/sales_2022.parquet') else 'https://drive.google.com/uc?id=17e7FwXVdsWc2aziK9s5KidIvPcfKt9F5'\n",
    "# path_sales = '../tables/sales.parquet' if os.path.exists('../tables/sales.parquet') else \"https://drive.usercontent.google.com/download?id=15KwSxyM6hpNABGe6_vsrFZvD09VfHFyK&export=download&authuser=1&confirm=t&uuid=115bd48c-cc2c-4f2a-8b42-be5ca6ef6db8&at=APZUnTUVb8nfNANw5wr9Cad7PJ3U:1693327774694\"\n",
    "\n",
    "sales = pd.read_parquet(path_sales_2022)\n",
    "sales.head()"
   ]
  },
  {
   "cell_type": "code",
   "execution_count": null,
   "id": "f6be6b7e",
   "metadata": {},
   "outputs": [],
   "source": [
    "path_goods_descr = '../tables/goods_description.parquet' if os.path.exists('../tables/goods_description.parquet') else 'https://drive.google.com/uc?id=1YbiD02Rev-X_WWV9nPSG1zZFmEh2JjPh'\n",
    "\n",
    "goods_descr = pd.read_parquet(path_goods_descr)\n",
    "goods_descr.head()"
   ]
  },
  {
   "cell_type": "code",
   "execution_count": null,
   "id": "f4d129eb",
   "metadata": {},
   "outputs": [],
   "source": [
    "# напишите свой код здесь"
   ]
  },
  {
   "cell_type": "code",
   "execution_count": null,
   "id": "3bc206e5",
   "metadata": {},
   "outputs": [],
   "source": []
  },
  {
   "cell_type": "code",
   "execution_count": null,
   "id": "6270f12a",
   "metadata": {},
   "outputs": [],
   "source": []
  },
  {
   "cell_type": "code",
   "execution_count": null,
   "id": "85496ecc",
   "metadata": {},
   "outputs": [],
   "source": []
  },
  {
   "cell_type": "code",
   "execution_count": null,
   "id": "6fa50003",
   "metadata": {},
   "outputs": [],
   "source": []
  }
 ],
 "metadata": {
  "kernelspec": {
   "display_name": "Python 3 (ipykernel)",
   "language": "python",
   "name": "python3"
  },
  "language_info": {
   "codemirror_mode": {
    "name": "ipython",
    "version": 3
   },
   "file_extension": ".py",
   "mimetype": "text/x-python",
   "name": "python",
   "nbconvert_exporter": "python",
   "pygments_lexer": "ipython3",
   "version": "3.11.5"
  }
 },
 "nbformat": 4,
 "nbformat_minor": 5
}
