{
 "cells": [
  {
   "cell_type": "markdown",
   "metadata": {},
   "source": [
    "<a target=\"_blank\" href=\"https://colab.research.google.com/github/victorlymarev/pandas/blob/main/notebooks/python.ipynb\">\n",
    "  <img src=\"https://colab.research.google.com/assets/colab-badge.svg\" alt=\"Open In Colab\"/>\n",
    "</a>"
   ]
  },
  {
   "cell_type": "markdown",
   "metadata": {},
   "source": [
    "В этом ноутбуке содержатся все основы для того, чтобы вы смогли успешно освоить работу с таблицами"
   ]
  },
  {
   "cell_type": "markdown",
   "metadata": {},
   "source": [
    "## Типы данных"
   ]
  },
  {
   "cell_type": "markdown",
   "metadata": {},
   "source": [
    "В питоне сущетсвуют различные типы данных. Это целые числа, числа с плавующей точкой, булевые значения, строки, кортежи, списки, словари и множества. Давайте разберемся зачем нужен каждый тип, и какие у них есть основные свойства."
   ]
  },
  {
   "cell_type": "markdown",
   "metadata": {},
   "source": [
    "### Целые числа (int)"
   ]
  },
  {
   "cell_type": "markdown",
   "metadata": {},
   "source": [
    "Целые числа - это такие числа как 0, 1, -1, 23. Их можно складывать, вычитать, умножать делить, возводить в степень."
   ]
  },
  {
   "cell_type": "code",
   "execution_count": null,
   "metadata": {},
   "outputs": [],
   "source": [
    "342"
   ]
  },
  {
   "cell_type": "markdown",
   "metadata": {},
   "source": [
    "Напишите любое целое число\n",
    "\n",
    "(чтобы запустить ячейку кликните на нее, а затем нажмити клавиши ctrl Enter)"
   ]
  },
  {
   "cell_type": "code",
   "execution_count": null,
   "metadata": {},
   "outputs": [],
   "source": []
  },
  {
   "cell_type": "code",
   "execution_count": null,
   "metadata": {},
   "outputs": [],
   "source": []
  },
  {
   "cell_type": "code",
   "execution_count": null,
   "metadata": {},
   "outputs": [],
   "source": []
  },
  {
   "cell_type": "code",
   "execution_count": null,
   "metadata": {},
   "outputs": [],
   "source": []
  },
  {
   "cell_type": "markdown",
   "metadata": {},
   "source": [
    "### Числа с плавующей точкой (float)\n",
    "\n",
    "Числа с плавующей точкой (float) - это дробные числа. В питоне в качестве разделителя между целой и дробной частью используется точка. Например 2.5 или 34.3421"
   ]
  },
  {
   "cell_type": "markdown",
   "metadata": {},
   "source": [
    "В таблице ниже приведен список основных операций над числами. Они работают как с типом float, так и с типом int\n",
    "\n",
    "|    | Название операции     | Символ   |\n",
    "|---:|:----------------------|:---------|\n",
    "|  0 | Сложение              | +        |\n",
    "|  1 | Вычитание             | -        |\n",
    "|  2 | Умножение             | *        |\n",
    "|  3 | Деление               | /        |\n",
    "|  4 | Целочисленное деление | //       |\n",
    "|  5 | Остоток от деления    | %        |\n",
    "|  6 | Возведение в степень  | **       |"
   ]
  },
  {
   "cell_type": "markdown",
   "metadata": {},
   "source": [
    "Для того чтобы сложить 2 и 8 надо написать 2 + 8"
   ]
  },
  {
   "cell_type": "code",
   "execution_count": null,
   "metadata": {},
   "outputs": [],
   "source": [
    "2 + 8"
   ]
  },
  {
   "cell_type": "code",
   "execution_count": null,
   "metadata": {},
   "outputs": [],
   "source": [
    "3545.732 + 4325"
   ]
  },
  {
   "cell_type": "markdown",
   "metadata": {},
   "source": [
    "Сложите числа 235 и 2243"
   ]
  },
  {
   "cell_type": "code",
   "execution_count": null,
   "metadata": {},
   "outputs": [],
   "source": []
  },
  {
   "cell_type": "markdown",
   "metadata": {},
   "source": [
    "Сложите 23.92 и 45 "
   ]
  },
  {
   "cell_type": "code",
   "execution_count": null,
   "metadata": {},
   "outputs": [],
   "source": []
  },
  {
   "cell_type": "markdown",
   "metadata": {},
   "source": [
    "Чтобы ввычесть 7 из 32, надо написать 32 - 7 "
   ]
  },
  {
   "cell_type": "code",
   "execution_count": null,
   "metadata": {},
   "outputs": [],
   "source": [
    "32 - 7"
   ]
  },
  {
   "cell_type": "markdown",
   "metadata": {},
   "source": [
    "#### Символ # - это символ начала комментария в питоне. Все что находится после него в стоке не воспринимается питоном как код"
   ]
  },
  {
   "cell_type": "code",
   "execution_count": null,
   "metadata": {},
   "outputs": [],
   "source": [
    "# Чтобы число стало отрицательным, надо перед ним поставить минус\n",
    "-34.980 - 23.96"
   ]
  },
  {
   "cell_type": "markdown",
   "metadata": {},
   "source": [
    "Вычтите 62 из 187"
   ]
  },
  {
   "cell_type": "code",
   "execution_count": null,
   "metadata": {},
   "outputs": [],
   "source": []
  },
  {
   "cell_type": "markdown",
   "metadata": {},
   "source": [
    "Чтобы умножить 889 и 243 надо написать 889 * 243"
   ]
  },
  {
   "cell_type": "code",
   "execution_count": null,
   "metadata": {},
   "outputs": [],
   "source": [
    "889 * 243"
   ]
  },
  {
   "cell_type": "code",
   "execution_count": null,
   "metadata": {},
   "outputs": [],
   "source": [
    "23 * 25.678"
   ]
  },
  {
   "cell_type": "markdown",
   "metadata": {},
   "source": [
    "Умножьте 97 на 76"
   ]
  },
  {
   "cell_type": "code",
   "execution_count": null,
   "metadata": {},
   "outputs": [],
   "source": []
  },
  {
   "cell_type": "markdown",
   "metadata": {},
   "source": [
    "При делении всегда получается число с плавующей точкой"
   ]
  },
  {
   "cell_type": "code",
   "execution_count": null,
   "metadata": {},
   "outputs": [],
   "source": [
    "25 / 5"
   ]
  },
  {
   "cell_type": "code",
   "execution_count": null,
   "metadata": {},
   "outputs": [],
   "source": [
    "24234 / 89"
   ]
  },
  {
   "cell_type": "markdown",
   "metadata": {},
   "source": [
    "Разделите 34 на 12"
   ]
  },
  {
   "cell_type": "code",
   "execution_count": null,
   "metadata": {},
   "outputs": [],
   "source": []
  },
  {
   "cell_type": "markdown",
   "metadata": {},
   "source": [
    "Разделите 23.932 на 894.95678"
   ]
  },
  {
   "cell_type": "code",
   "execution_count": null,
   "metadata": {},
   "outputs": [],
   "source": []
  },
  {
   "cell_type": "markdown",
   "metadata": {},
   "source": [
    "Целочисленное деление это операция при которой полученное при делении число мы округлаяем вниз до ближайшего целого"
   ]
  },
  {
   "cell_type": "code",
   "execution_count": null,
   "metadata": {},
   "outputs": [],
   "source": [
    "# 11 * 3 + 1 = 34\n",
    "34 // 3"
   ]
  },
  {
   "cell_type": "markdown",
   "metadata": {},
   "source": [
    "Разделите целочисленно 24 на 7"
   ]
  },
  {
   "cell_type": "code",
   "execution_count": null,
   "metadata": {},
   "outputs": [],
   "source": []
  },
  {
   "cell_type": "markdown",
   "metadata": {},
   "source": [
    "Остоток от деления"
   ]
  },
  {
   "cell_type": "code",
   "execution_count": null,
   "metadata": {},
   "outputs": [],
   "source": [
    "# 11 * 3 + 1 = 34\n",
    "34 % 3"
   ]
  },
  {
   "cell_type": "code",
   "execution_count": null,
   "metadata": {},
   "outputs": [],
   "source": [
    "3434 % 45"
   ]
  },
  {
   "cell_type": "markdown",
   "metadata": {},
   "source": [
    "Найдите остаток от деления 6789 на 99"
   ]
  },
  {
   "cell_type": "code",
   "execution_count": null,
   "metadata": {},
   "outputs": [],
   "source": []
  },
  {
   "cell_type": "markdown",
   "metadata": {},
   "source": [
    "Возведение в степень"
   ]
  },
  {
   "cell_type": "code",
   "execution_count": null,
   "metadata": {},
   "outputs": [],
   "source": [
    "# Это тоже самое, что и 12 * 12\n",
    "12 ** 2"
   ]
  },
  {
   "cell_type": "code",
   "execution_count": null,
   "metadata": {},
   "outputs": [],
   "source": [
    "24 ** 23"
   ]
  },
  {
   "cell_type": "markdown",
   "metadata": {},
   "source": [
    "Возведите 2 в степень 50"
   ]
  },
  {
   "cell_type": "code",
   "execution_count": null,
   "metadata": {},
   "outputs": [],
   "source": []
  },
  {
   "cell_type": "markdown",
   "metadata": {},
   "source": [
    "Если вы помните математику, то операция извлечения квадратного корня эквивалентна возведению в степень 0.5"
   ]
  },
  {
   "cell_type": "code",
   "execution_count": null,
   "metadata": {},
   "outputs": [],
   "source": [
    "# Квадратный корень из 2\n",
    "100 ** 0.5"
   ]
  },
  {
   "cell_type": "markdown",
   "metadata": {},
   "source": [
    "Порядок пераций в питоне стандартный. Сначала выполняется возведение в степень, потом выполняется умножение и деление (с однинаковым приоритетом). В последнюю очередь выполняется сложенеие и вычитаение. Но если вы хотите его изменить можете воспользоваться скобками"
   ]
  },
  {
   "cell_type": "code",
   "execution_count": null,
   "metadata": {},
   "outputs": [],
   "source": [
    "2 + 2 * 2"
   ]
  },
  {
   "cell_type": "code",
   "execution_count": null,
   "metadata": {},
   "outputs": [],
   "source": [
    "(2 + 2) * 2"
   ]
  },
  {
   "cell_type": "markdown",
   "metadata": {},
   "source": [
    "Посчитайте значения выражения: необходимо сложить 8 и 9, а затем возвести полученную сумму в куб (третью степень)"
   ]
  },
  {
   "cell_type": "code",
   "execution_count": null,
   "metadata": {},
   "outputs": [],
   "source": []
  },
  {
   "cell_type": "markdown",
   "metadata": {},
   "source": [
    "У питоновских чисел с плавующей точкой (флотов) есть один недостоток. Они не всегда точные. Из-за этого иногда возникают разные спецэффекты. К сожалению, с этим ничего не поделаешь. Просто надо иметь в виду."
   ]
  },
  {
   "cell_type": "code",
   "execution_count": null,
   "metadata": {},
   "outputs": [],
   "source": [
    "0.1 + 0.2"
   ]
  },
  {
   "cell_type": "markdown",
   "metadata": {},
   "source": [
    "Можете подробнее почитать про это тут:\n",
    "\n",
    "https://docs-python.ru/tutorial/operatsii-chislami-python/problemy-chisel-plavajuschej-zapjatoj"
   ]
  },
  {
   "cell_type": "markdown",
   "metadata": {},
   "source": [
    "### Проверка условий"
   ]
  },
  {
   "cell_type": "markdown",
   "metadata": {},
   "source": [
    "Числа мы можем сравнивать и в результате таких сравнений получать булевые значения. True значит истина (правда), False значит ложь. В дальшейшем в пандасе мы будем использовать операторы сравнения для того, чтобы выбирать нужные строки из таблицы"
   ]
  },
  {
   "cell_type": "code",
   "execution_count": null,
   "metadata": {},
   "outputs": [],
   "source": [
    "# 2 больше 1\n",
    "2 > 1"
   ]
  },
  {
   "cell_type": "code",
   "execution_count": null,
   "metadata": {},
   "outputs": [],
   "source": [
    "# 0 больше 1\n",
    "0 > 1"
   ]
  },
  {
   "cell_type": "markdown",
   "metadata": {},
   "source": [
    "Таблица со знаками сравнения представлена ниже"
   ]
  },
  {
   "cell_type": "markdown",
   "metadata": {},
   "source": [
    "|    | Название операции   | Символ   |\n",
    "|---:|:--------------------|:---------|\n",
    "|  0 | Больше              | >        |\n",
    "|  1 | Меньше              | <        |\n",
    "|  2 | Больше или равно    | >=       |\n",
    "|  3 | Меньше или равно    | <=       |\n",
    "|  4 | Равно               | ==       |\n",
    "|  5 | Неравно             | !=       |"
   ]
  },
  {
   "cell_type": "markdown",
   "metadata": {},
   "source": [
    "Обратите внимание на то как осуществляется проверка на равентво. Для этого надо прописать 2 знака равно. Часто пишут 1 и не понимают почему возникла ошибка"
   ]
  },
  {
   "cell_type": "code",
   "execution_count": null,
   "metadata": {},
   "outputs": [],
   "source": [
    "22 == 22"
   ]
  },
  {
   "cell_type": "code",
   "execution_count": null,
   "metadata": {},
   "outputs": [],
   "source": [
    "29 + 2 != 12 + 14 + 5"
   ]
  },
  {
   "cell_type": "code",
   "execution_count": null,
   "metadata": {},
   "outputs": [],
   "source": [
    "# Очень часто проверяют, что остоток от деления равен нулю (проверка на делимость)\n",
    "# число 673924 не делется на 7\n",
    "673924 % 7 == 0"
   ]
  },
  {
   "cell_type": "code",
   "execution_count": null,
   "metadata": {},
   "outputs": [],
   "source": [
    "# а число 673925 делется\n",
    "673925 % 7 == 0"
   ]
  },
  {
   "cell_type": "markdown",
   "metadata": {},
   "source": [
    "Правда ли что, 22 больше 23?"
   ]
  },
  {
   "cell_type": "code",
   "execution_count": null,
   "metadata": {},
   "outputs": [],
   "source": []
  },
  {
   "cell_type": "markdown",
   "metadata": {},
   "source": [
    "Правда ли что, 32 меньше 42?"
   ]
  },
  {
   "cell_type": "code",
   "execution_count": null,
   "metadata": {},
   "outputs": [],
   "source": []
  },
  {
   "cell_type": "markdown",
   "metadata": {},
   "source": [
    "Правда ли, что 89 равно 89?"
   ]
  },
  {
   "cell_type": "code",
   "execution_count": null,
   "metadata": {},
   "outputs": [],
   "source": []
  },
  {
   "cell_type": "markdown",
   "metadata": {},
   "source": [
    "Проверьте, что 73781 делется на 89"
   ]
  },
  {
   "cell_type": "code",
   "execution_count": null,
   "metadata": {},
   "outputs": [],
   "source": []
  },
  {
   "cell_type": "markdown",
   "metadata": {},
   "source": [
    "Над булевыми значениями тоже определены арифметические операции. В этом случае True воспринимается как 1, а False как 0. В будущем, при работе с таблицами, нам это очень поможет"
   ]
  },
  {
   "cell_type": "code",
   "execution_count": null,
   "metadata": {},
   "outputs": [],
   "source": [
    "False * True"
   ]
  },
  {
   "cell_type": "code",
   "execution_count": null,
   "metadata": {},
   "outputs": [],
   "source": [
    "True + True + True"
   ]
  },
  {
   "cell_type": "markdown",
   "metadata": {},
   "source": [
    "Когда мы прописываваем проверку на равенство (или неравенство), часто возникаем ситуация проверки сразу нескольких условий. Для этого существуют ключевые слова: and, or и not"
   ]
  },
  {
   "cell_type": "code",
   "execution_count": null,
   "metadata": {},
   "outputs": [],
   "source": [
    "# and проверяет что выполнены все условия\n",
    "1 == 1 and 9 >= 1"
   ]
  },
  {
   "cell_type": "code",
   "execution_count": null,
   "metadata": {},
   "outputs": [],
   "source": [
    "# последнее условие не выполнена\n",
    "1 == 1 and 9 >= 1 and 323 * 12 < 98"
   ]
  },
  {
   "cell_type": "code",
   "execution_count": null,
   "metadata": {},
   "outputs": [],
   "source": [
    "# or проверяет что выполнено хотя бы одно условие\n",
    "12 > 24 or 12 > 9"
   ]
  },
  {
   "cell_type": "code",
   "execution_count": null,
   "metadata": {},
   "outputs": [],
   "source": [
    "# Не забывайте про скобки. Не всегда порядок операций очевиден\n",
    "12 > 26 and (23 > 1 or 1 == 12 ** 0)"
   ]
  },
  {
   "cell_type": "code",
   "execution_count": null,
   "metadata": {},
   "outputs": [],
   "source": [
    "# Если есть риск запутаться в порядке операций, скобки лучше лишний раз поставить, чем не поставить\n",
    "(12 > 26 and 23 > 1) or 1 == 12 ** 0"
   ]
  },
  {
   "cell_type": "markdown",
   "metadata": {},
   "source": [
    "Проверьте условие: (26 больше 12) или (235 меньше 15 * 16)"
   ]
  },
  {
   "cell_type": "code",
   "execution_count": null,
   "metadata": {},
   "outputs": [],
   "source": []
  },
  {
   "cell_type": "markdown",
   "metadata": {},
   "source": [
    "not необходимо, чтобы формировать отрицание (просто меняет True на False и наоборот)"
   ]
  },
  {
   "cell_type": "code",
   "execution_count": null,
   "metadata": {},
   "outputs": [],
   "source": [
    "19 == 19"
   ]
  },
  {
   "cell_type": "code",
   "execution_count": null,
   "metadata": {},
   "outputs": [],
   "source": [
    "not 19 == 19"
   ]
  },
  {
   "cell_type": "code",
   "execution_count": null,
   "metadata": {},
   "outputs": [],
   "source": [
    "# not имеет приоритет у or и and, поэтому выделяйте условия скобками\n",
    "not 19 == 19 or 18 == 18 # это плохой пример"
   ]
  },
  {
   "cell_type": "code",
   "execution_count": null,
   "metadata": {},
   "outputs": [],
   "source": [
    "# Так выглядит понятнее, несмотря на то что выражения эквивалентны\n",
    "(not 19 == 19) or 18 == 18"
   ]
  },
  {
   "cell_type": "code",
   "execution_count": null,
   "metadata": {},
   "outputs": [],
   "source": [
    "((23 * 24 > 12 ** 3) and (not 23 % 3 == 1)) or (56789 % 23 == 1)"
   ]
  },
  {
   "cell_type": "markdown",
   "metadata": {},
   "source": [
    "Напишите любое условие, используя not, or и and в одном выражении"
   ]
  },
  {
   "cell_type": "code",
   "execution_count": null,
   "metadata": {},
   "outputs": [],
   "source": []
  },
  {
   "cell_type": "markdown",
   "metadata": {},
   "source": [
    "### Переменные"
   ]
  },
  {
   "cell_type": "markdown",
   "metadata": {},
   "source": [
    "В питоне существуют переменные. В них можно складывать наши объекты.\n",
    "\n",
    "Для того чтобы сохранить в переменную что-то необходимо написать ее название, затем поставить равно и написать выражение"
   ]
  },
  {
   "cell_type": "code",
   "execution_count": null,
   "metadata": {},
   "outputs": [],
   "source": [
    "# Когда вы делеаете присваивание никакого вывода под ячейкой вы не получите\n",
    "a = 12\n",
    "b = 23"
   ]
  },
  {
   "cell_type": "code",
   "execution_count": null,
   "metadata": {},
   "outputs": [],
   "source": [
    "# давайте сложим два целых числа\n",
    "a + b"
   ]
  },
  {
   "cell_type": "code",
   "execution_count": null,
   "metadata": {},
   "outputs": [],
   "source": [
    "# При этом в a и b будут лежать сохраненные значения. Их можно будет получить в любом месте ноутбука\n",
    "a"
   ]
  },
  {
   "cell_type": "code",
   "execution_count": null,
   "metadata": {},
   "outputs": [],
   "source": [
    "b"
   ]
  },
  {
   "cell_type": "markdown",
   "metadata": {},
   "source": [
    "Создайте переменную x и положите в нее значение равное 56"
   ]
  },
  {
   "cell_type": "code",
   "execution_count": null,
   "metadata": {},
   "outputs": [],
   "source": []
  },
  {
   "cell_type": "markdown",
   "metadata": {},
   "source": [
    "Но если вы вдруг положите в нее другое значение, то первое значение сотрется"
   ]
  },
  {
   "cell_type": "code",
   "execution_count": null,
   "metadata": {},
   "outputs": [],
   "source": [
    "a"
   ]
  },
  {
   "cell_type": "code",
   "execution_count": null,
   "metadata": {},
   "outputs": [],
   "source": [
    "a = 23\n",
    "# Теперь в переменной a лежит значение 23\n",
    "a"
   ]
  },
  {
   "cell_type": "code",
   "execution_count": null,
   "metadata": {},
   "outputs": [],
   "source": [
    "# В этой ячейке выведите значение переменной x, которую вы создали в предыдущем задании \n"
   ]
  },
  {
   "cell_type": "code",
   "execution_count": null,
   "metadata": {},
   "outputs": [],
   "source": [
    "# А в этой ячеке поменяйте ее значение на 45 и выведите на экран\n"
   ]
  },
  {
   "cell_type": "markdown",
   "metadata": {},
   "source": [
    "В переменных могут лежать абсолютно любые объекты"
   ]
  },
  {
   "cell_type": "code",
   "execution_count": null,
   "metadata": {},
   "outputs": [],
   "source": [
    "condition = (1 * 23 - 2 == 12) or (12 ** 23 < 23 ** 12)\n",
    "condition"
   ]
  },
  {
   "cell_type": "markdown",
   "metadata": {},
   "source": [
    "Переменные удобно переприсваивать, используя их самих же. Сначала будет вычисляться правая часть равениства, и только потом будет выполнено присваивания значения"
   ]
  },
  {
   "cell_type": "code",
   "execution_count": null,
   "metadata": {},
   "outputs": [],
   "source": [
    "a "
   ]
  },
  {
   "cell_type": "code",
   "execution_count": null,
   "metadata": {},
   "outputs": [],
   "source": [
    "# если вы ничего не меняли, то a у нас изначально равно 23.\n",
    "# Мы сначала вычислили правую часть равениства a ** 4 + 19 (23 ** 4 + 19)\n",
    "# И только потом обновили переменнную a\n",
    "a = a ** 4 + 19"
   ]
  },
  {
   "cell_type": "code",
   "execution_count": null,
   "metadata": {},
   "outputs": [],
   "source": [
    "a"
   ]
  },
  {
   "cell_type": "markdown",
   "metadata": {},
   "source": [
    "Поменяйте значение в переменной x, умножив ее на 54 и прибавив к полученному значению 23"
   ]
  },
  {
   "cell_type": "code",
   "execution_count": null,
   "metadata": {},
   "outputs": [],
   "source": []
  },
  {
   "cell_type": "markdown",
   "metadata": {},
   "source": [
    "В питоне есть ограничения на название переменных:\n",
    "1. Они не должны начинаться с цифр\n",
    "2. Они не должны содержать пробелов, точек, запятых и специальных знаков, которые мы рассмотрели выше (=, >, <, +, *, -)\n",
    "\n",
    "Кроме того лучше не использовать в названиях переменных:\n",
    "1. Заглавные буквы\n",
    "2. Буквы из кирилицы\n",
    "\n",
    "**Переменные должны иметь норамальные названия, чтобы вы не запутались, что в них лежит**"
   ]
  },
  {
   "cell_type": "code",
   "execution_count": null,
   "metadata": {},
   "outputs": [],
   "source": [
    "# Хороший пример для числа яблок\n",
    "num_apples = 23\n",
    "# Плохой пример для числа яблок\n",
    "n_a = 23"
   ]
  },
  {
   "cell_type": "code",
   "execution_count": null,
   "metadata": {},
   "outputs": [],
   "source": [
    "# Хороший пример для численности населеления в Оренбурге\n",
    "population_orenburg = 500000\n",
    "# Плохой пример для численности населеления в Оренбурге\n",
    "po = 500000"
   ]
  },
  {
   "cell_type": "markdown",
   "metadata": {},
   "source": [
    "Создайте переменную для количества автобусов, и поместите в нее число 23"
   ]
  },
  {
   "cell_type": "code",
   "execution_count": null,
   "metadata": {},
   "outputs": [],
   "source": []
  },
  {
   "cell_type": "markdown",
   "metadata": {},
   "source": [
    "### Строки"
   ]
  },
  {
   "cell_type": "markdown",
   "metadata": {},
   "source": [
    "В питоне мы можем работать не только с числами, но и с текстом. Для того, чтобы создать текст необходимо поставить одинарные или двойные кавычки и указать там какой-нибудь текст. Разницы в том, какие кавычки использовать нет"
   ]
  },
  {
   "cell_type": "code",
   "execution_count": null,
   "metadata": {},
   "outputs": [],
   "source": [
    "# Одинарные кавычки\n",
    "'Привет мир!'"
   ]
  },
  {
   "cell_type": "code",
   "execution_count": null,
   "metadata": {},
   "outputs": [],
   "source": [
    "# Двойные кавычки\n",
    "\"Привет мир!\""
   ]
  },
  {
   "cell_type": "markdown",
   "metadata": {},
   "source": [
    "Напишите строку: Я не хочу ничего делать. И сохрание ее в переменную my_wish"
   ]
  },
  {
   "cell_type": "code",
   "execution_count": null,
   "metadata": {},
   "outputs": [],
   "source": []
  },
  {
   "cell_type": "markdown",
   "metadata": {},
   "source": [
    "Строки можно складывать"
   ]
  },
  {
   "cell_type": "code",
   "execution_count": null,
   "metadata": {},
   "outputs": [],
   "source": [
    "# не забывайте про пробелы\n",
    "'Я' + \"люблю\" + \"тебя!\""
   ]
  },
  {
   "cell_type": "code",
   "execution_count": null,
   "metadata": {},
   "outputs": [],
   "source": [
    "'Я' + ' ' + \"люблю \" + \"тебя!\""
   ]
  },
  {
   "cell_type": "markdown",
   "metadata": {},
   "source": [
    "Строки можно умножать на целые числа. Тогда строка продублируется несколько раз"
   ]
  },
  {
   "cell_type": "code",
   "execution_count": null,
   "metadata": {},
   "outputs": [],
   "source": [
    "'Мама мыла раму ' * 3 "
   ]
  },
  {
   "cell_type": "markdown",
   "metadata": {},
   "source": [
    "Часто мы хотим делать так, чтобы текст зависел от значения наших переменных\n",
    "\n",
    "Например, у нас есть переменная, число яблок у Маши, и мы хотим выводить текст, который бы зависел от этой переменной"
   ]
  },
  {
   "cell_type": "code",
   "execution_count": null,
   "metadata": {},
   "outputs": [],
   "source": [
    "num_apples_masha = 8\n",
    "'Количество яблок у Маши: 8'"
   ]
  },
  {
   "cell_type": "code",
   "execution_count": null,
   "metadata": {},
   "outputs": [],
   "source": [
    "num_apples_masha = 34\n",
    "'Количество яблок у Маши: 34'"
   ]
  },
  {
   "cell_type": "markdown",
   "metadata": {},
   "source": [
    "В примерах выше наши строки никак не зависели от значения переменной, мы указывали число сами."
   ]
  },
  {
   "cell_type": "markdown",
   "metadata": {},
   "source": [
    "Для того, чтобы делать это автоматически существуют f-строки. Для этого необходимо написать f перед тем как открывать кавычки. А в самой строке надо написать фигурные скобки {} и в них указать какое-нибудь питоновское выражение."
   ]
  },
  {
   "cell_type": "code",
   "execution_count": null,
   "metadata": {},
   "outputs": [],
   "source": [
    "num_apples_masha = 34\n",
    "f'Количество яблок у Маши: {num_apples_masha}'"
   ]
  },
  {
   "cell_type": "code",
   "execution_count": null,
   "metadata": {},
   "outputs": [],
   "source": [
    "num_apples_masha = 2\n",
    "f'Количество яблок у Маши: {num_apples_masha}'"
   ]
  },
  {
   "cell_type": "markdown",
   "metadata": {},
   "source": [
    "Таких скобок фигурных скобок может быть сколько угодно и выражения в них могут быть довольно сложные"
   ]
  },
  {
   "cell_type": "code",
   "execution_count": null,
   "metadata": {},
   "outputs": [],
   "source": [
    "num_apples_masha = 2\n",
    "num_apples_dasha = 12\n",
    "f'Количество яблок у Маши: {num_apples_masha}, Количество яблок у Даши: {num_apples_dasha}, Всего яблок: {num_apples_dasha + num_apples_masha}'"
   ]
  },
  {
   "cell_type": "markdown",
   "metadata": {},
   "source": [
    "### Функции"
   ]
  },
  {
   "cell_type": "markdown",
   "metadata": {},
   "source": [
    "Вы наверное заметили, что мы практически везде каждое новое выражение начинали писать в новой ячейке.\n",
    "\n",
    "Дело в том, что по умолчанию в ноутбуках отображается вывод только последнего выражения."
   ]
  },
  {
   "cell_type": "code",
   "execution_count": null,
   "metadata": {},
   "outputs": [],
   "source": [
    "# Значение этой суммы не будет отображено\n",
    "23 + 192\n",
    "# а этой будет\n",
    "12 + 43"
   ]
  },
  {
   "cell_type": "markdown",
   "metadata": {},
   "source": [
    "Чтобы это изменить существует функция print. Чтобы использовать любую функцию необходимо написать ее название, постоваить скобки, и внутрь их необходимо передать выражение"
   ]
  },
  {
   "cell_type": "code",
   "execution_count": null,
   "metadata": {},
   "outputs": [],
   "source": [
    "# Теперь мы можем выводить\n",
    "print(23 + 192)\n",
    "print(12 + 43)"
   ]
  },
  {
   "cell_type": "code",
   "execution_count": null,
   "metadata": {},
   "outputs": [],
   "source": [
    "# Можно печатать не только числа\n",
    "print('У Кати 4 красных помидора')"
   ]
  },
  {
   "cell_type": "markdown",
   "metadata": {},
   "source": [
    "Для многих объектов можно вызвать функцию len, которая будет возвращать длинну объекта. Например, данная функция опеределена для строк и возвращает число символов"
   ]
  },
  {
   "cell_type": "code",
   "execution_count": null,
   "metadata": {},
   "outputs": [],
   "source": [
    "# В этом случае вернется количество символов в строке, считая пробелы\n",
    "len('У Юли 1 спелый арбуз')"
   ]
  },
  {
   "cell_type": "markdown",
   "metadata": {},
   "source": [
    "Помимо этого, существует множество типов данных, у которых определены различные методы."
   ]
  },
  {
   "cell_type": "markdown",
   "metadata": {},
   "source": [
    "Например, для строк есть метод lower, который приводит строку к нижнему регистру"
   ]
  },
  {
   "cell_type": "code",
   "execution_count": null,
   "metadata": {},
   "outputs": [],
   "source": [
    "# После окончания строки надо поставить точку, написать название метода и поставить точку\n",
    "'У Лены горсть вишни'.lower()"
   ]
  },
  {
   "cell_type": "code",
   "execution_count": null,
   "metadata": {},
   "outputs": [],
   "source": [
    "# метод upper приводит строки к верхнему регистру\n",
    "'У Леры сочный абрикос'.upper()"
   ]
  },
  {
   "cell_type": "markdown",
   "metadata": {},
   "source": [
    "Приведите строку \"Я лЮБлЮ АрБуЗы\" к нижнему рестру"
   ]
  },
  {
   "cell_type": "code",
   "execution_count": null,
   "metadata": {},
   "outputs": [],
   "source": []
  },
  {
   "cell_type": "markdown",
   "metadata": {},
   "source": [
    "Существует множество других функций и методов. О них мы еще будем говорить. Пока продолжим говорить о типах данных"
   ]
  },
  {
   "cell_type": "code",
   "execution_count": null,
   "metadata": {},
   "outputs": [],
   "source": []
  },
  {
   "cell_type": "code",
   "execution_count": null,
   "metadata": {},
   "outputs": [],
   "source": []
  },
  {
   "cell_type": "markdown",
   "metadata": {},
   "source": [
    "### Кортжи\n",
    "\n",
    "Следующий тип - это кортежи.\n",
    "\n",
    "Кортежи нужны, чтобы хранить в себе другие типы. \n",
    "\n",
    "Довольно часто нам надо хранить какие-то числа вместе. Мы можем делать это внутри кортежей"
   ]
  },
  {
   "cell_type": "code",
   "execution_count": null,
   "metadata": {},
   "outputs": [],
   "source": [
    "# Элементы кортежа записываются как правило в скобках через запятую\n",
    "(1, 4, 34, 6)"
   ]
  },
  {
   "cell_type": "markdown",
   "metadata": {},
   "source": [
    "В целом с кортежами работать мы будем не часто, но иногда они будут появляться. Надо просто знать, что когда несколько объектов записано в скобках через запятую, то это кортеж"
   ]
  },
  {
   "cell_type": "markdown",
   "metadata": {},
   "source": [
    "Создайте кортеж, внутри которого будет находится 3 строки"
   ]
  },
  {
   "cell_type": "code",
   "execution_count": null,
   "metadata": {},
   "outputs": [],
   "source": []
  },
  {
   "cell_type": "code",
   "execution_count": null,
   "metadata": {},
   "outputs": [],
   "source": []
  },
  {
   "cell_type": "markdown",
   "metadata": {},
   "source": [
    "### Списки"
   ]
  },
  {
   "cell_type": "markdown",
   "metadata": {},
   "source": [
    "Значительно более популярным типом данных (по крайне мере в контексте панадаса) являются списки. Они очень похожи на котрежи, но записываются в квадратных скобках"
   ]
  },
  {
   "cell_type": "code",
   "execution_count": null,
   "metadata": {},
   "outputs": [],
   "source": [
    "# в них могут лежать абсолютно разные объекты\n",
    "[1, 2, 3, 'человек', 2.34]"
   ]
  },
  {
   "cell_type": "code",
   "execution_count": null,
   "metadata": {},
   "outputs": [],
   "source": [
    "# Можно даже класть список внутрь списка\n",
    "[[1, 2], 12, 'человек', 23]"
   ]
  },
  {
   "cell_type": "code",
   "execution_count": null,
   "metadata": {},
   "outputs": [],
   "source": [
    "# В списке может лежать только 1 элемент\n",
    "[12]"
   ]
  },
  {
   "cell_type": "code",
   "execution_count": null,
   "metadata": {},
   "outputs": [],
   "source": [
    "# в списках можно хранить даже функции\n",
    "[len, print]"
   ]
  },
  {
   "cell_type": "code",
   "execution_count": null,
   "metadata": {},
   "outputs": [],
   "source": [
    "# Списки можно складывать\n",
    "[12, 34] + ['человек', 'собака']"
   ]
  },
  {
   "cell_type": "code",
   "execution_count": null,
   "metadata": {},
   "outputs": [],
   "source": [
    "# И умножать на целые числа\n",
    "[12, 'Картинка'] * 4"
   ]
  },
  {
   "cell_type": "markdown",
   "metadata": {},
   "source": [
    "Самый популярный метод у списков append. Он добавляет элемент к списку"
   ]
  },
  {
   "cell_type": "code",
   "execution_count": null,
   "metadata": {},
   "outputs": [],
   "source": [
    "lst = ['У Оли желтая дыня', 'У Лизы спелая груша', 'у Ани черная смородина']\n",
    "lst.append('У Тани баклажан')\n",
    "print(lst)"
   ]
  },
  {
   "cell_type": "markdown",
   "metadata": {},
   "source": [
    "Добавьте к списку из животных свинью. Затем вывидите список на экран"
   ]
  },
  {
   "cell_type": "code",
   "execution_count": null,
   "metadata": {},
   "outputs": [],
   "source": [
    "lst_animals = ['Корова', 'Коза', 'Осел']\n",
    "\n"
   ]
  },
  {
   "cell_type": "markdown",
   "metadata": {},
   "source": [
    "У строк есть метод split, который возвращает список. До этого в методах мы просто ставили скобки. Но во многих методах можно прописывать параметры. Как раз в методе сплит мы прописываем по каким элементам резать нашу строку"
   ]
  },
  {
   "cell_type": "code",
   "execution_count": null,
   "metadata": {},
   "outputs": [],
   "source": [
    "splited_stering = 'Нет ничего в мире труднее прямодушия, и нет ничего легче лести.'.split(' ')\n",
    "splited_stering"
   ]
  },
  {
   "cell_type": "code",
   "execution_count": null,
   "metadata": {},
   "outputs": [],
   "source": [
    "'Нет ничего в мире труднее прямодушия, и нет ничего легче лести.'.split('т')"
   ]
  },
  {
   "cell_type": "markdown",
   "metadata": {},
   "source": [
    "Есть обатный метод join. Он имеет следующую структуру: соедидитель.join(Список слов, которые мы хотим соединить)"
   ]
  },
  {
   "cell_type": "code",
   "execution_count": null,
   "metadata": {},
   "outputs": [],
   "source": [
    "' '.join(splited_stering)"
   ]
  },
  {
   "cell_type": "code",
   "execution_count": null,
   "metadata": {},
   "outputs": [],
   "source": [
    "'_'.join(splited_stering)"
   ]
  },
  {
   "cell_type": "markdown",
   "metadata": {},
   "source": [
    "\\n означает перенос на новую сроку"
   ]
  },
  {
   "cell_type": "code",
   "execution_count": null,
   "metadata": {},
   "outputs": [],
   "source": [
    "print('\\n'.join(splited_stering))"
   ]
  },
  {
   "cell_type": "markdown",
   "metadata": {},
   "source": [
    "Разделите строку ниже по пробелам, а затем соедините ее через знак нижнего подчеркивания"
   ]
  },
  {
   "cell_type": "code",
   "execution_count": null,
   "metadata": {},
   "outputs": [],
   "source": [
    "'Все счастливые семьи похожи друг на друга, каждая несчастливая семья несчастлива по-своему.'"
   ]
  },
  {
   "cell_type": "markdown",
   "metadata": {},
   "source": [
    "Чтобы сделать из какого-то объекта список, можно использовать функцию list"
   ]
  },
  {
   "cell_type": "code",
   "execution_count": null,
   "metadata": {},
   "outputs": [],
   "source": [
    "# Делаем список из строки\n",
    "list('Арбуз')"
   ]
  },
  {
   "cell_type": "code",
   "execution_count": null,
   "metadata": {},
   "outputs": [],
   "source": [
    "# Делаем список из кортежа\n",
    "list((1, 4, 5))"
   ]
  },
  {
   "cell_type": "markdown",
   "metadata": {},
   "source": [
    "Списки мы будем использовать очень часто. Например, у нас есть таблица, у которой куча лишних колонок. Для того, чтобы отобрать нужные колонки, мы просто будем их указывать названия нужных колонок в списке."
   ]
  },
  {
   "cell_type": "markdown",
   "metadata": {},
   "source": [
    "### Срезы\n",
    "\n",
    "У строк, котрежей и списков можно брать срезы. То есть обращаться к их элементам по индексам. Для всех них срезы работают одинаково"
   ]
  },
  {
   "cell_type": "markdown",
   "metadata": {},
   "source": [
    "#### Нумерция идет начиная с нуля"
   ]
  },
  {
   "cell_type": "code",
   "execution_count": null,
   "metadata": {},
   "outputs": [],
   "source": [
    "# Не забывейте про f строки\n",
    "print(f\"Исходный список: {lst}\")\n",
    "print(f\"Первый элемент списка: {lst[0]}\")"
   ]
  },
  {
   "cell_type": "code",
   "execution_count": null,
   "metadata": {},
   "outputs": [],
   "source": [
    "# Давайте создадим новый список и достанем из него элемент с индексом 5\n",
    "# Это будет 6 из за того, что нумерация начинается с нуля\n",
    "[1, 2, 3, 4, 5, 6, 7, 8, 9][5]"
   ]
  },
  {
   "cell_type": "markdown",
   "metadata": {},
   "source": [
    "Аналогичное поведение будет у строк и кортежей"
   ]
  },
  {
   "cell_type": "code",
   "execution_count": null,
   "metadata": {},
   "outputs": [],
   "source": [
    "(\"Саша\", \"Паша\", \"Дима\", \"Данил\")[0]"
   ]
  },
  {
   "cell_type": "code",
   "execution_count": null,
   "metadata": {},
   "outputs": [],
   "source": [
    "tupl = (\"Миша\", \"Андрей\", \"Антон\")\n",
    "tupl[1]"
   ]
  },
  {
   "cell_type": "code",
   "execution_count": null,
   "metadata": {},
   "outputs": [],
   "source": [
    "alphabet = 'абвгдеёжзийклмнопрстуфхцчшщьыъэюя'\n",
    "print(alphabet[0])\n",
    "print(alphabet[30])\n",
    "print(alphabet[7])"
   ]
  },
  {
   "cell_type": "code",
   "execution_count": null,
   "metadata": {},
   "outputs": [],
   "source": [
    "# если вы обратитесь к несуществующему элементу то возникнет ошибка (их еще называеют исключениями)\n",
    "alphabet[40]"
   ]
  },
  {
   "cell_type": "markdown",
   "metadata": {},
   "source": [
    "В питоне поддерживается обратное индексирование"
   ]
  },
  {
   "cell_type": "code",
   "execution_count": null,
   "metadata": {},
   "outputs": [],
   "source": [
    "tupl = (\"Миша\", \"Андрей\", \"Антон\")\n",
    "# -1 элемент это последний элемент\n",
    "tupl[-1]"
   ]
  },
  {
   "cell_type": "code",
   "execution_count": null,
   "metadata": {},
   "outputs": [],
   "source": [
    "# -2 элемент - предпоследний\n",
    "tupl[-2]"
   ]
  },
  {
   "cell_type": "code",
   "execution_count": null,
   "metadata": {},
   "outputs": [],
   "source": [
    "# и так далее\n",
    "tupl[-3]"
   ]
  },
  {
   "cell_type": "code",
   "execution_count": null,
   "metadata": {},
   "outputs": [],
   "source": [
    "alphabet = 'абвгдеёжзийклмнопрстуфхцчшщьыъэюя'\n",
    "# й - 23 буква алфавита если считать с конца\n",
    "alphabet[-23]"
   ]
  },
  {
   "cell_type": "markdown",
   "metadata": {},
   "source": [
    "Найдите восьмой символ в строке ниже"
   ]
  },
  {
   "cell_type": "code",
   "execution_count": null,
   "metadata": {},
   "outputs": [],
   "source": [
    "';hsrttfxldkh:SD'"
   ]
  },
  {
   "cell_type": "code",
   "execution_count": null,
   "metadata": {},
   "outputs": [],
   "source": []
  },
  {
   "cell_type": "markdown",
   "metadata": {},
   "source": [
    "Можно брать несколько элементов подряд. Для этого используются слайсы\n",
    "#### При этом последний элемент не включается в срез"
   ]
  },
  {
   "cell_type": "code",
   "execution_count": null,
   "metadata": {},
   "outputs": [],
   "source": [
    "alphabet = 'абвгдеёжзийклмнопрстуфхцчшщьыъэюя'\n",
    "# берем все элементы с 3 включиительно до 8 невключительно\n",
    "# Индексирование как и раньше начинается с нуля!\n",
    "alphabet[3:8]"
   ]
  },
  {
   "cell_type": "code",
   "execution_count": null,
   "metadata": {},
   "outputs": [],
   "source": [
    "# Если мы хотим взять все элементы до конца, то второй аргумент не указываем\n",
    "alphabet[3:]"
   ]
  },
  {
   "cell_type": "code",
   "execution_count": null,
   "metadata": {},
   "outputs": [],
   "source": [
    "# Если хотим взять все элемены с начала, то не указываем первый аргумент\n",
    "# отрицательное индексирование все еще поддерживается\n",
    "alphabet[:-7]"
   ]
  },
  {
   "cell_type": "code",
   "execution_count": null,
   "metadata": {},
   "outputs": [],
   "source": [
    "# То же саме со списками и кортежами\n",
    "(12, 45, 45, 756, 76, -23)[:3]"
   ]
  },
  {
   "cell_type": "code",
   "execution_count": null,
   "metadata": {},
   "outputs": [],
   "source": [
    "# Когда мы ставим слайсы : мы можем указывать индексы, которых не существует \n",
    "# Здесь индексы только от 0 до 4, но мы указали 546 и он нам дал все элементы меньше 546\n",
    "[83, 32, 98, 34, -212][3:546]"
   ]
  },
  {
   "cell_type": "markdown",
   "metadata": {},
   "source": [
    "Можно выбирать каждый второй, каждый третий элемент и тд"
   ]
  },
  {
   "cell_type": "code",
   "execution_count": null,
   "metadata": {},
   "outputs": [],
   "source": [
    "# здесь мы выбираем все элементы списка до 7 элемента с конца\n",
    "alphabet[:-7]"
   ]
  },
  {
   "cell_type": "code",
   "execution_count": null,
   "metadata": {},
   "outputs": [],
   "source": [
    "# Сначала выбираются все элементы от 0 до -7, затем из этих элементов мы берем каждый второй элемент\n",
    "# Первый элемент всегда включается\n",
    "alphabet[:-7:2]"
   ]
  },
  {
   "cell_type": "code",
   "execution_count": null,
   "metadata": {},
   "outputs": [],
   "source": [
    "# Каждый третий элемент\n",
    "alphabet[::3]"
   ]
  },
  {
   "cell_type": "code",
   "execution_count": null,
   "metadata": {},
   "outputs": [],
   "source": [
    "# а вот так обычно разворачитвают строки, списки и кортежи\n",
    "# Мы сначала выбираем все элементы а потом берем их в обратном порядке\n",
    "alphabet[::-1]"
   ]
  },
  {
   "cell_type": "markdown",
   "metadata": {},
   "source": [
    "Для списков и кортежей все работает абсолютно так же"
   ]
  },
  {
   "cell_type": "code",
   "execution_count": null,
   "metadata": {},
   "outputs": [],
   "source": [
    "[1, 2, 3, 4, 5, 6, 7, 8, 9][1:7:2]"
   ]
  },
  {
   "cell_type": "markdown",
   "metadata": {},
   "source": [
    "Из списка ниже возьсите все элементы со второго до предпоследнего (включительно) с шагом 4"
   ]
  },
  {
   "cell_type": "code",
   "execution_count": null,
   "metadata": {},
   "outputs": [],
   "source": [
    "[2, 6, 3, 6, 2, 7, 7, 0, 2, 75, 3, 43, 45, 75, 2, 5, 65, 546, 24, 3, 244, 34, 35, 53, 34, 53, 34, 54]"
   ]
  },
  {
   "cell_type": "markdown",
   "metadata": {},
   "source": [
    "Не надо путать списки и срезы.\n",
    "\n",
    "Срезы идут сразу после объекта. Между объектом и срезом не может быть пробела.\n",
    "\n",
    "Если квадратные скобки могут быть отделены от другого кода пробелом, то это список"
   ]
  },
  {
   "cell_type": "code",
   "execution_count": null,
   "metadata": {},
   "outputs": [],
   "source": [
    "len([1, 3, 4])"
   ]
  },
  {
   "cell_type": "code",
   "execution_count": null,
   "metadata": {},
   "outputs": [],
   "source": [
    "# Это то же самое, что строчкой выше\n",
    "len( [1, 3, 4] )"
   ]
  },
  {
   "cell_type": "code",
   "execution_count": null,
   "metadata": {},
   "outputs": [],
   "source": [
    "# Здесь пробел между круглыми и квадратными скобками поставить нельзя\n",
    "(1, 54, 3, 23)[0]"
   ]
  },
  {
   "cell_type": "markdown",
   "metadata": {},
   "source": [
    "### Ключевое слово in "
   ]
  },
  {
   "cell_type": "markdown",
   "metadata": {},
   "source": [
    "При помощи оператора in можно проверить входит ли элемент в строку или в список"
   ]
  },
  {
   "cell_type": "code",
   "execution_count": null,
   "metadata": {},
   "outputs": [],
   "source": [
    "'а' in 'абракадобра'"
   ]
  },
  {
   "cell_type": "code",
   "execution_count": null,
   "metadata": {},
   "outputs": [],
   "source": [
    "# последняя буква не совпадает\n",
    "'нога' in 'ноги'"
   ]
  },
  {
   "cell_type": "code",
   "execution_count": null,
   "metadata": {},
   "outputs": [],
   "source": [
    "1 in [1, 2, 3, 4]"
   ]
  },
  {
   "cell_type": "code",
   "execution_count": null,
   "metadata": {},
   "outputs": [],
   "source": [
    "67 in [1, 2, 3, 4]"
   ]
  },
  {
   "cell_type": "markdown",
   "metadata": {},
   "source": [
    "Проверьте если число 89 в следующем списке"
   ]
  },
  {
   "cell_type": "code",
   "execution_count": null,
   "metadata": {},
   "outputs": [],
   "source": [
    "lst = [0, 3, 5, 23, 45, 234, 89, 23, 88]\n"
   ]
  },
  {
   "cell_type": "markdown",
   "metadata": {},
   "source": [
    "### Цикл for"
   ]
  },
  {
   "cell_type": "markdown",
   "metadata": {},
   "source": [
    "Еще одно свойство списков, кортежей и строк это то, что они являются итерируемыми объектами. То есть по ним можно пройтись и с каждым элементом что-то сделать"
   ]
  },
  {
   "cell_type": "markdown",
   "metadata": {},
   "source": [
    "Давайте посмотрим на пример того, как это работает"
   ]
  },
  {
   "cell_type": "code",
   "execution_count": null,
   "metadata": {},
   "outputs": [],
   "source": [
    "# Эту штуку можно перевести как:\n",
    "# Для буквы в (строке 'abcdefgh')\n",
    "#   печатай букву\n",
    "for letter in 'abcdefgh':\n",
    "    print(letter)"
   ]
  },
  {
   "cell_type": "markdown",
   "metadata": {},
   "source": [
    "Сначала идет ключевое слово for (для), затем идет название переменной (название в данном случае не играет роли), потом ключевое слово in (в) а далее идет объект по которому мы будем итерироваться. В конце строчки стоит двоеточие.\n",
    "После этого мы проваливаемся в тело цикла. Обратите внимание что перед функцией print стоит 4 пробела. Они обязательны. Так питон понимает, что находится внутри цикла, а что снаружи. \n",
    "\n"
   ]
  },
  {
   "cell_type": "markdown",
   "metadata": {},
   "source": [
    "Пусть у нас есть список с целыми числами, и для каждого числа мы хотим узнать, остаток от деления на 3\n",
    "Для этого мы могли бы взять каждый элемнт из списка и найти для него остаток от деления"
   ]
  },
  {
   "cell_type": "code",
   "execution_count": null,
   "metadata": {},
   "outputs": [],
   "source": [
    "base_lst = [35, 52, 69, 86, 103, 120, 137, 154, 171, 188, 205, 222, 239, 256, 273, 290, 307, 324, 341]\n",
    "# Сначала берем нулевой элемент\n",
    "base_lst[0] % 3"
   ]
  },
  {
   "cell_type": "code",
   "execution_count": null,
   "metadata": {},
   "outputs": [],
   "source": [
    "# потом первый\n",
    "base_lst[1] % 3"
   ]
  },
  {
   "cell_type": "code",
   "execution_count": null,
   "metadata": {},
   "outputs": [],
   "source": [
    "base_lst[2] % 3\n",
    "# и так далее"
   ]
  },
  {
   "cell_type": "markdown",
   "metadata": {},
   "source": [
    "То же самое можно сделать при помощи цикла for\n"
   ]
  },
  {
   "cell_type": "code",
   "execution_count": null,
   "metadata": {},
   "outputs": [],
   "source": [
    "# создаем список из чисел \n",
    "base_lst = [35, 52, 69, 86, 103, 120, 137, 154, 171, 188, 205, 222, 239, 256, 273, 290, 307, 324, 341]\n",
    "# Создаем пустой список, куда будем складывать остатки от деления на 3\n",
    "lst_mod = []\n",
    "\n",
    "# Это можно перевести как: для i в base_lst\n",
    "for i in base_lst:\n",
    "    # проделывай следующую операцию\n",
    "    # добавляй остаток от деления на 3 в список lst_mod\n",
    "    lst_mod.append(i % 3)\n",
    "\n",
    "# выводим наш список\n",
    "lst_mod"
   ]
  },
  {
   "cell_type": "markdown",
   "metadata": {},
   "source": [
    "Сначала мы просто создаем базовый список на примере которого мы будем смотреть как работает цикл\n",
    "\n",
    "Затем создаем пустой список, в который будем складывать остатки от деления\n",
    "\n",
    "Потом начинается сам цикл.\n",
    "\n",
    "Мы создаем переменную i, в которую по очереди будем класть каждый элемент списка последовательно."
   ]
  },
  {
   "cell_type": "markdown",
   "metadata": {},
   "source": [
    "Создайте спиок из чисел. Затем на основе этого списка сформируйте еще один список, который будет содержать кубы исходных чисел"
   ]
  },
  {
   "cell_type": "code",
   "execution_count": null,
   "metadata": {},
   "outputs": [],
   "source": []
  },
  {
   "cell_type": "markdown",
   "metadata": {},
   "source": [
    "Поскольку со списками часто надо использовать цикл for то для этого придумали удобную однострочную конструкцию - генератор списков.\n",
    "\n",
    "Посмотрите на примере как это работает"
   ]
  },
  {
   "cell_type": "code",
   "execution_count": null,
   "metadata": {},
   "outputs": [],
   "source": [
    "# здесь каждое число из списка возводится в квадрат\n",
    "[i ** 2 for i in [1, 4, 5, 80, 45, 90]]"
   ]
  },
  {
   "cell_type": "code",
   "execution_count": null,
   "metadata": {},
   "outputs": [],
   "source": [
    "# i.upper() приводит каждую букву к верхнему регистру\n",
    "[i.upper() for i in 'собака']"
   ]
  },
  {
   "cell_type": "markdown",
   "metadata": {},
   "source": [
    "Сделайте то же самое, что в предыдущем задании, но уже с генераторами списков.\n",
    "\n",
    "(Создайте спиок из чисел. Затем на основе этого списка сформируйте еще один список, который будет содержать кубы исходных чисел)"
   ]
  },
  {
   "cell_type": "code",
   "execution_count": null,
   "metadata": {},
   "outputs": [],
   "source": []
  },
  {
   "cell_type": "markdown",
   "metadata": {},
   "source": [
    "Вместе с циклами часто и используются функции range и enumerate.\n",
    "\n",
    "range просто генерирует последовательность из чисел.\n",
    "\n",
    "Когда в функцию передается одно число, то генерируется последовательность от нуля до этого числа невключительно"
   ]
  },
  {
   "cell_type": "code",
   "execution_count": null,
   "metadata": {},
   "outputs": [],
   "source": [
    "# генерируем числа от 0 до 10 (верхняя граница не включается)\n",
    "[i for i in range(10)]"
   ]
  },
  {
   "cell_type": "markdown",
   "metadata": {},
   "source": [
    "Если в функцию передать 2 числа, то будет сгенерирована последовательность от первого числа до последнего (невключительно)"
   ]
  },
  {
   "cell_type": "code",
   "execution_count": null,
   "metadata": {},
   "outputs": [],
   "source": [
    "[i for i in range(5, 15)]"
   ]
  },
  {
   "cell_type": "markdown",
   "metadata": {},
   "source": [
    "Если в функцию передать 3 числа, то сгенерируются числа от первого до второго с определенным шагом"
   ]
  },
  {
   "cell_type": "code",
   "execution_count": null,
   "metadata": {},
   "outputs": [],
   "source": [
    "# генерируем числа от 5 до 15 (верхняя граница не включается) с шагом 2\n",
    "[i for i in range(5, 15, 2)]"
   ]
  },
  {
   "cell_type": "markdown",
   "metadata": {},
   "source": [
    "С помощью данной функции можно перебирать элементы в списке"
   ]
  },
  {
   "cell_type": "code",
   "execution_count": null,
   "metadata": {},
   "outputs": [],
   "source": [
    "lst_names = [\"Даша\", \"Маша\", \"Катя\", \"Оля\"]\n",
    "\n",
    "# Здесь мы создаем последовательность из целых чисел от нуля до числа элементов в списке\n",
    "for i in range(len(lst_names)): \n",
    "    print(f'{lst_names[i]} имеет номер {i} в списке имен')"
   ]
  },
  {
   "cell_type": "markdown",
   "metadata": {},
   "source": [
    "enumerate возвращает сначала номер объекта в списке, а затем сам объект по очереди на каждом шаге цикла. Во многих случаях это бывает удобно"
   ]
  },
  {
   "cell_type": "code",
   "execution_count": null,
   "metadata": {},
   "outputs": [],
   "source": [
    "lst_names = [\"Даша\", \"Маша\", \"Катя\", \"Оля\"]\n",
    "\n",
    "# Эта функция используется с такой конструкцией\n",
    "# в переменную index помещается индекс объекта, а в переменную name сам объект\n",
    "for index, name in enumerate(lst_names):\n",
    "    print(f'{name} имеет номер {index + 1} в списке имен')"
   ]
  },
  {
   "cell_type": "markdown",
   "metadata": {},
   "source": [
    "### Условный оператор"
   ]
  },
  {
   "cell_type": "markdown",
   "metadata": {},
   "source": [
    "Когда мы смотели на условия, мы делали это не просто так. Теперь на основе этого мы будем записывать условия. Для этого есть оператор if (если).\n",
    "\n",
    "Для того, чтобы это делать необходимо написать if, после этого написать условие и поставить двоеточие. На следующей строке с отступом в 4 пробела необходимо написат выражение, которое будет исполнено, в случае выполнения условия"
   ]
  },
  {
   "cell_type": "code",
   "execution_count": null,
   "metadata": {},
   "outputs": [],
   "source": [
    "var = 90\n",
    "\n",
    "if var > 0: \n",
    "    print('Переменная var больше нуля')"
   ]
  },
  {
   "cell_type": "markdown",
   "metadata": {},
   "source": [
    "Если условие не выполняется, то ничего не будет исполнено"
   ]
  },
  {
   "cell_type": "code",
   "execution_count": null,
   "metadata": {},
   "outputs": [],
   "source": [
    "var = -90\n",
    "\n",
    "if var > 0: \n",
    "    print('Переменная var больше нуля')"
   ]
  },
  {
   "cell_type": "markdown",
   "metadata": {},
   "source": [
    "Вместе с if часто используется else (иначе). else будет исполнено если не выполнены условия выше"
   ]
  },
  {
   "cell_type": "code",
   "execution_count": null,
   "metadata": {},
   "outputs": [],
   "source": [
    "var = -90\n",
    "\n",
    "if var > 0: \n",
    "    print('Переменная var больше нуля')\n",
    "\n",
    "else:\n",
    "    print(\"Переменная var меньше нуля или равна нулю\")\n"
   ]
  },
  {
   "cell_type": "markdown",
   "metadata": {},
   "source": [
    "Напишите условие, которые будет печатать строку Ура, если переменная x больше 100"
   ]
  },
  {
   "cell_type": "markdown",
   "metadata": {},
   "source": [
    "Часто приходится проверять несколько условий подряд. Для этого если ключевое слово elif (иначе если). elif записывается после основаного if и срабатывает если предыдущие условия не были выполнены. Однако в отличие от else, внутри elif мы можем записывать условия."
   ]
  },
  {
   "cell_type": "code",
   "execution_count": null,
   "metadata": {},
   "outputs": [],
   "source": [
    "var = 0\n",
    "\n",
    "if var > 0: \n",
    "    print('Переменная var больше нуля')\n",
    "\n",
    "elif var == 0:\n",
    "    print('Переменная var равна нулю')\n",
    "\n",
    "else:\n",
    "    print(\"Переменная var меньше нуля\")"
   ]
  },
  {
   "cell_type": "code",
   "execution_count": null,
   "metadata": {},
   "outputs": [],
   "source": [
    "var = -9\n",
    "\n",
    "if var > 0: \n",
    "    print('Переменная var больше нуля')\n",
    "\n",
    "elif var == 0:\n",
    "    print('Переменная var равна нулю')\n",
    "\n",
    "else:\n",
    "    print(\"Переменная var меньше нуля\")"
   ]
  },
  {
   "cell_type": "markdown",
   "metadata": {},
   "source": [
    "В такой конструкции условия проверяются последовательно. Если выполнилось одно условие то, следующее проверяться не будет"
   ]
  },
  {
   "cell_type": "code",
   "execution_count": null,
   "metadata": {},
   "outputs": [],
   "source": [
    "var = -10\n",
    "\n",
    "if var > 0: \n",
    "    print('Переменная var больше нуля')\n",
    "\n",
    "elif var == -10:\n",
    "    print('Переменная var равна минус 10')\n",
    "\n",
    "# Это условие проверяться уже не будет (в данном случае, когда переменная var равна -10)\n",
    "elif var == 0:\n",
    "    print('Переменная var равна нулю')\n",
    "\n",
    "else:\n",
    "    print(\"Переменная var меньше нуля\")"
   ]
  },
  {
   "cell_type": "markdown",
   "metadata": {},
   "source": [
    "Пусть у вас есть переменная t, которая означает температуру.\n",
    "\n",
    "Если температура меньше -15, то надо печатать строку очень холодно. Если температрура больше или равна -15, но меньше 10 градусов, то надо печатать строку холодно. Если температрура находится в диапозоне от 10 до 20 градусов, то надо печатать прохладно. Если температура от 20 до 30 градусов, то нормально. А если температура выше 30 градусов, то надо выводить на экран строку жара"
   ]
  },
  {
   "cell_type": "code",
   "execution_count": null,
   "metadata": {},
   "outputs": [],
   "source": []
  },
  {
   "cell_type": "markdown",
   "metadata": {},
   "source": [
    "На основе условий мы можем добавлять элементы в список"
   ]
  },
  {
   "cell_type": "code",
   "execution_count": null,
   "metadata": {},
   "outputs": [],
   "source": [
    "num_lst = [0, 3, 5, 2, -1, -8, 43, -1, 0]\n",
    "positive_numbers = []\n",
    "\n",
    "for i in num_lst:\n",
    "    # проверяем условие для каждого элемента списка\n",
    "    if i > 0:\n",
    "        # если условие выполняется, добаляем элемент в новый список\n",
    "        positive_numbers.append(i)\n",
    "\n",
    "positive_numbers"
   ]
  },
  {
   "cell_type": "markdown",
   "metadata": {},
   "source": [
    "Простые условия можно использовать внутри генераторов списков"
   ]
  },
  {
   "cell_type": "code",
   "execution_count": null,
   "metadata": {},
   "outputs": [],
   "source": [
    "num_lst = [0, 3, 5, 2, -1, -8, 43, -1, 0]\n",
    "\n",
    "# Элемент добавляется в список если условие в скобках выполнятется\n",
    "[i for i in num_lst if i > 0]"
   ]
  },
  {
   "cell_type": "markdown",
   "metadata": {},
   "source": [
    "Из списка удалите четные числа"
   ]
  },
  {
   "cell_type": "code",
   "execution_count": null,
   "metadata": {},
   "outputs": [],
   "source": [
    "lst = list(range(40))"
   ]
  },
  {
   "cell_type": "code",
   "execution_count": null,
   "metadata": {},
   "outputs": [],
   "source": []
  },
  {
   "cell_type": "code",
   "execution_count": null,
   "metadata": {},
   "outputs": [],
   "source": []
  },
  {
   "cell_type": "markdown",
   "metadata": {},
   "source": [
    "### Словари"
   ]
  },
  {
   "cell_type": "markdown",
   "metadata": {},
   "source": [
    "Теперь давайте вернемся к типам данных. Мы уже знаем, что такое числа, что такое строки, кортежи и списки.\n",
    "\n",
    "Сейчас мы познакомимся со словарями. Словари позволяют сопоставлять один элемент другому.\n",
    "\n",
    "Предстовьте, что у нас есть магазин. В магазине есть товары. У каждого товара есть цена. Товары и цены можно хранить в видео 2 списков."
   ]
  },
  {
   "cell_type": "code",
   "execution_count": null,
   "metadata": {},
   "outputs": [],
   "source": [
    "products = [\"Сметана\", \"Хлеб\", \"Молоко\", \"Яйца\"]\n",
    "prices = [65, 30, 60, 90]"
   ]
  },
  {
   "cell_type": "markdown",
   "metadata": {},
   "source": [
    "Однако в этом случае тяжело получать цену каждого товара. Чтобы это сделать надо пройтись по всем элементам списка с продуктами, найти индекс нужного товара и после этого найти цену товара по индексу из списка с ценам.\n",
    "\n",
    "Упростить эту задачу могут упростить словари"
   ]
  },
  {
   "cell_type": "code",
   "execution_count": null,
   "metadata": {},
   "outputs": [],
   "source": [
    "# Мы записываем название товара, затем ставим двоеточие и пишем цену\n",
    "product_dict = {\"Сметана\": 65, \"Хлеб\": 30, \"Молоко\": 60, \"Яйца\": 90}"
   ]
  },
  {
   "cell_type": "markdown",
   "metadata": {},
   "source": [
    "Теперь мы можем получить цену сметаны используя квадратные скобки"
   ]
  },
  {
   "cell_type": "code",
   "execution_count": null,
   "metadata": {},
   "outputs": [],
   "source": [
    "product_dict[\"Сметана\"]"
   ]
  },
  {
   "cell_type": "code",
   "execution_count": null,
   "metadata": {},
   "outputs": [],
   "source": [
    "product_dict[\"Молоко\"]"
   ]
  },
  {
   "cell_type": "markdown",
   "metadata": {},
   "source": [
    "То что мы записываем в квадратных скобках называется ключем, а то что нам возвращается называется значением\n",
    "\n",
    "\"Сметана\" - это ключ, а 65 - это значение"
   ]
  },
  {
   "cell_type": "markdown",
   "metadata": {},
   "source": [
    "Список всех ключей можно получить используя метод keys()"
   ]
  },
  {
   "cell_type": "code",
   "execution_count": null,
   "metadata": {},
   "outputs": [],
   "source": [
    "product_dict.keys()"
   ]
  },
  {
   "cell_type": "markdown",
   "metadata": {},
   "source": [
    "А список всех значений можно получить методом values()"
   ]
  },
  {
   "cell_type": "code",
   "execution_count": null,
   "metadata": {},
   "outputs": [],
   "source": [
    "product_dict.values()"
   ]
  },
  {
   "cell_type": "markdown",
   "metadata": {},
   "source": [
    "Если вдруг мы предедадим в квадратные скобки ключ, которого нет в словаре, то возникнет ошибка"
   ]
  },
  {
   "cell_type": "code",
   "execution_count": null,
   "metadata": {},
   "outputs": [],
   "source": [
    "product_dict['Лапша']"
   ]
  },
  {
   "cell_type": "markdown",
   "metadata": {},
   "source": [
    "Чтобы ее не было, можно воспользоваться методом get. Внутрь него сначала необходимо передать ключ, а потом значение, которое вернется, если ключ не найдется"
   ]
  },
  {
   "cell_type": "code",
   "execution_count": null,
   "metadata": {},
   "outputs": [],
   "source": [
    "# 80 - это значение по умолчанию\n",
    "product_dict.get('Лапша', 80)"
   ]
  },
  {
   "cell_type": "code",
   "execution_count": null,
   "metadata": {},
   "outputs": [],
   "source": [
    "# Если ключ есть в словаре, то вернется соответствующее этому ключу значение\n",
    "product_dict.get('Сметана', 80)"
   ]
  },
  {
   "cell_type": "markdown",
   "metadata": {},
   "source": [
    "Создайте словарь, в котором ключем будет номер телефона, а значением имя человека. Затем попробуйте найти какого-то человека по его номеру."
   ]
  },
  {
   "cell_type": "code",
   "execution_count": null,
   "metadata": {},
   "outputs": [],
   "source": []
  },
  {
   "cell_type": "markdown",
   "metadata": {},
   "source": [
    "Словари мы будем часто использовать при работе с таблицами."
   ]
  },
  {
   "cell_type": "markdown",
   "metadata": {},
   "source": [
    "### Множества"
   ]
  },
  {
   "cell_type": "markdown",
   "metadata": {},
   "source": [
    "Помимо словарей в питоне есть множества. Множества оставляют только уникальные элементы. Чтобы ими воспользоваться необходимо использовать функцию set"
   ]
  },
  {
   "cell_type": "code",
   "execution_count": null,
   "metadata": {},
   "outputs": [],
   "source": [
    "set([1, 32, 3, 5, 1, 1, 2, 1, 1, 2])"
   ]
  },
  {
   "cell_type": "code",
   "execution_count": null,
   "metadata": {},
   "outputs": [],
   "source": [
    "set('собака')"
   ]
  },
  {
   "cell_type": "markdown",
   "metadata": {},
   "source": [
    "Посчитайте какое число уникальных букв в слове тригонометрия"
   ]
  },
  {
   "cell_type": "code",
   "execution_count": null,
   "metadata": {},
   "outputs": [],
   "source": []
  },
  {
   "cell_type": "markdown",
   "metadata": {},
   "source": [
    "В самом конце давайте посмотрим на то, как писать свои собственные функции. \n",
    "\n",
    "Представим, что у нас есть задача посчитать площадь прямоугольника, зная 2 его стороны"
   ]
  },
  {
   "cell_type": "code",
   "execution_count": null,
   "metadata": {},
   "outputs": [],
   "source": [
    "side_1 = 10\n",
    "side_2 = 30\n",
    "side_1 * side_2"
   ]
  },
  {
   "cell_type": "markdown",
   "metadata": {},
   "source": [
    "Меняя значения сторон мы будем получать разный результат"
   ]
  },
  {
   "cell_type": "code",
   "execution_count": null,
   "metadata": {},
   "outputs": [],
   "source": [
    "side_1 = 200\n",
    "side_2 = 30\n",
    "side_1 * side_2"
   ]
  },
  {
   "cell_type": "markdown",
   "metadata": {},
   "source": [
    "Этот код мы можем засунуть внутрь функции и затем уже использовать функцию\n",
    "\n",
    "Для этого мы сначала пишем def потом пишем название функции. Затем необходимо написать названия параметров. В конце строки надо поставить двоеточие и перейти на другую строку. Здесь мы делаем расчеты и возвращаем значение, которое функция должна вернуть при помощи слова return. Если мы ничего не вернем, то площадь внутри функции посчитается, а затем исчезнет"
   ]
  },
  {
   "cell_type": "code",
   "execution_count": null,
   "metadata": {},
   "outputs": [],
   "source": [
    "def rect_sq(side_1, side_2):\n",
    "    return side_1 * side_2"
   ]
  },
  {
   "cell_type": "code",
   "execution_count": null,
   "metadata": {},
   "outputs": [],
   "source": [
    "rect_sq(10, 5)"
   ]
  },
  {
   "cell_type": "code",
   "execution_count": null,
   "metadata": {},
   "outputs": [],
   "source": [
    "rect_sq(90, 8)"
   ]
  },
  {
   "cell_type": "markdown",
   "metadata": {},
   "source": [
    "Понятно, что сейчас функция очень простая. Давайте реализуем что-то более сложное\n",
    "\n",
    "Посчитаем площадь треугольника зная его стороны. Для этого воспользуемся формулой [Герона](https://ru.wikipedia.org/wiki/%D0%A4%D0%BE%D1%80%D0%BC%D1%83%D0%BB%D0%B0_%D0%93%D0%B5%D1%80%D0%BE%D0%BD%D0%B0)"
   ]
  },
  {
   "cell_type": "code",
   "execution_count": null,
   "metadata": {},
   "outputs": [],
   "source": [
    "def tri_sq(side_1, side_2, side_3):\n",
    "    # Сначала считаем полупериметр \n",
    "    p = (side_1 + side_2 + side_3) / 2\n",
    "    # считаем квадрат площади\n",
    "    s_sq  = p * (p - side_1) * (p - side_2) * (p - side_3)\n",
    "    # извлекаем квадратный корень \n",
    "    s = s_sq ** 0.5\n",
    "    return s"
   ]
  },
  {
   "cell_type": "markdown",
   "metadata": {},
   "source": [
    "Теперь мы можем посчитать площадь лубого трегугольника. Это гораздо проще чем каждый раз писать громоздкий код"
   ]
  },
  {
   "cell_type": "code",
   "execution_count": null,
   "metadata": {},
   "outputs": [],
   "source": [
    "tri_sq(3, 4, 5)"
   ]
  },
  {
   "cell_type": "code",
   "execution_count": null,
   "metadata": {},
   "outputs": [],
   "source": [
    "tri_sq(1, 1, 1)"
   ]
  },
  {
   "cell_type": "markdown",
   "metadata": {},
   "source": [
    "Напишите функцию, которая будет вычислять длинну гипотезнузы по длинам двух катетов"
   ]
  },
  {
   "cell_type": "code",
   "execution_count": null,
   "metadata": {},
   "outputs": [],
   "source": []
  },
  {
   "cell_type": "markdown",
   "metadata": {},
   "source": [
    "Напишите функцию, которая будет находить наименьший делитель числа больше 1. Например, у числа 45 наименьший делитель, который больше 1 - это 5"
   ]
  },
  {
   "cell_type": "code",
   "execution_count": null,
   "metadata": {},
   "outputs": [],
   "source": []
  },
  {
   "cell_type": "markdown",
   "metadata": {},
   "source": [
    "Любой код, который мы писали до этого можно засунуть внутрь функции"
   ]
  },
  {
   "cell_type": "code",
   "execution_count": null,
   "metadata": {},
   "outputs": [],
   "source": [
    "def check_sign(var):\n",
    "    if var > 0: \n",
    "        print('Число больше нуля')\n",
    "\n",
    "    elif var == 0:\n",
    "        print('Число равно нулю')\n",
    "\n",
    "    else:\n",
    "        print(\"Число меньше нуля\")"
   ]
  },
  {
   "cell_type": "code",
   "execution_count": null,
   "metadata": {},
   "outputs": [],
   "source": [
    "check_sign(9)"
   ]
  },
  {
   "cell_type": "code",
   "execution_count": null,
   "metadata": {},
   "outputs": [],
   "source": [
    "check_sign(0)"
   ]
  },
  {
   "cell_type": "markdown",
   "metadata": {},
   "source": [
    "В данном случае мы просто печатем строку. Но если мы хотим, чтобы эту строку можно было использовать где-то еще, ее лучше возвращать при помощи слова return"
   ]
  },
  {
   "cell_type": "code",
   "execution_count": null,
   "metadata": {},
   "outputs": [],
   "source": [
    "def check_sign_with_return(var):\n",
    "    if var > 0: \n",
    "        return 'Число больше нуля'\n",
    "\n",
    "    elif var == 0:\n",
    "        return 'Число равно нулю'\n",
    "\n",
    "    else:\n",
    "        return \"Число меньше нуля\""
   ]
  },
  {
   "cell_type": "code",
   "execution_count": null,
   "metadata": {},
   "outputs": [],
   "source": [
    "check_sign_with_return(0)"
   ]
  },
  {
   "cell_type": "markdown",
   "metadata": {},
   "source": [
    "Часто в функции используются как аргументы внутри других функций.\n",
    "\n",
    "Функция map применяет какое-то действие к каждому элементу массива (примерно так же как мы делали это с циклами). На вход эта функция принимает другую функцию и массив (как правило это список или кортеж).\n",
    "\n",
    "Сначала создадим функцию, которая будет использоваться внутри функции map"
   ]
  },
  {
   "cell_type": "code",
   "execution_count": null,
   "metadata": {},
   "outputs": [],
   "source": [
    "# Функция просто возводит число в квадрат\n",
    "def square(x):\n",
    "    return x ** 2"
   ]
  },
  {
   "cell_type": "code",
   "execution_count": null,
   "metadata": {},
   "outputs": [],
   "source": [
    "square(9)"
   ]
  },
  {
   "cell_type": "code",
   "execution_count": null,
   "metadata": {},
   "outputs": [],
   "source": [
    "square(-28)"
   ]
  },
  {
   "cell_type": "code",
   "execution_count": null,
   "metadata": {},
   "outputs": [],
   "source": [
    "num_lst = [0, 3, 5, 2, -1, -8, 43, -1, 0]\n",
    "\n",
    "# Внутрь map мы передаем название функции и список\n",
    "# В итоге каждое число возводится в квадрат\n",
    "list(map(square, num_lst))"
   ]
  },
  {
   "cell_type": "markdown",
   "metadata": {},
   "source": [
    "В пандасе мы будем часто использовать функции внутри других функций и методов. Однако сейчас у нас функция для расчета квадрата числа очень простая. И выделять для нее отдельно 2 строки - это слишком напряжно и сложно. Вместо этого внутри функции map можно использовать лямбда функции. Это те же самые функции, но внутри них нельзя создавать переменные. Для того, чтобы их использовать мы пишем lambda, затем мы указываем название любой переменной, ставим двоеточие и возваращаем эту переменную, возводя ее в квадрат. В итоге получае тот же самый результат."
   ]
  },
  {
   "cell_type": "code",
   "execution_count": null,
   "metadata": {},
   "outputs": [],
   "source": [
    "list(map(lambda x: x ** 2, num_lst))"
   ]
  },
  {
   "cell_type": "markdown",
   "metadata": {},
   "source": [
    "Тема функция относительно сложна, но в то же время она очень важна. Поэтому лучше ознакомиться с ними более подробно. Сдалать это вы пожете [здесь](https://pythonworld.ru/tipy-dannyx-v-python/vse-o-funkciyax-i-ix-argumentax.html), [здесь](https://www.youtube.com/watch?v=DJAlfolEv9A&pp=ygUV0YTRg9C90LrRhtC40LggcHl0aG9u) и [здесь](https://www.youtube.com/watch?v=NUrEyTW4JuU)"
   ]
  },
  {
   "cell_type": "code",
   "execution_count": null,
   "metadata": {},
   "outputs": [],
   "source": []
  },
  {
   "cell_type": "code",
   "execution_count": null,
   "metadata": {},
   "outputs": [],
   "source": []
  },
  {
   "cell_type": "code",
   "execution_count": null,
   "metadata": {},
   "outputs": [],
   "source": []
  },
  {
   "cell_type": "code",
   "execution_count": null,
   "metadata": {},
   "outputs": [],
   "source": []
  },
  {
   "cell_type": "code",
   "execution_count": null,
   "metadata": {},
   "outputs": [],
   "source": []
  }
 ],
 "metadata": {
  "kernelspec": {
   "display_name": "Python 3 (ipykernel)",
   "language": "python",
   "name": "python3"
  },
  "language_info": {
   "codemirror_mode": {
    "name": "ipython",
    "version": 3
   },
   "file_extension": ".py",
   "mimetype": "text/x-python",
   "name": "python",
   "nbconvert_exporter": "python",
   "pygments_lexer": "ipython3",
   "version": "3.11.5"
  }
 },
 "nbformat": 4,
 "nbformat_minor": 2
}
