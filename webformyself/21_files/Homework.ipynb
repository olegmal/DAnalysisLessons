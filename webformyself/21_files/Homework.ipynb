{
 "cells": [
  {
   "cell_type": "markdown",
   "metadata": {},
   "source": [
    "## Homework\n",
    "1. Прочесть в датафрейм `df` файл `price.csv`.\n",
    "2. Извлечь в колонку `brand` название бренда из колонки `title`.\n",
    "3. Записать уникальные бренды в словарь формата `'brand': '№ п/п'`, где порядковый номер начинается с единицы: `{'Acer': 1, 'Asus': 2, 'HP': 3, 'Dell': 4, 'Apple': 5, 'Lenovo': 6}` (функция enumerate).\n",
    "4. Используя полученный словарь, создать колонку `brand_id`, в которую записать соответствующее значение словаря (на основе колонки `brand` и ключа словаря).\n",
    "5. Создать новый датафрейм `df_brands` из столбцов `brand_id` и `brand`, удалив при этом дубли (метод drop_duplicates).\n",
    "6. Удалить из датафрейма `df` столбец `brand`.\n",
    "7. Сохранить в файл `products.csv` датафрейм `df` (без индексов, разделитель - ;).\n",
    "8. Сохранить в файл `brands.csv` датафрейм `df_brands` (без индексов, разделитель - ;)."
   ]
  },
  {
   "cell_type": "code",
   "execution_count": null,
   "metadata": {},
   "outputs": [],
   "source": []
  }
 ],
 "metadata": {
  "kernelspec": {
   "display_name": "Python 3",
   "language": "python",
   "name": "python3"
  },
  "language_info": {
   "codemirror_mode": {
    "name": "ipython",
    "version": 3
   },
   "file_extension": ".py",
   "mimetype": "text/x-python",
   "name": "python",
   "nbconvert_exporter": "python",
   "pygments_lexer": "ipython3",
   "version": "3.8.3"
  }
 },
 "nbformat": 4,
 "nbformat_minor": 4
}
