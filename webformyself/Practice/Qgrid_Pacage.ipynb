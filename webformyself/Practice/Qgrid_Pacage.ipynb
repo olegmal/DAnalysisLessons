{
 "cells": [
  {
   "cell_type": "code",
   "execution_count": 1,
   "id": "2bcbbc23-c57a-468a-919a-23fd571bda1c",
   "metadata": {},
   "outputs": [],
   "source": [
    "import pandas as pd"
   ]
  },
  {
   "cell_type": "code",
   "execution_count": 2,
   "id": "b0fa3a25-2091-4245-bb39-164d7d3d3349",
   "metadata": {},
   "outputs": [
    {
     "data": {
      "text/html": [
       "<div>\n",
       "<style scoped>\n",
       "    .dataframe tbody tr th:only-of-type {\n",
       "        vertical-align: middle;\n",
       "    }\n",
       "\n",
       "    .dataframe tbody tr th {\n",
       "        vertical-align: top;\n",
       "    }\n",
       "\n",
       "    .dataframe thead th {\n",
       "        text-align: right;\n",
       "    }\n",
       "</style>\n",
       "<table border=\"1\" class=\"dataframe\">\n",
       "  <thead>\n",
       "    <tr style=\"text-align: right;\">\n",
       "      <th></th>\n",
       "      <th>ID</th>\n",
       "      <th>Name</th>\n",
       "      <th>CountryCode</th>\n",
       "      <th>District</th>\n",
       "      <th>Population</th>\n",
       "    </tr>\n",
       "  </thead>\n",
       "  <tbody>\n",
       "    <tr>\n",
       "      <th>0</th>\n",
       "      <td>1</td>\n",
       "      <td>Kabul</td>\n",
       "      <td>AFG</td>\n",
       "      <td>Kabol</td>\n",
       "      <td>1780000</td>\n",
       "    </tr>\n",
       "    <tr>\n",
       "      <th>1</th>\n",
       "      <td>2</td>\n",
       "      <td>Qandahar</td>\n",
       "      <td>AFG</td>\n",
       "      <td>Qandahar</td>\n",
       "      <td>237500</td>\n",
       "    </tr>\n",
       "    <tr>\n",
       "      <th>2</th>\n",
       "      <td>3</td>\n",
       "      <td>Herat</td>\n",
       "      <td>AFG</td>\n",
       "      <td>Herat</td>\n",
       "      <td>186800</td>\n",
       "    </tr>\n",
       "    <tr>\n",
       "      <th>3</th>\n",
       "      <td>4</td>\n",
       "      <td>Mazar-e-Sharif</td>\n",
       "      <td>AFG</td>\n",
       "      <td>Balkh</td>\n",
       "      <td>127800</td>\n",
       "    </tr>\n",
       "    <tr>\n",
       "      <th>4</th>\n",
       "      <td>5</td>\n",
       "      <td>Amsterdam</td>\n",
       "      <td>NLD</td>\n",
       "      <td>Noord-Holland</td>\n",
       "      <td>731200</td>\n",
       "    </tr>\n",
       "    <tr>\n",
       "      <th>...</th>\n",
       "      <td>...</td>\n",
       "      <td>...</td>\n",
       "      <td>...</td>\n",
       "      <td>...</td>\n",
       "      <td>...</td>\n",
       "    </tr>\n",
       "    <tr>\n",
       "      <th>4074</th>\n",
       "      <td>4075</td>\n",
       "      <td>Khan Yunis</td>\n",
       "      <td>PSE</td>\n",
       "      <td>Khan Yunis</td>\n",
       "      <td>123175</td>\n",
       "    </tr>\n",
       "    <tr>\n",
       "      <th>4075</th>\n",
       "      <td>4076</td>\n",
       "      <td>Hebron</td>\n",
       "      <td>PSE</td>\n",
       "      <td>Hebron</td>\n",
       "      <td>119401</td>\n",
       "    </tr>\n",
       "    <tr>\n",
       "      <th>4076</th>\n",
       "      <td>4077</td>\n",
       "      <td>Jabaliya</td>\n",
       "      <td>PSE</td>\n",
       "      <td>North Gaza</td>\n",
       "      <td>113901</td>\n",
       "    </tr>\n",
       "    <tr>\n",
       "      <th>4077</th>\n",
       "      <td>4078</td>\n",
       "      <td>Nablus</td>\n",
       "      <td>PSE</td>\n",
       "      <td>Nablus</td>\n",
       "      <td>100231</td>\n",
       "    </tr>\n",
       "    <tr>\n",
       "      <th>4078</th>\n",
       "      <td>4079</td>\n",
       "      <td>Rafah</td>\n",
       "      <td>PSE</td>\n",
       "      <td>Rafah</td>\n",
       "      <td>92020</td>\n",
       "    </tr>\n",
       "  </tbody>\n",
       "</table>\n",
       "<p>4079 rows × 5 columns</p>\n",
       "</div>"
      ],
      "text/plain": [
       "        ID            Name CountryCode       District  Population\n",
       "0        1           Kabul         AFG          Kabol     1780000\n",
       "1        2        Qandahar         AFG       Qandahar      237500\n",
       "2        3           Herat         AFG          Herat      186800\n",
       "3        4  Mazar-e-Sharif         AFG          Balkh      127800\n",
       "4        5       Amsterdam         NLD  Noord-Holland      731200\n",
       "...    ...             ...         ...            ...         ...\n",
       "4074  4075      Khan Yunis         PSE     Khan Yunis      123175\n",
       "4075  4076          Hebron         PSE         Hebron      119401\n",
       "4076  4077        Jabaliya         PSE     North Gaza      113901\n",
       "4077  4078          Nablus         PSE         Nablus      100231\n",
       "4078  4079           Rafah         PSE          Rafah       92020\n",
       "\n",
       "[4079 rows x 5 columns]"
      ]
     },
     "execution_count": 2,
     "metadata": {},
     "output_type": "execute_result"
    }
   ],
   "source": [
    "df = pd.read_csv('city.csv', sep=';')\n",
    "df"
   ]
  },
  {
   "cell_type": "code",
   "execution_count": 4,
   "id": "1946b82c-6753-45e1-9da5-b099597f66ff",
   "metadata": {},
   "outputs": [
    {
     "name": "stdout",
     "output_type": "stream",
     "text": [
      "Requirement already satisfied: qgridnext in d:\\pythonproject\\webformyself\\venv\\lib\\site-packages (2.0.1)\n",
      "Requirement already satisfied: pandas>=0.20.0 in d:\\pythonproject\\webformyself\\venv\\lib\\site-packages (from qgridnext) (2.2.3)\n",
      "Requirement already satisfied: ipywidgets>=7.0.0 in d:\\pythonproject\\webformyself\\venv\\lib\\site-packages (from qgridnext) (8.1.5)\n",
      "Requirement already satisfied: numpy<2 in d:\\pythonproject\\webformyself\\venv\\lib\\site-packages (from qgridnext) (1.26.4)\n",
      "Requirement already satisfied: traitlets<6 in d:\\pythonproject\\webformyself\\venv\\lib\\site-packages (from qgridnext) (5.14.3)\n",
      "Requirement already satisfied: comm>=0.1.3 in d:\\pythonproject\\webformyself\\venv\\lib\\site-packages (from ipywidgets>=7.0.0->qgridnext) (0.2.2)\n",
      "Requirement already satisfied: ipython>=6.1.0 in d:\\pythonproject\\webformyself\\venv\\lib\\site-packages (from ipywidgets>=7.0.0->qgridnext) (8.27.0)\n",
      "Requirement already satisfied: widgetsnbextension~=4.0.12 in d:\\pythonproject\\webformyself\\venv\\lib\\site-packages (from ipywidgets>=7.0.0->qgridnext) (4.0.13)\n",
      "Requirement already satisfied: jupyterlab-widgets~=3.0.12 in d:\\pythonproject\\webformyself\\venv\\lib\\site-packages (from ipywidgets>=7.0.0->qgridnext) (3.0.13)\n",
      "Requirement already satisfied: python-dateutil>=2.8.2 in d:\\pythonproject\\webformyself\\venv\\lib\\site-packages (from pandas>=0.20.0->qgridnext) (2.9.0.post0)\n",
      "Requirement already satisfied: pytz>=2020.1 in d:\\pythonproject\\webformyself\\venv\\lib\\site-packages (from pandas>=0.20.0->qgridnext) (2024.2)\n",
      "Requirement already satisfied: tzdata>=2022.7 in d:\\pythonproject\\webformyself\\venv\\lib\\site-packages (from pandas>=0.20.0->qgridnext) (2024.1)\n",
      "Requirement already satisfied: decorator in d:\\pythonproject\\webformyself\\venv\\lib\\site-packages (from ipython>=6.1.0->ipywidgets>=7.0.0->qgridnext) (5.1.1)\n",
      "Requirement already satisfied: jedi>=0.16 in d:\\pythonproject\\webformyself\\venv\\lib\\site-packages (from ipython>=6.1.0->ipywidgets>=7.0.0->qgridnext) (0.19.1)\n",
      "Requirement already satisfied: matplotlib-inline in d:\\pythonproject\\webformyself\\venv\\lib\\site-packages (from ipython>=6.1.0->ipywidgets>=7.0.0->qgridnext) (0.1.7)\n",
      "Requirement already satisfied: prompt-toolkit<3.1.0,>=3.0.41 in d:\\pythonproject\\webformyself\\venv\\lib\\site-packages (from ipython>=6.1.0->ipywidgets>=7.0.0->qgridnext) (3.0.47)\n",
      "Requirement already satisfied: pygments>=2.4.0 in d:\\pythonproject\\webformyself\\venv\\lib\\site-packages (from ipython>=6.1.0->ipywidgets>=7.0.0->qgridnext) (2.18.0)\n",
      "Requirement already satisfied: stack-data in d:\\pythonproject\\webformyself\\venv\\lib\\site-packages (from ipython>=6.1.0->ipywidgets>=7.0.0->qgridnext) (0.6.3)\n",
      "Requirement already satisfied: colorama in d:\\pythonproject\\webformyself\\venv\\lib\\site-packages (from ipython>=6.1.0->ipywidgets>=7.0.0->qgridnext) (0.4.6)\n",
      "Requirement already satisfied: six>=1.5 in d:\\pythonproject\\webformyself\\venv\\lib\\site-packages (from python-dateutil>=2.8.2->pandas>=0.20.0->qgridnext) (1.16.0)\n",
      "Requirement already satisfied: parso<0.9.0,>=0.8.3 in d:\\pythonproject\\webformyself\\venv\\lib\\site-packages (from jedi>=0.16->ipython>=6.1.0->ipywidgets>=7.0.0->qgridnext) (0.8.4)\n",
      "Requirement already satisfied: wcwidth in d:\\pythonproject\\webformyself\\venv\\lib\\site-packages (from prompt-toolkit<3.1.0,>=3.0.41->ipython>=6.1.0->ipywidgets>=7.0.0->qgridnext) (0.2.13)\n",
      "Requirement already satisfied: executing>=1.2.0 in d:\\pythonproject\\webformyself\\venv\\lib\\site-packages (from stack-data->ipython>=6.1.0->ipywidgets>=7.0.0->qgridnext) (2.1.0)\n",
      "Requirement already satisfied: asttokens>=2.1.0 in d:\\pythonproject\\webformyself\\venv\\lib\\site-packages (from stack-data->ipython>=6.1.0->ipywidgets>=7.0.0->qgridnext) (2.4.1)\n",
      "Requirement already satisfied: pure-eval in d:\\pythonproject\\webformyself\\venv\\lib\\site-packages (from stack-data->ipython>=6.1.0->ipywidgets>=7.0.0->qgridnext) (0.2.3)\n",
      "Note: you may need to restart the kernel to use updated packages.\n"
     ]
    }
   ],
   "source": [
    "pip install qgridnext"
   ]
  },
  {
   "cell_type": "code",
   "execution_count": 6,
   "id": "9477a881-e804-4700-802b-94a4c14af88f",
   "metadata": {},
   "outputs": [],
   "source": [
    "import qgridnext"
   ]
  },
  {
   "cell_type": "code",
   "execution_count": 7,
   "id": "1081013d-5e0c-4d7e-b882-6c535ccc97e5",
   "metadata": {},
   "outputs": [],
   "source": [
    "from qgridnext import show_grid"
   ]
  },
  {
   "cell_type": "code",
   "execution_count": 9,
   "id": "24ab4ce2-2719-4c2e-a6cd-deca37cfd772",
   "metadata": {},
   "outputs": [
    {
     "data": {
      "application/vnd.jupyter.widget-view+json": {
       "model_id": "92e35c629c4249cf9aae1d4118a9571f",
       "version_major": 2,
       "version_minor": 0
      },
      "text/plain": [
       "QgridWidget(grid_options={'fullWidthRows': True, 'syncColumnCellResize': True, 'forceFitColumns': True, 'defau…"
      ]
     },
     "execution_count": 9,
     "metadata": {},
     "output_type": "execute_result"
    }
   ],
   "source": [
    "show_grid(df, show_toolbar=True)"
   ]
  },
  {
   "cell_type": "code",
   "execution_count": null,
   "id": "adb6e0ed-f9a3-48e8-956e-cdf0bc672a79",
   "metadata": {},
   "outputs": [],
   "source": []
  }
 ],
 "metadata": {
  "kernelspec": {
   "display_name": "Python 3 (ipykernel)",
   "language": "python",
   "name": "python3"
  },
  "language_info": {
   "codemirror_mode": {
    "name": "ipython",
    "version": 3
   },
   "file_extension": ".py",
   "mimetype": "text/x-python",
   "name": "python",
   "nbconvert_exporter": "python",
   "pygments_lexer": "ipython3",
   "version": "3.12.6"
  }
 },
 "nbformat": 4,
 "nbformat_minor": 5
}
