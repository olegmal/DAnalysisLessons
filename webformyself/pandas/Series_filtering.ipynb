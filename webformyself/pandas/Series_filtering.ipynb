{
 "cells": [
  {
   "cell_type": "code",
   "execution_count": 1,
   "id": "a448b8c9-acfd-48da-b4ef-5c974be97462",
   "metadata": {},
   "outputs": [],
   "source": [
    "import pandas as pd"
   ]
  },
  {
   "cell_type": "code",
   "execution_count": 2,
   "id": "511a4dc5-8a43-4e27-b24d-73f7e3ace2f1",
   "metadata": {},
   "outputs": [
    {
     "data": {
      "text/plain": [
       "Dnepr     1000000\n",
       "Kiev      4000000\n",
       "Paris     2300000\n",
       "Berlin    3800000\n",
       "dtype: int64"
      ]
     },
     "execution_count": 2,
     "metadata": {},
     "output_type": "execute_result"
    }
   ],
   "source": [
    "cities = pd.Series({'Dnepr': 1000000, 'Kiev': 4000000, 'Paris': 2300000, 'Berlin': 3800000})\n",
    "cities"
   ]
  },
  {
   "cell_type": "code",
   "execution_count": 3,
   "id": "e2c6d679-a4f9-4150-9d62-992b0a13f5e5",
   "metadata": {},
   "outputs": [
    {
     "data": {
      "text/plain": [
       "Dnepr     1000000.0\n",
       "Paris     2300000.0\n",
       "Berlin    3800000.0\n",
       "Milano          NaN\n",
       "dtype: float64"
      ]
     },
     "execution_count": 3,
     "metadata": {},
     "output_type": "execute_result"
    }
   ],
   "source": [
    "cities2 = pd.Series({'Dnepr': 1000000, 'Kiev': 4000000, 'Paris': 2300000, 'Berlin': 3800000},\n",
    "                   index=['Dnepr', 'Paris', 'Berlin', 'Milano'])\n",
    "cities2"
   ]
  },
  {
   "cell_type": "code",
   "execution_count": 9,
   "id": "26faaeb2-14de-4c86-9954-c556a59ef1d7",
   "metadata": {},
   "outputs": [],
   "source": [
    "test = pd.Series([1, 2, 3], index=['a', 'b', 'c'])\n",
    "test2 = pd.Series([4, 5, 6, 7], index=['a', 'b', 'c', 'd'])"
   ]
  },
  {
   "cell_type": "code",
   "execution_count": 10,
   "id": "608d6ae1-6da8-43bb-9eac-32e313d1278c",
   "metadata": {},
   "outputs": [
    {
     "data": {
      "text/plain": [
       "a    5.0\n",
       "b    7.0\n",
       "c    9.0\n",
       "d    NaN\n",
       "dtype: float64"
      ]
     },
     "execution_count": 10,
     "metadata": {},
     "output_type": "execute_result"
    }
   ],
   "source": [
    "test+test2"
   ]
  },
  {
   "cell_type": "code",
   "execution_count": 11,
   "id": "f64e7c62-8b06-48f5-a2a4-c341377c19e4",
   "metadata": {},
   "outputs": [
    {
     "data": {
      "text/plain": [
       "a    5.0\n",
       "b    7.0\n",
       "c    9.0\n",
       "d    7.0\n",
       "dtype: float64"
      ]
     },
     "execution_count": 11,
     "metadata": {},
     "output_type": "execute_result"
    }
   ],
   "source": [
    "test.add(test2, fill_value=0)"
   ]
  },
  {
   "cell_type": "markdown",
   "id": "7e9df69f-0471-42e3-9300-d99cc4b8512b",
   "metadata": {},
   "source": [
    "Фільтрування даних:"
   ]
  },
  {
   "cell_type": "code",
   "execution_count": 12,
   "id": "f6d288ef-e2c6-42de-926b-c689be8f4b5d",
   "metadata": {},
   "outputs": [
    {
     "data": {
      "text/plain": [
       "Dnepr     1000000.0\n",
       "Paris     2300000.0\n",
       "Berlin    3800000.0\n",
       "Milano          NaN\n",
       "dtype: float64"
      ]
     },
     "execution_count": 12,
     "metadata": {},
     "output_type": "execute_result"
    }
   ],
   "source": [
    "cities2 = pd.Series({'Dnepr': 1000000, 'Kiev': 4000000, 'Paris': 2300000, 'Berlin': 3800000},\n",
    "                   index=['Dnepr', 'Paris', 'Berlin', 'Milano'])\n",
    "cities2"
   ]
  },
  {
   "cell_type": "code",
   "execution_count": 13,
   "id": "4708648b-f5ae-4c27-9310-4d1b35e0b4bc",
   "metadata": {},
   "outputs": [
    {
     "data": {
      "text/plain": [
       "Dnepr     False\n",
       "Paris     False\n",
       "Berlin    False\n",
       "Milano     True\n",
       "dtype: bool"
      ]
     },
     "execution_count": 13,
     "metadata": {},
     "output_type": "execute_result"
    }
   ],
   "source": [
    "cities2.isnull()"
   ]
  },
  {
   "cell_type": "code",
   "execution_count": 14,
   "id": "ad1fd054-c33b-42cd-b7ab-9f2ac52d8eb9",
   "metadata": {},
   "outputs": [
    {
     "data": {
      "text/plain": [
       "Dnepr      True\n",
       "Paris      True\n",
       "Berlin     True\n",
       "Milano    False\n",
       "dtype: bool"
      ]
     },
     "execution_count": 14,
     "metadata": {},
     "output_type": "execute_result"
    }
   ],
   "source": [
    "cities2.notnull()"
   ]
  },
  {
   "cell_type": "code",
   "execution_count": 15,
   "id": "0810541d-0ba7-46ea-996c-5cad37122267",
   "metadata": {},
   "outputs": [
    {
     "data": {
      "text/plain": [
       "Dnepr     False\n",
       "Paris      True\n",
       "Berlin     True\n",
       "Milano    False\n",
       "dtype: bool"
      ]
     },
     "execution_count": 15,
     "metadata": {},
     "output_type": "execute_result"
    }
   ],
   "source": [
    "cities2>1000000"
   ]
  },
  {
   "cell_type": "code",
   "execution_count": 17,
   "id": "71c149a7-25c7-4489-b244-6482f51e3665",
   "metadata": {},
   "outputs": [
    {
     "data": {
      "text/plain": [
       "Milano   NaN\n",
       "dtype: float64"
      ]
     },
     "execution_count": 17,
     "metadata": {},
     "output_type": "execute_result"
    }
   ],
   "source": [
    "cities2[cities2.isnull()]"
   ]
  },
  {
   "cell_type": "code",
   "execution_count": 18,
   "id": "7b89dfa2-1845-48bc-8ec9-b1b0680b41e1",
   "metadata": {},
   "outputs": [
    {
     "data": {
      "text/plain": [
       "Dnepr     1000000.0\n",
       "Paris     2300000.0\n",
       "Berlin    3800000.0\n",
       "dtype: float64"
      ]
     },
     "execution_count": 18,
     "metadata": {},
     "output_type": "execute_result"
    }
   ],
   "source": [
    "cities2[cities2.notnull()]"
   ]
  },
  {
   "cell_type": "code",
   "execution_count": 19,
   "id": "14eeff9d-b055-487b-ab76-b54e0bd2d8a9",
   "metadata": {},
   "outputs": [
    {
     "data": {
      "text/plain": [
       "Paris     2300000.0\n",
       "Berlin    3800000.0\n",
       "dtype: float64"
      ]
     },
     "execution_count": 19,
     "metadata": {},
     "output_type": "execute_result"
    }
   ],
   "source": [
    "cities2[cities2>1000000]"
   ]
  },
  {
   "cell_type": "code",
   "execution_count": 21,
   "id": "b985daee-88b5-40ef-947d-cae01d814b21",
   "metadata": {},
   "outputs": [
    {
     "data": {
      "text/plain": [
       "Paris    2300000.0\n",
       "dtype: float64"
      ]
     },
     "execution_count": 21,
     "metadata": {},
     "output_type": "execute_result"
    }
   ],
   "source": [
    "cities2[(cities2>1000000) & (cities2 < 3000000)]"
   ]
  },
  {
   "cell_type": "code",
   "execution_count": 23,
   "id": "c1a60fff-d1c5-4049-a6cd-a54db08a5f52",
   "metadata": {},
   "outputs": [
    {
     "data": {
      "text/plain": [
       "Berlin    3800000.0\n",
       "dtype: float64"
      ]
     },
     "execution_count": 23,
     "metadata": {},
     "output_type": "execute_result"
    }
   ],
   "source": [
    "cities2[(cities2 > 3000000)&(cities2.notnull())]"
   ]
  },
  {
   "cell_type": "code",
   "execution_count": 24,
   "id": "012325a4-0e1b-43ce-8d9b-80a0988a81e5",
   "metadata": {},
   "outputs": [
    {
     "name": "stdout",
     "output_type": "stream",
     "text": [
      "Index: Dnepr, Value: 1000000.0\n",
      "Index: Paris, Value: 2300000.0\n",
      "Index: Berlin, Value: 3800000.0\n",
      "Index: Milano, Value: nan\n"
     ]
    }
   ],
   "source": [
    "for index, value in cities2.items():\n",
    "    print(f'Index: {index}, Value: {value}')"
   ]
  },
  {
   "cell_type": "code",
   "execution_count": 25,
   "id": "5e0ab646-b4d7-4eb7-a98e-9ec80305576a",
   "metadata": {},
   "outputs": [
    {
     "data": {
      "text/plain": [
       "Dnepr     1000000.0\n",
       "Paris     2300000.0\n",
       "Berlin    3800000.0\n",
       "Milano          NaN\n",
       "dtype: float64"
      ]
     },
     "execution_count": 25,
     "metadata": {},
     "output_type": "execute_result"
    }
   ],
   "source": [
    "cities = pd.Series({'Dnepr': 1000000, 'Kiev': 4000000, 'Paris': 2300000, 'Berlin': 3800000},\n",
    "                   index=['Dnepr', 'Paris', 'Berlin', 'Milano'])\n",
    "cities"
   ]
  },
  {
   "cell_type": "markdown",
   "id": "edb59540-2d70-450a-8f0b-b57cd87683f6",
   "metadata": {},
   "source": [
    "Сколько строк в таблице:"
   ]
  },
  {
   "cell_type": "code",
   "execution_count": 27,
   "id": "d5059ba5-eb53-45ea-8c8b-2849f90e344e",
   "metadata": {},
   "outputs": [
    {
     "data": {
      "text/plain": [
       "4"
      ]
     },
     "execution_count": 27,
     "metadata": {},
     "output_type": "execute_result"
    }
   ],
   "source": [
    "len(cities)"
   ]
  },
  {
   "cell_type": "code",
   "execution_count": 28,
   "id": "e1135ae8-5f77-4e3e-aa4b-fd89f4faf4da",
   "metadata": {},
   "outputs": [
    {
     "data": {
      "text/plain": [
       "(4,)"
      ]
     },
     "execution_count": 28,
     "metadata": {},
     "output_type": "execute_result"
    }
   ],
   "source": [
    "cities.shape"
   ]
  },
  {
   "cell_type": "markdown",
   "id": "5a75be81-38f7-46ca-ae66-9370015f0c87",
   "metadata": {},
   "source": [
    "Метод count() не учитывает значения Nan, null"
   ]
  },
  {
   "cell_type": "code",
   "execution_count": 31,
   "id": "c9a77392-875c-440f-929f-601e9aba0e3f",
   "metadata": {},
   "outputs": [
    {
     "data": {
      "text/plain": [
       "np.int64(3)"
      ]
     },
     "execution_count": 31,
     "metadata": {},
     "output_type": "execute_result"
    }
   ],
   "source": [
    "cities.count() "
   ]
  },
  {
   "cell_type": "code",
   "execution_count": 30,
   "id": "4a76685e-9cf2-4213-94e5-e64d96944fbc",
   "metadata": {},
   "outputs": [
    {
     "data": {
      "text/plain": [
       "4"
      ]
     },
     "execution_count": 30,
     "metadata": {},
     "output_type": "execute_result"
    }
   ],
   "source": [
    "cities.size"
   ]
  },
  {
   "cell_type": "code",
   "execution_count": 32,
   "id": "3e82401f-cc02-48b3-8eb1-361997299618",
   "metadata": {},
   "outputs": [],
   "source": [
    "cities2 = cities "
   ]
  },
  {
   "cell_type": "code",
   "execution_count": 34,
   "id": "a7468340-7895-459f-bc4e-b61ff0812de7",
   "metadata": {},
   "outputs": [
    {
     "data": {
      "text/plain": [
       "Dnepr     1000000.0\n",
       "Paris     2300000.0\n",
       "Berlin    3800000.0\n",
       "Milano    3200000.0\n",
       "dtype: float64"
      ]
     },
     "execution_count": 34,
     "metadata": {},
     "output_type": "execute_result"
    }
   ],
   "source": [
    "cities2.at['Milano'] = 3200000\n",
    "cities2"
   ]
  },
  {
   "cell_type": "code",
   "execution_count": 35,
   "id": "b8f76fac-e694-4a77-a6f3-7479786eaf4c",
   "metadata": {},
   "outputs": [
    {
     "data": {
      "text/plain": [
       "Dnepr     1000000.0\n",
       "Paris     2300000.0\n",
       "Berlin    3800000.0\n",
       "Milano    3200000.0\n",
       "dtype: float64"
      ]
     },
     "execution_count": 35,
     "metadata": {},
     "output_type": "execute_result"
    }
   ],
   "source": [
    "cities3 = cities.copy()\n",
    "cities3"
   ]
  },
  {
   "cell_type": "markdown",
   "id": "33dfcbd3-05e3-4731-b6e3-05f883d7d38d",
   "metadata": {},
   "source": [
    "DATA AGREGATION"
   ]
  },
  {
   "cell_type": "code",
   "execution_count": 36,
   "id": "8babd946-ee24-4cec-a6ad-9aba0fe2ecba",
   "metadata": {},
   "outputs": [
    {
     "data": {
      "text/plain": [
       "np.float64(1000000.0)"
      ]
     },
     "execution_count": 36,
     "metadata": {},
     "output_type": "execute_result"
    }
   ],
   "source": [
    "cities.agg('min')"
   ]
  },
  {
   "cell_type": "code",
   "execution_count": 37,
   "id": "68b75a64-6512-4c60-8aad-16f57193cc4b",
   "metadata": {},
   "outputs": [
    {
     "data": {
      "text/plain": [
       "np.float64(3800000.0)"
      ]
     },
     "execution_count": 37,
     "metadata": {},
     "output_type": "execute_result"
    }
   ],
   "source": [
    "cities.agg('max')"
   ]
  },
  {
   "cell_type": "code",
   "execution_count": 39,
   "id": "a2dcc91f-443b-47f1-83df-a1e671b157e4",
   "metadata": {},
   "outputs": [
    {
     "data": {
      "text/plain": [
       "np.float64(2575000.0)"
      ]
     },
     "execution_count": 39,
     "metadata": {},
     "output_type": "execute_result"
    }
   ],
   "source": [
    "cities.agg('mean')"
   ]
  },
  {
   "cell_type": "code",
   "execution_count": 40,
   "id": "ec2cfd22-1b1f-4d2e-85c0-8a17b79bb25f",
   "metadata": {},
   "outputs": [
    {
     "data": {
      "text/plain": [
       "np.float64(10300000.0)"
      ]
     },
     "execution_count": 40,
     "metadata": {},
     "output_type": "execute_result"
    }
   ],
   "source": [
    "cities.agg('sum')"
   ]
  },
  {
   "cell_type": "code",
   "execution_count": 41,
   "id": "6e4155a8-84f5-48d5-a7e3-790ce4b71ac4",
   "metadata": {},
   "outputs": [
    {
     "data": {
      "text/plain": [
       "np.float64(1000000.0)"
      ]
     },
     "execution_count": 41,
     "metadata": {},
     "output_type": "execute_result"
    }
   ],
   "source": [
    "cities.min()"
   ]
  },
  {
   "cell_type": "code",
   "execution_count": 42,
   "id": "88565f69-dc85-4d07-9258-00d9dbeab710",
   "metadata": {},
   "outputs": [
    {
     "data": {
      "text/plain": [
       "np.float64(3800000.0)"
      ]
     },
     "execution_count": 42,
     "metadata": {},
     "output_type": "execute_result"
    }
   ],
   "source": [
    "cities.max()"
   ]
  },
  {
   "cell_type": "code",
   "execution_count": 43,
   "id": "50c27720-eb92-4a61-8e7e-9100da89ed09",
   "metadata": {},
   "outputs": [
    {
     "data": {
      "text/plain": [
       "np.float64(2575000.0)"
      ]
     },
     "execution_count": 43,
     "metadata": {},
     "output_type": "execute_result"
    }
   ],
   "source": [
    "cities.mean()"
   ]
  },
  {
   "cell_type": "code",
   "execution_count": 46,
   "id": "2fe3d113-4f2c-485d-afd4-774681393ddd",
   "metadata": {},
   "outputs": [
    {
     "data": {
      "text/plain": [
       "min      1000000.0\n",
       "max      3800000.0\n",
       "mean     2575000.0\n",
       "sum     10300000.0\n",
       "dtype: float64"
      ]
     },
     "execution_count": 46,
     "metadata": {},
     "output_type": "execute_result"
    }
   ],
   "source": [
    "cities.agg(['min', 'max', 'mean', 'sum'])"
   ]
  },
  {
   "cell_type": "markdown",
   "id": "8888a30f-f3dc-484d-abee-25786eee5d64",
   "metadata": {},
   "source": [
    "METHOD 'APPLY'"
   ]
  },
  {
   "cell_type": "code",
   "execution_count": 47,
   "id": "0b54dc9a-7ce4-4a5b-b425-d80f37d8a176",
   "metadata": {},
   "outputs": [
    {
     "data": {
      "text/plain": [
       "0    1\n",
       "1    2\n",
       "2    3\n",
       "3    4\n",
       "dtype: int64"
      ]
     },
     "execution_count": 47,
     "metadata": {},
     "output_type": "execute_result"
    }
   ],
   "source": [
    "ds = pd.Series([1, 2, 3, 4])\n",
    "ds"
   ]
  },
  {
   "cell_type": "code",
   "execution_count": 50,
   "id": "42eac0bb-3b2e-4cbb-b48f-99608ffac2fb",
   "metadata": {},
   "outputs": [
    {
     "data": {
      "text/plain": [
       "0    1\n",
       "1    3\n",
       "2    3\n",
       "3    5\n",
       "dtype: int64"
      ]
     },
     "execution_count": 50,
     "metadata": {},
     "output_type": "execute_result"
    }
   ],
   "source": [
    "def test(x):\n",
    "    if not x % 2:\n",
    "        return x + 1\n",
    "    else:\n",
    "        return x\n",
    "\n",
    "ds.apply(test)"
   ]
  },
  {
   "cell_type": "code",
   "execution_count": 51,
   "id": "6d3f5d0b-604a-49da-a5d2-5d5f6c1070bb",
   "metadata": {},
   "outputs": [
    {
     "data": {
      "text/plain": [
       "0    1\n",
       "1    3\n",
       "2    3\n",
       "3    5\n",
       "dtype: int64"
      ]
     },
     "execution_count": 51,
     "metadata": {},
     "output_type": "execute_result"
    }
   ],
   "source": [
    "ds.apply(lambda x: x + 1 if not x % 2 else x)"
   ]
  },
  {
   "cell_type": "code",
   "execution_count": null,
   "id": "ec3cce55-b98f-4037-bb1a-9152c6997111",
   "metadata": {},
   "outputs": [],
   "source": []
  },
  {
   "cell_type": "code",
   "execution_count": null,
   "id": "b5680e61-32ee-4eb6-8cc0-3ec53ce43d6d",
   "metadata": {},
   "outputs": [],
   "source": []
  }
 ],
 "metadata": {
  "kernelspec": {
   "display_name": "Python 3 (ipykernel)",
   "language": "python",
   "name": "python3"
  },
  "language_info": {
   "codemirror_mode": {
    "name": "ipython",
    "version": 3
   },
   "file_extension": ".py",
   "mimetype": "text/x-python",
   "name": "python",
   "nbconvert_exporter": "python",
   "pygments_lexer": "ipython3",
   "version": "3.12.6"
  }
 },
 "nbformat": 4,
 "nbformat_minor": 5
}
