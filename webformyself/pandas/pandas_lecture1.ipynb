{
 "cells": [
  {
   "cell_type": "code",
   "execution_count": 1,
   "id": "7b5f2ec7-3554-41f3-bd03-0d5921ab99d5",
   "metadata": {},
   "outputs": [],
   "source": [
    "import pandas as pd"
   ]
  },
  {
   "cell_type": "code",
   "execution_count": 2,
   "id": "3f0fc7f9-f181-4315-b6f4-78b014ceea1b",
   "metadata": {},
   "outputs": [
    {
     "data": {
      "text/plain": [
       "'2.2.3'"
      ]
     },
     "execution_count": 2,
     "metadata": {},
     "output_type": "execute_result"
    }
   ],
   "source": [
    "pd.__version__"
   ]
  },
  {
   "cell_type": "markdown",
   "id": "bff29569-33eb-4899-9b2a-19384111fa43",
   "metadata": {},
   "source": [
    "Pandas' Series"
   ]
  },
  {
   "cell_type": "code",
   "execution_count": 3,
   "id": "727d9348-de31-4b54-a1c8-2342da394862",
   "metadata": {},
   "outputs": [
    {
     "data": {
      "text/plain": [
       "0    1\n",
       "1    2\n",
       "2    3\n",
       "3    4\n",
       "dtype: int64"
      ]
     },
     "execution_count": 3,
     "metadata": {},
     "output_type": "execute_result"
    }
   ],
   "source": [
    "ds1 = pd.Series([1, 2, 3, 4])\n",
    "ds1"
   ]
  },
  {
   "cell_type": "code",
   "execution_count": 4,
   "id": "3246f12b-0ffa-4313-a497-139a6139384d",
   "metadata": {},
   "outputs": [
    {
     "data": {
      "text/plain": [
       "array([1, 2, 3, 4])"
      ]
     },
     "execution_count": 4,
     "metadata": {},
     "output_type": "execute_result"
    }
   ],
   "source": [
    "# значения серии\n",
    "ds1.values"
   ]
  },
  {
   "cell_type": "code",
   "execution_count": 6,
   "id": "0bc10535-43bc-4322-8e86-338cd9d2c780",
   "metadata": {},
   "outputs": [
    {
     "data": {
      "text/plain": [
       "RangeIndex(start=0, stop=4, step=1)"
      ]
     },
     "execution_count": 6,
     "metadata": {},
     "output_type": "execute_result"
    }
   ],
   "source": [
    "# индексы\n",
    "ds1.index"
   ]
  },
  {
   "cell_type": "code",
   "execution_count": 9,
   "id": "efcd474e-f8b2-4e97-a845-5b91ac7f0cd0",
   "metadata": {},
   "outputs": [
    {
     "data": {
      "text/plain": [
       "a    1\n",
       "b    2\n",
       "c    3\n",
       "d    4\n",
       "dtype: int64"
      ]
     },
     "execution_count": 9,
     "metadata": {},
     "output_type": "execute_result"
    }
   ],
   "source": [
    "ds2 = pd.Series([1, 2, 3, 4], index = ['a', 'b', 'c', 'd'])\n",
    "ds2"
   ]
  },
  {
   "cell_type": "code",
   "execution_count": 10,
   "id": "ea4d7176-f6e1-4e0a-a3d9-dd0970970f79",
   "metadata": {},
   "outputs": [
    {
     "data": {
      "text/plain": [
       "a    1\n",
       "b    2\n",
       "c    3\n",
       "dtype: int64"
      ]
     },
     "execution_count": 10,
     "metadata": {},
     "output_type": "execute_result"
    }
   ],
   "source": [
    "ds3 = pd.Series({'a': 1, 'b': 2, 'c': 3})\n",
    "ds3"
   ]
  },
  {
   "cell_type": "code",
   "execution_count": null,
   "id": "23f79442-eb85-4080-b079-3f9abbb1c50b",
   "metadata": {},
   "outputs": [],
   "source": []
  }
 ],
 "metadata": {
  "kernelspec": {
   "display_name": "Python 3 (ipykernel)",
   "language": "python",
   "name": "python3"
  },
  "language_info": {
   "codemirror_mode": {
    "name": "ipython",
    "version": 3
   },
   "file_extension": ".py",
   "mimetype": "text/x-python",
   "name": "python",
   "nbconvert_exporter": "python",
   "pygments_lexer": "ipython3",
   "version": "3.12.6"
  }
 },
 "nbformat": 4,
 "nbformat_minor": 5
}
